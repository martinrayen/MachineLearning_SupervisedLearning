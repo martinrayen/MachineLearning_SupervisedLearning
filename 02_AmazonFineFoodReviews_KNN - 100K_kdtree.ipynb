{
 "cells": [
  {
   "cell_type": "code",
   "execution_count": null,
   "metadata": {},
   "outputs": [],
   "source": []
  },
  {
   "cell_type": "markdown",
   "metadata": {},
   "source": [
    "### Objective : \n",
    "#### To apply k-NN (K-Nearest Neighbors algorithm) on Amazon food reviews dataset for each of the                                    featurization           below : \n",
    "                  1. Bag Of Words (BoW)\n",
    "                  2. TermFrequency-InverseDocumentFrequency (TF-IDF)\n",
    "                  3. Avg-Word2Vec\n",
    "                  4. TFIDF-Word2Vec\n",
    "                  \n",
    "#### To determine the sentiment polarity, i,e.  Given a food review text, predict whether the score is Positive or Negative.\n",
    "#### NOTE :\n",
    "    1. Use kd-tree\n",
    "    2. Use timeseries based splitting (TBS) to split the dataset into Train (70%) and Test (30%) .\n",
    "    3. Apply 5-fold cross validation to find optimal 'k' in k-NN .\n",
    "    4. Compute and report the test accuracy for all the 4 type of vectorization mentioned above.\n",
    "    5. Sample size = 100K data points."
   ]
  },
  {
   "cell_type": "code",
   "execution_count": null,
   "metadata": {},
   "outputs": [],
   "source": []
  },
  {
   "cell_type": "markdown",
   "metadata": {},
   "source": [
    "#### Load the Pre-processed Amazon Reviews Dataset."
   ]
  },
  {
   "cell_type": "code",
   "execution_count": null,
   "metadata": {},
   "outputs": [],
   "source": []
  },
  {
   "cell_type": "code",
   "execution_count": 7,
   "metadata": {},
   "outputs": [],
   "source": [
    "# Copy the final cleaned text to csv file for resuse later.\n",
    "#final.to_csv('finalCleanedText.csv')"
   ]
  },
  {
   "cell_type": "code",
   "execution_count": 1,
   "metadata": {},
   "outputs": [
    {
     "name": "stdout",
     "output_type": "stream",
     "text": [
      "Requirement already satisfied: tqdm in c:\\programdata\\anaconda3\\lib\\site-packages\n"
     ]
    },
    {
     "name": "stderr",
     "output_type": "stream",
     "text": [
      "You are using pip version 9.0.1, however version 18.1 is available.\n",
      "You should consider upgrading via the 'python -m pip install --upgrade pip' command.\n"
     ]
    },
    {
     "name": "stdout",
     "output_type": "stream",
     "text": [
      "[nltk_data] Downloading package stopwords to C:\\Users\\Vijay\n",
      "[nltk_data]     Joseph\\AppData\\Roaming\\nltk_data...\n",
      "[nltk_data]   Package stopwords is already up-to-date!\n"
     ]
    },
    {
     "data": {
      "text/plain": [
       "True"
      ]
     },
     "execution_count": 1,
     "metadata": {},
     "output_type": "execute_result"
    }
   ],
   "source": [
    "%matplotlib inline\n",
    "import warnings\n",
    "warnings.filterwarnings(\"ignore\")\n",
    "\n",
    "import sqlite3\n",
    "import pandas as pd\n",
    "import numpy as np\n",
    "import nltk\n",
    "import string\n",
    "import matplotlib.pyplot as plt\n",
    "import seaborn as sns\n",
    "from sklearn.feature_extraction.text import TfidfTransformer\n",
    "from sklearn.feature_extraction.text import TfidfVectorizer\n",
    "\n",
    "from sklearn.feature_extraction.text import CountVectorizer\n",
    "from sklearn.metrics import confusion_matrix\n",
    "from sklearn import metrics\n",
    "from sklearn.metrics import roc_curve, auc\n",
    "from nltk.stem.porter import PorterStemmer\n",
    "\n",
    "import re\n",
    "# Tutorial about Python regular expressions: https://pymotw.com/2/re/\n",
    "import string\n",
    "from nltk.corpus import stopwords\n",
    "from nltk.stem import PorterStemmer\n",
    "from nltk.stem.wordnet import WordNetLemmatizer\n",
    "\n",
    "from gensim.models import Word2Vec\n",
    "from gensim.models import KeyedVectors\n",
    "\n",
    "# Install a pip package in the current Jupyter kernel\n",
    "import sys\n",
    "!{sys.executable} -m pip install tqdm\n",
    "\n",
    "from tqdm import tqdm # for displaying progress bar.\n",
    "\n",
    "import pickle\n",
    "\n",
    "import nltk\n",
    "nltk.download('stopwords')\n"
   ]
  },
  {
   "cell_type": "code",
   "execution_count": 2,
   "metadata": {},
   "outputs": [],
   "source": [
    "#Load the pre-processed Amazon food review dataset.\n",
    "final = pd.read_csv(\"finalCleanedText.csv\")"
   ]
  },
  {
   "cell_type": "markdown",
   "metadata": {},
   "source": [
    "#### Apply Time Based Sorting (TBS)."
   ]
  },
  {
   "cell_type": "code",
   "execution_count": 3,
   "metadata": {},
   "outputs": [],
   "source": [
    "# Add a new column for TimeStamp that is of Datetime datatype, since the dataset's time column is of \n",
    "# integer datatype.\n",
    "import datetime\n",
    "\n",
    "final_timesplit_10000    = final['Time']\n",
    "final_timesplit_10000    = final_timesplit_10000.apply(datetime.datetime.fromtimestamp)\n",
    "final['TimeSplit']       = final_timesplit_10000\n",
    "final_dataset            = final.sort_values(['TimeSplit'],ascending=False)"
   ]
  },
  {
   "cell_type": "code",
   "execution_count": 21,
   "metadata": {},
   "outputs": [],
   "source": [
    "#final_dataset[:1000]"
   ]
  },
  {
   "cell_type": "markdown",
   "metadata": {},
   "source": [
    "#### Sample the first 100K points based on time based sorting"
   ]
  },
  {
   "cell_type": "code",
   "execution_count": 5,
   "metadata": {},
   "outputs": [],
   "source": [
    "#Sample first 100K points after time based sorting\n",
    "final_10000 = final_dataset[:100000]\n",
    "# Store label info separately.\n",
    "label_10000 = final_10000['Score'][:100000]\n"
   ]
  },
  {
   "cell_type": "code",
   "execution_count": 6,
   "metadata": {},
   "outputs": [
    {
     "name": "stdout",
     "output_type": "stream",
     "text": [
      "(100000, 13)\n",
      "(100000,)\n"
     ]
    }
   ],
   "source": [
    "print(final_10000.shape)\n",
    "print(label_10000.shape)"
   ]
  },
  {
   "cell_type": "code",
   "execution_count": 7,
   "metadata": {},
   "outputs": [
    {
     "name": "stdout",
     "output_type": "stream",
     "text": [
      "262240    positive\n",
      "33119     positive\n",
      "353804    negative\n",
      "328939    negative\n",
      "296377    positive\n",
      "Name: Score, dtype: object\n",
      "262240    1\n",
      "33119     1\n",
      "353804    0\n",
      "328939    0\n",
      "296377    1\n",
      "Name: Score, dtype: int64\n"
     ]
    }
   ],
   "source": [
    "print(label_10000[:5])\n",
    "Y_1 = final_10000['Score'].map({\"positive\":1,\"negative\":0})\n",
    "print(Y_1[:5])"
   ]
  },
  {
   "cell_type": "markdown",
   "metadata": {},
   "source": [
    "#### Use TimeSeriesSplit to split the time based sorted Amazon food reviews dataset into Train and Test. "
   ]
  },
  {
   "cell_type": "code",
   "execution_count": 8,
   "metadata": {},
   "outputs": [],
   "source": [
    "from sklearn.model_selection import TimeSeriesSplit\n",
    "splits = TimeSeriesSplit(n_splits=10)\n",
    "X = final_10000['CleanedText']\n",
    "Y = final_10000['Score']\n",
    "Y_1 = final_10000['Score'].map({\"positive\":1,\"negative\":0})\n",
    "\n",
    "for train_index, test_index in splits.split(X):\n",
    "    X_train, X_test = X[X.index[train_index]], X[X.index[test_index]]\n",
    "    y_train, y_test = Y_1[Y_1.index[train_index]], Y_1[Y_1.index[test_index]]\n"
   ]
  },
  {
   "cell_type": "code",
   "execution_count": null,
   "metadata": {},
   "outputs": [],
   "source": []
  },
  {
   "cell_type": "markdown",
   "metadata": {},
   "source": [
    "### Vectorization Method : Bag Of Words (BoW)"
   ]
  },
  {
   "cell_type": "markdown",
   "metadata": {},
   "source": [
    "#### Convert reviews present in trainingset into numeric vectors using Bag Of Words (BoW)"
   ]
  },
  {
   "cell_type": "code",
   "execution_count": 9,
   "metadata": {},
   "outputs": [
    {
     "name": "stdout",
     "output_type": "stream",
     "text": [
      "the type of count vectorizer  <class 'scipy.sparse.csr.csr_matrix'>\n",
      "the shape of out text BOW vectorizer  (90910, 1167986)\n",
      "the number of unique words  1167986\n"
     ]
    }
   ],
   "source": [
    "#BoW\n",
    "\n",
    "# Apply BoW vectorization only on the trainingset.\n",
    "count_vect = CountVectorizer(ngram_range=(1,2)) #in scikit-learn bi-gram\n",
    "\n",
    "#Train you countvectorizer on the train data (.fit_transform()) and \n",
    "#use the same countvectorizer on the test set as well (.transform())\n",
    "final_counts = count_vect.fit_transform(X_train.values.astype('U'))\n",
    "print(\"the type of count vectorizer \",type(final_counts))\n",
    "print(\"the shape of out text BOW vectorizer \",final_counts.get_shape())\n",
    "print(\"the number of unique words \", final_counts.get_shape()[1])"
   ]
  },
  {
   "cell_type": "markdown",
   "metadata": {},
   "source": [
    "#### Use the BoW vectorizer trained in the preceding step to convert test set to vectors."
   ]
  },
  {
   "cell_type": "code",
   "execution_count": 10,
   "metadata": {},
   "outputs": [
    {
     "name": "stdout",
     "output_type": "stream",
     "text": [
      "the type of count vectorizer  <class 'scipy.sparse.csr.csr_matrix'>\n",
      "the shape of out text BOW vectorizer  (9090, 1167986)\n",
      "the number of unique words  1167986\n"
     ]
    }
   ],
   "source": [
    "#use the same countvectorizer on the test set (.transform())\n",
    "final_counts_testset = count_vect.transform(X_test.values)\n",
    "print(\"the type of count vectorizer \",type(final_counts_testset))\n",
    "print(\"the shape of out text BOW vectorizer \",final_counts_testset.get_shape())\n",
    "print(\"the number of unique words \", final_counts_testset.get_shape()[1])"
   ]
  },
  {
   "cell_type": "markdown",
   "metadata": {},
   "source": [
    "#### Reduce Dimensions using TruncatedSVD."
   ]
  },
  {
   "cell_type": "code",
   "execution_count": 11,
   "metadata": {},
   "outputs": [],
   "source": [
    "# Reduce the dimensions of the text vectors to 100 from 190K.\n",
    "from sklearn.decomposition import TruncatedSVD\n",
    "svd = TruncatedSVD(n_components=100, random_state=42)\n",
    "# Training\n",
    "finalTransData = svd.fit_transform(final_counts)\n",
    "# Testing\n",
    "finalTransDataTest = svd.transform(final_counts_testset)"
   ]
  },
  {
   "cell_type": "code",
   "execution_count": 17,
   "metadata": {},
   "outputs": [],
   "source": [
    "#svd.explained_variance_ratio_"
   ]
  },
  {
   "cell_type": "code",
   "execution_count": 12,
   "metadata": {},
   "outputs": [
    {
     "data": {
      "text/plain": [
       "(90910, 100)"
      ]
     },
     "execution_count": 12,
     "metadata": {},
     "output_type": "execute_result"
    }
   ],
   "source": [
    "finalTransData.shape"
   ]
  },
  {
   "cell_type": "code",
   "execution_count": 13,
   "metadata": {},
   "outputs": [
    {
     "data": {
      "text/plain": [
       "(9090, 100)"
      ]
     },
     "execution_count": 13,
     "metadata": {},
     "output_type": "execute_result"
    }
   ],
   "source": [
    "finalTransDataTest.shape"
   ]
  },
  {
   "cell_type": "markdown",
   "metadata": {},
   "source": [
    "#### Standardize Data"
   ]
  },
  {
   "cell_type": "code",
   "execution_count": 14,
   "metadata": {},
   "outputs": [],
   "source": [
    "# Data-preprocessing: Normalizing the data\n",
    "\n",
    "from sklearn.preprocessing import Normalizer\n",
    "\n",
    "normalizer = Normalizer()\n",
    "\n",
    "#Standardize on the train data (.fit_transform()) and \n",
    "#use the same Normalizer on the test set as well (.transform())\n",
    "X_train_stdzd = normalizer.fit_transform(finalTransData)\n",
    "X_test_stdzd  = normalizer.transform(finalTransDataTest) "
   ]
  },
  {
   "cell_type": "code",
   "execution_count": null,
   "metadata": {},
   "outputs": [],
   "source": []
  },
  {
   "cell_type": "markdown",
   "metadata": {},
   "source": [
    "#### Using kd-tree method to calculate the optimal 'k' of k-NN in BoW case."
   ]
  },
  {
   "cell_type": "code",
   "execution_count": 15,
   "metadata": {},
   "outputs": [
    {
     "name": "stderr",
     "output_type": "stream",
     "text": [
      "C:\\ProgramData\\Anaconda3\\lib\\site-packages\\sklearn\\cross_validation.py:41: DeprecationWarning: This module was deprecated in version 0.18 in favor of the model_selection module into which all the refactored classes and functions are moved. Also note that the interface of the new CV iterators are different from that of this module. This module will be removed in 0.20.\n",
      "  \"This module will be removed in 0.20.\", DeprecationWarning)\n",
      "C:\\ProgramData\\Anaconda3\\lib\\site-packages\\sklearn\\grid_search.py:42: DeprecationWarning: This module was deprecated in version 0.18 in favor of the model_selection module into which all the refactored classes and functions are moved. This module will be removed in 0.20.\n",
      "  DeprecationWarning)\n"
     ]
    },
    {
     "name": "stdout",
     "output_type": "stream",
     "text": [
      "Starttime is : 2018-10-26 07:00:00.198573\n",
      "Endtime   is : 2018-10-26 13:08:30.857578\n"
     ]
    }
   ],
   "source": [
    "\n",
    "from sklearn.neighbors import KNeighborsClassifier\n",
    "from sklearn.grid_search import GridSearchCV\n",
    "from sklearn.metrics import accuracy_score, classification_report\n",
    "\n",
    "#GridSearchCV( cv=10,\n",
    "#              error_score='raise', \n",
    "#              estimator=KNeighborsClassifier( algorithm='auto', leaf_size=30, metric='minkowski', \n",
    "#                                              metric_params=None, n_jobs=1,\n",
    "#                                              n_neighbors=5, p=2, weights='uniform'), \n",
    "#              fit_params={},\n",
    "#              iid=True, n_jobs=1, \n",
    "#              param_grid={'n_neighbors': array([ 1, 2, 3, 4, 5, 6, 7, 8, 9, 10, \n",
    "#                                                11, 12, 13, 14, 15, 16, 17, 18, 19, 20])}, \n",
    "#              pre_dispatch='2*n_jobs', \n",
    "#              refit=True,\n",
    "#              scoring=None,\n",
    "#              verbose=0\n",
    "#            )\n",
    "\n",
    "starttime_knn_bow = datetime.datetime.now()\n",
    "\n",
    "n_neighbors = [1, 2, 3, 4, 5, 6, 7, 8, 9, 10]\n",
    "tuned_parameters = [{'n_neighbors': n_neighbors,'weights': ['uniform'],'algorithm': ['kd_tree']}]\n",
    "scores = ['f1']\n",
    "\n",
    "performances = [];\n",
    "for score in scores:\n",
    "    clf = GridSearchCV(KNeighborsClassifier(), tuned_parameters, cv=5, scoring=score)\n",
    "    clf.fit(X_train_stdzd, y_train)\n",
    "\n",
    "endtime_knn_bow = datetime.datetime.now()\n",
    "\n",
    "print(\"Starttime is : {}\".format(starttime_knn_bow))\n",
    "print(\"Endtime   is : {}\".format(endtime_knn_bow))"
   ]
  },
  {
   "cell_type": "code",
   "execution_count": 16,
   "metadata": {},
   "outputs": [
    {
     "name": "stdout",
     "output_type": "stream",
     "text": [
      "Trainingset X: 90910\n",
      "Testset     X: 9090\n",
      "Trainingset Y: 90910\n",
      "Testset     Y: 9090\n"
     ]
    }
   ],
   "source": [
    "print(\"Trainingset X: {}\".format(len(X_train_stdzd)))\n",
    "print(\"Testset     X: {}\".format(len(X_test_stdzd)))\n",
    "print(\"Trainingset Y: {}\".format(len(y_train)))\n",
    "print(\"Testset     Y: {}\".format(len(y_test)))\n"
   ]
  },
  {
   "cell_type": "code",
   "execution_count": 17,
   "metadata": {},
   "outputs": [],
   "source": [
    "# The best_params_ and best_score_ attributes on your GridSearchCV instance will give you the best \n",
    "# parameter setting found while doing grid search across parameters and its corresponding score,\n",
    "# averaged across all folds.\n",
    "# If you definitely need the individual fold scores, you can also iterate through the \n",
    "# grid_scores_ attribute to find the cv_validation_scores,\n",
    "# which is the list of scores for each fold on that parameter setting. \n",
    "\n",
    "# Tabulate the CVScores.\n",
    "import pandas as pd\n",
    "\n",
    "rows = list()\n",
    "for grid_score in clf.grid_scores_:\n",
    "    for fold, score in enumerate(grid_score.cv_validation_scores):\n",
    "        row = grid_score.parameters.copy()\n",
    "        row['fold'] = fold\n",
    "        row['score'] = score\n",
    "        rows.append(row)\n",
    "dfScore = pd.DataFrame(rows)"
   ]
  },
  {
   "cell_type": "code",
   "execution_count": 18,
   "metadata": {},
   "outputs": [
    {
     "name": "stdout",
     "output_type": "stream",
     "text": [
      "The best estimator for the CV training set is :\n",
      "    The optimal number of neighbors (KD-tree case) is 9.\n",
      "    The score for the optimal number of neighbors 9 (KD-tree case) is 0.9065835539358188.\n"
     ]
    }
   ],
   "source": [
    "optimised_knn = clf.best_estimator_\n",
    "optimised_score = clf.best_score_\n",
    "\n",
    "print(\"The best estimator for the CV training set is :\")\n",
    "print('    The optimal number of neighbors (KD-tree case) is %d.' % optimised_knn.n_neighbors)\n",
    "print(\"    The score for the optimal number of neighbors {} (KD-tree case) is {}.\".format(optimised_knn.n_neighbors,optimised_score))\n"
   ]
  },
  {
   "cell_type": "code",
   "execution_count": null,
   "metadata": {},
   "outputs": [],
   "source": []
  },
  {
   "cell_type": "markdown",
   "metadata": {},
   "source": [
    "#### Using kd-tree method to calculate the metrics of k-NN in BoW case."
   ]
  },
  {
   "cell_type": "code",
   "execution_count": 20,
   "metadata": {},
   "outputs": [
    {
     "data": {
      "image/png": "[encoded data removed]",
      "text/plain": [
       "<matplotlib.figure.Figure at 0x1d01ea06ef0>"
      ]
     },
     "metadata": {},
     "output_type": "display_data"
    },
    {
     "name": "stdout",
     "output_type": "stream",
     "text": [
      "Starttime : 2018-10-26 13:19:10.100644\n",
      "Endtime   : 2018-10-26 13:22:24.616927\n"
     ]
    }
   ],
   "source": [
    "# ============================== KNN with k = optimal_k ===============================================\n",
    "\n",
    "# training features   = X_train_stdzd\n",
    "# testing features    = X_test_stdzd\n",
    "# training classlabel = y_train\n",
    "# testing  classlabel = y_test\n",
    "\n",
    "starttime_knn_bow = datetime.datetime.now()\n",
    "\n",
    "# instantiate the k-nn learning model with neighbours k = optimal_k\n",
    "knn_optimal = KNeighborsClassifier(n_neighbors=optimised_knn.n_neighbors)\n",
    "\n",
    "# fitting the model\n",
    "knn_optimal.fit(X_train_stdzd, y_train)\n",
    "\n",
    "# predict the response\n",
    "y_pred = knn_optimal.predict(X_test_stdzd)\n",
    "\n",
    "# evaluate the model and report the metrics.\n",
    "from sklearn.metrics import confusion_matrix\n",
    "conf_mat = confusion_matrix(y_test, y_pred)\n",
    "fig, ax = plt.subplots(figsize=(5,5))\n",
    "sns.heatmap(conf_mat, annot=True, fmt='d'\n",
    "            ,xticklabels=['negative','positive'], yticklabels=['negative','positive'])\n",
    "plt.title('Confusion Matrix : (Vectorizer = BoW|Algorithm = kd-tree)')\n",
    "plt.ylabel('Actual')\n",
    "plt.xlabel('Predicted')\n",
    "plt.show()\n",
    "\n",
    "endtime_knn_bow = datetime.datetime.now()\n",
    "\n",
    "print(\"Starttime : {}\".format(starttime_knn_bow))\n",
    "print(\"Endtime   : {}\".format(endtime_knn_bow))"
   ]
  },
  {
   "cell_type": "code",
   "execution_count": 21,
   "metadata": {},
   "outputs": [
    {
     "name": "stdout",
     "output_type": "stream",
     "text": [
      "True  Positives = 7118\n",
      "True  Negatives = 421\n",
      "False Positives = 1206\n",
      "False Negatives = 345\n"
     ]
    }
   ],
   "source": [
    "tn, fp, fn, tp = confusion_matrix(y_test, y_pred).ravel()\n",
    "print(\"True  Positives = {}\".format(tp))\n",
    "print(\"True  Negatives = {}\".format(tn))\n",
    "print(\"False Positives = {}\".format(fp))\n",
    "print(\"False Negatives = {}\".format(fn))\n"
   ]
  },
  {
   "cell_type": "code",
   "execution_count": null,
   "metadata": {},
   "outputs": [],
   "source": []
  },
  {
   "cell_type": "markdown",
   "metadata": {},
   "source": [
    "### Vectorization Method : TermFrequency-InverseDocumentFrequency (TF_IDF)\n",
    "\n",
    "#### Convert review text into numeric vectors using TF_IDF"
   ]
  },
  {
   "cell_type": "code",
   "execution_count": 22,
   "metadata": {},
   "outputs": [],
   "source": [
    "#TF-IDF\n",
    "# Apply TF-IDF vectorization only on the trainingset.\n",
    "tf_idf_vect = TfidfVectorizer(ngram_range=(1,2))"
   ]
  },
  {
   "cell_type": "code",
   "execution_count": 23,
   "metadata": {},
   "outputs": [
    {
     "name": "stdout",
     "output_type": "stream",
     "text": [
      "the type of count vectorizer  <class 'scipy.sparse.csr.csr_matrix'>\n",
      "the shape of out text TFIDF vectorizer  (90910, 1167986)\n",
      "the number of unique words including both unigrams and bigrams  1167986\n"
     ]
    }
   ],
   "source": [
    "#Train you tf-idf vectorizer on the train data (.fit_transform()) and \n",
    "#use the same vectorizer on the test set as well (.transform())\n",
    "final_tf_idf = tf_idf_vect.fit_transform(X_train.values.astype('U'))\n",
    "\n",
    "print(\"the type of count vectorizer \",type(final_tf_idf))\n",
    "print(\"the shape of out text TFIDF vectorizer \",final_tf_idf.get_shape())\n",
    "print(\"the number of unique words including both unigrams and bigrams \", final_tf_idf.get_shape()[1])"
   ]
  },
  {
   "cell_type": "code",
   "execution_count": 24,
   "metadata": {},
   "outputs": [
    {
     "name": "stdout",
     "output_type": "stream",
     "text": [
      "some sample features(unique words in the corpus) ['awhil want', 'awhil wasnt', 'awhil way', 'awhil week', 'awhil weird', 'awhil would', 'awhil year', 'awhil yes', 'awhil youd', 'awhil your']\n"
     ]
    }
   ],
   "source": [
    "features = tf_idf_vect.get_feature_names()\n",
    "print(\"some sample features(unique words in the corpus)\",features[63600:63610])"
   ]
  },
  {
   "cell_type": "markdown",
   "metadata": {},
   "source": [
    "#### Use the TF-IDF vectorizer trained in the preceding step to convert test set to vectors."
   ]
  },
  {
   "cell_type": "code",
   "execution_count": 25,
   "metadata": {},
   "outputs": [
    {
     "name": "stdout",
     "output_type": "stream",
     "text": [
      "the type of count vectorizer  <class 'scipy.sparse.csr.csr_matrix'>\n",
      "the shape of out text BOW vectorizer  (9090, 1167986)\n",
      "the number of unique words  1167986\n"
     ]
    }
   ],
   "source": [
    "#use the same countvectorizer on the test set (.transform())\n",
    "final_tf_idf_testset = tf_idf_vect.transform(X_test.values)\n",
    "print(\"the type of count vectorizer \",type(final_tf_idf_testset))\n",
    "print(\"the shape of out text BOW vectorizer \",final_tf_idf_testset.get_shape())\n",
    "print(\"the number of unique words \", final_tf_idf_testset.get_shape()[1])\n"
   ]
  },
  {
   "cell_type": "markdown",
   "metadata": {},
   "source": [
    "#### Reduce Dimensions using TruncatedSVD."
   ]
  },
  {
   "cell_type": "code",
   "execution_count": 26,
   "metadata": {},
   "outputs": [],
   "source": [
    "# Reduce the dimensions of the text vectors to 100 from 1 Million.\n",
    "from sklearn.decomposition import TruncatedSVD\n",
    "svd = TruncatedSVD(n_components=100, random_state=42)\n",
    "\n",
    "# Training\n",
    "finalTransData = svd.fit_transform(final_tf_idf) \n",
    "# Testing\n",
    "finalTransDataTest = svd.transform(final_tf_idf_testset) "
   ]
  },
  {
   "cell_type": "code",
   "execution_count": 28,
   "metadata": {},
   "outputs": [],
   "source": [
    "#svd.explained_variance_ratio_"
   ]
  },
  {
   "cell_type": "markdown",
   "metadata": {},
   "source": [
    "#### Standardize / Normalize the data"
   ]
  },
  {
   "cell_type": "code",
   "execution_count": 29,
   "metadata": {},
   "outputs": [],
   "source": [
    "# Data-preprocessing: Normalizing the data\n",
    "from sklearn.preprocessing import Normalizer\n",
    "\n",
    "normalizer = Normalizer()\n",
    "\n",
    "#Standardize on the train data (.fit_transform()) and \n",
    "#use the same Normalizer on the test set as well (.transform())\n",
    "X_train_stdzd = normalizer.fit_transform(finalTransData)\n",
    "X_test_stdzd  = normalizer.transform(finalTransDataTest) \n"
   ]
  },
  {
   "cell_type": "markdown",
   "metadata": {},
   "source": [
    "#### Using kd-tree method to calculate the optimal 'k' of k-NN in TF-IDF case."
   ]
  },
  {
   "cell_type": "code",
   "execution_count": 30,
   "metadata": {},
   "outputs": [
    {
     "name": "stdout",
     "output_type": "stream",
     "text": [
      "Starttime is : 2018-10-26 13:53:59.385894\n",
      "Endtime   is : 2018-10-26 20:22:54.626239\n"
     ]
    }
   ],
   "source": [
    "from sklearn.neighbors import KNeighborsClassifier\n",
    "from sklearn.grid_search import GridSearchCV\n",
    "from sklearn.metrics import accuracy_score, classification_report\n",
    "\n",
    "starttime_knn_tfidf = datetime.datetime.now()\n",
    "\n",
    "n_neighbors = [1, 2, 3, 4, 5, 6, 7, 8, 9, 10]\n",
    "tuned_parameters = [{'n_neighbors': n_neighbors,'weights': ['uniform'],'algorithm': ['kd_tree']}]\n",
    "scores = ['f1']\n",
    "\n",
    "performances = [];\n",
    "for score in scores:\n",
    "    clf = GridSearchCV(KNeighborsClassifier(), tuned_parameters, cv=5, scoring=score)\n",
    "    clf.fit(X_train_stdzd, y_train)\n",
    "\n",
    "endtime_knn_tfidf = datetime.datetime.now()\n",
    "\n",
    "print(\"Starttime is : {}\".format(starttime_knn_tfidf))\n",
    "print(\"Endtime   is : {}\".format(endtime_knn_tfidf))\n"
   ]
  },
  {
   "cell_type": "code",
   "execution_count": 31,
   "metadata": {},
   "outputs": [
    {
     "name": "stdout",
     "output_type": "stream",
     "text": [
      "Trainingset X: 90910\n",
      "Testset     X: 9090\n",
      "Trainingset Y: 90910\n",
      "Testset     Y: 9090\n"
     ]
    }
   ],
   "source": [
    "print(\"Trainingset X: {}\".format(len(X_train_stdzd)))\n",
    "print(\"Testset     X: {}\".format(len(X_test_stdzd)))\n",
    "print(\"Trainingset Y: {}\".format(len(y_train)))\n",
    "print(\"Testset     Y: {}\".format(len(y_test)))"
   ]
  },
  {
   "cell_type": "code",
   "execution_count": 32,
   "metadata": {},
   "outputs": [],
   "source": [
    "# The best_params_ and best_score_ attributes on your GridSearchCV instance will give you the best \n",
    "# parameter setting found while doing grid search across parameters and its corresponding score,\n",
    "# averaged across all folds.\n",
    "# If you definitely need the individual fold scores, you can also iterate through the \n",
    "# grid_scores_ attribute to find the cv_validation_scores, which is the list of scores\n",
    "# for each fold on that parameter setting. \n",
    "\n",
    "# Tabulate the CVScores.\n",
    "import pandas as pd\n",
    "\n",
    "rows = list()\n",
    "for grid_score in clf.grid_scores_:\n",
    "    for fold, score in enumerate(grid_score.cv_validation_scores):\n",
    "        row = grid_score.parameters.copy()\n",
    "        row['fold'] = fold\n",
    "        row['score'] = score\n",
    "        rows.append(row)\n",
    "dfScore = pd.DataFrame(rows)"
   ]
  },
  {
   "cell_type": "code",
   "execution_count": 23,
   "metadata": {},
   "outputs": [],
   "source": [
    "#dfScore"
   ]
  },
  {
   "cell_type": "code",
   "execution_count": 33,
   "metadata": {},
   "outputs": [
    {
     "name": "stdout",
     "output_type": "stream",
     "text": [
      "The best estimator for the CV training set is :\n",
      "    The optimal number of neighbors (kd-tree case) is 9.\n",
      "    The score for the optimal number of neighbors 9 (kd-tree case) is 0.9139124080844796.\n"
     ]
    }
   ],
   "source": [
    "#Best Parameters and Best Score\n",
    "\n",
    "optimised_knn = clf.best_estimator_\n",
    "optimised_score = clf.best_score_\n",
    "\n",
    "print(\"The best estimator for the CV training set is :\")\n",
    "print('    The optimal number of neighbors (kd-tree case) is %d.' % optimised_knn.n_neighbors)\n",
    "print(\"    The score for the optimal number of neighbors {} (kd-tree case) is {}.\".format(optimised_knn.n_neighbors,optimised_score))\n"
   ]
  },
  {
   "cell_type": "code",
   "execution_count": null,
   "metadata": {},
   "outputs": [],
   "source": []
  },
  {
   "cell_type": "markdown",
   "metadata": {},
   "source": [
    "#### Using kd-tree method to calculate the metrics of k-NN in TF-IDF case."
   ]
  },
  {
   "cell_type": "code",
   "execution_count": 34,
   "metadata": {},
   "outputs": [
    {
     "data": {
      "image/png": "[encoded data removed]",
      "text/plain": [
       "<matplotlib.figure.Figure at 0x1d0395fd160>"
      ]
     },
     "metadata": {},
     "output_type": "display_data"
    },
    {
     "name": "stdout",
     "output_type": "stream",
     "text": [
      "Starttime : 2018-10-26 20:29:12.272685\n",
      "Endtime   : 2018-10-26 20:32:21.653243\n"
     ]
    }
   ],
   "source": [
    "# ============================== KNN with k = optimal_k ===============================================\n",
    "\n",
    "# training features   = X_train_stdzd\n",
    "# testing features    = X_test_stdzd\n",
    "# training classlabel = y_train\n",
    "# testing  classlabel = y_test\n",
    "\n",
    "starttime_knn_tfidf = datetime.datetime.now()\n",
    "\n",
    "# instantiate the k-nn learning model with neighbours k = optimal_k\n",
    "knn_optimal = KNeighborsClassifier(n_neighbors=optimised_knn.n_neighbors)\n",
    "\n",
    "# fitting the model\n",
    "knn_optimal.fit(X_train_stdzd, y_train)\n",
    "\n",
    "# predict the response\n",
    "y_pred = knn_optimal.predict(X_test_stdzd)\n",
    "\n",
    "# evaluate the model and report the metrics.\n",
    "from sklearn.metrics import confusion_matrix\n",
    "conf_mat = confusion_matrix(y_test, y_pred)\n",
    "fig, ax = plt.subplots(figsize=(5,5))\n",
    "sns.heatmap(conf_mat, annot=True, fmt='d'\n",
    "            ,xticklabels=['negative','positive'], yticklabels=['negative','positive'])\n",
    "plt.title('Confusion Matrix : (Vectorizer = TF-IDF|Algorithm = kd-tree)')\n",
    "plt.ylabel('Actual')\n",
    "plt.xlabel('Predicted')\n",
    "plt.show()\n",
    "\n",
    "endtime_knn_tfidf = datetime.datetime.now()\n",
    "\n",
    "print(\"Starttime : {}\".format(starttime_knn_tfidf))\n",
    "print(\"Endtime   : {}\".format(endtime_knn_tfidf))\n"
   ]
  },
  {
   "cell_type": "code",
   "execution_count": 35,
   "metadata": {},
   "outputs": [
    {
     "name": "stdout",
     "output_type": "stream",
     "text": [
      "True  Positives = 7152\n",
      "True  Negatives = 566\n",
      "False Positives = 1061\n",
      "False Negatives = 311\n"
     ]
    }
   ],
   "source": [
    "# Metrics\n",
    "tn, fp, fn, tp = confusion_matrix(y_test, y_pred).ravel()\n",
    "print(\"True  Positives = {}\".format(tp))\n",
    "print(\"True  Negatives = {}\".format(tn))\n",
    "print(\"False Positives = {}\".format(fp))\n",
    "print(\"False Negatives = {}\".format(fn))"
   ]
  },
  {
   "cell_type": "code",
   "execution_count": null,
   "metadata": {},
   "outputs": [],
   "source": []
  },
  {
   "cell_type": "markdown",
   "metadata": {},
   "source": [
    "### Vectorization Method : Average Word2Vec : Avg W2V\n",
    "#### Convert review text into numeric vectors using Avg W2V"
   ]
  },
  {
   "cell_type": "code",
   "execution_count": null,
   "metadata": {},
   "outputs": [],
   "source": []
  },
  {
   "cell_type": "code",
   "execution_count": 36,
   "metadata": {},
   "outputs": [],
   "source": [
    "# Train your own Word2Vec model using your own text training corpus.\n",
    "# Train Word2Vec on training set alone.\n",
    "i=0\n",
    "list_of_sent=[]\n",
    "for sent in X_train.values.astype('U'):\n",
    "    list_of_sent.append(sent.split())"
   ]
  },
  {
   "cell_type": "code",
   "execution_count": 37,
   "metadata": {},
   "outputs": [
    {
     "name": "stdout",
     "output_type": "stream",
     "text": [
      "big lover fig jam fig jam uniqu flavor kind mix light kadoda fig dark mission fig must tri\n",
      "*****************************************************************\n",
      "['big', 'lover', 'fig', 'jam', 'fig', 'jam', 'uniqu', 'flavor', 'kind', 'mix', 'light', 'kadoda', 'fig', 'dark', 'mission', 'fig', 'must', 'tri']\n"
     ]
    }
   ],
   "source": [
    "print(X_train.values[0])\n",
    "print(\"*****************************************************************\")\n",
    "print(list_of_sent[0])"
   ]
  },
  {
   "cell_type": "code",
   "execution_count": 38,
   "metadata": {},
   "outputs": [
    {
     "name": "stdout",
     "output_type": "stream",
     "text": [
      "90910\n",
      "[['big', 'lover', 'fig', 'jam', 'fig', 'jam', 'uniqu', 'flavor', 'kind', 'mix', 'light', 'kadoda', 'fig', 'dark', 'mission', 'fig', 'must', 'tri'], ['great', 'product', 'good', 'price', 'definit', 'order', 'product', 'use', 'bottl', 'empti']]\n"
     ]
    }
   ],
   "source": [
    "print(len(list_of_sent))\n",
    "print(list_of_sent[:2])"
   ]
  },
  {
   "cell_type": "markdown",
   "metadata": {},
   "source": [
    "#### Train the Word2Vec model on the training set alone."
   ]
  },
  {
   "cell_type": "code",
   "execution_count": 39,
   "metadata": {},
   "outputs": [],
   "source": [
    "# min_count = 5 considers only words that occured atleast 5 times\n",
    "# Word2Vec(list,word_repeat_count,dimension_of_each_word_vector,Number_of_Processor_cores)\n",
    "w2v_model=Word2Vec(list_of_sent,min_count=5,size=50, workers=4)"
   ]
  },
  {
   "cell_type": "code",
   "execution_count": 40,
   "metadata": {},
   "outputs": [
    {
     "name": "stdout",
     "output_type": "stream",
     "text": [
      "number of words that occured minimum 5 times  11922\n",
      "sample words  ['big', 'lover', 'fig', 'jam', 'uniqu', 'flavor', 'kind', 'mix', 'light', 'dark', 'mission', 'must', 'tri', 'great', 'product', 'good', 'price', 'definit', 'order', 'use', 'bottl', 'empti', 'expect', 'box', 'full', 'fortun', 'cooki', 'like', 'one', 'nonetheless', 'got', 'small', 'tast', 'weird', 'okay', 'best', 'ever', 'review', 'amazon', 'check', 'label', 'contain', 'sure', 'enough', 'propylen', 'glycol', 'top', 'ingredi', 'ive', 'done']\n"
     ]
    }
   ],
   "source": [
    "w2v_words = list(w2v_model.wv.vocab)\n",
    "print(\"number of words that occured minimum 5 times \",len(w2v_words))\n",
    "print(\"sample words \", w2v_words[0:50])"
   ]
  },
  {
   "cell_type": "code",
   "execution_count": 42,
   "metadata": {},
   "outputs": [
    {
     "name": "stdout",
     "output_type": "stream",
     "text": [
      "[ 1.8868073   1.2342165   0.40828872  0.44571272  0.5718058  -0.5033772\n",
      "  0.72491133 -0.8481341  -0.26196787  0.43213588  1.0003654  -0.27913013\n",
      "  1.1925273  -0.44632247  0.9911834   0.9345218   1.2784483   2.090052\n",
      " -0.49930495  0.56731564  0.7958272  -0.64167696 -0.3741146  -0.8392478\n",
      "  0.12612788 -0.79930234  1.1591488  -1.2256109   0.967032   -0.48931566\n",
      "  1.3194371  -0.0142371   1.9598877   0.7765498   0.19469143  0.9802186\n",
      "  2.632308    0.625505    0.13893296 -1.3168555   2.5145383  -0.13013667\n",
      " -0.7779726  -1.4738183   0.7367316  -0.01612894 -0.6919018   0.43859828\n",
      "  1.1478654   0.01312193]\n"
     ]
    }
   ],
   "source": [
    "print(w2v_model.wv['product'])"
   ]
  },
  {
   "cell_type": "markdown",
   "metadata": {},
   "source": [
    "#### Compute the average Word2Vec for each review in the training set."
   ]
  },
  {
   "cell_type": "code",
   "execution_count": 43,
   "metadata": {},
   "outputs": [
    {
     "name": "stdout",
     "output_type": "stream",
     "text": [
      "The total number of words is 90910\n",
      "The dimension of each word vector is 50\n"
     ]
    }
   ],
   "source": [
    "# average Word2Vec\n",
    "# Avg. Word2Vec = (W2V(w1)+W2V(w2)+W2V(w3)+...... +W2V(w364171)) / 364171\n",
    "# compute average word2vec for each review.\n",
    "sent_vectors = [];                     # the avg-w2v for each sentence/review is stored in this list\n",
    "for sent in list_of_sent:              # for each review/sentence in the training set\n",
    "    sent_vec = np.zeros(50)            # as word vectors are of zero length\n",
    "    cnt_words =0;                      # num of words with a valid vector in the sentence/review\n",
    "    for word in sent:                  # for each word in a review/sentence\n",
    "        if word in w2v_words:          # if the word exists in the vocabulary\n",
    "            vec = w2v_model.wv[word]   # convert the word to vector\n",
    "            sent_vec += vec\n",
    "            cnt_words += 1\n",
    "    if cnt_words != 0:\n",
    "        sent_vec /= cnt_words\n",
    "    sent_vectors.append(sent_vec)\n",
    "print('The total number of words is {}'.format(len(sent_vectors)))\n",
    "print('The dimension of each word vector is {}'.format(len(sent_vectors[0])))"
   ]
  },
  {
   "cell_type": "markdown",
   "metadata": {},
   "source": [
    "#### Build the text corpus of the test set."
   ]
  },
  {
   "cell_type": "code",
   "execution_count": 44,
   "metadata": {},
   "outputs": [],
   "source": [
    "# Build the test text corpus.\n",
    "i=0\n",
    "list_of_sent_test=[]\n",
    "#for sent in final_dataset['CleanedText'].values:\n",
    "for sent in X_test.values:\n",
    "    list_of_sent_test.append(sent.split())"
   ]
  },
  {
   "cell_type": "code",
   "execution_count": 45,
   "metadata": {},
   "outputs": [
    {
     "name": "stdout",
     "output_type": "stream",
     "text": [
      "mild definit coconut flavor use instead butter toast vegi rice cake etc good fri except egg crispi brown contain medium chain amino acid work wonder brain neuron connect alshiem wean babi lack may even factor caus autism oliv oil none\n",
      "*****************************************************************\n",
      "['mild', 'definit', 'coconut', 'flavor', 'use', 'instead', 'butter', 'toast', 'vegi', 'rice', 'cake', 'etc', 'good', 'fri', 'except', 'egg', 'crispi', 'brown', 'contain', 'medium', 'chain', 'amino', 'acid', 'work', 'wonder', 'brain', 'neuron', 'connect', 'alshiem', 'wean', 'babi', 'lack', 'may', 'even', 'factor', 'caus', 'autism', 'oliv', 'oil', 'none']\n"
     ]
    }
   ],
   "source": [
    "print(X_test.values[0])\n",
    "print(\"*****************************************************************\")\n",
    "print(list_of_sent_test[0])"
   ]
  },
  {
   "cell_type": "markdown",
   "metadata": {},
   "source": [
    "#### Use the trained word2vec model to compute the average Word2Vec for each review in the test set."
   ]
  },
  {
   "cell_type": "code",
   "execution_count": 46,
   "metadata": {},
   "outputs": [
    {
     "name": "stdout",
     "output_type": "stream",
     "text": [
      "The total number of words is 9090\n",
      "The dimension of each word vector is 50\n"
     ]
    }
   ],
   "source": [
    "# average Word2Vec\n",
    "# Avg. Word2Vec = (W2V(w1)+W2V(w2)+W2V(w3)+...... +W2V(w364171)) / 364171\n",
    "# compute average word2vec for each review.\n",
    "sent_vectors_test = [];                # the avg-w2v for each sentence/review is stored in this list\n",
    "for sent in list_of_sent_test:         # for each review/sentence in the test set\n",
    "    sent_vec = np.zeros(50)            # as word vectors are of zero length\n",
    "    cnt_words =0;                      # num of words with a valid vector in the sentence/review\n",
    "    for word in sent:                  # for each word in a review/sentence\n",
    "        if word in w2v_words:          # if the word exists in the vocabulary\n",
    "            vec = w2v_model.wv[word]   # convert the word to vector using the trained model.\n",
    "            sent_vec += vec\n",
    "            cnt_words += 1\n",
    "    if cnt_words != 0:\n",
    "        sent_vec /= cnt_words\n",
    "    sent_vectors_test.append(sent_vec)\n",
    "print('The total number of words is {}'.format(len(sent_vectors_test)))\n",
    "print('The dimension of each word vector is {}'.format(len(sent_vectors_test[0])))"
   ]
  },
  {
   "cell_type": "code",
   "execution_count": null,
   "metadata": {},
   "outputs": [],
   "source": []
  },
  {
   "cell_type": "markdown",
   "metadata": {},
   "source": [
    "#### Standardize / Normalize the data"
   ]
  },
  {
   "cell_type": "code",
   "execution_count": 47,
   "metadata": {},
   "outputs": [],
   "source": [
    "# Data-preprocessing: Normalizing the data\n",
    "from sklearn.preprocessing import Normalizer\n",
    "\n",
    "normalizer = Normalizer()\n",
    "\n",
    "#Standardize on the train data (.fit_transform()) and \n",
    "#use the same Normalizer on the test set as well (.transform())\n",
    "X_train_stdzd = normalizer.fit_transform(sent_vectors)\n",
    "X_test_stdzd  = normalizer.transform(sent_vectors_test) \n"
   ]
  },
  {
   "cell_type": "markdown",
   "metadata": {},
   "source": [
    "#### Using kd-tree method to calculate the optimal 'k' of k-NN in Avg-Word2Vec case."
   ]
  },
  {
   "cell_type": "code",
   "execution_count": 48,
   "metadata": {},
   "outputs": [
    {
     "name": "stdout",
     "output_type": "stream",
     "text": [
      "Starttime is : 2018-10-26 20:38:55.261909\n",
      "Endtime   is : 2018-10-27 07:40:18.829428\n"
     ]
    }
   ],
   "source": [
    "from sklearn.neighbors import KNeighborsClassifier\n",
    "from sklearn.grid_search import GridSearchCV\n",
    "from sklearn.metrics import accuracy_score, classification_report\n",
    "\n",
    "starttime_knn_tfidf = datetime.datetime.now()\n",
    "\n",
    "n_neighbors = [1, 2, 3, 4, 5, 6, 7, 8, 9, 10]\n",
    "tuned_parameters = [{'n_neighbors': n_neighbors,'weights': ['uniform'],'algorithm': ['kd_tree']}]\n",
    "scores = ['f1']\n",
    "\n",
    "performances = [];\n",
    "for score in scores:\n",
    "    clf = GridSearchCV(KNeighborsClassifier(), tuned_parameters, cv=5, scoring=score)\n",
    "    clf.fit(X_train_stdzd, y_train)\n",
    "\n",
    "endtime_knn_tfidf = datetime.datetime.now()\n",
    "\n",
    "print(\"Starttime is : {}\".format(starttime_knn_tfidf))\n",
    "print(\"Endtime   is : {}\".format(endtime_knn_tfidf))\n"
   ]
  },
  {
   "cell_type": "code",
   "execution_count": 49,
   "metadata": {},
   "outputs": [
    {
     "name": "stdout",
     "output_type": "stream",
     "text": [
      "Trainingset X: 90910\n",
      "Testset     X: 9090\n",
      "Trainingset Y: 90910\n",
      "Testset     Y: 9090\n"
     ]
    }
   ],
   "source": [
    "print(\"Trainingset X: {}\".format(len(X_train_stdzd)))\n",
    "print(\"Testset     X: {}\".format(len(X_test_stdzd)))\n",
    "print(\"Trainingset Y: {}\".format(len(y_train)))\n",
    "print(\"Testset     Y: {}\".format(len(y_test)))\n"
   ]
  },
  {
   "cell_type": "code",
   "execution_count": 50,
   "metadata": {},
   "outputs": [],
   "source": [
    "# The best_params_ and best_score_ attributes on your GridSearchCV instance will give you the best \n",
    "# parameter setting found while doing grid search across parameters and its corresponding score,\n",
    "# averaged across all folds.\n",
    "# If you definitely need the individual fold scores, you can also iterate through the\n",
    "# grid_scores_ attribute to find the cv_validation_scores, \n",
    "# which is the list of scores for each fold on that parameter setting. \n",
    "\n",
    "# Tabulate the CVScores.\n",
    "import pandas as pd\n",
    "\n",
    "rows = list()\n",
    "for grid_score in clf.grid_scores_:\n",
    "    for fold, score in enumerate(grid_score.cv_validation_scores):\n",
    "        row = grid_score.parameters.copy()\n",
    "        row['fold'] = fold\n",
    "        row['score'] = score\n",
    "        rows.append(row)\n",
    "dfScore = pd.DataFrame(rows)"
   ]
  },
  {
   "cell_type": "code",
   "execution_count": 51,
   "metadata": {},
   "outputs": [
    {
     "name": "stdout",
     "output_type": "stream",
     "text": [
      "The best estimator for the CV training set is :\n",
      "    The optimal number of neighbors (kd-tree case) is 10.\n",
      "    The score for the optimal number of neighbors 10 (kd-tree case) is 0.9275843253393202.\n"
     ]
    }
   ],
   "source": [
    "#Best Parameters and Best Score\n",
    "optimised_knn = clf.best_estimator_\n",
    "optimised_score = clf.best_score_\n",
    "\n",
    "print(\"The best estimator for the CV training set is :\")\n",
    "print('    The optimal number of neighbors (kd-tree case) is %d.' % optimised_knn.n_neighbors)\n",
    "print(\"    The score for the optimal number of neighbors {} (kd-tree case) is {}.\".format(optimised_knn.n_neighbors,optimised_score))\n"
   ]
  },
  {
   "cell_type": "code",
   "execution_count": null,
   "metadata": {},
   "outputs": [],
   "source": []
  },
  {
   "cell_type": "markdown",
   "metadata": {},
   "source": [
    "#### Using kd-tree method to calculate the accuracy of k-NN in Avg Word2Vec case."
   ]
  },
  {
   "cell_type": "code",
   "execution_count": 52,
   "metadata": {},
   "outputs": [
    {
     "data": {
      "image/png": "[encoded data removed]",
      "text/plain": [
       "<matplotlib.figure.Figure at 0x1d052535ef0>"
      ]
     },
     "metadata": {},
     "output_type": "display_data"
    },
    {
     "name": "stdout",
     "output_type": "stream",
     "text": [
      "Starttime : 2018-10-27 08:18:59.650786\n",
      "Endtime   : 2018-10-27 08:20:58.545020\n"
     ]
    }
   ],
   "source": [
    "# ============================== KNN with k = optimal_k ===============================================\n",
    "\n",
    "# training features   = X_train_stdzd_dense\n",
    "# testing features    = X_test_stdzd_dense\n",
    "# training classlabel = y_train\n",
    "# testing  classlabel = y_test\n",
    "\n",
    "starttime_knn_avgw2v = datetime.datetime.now()\n",
    "\n",
    "# instantiate the k-nn learning model with neighbours k = optimal_k\n",
    "knn_optimal = KNeighborsClassifier(n_neighbors=optimised_knn.n_neighbors)\n",
    "\n",
    "# fitting the model\n",
    "knn_optimal.fit(X_train_stdzd, y_train)\n",
    "\n",
    "# predict the response\n",
    "y_pred = knn_optimal.predict(X_test_stdzd)\n",
    "\n",
    "# evaluate the model and report the metrics.\n",
    "from sklearn.metrics import confusion_matrix\n",
    "conf_mat = confusion_matrix(y_test, y_pred)\n",
    "fig, ax = plt.subplots(figsize=(5,5))\n",
    "sns.heatmap(conf_mat, annot=True, fmt='d'\n",
    "            ,xticklabels=['negative','positive'], yticklabels=['negative','positive'])\n",
    "plt.title('Confusion Matrix : (Vectorizer = AvgW2V|Algorithm = kd-tree)')\n",
    "plt.ylabel('Actual')\n",
    "plt.xlabel('Predicted')\n",
    "plt.show()\n",
    "\n",
    "endtime_knn_avgw2v = datetime.datetime.now()\n",
    "\n",
    "print(\"Starttime : {}\".format(starttime_knn_avgw2v))\n",
    "print(\"Endtime   : {}\".format(endtime_knn_avgw2v))\n"
   ]
  },
  {
   "cell_type": "code",
   "execution_count": 53,
   "metadata": {},
   "outputs": [
    {
     "name": "stdout",
     "output_type": "stream",
     "text": [
      "True  Positives = 7152\n",
      "True  Negatives = 762\n",
      "False Positives = 865\n",
      "False Negatives = 311\n"
     ]
    }
   ],
   "source": [
    "# Metrics\n",
    "tn, fp, fn, tp = confusion_matrix(y_test, y_pred).ravel()\n",
    "print(\"True  Positives = {}\".format(tp))\n",
    "print(\"True  Negatives = {}\".format(tn))\n",
    "print(\"False Positives = {}\".format(fp))\n",
    "print(\"False Negatives = {}\".format(fn))\n"
   ]
  },
  {
   "cell_type": "code",
   "execution_count": null,
   "metadata": {},
   "outputs": [],
   "source": []
  },
  {
   "cell_type": "markdown",
   "metadata": {},
   "source": [
    "### Vectorization Method : TermFrequency-InverseDocumentFrequency_ Weighted Word2Vector (TF-IDF W2V)"
   ]
  },
  {
   "cell_type": "markdown",
   "metadata": {},
   "source": [
    "#### Convert review text into numeric vectors using TF-IDF_WW2F"
   ]
  },
  {
   "cell_type": "code",
   "execution_count": 54,
   "metadata": {},
   "outputs": [
    {
     "name": "stdout",
     "output_type": "stream",
     "text": [
      "the type of count vectorizer  <class 'scipy.sparse.csr.csr_matrix'>\n",
      "the shape of out text TFIDF vectorizer  (90910, 1167986)\n",
      "the number of unique words including both unigrams and bigrams  1167986\n"
     ]
    }
   ],
   "source": [
    "#TF-IDF\n",
    "# Apply TF-IDF vectorization only on the trainingset.\n",
    "tf_idf_vect = TfidfVectorizer(ngram_range=(1,2))\n",
    "\n",
    "#Train you tf-idf vectorizer on the train data (.fit_transform()) and \n",
    "#use the same vectorizer on the test set as well (.transform())\n",
    "final_tf_idf = tf_idf_vect.fit_transform(X_train.values.astype('U'))\n",
    "\n",
    "# we are converting a dictionary with word as a key, and the idf as a value\n",
    "dictionary = dict(zip(tf_idf_vect.get_feature_names(), list(tf_idf_vect.idf_)))\n",
    "\n",
    "print(\"the type of count vectorizer \",type(final_tf_idf))\n",
    "print(\"the shape of out text TFIDF vectorizer \",final_tf_idf.get_shape())\n",
    "print(\"the number of unique words including both unigrams and bigrams \", final_tf_idf.get_shape()[1])\n"
   ]
  },
  {
   "cell_type": "code",
   "execution_count": 55,
   "metadata": {},
   "outputs": [
    {
     "name": "stdout",
     "output_type": "stream",
     "text": [
      "2.3987685813692057\n",
      "2.3019852419382323\n"
     ]
    }
   ],
   "source": [
    "print(dictionary[\"product\"])\n",
    "print(dictionary[\"good\"])"
   ]
  },
  {
   "cell_type": "code",
   "execution_count": 56,
   "metadata": {},
   "outputs": [
    {
     "name": "stdout",
     "output_type": "stream",
     "text": [
      "some sample features(unique words in the corpus) ['awhil want', 'awhil wasnt', 'awhil way', 'awhil week', 'awhil weird', 'awhil would', 'awhil year', 'awhil yes', 'awhil youd', 'awhil your']\n"
     ]
    }
   ],
   "source": [
    "features = tf_idf_vect.get_feature_names()\n",
    "print(\"some sample features(unique words in the corpus)\",features[63600:63610])"
   ]
  },
  {
   "cell_type": "markdown",
   "metadata": {},
   "source": [
    "#### Use the TF-IDF vectorizer trained in the preceding step to convert test set to vectors."
   ]
  },
  {
   "cell_type": "code",
   "execution_count": 57,
   "metadata": {},
   "outputs": [
    {
     "name": "stdout",
     "output_type": "stream",
     "text": [
      "the type of count vectorizer  <class 'scipy.sparse.csr.csr_matrix'>\n",
      "the shape of out text TFIDF vectorizer  (9090, 1167986)\n",
      "the number of unique words  1167986\n"
     ]
    }
   ],
   "source": [
    "#use the same countvectorizer on the test set (.transform())\n",
    "final_tf_idf_testset = tf_idf_vect.transform(X_test.values)\n",
    "print(\"the type of count vectorizer \",type(final_tf_idf_testset))\n",
    "print(\"the shape of out text TFIDF vectorizer \",final_tf_idf_testset.get_shape())\n",
    "print(\"the number of unique words \", final_tf_idf_testset.get_shape()[1])"
   ]
  },
  {
   "cell_type": "markdown",
   "metadata": {},
   "source": [
    "#### Train the Word2Vec model using the training text corpus."
   ]
  },
  {
   "cell_type": "code",
   "execution_count": 58,
   "metadata": {},
   "outputs": [],
   "source": [
    "# Train your own Word2Vec model using your own text training corpus.\n",
    "# Train Word2Vec on training set alone.\n",
    "i=0\n",
    "list_of_sent=[]\n",
    "for sent in X_train.values.astype('U'):\n",
    "    list_of_sent.append(sent.split())"
   ]
  },
  {
   "cell_type": "markdown",
   "metadata": {},
   "source": [
    "#### Build the list of sentences for the training set."
   ]
  },
  {
   "cell_type": "code",
   "execution_count": 59,
   "metadata": {},
   "outputs": [],
   "source": [
    "# Train your own Word2Vec model using your own text training corpus.\n",
    "# Train Word2Vec on training set alone.\n",
    "i=0\n",
    "list_of_sent_test=[]\n",
    "for sent in X_test.values:\n",
    "    list_of_sent_test.append(sent.split())"
   ]
  },
  {
   "cell_type": "markdown",
   "metadata": {},
   "source": [
    "#### Train the Word2Vec model on the training set alone."
   ]
  },
  {
   "cell_type": "code",
   "execution_count": 60,
   "metadata": {},
   "outputs": [
    {
     "name": "stdout",
     "output_type": "stream",
     "text": [
      "number of words that occured minimum 5 times  11922\n",
      "sample words  ['big', 'lover', 'fig', 'jam', 'uniqu', 'flavor', 'kind', 'mix', 'light', 'dark', 'mission', 'must', 'tri', 'great', 'product', 'good', 'price', 'definit', 'order', 'use', 'bottl', 'empti', 'expect', 'box', 'full', 'fortun', 'cooki', 'like', 'one', 'nonetheless', 'got', 'small', 'tast', 'weird', 'okay', 'best', 'ever', 'review', 'amazon', 'check', 'label', 'contain', 'sure', 'enough', 'propylen', 'glycol', 'top', 'ingredi', 'ive', 'done']\n"
     ]
    }
   ],
   "source": [
    "# min_count = 5 considers only words that occured atleast 5 times\n",
    "# Word2Vec(list,word_repeat_count,dimension_of_each_word_vector,Number_of_Processor_cores)\n",
    "\n",
    "w2v_model=Word2Vec(list_of_sent,min_count=5,size=50, workers=4)\n",
    "w2v_words = list(w2v_model.wv.vocab)\n",
    "print(\"number of words that occured minimum 5 times \",len(w2v_words))\n",
    "print(\"sample words \", w2v_words[0:50])"
   ]
  },
  {
   "cell_type": "markdown",
   "metadata": {},
   "source": [
    "#### Train the TF-IDF Weighted Word2Vec on the training set."
   ]
  },
  {
   "cell_type": "code",
   "execution_count": 61,
   "metadata": {},
   "outputs": [
    {
     "name": "stderr",
     "output_type": "stream",
     "text": [
      "100%|██████████████████████████████████████████████████████████████████████████████████████████████████████████████████████████████████████████████████████████████████████| 90910/90910 [01:43<00:00, 881.62it/s]\n"
     ]
    }
   ],
   "source": [
    "# TF-IDF weighted Word2Vec\n",
    "tfidf_feat = tf_idf_vect.get_feature_names() # tfidf words/col-names\n",
    "# final_tf_idf is the sparse matrix with row= sentence, col=word and cell_val = tfidf\n",
    "\n",
    "tfidf_sent_vectors = []; # the tfidf-w2v for each sentence/review is stored in this list\n",
    "row=0;\n",
    "for sent in tqdm(list_of_sent): # for each review/sentence \n",
    "    sent_vec = np.zeros(50) # as word vectors are of zero length\n",
    "    weight_sum =0; # num of words with a valid vector in the sentence/review\n",
    "    for word in sent: # for each word in a review/sentence\n",
    "        if word in w2v_words:\n",
    "            vec = w2v_model.wv[word]\n",
    "            # obtain the tf_idfidf of a word in a sentence/review\n",
    "            # tfidf_avgw2v = final_tf_idf[row, tfidf_feat.index(word)]\n",
    "            # to reduce the computation we are \n",
    "            # dictionary[word] = idf value of word in whole courpus\n",
    "            # sent.count(word) = tf valeus of word in this review\n",
    "            tfidf_avgw2v = dictionary[word]*(sent.count(word)/len(sent))\n",
    "            sent_vec += (vec * tfidf_avgw2v)\n",
    "            weight_sum += tfidf_avgw2v\n",
    "    if weight_sum != 0:\n",
    "        sent_vec /= weight_sum\n",
    "    tfidf_sent_vectors.append(sent_vec)\n",
    "    row += 1"
   ]
  },
  {
   "cell_type": "markdown",
   "metadata": {},
   "source": [
    "#### Use the TF-IDF Weigthed Word2Vec model trained on training set to Test data."
   ]
  },
  {
   "cell_type": "code",
   "execution_count": 62,
   "metadata": {},
   "outputs": [
    {
     "name": "stderr",
     "output_type": "stream",
     "text": [
      "100%|████████████████████████████████████████████████████████████████████████████████████████████████████████████████████████████████████████████████████████████████████████| 9090/9090 [00:11<00:00, 798.68it/s]\n"
     ]
    }
   ],
   "source": [
    "# TF-IDF weighted Word2Vec\n",
    "tfidf_feat = tf_idf_vect.get_feature_names() # tfidf words/col-names\n",
    "# final_tf_idf is the sparse matrix with row= sentence, col=word and cell_val = tfidf\n",
    "\n",
    "tfidf_sent_vectors_test = []; # the tfidf-w2v for each sentence/review is stored in this list\n",
    "row=0;\n",
    "for sent in tqdm(list_of_sent_test): # for each review/sentence \n",
    "    sent_vec = np.zeros(50) # as word vectors are of zero length\n",
    "    weight_sum =0; # num of words with a valid vector in the sentence/review\n",
    "    for word in sent: # for each word in a review/sentence\n",
    "        if word in w2v_words:\n",
    "            vec = w2v_model.wv[word]\n",
    "            # obtain the tf_idfidf of a word in a sentence/review\n",
    "            #tfidf_avgw2v = final_tf_idf[row, tfidf_feat.index(word)]\n",
    "            # to reduce the computation we are \n",
    "            # dictionary[word] = idf value of word in whole courpus\n",
    "            # sent.count(word) = tf values of word in this review\n",
    "            tfidf_avgw2v = dictionary[word]*(sent.count(word)/len(sent))\n",
    "            sent_vec += (vec * tfidf_avgw2v)\n",
    "            weight_sum += tfidf_avgw2v\n",
    "    if weight_sum != 0:\n",
    "        sent_vec /= weight_sum\n",
    "    tfidf_sent_vectors_test.append(sent_vec)\n",
    "    row += 1"
   ]
  },
  {
   "cell_type": "code",
   "execution_count": 21,
   "metadata": {},
   "outputs": [],
   "source": [
    "#tfidf_sent_vectors[:3]"
   ]
  },
  {
   "cell_type": "code",
   "execution_count": 23,
   "metadata": {},
   "outputs": [],
   "source": [
    "#tfidf_sent_vectors_test[:3]"
   ]
  },
  {
   "cell_type": "markdown",
   "metadata": {},
   "source": [
    "#### Standardize / Normalize the data"
   ]
  },
  {
   "cell_type": "code",
   "execution_count": 63,
   "metadata": {},
   "outputs": [],
   "source": [
    "# Data-preprocessing: Normalizing the data\n",
    "from sklearn.preprocessing import Normalizer\n",
    "\n",
    "normalizer = Normalizer()\n",
    "#Standardize on the train data (.fit_transform()) and \n",
    "#use the same Normalizer on the test set as well (.transform())\n",
    "X_train_stdzd = normalizer.fit_transform(tfidf_sent_vectors)\n",
    "X_test_stdzd  = normalizer.transform(tfidf_sent_vectors_test) \n"
   ]
  },
  {
   "cell_type": "code",
   "execution_count": null,
   "metadata": {},
   "outputs": [],
   "source": []
  },
  {
   "cell_type": "markdown",
   "metadata": {},
   "source": [
    "#### Using kd-tree method to calculate the optimal 'k' of k-NN in TFIDF-AvgWord2Vec case."
   ]
  },
  {
   "cell_type": "code",
   "execution_count": 64,
   "metadata": {},
   "outputs": [
    {
     "name": "stdout",
     "output_type": "stream",
     "text": [
      "Starttime is : 2018-10-27 08:29:09.917746\n",
      "Endtime   is : 2018-10-27 11:46:53.113832\n"
     ]
    }
   ],
   "source": [
    "from sklearn.neighbors import KNeighborsClassifier\n",
    "from sklearn.grid_search import GridSearchCV\n",
    "from sklearn.metrics import accuracy_score, classification_report\n",
    "\n",
    "starttime_knn_tfidf_avgw2v = datetime.datetime.now()\n",
    "\n",
    "n_neighbors = [1, 2, 3, 4, 5, 6, 7, 8, 9, 10]\n",
    "tuned_parameters = [{'n_neighbors': n_neighbors,'weights': ['uniform'],'algorithm': ['kd_tree']}]\n",
    "scores = ['f1']\n",
    "\n",
    "performances = [];\n",
    "for score in scores:\n",
    "    clf = GridSearchCV(KNeighborsClassifier(), tuned_parameters, cv=5, scoring=score)\n",
    "    clf.fit(X_train_stdzd, y_train)\n",
    "\n",
    "endtime_knn_tfidf_avgw2v = datetime.datetime.now()\n",
    "\n",
    "print(\"Starttime is : {}\".format(starttime_knn_tfidf_avgw2v))\n",
    "print(\"Endtime   is : {}\".format(endtime_knn_tfidf_avgw2v))\n"
   ]
  },
  {
   "cell_type": "code",
   "execution_count": 65,
   "metadata": {},
   "outputs": [
    {
     "name": "stdout",
     "output_type": "stream",
     "text": [
      "Trainingset X: 90910\n",
      "Testset     X: 9090\n",
      "Trainingset Y: 90910\n",
      "Testset     Y: 9090\n"
     ]
    }
   ],
   "source": [
    "print(\"Trainingset X: {}\".format(len(X_train_stdzd)))\n",
    "print(\"Testset     X: {}\".format(len(X_test_stdzd)))\n",
    "print(\"Trainingset Y: {}\".format(len(y_train)))\n",
    "print(\"Testset     Y: {}\".format(len(y_test)))"
   ]
  },
  {
   "cell_type": "code",
   "execution_count": 66,
   "metadata": {},
   "outputs": [],
   "source": [
    "# The best_params_ and best_score_ attributes on your GridSearchCV instance will give you the best \n",
    "# parameter setting found while doing grid search across parameters and its corresponding score,\n",
    "# averaged across all folds.\n",
    "# If you definitely need the individual fold scores, you can also iterate through the\n",
    "# grid_scores_ attribute to find the cv_validation_scores, \n",
    "# which is the list of scores for each fold on that parameter setting. \n",
    "\n",
    "# Tabulate the CVScores.\n",
    "import pandas as pd\n",
    "\n",
    "rows = list()\n",
    "for grid_score in clf.grid_scores_:\n",
    "    for fold, score in enumerate(grid_score.cv_validation_scores):\n",
    "        row = grid_score.parameters.copy()\n",
    "        row['fold'] = fold\n",
    "        row['score'] = score\n",
    "        rows.append(row)\n",
    "dfScore = pd.DataFrame(rows)"
   ]
  },
  {
   "cell_type": "code",
   "execution_count": 67,
   "metadata": {},
   "outputs": [
    {
     "name": "stdout",
     "output_type": "stream",
     "text": [
      "The best estimator for the CV training set is :\n",
      "    The optimal number of neighbors (kd-tree case) is 9.\n",
      "    The score for the optimal number of neighbors 9 (kd-tree case) is 0.9200751693996749.\n"
     ]
    }
   ],
   "source": [
    "#Best Parameters and Best Score\n",
    "optimised_knn = clf.best_estimator_\n",
    "optimised_score = clf.best_score_\n",
    "\n",
    "print(\"The best estimator for the CV training set is :\")\n",
    "print('    The optimal number of neighbors (kd-tree case) is %d.' % optimised_knn.n_neighbors)\n",
    "print(\"    The score for the optimal number of neighbors {} (kd-tree case) is {}.\".format(optimised_knn.n_neighbors,optimised_score))"
   ]
  },
  {
   "cell_type": "code",
   "execution_count": null,
   "metadata": {},
   "outputs": [],
   "source": []
  },
  {
   "cell_type": "markdown",
   "metadata": {},
   "source": [
    "#### Using kd-tree method to calculate the metrics of k-NN in TFIDF-AvgWord2Vec case."
   ]
  },
  {
   "cell_type": "code",
   "execution_count": 68,
   "metadata": {},
   "outputs": [
    {
     "data": {
      "image/png": "[encoded data removed]",
      "text/plain": [
       "<matplotlib.figure.Figure at 0x1d02e887ac8>"
      ]
     },
     "metadata": {},
     "output_type": "display_data"
    },
    {
     "name": "stdout",
     "output_type": "stream",
     "text": [
      "Starttime : 2018-10-27 11:48:03.895476\n",
      "Endtime   : 2018-10-27 11:49:57.084084\n"
     ]
    }
   ],
   "source": [
    "# ============================== KNN with k = optimal_k ===============================================\n",
    "\n",
    "# training features   = X_train_stdzd_dense\n",
    "# testing features    = X_test_stdzd_dense\n",
    "# training classlabel = y_train\n",
    "# testing  classlabel = y_test\n",
    "\n",
    "starttime_knn_tfidf_avgw2v = datetime.datetime.now()\n",
    "\n",
    "# instantiate the k-nn learning model with neighbours k = optimal_k\n",
    "knn_optimal = KNeighborsClassifier(n_neighbors=optimised_knn.n_neighbors)\n",
    "\n",
    "# fitting the model\n",
    "knn_optimal.fit(X_train_stdzd, y_train)\n",
    "\n",
    "# predict the response\n",
    "y_pred = knn_optimal.predict(X_test_stdzd)\n",
    "\n",
    "# evaluate the model and report the metrics.\n",
    "from sklearn.metrics import confusion_matrix\n",
    "conf_mat = confusion_matrix(y_test, y_pred)\n",
    "fig, ax = plt.subplots(figsize=(5,5))\n",
    "sns.heatmap(conf_mat, annot=True, fmt='d'\n",
    "            ,xticklabels=['negative','positive'], yticklabels=['negative','positive'])\n",
    "plt.title('Confusion Matrix : (Vectorizer = TFIDF_AvgW2V|Algorithm = kd-tree)')\n",
    "plt.ylabel('Actual')\n",
    "plt.xlabel('Predicted')\n",
    "plt.show()\n",
    "\n",
    "endtime_knn_tfidf_avgw2v = datetime.datetime.now()\n",
    "\n",
    "print(\"Starttime : {}\".format(starttime_knn_tfidf_avgw2v))\n",
    "print(\"Endtime   : {}\".format(endtime_knn_tfidf_avgw2v))\n"
   ]
  },
  {
   "cell_type": "code",
   "execution_count": null,
   "metadata": {},
   "outputs": [],
   "source": []
  },
  {
   "cell_type": "markdown",
   "metadata": {},
   "source": [
    "### CONCLUSION : \n",
    "#### Vectorization Method : TermFrequency-InverseDocumentFrequency Word2Vec (TF-IDF W2V )\n",
    "\n",
    "#### Algorithm : kd-tree\n",
    "    . The optimal k in k-nn classifier for the sample (size = 100K) is found to be 9.\n",
    "    . The confusion matrix of the k-nn classifier when k=9, for the sample (size = 100K) is \n",
    "      tabulated below :"
   ]
  },
  {
   "cell_type": "code",
   "execution_count": 4,
   "metadata": {},
   "outputs": [
    {
     "data": {
      "image/png": "[encoded data removed]",
      "text/plain": [
       "<IPython.core.display.Image object>"
      ]
     },
     "execution_count": 4,
     "metadata": {},
     "output_type": "execute_result"
    }
   ],
   "source": [
    "from IPython.display import Image \n",
    "Image(filename='D:\\Plot\\confusionmatrix_tfidf_avgw2v_kdtree.png')"
   ]
  },
  {
   "cell_type": "markdown",
   "metadata": {},
   "source": [
    "#### Vectorization Method : Average Word2Vec (Avg W2V )"
   ]
  },
  {
   "cell_type": "markdown",
   "metadata": {},
   "source": [
    "#### Algorithm : kd-tree\n",
    "    . The optimal k in k-nn classifier for the sample (size = 100K) is found to be 10.\n",
    "    . The confusion matrix of the k-nn classifier when k=10, for the sample (size = 100K) is\n",
    "      tabulated below :"
   ]
  },
  {
   "cell_type": "code",
   "execution_count": 3,
   "metadata": {},
   "outputs": [
    {
     "data": {
      "image/png": "[encoded data removed]",
      "text/plain": [
       "<IPython.core.display.Image object>"
      ]
     },
     "execution_count": 3,
     "metadata": {},
     "output_type": "execute_result"
    }
   ],
   "source": [
    "Image(filename='D:\\Plot\\confusionmatrix_avgw2v_kdtree.png')"
   ]
  },
  {
   "cell_type": "code",
   "execution_count": null,
   "metadata": {},
   "outputs": [],
   "source": []
  },
  {
   "cell_type": "markdown",
   "metadata": {},
   "source": [
    "#### Vectorization Method : TermFrequency-InverseDocumentFrequency (TF-IDF)"
   ]
  },
  {
   "cell_type": "markdown",
   "metadata": {},
   "source": [
    "#### Algorithm : kd-tree\n",
    "    . The optimal k in k-nn classifier for the sample (size = 100K) is found to be 9.\n",
    "    . The confusion matrix of the k-nn classifier when k=9, for the sample (size = 100K) is\n",
    "      tabulated below :"
   ]
  },
  {
   "cell_type": "code",
   "execution_count": 5,
   "metadata": {},
   "outputs": [
    {
     "data": {
      "image/png": "[encoded data removed]",
      "text/plain": [
       "<IPython.core.display.Image object>"
      ]
     },
     "execution_count": 5,
     "metadata": {},
     "output_type": "execute_result"
    }
   ],
   "source": [
    "Image(filename='D:\\Plot\\confusionmatrix_tf-idf_kd_tree.png')"
   ]
  },
  {
   "cell_type": "code",
   "execution_count": null,
   "metadata": {},
   "outputs": [],
   "source": []
  },
  {
   "cell_type": "markdown",
   "metadata": {},
   "source": [
    "#### Vectorization Method : Bag of Words (Bigram)"
   ]
  },
  {
   "cell_type": "markdown",
   "metadata": {},
   "source": [
    "#### Algorithm : kd-tree\n",
    "    . The optimal k in k-nn classifier for the sample (size = 100K) is found to be 9.\n",
    "    . The confusion matrix of the k-nn classifier when k=9, for the sample (size = 100K) is\n",
    "      tabulated below :"
   ]
  },
  {
   "cell_type": "code",
   "execution_count": 6,
   "metadata": {},
   "outputs": [
    {
     "data": {
      "image/png": "[encoded data removed]",
      "text/plain": [
       "<IPython.core.display.Image object>"
      ]
     },
     "execution_count": 6,
     "metadata": {},
     "output_type": "execute_result"
    }
   ],
   "source": [
    "Image(filename='D:\\Plot\\confusionmatrix_bow_kdtree.png')"
   ]
  },
  {
   "cell_type": "code",
   "execution_count": null,
   "metadata": {},
   "outputs": [],
   "source": []
  },
  {
   "cell_type": "code",
   "execution_count": null,
   "metadata": {},
   "outputs": [],
   "source": []
  }
 ],
 "metadata": {
  "kernelspec": {
   "display_name": "Python 3",
   "language": "python",
   "name": "python3"
  },
  "language_info": {
   "codemirror_mode": {
    "name": "ipython",
    "version": 3
   },
   "file_extension": ".py",
   "mimetype": "text/x-python",
   "name": "python",
   "nbconvert_exporter": "python",
   "pygments_lexer": "ipython3",
   "version": "3.6.4"
  }
 },
 "nbformat": 4,
 "nbformat_minor": 2
}
