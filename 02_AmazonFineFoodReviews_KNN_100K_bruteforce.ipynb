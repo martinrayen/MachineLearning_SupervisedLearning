{
 "cells": [
  {
   "cell_type": "code",
   "execution_count": null,
   "metadata": {},
   "outputs": [],
   "source": []
  },
  {
   "cell_type": "markdown",
   "metadata": {},
   "source": [
    "### Objective : To apply k-NN (K-Nearest Neighbors algorithm) on Amazon food reviews dataset for each of the                                    featurization below : \n",
    "                  1. Bag Of Words (BoW)\n",
    "                  2. TermFrequency-InverseDocumentFrequency (TF-IDF)\n",
    "                  3. Avg-Word2Vec\n",
    "                  4. TFIDF-Word2Vec\n",
    "                  \n",
    "#### Sentiment Polarity : Given a food review text, predict whether the score is Positive or Negative.\n",
    "#### NOTE :\n",
    "    1. Use Brute-force algorithm\n",
    "    2. Use time based splitting (TBS) to split the dataset into Train (70%) and Test (30%) .\n",
    "    3. Apply 5-fold cross validation to find optimal 'k' in k-NN .\n",
    "    4. Compute and report the test accuracy for all the 4 type of vectorization mentioned above.\n",
    "    5. Sample size = 100K data points."
   ]
  },
  {
   "cell_type": "code",
   "execution_count": null,
   "metadata": {},
   "outputs": [],
   "source": []
  },
  {
   "cell_type": "markdown",
   "metadata": {},
   "source": [
    "#### Load the Amazon Reviews Dataset "
   ]
  },
  {
   "cell_type": "code",
   "execution_count": 1,
   "metadata": {},
   "outputs": [
    {
     "name": "stdout",
     "output_type": "stream",
     "text": [
      "Requirement already satisfied: tqdm in c:\\programdata\\anaconda3\\lib\\site-packages\n"
     ]
    },
    {
     "name": "stderr",
     "output_type": "stream",
     "text": [
      "You are using pip version 9.0.1, however version 18.1 is available.\n",
      "You should consider upgrading via the 'python -m pip install --upgrade pip' command.\n"
     ]
    }
   ],
   "source": [
    "%matplotlib inline\n",
    "import warnings\n",
    "warnings.filterwarnings(\"ignore\")\n",
    "\n",
    "import sqlite3\n",
    "import pandas as pd\n",
    "import numpy as np\n",
    "import nltk\n",
    "import string\n",
    "import matplotlib.pyplot as plt\n",
    "import seaborn as sns\n",
    "from sklearn.feature_extraction.text import TfidfTransformer\n",
    "from sklearn.feature_extraction.text import TfidfVectorizer\n",
    "\n",
    "from sklearn.feature_extraction.text import CountVectorizer\n",
    "from sklearn.metrics import confusion_matrix\n",
    "from sklearn import metrics\n",
    "from sklearn.metrics import roc_curve, auc\n",
    "from nltk.stem.porter import PorterStemmer\n",
    "\n",
    "import re\n",
    "# Tutorial about Python regular expressions: https://pymotw.com/2/re/\n",
    "import string\n",
    "from nltk.corpus import stopwords\n",
    "from nltk.stem import PorterStemmer\n",
    "from nltk.stem.wordnet import WordNetLemmatizer\n",
    "\n",
    "from gensim.models import Word2Vec\n",
    "from gensim.models import KeyedVectors\n",
    "import pickle\n",
    "\n",
    "# Install a pip package in the current Jupyter kernel\n",
    "import sys\n",
    "!{sys.executable} -m pip install tqdm\n",
    "\n",
    "from tqdm import tqdm # for displaying progress bar.\n",
    "\n",
    "\n",
    "# using the SQLite Table to read data.\n",
    "con = sqlite3.connect('database.sqlite') \n",
    "\n",
    "#filtering only positive and negative reviews i.e. \n",
    "# not taking into consideration those reviews with Score=3\n",
    "filtered_data = pd.read_sql_query(\"\"\" SELECT * FROM Reviews WHERE Score != 3 \"\"\", con) \n",
    "\n",
    "# Give reviews with Score>3 a positive rating, and reviews with a score<3 a negative rating.\n",
    "def partition(x):\n",
    "    if x < 3:\n",
    "        return 'negative'\n",
    "    return 'positive'\n",
    "\n",
    "#changing reviews with score less than 3 to be positive and vice-versa\n",
    "actualScore = filtered_data['Score']\n",
    "positiveNegative = actualScore.map(partition) \n",
    "filtered_data['Score'] = positiveNegative\n"
   ]
  },
  {
   "cell_type": "markdown",
   "metadata": {},
   "source": [
    "### Data Cleaning : Deduplication"
   ]
  },
  {
   "cell_type": "code",
   "execution_count": 2,
   "metadata": {},
   "outputs": [
    {
     "name": "stdout",
     "output_type": "stream",
     "text": [
      "(364171, 10)\n"
     ]
    },
    {
     "data": {
      "text/plain": [
       "positive    307061\n",
       "negative     57110\n",
       "Name: Score, dtype: int64"
      ]
     },
     "execution_count": 2,
     "metadata": {},
     "output_type": "execute_result"
    }
   ],
   "source": [
    "display= pd.read_sql_query(\"\"\"\n",
    "SELECT *\n",
    "FROM Reviews\n",
    "WHERE Score != 3 AND UserId=\"AR5J8UI46CURR\"\n",
    "ORDER BY ProductID\n",
    "\"\"\", con)\n",
    "\n",
    "#Sorting data according to ProductId in ascending order\n",
    "sorted_data=filtered_data.sort_values('ProductId', axis=0, ascending=True, inplace=False, kind='quicksort', na_position='last')\n",
    "\n",
    "#Deduplication of entries\n",
    "final=sorted_data.drop_duplicates(subset={\"UserId\",\"ProfileName\",\"Time\",\"Text\"}, keep='first', inplace=False)\n",
    "final.shape\n",
    "\n",
    "#Remove Data anamolies.\n",
    "final=final[final.HelpfulnessNumerator<=final.HelpfulnessDenominator]\n",
    "\n",
    "#Before starting the next phase of preprocessing lets see the number of entries left\n",
    "print(final.shape)\n",
    "\n",
    "#How many positive and negative reviews are present in our dataset?\n",
    "final['Score'].value_counts()\n"
   ]
  },
  {
   "cell_type": "markdown",
   "metadata": {},
   "source": [
    "###  Text Preprocessing: Stemming, stop-word removal and Lemmatization.\n",
    "\n",
    "Now that we have finished deduplication our data requires some preprocessing before we go on further with analysis and making the prediction model.\n",
    "\n",
    "Hence in the Preprocessing phase we do the following in the order below:-\n",
    "\n",
    "1. Begin by removing the html tags\n",
    "2. Remove any punctuations or limited set of special characters like , or . or # etc.\n",
    "3. Check if the word is made up of english letters and is not alpha-numeric\n",
    "4. Check to see if the length of the word is greater than 2 (as it was researched that there is no adjective in 2-letters)\n",
    "5. Convert the word to lowercase\n",
    "6. Remove Stopwords\n",
    "7. Finally Snowball Stemming the word (it was obsereved to be better than Porter Stemming)<br>\n",
    "\n",
    "After which we collect the words used to describe positive and negative reviews"
   ]
  },
  {
   "cell_type": "code",
   "execution_count": 3,
   "metadata": {},
   "outputs": [
    {
     "name": "stdout",
     "output_type": "stream",
     "text": [
      "[nltk_data] Downloading package stopwords to C:\\Users\\Vijay\n",
      "[nltk_data]     Joseph\\AppData\\Roaming\\nltk_data...\n",
      "[nltk_data]   Package stopwords is already up-to-date!\n"
     ]
    }
   ],
   "source": [
    "import nltk\n",
    "nltk.download('stopwords')\n",
    "\n",
    "\n",
    "stop = set(stopwords.words('english')) #set of stopwords\n",
    "sno = nltk.stem.SnowballStemmer('english') #initialising the snowball stemmer\n",
    "\n",
    "def cleanhtml(sentence): #function to clean the word of any html-tags\n",
    "    cleanr = re.compile('<.*?>')\n",
    "    cleantext = re.sub(cleanr, ' ', sentence)\n",
    "    return cleantext\n",
    "def cleanpunc(sentence): #function to clean the word of any punctuation or special characters\n",
    "    cleaned = re.sub(r'[?|!|\\'|\"|#]',r'',sentence)\n",
    "    cleaned = re.sub(r'[.|,|)|(|\\|/]',r' ',cleaned)\n",
    "    return  cleaned\n"
   ]
  },
  {
   "cell_type": "code",
   "execution_count": 4,
   "metadata": {},
   "outputs": [
    {
     "name": "stderr",
     "output_type": "stream",
     "text": [
      "100%|███████████████████████████████████████████████████████████████████████████████████████████████████████████████████████████████████████████████████████████████████| 364171/364171 [05:54<00:00, 1026.06it/s]\n"
     ]
    }
   ],
   "source": [
    "#Code for implementing step-by-step the checks mentioned in the pre-processing phase\n",
    "\n",
    "i=0\n",
    "str1=' '\n",
    "final_string=[]\n",
    "all_positive_words=[] # store words from +ve reviews here\n",
    "all_negative_words=[] # store words from -ve reviews here.\n",
    "s=''\n",
    "# Take one review at a time.\n",
    "for sent in tqdm(final['Text'].values):\n",
    "    filtered_sentence=[]\n",
    "    #print(sent);\n",
    "    sent=cleanhtml(sent) # remove HTMl tags\n",
    "    # Split sentences into words.\n",
    "    for w in sent.split():\n",
    "        # Remove punctuations and special characters in each word.\n",
    "        for cleaned_words in cleanpunc(w).split():\n",
    "            # If the word is not a number and not english articles like a,an,...\n",
    "            if((cleaned_words.isalpha()) & (len(cleaned_words)>2)):\n",
    "                # If the word is not a stopword\n",
    "                if(cleaned_words.lower() not in stop):\n",
    "                    # Apply stemming on each word\n",
    "                    s=(sno.stem(cleaned_words.lower())).encode('utf8')\n",
    "                    # Append to list\n",
    "                    filtered_sentence.append(s)\n",
    "                    if (final['Score'].values)[i] == 'positive': \n",
    "                        all_positive_words.append(s) #list of all words used to describe positive reviews\n",
    "                    if(final['Score'].values)[i] == 'negative':\n",
    "                        all_negative_words.append(s) #list of all words used to describe negative reviews reviews\n",
    "                else:\n",
    "                    continue\n",
    "            else:\n",
    "                continue \n",
    "    #print(filtered_sentence)\n",
    "    str1 = b\" \".join(filtered_sentence) #final string of cleaned words\n",
    "    #print(\"***********************************************************************\")\n",
    "    \n",
    "    final_string.append(str1)\n",
    "    i+=1"
   ]
  },
  {
   "cell_type": "code",
   "execution_count": 5,
   "metadata": {},
   "outputs": [
    {
     "data": {
      "text/html": [
       "<div>\n",
       "<style scoped>\n",
       "    .dataframe tbody tr th:only-of-type {\n",
       "        vertical-align: middle;\n",
       "    }\n",
       "\n",
       "    .dataframe tbody tr th {\n",
       "        vertical-align: top;\n",
       "    }\n",
       "\n",
       "    .dataframe thead th {\n",
       "        text-align: right;\n",
       "    }\n",
       "</style>\n",
       "<table border=\"1\" class=\"dataframe\">\n",
       "  <thead>\n",
       "    <tr style=\"text-align: right;\">\n",
       "      <th></th>\n",
       "      <th>Text</th>\n",
       "      <th>CleanedText</th>\n",
       "    </tr>\n",
       "  </thead>\n",
       "  <tbody>\n",
       "    <tr>\n",
       "      <th>138706</th>\n",
       "      <td>this witty little book makes my son laugh at l...</td>\n",
       "      <td>witti littl book make son laugh loud recit car...</td>\n",
       "    </tr>\n",
       "    <tr>\n",
       "      <th>138688</th>\n",
       "      <td>I grew up reading these Sendak books, and watc...</td>\n",
       "      <td>grew read sendak book watch realli rosi movi i...</td>\n",
       "    </tr>\n",
       "    <tr>\n",
       "      <th>138689</th>\n",
       "      <td>This is a fun way for children to learn their ...</td>\n",
       "      <td>fun way children learn month year learn poem t...</td>\n",
       "    </tr>\n",
       "    <tr>\n",
       "      <th>138690</th>\n",
       "      <td>This is a great little book to read aloud- it ...</td>\n",
       "      <td>great littl book read nice rhythm well good re...</td>\n",
       "    </tr>\n",
       "    <tr>\n",
       "      <th>138691</th>\n",
       "      <td>This is a book of poetry about the months of t...</td>\n",
       "      <td>book poetri month year goe month cute littl po...</td>\n",
       "    </tr>\n",
       "  </tbody>\n",
       "</table>\n",
       "</div>"
      ],
      "text/plain": [
       "                                                     Text  \\\n",
       "138706  this witty little book makes my son laugh at l...   \n",
       "138688  I grew up reading these Sendak books, and watc...   \n",
       "138689  This is a fun way for children to learn their ...   \n",
       "138690  This is a great little book to read aloud- it ...   \n",
       "138691  This is a book of poetry about the months of t...   \n",
       "\n",
       "                                              CleanedText  \n",
       "138706  witti littl book make son laugh loud recit car...  \n",
       "138688  grew read sendak book watch realli rosi movi i...  \n",
       "138689  fun way children learn month year learn poem t...  \n",
       "138690  great littl book read nice rhythm well good re...  \n",
       "138691  book poetri month year goe month cute littl po...  "
      ]
     },
     "execution_count": 5,
     "metadata": {},
     "output_type": "execute_result"
    }
   ],
   "source": [
    "final['CleanedText']=final_string #adding a column of CleanedText which displays the data after pre-processing of the review \n",
    "final['CleanedText']=final['CleanedText'].str.decode(\"utf-8\")\n",
    "final[['Text','CleanedText']].head()"
   ]
  },
  {
   "cell_type": "code",
   "execution_count": null,
   "metadata": {},
   "outputs": [],
   "source": [
    "# Copy the final cleaned text to csv file for resuse later.\n",
    "final.to_csv('finalCleanedText.csv')"
   ]
  },
  {
   "cell_type": "code",
   "execution_count": 2,
   "metadata": {},
   "outputs": [],
   "source": [
    "#Load the pre-processed Amazon review dataset.\n",
    "final = pd.read_csv('finalCleanedText.csv')"
   ]
  },
  {
   "cell_type": "markdown",
   "metadata": {},
   "source": [
    "#### Apply Time Based Sorting (TBS)."
   ]
  },
  {
   "cell_type": "code",
   "execution_count": 3,
   "metadata": {},
   "outputs": [],
   "source": [
    "# Add a new column for TimeStamp that is of Datetime datatype, since the dataset's time column is of integer datatype.\n",
    "import datetime\n",
    "\n",
    "final_timesplit_10000    = final['Time']\n",
    "final_timesplit_10000    = final_timesplit_10000.apply(datetime.datetime.fromtimestamp)\n",
    "final['TimeSplit']       = final_timesplit_10000\n",
    "final_dataset            = final.sort_values(['TimeSplit'],ascending=False)"
   ]
  },
  {
   "cell_type": "code",
   "execution_count": 8,
   "metadata": {},
   "outputs": [],
   "source": [
    "#final_dataset[:1000]"
   ]
  },
  {
   "cell_type": "markdown",
   "metadata": {},
   "source": [
    "#### Sample the first 100K points based on time based sorting"
   ]
  },
  {
   "cell_type": "code",
   "execution_count": 4,
   "metadata": {},
   "outputs": [],
   "source": [
    "#Sample first 100K points after time based sorting\n",
    "final_10000 = final_dataset[:100000]\n",
    "# Store label info separately.\n",
    "label_10000 = final_10000['Score'][:100000]"
   ]
  },
  {
   "cell_type": "code",
   "execution_count": 5,
   "metadata": {},
   "outputs": [
    {
     "name": "stdout",
     "output_type": "stream",
     "text": [
      "(100000, 13)\n",
      "(100000,)\n"
     ]
    }
   ],
   "source": [
    "print(final_10000.shape)\n",
    "print(label_10000.shape)"
   ]
  },
  {
   "cell_type": "code",
   "execution_count": 6,
   "metadata": {},
   "outputs": [
    {
     "name": "stdout",
     "output_type": "stream",
     "text": [
      "262240    positive\n",
      "33119     positive\n",
      "353804    negative\n",
      "328939    negative\n",
      "296377    positive\n",
      "Name: Score, dtype: object\n",
      "262240    1\n",
      "33119     1\n",
      "353804    0\n",
      "328939    0\n",
      "296377    1\n",
      "Name: Score, dtype: int64\n"
     ]
    }
   ],
   "source": [
    "print(label_10000[:5])\n",
    "Y_1 = final_10000['Score'].map({\"positive\":1,\"negative\":0})\n",
    "print(Y_1[:5])"
   ]
  },
  {
   "cell_type": "markdown",
   "metadata": {},
   "source": [
    "#### Use TimeSeriesSplit to split the time based sorted Amazon food reviews dataset into Train and Test. "
   ]
  },
  {
   "cell_type": "code",
   "execution_count": 7,
   "metadata": {},
   "outputs": [],
   "source": [
    "from sklearn.model_selection import TimeSeriesSplit\n",
    "splits = TimeSeriesSplit(n_splits=10)\n",
    "X = final_10000['CleanedText']\n",
    "Y = final_10000['Score']\n",
    "Y_1 = final_10000['Score'].map({\"positive\":1,\"negative\":0})\n",
    "\n",
    "for train_index, test_index in splits.split(X):\n",
    "    X_train, X_test = X[X.index[train_index]], X[X.index[test_index]]\n",
    "    y_train, y_test = Y_1[Y_1.index[train_index]], Y_1[Y_1.index[test_index]]\n"
   ]
  },
  {
   "cell_type": "code",
   "execution_count": null,
   "metadata": {},
   "outputs": [],
   "source": []
  },
  {
   "cell_type": "markdown",
   "metadata": {},
   "source": [
    "### Vectorization Method : Bag Of Words (BoW)"
   ]
  },
  {
   "cell_type": "markdown",
   "metadata": {},
   "source": [
    "#### Convert reviews present in trainingset into numeric vectors using Bag Of Words (BoW)"
   ]
  },
  {
   "cell_type": "code",
   "execution_count": 8,
   "metadata": {},
   "outputs": [
    {
     "name": "stdout",
     "output_type": "stream",
     "text": [
      "the type of count vectorizer  <class 'scipy.sparse.csr.csr_matrix'>\n",
      "the shape of out text BOW vectorizer  (90910, 1167986)\n",
      "the number of unique words  1167986\n"
     ]
    }
   ],
   "source": [
    "#BoW\n",
    "\n",
    "# Apply BoW vectorization only on the trainingset.\n",
    "count_vect = CountVectorizer(ngram_range=(1,2)) #in scikit-learn bi-gram\n",
    "\n",
    "#Train you countvectorizer on the train data (.fit_transform()) and \n",
    "#use the same countvectorizer on the test set as well (.transform())\n",
    "final_counts = count_vect.fit_transform(X_train.values.astype('U'))\n",
    "print(\"the type of count vectorizer \",type(final_counts))\n",
    "print(\"the shape of out text BOW vectorizer \",final_counts.get_shape())\n",
    "print(\"the number of unique words \", final_counts.get_shape()[1])"
   ]
  },
  {
   "cell_type": "markdown",
   "metadata": {},
   "source": [
    "#### Use the BoW vectorizer trained in the preceding step to convert test set to vectors."
   ]
  },
  {
   "cell_type": "code",
   "execution_count": 9,
   "metadata": {},
   "outputs": [
    {
     "name": "stdout",
     "output_type": "stream",
     "text": [
      "the type of count vectorizer  <class 'scipy.sparse.csr.csr_matrix'>\n",
      "the shape of out text BOW vectorizer  (9090, 1167986)\n",
      "the number of unique words  1167986\n"
     ]
    }
   ],
   "source": [
    "#use the same countvectorizer on the test set (.transform())\n",
    "final_counts_testset = count_vect.transform(X_test.values)\n",
    "print(\"the type of count vectorizer \",type(final_counts_testset))\n",
    "print(\"the shape of out text BOW vectorizer \",final_counts_testset.get_shape())\n",
    "print(\"the number of unique words \", final_counts_testset.get_shape()[1])"
   ]
  },
  {
   "cell_type": "code",
   "execution_count": null,
   "metadata": {},
   "outputs": [],
   "source": []
  },
  {
   "cell_type": "markdown",
   "metadata": {},
   "source": [
    "#### Reduce Dimensions using TruncatedSVD."
   ]
  },
  {
   "cell_type": "code",
   "execution_count": 10,
   "metadata": {},
   "outputs": [],
   "source": [
    "# Reduce the dimensions of the text vectors to 100 from 190K.\n",
    "from sklearn.decomposition import TruncatedSVD\n",
    "\n",
    "svd = TruncatedSVD(n_components=100, random_state=42)\n",
    "# Training\n",
    "finalTransData = svd.fit_transform(final_counts)\n",
    "# Testing\n",
    "finalTransDataTest = svd.transform(final_counts_testset)"
   ]
  },
  {
   "cell_type": "code",
   "execution_count": 13,
   "metadata": {},
   "outputs": [],
   "source": [
    "#svd.explained_variance_ratio_"
   ]
  },
  {
   "cell_type": "code",
   "execution_count": 11,
   "metadata": {},
   "outputs": [
    {
     "data": {
      "text/plain": [
       "(90910, 100)"
      ]
     },
     "execution_count": 11,
     "metadata": {},
     "output_type": "execute_result"
    }
   ],
   "source": [
    "finalTransData.shape"
   ]
  },
  {
   "cell_type": "code",
   "execution_count": 12,
   "metadata": {},
   "outputs": [
    {
     "data": {
      "text/plain": [
       "(9090, 100)"
      ]
     },
     "execution_count": 12,
     "metadata": {},
     "output_type": "execute_result"
    }
   ],
   "source": [
    "finalTransDataTest.shape"
   ]
  },
  {
   "cell_type": "markdown",
   "metadata": {},
   "source": [
    "#### Standardize Data"
   ]
  },
  {
   "cell_type": "code",
   "execution_count": 13,
   "metadata": {},
   "outputs": [],
   "source": [
    "# Data-preprocessing: Normalizing the data\n",
    "from sklearn.preprocessing import Normalizer\n",
    "\n",
    "# Initialize\n",
    "normalizer = Normalizer()\n",
    "\n",
    "#Standardize on the train data (.fit_transform()) and #use the same Normalizer on the test set as well (.transform())\n",
    "X_train_stdzd = normalizer.fit_transform(finalTransData)\n",
    "X_test_stdzd  = normalizer.transform(finalTransDataTest) "
   ]
  },
  {
   "cell_type": "code",
   "execution_count": null,
   "metadata": {},
   "outputs": [],
   "source": []
  },
  {
   "cell_type": "markdown",
   "metadata": {},
   "source": [
    "#### Using Brute-Force method to calculate the optimal 'k' of k-NN in BoW case."
   ]
  },
  {
   "cell_type": "code",
   "execution_count": 14,
   "metadata": {},
   "outputs": [
    {
     "name": "stderr",
     "output_type": "stream",
     "text": [
      "C:\\ProgramData\\Anaconda3\\lib\\site-packages\\sklearn\\cross_validation.py:41: DeprecationWarning: This module was deprecated in version 0.18 in favor of the model_selection module into which all the refactored classes and functions are moved. Also note that the interface of the new CV iterators are different from that of this module. This module will be removed in 0.20.\n",
      "  \"This module will be removed in 0.20.\", DeprecationWarning)\n",
      "C:\\ProgramData\\Anaconda3\\lib\\site-packages\\sklearn\\grid_search.py:42: DeprecationWarning: This module was deprecated in version 0.18 in favor of the model_selection module into which all the refactored classes and functions are moved. This module will be removed in 0.20.\n",
      "  DeprecationWarning)\n"
     ]
    },
    {
     "name": "stdout",
     "output_type": "stream",
     "text": [
      "Starttime is : 2018-10-29 09:34:28.289014\n",
      "Endtime   is : 2018-10-29 12:27:44.780842\n"
     ]
    }
   ],
   "source": [
    "from sklearn.neighbors import KNeighborsClassifier\n",
    "from sklearn.grid_search import GridSearchCV\n",
    "from sklearn.metrics import accuracy_score, classification_report\n",
    "\n",
    "#GridSearchCV( cv=10,\n",
    "#              error_score='raise', \n",
    "#              estimator=KNeighborsClassifier( algorithm='auto',\n",
    "#                                              leaf_size=30,\n",
    "#                                              metric='minkowski', \n",
    "#                                              metric_params=None,\n",
    "#                                              n_jobs=1,\n",
    "#                                              n_neighbors=5,\n",
    "#                                              p=2,\n",
    "#                                              weights='uniform'), \n",
    "#              fit_params={},\n",
    "#              iid=True, n_jobs=1, \n",
    "#              param_grid={'n_neighbors': array([ 1, 2, 3, 4, 5, 6, 7, 8, 9, 10, 11, 12, 13, 14, 15, 16, 17, 18, 19, 20])}, \n",
    "#              pre_dispatch='2*n_jobs', \n",
    "#              refit=True,\n",
    "#              scoring=None,\n",
    "#              verbose=0\n",
    "#            )\n",
    "\n",
    "starttime_knn_bow = datetime.datetime.now()\n",
    "\n",
    "n_neighbors = [1, 2, 3, 4, 5, 6, 7, 8, 9, 10]\n",
    "tuned_parameters = [{'n_neighbors': n_neighbors,'weights': ['uniform'],'algorithm': ['brute']}]\n",
    "scores = ['f1']\n",
    "\n",
    "performances = [];\n",
    "for score in scores:\n",
    "    clf = GridSearchCV(KNeighborsClassifier(), tuned_parameters, cv=3, scoring=score)\n",
    "    clf.fit(X_train_stdzd, y_train)\n",
    "\n",
    "endtime_knn_bow = datetime.datetime.now()\n",
    "\n",
    "print(\"Starttime is : {}\".format(starttime_knn_bow))\n",
    "print(\"Endtime   is : {}\".format(endtime_knn_bow))"
   ]
  },
  {
   "cell_type": "code",
   "execution_count": 15,
   "metadata": {},
   "outputs": [
    {
     "name": "stdout",
     "output_type": "stream",
     "text": [
      "Trainingset X: 90910\n",
      "Testset     X: 9090\n",
      "Trainingset Y: 90910\n",
      "Testset     Y: 9090\n"
     ]
    }
   ],
   "source": [
    "print(\"Trainingset X: {}\".format(len(X_train_stdzd)))\n",
    "print(\"Testset     X: {}\".format(len(X_test_stdzd)))\n",
    "print(\"Trainingset Y: {}\".format(len(y_train)))\n",
    "print(\"Testset     Y: {}\".format(len(y_test)))\n"
   ]
  },
  {
   "cell_type": "code",
   "execution_count": 16,
   "metadata": {},
   "outputs": [],
   "source": [
    "#The best_params_ and best_score_ attributes on your GridSearchCV instance will give you the best parameter setting \n",
    "#found while doing grid search across parameters and its corresponding score, averaged across all folds.\n",
    "#If you definitely need the individual fold scores, you can also iterate through the grid_scores_ attribute \n",
    "#to find the cv_validation_scores, which is the list of scores for each fold on that parameter setting. \n",
    "\n",
    "# Tabulate the CVScores.\n",
    "import pandas as pd\n",
    "\n",
    "rows = list()\n",
    "for grid_score in clf.grid_scores_:\n",
    "    for fold, score in enumerate(grid_score.cv_validation_scores):\n",
    "        row = grid_score.parameters.copy()\n",
    "        row['fold'] = fold\n",
    "        row['score'] = score\n",
    "        rows.append(row)\n",
    "dfScore = pd.DataFrame(rows)"
   ]
  },
  {
   "cell_type": "code",
   "execution_count": 20,
   "metadata": {},
   "outputs": [],
   "source": [
    "#dfScore.sort_values(['score'],ascending=False)"
   ]
  },
  {
   "cell_type": "code",
   "execution_count": 17,
   "metadata": {},
   "outputs": [
    {
     "name": "stdout",
     "output_type": "stream",
     "text": [
      "The best estimator for the CV training set is :\n",
      "    The optimal number of neighbors (Brute Force case) is 9.\n",
      "    The score for the optimal number of neighbors 9 (Brute Force case) is 0.9053072321230601.\n"
     ]
    }
   ],
   "source": [
    "optimised_knn = clf.best_estimator_\n",
    "optimised_score = clf.best_score_\n",
    "\n",
    "print(\"The best estimator for the CV training set is :\")\n",
    "print('    The optimal number of neighbors (Brute Force case) is %d.' % optimised_knn.n_neighbors)\n",
    "print(\"    The score for the optimal number of neighbors {} (Brute Force case) is {}.\".format(optimised_knn.n_neighbors,optimised_score))\n"
   ]
  },
  {
   "cell_type": "code",
   "execution_count": null,
   "metadata": {},
   "outputs": [],
   "source": []
  },
  {
   "cell_type": "markdown",
   "metadata": {},
   "source": [
    "#### Using Brute-Force method to calculate the metrics of k-NN in BoW case."
   ]
  },
  {
   "cell_type": "code",
   "execution_count": 18,
   "metadata": {},
   "outputs": [
    {
     "data": {
      "image/png": "[encoded data removed]",
      "text/plain": [
       "<matplotlib.figure.Figure at 0x1e836cea6d8>"
      ]
     },
     "metadata": {},
     "output_type": "display_data"
    },
    {
     "name": "stdout",
     "output_type": "stream",
     "text": [
      "Starttime : 2018-10-29 12:43:43.612188\n",
      "Endtime   : 2018-10-29 12:47:08.181495\n"
     ]
    }
   ],
   "source": [
    "# ============================== KNN with k = optimal_k ===============================================\n",
    "\n",
    "# training features   = X_train_stdzd\n",
    "# testing features    = X_test_stdzd\n",
    "# training classlabel = y_train\n",
    "# testing  classlabel = y_test\n",
    "\n",
    "starttime_knn_bow = datetime.datetime.now()\n",
    "\n",
    "# instantiate the k-nn learning model with neighbours k = optimal_k\n",
    "knn_optimal = KNeighborsClassifier(n_neighbors=optimised_knn.n_neighbors)\n",
    "\n",
    "# fitting the model\n",
    "knn_optimal.fit(X_train_stdzd, y_train)\n",
    "\n",
    "# predict the response\n",
    "y_pred = knn_optimal.predict(X_test_stdzd)\n",
    "\n",
    "# evaluate the model and report the metrics.\n",
    "from sklearn.metrics import confusion_matrix\n",
    "conf_mat = confusion_matrix(y_test, y_pred)\n",
    "fig, ax = plt.subplots(figsize=(5,5))\n",
    "sns.heatmap(conf_mat, annot=True, fmt='d'\n",
    "            ,xticklabels=['negative','positive'], yticklabels=['negative','positive'])\n",
    "plt.title('Confusion Matrix : (Vectorizer = BoW|Algorithm = BruteForce)')\n",
    "plt.ylabel('Actual')\n",
    "plt.xlabel('Predicted')\n",
    "plt.show()\n",
    "\n",
    "endtime_knn_bow = datetime.datetime.now()\n",
    "\n",
    "print(\"Starttime : {}\".format(starttime_knn_bow))\n",
    "print(\"Endtime   : {}\".format(endtime_knn_bow))"
   ]
  },
  {
   "cell_type": "code",
   "execution_count": 19,
   "metadata": {},
   "outputs": [
    {
     "name": "stdout",
     "output_type": "stream",
     "text": [
      "True  Positives = 7118\n",
      "True  Negatives = 421\n",
      "False Positives = 1206\n",
      "False Negatives = 345\n"
     ]
    }
   ],
   "source": [
    "tn, fp, fn, tp = confusion_matrix(y_test, y_pred).ravel()\n",
    "print(\"True  Positives = {}\".format(tp))\n",
    "print(\"True  Negatives = {}\".format(tn))\n",
    "print(\"False Positives = {}\".format(fp))\n",
    "print(\"False Negatives = {}\".format(fn))\n"
   ]
  },
  {
   "cell_type": "code",
   "execution_count": null,
   "metadata": {},
   "outputs": [],
   "source": []
  },
  {
   "cell_type": "markdown",
   "metadata": {},
   "source": [
    "### Vectorization Method : TermFrequency-InverseDocumentFrequency (TF_IDF)\n",
    "\n",
    "#### Convert review text into numeric vectors using TF_IDF"
   ]
  },
  {
   "cell_type": "code",
   "execution_count": 20,
   "metadata": {},
   "outputs": [],
   "source": [
    "#TF-IDF\n",
    "# Apply TF-IDF vectorization only on the trainingset.\n",
    "tf_idf_vect = TfidfVectorizer(ngram_range=(1,2))"
   ]
  },
  {
   "cell_type": "code",
   "execution_count": 22,
   "metadata": {},
   "outputs": [
    {
     "name": "stdout",
     "output_type": "stream",
     "text": [
      "the type of count vectorizer  <class 'scipy.sparse.csr.csr_matrix'>\n",
      "the shape of out text TFIDF vectorizer  (90910, 1167986)\n",
      "the number of unique words including both unigrams and bigrams  1167986\n"
     ]
    }
   ],
   "source": [
    "#Train you tf-idf vectorizer on the train data (.fit_transform()) and \n",
    "#use the same vectorizer on the test set as well (.transform())\n",
    "final_tf_idf = tf_idf_vect.fit_transform(X_train.values.astype('U'))\n",
    "\n",
    "print(\"the type of count vectorizer \",type(final_tf_idf))\n",
    "print(\"the shape of out text TFIDF vectorizer \",final_tf_idf.get_shape())\n",
    "print(\"the number of unique words including both unigrams and bigrams \", final_tf_idf.get_shape()[1])"
   ]
  },
  {
   "cell_type": "code",
   "execution_count": 23,
   "metadata": {},
   "outputs": [
    {
     "name": "stdout",
     "output_type": "stream",
     "text": [
      "some sample features(unique words in the corpus) ['awhil want', 'awhil wasnt', 'awhil way', 'awhil week', 'awhil weird', 'awhil would', 'awhil year', 'awhil yes', 'awhil youd', 'awhil your']\n"
     ]
    }
   ],
   "source": [
    "features = tf_idf_vect.get_feature_names()\n",
    "print(\"some sample features(unique words in the corpus)\",features[63600:63610])"
   ]
  },
  {
   "cell_type": "markdown",
   "metadata": {},
   "source": [
    "#### Use the TF-IDF vectorizer trained in the preceding step to convert test set to vectors."
   ]
  },
  {
   "cell_type": "code",
   "execution_count": 24,
   "metadata": {},
   "outputs": [
    {
     "name": "stdout",
     "output_type": "stream",
     "text": [
      "the type of count vectorizer  <class 'scipy.sparse.csr.csr_matrix'>\n",
      "the shape of out text BOW vectorizer  (9090, 1167986)\n",
      "the number of unique words  1167986\n"
     ]
    }
   ],
   "source": [
    "#use the same countvectorizer on the test set (.transform())\n",
    "final_tf_idf_testset = tf_idf_vect.transform(X_test.values)\n",
    "print(\"the type of count vectorizer \",type(final_tf_idf_testset))\n",
    "print(\"the shape of out text BOW vectorizer \",final_tf_idf_testset.get_shape())\n",
    "print(\"the number of unique words \", final_tf_idf_testset.get_shape()[1])\n"
   ]
  },
  {
   "cell_type": "markdown",
   "metadata": {},
   "source": [
    "#### Reduce Dimensions using TruncatedSVD."
   ]
  },
  {
   "cell_type": "code",
   "execution_count": 25,
   "metadata": {},
   "outputs": [],
   "source": [
    "# Reduce the dimensions of the text vectors to 100 from 11 Million.\n",
    "from sklearn.decomposition import TruncatedSVD\n",
    "#Instantiate\n",
    "svd = TruncatedSVD(n_components=100, random_state=42)\n",
    "# Training : Fit the model to the data and reduce the dimensions.\n",
    "finalTransData = svd.fit_transform(final_tf_idf) \n",
    "# Testing : Just reduce the dimensions.\n",
    "finalTransDataTest = svd.transform(final_tf_idf_testset) "
   ]
  },
  {
   "cell_type": "code",
   "execution_count": 27,
   "metadata": {},
   "outputs": [],
   "source": [
    "#svd.explained_variance_ratio_"
   ]
  },
  {
   "cell_type": "code",
   "execution_count": 28,
   "metadata": {},
   "outputs": [
    {
     "data": {
      "text/plain": [
       "(90910, 100)"
      ]
     },
     "execution_count": 28,
     "metadata": {},
     "output_type": "execute_result"
    }
   ],
   "source": [
    "finalTransData.shape"
   ]
  },
  {
   "cell_type": "code",
   "execution_count": 29,
   "metadata": {},
   "outputs": [
    {
     "data": {
      "text/plain": [
       "(9090, 100)"
      ]
     },
     "execution_count": 29,
     "metadata": {},
     "output_type": "execute_result"
    }
   ],
   "source": [
    "finalTransDataTest.shape"
   ]
  },
  {
   "cell_type": "markdown",
   "metadata": {},
   "source": [
    "#### Standardize / Normalize the data"
   ]
  },
  {
   "cell_type": "code",
   "execution_count": 30,
   "metadata": {},
   "outputs": [],
   "source": [
    "# Data-preprocessing: Normalizing the data\n",
    "from sklearn.preprocessing import Normalizer\n",
    "\n",
    "normalizer = Normalizer()\n",
    "#Standardize on the train data (.fit_transform()) and #use the same Normalizer on the test set as well (.transform())\n",
    "X_train_stdzd = normalizer.fit_transform(finalTransData)        \n",
    "X_test_stdzd  = normalizer.transform(finalTransDataTest)"
   ]
  },
  {
   "cell_type": "markdown",
   "metadata": {},
   "source": [
    "#### Using Brute-Force method to calculate the optimal 'k' of k-NN in TF-IDF case."
   ]
  },
  {
   "cell_type": "code",
   "execution_count": 31,
   "metadata": {},
   "outputs": [
    {
     "name": "stdout",
     "output_type": "stream",
     "text": [
      "Starttime is : 2018-10-29 12:53:43.067289\n",
      "Endtime   is : 2018-10-29 16:35:52.008947\n"
     ]
    }
   ],
   "source": [
    "from sklearn.neighbors import KNeighborsClassifier\n",
    "from sklearn.grid_search import GridSearchCV\n",
    "from sklearn.metrics import accuracy_score, classification_report\n",
    "\n",
    "starttime_knn_tfidf = datetime.datetime.now()\n",
    "\n",
    "n_neighbors = [1, 2, 3, 4, 5, 6, 7, 8, 9, 10]\n",
    "tuned_parameters = [{'n_neighbors': n_neighbors,'weights': ['uniform'],'algorithm': ['brute']}]\n",
    "scores = ['f1']\n",
    "\n",
    "performances = [];\n",
    "for score in scores:\n",
    "    clf = GridSearchCV(KNeighborsClassifier(), tuned_parameters, cv=3, scoring=score)\n",
    "    clf.fit(X_train_stdzd, y_train)\n",
    "\n",
    "endtime_knn_tfidf = datetime.datetime.now()\n",
    "\n",
    "print(\"Starttime is : {}\".format(starttime_knn_tfidf))\n",
    "print(\"Endtime   is : {}\".format(endtime_knn_tfidf))"
   ]
  },
  {
   "cell_type": "code",
   "execution_count": 32,
   "metadata": {},
   "outputs": [
    {
     "name": "stdout",
     "output_type": "stream",
     "text": [
      "Trainingset X: 90910\n",
      "Testset     X: 9090\n",
      "Trainingset Y: 90910\n",
      "Testset     Y: 9090\n"
     ]
    }
   ],
   "source": [
    "print(\"Trainingset X: {}\".format(len(X_train_stdzd)))\n",
    "print(\"Testset     X: {}\".format(len(X_test_stdzd)))\n",
    "print(\"Trainingset Y: {}\".format(len(y_train)))\n",
    "print(\"Testset     Y: {}\".format(len(y_test)))"
   ]
  },
  {
   "cell_type": "code",
   "execution_count": 33,
   "metadata": {},
   "outputs": [],
   "source": [
    "#The best_params_ and best_score_ attributes on your GridSearchCV instance will give you the best parameter setting \n",
    "#found while doing grid search across parameters and its corresponding score, averaged across all folds.\n",
    "#If you definitely need the individual fold scores, you can also iterate through the grid_scores_ attribute \n",
    "#to find the cv_validation_scores, which is the list of scores for each fold on that parameter setting. \n",
    "\n",
    "# Tabulate the CVScores.\n",
    "import pandas as pd\n",
    "\n",
    "rows = list()\n",
    "for grid_score in clf.grid_scores_:\n",
    "    for fold, score in enumerate(grid_score.cv_validation_scores):\n",
    "        row = grid_score.parameters.copy()\n",
    "        row['fold'] = fold\n",
    "        row['score'] = score\n",
    "        rows.append(row)\n",
    "dfScore = pd.DataFrame(rows)\n"
   ]
  },
  {
   "cell_type": "code",
   "execution_count": 23,
   "metadata": {},
   "outputs": [],
   "source": [
    "#dfScore"
   ]
  },
  {
   "cell_type": "code",
   "execution_count": 34,
   "metadata": {},
   "outputs": [
    {
     "name": "stdout",
     "output_type": "stream",
     "text": [
      "The best estimator for the CV training set is :\n",
      "    The optimal number of neighbors (Brute Force case) is 9.\n",
      "    The score for the optimal number of neighbors 9 (Brute Force case) is 0.9130622582983245.\n"
     ]
    }
   ],
   "source": [
    "#Best Parameters and Best Score\n",
    "\n",
    "optimised_knn = clf.best_estimator_\n",
    "optimised_score = clf.best_score_\n",
    "\n",
    "print(\"The best estimator for the CV training set is :\")\n",
    "print('    The optimal number of neighbors (Brute Force case) is %d.' % optimised_knn.n_neighbors)\n",
    "print(\"    The score for the optimal number of neighbors {} (Brute Force case) is {}.\".format(optimised_knn.n_neighbors,optimised_score))\n"
   ]
  },
  {
   "cell_type": "markdown",
   "metadata": {},
   "source": [
    "#### Using Brute-Force method to calculate the accuracy of k-NN in TF-IDF case."
   ]
  },
  {
   "cell_type": "code",
   "execution_count": 35,
   "metadata": {},
   "outputs": [
    {
     "data": {
      "image/png": "[encoded data removed]",
      "text/plain": [
       "<matplotlib.figure.Figure at 0x1e850f6ca90>"
      ]
     },
     "metadata": {},
     "output_type": "display_data"
    },
    {
     "name": "stdout",
     "output_type": "stream",
     "text": [
      "Starttime : 2018-10-29 17:23:26.861628\n",
      "Endtime   : 2018-10-29 17:26:50.045765\n"
     ]
    }
   ],
   "source": [
    "# ============================== KNN with k = optimal_k ===============================================\n",
    "\n",
    "# training features   = X_train_stdzd_dense\n",
    "# testing features    = X_test_stdzd_dense\n",
    "# training classlabel = y_train\n",
    "# testing  classlabel = y_test\n",
    "\n",
    "starttime_knn_tfidf = datetime.datetime.now()\n",
    "\n",
    "# instantiate the k-nn learning model with neighbours k = optimal_k\n",
    "knn_optimal = KNeighborsClassifier(n_neighbors=optimised_knn.n_neighbors)\n",
    "\n",
    "# fitting the model\n",
    "knn_optimal.fit(X_train_stdzd, y_train)\n",
    "\n",
    "# predict the response\n",
    "y_pred = knn_optimal.predict(X_test_stdzd)\n",
    "\n",
    "# evaluate the model and report the metrics.\n",
    "from sklearn.metrics import confusion_matrix\n",
    "conf_mat = confusion_matrix(y_test, y_pred)\n",
    "fig, ax = plt.subplots(figsize=(5,5))\n",
    "sns.heatmap(conf_mat, annot=True, fmt='d'\n",
    "            ,xticklabels=['negative','positive'], yticklabels=['negative','positive'])\n",
    "plt.title('Confusion Matrix : (Vectorizer = Tf-Idf|Algorithm = BruteForce)')\n",
    "plt.ylabel('Actual')\n",
    "plt.xlabel('Predicted')\n",
    "plt.show()\n",
    "\n",
    "endtime_knn_tfidf = datetime.datetime.now()\n",
    "\n",
    "print(\"Starttime : {}\".format(starttime_knn_tfidf))\n",
    "print(\"Endtime   : {}\".format(endtime_knn_tfidf))\n"
   ]
  },
  {
   "cell_type": "code",
   "execution_count": 36,
   "metadata": {},
   "outputs": [
    {
     "name": "stdout",
     "output_type": "stream",
     "text": [
      "True  Positives = 7152\n",
      "True  Negatives = 566\n",
      "False Positives = 1061\n",
      "False Negatives = 311\n"
     ]
    }
   ],
   "source": [
    "# Metrics\n",
    "tn, fp, fn, tp = confusion_matrix(y_test, y_pred).ravel()\n",
    "print(\"True  Positives = {}\".format(tp))\n",
    "print(\"True  Negatives = {}\".format(tn))\n",
    "print(\"False Positives = {}\".format(fp))\n",
    "print(\"False Negatives = {}\".format(fn))"
   ]
  },
  {
   "cell_type": "code",
   "execution_count": null,
   "metadata": {},
   "outputs": [],
   "source": []
  },
  {
   "cell_type": "markdown",
   "metadata": {},
   "source": [
    "### Vectorization Method : Average Word2Vec : Avg W2V\n",
    "#### Convert review text into numeric vectors using Avg W2V"
   ]
  },
  {
   "cell_type": "code",
   "execution_count": 8,
   "metadata": {},
   "outputs": [
    {
     "name": "stderr",
     "output_type": "stream",
     "text": [
      "100%|████████████████████████████████████████████████████████████████████████████████████████████████████████████████████████████████████████████████████████████████████| 90910/90910 [00:01<00:00, 59860.44it/s]\n"
     ]
    }
   ],
   "source": [
    "# Train your own Word2Vec model using your own text training corpus.\n",
    "# Train Word2Vec on training set alone.\n",
    "i=0\n",
    "list_of_sent=[]\n",
    "for sent in tqdm(X_train.values.astype('U')):\n",
    "    list_of_sent.append(sent.split())"
   ]
  },
  {
   "cell_type": "code",
   "execution_count": 9,
   "metadata": {},
   "outputs": [
    {
     "name": "stdout",
     "output_type": "stream",
     "text": [
      "big lover fig jam fig jam uniqu flavor kind mix light kadoda fig dark mission fig must tri\n",
      "*****************************************************************\n",
      "['big', 'lover', 'fig', 'jam', 'fig', 'jam', 'uniqu', 'flavor', 'kind', 'mix', 'light', 'kadoda', 'fig', 'dark', 'mission', 'fig', 'must', 'tri']\n"
     ]
    }
   ],
   "source": [
    "print(X_train.values[0])\n",
    "print(\"*****************************************************************\")\n",
    "print(list_of_sent[0])"
   ]
  },
  {
   "cell_type": "code",
   "execution_count": 10,
   "metadata": {},
   "outputs": [
    {
     "name": "stdout",
     "output_type": "stream",
     "text": [
      "90910\n",
      "[['big', 'lover', 'fig', 'jam', 'fig', 'jam', 'uniqu', 'flavor', 'kind', 'mix', 'light', 'kadoda', 'fig', 'dark', 'mission', 'fig', 'must', 'tri'], ['great', 'product', 'good', 'price', 'definit', 'order', 'product', 'use', 'bottl', 'empti']]\n"
     ]
    }
   ],
   "source": [
    "print(len(list_of_sent))\n",
    "print(list_of_sent[:2])"
   ]
  },
  {
   "cell_type": "markdown",
   "metadata": {},
   "source": [
    "#### Train the Word2Vec model on the training set alone."
   ]
  },
  {
   "cell_type": "code",
   "execution_count": 11,
   "metadata": {},
   "outputs": [],
   "source": [
    "# min_count = 5 considers only words that occured atleast 5 times\n",
    "# Word2Vec(list,word_repeat_count,dimension_of_each_word_vector,Number_of_Processor_cores)\n",
    "w2v_model=Word2Vec(list_of_sent,min_count=5,size=50, workers=4)"
   ]
  },
  {
   "cell_type": "code",
   "execution_count": 12,
   "metadata": {},
   "outputs": [
    {
     "name": "stdout",
     "output_type": "stream",
     "text": [
      "number of words that occured minimum 5 times  11922\n",
      "sample words  ['big', 'lover', 'fig', 'jam', 'uniqu', 'flavor', 'kind', 'mix', 'light', 'dark', 'mission', 'must', 'tri', 'great', 'product', 'good', 'price', 'definit', 'order', 'use', 'bottl', 'empti', 'expect', 'box', 'full', 'fortun', 'cooki', 'like', 'one', 'nonetheless', 'got', 'small', 'tast', 'weird', 'okay', 'best', 'ever', 'review', 'amazon', 'check', 'label', 'contain', 'sure', 'enough', 'propylen', 'glycol', 'top', 'ingredi', 'ive', 'done']\n"
     ]
    }
   ],
   "source": [
    "w2v_words = list(w2v_model.wv.vocab)\n",
    "print(\"number of words that occured minimum 5 times \",len(w2v_words))\n",
    "print(\"sample words \", w2v_words[0:50])"
   ]
  },
  {
   "cell_type": "code",
   "execution_count": 13,
   "metadata": {},
   "outputs": [
    {
     "name": "stdout",
     "output_type": "stream",
     "text": [
      "[-0.02339705 -0.5038013  -1.0233485  -1.6252145   0.5382385  -2.1190114\n",
      "  0.6297869  -2.156146   -0.17931254 -0.11915223  0.9084923  -0.76846576\n",
      " -0.77057976 -0.22886272  0.71245164 -0.49296907 -0.15662356 -1.2945255\n",
      "  2.0405145   1.3165451   1.27487    -0.25271818 -2.8045905  -1.1736085\n",
      "  0.46220607 -0.1621173   0.03980366  0.04951303 -2.0421336   0.04190525\n",
      "  1.0036613   0.2610947   0.5804377  -0.35864675 -0.7194803  -0.2965654\n",
      " -0.81504846  0.5983363  -0.9059558  -1.1688837  -0.42010468  0.05828789\n",
      " -0.62746334  0.3360202   0.01069045  0.71793866  1.2894322  -0.09002912\n",
      " -0.32576704 -2.3222935 ]\n"
     ]
    }
   ],
   "source": [
    "print(w2v_model.wv['product'])"
   ]
  },
  {
   "cell_type": "markdown",
   "metadata": {},
   "source": [
    "#### Compute the average Word2Vec for each review in the training set."
   ]
  },
  {
   "cell_type": "code",
   "execution_count": 14,
   "metadata": {},
   "outputs": [
    {
     "name": "stderr",
     "output_type": "stream",
     "text": [
      "100%|█████████████████████████████████████████████████████████████████████████████████████████████████████████████████████████████████████████████████████████████████████| 90910/90910 [01:15<00:00, 1210.24it/s]\n"
     ]
    },
    {
     "name": "stdout",
     "output_type": "stream",
     "text": [
      "The total number of words is 90910\n",
      "The dimension of each word vector is 50\n"
     ]
    }
   ],
   "source": [
    "# average Word2Vec\n",
    "# Avg. Word2Vec = (W2V(w1)+W2V(w2)+W2V(w3)+...... +W2V(w364171)) / 364171\n",
    "# compute average word2vec for each review.\n",
    "sent_vectors = [];                     # the avg-w2v for each sentence/review is stored in this list\n",
    "for sent in tqdm(list_of_sent):        # for each review/sentence in the training set\n",
    "    sent_vec = np.zeros(50)            # as word vectors are of zero length\n",
    "    cnt_words =0;                      # num of words with a valid vector in the sentence/review\n",
    "    for word in sent:                  # for each word in a review/sentence\n",
    "        if word in w2v_words:          # if the word exists in the vocabulary\n",
    "            vec = w2v_model.wv[word]   # convert the word to vector\n",
    "            sent_vec += vec\n",
    "            cnt_words += 1\n",
    "    if cnt_words != 0:\n",
    "        sent_vec /= cnt_words\n",
    "    sent_vectors.append(sent_vec)\n",
    "print('The total number of words is {}'.format(len(sent_vectors)))\n",
    "print('The dimension of each word vector is {}'.format(len(sent_vectors[0])))"
   ]
  },
  {
   "cell_type": "markdown",
   "metadata": {},
   "source": [
    "#### Build the text corpus of the test set."
   ]
  },
  {
   "cell_type": "code",
   "execution_count": 15,
   "metadata": {},
   "outputs": [
    {
     "name": "stderr",
     "output_type": "stream",
     "text": [
      "100%|█████████████████████████████████████████████████████████████████████████████████████████████████████████████████████████████████████████████████████████████████████| 9090/9090 [00:00<00:00, 186105.95it/s]\n"
     ]
    }
   ],
   "source": [
    "# Build the test text corpus.\n",
    "i=0\n",
    "list_of_sent_test=[]\n",
    "#for sent in final_dataset['CleanedText'].values:\n",
    "for sent in tqdm(X_test.values):\n",
    "    list_of_sent_test.append(sent.split())"
   ]
  },
  {
   "cell_type": "code",
   "execution_count": 16,
   "metadata": {},
   "outputs": [
    {
     "name": "stdout",
     "output_type": "stream",
     "text": [
      "mild definit coconut flavor use instead butter toast vegi rice cake etc good fri except egg crispi brown contain medium chain amino acid work wonder brain neuron connect alshiem wean babi lack may even factor caus autism oliv oil none\n",
      "*****************************************************************\n",
      "['mild', 'definit', 'coconut', 'flavor', 'use', 'instead', 'butter', 'toast', 'vegi', 'rice', 'cake', 'etc', 'good', 'fri', 'except', 'egg', 'crispi', 'brown', 'contain', 'medium', 'chain', 'amino', 'acid', 'work', 'wonder', 'brain', 'neuron', 'connect', 'alshiem', 'wean', 'babi', 'lack', 'may', 'even', 'factor', 'caus', 'autism', 'oliv', 'oil', 'none']\n"
     ]
    }
   ],
   "source": [
    "print(X_test.values[0])\n",
    "print(\"*****************************************************************\")\n",
    "print(list_of_sent_test[0])"
   ]
  },
  {
   "cell_type": "markdown",
   "metadata": {},
   "source": [
    "#### Use the trained word2vec model to compute the average Word2Vec for each review in the test set."
   ]
  },
  {
   "cell_type": "code",
   "execution_count": 17,
   "metadata": {},
   "outputs": [
    {
     "name": "stderr",
     "output_type": "stream",
     "text": [
      "100%|███████████████████████████████████████████████████████████████████████████████████████████████████████████████████████████████████████████████████████████████████████| 9090/9090 [00:08<00:00, 1049.19it/s]\n"
     ]
    },
    {
     "name": "stdout",
     "output_type": "stream",
     "text": [
      "The total number of words is 9090\n",
      "The dimension of each word vector is 50\n"
     ]
    }
   ],
   "source": [
    "# average Word2Vec\n",
    "# Avg. Word2Vec = (W2V(w1)+W2V(w2)+W2V(w3)+...... +W2V(w364171)) / 364171\n",
    "# compute average word2vec for each review.\n",
    "sent_vectors_test = [];                # the avg-w2v for each sentence/review is stored in this list\n",
    "for sent in tqdm(list_of_sent_test):   # for each review/sentence in the test set\n",
    "    sent_vec = np.zeros(50)            # as word vectors are of zero length\n",
    "    cnt_words =0;                      # num of words with a valid vector in the sentence/review\n",
    "    for word in sent:                  # for each word in a review/sentence\n",
    "        if word in w2v_words:          # if the word exists in the vocabulary\n",
    "            vec = w2v_model.wv[word]   # convert the word to vector using the trained model.\n",
    "            sent_vec += vec\n",
    "            cnt_words += 1\n",
    "    if cnt_words != 0:\n",
    "        sent_vec /= cnt_words\n",
    "    sent_vectors_test.append(sent_vec)\n",
    "print('The total number of words is {}'.format(len(sent_vectors_test)))\n",
    "print('The dimension of each word vector is {}'.format(len(sent_vectors_test[0])))"
   ]
  },
  {
   "cell_type": "markdown",
   "metadata": {},
   "source": [
    "#### Standardize / Normalize the data"
   ]
  },
  {
   "cell_type": "code",
   "execution_count": 18,
   "metadata": {},
   "outputs": [],
   "source": [
    "# Data-preprocessing: Normalizing the data\n",
    "from sklearn.preprocessing import Normalizer\n",
    "\n",
    "normalizer = Normalizer()\n",
    "#Standardize on the train data (.fit_transform()) and \n",
    "#use the same Normalizer on the test set as well (.transform())\n",
    "X_train_stdzd = normalizer.fit_transform(sent_vectors)\n",
    "X_test_stdzd  = normalizer.transform(sent_vectors_test) "
   ]
  },
  {
   "cell_type": "markdown",
   "metadata": {},
   "source": [
    "#### Using Brute-Force method to calculate the optimal 'k' of k-NN in Avg-Word2Vec case."
   ]
  },
  {
   "cell_type": "code",
   "execution_count": 19,
   "metadata": {},
   "outputs": [
    {
     "name": "stderr",
     "output_type": "stream",
     "text": [
      "C:\\ProgramData\\Anaconda3\\lib\\site-packages\\sklearn\\cross_validation.py:41: DeprecationWarning: This module was deprecated in version 0.18 in favor of the model_selection module into which all the refactored classes and functions are moved. Also note that the interface of the new CV iterators are different from that of this module. This module will be removed in 0.20.\n",
      "  \"This module will be removed in 0.20.\", DeprecationWarning)\n",
      "C:\\ProgramData\\Anaconda3\\lib\\site-packages\\sklearn\\grid_search.py:42: DeprecationWarning: This module was deprecated in version 0.18 in favor of the model_selection module into which all the refactored classes and functions are moved. This module will be removed in 0.20.\n",
      "  DeprecationWarning)\n"
     ]
    },
    {
     "name": "stdout",
     "output_type": "stream",
     "text": [
      "Starttime is : 2018-10-29 18:25:26.712384\n",
      "Endtime is   : 2018-10-29 22:58:45.137219\n"
     ]
    }
   ],
   "source": [
    "from sklearn.neighbors import KNeighborsClassifier\n",
    "from sklearn.grid_search import GridSearchCV\n",
    "from sklearn.metrics import accuracy_score, classification_report\n",
    "\n",
    "starttime_knn_avgw2v = datetime.datetime.now()\n",
    "\n",
    "n_neighbors = [1, 2, 3, 4, 5, 6, 7, 8, 9, 10]\n",
    "tuned_parameters = [{'n_neighbors': n_neighbors,'weights': ['uniform'],'algorithm': ['brute']}]\n",
    "scores = ['f1']\n",
    "\n",
    "performances = [];\n",
    "for score in scores:\n",
    "    clf = GridSearchCV(KNeighborsClassifier(), tuned_parameters, cv=3, scoring=score)\n",
    "    clf.fit(X_train_stdzd, y_train)\n",
    "\n",
    "endtime_knn_avgw2v = datetime.datetime.now()\n",
    "\n",
    "print(\"Starttime is : {}\".format(starttime_knn_avgw2v))\n",
    "print(\"Endtime is   : {}\".format(endtime_knn_avgw2v))"
   ]
  },
  {
   "cell_type": "code",
   "execution_count": 20,
   "metadata": {},
   "outputs": [
    {
     "name": "stdout",
     "output_type": "stream",
     "text": [
      "Trainingset X: 90910\n",
      "Testset     X: 9090\n",
      "Trainingset Y: 90910\n",
      "Testset     Y: 9090\n"
     ]
    }
   ],
   "source": [
    "print(\"Trainingset X: {}\".format(len(X_train_stdzd)))\n",
    "print(\"Testset     X: {}\".format(len(X_test_stdzd)))\n",
    "print(\"Trainingset Y: {}\".format(len(y_train)))\n",
    "print(\"Testset     Y: {}\".format(len(y_test)))"
   ]
  },
  {
   "cell_type": "code",
   "execution_count": 21,
   "metadata": {},
   "outputs": [],
   "source": [
    "#The best_params_ and best_score_ attributes on your GridSearchCV instance will give you the best parameter setting \n",
    "#found while doing grid search across parameters and its corresponding score, averaged across all folds.\n",
    "#If you definitely need the individual fold scores, you can also iterate through the grid_scores_ attribute \n",
    "#to find the cv_validation_scores, which is the list of scores for each fold on that parameter setting. \n",
    "\n",
    "# Tabulate the CVScores.\n",
    "import pandas as pd\n",
    "\n",
    "rows = list()\n",
    "for grid_score in clf.grid_scores_:\n",
    "    for fold, score in enumerate(grid_score.cv_validation_scores):\n",
    "        row = grid_score.parameters.copy()\n",
    "        row['fold'] = fold\n",
    "        row['score'] = score\n",
    "        rows.append(row)\n",
    "dfScore = pd.DataFrame(rows)"
   ]
  },
  {
   "cell_type": "code",
   "execution_count": 22,
   "metadata": {},
   "outputs": [
    {
     "name": "stdout",
     "output_type": "stream",
     "text": [
      "The best estimator for the CV training set is :\n",
      "    The optimal number of neighbors (Brute Force case) is 10.\n",
      "    The score for the optimal number of neighbors 10 (Brute Force case) is 0.9269582141277134.\n"
     ]
    }
   ],
   "source": [
    "#Best Parameters and Best Score\n",
    "optimised_knn = clf.best_estimator_\n",
    "optimised_score = clf.best_score_\n",
    "\n",
    "print(\"The best estimator for the CV training set is :\")\n",
    "print('    The optimal number of neighbors (Brute Force case) is %d.' % optimised_knn.n_neighbors)\n",
    "print(\"    The score for the optimal number of neighbors {} (Brute Force case) is {}.\".format(optimised_knn.n_neighbors,optimised_score))"
   ]
  },
  {
   "cell_type": "markdown",
   "metadata": {},
   "source": [
    "#### Using Brute-Force method to calculate the accuracy of k-NN in Avg Word2Vec case."
   ]
  },
  {
   "cell_type": "code",
   "execution_count": 23,
   "metadata": {},
   "outputs": [
    {
     "data": {
      "image/png": "[encoded data removed]",
      "text/plain": [
       "<matplotlib.figure.Figure at 0x18d3445d0b8>"
      ]
     },
     "metadata": {},
     "output_type": "display_data"
    },
    {
     "name": "stdout",
     "output_type": "stream",
     "text": [
      "Starttime : 2018-10-30 07:19:11.560298\n",
      "Endtime   : 2018-10-30 07:21:12.233754\n"
     ]
    }
   ],
   "source": [
    "# ============================== KNN with k = optimal_k ===============================================\n",
    "\n",
    "# training features   = X_train_stdzd_dense\n",
    "# testing features    = X_test_stdzd_dense\n",
    "# training classlabel = y_train\n",
    "# testing  classlabel = y_test\n",
    "\n",
    "starttime_knn_avgw2v = datetime.datetime.now()\n",
    "\n",
    "# instantiate the k-nn learning model with neighbours k = optimal_k\n",
    "knn_optimal = KNeighborsClassifier(n_neighbors=optimised_knn.n_neighbors)\n",
    "\n",
    "# fitting the model\n",
    "knn_optimal.fit(X_train_stdzd, y_train)\n",
    "\n",
    "# predict the response\n",
    "y_pred = knn_optimal.predict(X_test_stdzd)\n",
    "\n",
    "# evaluate the model and report the metrics.\n",
    "from sklearn.metrics import confusion_matrix\n",
    "conf_mat = confusion_matrix(y_test, y_pred)\n",
    "fig, ax = plt.subplots(figsize=(5,5))\n",
    "sns.heatmap(conf_mat, annot=True, fmt='d'\n",
    "            ,xticklabels=['negative','positive'], yticklabels=['negative','positive'])\n",
    "plt.title('Confusion Matrix : (Vectorizer = AvgW2V|Algorithm = BruteForce)')\n",
    "plt.ylabel('Actual')\n",
    "plt.xlabel('Predicted')\n",
    "plt.show()\n",
    "\n",
    "endtime_knn_avgw2v = datetime.datetime.now()\n",
    "\n",
    "print(\"Starttime : {}\".format(starttime_knn_avgw2v))\n",
    "print(\"Endtime   : {}\".format(endtime_knn_avgw2v))\n"
   ]
  },
  {
   "cell_type": "code",
   "execution_count": 24,
   "metadata": {},
   "outputs": [
    {
     "name": "stdout",
     "output_type": "stream",
     "text": [
      "True  Positives = 7142\n",
      "True  Negatives = 770\n",
      "False Positives = 857\n",
      "False Negatives = 321\n"
     ]
    }
   ],
   "source": [
    "# Metrics\n",
    "tn, fp, fn, tp = confusion_matrix(y_test, y_pred).ravel()\n",
    "print(\"True  Positives = {}\".format(tp))\n",
    "print(\"True  Negatives = {}\".format(tn))\n",
    "print(\"False Positives = {}\".format(fp))\n",
    "print(\"False Negatives = {}\".format(fn))\n"
   ]
  },
  {
   "cell_type": "code",
   "execution_count": null,
   "metadata": {},
   "outputs": [],
   "source": []
  },
  {
   "cell_type": "markdown",
   "metadata": {},
   "source": [
    "### Vectorization Method : TermFrequency-InverseDocumentFrequency_ Weighted Word2Vector (TF-IDF W2V)"
   ]
  },
  {
   "cell_type": "markdown",
   "metadata": {},
   "source": [
    "#### Convert review text into numeric vectors using TF-IDF_WW2F"
   ]
  },
  {
   "cell_type": "code",
   "execution_count": 8,
   "metadata": {},
   "outputs": [
    {
     "name": "stdout",
     "output_type": "stream",
     "text": [
      "the type of count vectorizer  <class 'scipy.sparse.csr.csr_matrix'>\n",
      "the shape of out text TFIDF vectorizer  (90910, 1167986)\n",
      "the number of unique words including both unigrams and bigrams  1167986\n"
     ]
    }
   ],
   "source": [
    "#TF-IDF\n",
    "# Apply TF-IDF vectorization only on the trainingset.\n",
    "tf_idf_vect = TfidfVectorizer(ngram_range=(1,2))\n",
    "\n",
    "#Train you tf-idf vectorizer on the train data (.fit_transform()) and \n",
    "#use the same vectorizer on the test set as well (.transform())\n",
    "final_tf_idf = tf_idf_vect.fit_transform(X_train.values.astype('U'))\n",
    "\n",
    "print(\"the type of count vectorizer \",type(final_tf_idf))\n",
    "print(\"the shape of out text TFIDF vectorizer \",final_tf_idf.get_shape())\n",
    "print(\"the number of unique words including both unigrams and bigrams \", final_tf_idf.get_shape()[1])\n"
   ]
  },
  {
   "cell_type": "code",
   "execution_count": 9,
   "metadata": {},
   "outputs": [
    {
     "name": "stdout",
     "output_type": "stream",
     "text": [
      "some sample features(unique words in the corpus) ['awhil want', 'awhil wasnt', 'awhil way', 'awhil week', 'awhil weird', 'awhil would', 'awhil year', 'awhil yes', 'awhil youd', 'awhil your']\n"
     ]
    }
   ],
   "source": [
    "features = tf_idf_vect.get_feature_names()\n",
    "print(\"some sample features(unique words in the corpus)\",features[63600:63610])"
   ]
  },
  {
   "cell_type": "markdown",
   "metadata": {},
   "source": [
    "#### Use the TF-IDF vectorizer trained in the preceding step to convert test set to vectors."
   ]
  },
  {
   "cell_type": "code",
   "execution_count": 10,
   "metadata": {},
   "outputs": [
    {
     "name": "stdout",
     "output_type": "stream",
     "text": [
      "the type of count vectorizer  <class 'scipy.sparse.csr.csr_matrix'>\n",
      "the shape of out text TF-IDF vectorizer  (9090, 1167986)\n",
      "the number of unique words  1167986\n"
     ]
    }
   ],
   "source": [
    "#use the same countvectorizer on the test set (.transform())\n",
    "final_tf_idf_testset = tf_idf_vect.transform(X_test.values)\n",
    "print(\"the type of count vectorizer \",type(final_tf_idf_testset))\n",
    "print(\"the shape of out text TF-IDF vectorizer \",final_tf_idf_testset.get_shape())\n",
    "print(\"the number of unique words \", final_tf_idf_testset.get_shape()[1])"
   ]
  },
  {
   "cell_type": "code",
   "execution_count": 11,
   "metadata": {},
   "outputs": [],
   "source": [
    "# we are converting a dictionary with word as a key, and the idf as a value\n",
    "dictionary = dict(zip(tf_idf_vect.get_feature_names(), list(tf_idf_vect.idf_)))"
   ]
  },
  {
   "cell_type": "markdown",
   "metadata": {},
   "source": [
    "#### Build the list of sentences for the training set."
   ]
  },
  {
   "cell_type": "code",
   "execution_count": 12,
   "metadata": {},
   "outputs": [],
   "source": [
    "# Train your own Word2Vec model using your own text training corpus.\n",
    "# Train Word2Vec on training set alone.\n",
    "i=0\n",
    "list_of_sent=[]\n",
    "#for sent in final_dataset['CleanedText'].values:\n",
    "for sent in X_train.values.astype('U'):\n",
    "    list_of_sent.append(sent.split())"
   ]
  },
  {
   "cell_type": "markdown",
   "metadata": {},
   "source": [
    "#### Build the list of sentences for the test set."
   ]
  },
  {
   "cell_type": "code",
   "execution_count": 13,
   "metadata": {},
   "outputs": [],
   "source": [
    "# Train your own Word2Vec model using your own text training corpus.\n",
    "# Train Word2Vec on training set alone.\n",
    "i=0\n",
    "list_of_sent_test=[]\n",
    "for sent in X_test.values:\n",
    "    list_of_sent_test.append(sent.split())"
   ]
  },
  {
   "cell_type": "markdown",
   "metadata": {},
   "source": [
    "#### Train the Word2Vec model on the training set alone."
   ]
  },
  {
   "cell_type": "code",
   "execution_count": 14,
   "metadata": {},
   "outputs": [
    {
     "name": "stdout",
     "output_type": "stream",
     "text": [
      "number of words that occured minimum 5 times  11922\n",
      "sample words  ['big', 'lover', 'fig', 'jam', 'uniqu', 'flavor', 'kind', 'mix', 'light', 'dark', 'mission', 'must', 'tri', 'great', 'product', 'good', 'price', 'definit', 'order', 'use', 'bottl', 'empti', 'expect', 'box', 'full', 'fortun', 'cooki', 'like', 'one', 'nonetheless', 'got', 'small', 'tast', 'weird', 'okay', 'best', 'ever', 'review', 'amazon', 'check', 'label', 'contain', 'sure', 'enough', 'propylen', 'glycol', 'top', 'ingredi', 'ive', 'done']\n"
     ]
    }
   ],
   "source": [
    "# min_count = 5 considers only words that occured atleast 5 times\n",
    "# Word2Vec(list,word_repeat_count,dimension_of_each_word_vector,Number_of_Processor_cores)\n",
    "\n",
    "w2v_model=Word2Vec(list_of_sent,min_count=5,size=50, workers=4)\n",
    "w2v_words = list(w2v_model.wv.vocab)\n",
    "print(\"number of words that occured minimum 5 times \",len(w2v_words))\n",
    "print(\"sample words \", w2v_words[0:50])"
   ]
  },
  {
   "cell_type": "markdown",
   "metadata": {},
   "source": [
    "#### Train the TF-IDF Weighted Word2Vec on the training set."
   ]
  },
  {
   "cell_type": "code",
   "execution_count": 15,
   "metadata": {},
   "outputs": [
    {
     "name": "stderr",
     "output_type": "stream",
     "text": [
      "100%|██████████████████████████████████████████████████████████████████████████████████████████████████████████████████████████████████████████████████████████████████████| 90910/90910 [01:37<00:00, 932.62it/s]\n"
     ]
    }
   ],
   "source": [
    "# TF-IDF weighted Word2Vec\n",
    "tfidf_feat = tf_idf_vect.get_feature_names() # tfidf words/col-names\n",
    "# final_tf_idf is the sparse matrix with row= sentence, col=word and cell_val = tfidf\n",
    "\n",
    "tfidf_sent_vectors = []; # the tfidf-w2v for each sentence/review is stored in this list\n",
    "row=0;\n",
    "for sent in tqdm(list_of_sent): # for each review/sentence \n",
    "    sent_vec = np.zeros(50) # as word vectors are of zero length\n",
    "    weight_sum =0; # num of words with a valid vector in the sentence/review\n",
    "    for word in sent: # for each word in a review/sentence\n",
    "        if word in w2v_words:\n",
    "            vec = w2v_model.wv[word]\n",
    "            # obtain the tf_idfidf of a word in a sentence/review\n",
    "            # tfidf_avgw2v = final_tf_idf[row, tfidf_feat.index(word)]\n",
    "            # to reduce the computation we are \n",
    "            # dictionary[word] = idf value of word in whole courpus\n",
    "            # sent.count(word) = tf valeus of word in this review\n",
    "            tfidf_avgw2v = dictionary[word]*(sent.count(word)/len(sent))\n",
    "            sent_vec += (vec * tfidf_avgw2v)\n",
    "            weight_sum += tfidf_avgw2v\n",
    "    if weight_sum != 0:\n",
    "        sent_vec /= weight_sum\n",
    "    tfidf_sent_vectors.append(sent_vec)\n",
    "    row += 1"
   ]
  },
  {
   "cell_type": "markdown",
   "metadata": {},
   "source": [
    "#### Use the TF-IDF Weigthed Word2Vec model trained on training set to Test data."
   ]
  },
  {
   "cell_type": "code",
   "execution_count": 16,
   "metadata": {},
   "outputs": [
    {
     "name": "stderr",
     "output_type": "stream",
     "text": [
      "100%|████████████████████████████████████████████████████████████████████████████████████████████████████████████████████████████████████████████████████████████████████████| 9090/9090 [00:10<00:00, 890.91it/s]\n"
     ]
    }
   ],
   "source": [
    "# TF-IDF weighted Word2Vec\n",
    "tfidf_feat = tf_idf_vect.get_feature_names() # tfidf words/col-names\n",
    "# final_tf_idf is the sparse matrix with row= sentence, col=word and cell_val = tfidf\n",
    "\n",
    "tfidf_sent_vectors_test = []; # the tfidf-w2v for each sentence/review is stored in this list\n",
    "row=0;\n",
    "for sent in tqdm(list_of_sent_test): # for each review/sentence \n",
    "    sent_vec = np.zeros(50) # as word vectors are of zero length\n",
    "    weight_sum =0; # num of words with a valid vector in the sentence/review\n",
    "    for word in sent: # for each word in a review/sentence\n",
    "        if word in w2v_words:\n",
    "            vec = w2v_model.wv[word]\n",
    "            # obtain the tf_idfidf of a word in a sentence/review\n",
    "            # tfidf_avgw2v = final_tf_idf[row, tfidf_feat.index(word)]\n",
    "            # to reduce the computation we are \n",
    "            # dictionary[word] = idf value of word in whole courpus\n",
    "            # sent.count(word) = tf valeus of word in this review\n",
    "            tfidf_avgw2v = dictionary[word]*(sent.count(word)/len(sent))\n",
    "            sent_vec += (vec * tfidf_avgw2v)\n",
    "            weight_sum += tfidf_avgw2v\n",
    "    if weight_sum != 0:\n",
    "        sent_vec /= weight_sum\n",
    "    tfidf_sent_vectors_test.append(sent_vec)\n",
    "    row += 1"
   ]
  },
  {
   "cell_type": "markdown",
   "metadata": {},
   "source": [
    "#### Standardize / Normalize the data"
   ]
  },
  {
   "cell_type": "code",
   "execution_count": 17,
   "metadata": {},
   "outputs": [],
   "source": [
    "# Data-preprocessing: Normalizing the data\n",
    "from sklearn.preprocessing import Normalizer\n",
    "\n",
    "normalizer = Normalizer()\n",
    "#Standardize on the train data (.fit_transform()) and #use the same Normalizer on the test set as well (.transform())\n",
    "X_train_stdzd = normalizer.fit_transform(tfidf_sent_vectors)\n",
    "X_test_stdzd  = normalizer.transform(tfidf_sent_vectors_test) "
   ]
  },
  {
   "cell_type": "markdown",
   "metadata": {},
   "source": [
    "#### Using Brute-Force method to calculate the optimal 'k' of k-NN in TFIDF-AvgWord2Vec case."
   ]
  },
  {
   "cell_type": "code",
   "execution_count": 18,
   "metadata": {},
   "outputs": [
    {
     "name": "stderr",
     "output_type": "stream",
     "text": [
      "C:\\ProgramData\\Anaconda3\\lib\\site-packages\\sklearn\\cross_validation.py:41: DeprecationWarning: This module was deprecated in version 0.18 in favor of the model_selection module into which all the refactored classes and functions are moved. Also note that the interface of the new CV iterators are different from that of this module. This module will be removed in 0.20.\n",
      "  \"This module will be removed in 0.20.\", DeprecationWarning)\n",
      "C:\\ProgramData\\Anaconda3\\lib\\site-packages\\sklearn\\grid_search.py:42: DeprecationWarning: This module was deprecated in version 0.18 in favor of the model_selection module into which all the refactored classes and functions are moved. This module will be removed in 0.20.\n",
      "  DeprecationWarning)\n"
     ]
    },
    {
     "name": "stdout",
     "output_type": "stream",
     "text": [
      "Starttime is : 2018-10-30 10:53:35.060374\n",
      "Endtime   is : 2018-10-30 12:46:11.861094\n"
     ]
    }
   ],
   "source": [
    "from sklearn.neighbors import KNeighborsClassifier\n",
    "from sklearn.grid_search import GridSearchCV\n",
    "from sklearn.metrics import accuracy_score, classification_report\n",
    "\n",
    "starttime_knn_tfidfw2v = datetime.datetime.now()\n",
    "\n",
    "n_neighbors = [1, 2, 3, 4, 5, 6, 7, 8, 9, 10]\n",
    "tuned_parameters = [{'n_neighbors': n_neighbors,'weights': ['uniform'],'algorithm': ['brute']}]\n",
    "scores = ['f1']\n",
    "\n",
    "performances = [];\n",
    "for score in scores:\n",
    "    clf = GridSearchCV(KNeighborsClassifier(), tuned_parameters, cv=3, scoring=score)\n",
    "    clf.fit(X_train_stdzd, y_train)\n",
    "\n",
    "endtime_knn_tfidfw2v = datetime.datetime.now()\n",
    "\n",
    "print(\"Starttime is : {}\".format(starttime_knn_tfidfw2v))\n",
    "print(\"Endtime   is : {}\".format(endtime_knn_tfidfw2v))\n"
   ]
  },
  {
   "cell_type": "code",
   "execution_count": 19,
   "metadata": {},
   "outputs": [
    {
     "name": "stdout",
     "output_type": "stream",
     "text": [
      "Trainingset X: 90910\n",
      "Testset     X: 9090\n",
      "Trainingset Y: 90910\n",
      "Testset     Y: 9090\n"
     ]
    }
   ],
   "source": [
    "print(\"Trainingset X: {}\".format(len(X_train_stdzd)))\n",
    "print(\"Testset     X: {}\".format(len(X_test_stdzd)))\n",
    "print(\"Trainingset Y: {}\".format(len(y_train)))\n",
    "print(\"Testset     Y: {}\".format(len(y_test)))"
   ]
  },
  {
   "cell_type": "code",
   "execution_count": 20,
   "metadata": {},
   "outputs": [],
   "source": [
    "#The best_params_ and best_score_ attributes on your GridSearchCV instance will give you the best parameter setting \n",
    "#found while doing grid search across parameters and its corresponding score, averaged across all folds.\n",
    "#If you definitely need the individual fold scores, you can also iterate through the grid_scores_ attribute \n",
    "#to find the cv_validation_scores, which is the list of scores for each fold on that parameter setting. \n",
    "\n",
    "# Tabulate the CVScores.\n",
    "import pandas as pd\n",
    "\n",
    "rows = list()\n",
    "for grid_score in clf.grid_scores_:\n",
    "    for fold, score in enumerate(grid_score.cv_validation_scores):\n",
    "        row = grid_score.parameters.copy()\n",
    "        row['fold'] = fold\n",
    "        row['score'] = score\n",
    "        rows.append(row)\n",
    "dfScore = pd.DataFrame(rows)\n"
   ]
  },
  {
   "cell_type": "code",
   "execution_count": 21,
   "metadata": {},
   "outputs": [
    {
     "name": "stdout",
     "output_type": "stream",
     "text": [
      "The best estimator for the CV training set is :\n",
      "    The optimal number of neighbors (Brute Force case) is 9.\n",
      "    The score for the optimal number of neighbors 9 (Brute Force case) is 0.9200342313027899.\n"
     ]
    }
   ],
   "source": [
    "#Best Parameters and Best Score\n",
    "optimised_knn = clf.best_estimator_\n",
    "optimised_score = clf.best_score_\n",
    "\n",
    "print(\"The best estimator for the CV training set is :\")\n",
    "print('    The optimal number of neighbors (Brute Force case) is %d.' % optimised_knn.n_neighbors)\n",
    "print(\"    The score for the optimal number of neighbors {} (Brute Force case) is {}.\".format(optimised_knn.n_neighbors,optimised_score))\n"
   ]
  },
  {
   "cell_type": "code",
   "execution_count": null,
   "metadata": {},
   "outputs": [],
   "source": []
  },
  {
   "cell_type": "markdown",
   "metadata": {},
   "source": [
    "#### Using Brute-Force method to calculate the accuracy of k-NN in TFIDF-AvgWord2Vec case."
   ]
  },
  {
   "cell_type": "code",
   "execution_count": 22,
   "metadata": {},
   "outputs": [
    {
     "data": {
      "image/png": "[encoded data removed]",
      "text/plain": [
       "<matplotlib.figure.Figure at 0x214e13ef908>"
      ]
     },
     "metadata": {},
     "output_type": "display_data"
    },
    {
     "name": "stdout",
     "output_type": "stream",
     "text": [
      "Starttime : 2018-10-30 13:03:39.594617\n",
      "Endtime   : 2018-10-30 13:05:20.956227\n"
     ]
    }
   ],
   "source": [
    "# ============================== KNN with k = optimal_k ===============================================\n",
    "\n",
    "# training features   = X_train_stdzd_dense\n",
    "# testing features    = X_test_stdzd_dense\n",
    "# training classlabel = y_train\n",
    "# testing  classlabel = y_test\n",
    "\n",
    "starttime_knn_tfidfw2v = datetime.datetime.now()\n",
    "\n",
    "# instantiate the k-nn learning model with neighbours k = optimal_k\n",
    "knn_optimal = KNeighborsClassifier(n_neighbors=optimised_knn.n_neighbors)\n",
    "\n",
    "# fitting the model\n",
    "knn_optimal.fit(X_train_stdzd, y_train)\n",
    "\n",
    "# predict the response\n",
    "y_pred = knn_optimal.predict(X_test_stdzd)\n",
    "\n",
    "# evaluate the model and report the metrics.\n",
    "from sklearn.metrics import confusion_matrix\n",
    "conf_mat = confusion_matrix(y_test, y_pred)\n",
    "fig, ax = plt.subplots(figsize=(5,5))\n",
    "sns.heatmap(conf_mat, annot=True, fmt='d'\n",
    "            ,xticklabels=['negative','positive'], yticklabels=['negative','positive'])\n",
    "plt.title('Confusion Matrix : (Vectorizer = TfIdf-AvgW2V|Algorithm = BruteForce)')\n",
    "plt.ylabel('Actual')\n",
    "plt.xlabel('Predicted')\n",
    "plt.show()\n",
    "\n",
    "endtime_knn_tfidfw2v = datetime.datetime.now()\n",
    "\n",
    "print(\"Starttime : {}\".format(starttime_knn_tfidfw2v))\n",
    "print(\"Endtime   : {}\".format(endtime_knn_tfidfw2v))\n"
   ]
  },
  {
   "cell_type": "code",
   "execution_count": null,
   "metadata": {},
   "outputs": [],
   "source": []
  },
  {
   "cell_type": "markdown",
   "metadata": {},
   "source": [
    "### CONCLUSION : \n",
    "#### Vectorization Method : TermFrequency-InverseDocumentFrequency Word2Vec (TF-IDF W2V )\n",
    "\n",
    "#### Algorithm : Brute-Force\n",
    "    . The optimal k in k-nn classifier for the sample (size = 100K) is found to be 9.\n",
    "    . The confusion matrix of the k-nn classifier when k=9, for the sample (size = 100K) is tabulated below :"
   ]
  },
  {
   "attachments": {
    "confusionmatrix_tfidf_avgw2v_bruteforce.png": {
     "image/png": "[encoded data removed]"
    }
   },
   "cell_type": "markdown",
   "metadata": {},
   "source": [
    "![confusionmatrix_tfidf_avgw2v_bruteforce.png](attachment:confusionmatrix_tfidf_avgw2v_bruteforce.png)"
   ]
  },
  {
   "cell_type": "code",
   "execution_count": null,
   "metadata": {},
   "outputs": [],
   "source": []
  },
  {
   "cell_type": "markdown",
   "metadata": {},
   "source": [
    "#### Vectorization Method : Average Word2Vec (Avg W2V )"
   ]
  },
  {
   "cell_type": "markdown",
   "metadata": {},
   "source": [
    "#### Algorithm : Brute-Force\n",
    "    . The optimal k in k-nn classifier for the sample (size = 100K) is found to be 10.\n",
    "    . The confusion matrix of the k-nn classifier when k=10, for the sample (size = 100K) is tabulated below :"
   ]
  },
  {
   "attachments": {
    "confusionmatrix_avgw2v_bruteforce.png": {
     "image/png": "[encoded data removed]"
    }
   },
   "cell_type": "markdown",
   "metadata": {},
   "source": [
    "![confusionmatrix_avgw2v_bruteforce.png](attachment:confusionmatrix_avgw2v_bruteforce.png)"
   ]
  },
  {
   "cell_type": "code",
   "execution_count": null,
   "metadata": {},
   "outputs": [],
   "source": []
  },
  {
   "cell_type": "markdown",
   "metadata": {},
   "source": [
    "#### Vectorization Method : TermFrequency-InverseDocumentFrequency (TF-IDF)"
   ]
  },
  {
   "cell_type": "markdown",
   "metadata": {},
   "source": [
    "#### Algorithm : Brute-Force\n",
    "    . The optimal k in k-nn classifier for the sample (size = 100K) is found to be 9.\n",
    "    . The accuracy of the k-nn classifier when k=9, for the sample (size = 100K) is tabulated below :"
   ]
  },
  {
   "attachments": {
    "confusionmatrix_tf-idf_bruteforce.png": {
     "image/png": "[encoded data removed]"
    }
   },
   "cell_type": "markdown",
   "metadata": {},
   "source": [
    "![confusionmatrix_tf-idf_bruteforce.png](attachment:confusionmatrix_tf-idf_bruteforce.png)"
   ]
  },
  {
   "cell_type": "code",
   "execution_count": null,
   "metadata": {},
   "outputs": [],
   "source": []
  },
  {
   "cell_type": "markdown",
   "metadata": {},
   "source": [
    "#### Vectorization Method : Bag of Words (Bigram)"
   ]
  },
  {
   "cell_type": "markdown",
   "metadata": {},
   "source": [
    "#### Algorithm : Brute-Force\n",
    "    . The optimal k in k-nn classifier for the sample (size = 100K) is found to be 9.\n",
    "    . The confusion matrix of the k-nn classifier when k=9, for the sample (size = 100K) is tabulated below :"
   ]
  },
  {
   "attachments": {
    "confusionmatrix_bow_bruteforce.png": {
     "image/png": "[encoded data removed]"
    }
   },
   "cell_type": "markdown",
   "metadata": {},
   "source": [
    "![confusionmatrix_bow_bruteforce.png](attachment:confusionmatrix_bow_bruteforce.png)"
   ]
  },
  {
   "cell_type": "code",
   "execution_count": null,
   "metadata": {},
   "outputs": [],
   "source": []
  }
 ],
 "metadata": {
  "kernelspec": {
   "display_name": "Python 3",
   "language": "python",
   "name": "python3"
  },
  "language_info": {
   "codemirror_mode": {
    "name": "ipython",
    "version": 3
   },
   "file_extension": ".py",
   "mimetype": "text/x-python",
   "name": "python",
   "nbconvert_exporter": "python",
   "pygments_lexer": "ipython3",
   "version": "3.6.4"
  }
 },
 "nbformat": 4,
 "nbformat_minor": 2
}
