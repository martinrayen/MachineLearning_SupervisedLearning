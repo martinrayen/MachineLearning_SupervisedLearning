{
 "cells": [
  {
   "cell_type": "code",
   "execution_count": null,
   "metadata": {},
   "outputs": [],
   "source": []
  },
  {
   "cell_type": "markdown",
   "metadata": {},
   "source": [
    "### Objective : \n",
    "#### To apply NB (Naive Bayes algorithm) on Amazon food reviews dataset for each of the vectorization below : \n",
    "                  1. Bag Of Words (BoW)\n",
    "                  2. TermFrequency-InverseDocumentFrequency (TF-IDF)\n",
    "                  \n",
    "#### To determine the sentiment polarity, i,e.  Given a food review text, predict whether the score is Positive or Negative.\n",
    "#### NOTE :\n",
    "    1. Sort the dataset based on timestamp in ascending order.\n",
    "    2. Split the dataset into Training (60%),Cross-validation (20%) and Test (20%) .\n",
    "    3. Apply Elbow-Method on the cross-validation set to find optimal 'alpha' in Naive Bayes.\n",
    "    4. Determine feature importance for positive and negative classes.\n",
    "    5. Compute and report the following performane metrics for the 2 type of vectorization mentioned above.\n",
    "       (a) Accuracy\n",
    "       (b) Precision\n",
    "       (c) Recall\n",
    "       (d) F1-Score\n",
    "       (e) Confusion Matrix\n",
    "    6. Compute the above Performance Metric for :\n",
    "       (a) Text process the review comments without adding the contents of the summary column in Amazon food review dataset.\n",
    "       (b) Text process the review comments with adding the contents of the summary column in Amazon food review dataset."
   ]
  },
  {
   "cell_type": "code",
   "execution_count": null,
   "metadata": {},
   "outputs": [],
   "source": []
  },
  {
   "cell_type": "markdown",
   "metadata": {},
   "source": [
    "#### Load the required libraries."
   ]
  },
  {
   "cell_type": "code",
   "execution_count": 1,
   "metadata": {},
   "outputs": [
    {
     "name": "stdout",
     "output_type": "stream",
     "text": [
      "Collecting https://pypi.python.org/packages/source/P/PrettyTable/prettytable-0.7.2.tar.bz2\n",
      "  Using cached prettytable-0.7.2.tar.bz2\n",
      "  Requirement already satisfied (use --upgrade to upgrade): prettytable==0.7.2 from https://pypi.python.org/packages/source/P/PrettyTable/prettytable-0.7.2.tar.bz2 in c:\\programdata\\anaconda3\\lib\\site-packages\n",
      "Building wheels for collected packages: prettytable\n",
      "  Running setup.py bdist_wheel for prettytable: started\n",
      "  Running setup.py bdist_wheel for prettytable: finished with status 'done'\n",
      "  Stored in directory: C:\\Users\\Vijay Joseph\\AppData\\Local\\pip\\Cache\\wheels\\29\\73\\c9\\3e063a66859af18585f8e1439f92dcc27b8c13ae400bb8c89e\n",
      "Successfully built prettytable\n"
     ]
    },
    {
     "name": "stderr",
     "output_type": "stream",
     "text": [
      "You are using pip version 9.0.1, however version 18.1 is available.\n",
      "You should consider upgrading via the 'python -m pip install --upgrade pip' command.\n"
     ]
    }
   ],
   "source": [
    "# Load the required libraries.\n",
    "%matplotlib inline\n",
    "import warnings\n",
    "warnings.filterwarnings(\"ignore\")\n",
    "\n",
    "import pandas as pd\n",
    "import numpy as np\n",
    "import matplotlib.pyplot as plt\n",
    "import seaborn as sns\n",
    "from sklearn.feature_extraction.text import TfidfTransformer\n",
    "from sklearn.feature_extraction.text import TfidfVectorizer\n",
    "from sklearn.feature_extraction.text import CountVectorizer\n",
    "from sklearn.metrics import confusion_matrix\n",
    "from sklearn import metrics\n",
    "import pickle\n",
    "# Install prettytable\n",
    "import sys\n",
    "!{sys.executable} -m pip install https://pypi.python.org/packages/source/P/PrettyTable/prettytable-0.7.2.tar.bz2"
   ]
  },
  {
   "cell_type": "markdown",
   "metadata": {},
   "source": [
    "#### Load the Pre-processed Amazon Reviews Dataset."
   ]
  },
  {
   "cell_type": "code",
   "execution_count": 2,
   "metadata": {},
   "outputs": [],
   "source": [
    "# Load the pre-processed Amazon food review dataset.\n",
    "# Please note : the contents of the file \"finalCleanedText\" contains Text inclusive of summary comments \n",
    "# present in the Amazon food review dataset.\n",
    "\n",
    "final = ''\n",
    "final = pd.read_csv(\"finalCleanedText.csv\")"
   ]
  },
  {
   "cell_type": "markdown",
   "metadata": {},
   "source": [
    "#### Apply Time Based Sorting (TBS)."
   ]
  },
  {
   "cell_type": "code",
   "execution_count": 3,
   "metadata": {},
   "outputs": [],
   "source": [
    "# Add a new column for TimeStamp that is of Datetime datatype,since the dataset's time column is of integer datatype.\n",
    "import datetime\n",
    "\n",
    "# Assign the Time column to a new variable.\n",
    "final_timesplit = final['Time']\n",
    "\n",
    "# Convert the datatype of the time column from integer to datetime.\n",
    "final_timesplit = final_timesplit.apply(datetime.datetime.fromtimestamp)\n",
    "\n",
    "# Create a new column to store the new time column whose datatype is datetime\n",
    "final['TimeSplit']  = final_timesplit\n",
    "\n",
    "# Sort the final dataset in descending order of time.\n",
    "final_dataset = final.sort_values(['TimeSplit'],ascending=False)"
   ]
  },
  {
   "cell_type": "markdown",
   "metadata": {},
   "source": [
    "#### Sample all the points based on time based sorting"
   ]
  },
  {
   "cell_type": "code",
   "execution_count": 4,
   "metadata": {},
   "outputs": [],
   "source": [
    "#Sample all the points after time based sorting\n",
    "final = final_dataset\n",
    "# Store label info separately.\n",
    "label = final['Score']"
   ]
  },
  {
   "cell_type": "code",
   "execution_count": 5,
   "metadata": {},
   "outputs": [
    {
     "name": "stdout",
     "output_type": "stream",
     "text": [
      "(364171, 14)\n",
      "(364171,)\n"
     ]
    }
   ],
   "source": [
    "# Print the shape of the input variables and output variables.\n",
    "print(final.shape)\n",
    "print(label.shape)"
   ]
  },
  {
   "cell_type": "code",
   "execution_count": 6,
   "metadata": {},
   "outputs": [
    {
     "name": "stdout",
     "output_type": "stream",
     "text": [
      "262240    positive\n",
      "33119     positive\n",
      "353804    negative\n",
      "328939    negative\n",
      "296377    positive\n",
      "Name: Score, dtype: object\n",
      "262240    1\n",
      "33119     1\n",
      "353804    0\n",
      "328939    0\n",
      "296377    1\n",
      "Name: Score, dtype: int64\n"
     ]
    }
   ],
   "source": [
    "# The class label \"Score\" has distinct values as Positive and Negative, convert them to 1 for Postive and 0 for Negative.\n",
    "print(label[:5])\n",
    "Y = final['Score'].map({\"positive\":1,\"negative\":0})\n",
    "print(Y[:5])"
   ]
  },
  {
   "cell_type": "markdown",
   "metadata": {},
   "source": [
    "#### Split the data into Train, Cross-validation and Test dataset.\n",
    "    ==> Train = First 60% of the sorted complete dataset.\n",
    "    ==> CV    = Next  20% of the sorted complete dataset.\n",
    "    ==> Test  = Last  20% of the sorted complete dataset."
   ]
  },
  {
   "cell_type": "code",
   "execution_count": 7,
   "metadata": {},
   "outputs": [],
   "source": [
    "# Assign the cleaned text and the class label for the split.\n",
    "X = final['CleanedText']\n",
    "Y = final['Score'].map({\"positive\":1,\"negative\":0})\n",
    "\n",
    "# Split the dataset in the following ratios:\n",
    "# Total row considered is 364171.\n",
    "\n",
    "# Input split\n",
    "X_train = X[0:218502]           #Train = First 60% of the sorted dataframe;\n",
    "X_cv    = X[218503:291336]      #CV    = Next  20% of the sorted dataframe;\n",
    "X_test  = X[291337:364170]      #Test  = Remainning 20% of the sorted dataframe.\n",
    "\n",
    "#Class lable split.\n",
    "Y_train = Y[0:218502]           #Train = First 60% of the sorted dataframe;\n",
    "Y_cv    = Y[218503:291336]      #CV    = Next  20% of the sorted dataframe;\n",
    "Y_test  = Y[291337:364170]      #Test  = Remainning 20% of the sorted dataframe."
   ]
  },
  {
   "cell_type": "code",
   "execution_count": 8,
   "metadata": {},
   "outputs": [],
   "source": [
    "# Load the prettytable\n",
    "from prettytable import PrettyTable\n",
    "\n",
    "# Instantiate the prettytable module.\n",
    "summaryTable = PrettyTable()\n",
    "# Set the column names for the table.\n",
    "summaryTable.field_names = [\"Text-VectorizationType\",\"Hyper-Paramter(alpha)\",\"Performance Metric\", \"Value\"]"
   ]
  },
  {
   "cell_type": "code",
   "execution_count": null,
   "metadata": {},
   "outputs": [],
   "source": []
  },
  {
   "cell_type": "markdown",
   "metadata": {},
   "source": [
    "### Vectorization Method : Bag Of Words (BoW)"
   ]
  },
  {
   "cell_type": "markdown",
   "metadata": {},
   "source": [
    "#### Convert reviews present in trainingset into numeric vectors using Bag Of Words (BoW)"
   ]
  },
  {
   "cell_type": "code",
   "execution_count": 9,
   "metadata": {},
   "outputs": [
    {
     "name": "stdout",
     "output_type": "stream",
     "text": [
      "the type of count vectorizer  <class 'scipy.sparse.csr.csr_matrix'>\n",
      "the shape of out text BOW vectorizer  (218502, 2220905)\n",
      "the number of unique words  2220905\n"
     ]
    }
   ],
   "source": [
    "# Apply BoW vectorization.\n",
    "\n",
    "#Instantiate the BoW vectorizer.\n",
    "count_vect = CountVectorizer(ngram_range=(1,2)) #in scikit-learn bi-gram\n",
    "\n",
    "#Train you countvectorizer on the train data\n",
    "final_counts = count_vect.fit_transform(X_train.values.astype('U'))\n",
    "\n",
    "#Print the type,shape and unique words of the BoW vectorizer on the training set. \n",
    "print(\"the type of count vectorizer \",type(final_counts))\n",
    "print(\"the shape of out text BOW vectorizer \",final_counts.get_shape())\n",
    "print(\"the number of unique words \", final_counts.get_shape()[1])"
   ]
  },
  {
   "cell_type": "markdown",
   "metadata": {},
   "source": [
    "#### Use the BoW vectorizer trained in the preceding step to convert CVset and Testset to vectors."
   ]
  },
  {
   "cell_type": "code",
   "execution_count": 10,
   "metadata": {},
   "outputs": [
    {
     "name": "stdout",
     "output_type": "stream",
     "text": [
      "the type of count vectorizer  <class 'scipy.sparse.csr.csr_matrix'>\n",
      "the shape of out text BOW vectorizer  (72833, 2220905)\n",
      "the number of unique words  2220905\n",
      "the type of count vectorizer  <class 'scipy.sparse.csr.csr_matrix'>\n",
      "the shape of out text BOW vectorizer  (72833, 2220905)\n",
      "the number of unique words  2220905\n"
     ]
    }
   ],
   "source": [
    "#Use the same vectorizer trained on the training set, on the cv set.\n",
    "final_counts_cvset = count_vect.transform(X_cv.values)\n",
    "\n",
    "#Print the type,shape and unique words of the BoW vectorizer on the testset. \n",
    "print(\"the type of count vectorizer \",type(final_counts_cvset))\n",
    "print(\"the shape of out text BOW vectorizer \",final_counts_cvset.get_shape())\n",
    "print(\"the number of unique words \", final_counts_cvset.get_shape()[1])\n",
    "\n",
    "#Use the same vectorizer trained on the training set, on the test set.\n",
    "final_counts_testset = count_vect.transform(X_test.values)\n",
    "\n",
    "#Print the type,shape and unique words of the BoW vectorizer on the testset. \n",
    "print(\"the type of count vectorizer \",type(final_counts_testset))\n",
    "print(\"the shape of out text BOW vectorizer \",final_counts_testset.get_shape())\n",
    "print(\"the number of unique words \", final_counts_testset.get_shape()[1])"
   ]
  },
  {
   "cell_type": "markdown",
   "metadata": {},
   "source": [
    "#### Standardize Data"
   ]
  },
  {
   "cell_type": "code",
   "execution_count": 11,
   "metadata": {},
   "outputs": [],
   "source": [
    "# Data-preprocessing: Normalizing the data\n",
    "\n",
    "# Import the Normailizer module.\n",
    "from sklearn.preprocessing import Normalizer\n",
    "\n",
    "# Instantiate the Normailizer module.\n",
    "normalizer = Normalizer()\n",
    "\n",
    "#Standardize the normailizer on the train data.\n",
    "X_train_stdzd = normalizer.fit_transform(final_counts)\n",
    "\n",
    "#Standardize the normailizer on the cv data.\n",
    "X_cv_stdzd = normalizer.fit_transform(final_counts_cvset)\n",
    "\n",
    "# use the same normalizer on the test set.\n",
    "X_test_stdzd  = normalizer.transform(final_counts_testset) "
   ]
  },
  {
   "cell_type": "markdown",
   "metadata": {},
   "source": [
    "#### Hyper-Parameter Tuning : Using the cross-validation dataset to calculate the optimal 'alpha' of Naive Bayes in BoW case."
   ]
  },
  {
   "cell_type": "code",
   "execution_count": 12,
   "metadata": {},
   "outputs": [
    {
     "name": "stderr",
     "output_type": "stream",
     "text": [
      "C:\\ProgramData\\Anaconda3\\lib\\site-packages\\sklearn\\cross_validation.py:41: DeprecationWarning: This module was deprecated in version 0.18 in favor of the model_selection module into which all the refactored classes and functions are moved. Also note that the interface of the new CV iterators are different from that of this module. This module will be removed in 0.20.\n",
      "  \"This module will be removed in 0.20.\", DeprecationWarning)\n",
      "C:\\ProgramData\\Anaconda3\\lib\\site-packages\\sklearn\\grid_search.py:42: DeprecationWarning: This module was deprecated in version 0.18 in favor of the model_selection module into which all the refactored classes and functions are moved. This module will be removed in 0.20.\n",
      "  DeprecationWarning)\n"
     ]
    },
    {
     "name": "stdout",
     "output_type": "stream",
     "text": [
      "[0.0, -2.3025850929940455, -4.605170185988091, -6.907755278982137, -9.210340371976182, -11.512925464970229]\n",
      "[0.8459848401625838, 0.8717313086097969, 0.9174543541964084, 0.9073867937129881, 0.8965694029413488, 0.8893262261986028]\n"
     ]
    },
    {
     "data": {
      "image/png": "[encoded data removed]",
      "text/plain": [
       "<matplotlib.figure.Figure at 0x2e59de78a90>"
      ]
     },
     "metadata": {},
     "output_type": "display_data"
    },
    {
     "name": "stdout",
     "output_type": "stream",
     "text": [
      "Starttime is : 2018-11-15 11:22:04.578663\n",
      "Endtime   is : 2018-11-15 11:22:10.375686\n"
     ]
    }
   ],
   "source": [
    "# Import the Multinomial NaiveBayes,GridSearchCV and precision modules.\n",
    "# Reasoning for choosing MultinomialNB : MultinomialNaiveBayes is the preferred choice for text classification problems.\n",
    "from sklearn.naive_bayes import MultinomialNB\n",
    "from sklearn.grid_search import GridSearchCV\n",
    "from sklearn.metrics import precision_score\n",
    "\n",
    "# Set the start time of the current cell run.\n",
    "starttime_nb_bow = datetime.datetime.now()\n",
    "\n",
    "# Set the range for the hyper-parameters.\n",
    "# We Know from theory:\n",
    "#          when alpha = 0, then model overfits\n",
    "#          when alpha is large ~= 10000, then model underfits\n",
    "\n",
    "# Experiment with different combination of alpha ranges.\n",
    "#alpha = [10000.0,1000.0,100.0,10.0,1.0,0.0]\n",
    "#alpha = [10.0,9.0,8.0,7.0,6.0,5.0,4.0,3.0,2.0,1.0,0.0]\n",
    "alpha = [1.0,0.1,0.01,0.001,0.0001,0.00001]\n",
    "#alpha = [0.1,0.08,0.06,0.04,0.02,0.01,0.008,0.006,0.004,0.002,0.001]\n",
    "# Use the cross-validation dataset to determine the best hyper-parameter alpha.\n",
    "# Loop through various values of alpha.\n",
    "plot_X = []\n",
    "plot_Y = []\n",
    "for i in alpha:\n",
    "    nb_optimal = MultinomialNB(alpha=i)          # Iterate through various values of alpha.\n",
    "    nb_optimal.fit(X_train_stdzd, Y_train)       # fitting the Multinomial NaivesBayes model on the training set.\n",
    "    Y_pred = nb_optimal.predict(X_cv_stdzd)      # predict the response from the Multinomial NaivesBayes model on the cv set.\n",
    "    plot_X.append(np.log(i))                     # plot log(alpha) in the x-axis.\n",
    "    plot_Y.append(precision_score(Y_cv,Y_pred))  # plot precision score in the y-axis.\n",
    "\n",
    "#print X,Y\n",
    "print(plot_X)\n",
    "print(plot_Y)\n",
    "\n",
    "# Plot X-axis = log(alpha),Y-axis = precision to determine the best hyper-parameter.\n",
    "plt.plot(plot_X,plot_Y)\n",
    "plt.title(\"Plot of CrossValidationPrecision vs log(Alpha).\")  # Set the title of the plot.\n",
    "plt.xlabel(\"log(alpha)\")                                      # Set the x label of the plot.\n",
    "plt.ylabel(\"CrossValidation Precision\")                       # Set the y label of the plot\n",
    "plt.show()                                                    # render the plot.\n",
    "\n",
    "# Set the end time of the current cell run.\n",
    "endtime_nb_bow = datetime.datetime.now()\n",
    "\n",
    "# Print the cell run duration.\n",
    "print(\"Starttime is : {}\".format(starttime_nb_bow))\n",
    "print(\"Endtime   is : {}\".format(endtime_nb_bow))"
   ]
  },
  {
   "cell_type": "code",
   "execution_count": 13,
   "metadata": {},
   "outputs": [
    {
     "name": "stdout",
     "output_type": "stream",
     "text": [
      "Trainingset X: (218502, 2220905)\n",
      "CVset       X: (72833, 2220905)\n",
      "Testset     X: (72833, 2220905)\n",
      "Trainingset Y: (218502,)\n",
      "CVset       Y: (72833,)\n",
      "Testset     Y: (72833,)\n"
     ]
    }
   ],
   "source": [
    "# Print the shape of the Input features X and class label Y for training and test set.\n",
    "print(\"Trainingset X: {}\".format(X_train_stdzd.shape))\n",
    "print(\"CVset       X: {}\".format(X_cv_stdzd.shape))\n",
    "print(\"Testset     X: {}\".format(X_test_stdzd.shape))\n",
    "\n",
    "print(\"Trainingset Y: {}\".format(Y_train.shape))\n",
    "print(\"CVset       Y: {}\".format(Y_cv.shape))\n",
    "print(\"Testset     Y: {}\".format(Y_test.shape))"
   ]
  },
  {
   "cell_type": "markdown",
   "metadata": {},
   "source": [
    "#### Error plots for varying combination of apha ranges."
   ]
  },
  {
   "cell_type": "markdown",
   "metadata": {},
   "source": [
    "#### Aplha range : 0 to 10000"
   ]
  },
  {
   "attachments": {
    "Plot_CVPrecision_vs_Alpha_0_10000_Log%28alpha%29.png": {
     "image/png": "[encoded data removed]"
    }
   },
   "cell_type": "markdown",
   "metadata": {},
   "source": [
    "![Plot_CVPrecision_vs_Alpha_0_10000_Log%28alpha%29.png](attachment:Plot_CVPrecision_vs_Alpha_0_10000_Log%28alpha%29.png)"
   ]
  },
  {
   "cell_type": "markdown",
   "metadata": {},
   "source": [
    "#### Observations :\n",
    "    We observe, the curve moving towards a uniform distribution.\n",
    "    Here alpha ranges from 0 to 10000."
   ]
  },
  {
   "cell_type": "code",
   "execution_count": null,
   "metadata": {},
   "outputs": [],
   "source": []
  },
  {
   "cell_type": "markdown",
   "metadata": {},
   "source": [
    "#### Alpha Range : 0 to 10"
   ]
  },
  {
   "attachments": {
    "Plot_CVPrecision_vs_Alpha_0_10_Log%28alpha%29.png": {
     "image/png": "[encoded data removed]"
    }
   },
   "cell_type": "markdown",
   "metadata": {},
   "source": [
    "![Plot_CVPrecision_vs_Alpha_0_10_Log%28alpha%29.png](attachment:Plot_CVPrecision_vs_Alpha_0_10_Log%28alpha%29.png)"
   ]
  },
  {
   "cell_type": "markdown",
   "metadata": {},
   "source": [
    "#### Observations :\n",
    "    We observe, the curve moving towards a uniform distribution.\n",
    "    Here alpha ranges from 0 to 10."
   ]
  },
  {
   "cell_type": "code",
   "execution_count": null,
   "metadata": {},
   "outputs": [],
   "source": []
  },
  {
   "cell_type": "markdown",
   "metadata": {},
   "source": [
    "#### Alpha range : 0 to 1"
   ]
  },
  {
   "attachments": {
    "Plot_CVPrecision_vs_Alpha_0_1_Log%28alpha%29.png": {
     "image/png": "[encoded data removed]"
    }
   },
   "cell_type": "markdown",
   "metadata": {},
   "source": [
    "![Plot_CVPrecision_vs_Alpha_0_1_Log%28alpha%29.png](attachment:Plot_CVPrecision_vs_Alpha_0_1_Log%28alpha%29.png)"
   ]
  },
  {
   "cell_type": "markdown",
   "metadata": {},
   "source": [
    "#### Observations :\n",
    "    The cross-validation precision is maximum when log(alpha) ~= -4.6 .\n",
    "    Therefore alpha = exponential(log(alpha)) = np.exp(-4.6) = 0.01\n",
    "    Here alpha ranges from 0 to 1."
   ]
  },
  {
   "cell_type": "markdown",
   "metadata": {},
   "source": [
    "#### Hyper-parameter Choice : \n",
    "      Based on the CV plots for varying combination of alpha ranges, alpha = 0.01 when alpha range is between 0 and 1 is the best choice."
   ]
  },
  {
   "cell_type": "code",
   "execution_count": null,
   "metadata": {},
   "outputs": [],
   "source": []
  },
  {
   "cell_type": "markdown",
   "metadata": {},
   "source": [
    "#### Fit the Naive Bayes model in BoW case in the test set and compute the error metrics."
   ]
  },
  {
   "cell_type": "code",
   "execution_count": 14,
   "metadata": {},
   "outputs": [
    {
     "name": "stdout",
     "output_type": "stream",
     "text": [
      "Starttime : 2018-11-15 11:22:50.329726\n",
      "Endtime   : 2018-11-15 11:22:50.838627\n"
     ]
    }
   ],
   "source": [
    "# ============================== NB with alpha = optimal alpha ===============================================\n",
    "\n",
    "# Set the start time of the current cell run.\n",
    "starttime_nb_bow = datetime.datetime.now()\n",
    "\n",
    "# instantiate the Multinomial NaivesBayes learning model with alpha = 0.01 based on the above error plots .\n",
    "nb_optimal = MultinomialNB(alpha=0.01)\n",
    "nb_optimal.fit(X_train_stdzd, Y_train)           # fitting the Multinomial NaivesBayes model.\n",
    "Y_pred_test = nb_optimal.predict(X_test_stdzd)   # predict the response from the Multinomial NaivesBayes model.\n",
    "\n",
    "# Set the end time of the current cell run.\n",
    "endtime_nb_bow = datetime.datetime.now()\n",
    "\n",
    "# Print the cell run duration.\n",
    "print(\"Starttime : {}\".format(starttime_nb_bow))\n",
    "print(\"Endtime   : {}\".format(endtime_nb_bow))"
   ]
  },
  {
   "cell_type": "code",
   "execution_count": null,
   "metadata": {},
   "outputs": [],
   "source": []
  },
  {
   "cell_type": "markdown",
   "metadata": {},
   "source": [
    "#### Plot the classifier performance metrics."
   ]
  },
  {
   "cell_type": "code",
   "execution_count": 15,
   "metadata": {},
   "outputs": [
    {
     "data": {
      "image/png": "[encoded data removed]",
      "text/plain": [
       "<matplotlib.figure.Figure at 0x2e59de78198>"
      ]
     },
     "metadata": {},
     "output_type": "display_data"
    }
   ],
   "source": [
    "# evaluate the model and report the metrics.\n",
    "from sklearn.metrics import confusion_matrix\n",
    "conf_mat = confusion_matrix(Y_test, Y_pred_test)\n",
    "fig, ax = plt.subplots(figsize=(5,5))\n",
    "sns.heatmap(conf_mat, annot=True, fmt='d'\n",
    "            ,xticklabels=['negative','positive'], yticklabels=['negative','positive'])\n",
    "plt.title('Confusion Matrix : (Vectorizer = BoW)')\n",
    "plt.ylabel('Actual')\n",
    "plt.xlabel('Predicted')\n",
    "plt.show()"
   ]
  },
  {
   "cell_type": "code",
   "execution_count": 16,
   "metadata": {},
   "outputs": [
    {
     "name": "stdout",
     "output_type": "stream",
     "text": [
      "1    64292\n",
      "0     8541\n",
      "Name: Comment, dtype: int64\n"
     ]
    }
   ],
   "source": [
    "#Class composition in the testset.\n",
    "dfYTest = pd.DataFrame(list(Y_test),columns=['Comment'])\n",
    "#print(list(Y_test))\n",
    "print(dfYTest[\"Comment\"].value_counts())"
   ]
  },
  {
   "cell_type": "code",
   "execution_count": 18,
   "metadata": {},
   "outputs": [
    {
     "name": "stdout",
     "output_type": "stream",
     "text": [
      "Performance Metrics :\n",
      "+------------------------+--------------------+--------------------+\n",
      "| Text-VectorizationType | Performance Metric | Value              |\n",
      "+------------------------+--------------------+--------------------+\n",
      "|          BoW           |      Accuracy      | 0.9305259978306537 |\n",
      "|           -            |     Precision      | 0.9323882383858441 |\n",
      "|           -            |       Recall       | 0.9933273191065762 |\n",
      "|           -            |      F1 Score      | 0.961893573117648  |\n",
      "|           -            |  ConfusionMatrix   | [[ 3910  4631]     |\n",
      "|                        |                    |  [  429 63863]]    |\n",
      "|       ----------       |    -----------     | ----------         |\n",
      "+------------------------+--------------------+--------------------+\n"
     ]
    }
   ],
   "source": [
    "# Load the classification metrics\n",
    "from sklearn.metrics import accuracy_score\n",
    "from sklearn.metrics import precision_score\n",
    "from sklearn.metrics import recall_score\n",
    "from sklearn.metrics import f1_score\n",
    "# Load the prettytable\n",
    "from prettytable import PrettyTable\n",
    "\n",
    "# Instantiate the prettytable module.\n",
    "x = PrettyTable()\n",
    "# Set the column names for the table.\n",
    "x.field_names = [\"Text-VectorizationType\",\"Performance Metric\", \"Value\"]\n",
    "\n",
    "# Add the classification metrics to the table.\n",
    "x.add_row(['BoW','Accuracy',accuracy_score(Y_test,Y_pred_test)])\n",
    "x.add_row(['-','Precision',precision_score(Y_test,Y_pred_test)])\n",
    "x.add_row(['-','Recall',recall_score(Y_test,Y_pred_test)])\n",
    "x.add_row(['-','F1 Score',f1_score(Y_test,Y_pred_test)])\n",
    "x.add_row(['-','ConfusionMatrix',confusion_matrix(Y_test, Y_pred_test)])\n",
    "x.add_row(['----------','-----------','----------'])\n",
    "\n",
    "# Add the classification metrics to the final summary table.\n",
    "summaryTable.add_row(['BoW','0.01','Accuracy',accuracy_score(Y_test,Y_pred_test)])\n",
    "summaryTable.add_row(['-','0.01','Precision',precision_score(Y_test,Y_pred_test)])\n",
    "summaryTable.add_row(['-','0.01','Recall',recall_score(Y_test,Y_pred_test)])\n",
    "summaryTable.add_row(['-','0.01','F1 Score',f1_score(Y_test,Y_pred_test)])\n",
    "summaryTable.add_row(['-','0.01','ConfusionMatrix',confusion_matrix(Y_test, Y_pred_test)])\n",
    "summaryTable.add_row(['----------','-----------','----------','----------'])\n",
    "\n",
    "\n",
    "# Apply data alignment.\n",
    "x.align[\"Value\"] = \"l\"\n",
    "\n",
    "# Print the table.\n",
    "print(\"Performance Metrics :\")\n",
    "print(x)"
   ]
  },
  {
   "cell_type": "code",
   "execution_count": null,
   "metadata": {},
   "outputs": [],
   "source": []
  },
  {
   "cell_type": "markdown",
   "metadata": {},
   "source": [
    "#### Feature Importance"
   ]
  },
  {
   "cell_type": "code",
   "execution_count": 21,
   "metadata": {},
   "outputs": [
    {
     "name": "stdout",
     "output_type": "stream",
     "text": [
      "The top 10 features for negative class are : \n",
      "['coffe' 'buy' 'tri' 'good' 'would' 'one' 'flavor' 'product' 'like' 'tast']\n",
      "\n",
      "The top 10 features for positive class are : \n",
      "['one' 'coffe' 'use' 'product' 'flavor' 'like' 'tast' 'good' 'love'\n",
      " 'great']\n"
     ]
    }
   ],
   "source": [
    "## Feature Importance : Gets the top 10 features based on importance for both positive and negative classes.\n",
    "neg_class_prob_sorted = nb_optimal.feature_log_prob_[0, :].argsort()\n",
    "pos_class_prob_sorted = nb_optimal.feature_log_prob_[1, :].argsort()\n",
    "\n",
    "# Sorted on ascending order the top 10 features by importance.\n",
    "features_negativeclass = (np.take(count_vect.get_feature_names(), neg_class_prob_sorted[2220895:]))\n",
    "features_positiveclass = (np.take(count_vect.get_feature_names(), pos_class_prob_sorted[2220895:]))\n",
    "\n",
    "print(\"The top 10 features for negative class are : \\n{}\".format(features_negativeclass))\n",
    "print()\n",
    "print(\"The top 10 features for positive class are : \\n{}\".format(features_positiveclass))"
   ]
  },
  {
   "cell_type": "code",
   "execution_count": 22,
   "metadata": {},
   "outputs": [
    {
     "name": "stdout",
     "output_type": "stream",
     "text": [
      "Top 10 Features By Importance :\n",
      "+------------+-------------+------------------+\n",
      "| ClassType  | FeatureRank | FeatureName      |\n",
      "+------------+-------------+------------------+\n",
      "|  Negative  |      1      | tast             |\n",
      "|  Negative  |      2      | like             |\n",
      "|  Negative  |      3      | product          |\n",
      "|  Negative  |      4      | flavor           |\n",
      "|  Negative  |      5      | one              |\n",
      "|  Negative  |      6      | would            |\n",
      "|  Negative  |      7      | good             |\n",
      "|  Negative  |      8      | tri              |\n",
      "|  Negative  |      9      | buy              |\n",
      "|  Negative  |      10     | coffe            |\n",
      "| ---------- | ----------- | ---------------- |\n",
      "|  Positive  |      1      | great            |\n",
      "|  Positive  |      2      | love             |\n",
      "|  Positive  |      3      | good             |\n",
      "|  Positive  |      4      | tast             |\n",
      "|  Positive  |      5      | like             |\n",
      "|  Positive  |      6      | flavor           |\n",
      "|  Positive  |      7      | product          |\n",
      "|  Positive  |      8      | use              |\n",
      "|  Positive  |      9      | coffe            |\n",
      "|  Positive  |      10     | one              |\n",
      "+------------+-------------+------------------+\n"
     ]
    }
   ],
   "source": [
    "# Print the top 10 features of positive and negative classes in a prettytable format.\n",
    "from prettytable import PrettyTable\n",
    "\n",
    "# Instantiate the prettytable method.\n",
    "x = PrettyTable()\n",
    "# Set the column names for the table.\n",
    "x.field_names = [\"ClassType\",\"FeatureRank\", \"FeatureName\"]\n",
    "\n",
    "# Add top 10 features of the Negative class.\n",
    "for icount,ele in enumerate(list(features_negativeclass[::-1])):   # sort the top 10 features in descending order, based on importance.\n",
    "    x.add_row(['Negative',(icount+1),ele])                         # add the feature to the table.\n",
    "\n",
    "x.add_row(['----------','-----------','----------------'])         # add a line break to indicate class separation.\n",
    "\n",
    "# Add top 10 features of the Positive class.\n",
    "for icount,ele in enumerate(list(features_positiveclass[::-1])):   # sort the top 10 features based on importance.\n",
    "    x.add_row(['Positive',(icount+1),ele])                         # add the feature to the table.\n",
    "\n",
    "# Left align the entries of the column \"FeatureName\"    \n",
    "x.align[\"FeatureName\"] = \"l\"\n",
    "\n",
    "#Print the table.\n",
    "print(\"Top 10 Features By Importance :\")\n",
    "print(x)"
   ]
  },
  {
   "cell_type": "code",
   "execution_count": null,
   "metadata": {},
   "outputs": [],
   "source": [
    "# print all features (words) that are present in negative class that also exists in positive class.\n",
    "\n",
    "# Use Set Intersection to determine words present in Negative class that are present in Positive class aswell.\n",
    "similarWords = set(features_negativeclass) & set(features_positiveclass)\n",
    "print(\"Total words in Negative Class is : {}.\\nThere are {} words from a total of {} that belong to Negative class that are also present in Positive class\".format(len(features_negativeclass),len(similarWords),len(features_negativeclass)))\n"
   ]
  },
  {
   "cell_type": "code",
   "execution_count": null,
   "metadata": {},
   "outputs": [],
   "source": []
  },
  {
   "cell_type": "markdown",
   "metadata": {},
   "source": [
    "#### CONCLUSION :\n",
    "\n",
    "#### Performance Metrics without adding Summary comments from the Amazon food review dataset to the Review comments."
   ]
  },
  {
   "attachments": {
    "PerformanceMetric_ReviewWithoutSummary.PNG": {
     "image/png": "[encoded data removed]"
    }
   },
   "cell_type": "markdown",
   "metadata": {},
   "source": [
    "![PerformanceMetric_ReviewWithoutSummary.PNG](attachment:PerformanceMetric_ReviewWithoutSummary.PNG)"
   ]
  },
  {
   "cell_type": "code",
   "execution_count": null,
   "metadata": {},
   "outputs": [],
   "source": []
  },
  {
   "cell_type": "markdown",
   "metadata": {},
   "source": [
    "#### Performance Metrics with adding Summary comment from the Amazon food review dataset to the Review comments."
   ]
  },
  {
   "attachments": {
    "PerformanceMetric_ReviewWithSummary.PNG": {
     "image/png": "[encoded data removed]"
    }
   },
   "cell_type": "markdown",
   "metadata": {},
   "source": [
    "![PerformanceMetric_ReviewWithSummary.PNG](attachment:PerformanceMetric_ReviewWithSummary.PNG)"
   ]
  },
  {
   "cell_type": "markdown",
   "metadata": {},
   "source": [
    "#### We see some improvement in the Performance Metric when Summary comments were added to the review comments. The FalsePositive values reduced by just 10% between Text that had summary added to them and Text that had summary withheld from it. This is not a significant improvement."
   ]
  },
  {
   "cell_type": "code",
   "execution_count": null,
   "metadata": {},
   "outputs": [],
   "source": []
  },
  {
   "cell_type": "markdown",
   "metadata": {},
   "source": [
    "### Vectorization Method : TermFrequency-InverseDocumentFrequency (TF_IDF)\n",
    "\n",
    "#### Convert review text into numeric vectors using TF_IDF"
   ]
  },
  {
   "cell_type": "code",
   "execution_count": 23,
   "metadata": {},
   "outputs": [],
   "source": [
    "#TF-IDF\n",
    "# Apply TF-IDF vectorization only on the trainingset.\n",
    "tf_idf_vect = TfidfVectorizer(ngram_range=(1,2))"
   ]
  },
  {
   "cell_type": "code",
   "execution_count": 24,
   "metadata": {},
   "outputs": [
    {
     "name": "stdout",
     "output_type": "stream",
     "text": [
      "the type of TIDF vectorizer  <class 'scipy.sparse.csr.csr_matrix'>\n",
      "the shape of out text TFIDF vectorizer  (218502, 2220905)\n",
      "the number of unique words including both unigrams and bigrams  2220905\n"
     ]
    }
   ],
   "source": [
    "#Train you tf-idf vectorizer on the train data (.fit_transform()) and \n",
    "#use the same vectorizer on the test set as well (.transform())\n",
    "final_tf_idf = tf_idf_vect.fit_transform(X_train.values.astype('U'))\n",
    "\n",
    "print(\"the type of TIDF vectorizer \",type(final_tf_idf))\n",
    "print(\"the shape of out text TFIDF vectorizer \",final_tf_idf.get_shape())\n",
    "print(\"the number of unique words including both unigrams and bigrams \", final_tf_idf.get_shape()[1])"
   ]
  },
  {
   "cell_type": "markdown",
   "metadata": {},
   "source": [
    "#### Use the TF-IDF vectorizer trained in the preceding step to convert cvset and testset to vectors."
   ]
  },
  {
   "cell_type": "code",
   "execution_count": 25,
   "metadata": {},
   "outputs": [
    {
     "name": "stdout",
     "output_type": "stream",
     "text": [
      "the type of TFIDF vectorizer  <class 'scipy.sparse.csr.csr_matrix'>\n",
      "the shape of out text TFIDF vectorizer  (72833, 2220905)\n",
      "the number of unique words  2220905\n",
      "the type of TFIDF vectorizer  <class 'scipy.sparse.csr.csr_matrix'>\n",
      "the shape of out text TFIDF vectorizer  (72833, 2220905)\n",
      "the number of unique words  2220905\n"
     ]
    }
   ],
   "source": [
    "#use the same countvectorizer on the cvset and testset.\n",
    "final_tf_idf_cvset = tf_idf_vect.transform(X_cv.values)\n",
    "print(\"the type of TFIDF vectorizer \",type(final_tf_idf_cvset))\n",
    "print(\"the shape of out text TFIDF vectorizer \",final_tf_idf_cvset.get_shape())\n",
    "print(\"the number of unique words \", final_tf_idf_cvset.get_shape()[1])\n",
    "\n",
    "#use the same countvectorizer on the testset.\n",
    "final_tf_idf_testset = tf_idf_vect.transform(X_test.values)\n",
    "print(\"the type of TFIDF vectorizer \",type(final_tf_idf_testset))\n",
    "print(\"the shape of out text TFIDF vectorizer \",final_tf_idf_testset.get_shape())\n",
    "print(\"the number of unique words \", final_tf_idf_testset.get_shape()[1])"
   ]
  },
  {
   "cell_type": "markdown",
   "metadata": {},
   "source": [
    "#### Standardize / Normalize the data"
   ]
  },
  {
   "cell_type": "code",
   "execution_count": 26,
   "metadata": {},
   "outputs": [],
   "source": [
    "# Data-preprocessing: Normalizing the data\n",
    "from sklearn.preprocessing import Normalizer\n",
    "\n",
    "normalizer = Normalizer()\n",
    "\n",
    "#Standardize on the train data (.fit_transform()) and #use the same Normalizer on the cvset and testset as well (.transform())\n",
    "X_train_stdzd = normalizer.fit_transform(final_tf_idf)\n",
    "X_cv_stdzd    = normalizer.transform(final_tf_idf_cvset)\n",
    "X_test_stdzd  = normalizer.transform(final_tf_idf_testset) "
   ]
  },
  {
   "cell_type": "markdown",
   "metadata": {},
   "source": [
    "#### Hyper-Parameter Tuning : Using the cross-validation dataset to calculate the optimal 'alpha' of Naive Bayes in TF-IDF case."
   ]
  },
  {
   "cell_type": "code",
   "execution_count": 27,
   "metadata": {},
   "outputs": [
    {
     "name": "stdout",
     "output_type": "stream",
     "text": [
      "[0.0, -2.3025850929940455, -4.605170185988091, -6.907755278982137, -9.210340371976182, -11.512925464970229]\n",
      "[0.8463102368261992, 0.887469472102198, 0.9164184941190626, 0.9016284430783781, 0.8909886902590296, 0.8849063713838483]\n"
     ]
    },
    {
     "data": {
      "image/png": "[encoded data removed]",
      "text/plain": [
       "<matplotlib.figure.Figure at 0x2e59dd4d5f8>"
      ]
     },
     "metadata": {},
     "output_type": "display_data"
    },
    {
     "name": "stdout",
     "output_type": "stream",
     "text": [
      "Starttime is : 2018-11-15 11:32:20.896982\n",
      "Endtime   is : 2018-11-15 11:32:23.867210\n"
     ]
    }
   ],
   "source": [
    "# Import the Multinomial NaiveBayes,GridSearchCV and precision modules.\n",
    "# Reasoning for choosing MultinomialNB : MultinomialNaiveBayes is the preferred choice for text classification problems.\n",
    "from sklearn.naive_bayes import MultinomialNB\n",
    "from sklearn.grid_search import GridSearchCV\n",
    "from sklearn.metrics import precision_score\n",
    "\n",
    "# Set the start time of the current cell run.\n",
    "starttime_nb_tfidf = datetime.datetime.now()\n",
    "\n",
    "# Set the range for the hyper-parameters.\n",
    "# We Know from theory:\n",
    "#          when alpha = 0, then model overfits\n",
    "#          when alpha is large ~= 10000, then model underfits\n",
    "\n",
    "# Experiment with different combination of alpha ranges.\n",
    "#alpha = [10000.0,1000.0,100.0,10.0,1.0,0.0]\n",
    "#alpha = [10.0,9.0,8.0,7.0,6.0,5.0,4.0,3.0,2.0,1.0,0.0]\n",
    "alpha = [1.0,0.1,0.01,0.001,0.0001,0.00001]\n",
    "#alpha = [0.1,0.08,0.06,0.04,0.02,0.01,0.008,0.006,0.004,0.002,0.001]\n",
    "# Use the cross-validation dataset to determine the best hyper-parameter alpha.\n",
    "# Loop through various values of alpha.\n",
    "plot_X = []\n",
    "plot_Y = []\n",
    "for i in alpha:\n",
    "    nb_optimal = MultinomialNB(alpha=i)          # Iterate through various values of alpha.\n",
    "    nb_optimal.fit(X_train_stdzd, Y_train)       # fitting the Multinomial NaivesBayes model on the training set.\n",
    "    Y_pred = nb_optimal.predict(X_cv_stdzd)      # predict the response from the Multinomial NaivesBayes model on the cv set.\n",
    "    plot_X.append(np.log(i))                     # plot log(alpha) in the x-axis.\n",
    "    plot_Y.append(precision_score(Y_cv,Y_pred))  # plot precision score in the y-axis.\n",
    "\n",
    "#print X,Y\n",
    "print(plot_X)\n",
    "print(plot_Y)\n",
    "\n",
    "# Plot X-axis = log(alpha),Y-axis = precision to determine the best hyper-parameter.\n",
    "plt.plot(plot_X,plot_Y)\n",
    "plt.title(\"Plot of CrossValidationPrecision vs log(Alpha).\")  # Set the title of the plot.\n",
    "plt.xlabel(\"log(alpha)\")                                      # Set the x label of the plot.\n",
    "plt.ylabel(\"CrossValidation Precision\")                       # Set the y label of the plot\n",
    "plt.show()                                                    # render the plot.\n",
    "\n",
    "# Set the end time of the current cell run.\n",
    "endtime_nb_tfidf = datetime.datetime.now()\n",
    "\n",
    "# Print the cell run duration.\n",
    "print(\"Starttime is : {}\".format(starttime_nb_tfidf))\n",
    "print(\"Endtime   is : {}\".format(endtime_nb_tfidf))"
   ]
  },
  {
   "cell_type": "code",
   "execution_count": 28,
   "metadata": {},
   "outputs": [
    {
     "name": "stdout",
     "output_type": "stream",
     "text": [
      "Trainingset X: (218502, 2220905)\n",
      "CVset       X: (72833, 2220905)\n",
      "Testset     X: (72833, 2220905)\n",
      "Trainingset Y: (218502,)\n",
      "CVset       Y: (72833,)\n",
      "Testset     Y: (72833,)\n"
     ]
    }
   ],
   "source": [
    "# Print the shape of the Input features X and class label Y for training and test set.\n",
    "print(\"Trainingset X: {}\".format(X_train_stdzd.shape))\n",
    "print(\"CVset       X: {}\".format(X_cv_stdzd.shape))\n",
    "print(\"Testset     X: {}\".format(X_test_stdzd.shape))\n",
    "\n",
    "print(\"Trainingset Y: {}\".format(Y_train.shape))\n",
    "print(\"CVset       Y: {}\".format(Y_cv.shape))\n",
    "print(\"Testset     Y: {}\".format(Y_test.shape))"
   ]
  },
  {
   "cell_type": "markdown",
   "metadata": {},
   "source": [
    "#### Error plots for varying combination of apha ranges."
   ]
  },
  {
   "cell_type": "markdown",
   "metadata": {},
   "source": [
    "#### Aplha range : 0 to 10000"
   ]
  },
  {
   "attachments": {
    "Plot_CVPrecision_vs_Alpha_0_10000_Log%28alpha%29_TFIDF.png": {
     "image/png": "[encoded data removed]"
    }
   },
   "cell_type": "markdown",
   "metadata": {},
   "source": [
    "![Plot_CVPrecision_vs_Alpha_0_10000_Log%28alpha%29_TFIDF.png](attachment:Plot_CVPrecision_vs_Alpha_0_10000_Log%28alpha%29_TFIDF.png)"
   ]
  },
  {
   "cell_type": "markdown",
   "metadata": {},
   "source": [
    "#### Observations :\n",
    "    We observe, the curve moving towards a uniform distribution when log(alpha) exceeds 2.\n",
    "    The CrossValidation Precision is maximum when log(alpha) = 0 which is our starting range. Hence it could lie close to 0.\n",
    "    Here alpha ranges from 0 to 10000."
   ]
  },
  {
   "cell_type": "code",
   "execution_count": null,
   "metadata": {},
   "outputs": [],
   "source": []
  },
  {
   "cell_type": "markdown",
   "metadata": {},
   "source": [
    "#### Alpha Range : 0 to 10"
   ]
  },
  {
   "attachments": {
    "Plot_CVPrecision_vs_Alpha_0_10_Log%28alpha%29_TFIDF.png": {
     "image/png": "[encoded data removed]"
    }
   },
   "cell_type": "markdown",
   "metadata": {},
   "source": [
    "![Plot_CVPrecision_vs_Alpha_0_10_Log%28alpha%29_TFIDF.png](attachment:Plot_CVPrecision_vs_Alpha_0_10_Log%28alpha%29_TFIDF.png)"
   ]
  },
  {
   "cell_type": "markdown",
   "metadata": {},
   "source": [
    "#### Observations :\n",
    "    We observe that, the CrossValidation Precision is maximum when log(alpha) = 0, which is our starting range. Hence it     could lie close to 0.\n",
    "    Here alpha ranges from 0 to 10."
   ]
  },
  {
   "cell_type": "code",
   "execution_count": null,
   "metadata": {},
   "outputs": [],
   "source": []
  },
  {
   "cell_type": "markdown",
   "metadata": {},
   "source": [
    "#### Alpha range : 0 to 1"
   ]
  },
  {
   "attachments": {
    "Plot_CVPrecision_vs_Alpha_0_1_Log%28alpha%29_TFIDF.png": {
     "image/png": "[encoded data removed]"
    }
   },
   "cell_type": "markdown",
   "metadata": {},
   "source": [
    "![Plot_CVPrecision_vs_Alpha_0_1_Log%28alpha%29_TFIDF.png](attachment:Plot_CVPrecision_vs_Alpha_0_1_Log%28alpha%29_TFIDF.png)"
   ]
  },
  {
   "cell_type": "markdown",
   "metadata": {},
   "source": [
    "#### Observations :\n",
    "    The cross-validation precision is maximum when log(alpha) ~= -4.6 .\n",
    "    Therefore alpha = exponential(log(alpha)) = np.exp(-4.6) = 0.01\n",
    "    Here alpha ranges from 0 to 1."
   ]
  },
  {
   "cell_type": "markdown",
   "metadata": {},
   "source": [
    "#### Hyper-parameter Choice : \n",
    "      Based on the CV plots for varying combination of alpha ranges, alpha = 0.01 when alpha range is between 0 and 1 is the best choice."
   ]
  },
  {
   "cell_type": "code",
   "execution_count": null,
   "metadata": {},
   "outputs": [],
   "source": []
  },
  {
   "cell_type": "markdown",
   "metadata": {},
   "source": [
    "#### Fit the Naive Bayes model in TF_IDF case in the test set and compute the error metrics."
   ]
  },
  {
   "cell_type": "code",
   "execution_count": 29,
   "metadata": {},
   "outputs": [
    {
     "name": "stdout",
     "output_type": "stream",
     "text": [
      "Starttime : 2018-11-15 11:32:41.166059\n",
      "Endtime   : 2018-11-15 11:32:41.616507\n"
     ]
    }
   ],
   "source": [
    "# ============================== NB with alpha = optimal alpha ===============================================\n",
    "\n",
    "# Set the start time of the current cell run.\n",
    "starttime_nb_tfidf = datetime.datetime.now()\n",
    "\n",
    "# instantiate the Multinomial NaivesBayes learning model with alpha = 0.01 based on the above error plots .\n",
    "nb_optimal = MultinomialNB(alpha=0.01)\n",
    "nb_optimal.fit(X_train_stdzd, Y_train)           # fitting the Multinomial NaivesBayes model.\n",
    "Y_pred_test = nb_optimal.predict(X_test_stdzd)   # predict the response from the Multinomial NaivesBayes model.\n",
    "\n",
    "# Set the end time of the current cell run.\n",
    "endtime_nb_tfidf = datetime.datetime.now()\n",
    "\n",
    "# Print the cell run duration.\n",
    "print(\"Starttime : {}\".format(starttime_nb_tfidf))\n",
    "print(\"Endtime   : {}\".format(endtime_nb_tfidf))"
   ]
  },
  {
   "cell_type": "code",
   "execution_count": null,
   "metadata": {},
   "outputs": [],
   "source": []
  },
  {
   "cell_type": "markdown",
   "metadata": {},
   "source": [
    "#### Plot the classifier performance metrics."
   ]
  },
  {
   "cell_type": "code",
   "execution_count": 30,
   "metadata": {},
   "outputs": [
    {
     "data": {
      "image/png": "[encoded data removed]",
      "text/plain": [
       "<matplotlib.figure.Figure at 0x2e599026748>"
      ]
     },
     "metadata": {},
     "output_type": "display_data"
    }
   ],
   "source": [
    "# evaluate the model and report the metrics.\n",
    "from sklearn.metrics import confusion_matrix\n",
    "conf_mat = confusion_matrix(Y_test, Y_pred_test)\n",
    "fig, ax = plt.subplots(figsize=(5,5))\n",
    "sns.heatmap(conf_mat, annot=True, fmt='d'\n",
    "            ,xticklabels=['negative','positive'], yticklabels=['negative','positive'])\n",
    "plt.title('Confusion Matrix : (Vectorizer = TFIDF)')\n",
    "plt.ylabel('Actual')\n",
    "plt.xlabel('Predicted')\n",
    "plt.show()"
   ]
  },
  {
   "cell_type": "code",
   "execution_count": 31,
   "metadata": {},
   "outputs": [
    {
     "name": "stdout",
     "output_type": "stream",
     "text": [
      "1    64292\n",
      "0     8541\n",
      "Name: Comment, dtype: int64\n"
     ]
    }
   ],
   "source": [
    "#Class composition in the testset.\n",
    "dfYTest = pd.DataFrame(list(Y_test),columns=['Comment'])\n",
    "#print(list(Y_test))\n",
    "print(dfYTest[\"Comment\"].value_counts())"
   ]
  },
  {
   "cell_type": "code",
   "execution_count": 69,
   "metadata": {},
   "outputs": [
    {
     "name": "stdout",
     "output_type": "stream",
     "text": [
      "Performance Metrics :\n",
      "+------------------------+--------------------+--------------------+\n",
      "| Text-VectorizationType | Performance Metric | Value              |\n",
      "+------------------------+--------------------+--------------------+\n",
      "|         TF-IDF         |      Accuracy      | 0.9291392637952577 |\n",
      "|           -            |     Precision      | 0.9324401409995758 |\n",
      "|           -            |       Recall       | 0.9915697131835999 |\n",
      "|           -            |      F1 Score      | 0.9610963282351257 |\n",
      "|           -            |  ConfusionMatrix   | [[ 3922  4619]     |\n",
      "|                        |                    |  [  542 63750]]    |\n",
      "|       ----------       |    -----------     | ----------         |\n",
      "+------------------------+--------------------+--------------------+\n"
     ]
    }
   ],
   "source": [
    "# Load the classification metrics\n",
    "from sklearn.metrics import accuracy_score\n",
    "from sklearn.metrics import precision_score\n",
    "from sklearn.metrics import recall_score\n",
    "from sklearn.metrics import f1_score\n",
    "# Load the prettytable\n",
    "from prettytable import PrettyTable\n",
    "\n",
    "# Instantiate the prettytable module.\n",
    "x = PrettyTable()\n",
    "# Set the column names for the table.\n",
    "x.field_names = [\"Text-VectorizationType\",\"Performance Metric\", \"Value\"]\n",
    "\n",
    "# Add the classification metrics to the table.\n",
    "x.add_row(['TF-IDF','Accuracy',accuracy_score(Y_test,Y_pred_test)])\n",
    "x.add_row(['-','Precision',precision_score(Y_test,Y_pred_test)])\n",
    "x.add_row(['-','Recall',recall_score(Y_test,Y_pred_test)])\n",
    "x.add_row(['-','F1 Score',f1_score(Y_test,Y_pred_test)])\n",
    "x.add_row(['-','ConfusionMatrix',confusion_matrix(Y_test, Y_pred_test)])\n",
    "x.add_row(['----------','-----------','----------'])\n",
    "\n",
    "# Add the classification metrics to the final summary table.\n",
    "summaryTable.add_row(['TF-IDF','0.01','Accuracy',accuracy_score(Y_test,Y_pred_test)])\n",
    "summaryTable.add_row(['-','0.01','Precision',precision_score(Y_test,Y_pred_test)])\n",
    "summaryTable.add_row(['-','0.01','Recall',recall_score(Y_test,Y_pred_test)])\n",
    "summaryTable.add_row(['-','0.01','F1 Score',f1_score(Y_test,Y_pred_test)])\n",
    "summaryTable.add_row(['-','0.01','ConfusionMatrix',confusion_matrix(Y_test, Y_pred_test)])\n",
    "summaryTable.add_row(['----------','-----------','----------','----------'])\n",
    "\n",
    "# Apply data alignment.\n",
    "x.align[\"Value\"] = \"l\"\n",
    "\n",
    "# Print the table.\n",
    "print(\"Performance Metrics :\")\n",
    "print(x)"
   ]
  },
  {
   "cell_type": "markdown",
   "metadata": {},
   "source": [
    "#### Feature Importance"
   ]
  },
  {
   "cell_type": "code",
   "execution_count": 35,
   "metadata": {},
   "outputs": [
    {
     "name": "stdout",
     "output_type": "stream",
     "text": [
      "The top 10 features for negative class are : \n",
      "['tri' 'disappoint' 'buy' 'one' 'would' 'flavor' 'coffe' 'product' 'like'\n",
      " 'tast']\n",
      "\n",
      "The top 10 features for positive class are : \n",
      "['use' 'product' 'flavor' 'tea' 'like' 'tast' 'coffe' 'good' 'love'\n",
      " 'great']\n"
     ]
    }
   ],
   "source": [
    "## Feature Importance : Gets the top 10 features based on importance for both positive and negative classes.\n",
    "neg_class_prob_sorted = nb_optimal.feature_log_prob_[0, :].argsort()\n",
    "pos_class_prob_sorted = nb_optimal.feature_log_prob_[1, :].argsort()\n",
    "\n",
    "# Sort on ascending order the top 10 features based on importance.\n",
    "features_negativeclass = (np.take(count_vect.get_feature_names(), neg_class_prob_sorted[2220895:]))\n",
    "features_positiveclass = (np.take(count_vect.get_feature_names(), pos_class_prob_sorted[2220895:]))\n",
    "\n",
    "print(\"The top 10 features for negative class are : \\n{}\".format(features_negativeclass))\n",
    "print()\n",
    "print(\"The top 10 features for positive class are : \\n{}\".format(features_positiveclass))"
   ]
  },
  {
   "cell_type": "code",
   "execution_count": null,
   "metadata": {},
   "outputs": [],
   "source": []
  },
  {
   "cell_type": "code",
   "execution_count": 36,
   "metadata": {},
   "outputs": [
    {
     "name": "stdout",
     "output_type": "stream",
     "text": [
      "Top 10 Features By Importance :\n",
      "+------------+-------------+------------------+\n",
      "| ClassType  | FeatureRank | FeatureName      |\n",
      "+------------+-------------+------------------+\n",
      "|  Negative  |      1      | tast             |\n",
      "|  Negative  |      2      | like             |\n",
      "|  Negative  |      3      | product          |\n",
      "|  Negative  |      4      | coffe            |\n",
      "|  Negative  |      5      | flavor           |\n",
      "|  Negative  |      6      | would            |\n",
      "|  Negative  |      7      | one              |\n",
      "|  Negative  |      8      | buy              |\n",
      "|  Negative  |      9      | disappoint       |\n",
      "|  Negative  |      10     | tri              |\n",
      "| ---------- | ----------- | ---------------- |\n",
      "|  Positive  |      1      | great            |\n",
      "|  Positive  |      2      | love             |\n",
      "|  Positive  |      3      | good             |\n",
      "|  Positive  |      4      | coffe            |\n",
      "|  Positive  |      5      | tast             |\n",
      "|  Positive  |      6      | like             |\n",
      "|  Positive  |      7      | tea              |\n",
      "|  Positive  |      8      | flavor           |\n",
      "|  Positive  |      9      | product          |\n",
      "|  Positive  |      10     | use              |\n",
      "+------------+-------------+------------------+\n"
     ]
    }
   ],
   "source": [
    "# Print the top 10 features of positive and negative classes in a prettytable format.\n",
    "from prettytable import PrettyTable\n",
    "\n",
    "# Instantiate the prettytable method.\n",
    "x = PrettyTable()\n",
    "# Set the column names for the table.\n",
    "x.field_names = [\"ClassType\",\"FeatureRank\", \"FeatureName\"]\n",
    "\n",
    "# Add top 10 features of the Negative class.\n",
    "for icount,ele in enumerate(list(features_negativeclass[::-1])):   # sort the top 10 features based on importance.\n",
    "    x.add_row(['Negative',(icount+1),ele])                         # add the feature to the table.\n",
    "\n",
    "x.add_row(['----------','-----------','----------------'])         # add a line break to indicate class separation.\n",
    "\n",
    "# Add top 10 features of the Positive class.\n",
    "for icount,ele in enumerate(list(features_positiveclass[::-1])):   # sort the top 10 features based on importance.\n",
    "    x.add_row(['Positive',(icount+1),ele])                         # add the feature to the table.\n",
    "\n",
    "# Left align the entries of the column \"FeatureName\"    \n",
    "x.align[\"FeatureName\"] = \"l\"\n",
    "\n",
    "#Print the table.\n",
    "print(\"Top 10 Features By Importance :\")\n",
    "print(x)"
   ]
  },
  {
   "cell_type": "code",
   "execution_count": null,
   "metadata": {},
   "outputs": [],
   "source": []
  },
  {
   "cell_type": "markdown",
   "metadata": {},
   "source": [
    "#### CONCLUSION :\n",
    "\n",
    "#### Performance Metrics without adding Summary comments from the Amazon food review dataset to the Review comments."
   ]
  },
  {
   "attachments": {
    "PerformanceMetric_ReviewWithoutSummary_TFIDF.PNG": {
     "image/png": "[encoded data removed]"
    }
   },
   "cell_type": "markdown",
   "metadata": {},
   "source": [
    "![PerformanceMetric_ReviewWithoutSummary_TFIDF.PNG](attachment:PerformanceMetric_ReviewWithoutSummary_TFIDF.PNG)"
   ]
  },
  {
   "cell_type": "code",
   "execution_count": null,
   "metadata": {},
   "outputs": [],
   "source": []
  },
  {
   "cell_type": "markdown",
   "metadata": {},
   "source": [
    "#### Performance Metrics with adding Summary comment from the Amazon food review dataset to the Review comments."
   ]
  },
  {
   "attachments": {
    "PerformanceMetric_ReviewWithSummary_TFIDF.PNG": {
     "image/png": "[encoded data removed]"
    }
   },
   "cell_type": "markdown",
   "metadata": {},
   "source": [
    "![PerformanceMetric_ReviewWithSummary_TFIDF.PNG](attachment:PerformanceMetric_ReviewWithSummary_TFIDF.PNG)"
   ]
  },
  {
   "cell_type": "markdown",
   "metadata": {},
   "source": [
    "#### We see some improvement in the Performance Metric when Summary comments were added to the review comments. The FalsePositive values reduced by just 10% between Text that had summary added to them and Text that had summary withheld from it. This is not a significant improvement."
   ]
  },
  {
   "cell_type": "code",
   "execution_count": null,
   "metadata": {},
   "outputs": [],
   "source": []
  },
  {
   "cell_type": "markdown",
   "metadata": {},
   "source": [
    "### FINAL SUMMARY :"
   ]
  },
  {
   "cell_type": "code",
   "execution_count": 70,
   "metadata": {},
   "outputs": [
    {
     "name": "stdout",
     "output_type": "stream",
     "text": [
      "Summary :\n",
      "+------------------------+-----------------------+--------------------+--------------------+\n",
      "| Text-VectorizationType | Hyper-Paramter(alpha) | Performance Metric | Value              |\n",
      "+------------------------+-----------------------+--------------------+--------------------+\n",
      "|          BoW           | 0.01                  |      Accuracy      | 0.9305259978306537 |\n",
      "|           -            | 0.01                  |     Precision      | 0.9323882383858441 |\n",
      "|           -            | 0.01                  |       Recall       | 0.9933273191065762 |\n",
      "|           -            | 0.01                  |      F1 Score      | 0.961893573117648  |\n",
      "|           -            | 0.01                  |  ConfusionMatrix   | [[ 3910  4631]     |\n",
      "|                        |                       |                    |  [  429 63863]]    |\n",
      "|       ----------       | -----------           |     ----------     | ----------         |\n",
      "|         TF-IDF         | 0.01                  |      Accuracy      | 0.9291392637952577 |\n",
      "|           -            | 0.01                  |     Precision      | 0.9324401409995758 |\n",
      "|           -            | 0.01                  |       Recall       | 0.9915697131835999 |\n",
      "|           -            | 0.01                  |      F1 Score      | 0.9610963282351257 |\n",
      "|           -            | 0.01                  |  ConfusionMatrix   | [[ 3922  4619]     |\n",
      "|                        |                       |                    |  [  542 63750]]    |\n",
      "|       ----------       | -----------           |     ----------     | ----------         |\n",
      "+------------------------+-----------------------+--------------------+--------------------+\n"
     ]
    }
   ],
   "source": [
    "# Use a new prettytable to add BoW and tfidf rows.\n",
    "\n",
    "# Apply data alignment.\n",
    "summaryTable.align[\"Value\"] = \"l\"\n",
    "summaryTable.align[\"Hyper-Paramter(alpha)\"] = \"l\"\n",
    "\n",
    "# Print the table.\n",
    "print(\"Summary :\")\n",
    "print(summaryTable)"
   ]
  },
  {
   "cell_type": "markdown",
   "metadata": {},
   "source": [
    "#### Concluding Summary : \n",
    "#### The MultiNomial Naive Bayes was found to perform better in terms of time with respect to k-NN for text processing tasks.  The cause of concern in MultiNomial Naive Bayes, is the high amount of FalsePositive that we have for both BoW and TF-IDF vectorizers. Inclusion of extra relevant comments ( Summary column from the Amazon food review dataset ) did little to reduce the FalsePositive counts. This necessitates further exploration of other Text encoding methods. "
   ]
  },
  {
   "cell_type": "code",
   "execution_count": null,
   "metadata": {},
   "outputs": [],
   "source": []
  },
  {
   "cell_type": "code",
   "execution_count": null,
   "metadata": {},
   "outputs": [],
   "source": []
  }
 ],
 "metadata": {
  "kernelspec": {
   "display_name": "Python 3",
   "language": "python",
   "name": "python3"
  },
  "language_info": {
   "codemirror_mode": {
    "name": "ipython",
    "version": 3
   },
   "file_extension": ".py",
   "mimetype": "text/x-python",
   "name": "python",
   "nbconvert_exporter": "python",
   "pygments_lexer": "ipython3",
   "version": "3.6.4"
  }
 },
 "nbformat": 4,
 "nbformat_minor": 2
}
