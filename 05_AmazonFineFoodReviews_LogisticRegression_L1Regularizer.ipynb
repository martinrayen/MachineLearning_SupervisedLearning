{
 "cells": [
  {
   "cell_type": "code",
   "execution_count": null,
   "metadata": {},
   "outputs": [],
   "source": []
  },
  {
   "cell_type": "markdown",
   "metadata": {},
   "source": [
    "### Objective : \n",
    "#### To apply Logistic Regression algorithm with L1 Regularizer on Amazon food reviews dataset for each of the vectorization below : \n",
    "                  1. Bag Of Words (BoW)\n",
    "                  2. TermFrequency-InverseDocumentFrequency (TF-IDF)\n",
    "                  3. Word2Vec (W2V)\n",
    "                  4. AverageWord2Vec (AvgW2V)\n",
    "                  \n",
    "#### To determine the sentiment polarity: \n",
    "#### i,e.  Given a food review text, predict whether the score is Positive or Negative.\n",
    "#### NOTE :\n",
    "    1. Sort the dataset based on timestamp in ascending order.\n",
    "    2. Split the dataset into Training (60%),Cross-validation (20%) and Test (20%) .\n",
    "    3. Apply Elbow-Method, on the cross-validation set, to find optimal 'lambda' in Logistic Regression.\n",
    "    4. Calculate C = Inverse(lambda), to be passed to the LR method in sklearn.\n",
    "    5. Fit the model on the dataset X.\n",
    "    6. For L1 Regularizer,Increase the value of lambda\n",
    "        (a) report performance.\n",
    "        (b) Report sparsity.\n",
    "    7. Determine feature importance for positive and negative classes.\n",
    "    8. Compute and report the following performance metrics for the vectorization mentioned above.\n",
    "        (a) Accuracy\n",
    "        (b) Precision\n",
    "        (c) Recall\n",
    "        (d) F1-Score\n",
    "        (e) Confusion Matrix\n",
    "    9.  Perform feature engineering / hyper-parameter tuning to make the model better by reducing \n",
    "        FalsePositives.\n",
    "    10. Do sparsity and multicollinearity for any of the vectorizers. BoW or tf-idf is recommended.\n",
    "\n",
    "    Author : Joseph M.T. Vijay\n",
    "    Date   : 30-Nov-2018"
   ]
  },
  {
   "cell_type": "code",
   "execution_count": null,
   "metadata": {},
   "outputs": [],
   "source": []
  },
  {
   "cell_type": "markdown",
   "metadata": {},
   "source": [
    "#### Load the required libraries."
   ]
  },
  {
   "cell_type": "code",
   "execution_count": 1,
   "metadata": {},
   "outputs": [
    {
     "name": "stdout",
     "output_type": "stream",
     "text": [
      "Collecting https://pypi.python.org/packages/source/P/PrettyTable/prettytable-0.7.2.tar.bz2\n",
      "  Using cached prettytable-0.7.2.tar.bz2\n",
      "  Requirement already satisfied (use --upgrade to upgrade): prettytable==0.7.2 from https://pypi.python.org/packages/source/P/PrettyTable/prettytable-0.7.2.tar.bz2 in c:\\programdata\\anaconda3\\lib\\site-packages\n",
      "Building wheels for collected packages: prettytable\n",
      "  Running setup.py bdist_wheel for prettytable: started\n",
      "  Running setup.py bdist_wheel for prettytable: finished with status 'done'\n",
      "  Stored in directory: C:\\Users\\Vijay Joseph\\AppData\\Local\\pip\\Cache\\wheels\\29\\73\\c9\\3e063a66859af18585f8e1439f92dcc27b8c13ae400bb8c89e\n",
      "Successfully built prettytable\n"
     ]
    },
    {
     "name": "stderr",
     "output_type": "stream",
     "text": [
      "You are using pip version 9.0.1, however version 18.1 is available.\n",
      "You should consider upgrading via the 'python -m pip install --upgrade pip' command.\n"
     ]
    }
   ],
   "source": [
    "# Load the required libraries.\n",
    "%matplotlib inline\n",
    "import warnings\n",
    "warnings.filterwarnings(\"ignore\")\n",
    "\n",
    "import pandas as pd\n",
    "import numpy as np\n",
    "import matplotlib.pyplot as plt\n",
    "import seaborn as sns\n",
    "from sklearn.feature_extraction.text import TfidfTransformer\n",
    "from sklearn.feature_extraction.text import TfidfVectorizer\n",
    "from sklearn.feature_extraction.text import CountVectorizer\n",
    "from sklearn.metrics import confusion_matrix\n",
    "from sklearn import metrics\n",
    "import pickle\n",
    "# Install prettytable\n",
    "import sys\n",
    "!{sys.executable} -m pip install https://pypi.python.org/packages/source/P/PrettyTable/prettytable-0.7.2.tar.bz2"
   ]
  },
  {
   "cell_type": "markdown",
   "metadata": {},
   "source": [
    "#### Load the Pre-processed Amazon Reviews Dataset."
   ]
  },
  {
   "cell_type": "code",
   "execution_count": 2,
   "metadata": {},
   "outputs": [],
   "source": [
    "# Load the pre-processed Amazon food review dataset.\n",
    "# Please note : the contents of the file \"finalCleanedText\" contains Text inclusive of summary comments \n",
    "# present in the Amazon food review dataset.\n",
    "\n",
    "final = ''\n",
    "final = pd.read_csv(\"finalCleanedText.csv\")"
   ]
  },
  {
   "cell_type": "markdown",
   "metadata": {},
   "source": [
    "#### Apply Time Based Sorting (TBS)."
   ]
  },
  {
   "cell_type": "code",
   "execution_count": 3,
   "metadata": {},
   "outputs": [],
   "source": [
    "# Add a new column for TimeStamp that is of Datetime datatype,since the dataset's time column is of integer datatype.\n",
    "import datetime\n",
    "\n",
    "# Assign the Time column to a new variable.\n",
    "final_timesplit = final['Time']\n",
    "\n",
    "# Convert the datatype of the time column from integer to datetime.\n",
    "final_timesplit = final_timesplit.apply(datetime.datetime.fromtimestamp)\n",
    "\n",
    "# Create a new column to store the new time column whose datatype is datetime\n",
    "final['TimeSplit']  = final_timesplit\n",
    "\n",
    "# Sort the final dataset in descending order of time.\n",
    "final_dataset = final.sort_values(['TimeSplit'],ascending=False)"
   ]
  },
  {
   "cell_type": "markdown",
   "metadata": {},
   "source": [
    "#### Sample 100K points based on time based sorting"
   ]
  },
  {
   "cell_type": "code",
   "execution_count": 4,
   "metadata": {},
   "outputs": [],
   "source": [
    "#Sample 100K points after time based sorting.\n",
    "final = final_dataset[:100000]\n",
    "# Store label info separately.\n",
    "label = final['Score'][:100000]"
   ]
  },
  {
   "cell_type": "code",
   "execution_count": 5,
   "metadata": {},
   "outputs": [
    {
     "name": "stdout",
     "output_type": "stream",
     "text": [
      "(100000, 14)\n",
      "(100000,)\n"
     ]
    }
   ],
   "source": [
    "# Print the shape of the input variables and output variables.\n",
    "print(final.shape)\n",
    "print(label.shape)"
   ]
  },
  {
   "cell_type": "code",
   "execution_count": 6,
   "metadata": {},
   "outputs": [
    {
     "name": "stdout",
     "output_type": "stream",
     "text": [
      "262240    positive\n",
      "33119     positive\n",
      "353804    negative\n",
      "328939    negative\n",
      "296377    positive\n",
      "Name: Score, dtype: object\n",
      "262240    1\n",
      "33119     1\n",
      "353804    0\n",
      "328939    0\n",
      "296377    1\n",
      "Name: Score, dtype: int64\n"
     ]
    }
   ],
   "source": [
    "# The class label \"Score\" has distinct values as Positive and Negative, convert them to 1 for Postive and 0 for Negative.\n",
    "print(label[:5])\n",
    "Y = final['Score'].map({\"positive\":1,\"negative\":0})\n",
    "print(Y[:5])"
   ]
  },
  {
   "cell_type": "markdown",
   "metadata": {},
   "source": [
    "#### Split the data into Train, Cross-validation and Test dataset.\n",
    "    ==> Train = First 60% of the sorted complete dataset.\n",
    "    ==> CV    = Next  20% of the sorted complete dataset.\n",
    "    ==> Test  = Last  20% of the sorted complete dataset."
   ]
  },
  {
   "cell_type": "code",
   "execution_count": 7,
   "metadata": {},
   "outputs": [],
   "source": [
    "# Assign the cleaned text and the class label for the split.\n",
    "X = final['CleanedText']\n",
    "Y = final['Score'].map({\"positive\":1,\"negative\":0})\n",
    "\n",
    "# Split the dataset in the following ratios:\n",
    "# Total row considered is 364171.\n",
    "\n",
    "# Input split\n",
    "X_train = X[0:60000]            #Train = First 60% of the sorted dataframe;\n",
    "X_cv    = X[60000:80000]        #CV    = Next  20% of the sorted dataframe;\n",
    "X_test  = X[80000:100000]       #Test  = Remaining 20% of the sorted dataframe.\n",
    "\n",
    "#Class lable split.\n",
    "Y_train = Y[0:60000]            #Train = First 60% of the sorted dataframe;\n",
    "Y_cv    = Y[60000:80000]        #CV    = Next  20% of the sorted dataframe;\n",
    "Y_test  = Y[80000:100000]       #Test  = Remainning 20% of the sorted dataframe."
   ]
  },
  {
   "cell_type": "code",
   "execution_count": 8,
   "metadata": {},
   "outputs": [],
   "source": [
    "# Load the prettytable\n",
    "from prettytable import PrettyTable\n",
    "\n",
    "# Instantiate the prettytable module.\n",
    "# Table to summarize our final conclusion.\n",
    "summaryTable = PrettyTable()\n",
    "# Set the column names for the table.\n",
    "summaryTable.field_names = [\"Text-VectorizationType\",\"Hyper-Paramter(lambda)\",\"Performance Metric\", \"Value\"]\n",
    "\n",
    "# Table to list performance scores and sparsity as lambda increases.\n",
    "lambdaVariationsTable = PrettyTable()\n",
    "# Set the column names for the table.\n",
    "lambdaVariationsTable.field_names = [\"RowNum\",\"Hyper-Paramter(lambda)\",\"Performance Metric\", \"Value\",\"Sparsity\"]"
   ]
  },
  {
   "cell_type": "markdown",
   "metadata": {},
   "source": [
    "### Vectorization Method : Bag Of Words (BoW)"
   ]
  },
  {
   "cell_type": "markdown",
   "metadata": {},
   "source": [
    "#### Convert reviews present in trainingset into numeric vectors using Bag Of Words (BoW)"
   ]
  },
  {
   "cell_type": "code",
   "execution_count": 9,
   "metadata": {},
   "outputs": [
    {
     "name": "stdout",
     "output_type": "stream",
     "text": [
      "the type of count vectorizer  <class 'scipy.sparse.csr.csr_matrix'>\n",
      "the shape of out text BOW vectorizer  (60000, 901762)\n",
      "the number of unique words  901762\n"
     ]
    }
   ],
   "source": [
    "# Apply BoW vectorization.\n",
    "\n",
    "#Instantiate the BoW vectorizer.\n",
    "count_vect = CountVectorizer(dtype='float64',ngram_range=(1,2)) #in scikit-learn bi-gram\n",
    "\n",
    "#Train you countvectorizer on the train data\n",
    "final_counts = count_vect.fit_transform(X_train.values.astype('U'))\n",
    "\n",
    "#Print the type,shape and unique words of the BoW vectorizer on the training set. \n",
    "print(\"the type of count vectorizer \",type(final_counts))\n",
    "print(\"the shape of out text BOW vectorizer \",final_counts.get_shape())\n",
    "print(\"the number of unique words \", final_counts.get_shape()[1])"
   ]
  },
  {
   "cell_type": "markdown",
   "metadata": {},
   "source": [
    "#### Use the BoW vectorizer trained in the preceding step to convert CVset and Testset to vectors."
   ]
  },
  {
   "cell_type": "code",
   "execution_count": 10,
   "metadata": {},
   "outputs": [
    {
     "name": "stdout",
     "output_type": "stream",
     "text": [
      "the type of count vectorizer  <class 'scipy.sparse.csr.csr_matrix'>\n",
      "the shape of out text BOW vectorizer  (20000, 901762)\n",
      "the number of unique words  901762\n",
      "the type of count vectorizer  <class 'scipy.sparse.csr.csr_matrix'>\n",
      "the shape of out text BOW vectorizer  (20000, 901762)\n",
      "the number of unique words  901762\n"
     ]
    }
   ],
   "source": [
    "#Use the same vectorizer trained on the training set, on the cv set.\n",
    "final_counts_cvset = count_vect.transform(X_cv.values)\n",
    "\n",
    "#Print the type,shape and unique words of the BoW vectorizer on the testset. \n",
    "print(\"the type of count vectorizer \",type(final_counts_cvset))\n",
    "print(\"the shape of out text BOW vectorizer \",final_counts_cvset.get_shape())\n",
    "print(\"the number of unique words \", final_counts_cvset.get_shape()[1])\n",
    "\n",
    "#Use the same vectorizer trained on the training set, on the test set.\n",
    "final_counts_testset = count_vect.transform(X_test.values)\n",
    "\n",
    "#Print the type,shape and unique words of the BoW vectorizer on the testset. \n",
    "print(\"the type of count vectorizer \",type(final_counts_testset))\n",
    "print(\"the shape of out text BOW vectorizer \",final_counts_testset.get_shape())\n",
    "print(\"the number of unique words \", final_counts_testset.get_shape()[1])"
   ]
  },
  {
   "cell_type": "markdown",
   "metadata": {},
   "source": [
    "#### Standardize Data"
   ]
  },
  {
   "cell_type": "code",
   "execution_count": 11,
   "metadata": {},
   "outputs": [],
   "source": [
    "# Data-preprocessing: Normalizing the data\n",
    "\n",
    "# Import the Normailizer module.\n",
    "from sklearn.preprocessing import Normalizer\n",
    "\n",
    "# Instantiate the Normailizer module.\n",
    "normalizer = Normalizer()\n",
    "\n",
    "#Standardize the normailizer on the train data.\n",
    "X_train_stdzd = normalizer.fit_transform(final_counts)\n",
    "\n",
    "#Standardize the normailizer on the cv data.\n",
    "X_cv_stdzd = normalizer.transform(final_counts_cvset)\n",
    "\n",
    "# use the same normalizer on the test set.\n",
    "X_test_stdzd  = normalizer.transform(final_counts_testset) "
   ]
  },
  {
   "cell_type": "markdown",
   "metadata": {},
   "source": [
    "#### Hyper-Parameter Tuning : Using the cross-validation dataset to calculate the optimal 'lambda' of LogisticRegression in BoW case."
   ]
  },
  {
   "cell_type": "code",
   "execution_count": 14,
   "metadata": {},
   "outputs": [
    {
     "name": "stdout",
     "output_type": "stream",
     "text": [
      "[6.907755278982137, 4.605170185988092, 2.302585092994046, 0.0, -2.3025850929940455, -4.605170185988091, -6.907755278982137, -9.210340371976182]\n",
      "[0.9605974136360876, 0.9617818889970788, 0.9661772904664561, 0.9748760114852519, 0.9687736433042162, 0.9473639885464039, 0.0, 0.82385]\n"
     ]
    },
    {
     "data": {
      "image/png": "[encoded data removed]",
      "text/plain": [
       "<matplotlib.figure.Figure at 0x21e04ee1b38>"
      ]
     },
     "metadata": {},
     "output_type": "display_data"
    },
    {
     "name": "stdout",
     "output_type": "stream",
     "text": [
      "Starttime is : 2018-11-28 08:37:10.674850\n",
      "Endtime   is : 2018-11-28 10:39:09.031481\n"
     ]
    }
   ],
   "source": [
    "# Import the LogisticRegression and precision modules.\n",
    "from sklearn.linear_model import LogisticRegression\n",
    "from sklearn.metrics import precision_score\n",
    "\n",
    "# Set the start time of the current cell run.\n",
    "starttime_lr_bow = datetime.datetime.now()\n",
    "\n",
    "# Set the range for the hyper-parameters.\n",
    "# We Know from theory:\n",
    "#          when lambda = 0, then model overfits\n",
    "#          when lambda tends to infinity , then model underfits\n",
    "\n",
    "# Experiment with different combination of C ranges.\n",
    "# Here C = Inverse(Lambda) where lambda is the hyper-parameter of the LR model\n",
    "#C = [100.0,10.0,1.0,0.1,0.01,0.001,0.0001,0.00001,0.000001]\n",
    "#C = [100000000,10000000,1000000,100000,10000,1000,100,10,1,0.1,0.01,0.001]\n",
    "#C = [10000000000,1000000000,100000000,10000000,1000000,1000,1.0,0.1,0.01,0.001,0.0001,0.00001]\n",
    "#C = [10000,1000,100,10,1,0.1,0.01,0.001,0.0001]\n",
    "#C = [1000,100,10,1,0.1,0.01,0.001,0.0001]\n",
    "C = [150,15,1.5,0.15,0.015,0.0015,0.00015]\n",
    "\n",
    "# Use the cross-validation dataset to determine the best hyper-parameter C.\n",
    "# Loop through various values of C.\n",
    "plot_X = []\n",
    "plot_Y = []\n",
    "for i in C:\n",
    "    # Iterate through various values of C = inverse(lambda),\n",
    "    lr_optimal = LogisticRegression(penalty='l1',            # use L1 regularizer.\n",
    "                                    C=(i),                   # use Inverse of Lambda.\n",
    "                                    class_weight='balanced', # uses the values of y to automatically \n",
    "                                                             # adjust weights in the input\n",
    "                                                             # data.\n",
    "                                    solver='saga')           # solver = 'saga' because of high dimension\n",
    "                                                             # and L1 regularizer.\n",
    "    \n",
    "    lr_optimal.fit(X_train_stdzd, Y_train)       # fitting the Logistic Regression model on the training\n",
    "                                                 # set.\n",
    "    Y_pred = lr_optimal.predict(X_cv_stdzd)      # predict the response from the Logistic Regression model\n",
    "                                                 # on the cv set.\n",
    "    plot_X.append(np.log(i))                     # plot log(InverseOfLambda) \"C\" in the x-axis.\n",
    "    plot_Y.append(precision_score(Y_cv,Y_pred))  # plot precision score in the y-axis.\n",
    "\n",
    "# print X,Y\n",
    "print(plot_X)\n",
    "print(plot_Y)\n",
    "\n",
    "# Plot X-axis = log(C),Y-axis = precision to determine the best hyper-parameter.\n",
    "plt.plot(plot_X,plot_Y)\n",
    "plt.title(\"Plot of CrossValidationPrecision vs log(Inverse of lambda) .\")  # Set the title of the plot.\n",
    "plt.xlabel(\"log(Inverse of lambda)\")                                       # Set the x label of the plot.\n",
    "plt.ylabel(\"CrossValidation Precision\")                                    # Set the y label of the plot.\n",
    "plt.show()                                                                 # render the plot.\n",
    "\n",
    "# Set the end time of the current cell run.\n",
    "endtime_lr_bow = datetime.datetime.now()\n",
    "\n",
    "# Print the cell run duration.\n",
    "print(\"Starttime is : {}\".format(starttime_lr_bow))\n",
    "print(\"Endtime   is : {}\".format(endtime_lr_bow))"
   ]
  },
  {
   "cell_type": "code",
   "execution_count": null,
   "metadata": {},
   "outputs": [],
   "source": [
    "# Lambda Range : [150,15,1.5,0.15,0.015,0.0015,0.00015]\n",
    "# [5.0106352940962555, 2.70805020110221, 0.4054651081081644, -1.8971199848858813, -4.199705077879927, -6.502290170873972, -8.804875263868018]\n",
    "# [0.9609213565090555, 0.9635144281055805, 0.9755623257924418, 0.9696825827455237, 0.9529798141621275, 0.9405089965958826, 0.82385]\n",
    "\n",
    "# Lambda Range : [10000,1000,100,10,1,0.1,0.01,0.001,0.0001]\n",
    "# [9.210340371976184, 6.907755278982137, 4.605170185988092, 2.302585092994046, 0.0, -2.3025850929940455, -4.605170185988091, -6.907755278982137, -9.210340371976182]\n",
    "# [0.9599830231007094, 0.9598422808613891, 0.9617070497990989, 0.9658696729435085, 0.9748760114852519, 0.9687736433042162, 0.9473639885464039, 0.0, 0.82385]\n",
    "\n",
    "# Lambda Range : [1000,100,10,1,0.1,0.01,0.001,0.0001]\n",
    "# [6.907755278982137, 4.605170185988092, 2.302585092994046, 0.0, -2.3025850929940455, -4.605170185988091, -6.907755278982137, -9.210340371976182]\n",
    "# [0.9605974136360876, 0.9617818889970788, 0.9661772904664561, 0.9748760114852519, 0.9687736433042162, 0.9473639885464039, 0.0, 0.82385]\n"
   ]
  },
  {
   "cell_type": "code",
   "execution_count": 16,
   "metadata": {},
   "outputs": [
    {
     "name": "stdout",
     "output_type": "stream",
     "text": [
      "1.499302500056767\n"
     ]
    }
   ],
   "source": [
    "print(np.exp(0.405))"
   ]
  },
  {
   "cell_type": "code",
   "execution_count": 12,
   "metadata": {},
   "outputs": [
    {
     "name": "stdout",
     "output_type": "stream",
     "text": [
      "Trainingset      X: (60000, 901762)\n",
      "CVset            X: (20000, 901762)\n",
      "Testset          X: (20000, 901762)\n",
      "Trainingset      Y: (60000,)\n",
      "CVset            Y: (20000,)\n",
      "Testset          Y: (20000,)\n"
     ]
    }
   ],
   "source": [
    "# Print the shape of the Input features X and class label Y for training and test set.\n",
    "print(\"Trainingset      X: {}\".format(X_train_stdzd.shape))\n",
    "#print(\"TrainingsetNoise X: {}\".format(X_train_stdzd_withNoise.shape))\n",
    "print(\"CVset            X: {}\".format(X_cv_stdzd.shape))\n",
    "print(\"Testset          X: {}\".format(X_test_stdzd.shape))\n",
    "\n",
    "print(\"Trainingset      Y: {}\".format(Y_train.shape))\n",
    "print(\"CVset            Y: {}\".format(Y_cv.shape))\n",
    "print(\"Testset          Y: {}\".format(Y_test.shape))"
   ]
  },
  {
   "cell_type": "markdown",
   "metadata": {},
   "source": [
    "#### Error plots for varying combination of lambda ranges."
   ]
  },
  {
   "cell_type": "markdown",
   "metadata": {},
   "source": [
    "#### Lambda range : 0 to 10000"
   ]
  },
  {
   "cell_type": "code",
   "execution_count": 2,
   "metadata": {},
   "outputs": [
    {
     "data": {
      "image/png": "[encoded data removed]",
      "text/plain": [
       "<IPython.core.display.Image object>"
      ]
     },
     "execution_count": 2,
     "metadata": {},
     "output_type": "execute_result"
    }
   ],
   "source": [
    "from IPython.display import Image \n",
    "Image(filename='D:\\Plot\\Plot_CVPrecision_vs_Lambda_0_10000_BoW_L1Reg.png')"
   ]
  },
  {
   "cell_type": "markdown",
   "metadata": {},
   "source": [
    "#### Observations :\n",
    "    We observe, the curve moving towards a uniform distribution @ lambda > 1.\n",
    "    Here lambda ranges from 0 to 10000."
   ]
  },
  {
   "cell_type": "code",
   "execution_count": null,
   "metadata": {},
   "outputs": [],
   "source": []
  },
  {
   "cell_type": "markdown",
   "metadata": {},
   "source": [
    "#### Lambda Range : 0 to 1000"
   ]
  },
  {
   "cell_type": "code",
   "execution_count": 3,
   "metadata": {},
   "outputs": [
    {
     "data": {
      "image/png": "[encoded data removed]",
      "text/plain": [
       "<IPython.core.display.Image object>"
      ]
     },
     "execution_count": 3,
     "metadata": {},
     "output_type": "execute_result"
    }
   ],
   "source": [
    "Image(filename='D:\\Plot\\Plot_CVPrecision_vs_Lambda_0_1000_BoW_L1Reg.png')"
   ]
  },
  {
   "cell_type": "markdown",
   "metadata": {},
   "source": [
    "#### Observations :\n",
    "    We observe, the curve moving uniformly when lambda > 1.\n",
    "    Here lambda ranges from 0 to 1000."
   ]
  },
  {
   "cell_type": "code",
   "execution_count": null,
   "metadata": {},
   "outputs": [],
   "source": []
  },
  {
   "cell_type": "markdown",
   "metadata": {},
   "source": [
    "#### Lambda range : 0.00015 to 150 "
   ]
  },
  {
   "cell_type": "code",
   "execution_count": 4,
   "metadata": {},
   "outputs": [
    {
     "data": {
      "image/png": "[encoded data removed]",
      "text/plain": [
       "<IPython.core.display.Image object>"
      ]
     },
     "execution_count": 4,
     "metadata": {},
     "output_type": "execute_result"
    }
   ],
   "source": [
    "Image(filename='D:\\Plot\\Plot_CVPrecision_vs_Lambda_0_150_BoW_L1Reg.png')"
   ]
  },
  {
   "cell_type": "markdown",
   "metadata": {},
   "source": [
    "#### Observations :\n",
    "    The cross-validation precision is maximum when log(lambda) ~= 0.405 .\n",
    "    Therefore lambda = exponential(log(lambda)) = np.exp(0.405) = 1.50\n",
    "    Here lambda ranges from 0.00015 to 150."
   ]
  },
  {
   "cell_type": "markdown",
   "metadata": {},
   "source": [
    "#### Hyper-parameter Choice : \n",
    "      Based on the CV plots for varying combination of lambda ranges, lambda = 1.5 when lambda range is between 0.00015 and 150 is the best choice."
   ]
  },
  {
   "cell_type": "code",
   "execution_count": null,
   "metadata": {},
   "outputs": [],
   "source": []
  },
  {
   "cell_type": "markdown",
   "metadata": {},
   "source": [
    "#### Train and Fit the Logistic Regression model in the training set. Compute the performance metrics by predicting the model on the test set."
   ]
  },
  {
   "cell_type": "code",
   "execution_count": 14,
   "metadata": {},
   "outputs": [
    {
     "name": "stdout",
     "output_type": "stream",
     "text": [
      "Starttime : 2018-11-30 15:46:57.285775\n",
      "Endtime   : 2018-11-30 15:48:44.617388\n"
     ]
    }
   ],
   "source": [
    "# ============================== LR with lambda = optimal lambda ===============================================\n",
    "# Import the LogisticRegression and precision modules.\n",
    "from sklearn.linear_model import LogisticRegression\n",
    "from sklearn.metrics import precision_score\n",
    "\n",
    "\n",
    "# Set the start time of the current cell run.\n",
    "starttime_lr_bow = datetime.datetime.now()\n",
    "\n",
    "# instantiate the Logistic Regression model with lambda = 1.50 based on the above error plots .\n",
    "lr_optimal = LogisticRegression(penalty='l1',            # use L1 regularizer.\n",
    "                                C=(1.50),                # use Inverse of Lambda.\n",
    "                                class_weight='balanced', # uses the values of y to automatically adjust \n",
    "                                                         # weights in the input \n",
    "                                                         # data, since we have class imbalance.\n",
    "                                solver='saga')           # solver = 'saga' because of high dimension and \n",
    "                                                         # L1 regularizer.\n",
    "\n",
    "lr_optimal.fit(X_train_stdzd, Y_train)           # fitting the Logistic Regression model.\n",
    "Y_pred_test = lr_optimal.predict(X_test_stdzd)   # predict,response from the Logistic Regression model.\n",
    "\n",
    "# Set the end time of the current cell run.\n",
    "endtime_lr_bow = datetime.datetime.now()\n",
    "\n",
    "# Print the cell run duration.\n",
    "print(\"Starttime : {}\".format(starttime_lr_bow))\n",
    "print(\"Endtime   : {}\".format(endtime_lr_bow))"
   ]
  },
  {
   "cell_type": "markdown",
   "metadata": {},
   "source": [
    "#### Plot the classifier performance metrics."
   ]
  },
  {
   "cell_type": "code",
   "execution_count": 15,
   "metadata": {},
   "outputs": [
    {
     "data": {
      "image/png": "[encoded data removed]",
      "text/plain": [
       "<matplotlib.figure.Figure at 0x2168cdcf208>"
      ]
     },
     "metadata": {},
     "output_type": "display_data"
    }
   ],
   "source": [
    "# evaluate the model and report the metrics.\n",
    "from sklearn.metrics import confusion_matrix\n",
    "conf_mat = confusion_matrix(Y_test, Y_pred_test)\n",
    "fig, ax = plt.subplots(figsize=(5,5))\n",
    "sns.heatmap(conf_mat, annot=True, fmt='d'\n",
    "            ,xticklabels=['negative','positive'], yticklabels=['negative','positive'])\n",
    "plt.title('Confusion Matrix : (Vectorizer = BoW)')\n",
    "plt.ylabel('Actual')\n",
    "plt.xlabel('Predicted')\n",
    "plt.show()"
   ]
  },
  {
   "cell_type": "code",
   "execution_count": 16,
   "metadata": {},
   "outputs": [
    {
     "name": "stdout",
     "output_type": "stream",
     "text": [
      "1    16442\n",
      "0     3558\n",
      "Name: Comment, dtype: int64\n"
     ]
    }
   ],
   "source": [
    "#Class composition in the testset.\n",
    "dfYTest = pd.DataFrame(list(Y_test),columns=['Comment'])\n",
    "#print(list(Y_test))\n",
    "print(dfYTest[\"Comment\"].value_counts())"
   ]
  },
  {
   "cell_type": "code",
   "execution_count": 17,
   "metadata": {
    "scrolled": true
   },
   "outputs": [
    {
     "name": "stdout",
     "output_type": "stream",
     "text": [
      "Performance Metrics :\n",
      "+------------------------+--------------------+--------------------+\n",
      "| Text-VectorizationType | Performance Metric | Value              |\n",
      "+------------------------+--------------------+--------------------+\n",
      "|          BoW           |      Accuracy      | 0.91375            |\n",
      "|           -            |     Precision      | 0.9758163595215001 |\n",
      "|           -            |       Recall       | 0.9178323804889916 |\n",
      "|           -            |      F1 Score      | 0.9459366283260727 |\n",
      "|           -            |  ConfusionMatrix   | [[ 3184   374]     |\n",
      "|                        |                    |  [ 1351 15091]]    |\n",
      "|       ----------       |    -----------     | ----------         |\n",
      "+------------------------+--------------------+--------------------+\n"
     ]
    }
   ],
   "source": [
    "# Load the classification metrics\n",
    "from sklearn.metrics import accuracy_score\n",
    "from sklearn.metrics import precision_score\n",
    "from sklearn.metrics import recall_score\n",
    "from sklearn.metrics import f1_score\n",
    "# Load the prettytable\n",
    "from prettytable import PrettyTable\n",
    "\n",
    "# Instantiate the prettytable module.\n",
    "x = PrettyTable()\n",
    "# Set the column names for the table.\n",
    "x.field_names = [\"Text-VectorizationType\",\"Performance Metric\", \"Value\"]\n",
    "\n",
    "# Add the classification metrics to the table.\n",
    "x.add_row(['BoW','Accuracy',accuracy_score(Y_test,Y_pred_test)])\n",
    "x.add_row(['-','Precision',precision_score(Y_test,Y_pred_test)])\n",
    "x.add_row(['-','Recall',recall_score(Y_test,Y_pred_test)])\n",
    "x.add_row(['-','F1 Score',f1_score(Y_test,Y_pred_test)])\n",
    "x.add_row(['-','ConfusionMatrix',confusion_matrix(Y_test, Y_pred_test)])\n",
    "x.add_row(['----------','-----------','----------'])\n",
    "\n",
    "# Add the classification metrics to the final summary table.\n",
    "summaryTable.add_row(['BoW','1.50','Accuracy',accuracy_score(Y_test,Y_pred_test)])\n",
    "summaryTable.add_row(['-','1.50','Precision',precision_score(Y_test,Y_pred_test)])\n",
    "summaryTable.add_row(['-','1.50','Recall',recall_score(Y_test,Y_pred_test)])\n",
    "summaryTable.add_row(['-','1.50','F1 Score',f1_score(Y_test,Y_pred_test)])\n",
    "summaryTable.add_row(['-','1.50','ConfusionMatrix',confusion_matrix(Y_test, Y_pred_test)])\n",
    "summaryTable.add_row(['----------','-----------','----------','----------'])\n",
    "\n",
    "\n",
    "# Apply data alignment.\n",
    "x.align[\"Value\"] = \"l\"\n",
    "\n",
    "# Print the table.\n",
    "print(\"Performance Metrics :\")\n",
    "print(x)"
   ]
  },
  {
   "cell_type": "markdown",
   "metadata": {},
   "source": [
    "#### Report performance and sparsity by varying the value of lambda."
   ]
  },
  {
   "cell_type": "markdown",
   "metadata": {},
   "source": [
    "####  When lambda = 1.5, get the performance score and sparsity."
   ]
  },
  {
   "cell_type": "code",
   "execution_count": 18,
   "metadata": {},
   "outputs": [],
   "source": [
    "# Get sparsity when lambda = 1.5\n",
    "score = precision_score(Y_test,Y_pred_test)   # Get precision score from the fitted model.\n",
    "w = lr_optimal.coef_                          # Get weights from the fitted model.\n",
    "wtBoW = w                                     # Get weights from the fitted model.\n",
    "sparsity = np.count_nonzero(w)                # Get sparsity from the fitted model.\n",
    "sparseFeatures = np.nonzero(w)[1]             # Get sparse features from the fitted model.\n",
    "\n",
    "# Add the performance score and sparsity by varying lambda to the variations table.\n",
    "lambdaVariationsTable.add_row(['1.','01.50','Precision',score,sparsity])"
   ]
  },
  {
   "cell_type": "markdown",
   "metadata": {},
   "source": [
    "####  When lambda = 15, get the performance score and sparsity."
   ]
  },
  {
   "cell_type": "code",
   "execution_count": 19,
   "metadata": {},
   "outputs": [],
   "source": [
    "# ============================== LR with lambda = optimal lambda ===============================================\n",
    "\n",
    "# instantiate the Logistic Regression model with lambda = 15.0 .\n",
    "lr_optimal = LogisticRegression(penalty='l1',            # use L1 regularizer.\n",
    "                                C=(15.0),                # use Inverse of Lambda.\n",
    "                                class_weight='balanced', # uses the values of y to automatically adjust \n",
    "                                                         # weights in the input \n",
    "                                                         # data, since we have class imbalance.\n",
    "                                solver='saga')           # solver = 'saga' because of high dimension and\n",
    "                                                         # L1 regularizer.\n",
    "\n",
    "lr_optimal.fit(X_train_stdzd, Y_train)           # fitting the Logistic Regression model.\n",
    "Y_pred_test = lr_optimal.predict(X_test_stdzd)   # predict the response from the Logistic Regression \n",
    "                                                 # model.\n",
    "\n",
    "# Get sparsity when lambda = 15.0\n",
    "score = precision_score(Y_test,Y_pred_test)   # Get precision score from the fitted model.\n",
    "w = lr_optimal.coef_                          # Get weights from the fitted model.\n",
    "sparsity = np.count_nonzero(w)                # Get sparsity from the fitted model.\n",
    "\n",
    "# Add the performance score and sparsity by varying lambda to the variations table.\n",
    "lambdaVariationsTable.add_row(['2.','15.0','Precision',score,sparsity])\n"
   ]
  },
  {
   "cell_type": "markdown",
   "metadata": {},
   "source": [
    "####  When lambda = 30, get the performance score and sparsity."
   ]
  },
  {
   "cell_type": "code",
   "execution_count": 20,
   "metadata": {},
   "outputs": [],
   "source": [
    "# ============================== LR with lambda = optimal lambda ===============================================\n",
    "\n",
    "# instantiate the Logistic Regression model with lambda = 30.0 .\n",
    "lr_optimal = LogisticRegression(penalty='l1',            # use L1 regularizer.\n",
    "                                C=(30.0),                # use Inverse of Lambda.\n",
    "                                class_weight='balanced', # uses the values of y to automatically adjust \n",
    "                                                         # weights in the input \n",
    "                                                         # data, since we have class imbalance.\n",
    "                                solver='saga')           # solver = 'saga' because of high dimension and \n",
    "                                                         # L1 regularizer.\n",
    "\n",
    "lr_optimal.fit(X_train_stdzd, Y_train)           # fitting the Logistic Regression model.\n",
    "Y_pred_test = lr_optimal.predict(X_test_stdzd)   # predict the response from the Logistic Regression \n",
    "                                                 # model.\n",
    "\n",
    "# Get sparsity when lambda = 30.0\n",
    "score = precision_score(Y_test,Y_pred_test)   # Get precision score from the fitted model.\n",
    "w = lr_optimal.coef_                          # Get weights from the fitted model.\n",
    "sparsity = np.count_nonzero(w)                # Get sparsity from the fitted model.\n",
    "\n",
    "# Add the performance score and sparsity by varying lambda to the variations table.\n",
    "lambdaVariationsTable.add_row(['3.','30.0','Precision',score,sparsity])\n"
   ]
  },
  {
   "cell_type": "markdown",
   "metadata": {},
   "source": [
    "####  When lambda = 45, get the performance score and sparsity."
   ]
  },
  {
   "cell_type": "code",
   "execution_count": 21,
   "metadata": {},
   "outputs": [],
   "source": [
    "# ============================== LR with lambda = optimal lambda ===============================================\n",
    "\n",
    "# instantiate the Logistic Regression model with lambda = 45.0 .\n",
    "lr_optimal = LogisticRegression(penalty='l1',            # use L1 regularizer.\n",
    "                                C=(45.0),                # use Inverse of Lambda.\n",
    "                                class_weight='balanced', # uses the values of y to automatically adjust \n",
    "                                                         # weights in the input \n",
    "                                                         # data, since we have class imbalance.\n",
    "                                solver='saga')           # solver = 'saga' because of high dimension and \n",
    "                                                         # L1 regularizer.\n",
    "\n",
    "lr_optimal.fit(X_train_stdzd, Y_train)           # fitting the Logistic Regression model.\n",
    "Y_pred_test = lr_optimal.predict(X_test_stdzd)   # predict the response from the Logistic Regression \n",
    "                                                 # model.\n",
    "\n",
    "# Get sparsity when lambda = 45.0\n",
    "score = precision_score(Y_test,Y_pred_test)   # Get precision score from the fitted model.\n",
    "w = lr_optimal.coef_                          # Get weights from the fitted model.\n",
    "sparsity = np.count_nonzero(w)                # Get sparsity from the fitted model.\n",
    "\n",
    "# Add the performance score and sparsity by varying lambda to the variations table.\n",
    "lambdaVariationsTable.add_row(['4.','45.0','Precision',score,sparsity])\n"
   ]
  },
  {
   "cell_type": "markdown",
   "metadata": {},
   "source": [
    "####  When lambda = 90, get the performance score and sparsity."
   ]
  },
  {
   "cell_type": "code",
   "execution_count": 22,
   "metadata": {},
   "outputs": [],
   "source": [
    "# ============================== LR with lambda = optimal lambda ===============================================\n",
    "\n",
    "# instantiate the Logistic Regression model with lambda = 90.0 .\n",
    "lr_optimal = LogisticRegression(penalty='l1',            # use L1 regularizer.\n",
    "                                C=(90.0),                # use Inverse of Lambda.\n",
    "                                class_weight='balanced', # uses the values of y to automatically adjust \n",
    "                                                         # weights in the input \n",
    "                                                         # data, since we have class imbalance.\n",
    "                                solver='saga')           # solver = 'saga' because of high dimension and\n",
    "                                                         # L1 regularizer.\n",
    "\n",
    "lr_optimal.fit(X_train_stdzd, Y_train)           # fitting the Logistic Regression model.\n",
    "Y_pred_test = lr_optimal.predict(X_test_stdzd)   # predict the response from the Logistic Regression \n",
    "                                                 # model.\n",
    "\n",
    "# Get sparsity when lambda = 90.0\n",
    "score = precision_score(Y_test,Y_pred_test)   # Get precision score from the fitted model.\n",
    "w = lr_optimal.coef_                          # Get weights from the fitted model.\n",
    "sparsity = np.count_nonzero(w)                # Get sparsity from the fitted model.\n",
    "\n",
    "# Add the performance score and sparsity by varying lambda to the variations table.\n",
    "lambdaVariationsTable.add_row(['5.','90.0','Precision',score,sparsity])\n"
   ]
  },
  {
   "cell_type": "markdown",
   "metadata": {},
   "source": [
    "####  When lambda = 150, get the performance score and sparsity."
   ]
  },
  {
   "cell_type": "code",
   "execution_count": 23,
   "metadata": {},
   "outputs": [],
   "source": [
    "# ============================== LR with lambda = optimal lambda ===============================================\n",
    "\n",
    "# instantiate the Logistic Regression model with lambda = 150.0 .\n",
    "lr_optimal = LogisticRegression(penalty='l1',             # use L1 regularizer.\n",
    "                                C=(150.0),                # use Inverse of Lambda.\n",
    "                                class_weight='balanced',  # uses the values of y to automatically adjust\n",
    "                                                          # weights in the input \n",
    "                                                          # data, since we have class imbalance.\n",
    "                                solver='saga')            # solver = 'saga' because of high dimension and\n",
    "                                                          # L1 regularizer.\n",
    "\n",
    "lr_optimal.fit(X_train_stdzd, Y_train)           # fitting the Logistic Regression model.\n",
    "Y_pred_test = lr_optimal.predict(X_test_stdzd)   # predict the response from the Logistic Regression\n",
    "                                                 # model.\n",
    "\n",
    "# Get sparsity when lambda = 150.0\n",
    "score = precision_score(Y_test,Y_pred_test)   # Get precision score from the fitted model.\n",
    "w = lr_optimal.coef_                          # Get weights from the fitted model.\n",
    "sparsity = np.count_nonzero(w)                # Get sparsity from the fitted model.\n",
    "\n",
    "# Add the performance score and sparsity by varying lambda to the variations table.\n",
    "lambdaVariationsTable.add_row(['6.','150.0','Precision',score,sparsity])\n"
   ]
  },
  {
   "cell_type": "markdown",
   "metadata": {},
   "source": [
    "#### Report model performance and sparsity for varying values of lambda."
   ]
  },
  {
   "cell_type": "code",
   "execution_count": 24,
   "metadata": {},
   "outputs": [
    {
     "name": "stdout",
     "output_type": "stream",
     "text": [
      "Report scores and sparsity, while varying lambda :\n",
      "+--------+------------------------+--------------------+--------------------+----------+\n",
      "| RowNum | Hyper-Paramter(lambda) | Performance Metric | Value              | Sparsity |\n",
      "+--------+------------------------+--------------------+--------------------+----------+\n",
      "|   1.   |         01.50          |     Precision      | 0.9758163595215001 |     1810 |\n",
      "|   2.   |          15.0          |     Precision      | 0.9644977733795151 |    21166 |\n",
      "|   3.   |          30.0          |     Precision      | 0.9621495613766027 |    44423 |\n",
      "|   4.   |          45.0          |     Precision      | 0.9614796698257414 |    66488 |\n",
      "|   5.   |          90.0          |     Precision      | 0.9607436757086254 |   125614 |\n",
      "|   6.   |         150.0          |     Precision      | 0.9605527485237718 |   180317 |\n",
      "+--------+------------------------+--------------------+--------------------+----------+\n"
     ]
    }
   ],
   "source": [
    "# Apply data alignment.\n",
    "lambdaVariationsTable.align[\"Value\"] = \"l\"\n",
    "lambdaVariationsTable.align[\"Sparsity\"] = \"r\"\n",
    "\n",
    "# Print the table.\n",
    "print(\"Report scores and sparsity, while varying lambda :\")\n",
    "print(lambdaVariationsTable)"
   ]
  },
  {
   "cell_type": "markdown",
   "metadata": {},
   "source": [
    "#### We observe from the above table, that, as Lambda increases,\n",
    "    ==> performance decreases \n",
    "    ==> sparsity increases"
   ]
  },
  {
   "cell_type": "code",
   "execution_count": null,
   "metadata": {},
   "outputs": [],
   "source": []
  },
  {
   "cell_type": "markdown",
   "metadata": {},
   "source": [
    "#### Feature Importance : Logic for Class based feature importance.\n",
    "####            Look at the original weights, a negative coefficient means that higher value of the corresponding feature pushes the classification more towards the negative class and vice-versa."
   ]
  },
  {
   "cell_type": "code",
   "execution_count": null,
   "metadata": {},
   "outputs": [],
   "source": []
  },
  {
   "cell_type": "markdown",
   "metadata": {},
   "source": [
    "#### Use the sparse vector to get the (weights, feature) combo and load them into a dataframe."
   ]
  },
  {
   "cell_type": "code",
   "execution_count": 25,
   "metadata": {},
   "outputs": [
    {
     "name": "stdout",
     "output_type": "stream",
     "text": [
      "        ColumnIndex     Weight             Word\n",
      "9295          47909  32.530872           awesom\n",
      "74387        376055  31.690837   high recommend\n",
      "52692        267021  26.669181            excel\n",
      "176839       884543  26.436914  wont disappoint\n",
      "115220       576670  23.605274          perfect\n",
      "40745        206555  23.538249           delici\n",
      "180075       899804  23.238556            yummi\n",
      "55092        279633  22.944970          fantast\n",
      "180060       899481  22.345088              yum\n",
      "54321        275017  21.772284            fabul\n"
     ]
    }
   ],
   "source": [
    "# get the weights W for the dataset X_test_stdzd.\n",
    "wtBoW = lr_optimal.coef_\n",
    "\n",
    "# nested tuple to store the indices where weights qualify a threshold.\n",
    "tupIndicesNonZero = np.nonzero(wtBoW)\n",
    "\n",
    "# get the indices of the words that qualify the weight criteria.\n",
    "indices_nonzero = tupIndicesNonZero[1][:]\n",
    "\n",
    "# print the weights of words that qualify the weight criteria.\n",
    "weightVector = wtBoW[tupIndicesNonZero]\n",
    "\n",
    "# print the features that meet the criteria.\n",
    "wordVector = np.take(count_vect.get_feature_names(), indices_nonzero)\n",
    "\n",
    "# Prepare the data from the columnIndex,weightvector and wordvector.\n",
    "lstData = list(zip(indices_nonzero,weightVector,wordVector))\n",
    "\n",
    "# create a dataframe to store the columnindex,weights,words of the text corpus.\n",
    "dfTopWords = pd.DataFrame(data=lstData,columns=['ColumnIndex','Weight','Word'])\n",
    "\n",
    "# Print the top 10 rows from the resultant dataframe.\n",
    "print(dfTopWords.sort_values(['Weight'],ascending=False).head(10))\n"
   ]
  },
  {
   "cell_type": "code",
   "execution_count": null,
   "metadata": {},
   "outputs": [],
   "source": []
  },
  {
   "cell_type": "markdown",
   "metadata": {},
   "source": [
    "#### Positive Class :"
   ]
  },
  {
   "cell_type": "code",
   "execution_count": 26,
   "metadata": {},
   "outputs": [
    {
     "data": {
      "text/html": [
       "<div>\n",
       "<style scoped>\n",
       "    .dataframe tbody tr th:only-of-type {\n",
       "        vertical-align: middle;\n",
       "    }\n",
       "\n",
       "    .dataframe tbody tr th {\n",
       "        vertical-align: top;\n",
       "    }\n",
       "\n",
       "    .dataframe thead th {\n",
       "        text-align: right;\n",
       "    }\n",
       "</style>\n",
       "<table border=\"1\" class=\"dataframe\">\n",
       "  <thead>\n",
       "    <tr style=\"text-align: right;\">\n",
       "      <th></th>\n",
       "      <th>ColumnIndex</th>\n",
       "      <th>Word</th>\n",
       "      <th>Weight</th>\n",
       "    </tr>\n",
       "  </thead>\n",
       "  <tbody>\n",
       "    <tr>\n",
       "      <th>9295</th>\n",
       "      <td>47909</td>\n",
       "      <td>awesom</td>\n",
       "      <td>32.530872</td>\n",
       "    </tr>\n",
       "    <tr>\n",
       "      <th>74387</th>\n",
       "      <td>376055</td>\n",
       "      <td>high recommend</td>\n",
       "      <td>31.690837</td>\n",
       "    </tr>\n",
       "    <tr>\n",
       "      <th>52692</th>\n",
       "      <td>267021</td>\n",
       "      <td>excel</td>\n",
       "      <td>26.669181</td>\n",
       "    </tr>\n",
       "    <tr>\n",
       "      <th>176839</th>\n",
       "      <td>884543</td>\n",
       "      <td>wont disappoint</td>\n",
       "      <td>26.436914</td>\n",
       "    </tr>\n",
       "    <tr>\n",
       "      <th>115220</th>\n",
       "      <td>576670</td>\n",
       "      <td>perfect</td>\n",
       "      <td>23.605274</td>\n",
       "    </tr>\n",
       "    <tr>\n",
       "      <th>40745</th>\n",
       "      <td>206555</td>\n",
       "      <td>delici</td>\n",
       "      <td>23.538249</td>\n",
       "    </tr>\n",
       "    <tr>\n",
       "      <th>180075</th>\n",
       "      <td>899804</td>\n",
       "      <td>yummi</td>\n",
       "      <td>23.238556</td>\n",
       "    </tr>\n",
       "    <tr>\n",
       "      <th>55092</th>\n",
       "      <td>279633</td>\n",
       "      <td>fantast</td>\n",
       "      <td>22.944970</td>\n",
       "    </tr>\n",
       "    <tr>\n",
       "      <th>180060</th>\n",
       "      <td>899481</td>\n",
       "      <td>yum</td>\n",
       "      <td>22.345088</td>\n",
       "    </tr>\n",
       "    <tr>\n",
       "      <th>54321</th>\n",
       "      <td>275017</td>\n",
       "      <td>fabul</td>\n",
       "      <td>21.772284</td>\n",
       "    </tr>\n",
       "  </tbody>\n",
       "</table>\n",
       "</div>"
      ],
      "text/plain": [
       "        ColumnIndex             Word     Weight\n",
       "9295          47909           awesom  32.530872\n",
       "74387        376055   high recommend  31.690837\n",
       "52692        267021            excel  26.669181\n",
       "176839       884543  wont disappoint  26.436914\n",
       "115220       576670          perfect  23.605274\n",
       "40745        206555           delici  23.538249\n",
       "180075       899804            yummi  23.238556\n",
       "55092        279633          fantast  22.944970\n",
       "180060       899481              yum  22.345088\n",
       "54321        275017            fabul  21.772284"
      ]
     },
     "execution_count": 26,
     "metadata": {},
     "output_type": "execute_result"
    }
   ],
   "source": [
    "# Get the features with their weights.\n",
    "# Currently returns the top 10 features.\n",
    "\n",
    "# For Positive Class : Get the features with their weights.\n",
    "dfTopWords[['ColumnIndex','Word','Weight'\n",
    "          ]][(dfTopWords['Weight'] > 0.00)].sort_values(['Weight'],ascending=False).head(10)\n"
   ]
  },
  {
   "cell_type": "markdown",
   "metadata": {},
   "source": [
    "#### Negative Class :"
   ]
  },
  {
   "cell_type": "code",
   "execution_count": 27,
   "metadata": {},
   "outputs": [
    {
     "data": {
      "text/html": [
       "<div>\n",
       "<style scoped>\n",
       "    .dataframe tbody tr th:only-of-type {\n",
       "        vertical-align: middle;\n",
       "    }\n",
       "\n",
       "    .dataframe tbody tr th {\n",
       "        vertical-align: top;\n",
       "    }\n",
       "\n",
       "    .dataframe thead th {\n",
       "        text-align: right;\n",
       "    }\n",
       "</style>\n",
       "<table border=\"1\" class=\"dataframe\">\n",
       "  <thead>\n",
       "    <tr style=\"text-align: right;\">\n",
       "      <th></th>\n",
       "      <th>ColumnIndex</th>\n",
       "      <th>Word</th>\n",
       "      <th>Weight</th>\n",
       "    </tr>\n",
       "  </thead>\n",
       "  <tbody>\n",
       "    <tr>\n",
       "      <th>21717</th>\n",
       "      <td>109384</td>\n",
       "      <td>buy surpris</td>\n",
       "      <td>-1.047886e-08</td>\n",
       "    </tr>\n",
       "    <tr>\n",
       "      <th>131671</th>\n",
       "      <td>658461</td>\n",
       "      <td>review realli</td>\n",
       "      <td>-5.425703e-08</td>\n",
       "    </tr>\n",
       "    <tr>\n",
       "      <th>163243</th>\n",
       "      <td>817842</td>\n",
       "      <td>top two</td>\n",
       "      <td>-7.571426e-08</td>\n",
       "    </tr>\n",
       "    <tr>\n",
       "      <th>57882</th>\n",
       "      <td>294645</td>\n",
       "      <td>finish salt</td>\n",
       "      <td>-1.128129e-07</td>\n",
       "    </tr>\n",
       "    <tr>\n",
       "      <th>59480</th>\n",
       "      <td>301134</td>\n",
       "      <td>flavor two</td>\n",
       "      <td>-1.130696e-07</td>\n",
       "    </tr>\n",
       "    <tr>\n",
       "      <th>88511</th>\n",
       "      <td>447557</td>\n",
       "      <td>like pictur</td>\n",
       "      <td>-1.956571e-07</td>\n",
       "    </tr>\n",
       "    <tr>\n",
       "      <th>69541</th>\n",
       "      <td>350497</td>\n",
       "      <td>great salad</td>\n",
       "      <td>-2.150504e-07</td>\n",
       "    </tr>\n",
       "    <tr>\n",
       "      <th>156953</th>\n",
       "      <td>788068</td>\n",
       "      <td>tea absolut</td>\n",
       "      <td>-2.321840e-07</td>\n",
       "    </tr>\n",
       "    <tr>\n",
       "      <th>57319</th>\n",
       "      <td>292094</td>\n",
       "      <td>find good</td>\n",
       "      <td>-2.848419e-07</td>\n",
       "    </tr>\n",
       "    <tr>\n",
       "      <th>19681</th>\n",
       "      <td>99547</td>\n",
       "      <td>brink</td>\n",
       "      <td>-3.688939e-07</td>\n",
       "    </tr>\n",
       "  </tbody>\n",
       "</table>\n",
       "</div>"
      ],
      "text/plain": [
       "        ColumnIndex           Word        Weight\n",
       "21717        109384    buy surpris -1.047886e-08\n",
       "131671       658461  review realli -5.425703e-08\n",
       "163243       817842        top two -7.571426e-08\n",
       "57882        294645    finish salt -1.128129e-07\n",
       "59480        301134     flavor two -1.130696e-07\n",
       "88511        447557    like pictur -1.956571e-07\n",
       "69541        350497    great salad -2.150504e-07\n",
       "156953       788068    tea absolut -2.321840e-07\n",
       "57319        292094      find good -2.848419e-07\n",
       "19681         99547          brink -3.688939e-07"
      ]
     },
     "execution_count": 27,
     "metadata": {},
     "output_type": "execute_result"
    }
   ],
   "source": [
    "# Get the features with their weights, excluding features that were found to be Multicollinear.\n",
    "# Currently returns the top 10 features.\n",
    "\n",
    "# For Negative Class : Get the features with their weights, excluding features that were found \n",
    "# to be Multicollinear.\n",
    "dfTopWords[['ColumnIndex','Word','Weight'\n",
    "          ]][(dfTopWords['Weight'] < 0.00)].sort_values(['Weight'],ascending=False).head(10)\n"
   ]
  },
  {
   "cell_type": "code",
   "execution_count": null,
   "metadata": {},
   "outputs": [],
   "source": []
  },
  {
   "cell_type": "markdown",
   "metadata": {},
   "source": [
    "#### CONCLUSION :\n",
    "\n",
    "#### Performance Metrics "
   ]
  },
  {
   "cell_type": "code",
   "execution_count": 5,
   "metadata": {},
   "outputs": [
    {
     "data": {
      "image/png": "[encoded data removed]",
      "text/plain": [
       "<IPython.core.display.Image object>"
      ]
     },
     "execution_count": 5,
     "metadata": {},
     "output_type": "execute_result"
    }
   ],
   "source": [
    "Image(filename='D:\\Plot\\ConfusionMatrix_L1Regularizer_BoW.PNG')"
   ]
  },
  {
   "cell_type": "markdown",
   "metadata": {},
   "source": [
    "#### We see good precision score for the LR model with L1 Regularizer. The FalsePositive values is acceptable while FalseNegative is a concern. The text review comment has been enriched by adding contents of summary column from the Amazon Food Reviews dataset."
   ]
  },
  {
   "cell_type": "code",
   "execution_count": null,
   "metadata": {},
   "outputs": [],
   "source": []
  },
  {
   "cell_type": "markdown",
   "metadata": {},
   "source": [
    "### Vectorization Method : TermFrequency-InverseDocumentFrequency (TF_IDF)\n",
    "\n",
    "#### Convert review text into numeric vectors using TF_IDF"
   ]
  },
  {
   "cell_type": "code",
   "execution_count": 28,
   "metadata": {},
   "outputs": [],
   "source": [
    "#TF-IDF\n",
    "# Apply TF-IDF vectorization only on the trainingset.\n",
    "tf_idf_vect = TfidfVectorizer(dtype='float64',ngram_range=(1,2))"
   ]
  },
  {
   "cell_type": "code",
   "execution_count": 29,
   "metadata": {},
   "outputs": [
    {
     "name": "stdout",
     "output_type": "stream",
     "text": [
      "the type of TIDF vectorizer  <class 'scipy.sparse.csr.csr_matrix'>\n",
      "the shape of out text TFIDF vectorizer  (60000, 901762)\n",
      "the number of unique words including both unigrams and bigrams  901762\n"
     ]
    }
   ],
   "source": [
    "#Train you tf-idf vectorizer on the train data (.fit_transform()) and \n",
    "#use the same vectorizer on the test set as well (.transform())\n",
    "final_tf_idf = tf_idf_vect.fit_transform(X_train.values.astype('U'))\n",
    "\n",
    "print(\"the type of TIDF vectorizer \",type(final_tf_idf))\n",
    "print(\"the shape of out text TFIDF vectorizer \",final_tf_idf.get_shape())\n",
    "print(\"the number of unique words including both unigrams and bigrams \", final_tf_idf.get_shape()[1])"
   ]
  },
  {
   "cell_type": "markdown",
   "metadata": {},
   "source": [
    "#### Use the TF-IDF vectorizer trained in the preceding step to convert cvset and testset to vectors."
   ]
  },
  {
   "cell_type": "code",
   "execution_count": 30,
   "metadata": {},
   "outputs": [
    {
     "name": "stdout",
     "output_type": "stream",
     "text": [
      "the type of TFIDF vectorizer  <class 'scipy.sparse.csr.csr_matrix'>\n",
      "the shape of out text TFIDF vectorizer  (20000, 901762)\n",
      "the number of unique words  901762\n",
      "the type of TFIDF vectorizer  <class 'scipy.sparse.csr.csr_matrix'>\n",
      "the shape of out text TFIDF vectorizer  (20000, 901762)\n",
      "the number of unique words  901762\n"
     ]
    }
   ],
   "source": [
    "#use the same countvectorizer on the cvset and testset.\n",
    "final_tf_idf_cvset = tf_idf_vect.transform(X_cv.values)\n",
    "print(\"the type of TFIDF vectorizer \",type(final_tf_idf_cvset))\n",
    "print(\"the shape of out text TFIDF vectorizer \",final_tf_idf_cvset.get_shape())\n",
    "print(\"the number of unique words \", final_tf_idf_cvset.get_shape()[1])\n",
    "\n",
    "#use the same countvectorizer on the testset.\n",
    "final_tf_idf_testset = tf_idf_vect.transform(X_test.values)\n",
    "print(\"the type of TFIDF vectorizer \",type(final_tf_idf_testset))\n",
    "print(\"the shape of out text TFIDF vectorizer \",final_tf_idf_testset.get_shape())\n",
    "print(\"the number of unique words \", final_tf_idf_testset.get_shape()[1])"
   ]
  },
  {
   "cell_type": "markdown",
   "metadata": {},
   "source": [
    "#### Standardize / Normalize the data"
   ]
  },
  {
   "cell_type": "code",
   "execution_count": 31,
   "metadata": {},
   "outputs": [],
   "source": [
    "# Data-preprocessing: Normalizing the data\n",
    "from sklearn.preprocessing import Normalizer\n",
    "\n",
    "normalizer = Normalizer()\n",
    "\n",
    "#Standardize on the train data. \n",
    "X_train_stdzd = normalizer.fit_transform(final_tf_idf)\n",
    "\n",
    "#Standardize on the cv and test data.\n",
    "X_cv_stdzd    = normalizer.transform(final_tf_idf_cvset)     #use the same Normalizer on the cvset.\n",
    "X_test_stdzd  = normalizer.transform(final_tf_idf_testset)   #use the same Normalizer on the testset."
   ]
  },
  {
   "cell_type": "markdown",
   "metadata": {},
   "source": [
    "#### Hyper-Parameter Tuning : Using the cross-validation dataset to calculate the optimal 'lambda' of LogisticRegression in TF-IDF case."
   ]
  },
  {
   "cell_type": "code",
   "execution_count": 15,
   "metadata": {},
   "outputs": [
    {
     "name": "stdout",
     "output_type": "stream",
     "text": [
      "[5.0106352940962555, 2.70805020110221, 0.4054651081081644, -1.8971199848858813, -4.199705077879927, -6.502290170873972]\n",
      "[0.9601475568456701, 0.963815588073226, 0.9751821053310127, 0.9684353741496599, 0.9445610353270374, 0.82385]\n"
     ]
    },
    {
     "data": {
      "image/png": "[encoded data removed]",
      "text/plain": [
       "<matplotlib.figure.Figure at 0x1e5f047a470>"
      ]
     },
     "metadata": {},
     "output_type": "display_data"
    },
    {
     "name": "stdout",
     "output_type": "stream",
     "text": [
      "Starttime is : 2018-11-29 22:15:36.459143\n",
      "Endtime   is : 2018-11-30 09:36:36.763989\n"
     ]
    }
   ],
   "source": [
    "# Import the LogisticRegression and precision modules.\n",
    "from sklearn.linear_model import LogisticRegression\n",
    "from sklearn.metrics import precision_score\n",
    "\n",
    "# Set the start time of the current cell run.\n",
    "starttime_lr_tfidf = datetime.datetime.now()\n",
    "\n",
    "# Set the range for the hyper-parameters.\n",
    "# We Know from theory:\n",
    "#          when lambda = 0, then model overfits\n",
    "#          when lambda tends to infinity , then model underfits\n",
    "\n",
    "# Experiment with different combination of C ranges.\n",
    "# Here C = Inverse(Lambda) where lambda is the hyper-parameter of the LR model\n",
    "#C = [100.0,10.0,1.0,0.1,0.01,0.001,0.0001,0.00001,0.000001]\n",
    "#C = [10000,1000,100,10,1,0.1,0.01,0.001]\n",
    "#C = [1000,100,10,1,0.1,0.01,0.001,0.0001]\n",
    "C = [150,15,1.5,0.15,0.015,0.0015]\n",
    "\n",
    "# Use the cross-validation dataset to determine the best hyper-parameter C.\n",
    "# Loop through various values of C.\n",
    "plot_X = []\n",
    "plot_Y = []\n",
    "for i in C:                                                  # Iterate through various values of \n",
    "                                                             # C = inverse(lambda).\n",
    "    lr_optimal = LogisticRegression(penalty='l1',            # use L1 regularizer.\n",
    "                                    C=(i),                   # use Inverse of Lambda.\n",
    "                                    class_weight='balanced', # uses the values of y to automatically\n",
    "                                                             # adjust weights in the input \n",
    "                                                             # data, since we have class imbalance.\n",
    "                                    solver='saga')           # solver = 'saga' because of high dimension\n",
    "                                                             # and L1 regularizer.\n",
    "    \n",
    "    lr_optimal.fit(X_train_stdzd, Y_train)       # fitting the Logistic Regression model on the\n",
    "                                                 # training set.\n",
    "    Y_pred = lr_optimal.predict(X_cv_stdzd)      # predict the response from the Logistic Regression \n",
    "                                                 # model on the cv set.\n",
    "    plot_X.append(np.log(i))                     # plot log(InverseOfLambda) \"C\" in the x-axis.\n",
    "    plot_Y.append(precision_score(Y_cv,Y_pred))  # plot precision score in the y-axis.\n",
    "\n",
    "#print X,Y\n",
    "print(plot_X)\n",
    "print(plot_Y)\n",
    "\n",
    "# Plot X-axis = log(C),Y-axis = precision, to determine the best hyper-parameter.\n",
    "plt.plot(plot_X,plot_Y)\n",
    "plt.title(\"Plot of CrossValidationPrecision vs log(Inverse of lambda) .\")  # Set the title of the plot.\n",
    "plt.xlabel(\"log(Inverse of lambda)\")                                       # Set the x label of the plot.\n",
    "plt.ylabel(\"CrossValidation Precision\")                                    # Set the y label of the plot.\n",
    "plt.show()                                                                 # render the plot.\n",
    "\n",
    "# Set the end time of the current cell run.\n",
    "endtime_lr_tfidf = datetime.datetime.now()\n",
    "\n",
    "# Print the cell run duration.\n",
    "print(\"Starttime is : {}\".format(starttime_lr_tfidf))\n",
    "print(\"Endtime   is : {}\".format(endtime_lr_tfidf))"
   ]
  },
  {
   "cell_type": "code",
   "execution_count": null,
   "metadata": {},
   "outputs": [],
   "source": [
    "# Lambda Range : [10000,1000,100,10,1,0.1,0.01,0.001]\n",
    "# [9.210340371976184, 6.907755278982137, 4.605170185988092, 2.302585092994046, 0.0, -2.3025850929940455, -4.605170185988091, -6.907755278982137]\n",
    "# [0.9589941506361936, 0.9588586595885866, 0.9602444632699988, 0.9649975393700787, 0.9748182762201454, 0.9665600667408232, 0.9356604358153465, 0.0]\n",
    "\n",
    "# Lambda Range : [1000,100,10,1,0.1,0.01,0.001]\n",
    "# [6.907755278982137, 4.605170185988092, 2.302585092994046, 0.0, -2.3025850929940455, -4.605170185988091, -6.907755278982137, -9.210340371976182]\n",
    "# [0.9592760180995475, 0.9600992976507629, 0.9649360236220472, 0.9748182762201454, 0.9665554164928383, 0.9356005788712012, 0.82385, 0.0]\n",
    "\n",
    "# Lambda Range : [150,15,1.5,0.15,0.015,0.0015]\n",
    "# [5.0106352940962555, 2.70805020110221, 0.4054651081081644, -1.8971199848858813, -4.199705077879927, -6.502290170873972]\n",
    "# [0.9601475568456701, 0.963815588073226, 0.9751821053310127, 0.9684353741496599, 0.9445610353270374, 0.82385]\n"
   ]
  },
  {
   "cell_type": "code",
   "execution_count": 16,
   "metadata": {},
   "outputs": [
    {
     "data": {
      "text/plain": [
       "1.4918246976412703"
      ]
     },
     "execution_count": 16,
     "metadata": {},
     "output_type": "execute_result"
    }
   ],
   "source": [
    "np.exp(0.40)"
   ]
  },
  {
   "cell_type": "code",
   "execution_count": 32,
   "metadata": {},
   "outputs": [
    {
     "name": "stdout",
     "output_type": "stream",
     "text": [
      "Trainingset      X: (60000, 901762)\n",
      "CVset            X: (20000, 901762)\n",
      "Testset          X: (20000, 901762)\n",
      "Trainingset      Y: (60000,)\n",
      "CVset            Y: (20000,)\n",
      "Testset          Y: (20000,)\n"
     ]
    }
   ],
   "source": [
    "# Print the shape of the Input features X and class label Y for training and test set.\n",
    "print(\"Trainingset      X: {}\".format(X_train_stdzd.shape))\n",
    "print(\"CVset            X: {}\".format(X_cv_stdzd.shape))\n",
    "print(\"Testset          X: {}\".format(X_test_stdzd.shape))\n",
    "\n",
    "print(\"Trainingset      Y: {}\".format(Y_train.shape))\n",
    "print(\"CVset            Y: {}\".format(Y_cv.shape))\n",
    "print(\"Testset          Y: {}\".format(Y_test.shape))"
   ]
  },
  {
   "cell_type": "markdown",
   "metadata": {},
   "source": [
    "#### Plots for varying combination of lambda ranges."
   ]
  },
  {
   "cell_type": "markdown",
   "metadata": {},
   "source": [
    "#### Lambda range : 100 to 10000"
   ]
  },
  {
   "cell_type": "code",
   "execution_count": 6,
   "metadata": {},
   "outputs": [
    {
     "data": {
      "image/png": "[encoded data removed]",
      "text/plain": [
       "<IPython.core.display.Image object>"
      ]
     },
     "execution_count": 6,
     "metadata": {},
     "output_type": "execute_result"
    }
   ],
   "source": [
    "Image(filename='D:\\Plot\\Plot_CVPrecision_vs_Lambda_0_10000_TFIDF_L1Reg.png')"
   ]
  },
  {
   "cell_type": "markdown",
   "metadata": {},
   "source": [
    "#### Observations :\n",
    "    We observe, the curve reaches a mximum value at lambda ~= 1.0\n",
    "    Here lambda ranges from 0 to 10000."
   ]
  },
  {
   "cell_type": "code",
   "execution_count": null,
   "metadata": {},
   "outputs": [],
   "source": []
  },
  {
   "cell_type": "markdown",
   "metadata": {},
   "source": [
    "#### Lambda Range : 0 to 1000"
   ]
  },
  {
   "cell_type": "code",
   "execution_count": 7,
   "metadata": {},
   "outputs": [
    {
     "data": {
      "image/png": "[encoded data removed]",
      "text/plain": [
       "<IPython.core.display.Image object>"
      ]
     },
     "execution_count": 7,
     "metadata": {},
     "output_type": "execute_result"
    }
   ],
   "source": [
    "Image(filename='D:\\Plot\\Plot_CVPrecision_vs_Lambda_0_1000_TFIDF_L1Reg.png')"
   ]
  },
  {
   "cell_type": "markdown",
   "metadata": {},
   "source": [
    "#### Observations :\n",
    "    We observe, the curve reaches maximum at lambda = 1.0 .\n",
    "    Here lambda ranges from 0 to 1000."
   ]
  },
  {
   "cell_type": "code",
   "execution_count": null,
   "metadata": {},
   "outputs": [],
   "source": []
  },
  {
   "cell_type": "markdown",
   "metadata": {},
   "source": [
    "#### Lambda range : 0 to 150 "
   ]
  },
  {
   "cell_type": "code",
   "execution_count": 8,
   "metadata": {},
   "outputs": [
    {
     "data": {
      "image/png": "[encoded data removed]",
      "text/plain": [
       "<IPython.core.display.Image object>"
      ]
     },
     "execution_count": 8,
     "metadata": {},
     "output_type": "execute_result"
    }
   ],
   "source": [
    "Image(filename='D:\\Plot\\Plot_CVPrecision_vs_Lambda_0_150_TFIDF_L1Reg.png')"
   ]
  },
  {
   "cell_type": "markdown",
   "metadata": {},
   "source": [
    "#### Observations :\n",
    "    The cross-validation precision is maximum when lambda ~= -1.5 .\n",
    "    Here lambda ranges from 0 to 150."
   ]
  },
  {
   "cell_type": "markdown",
   "metadata": {},
   "source": [
    "#### Hyper-parameter Choice : \n",
    "      Based on the CV plots for varying combination of lambda ranges, lambda = 1.50 when lambda range is between 0 and 150 is the best choice."
   ]
  },
  {
   "cell_type": "code",
   "execution_count": null,
   "metadata": {},
   "outputs": [],
   "source": []
  },
  {
   "cell_type": "markdown",
   "metadata": {},
   "source": [
    "#### Fit the Logistic Regression model in TF-IDF case in the test set and compute the error metrics."
   ]
  },
  {
   "cell_type": "code",
   "execution_count": 33,
   "metadata": {},
   "outputs": [
    {
     "name": "stdout",
     "output_type": "stream",
     "text": [
      "Starttime : 2018-11-30 17:43:03.568885\n",
      "Endtime   : 2018-11-30 17:43:53.537620\n"
     ]
    }
   ],
   "source": [
    "# ============================== LR with lambda = optimal lambda ===============================================\n",
    "\n",
    "# Set the start time of the current cell run.\n",
    "starttime_lr_tfidf = datetime.datetime.now()\n",
    "\n",
    "# instantiate the Logistic Regression model with lambda = 1.50 based on the above error plots .\n",
    "lr_optimal = LogisticRegression(penalty='l1',            # use L1 regularizer.\n",
    "                                C=(1.50),                # use Inverse of Lambda.\n",
    "                                class_weight='balanced', # uses the values of y to automatically adjust \n",
    "                                                         # weights in the input\n",
    "                                                         # data, since we have class imbalance.\n",
    "                                solver='saga')           # solver = 'saga' because of high dimension and\n",
    "                                                         # L1 regularizer.\n",
    "\n",
    "lr_optimal.fit(X_train_stdzd, Y_train)           # fitting the Logistic Regression model.\n",
    "Y_pred_test = lr_optimal.predict(X_test_stdzd)   # predict the response from the Logistic Regression\n",
    "                                                 # model.\n",
    "\n",
    "# Set the end time of the current cell run.\n",
    "endtime_lr_tfidf = datetime.datetime.now()\n",
    "\n",
    "# Print the cell run duration.\n",
    "print(\"Starttime : {}\".format(starttime_lr_tfidf))\n",
    "print(\"Endtime   : {}\".format(endtime_lr_tfidf))"
   ]
  },
  {
   "cell_type": "markdown",
   "metadata": {},
   "source": [
    "#### Plot the classifier performance metrics."
   ]
  },
  {
   "cell_type": "code",
   "execution_count": 34,
   "metadata": {},
   "outputs": [
    {
     "data": {
      "image/png": "[encoded data removed]",
      "text/plain": [
       "<matplotlib.figure.Figure at 0x216c34fe5c0>"
      ]
     },
     "metadata": {},
     "output_type": "display_data"
    }
   ],
   "source": [
    "# evaluate the model and report the metrics.\n",
    "from sklearn.metrics import confusion_matrix\n",
    "conf_mat = confusion_matrix(Y_test, Y_pred_test)\n",
    "fig, ax = plt.subplots(figsize=(5,5))\n",
    "sns.heatmap(conf_mat, annot=True, fmt='d'\n",
    "            ,xticklabels=['negative','positive'], yticklabels=['negative','positive'])\n",
    "plt.title('Confusion Matrix : (Vectorizer = TF-IDF)')\n",
    "plt.ylabel('Actual')\n",
    "plt.xlabel('Predicted')\n",
    "plt.show()"
   ]
  },
  {
   "cell_type": "code",
   "execution_count": 35,
   "metadata": {},
   "outputs": [
    {
     "name": "stdout",
     "output_type": "stream",
     "text": [
      "1    16442\n",
      "0     3558\n",
      "Name: Comment, dtype: int64\n"
     ]
    }
   ],
   "source": [
    "#Class composition in the testset.\n",
    "dfYTest = pd.DataFrame(list(Y_test),columns=['Comment'])\n",
    "#print(list(Y_test))\n",
    "print(dfYTest[\"Comment\"].value_counts())"
   ]
  },
  {
   "cell_type": "code",
   "execution_count": 36,
   "metadata": {
    "scrolled": true
   },
   "outputs": [
    {
     "name": "stdout",
     "output_type": "stream",
     "text": [
      "Performance Metrics :\n",
      "+------------------------+--------------------+--------------------+\n",
      "| Text-VectorizationType | Performance Metric | Value              |\n",
      "+------------------------+--------------------+--------------------+\n",
      "|         TFIDF          |      Accuracy      | 0.9158             |\n",
      "|           -            |     Precision      | 0.9750836981715169 |\n",
      "|           -            |       Recall       | 0.921116652475368  |\n",
      "|           -            |      F1 Score      | 0.9473322074185275 |\n",
      "|           -            |  ConfusionMatrix   | [[ 3171   387]     |\n",
      "|                        |                    |  [ 1297 15145]]    |\n",
      "|       ----------       |    -----------     | ----------         |\n",
      "+------------------------+--------------------+--------------------+\n"
     ]
    }
   ],
   "source": [
    "# Load the classification metrics\n",
    "from sklearn.metrics import accuracy_score\n",
    "from sklearn.metrics import precision_score\n",
    "from sklearn.metrics import recall_score\n",
    "from sklearn.metrics import f1_score\n",
    "# Load the prettytable\n",
    "from prettytable import PrettyTable\n",
    "\n",
    "# Instantiate the prettytable module.\n",
    "x = PrettyTable()\n",
    "# Set the column names for the table.\n",
    "x.field_names = [\"Text-VectorizationType\",\"Performance Metric\", \"Value\"]\n",
    "\n",
    "# Add the classification metrics to the table.\n",
    "x.add_row(['TFIDF','Accuracy',accuracy_score(Y_test,Y_pred_test)])\n",
    "x.add_row(['-','Precision',precision_score(Y_test,Y_pred_test)])\n",
    "x.add_row(['-','Recall',recall_score(Y_test,Y_pred_test)])\n",
    "x.add_row(['-','F1 Score',f1_score(Y_test,Y_pred_test)])\n",
    "x.add_row(['-','ConfusionMatrix',confusion_matrix(Y_test, Y_pred_test)])\n",
    "x.add_row(['----------','-----------','----------'])\n",
    "\n",
    "# Add the classification metrics to the final summary table.\n",
    "summaryTable.add_row(['TFIDF','1.50','Accuracy',accuracy_score(Y_test,Y_pred_test)])\n",
    "summaryTable.add_row(['-','1.50','Precision',precision_score(Y_test,Y_pred_test)])\n",
    "summaryTable.add_row(['-','1.50','Recall',recall_score(Y_test,Y_pred_test)])\n",
    "summaryTable.add_row(['-','1.50','F1 Score',f1_score(Y_test,Y_pred_test)])\n",
    "summaryTable.add_row(['-','1.50','ConfusionMatrix',confusion_matrix(Y_test, Y_pred_test)])\n",
    "summaryTable.add_row(['----------','-----------','----------','----------'])\n",
    "\n",
    "\n",
    "# Apply data alignment.\n",
    "x.align[\"Value\"] = \"l\"\n",
    "\n",
    "# Print the table.\n",
    "print(\"Performance Metrics :\")\n",
    "print(x)"
   ]
  },
  {
   "cell_type": "markdown",
   "metadata": {},
   "source": [
    "#### Use the weight vector to determine class based Feature Importance. "
   ]
  },
  {
   "cell_type": "code",
   "execution_count": 37,
   "metadata": {},
   "outputs": [
    {
     "name": "stdout",
     "output_type": "stream",
     "text": [
      "      ColumnIndex     Weight             Word\n",
      "781        348640  31.358375            great\n",
      "575        267021  28.920061            excel\n",
      "863        376055  28.860045   high recommend\n",
      "86          47909  27.666672           awesom\n",
      "429        206555  27.273732           delici\n",
      "1310       576670  26.714435          perfect\n",
      "1065       462987  26.077715             love\n",
      "122         69464  25.592504             best\n",
      "1934       884543  20.092477  wont disappoint\n",
      "1993       899804  20.063034            yummi\n"
     ]
    }
   ],
   "source": [
    "# get the weights W for the dataset X_test_stdzd.\n",
    "wtTFIDF = lr_optimal.coef_\n",
    "\n",
    "# nested tuple to store the indices where weights qualify a threshold.\n",
    "tupIndicesNonZero = np.nonzero(wtTFIDF)\n",
    "\n",
    "# get the indices of the words that qualify the weight criteria.\n",
    "indices_nonzero = tupIndicesNonZero[1][:]\n",
    "\n",
    "# print the weights of words that qualify the weight criteria.\n",
    "weightVector = wtTFIDF[tupIndicesNonZero]\n",
    "\n",
    "# print the features that meet the criteria.\n",
    "wordVector = np.take(tf_idf_vect.get_feature_names(), indices_nonzero)\n",
    "\n",
    "# Prepare the data from the columnIndex,weightvector and wordvector.\n",
    "lstData = list(zip(indices_nonzero,weightVector,wordVector))\n",
    "\n",
    "# create a dataframe to store the columnindex,weights,words of the text corpus.\n",
    "dfTopWords = pd.DataFrame(data=lstData,columns=['ColumnIndex','Weight','Word'])\n",
    "\n",
    "# Print the top 10 rows from the resultant dataframe.\n",
    "print(dfTopWords.sort_values(['Weight'],ascending=False).head(10))\n"
   ]
  },
  {
   "cell_type": "code",
   "execution_count": null,
   "metadata": {},
   "outputs": [],
   "source": []
  },
  {
   "cell_type": "markdown",
   "metadata": {},
   "source": [
    "#### Feature Importance : Logic for Class based feature importance.\n",
    "####            Look at the original weights, a negative coefficient means that higher value of the corresponding feature pushes the classification more towards the negative class and vice-versa."
   ]
  },
  {
   "cell_type": "markdown",
   "metadata": {},
   "source": [
    "#### Positive Class :"
   ]
  },
  {
   "cell_type": "code",
   "execution_count": 38,
   "metadata": {},
   "outputs": [
    {
     "data": {
      "text/html": [
       "<div>\n",
       "<style scoped>\n",
       "    .dataframe tbody tr th:only-of-type {\n",
       "        vertical-align: middle;\n",
       "    }\n",
       "\n",
       "    .dataframe tbody tr th {\n",
       "        vertical-align: top;\n",
       "    }\n",
       "\n",
       "    .dataframe thead th {\n",
       "        text-align: right;\n",
       "    }\n",
       "</style>\n",
       "<table border=\"1\" class=\"dataframe\">\n",
       "  <thead>\n",
       "    <tr style=\"text-align: right;\">\n",
       "      <th></th>\n",
       "      <th>ColumnIndex</th>\n",
       "      <th>Word</th>\n",
       "      <th>Weight</th>\n",
       "    </tr>\n",
       "  </thead>\n",
       "  <tbody>\n",
       "    <tr>\n",
       "      <th>781</th>\n",
       "      <td>348640</td>\n",
       "      <td>great</td>\n",
       "      <td>31.358375</td>\n",
       "    </tr>\n",
       "    <tr>\n",
       "      <th>575</th>\n",
       "      <td>267021</td>\n",
       "      <td>excel</td>\n",
       "      <td>28.920061</td>\n",
       "    </tr>\n",
       "    <tr>\n",
       "      <th>863</th>\n",
       "      <td>376055</td>\n",
       "      <td>high recommend</td>\n",
       "      <td>28.860045</td>\n",
       "    </tr>\n",
       "    <tr>\n",
       "      <th>86</th>\n",
       "      <td>47909</td>\n",
       "      <td>awesom</td>\n",
       "      <td>27.666672</td>\n",
       "    </tr>\n",
       "    <tr>\n",
       "      <th>429</th>\n",
       "      <td>206555</td>\n",
       "      <td>delici</td>\n",
       "      <td>27.273732</td>\n",
       "    </tr>\n",
       "    <tr>\n",
       "      <th>1310</th>\n",
       "      <td>576670</td>\n",
       "      <td>perfect</td>\n",
       "      <td>26.714435</td>\n",
       "    </tr>\n",
       "    <tr>\n",
       "      <th>1065</th>\n",
       "      <td>462987</td>\n",
       "      <td>love</td>\n",
       "      <td>26.077715</td>\n",
       "    </tr>\n",
       "    <tr>\n",
       "      <th>122</th>\n",
       "      <td>69464</td>\n",
       "      <td>best</td>\n",
       "      <td>25.592504</td>\n",
       "    </tr>\n",
       "    <tr>\n",
       "      <th>1934</th>\n",
       "      <td>884543</td>\n",
       "      <td>wont disappoint</td>\n",
       "      <td>20.092477</td>\n",
       "    </tr>\n",
       "    <tr>\n",
       "      <th>1993</th>\n",
       "      <td>899804</td>\n",
       "      <td>yummi</td>\n",
       "      <td>20.063034</td>\n",
       "    </tr>\n",
       "  </tbody>\n",
       "</table>\n",
       "</div>"
      ],
      "text/plain": [
       "      ColumnIndex             Word     Weight\n",
       "781        348640            great  31.358375\n",
       "575        267021            excel  28.920061\n",
       "863        376055   high recommend  28.860045\n",
       "86          47909           awesom  27.666672\n",
       "429        206555           delici  27.273732\n",
       "1310       576670          perfect  26.714435\n",
       "1065       462987             love  26.077715\n",
       "122         69464             best  25.592504\n",
       "1934       884543  wont disappoint  20.092477\n",
       "1993       899804            yummi  20.063034"
      ]
     },
     "execution_count": 38,
     "metadata": {},
     "output_type": "execute_result"
    }
   ],
   "source": [
    "# Get the features with their weights.\n",
    "# Currently returns the top 10 features.\n",
    "\n",
    "# For Positive Class : Get the features with their weights, excluding features that were found to be\n",
    "# Multicollinear.\n",
    "dfTopWords[['ColumnIndex','Word','Weight'\n",
    "          ]][(dfTopWords['Weight'] > 0.00)].sort_values(['Weight'],ascending=False).head(10)\n"
   ]
  },
  {
   "cell_type": "markdown",
   "metadata": {},
   "source": [
    "#### Negative Class :"
   ]
  },
  {
   "cell_type": "code",
   "execution_count": 39,
   "metadata": {},
   "outputs": [
    {
     "data": {
      "text/html": [
       "<div>\n",
       "<style scoped>\n",
       "    .dataframe tbody tr th:only-of-type {\n",
       "        vertical-align: middle;\n",
       "    }\n",
       "\n",
       "    .dataframe tbody tr th {\n",
       "        vertical-align: top;\n",
       "    }\n",
       "\n",
       "    .dataframe thead th {\n",
       "        text-align: right;\n",
       "    }\n",
       "</style>\n",
       "<table border=\"1\" class=\"dataframe\">\n",
       "  <thead>\n",
       "    <tr style=\"text-align: right;\">\n",
       "      <th></th>\n",
       "      <th>ColumnIndex</th>\n",
       "      <th>Word</th>\n",
       "      <th>Weight</th>\n",
       "    </tr>\n",
       "  </thead>\n",
       "  <tbody>\n",
       "    <tr>\n",
       "      <th>1753</th>\n",
       "      <td>805292</td>\n",
       "      <td>though tea</td>\n",
       "      <td>-0.000709</td>\n",
       "    </tr>\n",
       "    <tr>\n",
       "      <th>461</th>\n",
       "      <td>220530</td>\n",
       "      <td>dirti</td>\n",
       "      <td>-0.000809</td>\n",
       "    </tr>\n",
       "    <tr>\n",
       "      <th>1216</th>\n",
       "      <td>524319</td>\n",
       "      <td>next day</td>\n",
       "      <td>-0.000934</td>\n",
       "    </tr>\n",
       "    <tr>\n",
       "      <th>143</th>\n",
       "      <td>77951</td>\n",
       "      <td>bite</td>\n",
       "      <td>-0.001124</td>\n",
       "    </tr>\n",
       "    <tr>\n",
       "      <th>1349</th>\n",
       "      <td>599082</td>\n",
       "      <td>pouch</td>\n",
       "      <td>-0.001243</td>\n",
       "    </tr>\n",
       "    <tr>\n",
       "      <th>523</th>\n",
       "      <td>238295</td>\n",
       "      <td>drug test</td>\n",
       "      <td>-0.006454</td>\n",
       "    </tr>\n",
       "    <tr>\n",
       "      <th>159</th>\n",
       "      <td>84811</td>\n",
       "      <td>bone</td>\n",
       "      <td>-0.007301</td>\n",
       "    </tr>\n",
       "    <tr>\n",
       "      <th>473</th>\n",
       "      <td>224968</td>\n",
       "      <td>dissatisfi</td>\n",
       "      <td>-0.010204</td>\n",
       "    </tr>\n",
       "    <tr>\n",
       "      <th>649</th>\n",
       "      <td>297359</td>\n",
       "      <td>fix</td>\n",
       "      <td>-0.010434</td>\n",
       "    </tr>\n",
       "    <tr>\n",
       "      <th>276</th>\n",
       "      <td>135536</td>\n",
       "      <td>cheribundi</td>\n",
       "      <td>-0.012705</td>\n",
       "    </tr>\n",
       "  </tbody>\n",
       "</table>\n",
       "</div>"
      ],
      "text/plain": [
       "      ColumnIndex        Word    Weight\n",
       "1753       805292  though tea -0.000709\n",
       "461        220530       dirti -0.000809\n",
       "1216       524319    next day -0.000934\n",
       "143         77951        bite -0.001124\n",
       "1349       599082       pouch -0.001243\n",
       "523        238295   drug test -0.006454\n",
       "159         84811        bone -0.007301\n",
       "473        224968  dissatisfi -0.010204\n",
       "649        297359         fix -0.010434\n",
       "276        135536  cheribundi -0.012705"
      ]
     },
     "execution_count": 39,
     "metadata": {},
     "output_type": "execute_result"
    }
   ],
   "source": [
    "# Get the features with their weights.\n",
    "# Currently returns the top 10 features.\n",
    "\n",
    "# For Negative Class : Get the features with their weights, excluding features that were found to be\n",
    "# Multicollinear.\n",
    "dfTopWords[['ColumnIndex','Word','Weight'\n",
    "          ]][(dfTopWords['Weight'] < 0.00)].sort_values(['Weight'],ascending=False).head(10)\n"
   ]
  },
  {
   "cell_type": "code",
   "execution_count": null,
   "metadata": {},
   "outputs": [],
   "source": []
  },
  {
   "cell_type": "markdown",
   "metadata": {},
   "source": [
    "#### CONCLUSION :\n",
    "\n",
    "#### Performance Metrics "
   ]
  },
  {
   "cell_type": "code",
   "execution_count": 9,
   "metadata": {},
   "outputs": [
    {
     "data": {
      "image/png": "[encoded data removed]",
      "text/plain": [
       "<IPython.core.display.Image object>"
      ]
     },
     "execution_count": 9,
     "metadata": {},
     "output_type": "execute_result"
    }
   ],
   "source": [
    "Image(filename='D:\\Plot\\ConfusionMatrix_L1Regularizer_TFIDF.PNG')"
   ]
  },
  {
   "cell_type": "markdown",
   "metadata": {},
   "source": [
    "#### We see good precision score for the LR model with L1 Regularizer. The FalsePositive values is acceptable while FalseNegative is a concern. The text review comment has been enriched by adding contents of summary column from the Amazon Food Reviews dataset."
   ]
  },
  {
   "cell_type": "code",
   "execution_count": null,
   "metadata": {},
   "outputs": [],
   "source": []
  },
  {
   "cell_type": "markdown",
   "metadata": {},
   "source": [
    "### Vectorization Method : Average Word2Vec : Avg W2V\n",
    "#### Convert review text into numeric vectors using Avg W2V"
   ]
  },
  {
   "cell_type": "code",
   "execution_count": 40,
   "metadata": {},
   "outputs": [
    {
     "name": "stdout",
     "output_type": "stream",
     "text": [
      "Requirement already satisfied: tqdm in c:\\programdata\\anaconda3\\lib\\site-packages\n"
     ]
    },
    {
     "name": "stderr",
     "output_type": "stream",
     "text": [
      "You are using pip version 9.0.1, however version 18.1 is available.\n",
      "You should consider upgrading via the 'python -m pip install --upgrade pip' command.\n"
     ]
    }
   ],
   "source": [
    "# Load the necessary modules of Word2Vec\n",
    "from gensim.models import Word2Vec\n",
    "from gensim.models import KeyedVectors\n",
    "import pickle\n",
    "\n",
    "# Install a pip package in the current Jupyter kernel\n",
    "import sys\n",
    "!{sys.executable} -m pip install tqdm\n",
    "\n",
    "from tqdm import tqdm # for displaying progress bar."
   ]
  },
  {
   "cell_type": "code",
   "execution_count": 41,
   "metadata": {},
   "outputs": [
    {
     "name": "stderr",
     "output_type": "stream",
     "text": [
      "100%|████████████████████████████████████████████████████████████████████████████████████████████████████████████████████████████████████████████████████████████████████| 60000/60000 [00:00<00:00, 66380.43it/s]\n"
     ]
    }
   ],
   "source": [
    "# Train your own Word2Vec model using your own text training corpus.\n",
    "# Train Word2Vec on training set alone.\n",
    "i=0\n",
    "list_of_sent=[]  # List to store the sentence from the review comments.\n",
    "\n",
    "# Loop through all the Amazon Food Review comments, one comment at a time.\n",
    "for sent in tqdm(X_train.values.astype('U')):\n",
    "    list_of_sent.append(sent.split())         # From the Review, split it into individual sentence and add to the list."
   ]
  },
  {
   "cell_type": "markdown",
   "metadata": {},
   "source": [
    "#### Train the Word2Vec model on the training set alone."
   ]
  },
  {
   "cell_type": "code",
   "execution_count": 42,
   "metadata": {},
   "outputs": [
    {
     "name": "stdout",
     "output_type": "stream",
     "text": [
      "number of words that occured minimum 5 times  10247\n",
      "sample words  ['big', 'lover', 'fig', 'jam', 'uniqu', 'flavor', 'kind', 'mix', 'light', 'dark', 'mission', 'must', 'tri', 'awsom', 'great', 'product', 'good', 'price', 'definit', 'order', 'use', 'bottl', 'empti', 'excel', 'expect', 'box', 'full', 'fortun', 'cooki', 'like', 'one', 'nonetheless', 'got', 'small', 'tast', 'weird', 'okay', 'best', 'ever', 'review', 'amazon', 'check', 'label', 'contain', 'sure', 'enough', 'propylen', 'glycol', 'top', 'ingredi']\n"
     ]
    }
   ],
   "source": [
    "# min_count = 5 considers only words that occured atleast 5 times\n",
    "\n",
    "# Instantiate the Word2Vec vectorizer.\n",
    "\n",
    "# Word2Vec(list,word_repeat_count,dimension_of_each_word_vector,Number_of_Processor_cores)\n",
    "w2v_model=Word2Vec(list_of_sent,min_count=5,size=50, workers=4)\n",
    "\n",
    "# Store the word vocabulary.\n",
    "w2v_words = list(w2v_model.wv.vocab)\n",
    "\n",
    "# Print the Word vector.\n",
    "print(\"number of words that occured minimum 5 times \",len(w2v_words))\n",
    "print(\"sample words \", w2v_words[0:50])"
   ]
  },
  {
   "cell_type": "markdown",
   "metadata": {},
   "source": [
    "#### Compute the average Word2Vec for each review in the training set."
   ]
  },
  {
   "cell_type": "code",
   "execution_count": 43,
   "metadata": {},
   "outputs": [
    {
     "name": "stderr",
     "output_type": "stream",
     "text": [
      "100%|█████████████████████████████████████████████████████████████████████████████████████████████████████████████████████████████████████████████████████████████████████| 60000/60000 [00:52<00:00, 1144.72it/s]\n"
     ]
    },
    {
     "name": "stdout",
     "output_type": "stream",
     "text": [
      "The total number of words is 60000\n",
      "The dimension of each word vector is 50\n"
     ]
    }
   ],
   "source": [
    "# average Word2Vec\n",
    "# Avg. Word2Vec = (W2V(w1)+W2V(w2)+W2V(w3)+...... +W2V(w364171)) / 364171\n",
    "# compute average word2vec for each review.\n",
    "sent_vectors = [];                     # the avg-w2v for each sentence/review is stored in this list\n",
    "for sent in tqdm(list_of_sent):        # for each review/sentence in the training set\n",
    "    sent_vec = np.zeros(50)            # as word vectors are of zero length\n",
    "    cnt_words =0;                      # num of words with a valid vector in the sentence/review\n",
    "    for word in sent:                  # for each word in a review/sentence\n",
    "        if word in w2v_words:          # if the word exists in the vocabulary\n",
    "            vec = w2v_model.wv[word]   # convert the word to vector\n",
    "            sent_vec += vec\n",
    "            cnt_words += 1\n",
    "    if cnt_words != 0:\n",
    "        sent_vec /= cnt_words\n",
    "    sent_vectors.append(sent_vec)\n",
    "print('The total number of words is {}'.format(len(sent_vectors)))\n",
    "print('The dimension of each word vector is {}'.format(len(sent_vectors[0])))"
   ]
  },
  {
   "cell_type": "markdown",
   "metadata": {},
   "source": [
    "#### Build the text corpus of the cross-validation and test set."
   ]
  },
  {
   "cell_type": "code",
   "execution_count": 44,
   "metadata": {},
   "outputs": [
    {
     "name": "stderr",
     "output_type": "stream",
     "text": [
      "100%|███████████████████████████████████████████████████████████████████████████████████████████████████████████████████████████████████████████████████████████████████| 20000/20000 [00:00<00:00, 196604.62it/s]\n"
     ]
    }
   ],
   "source": [
    "# Build the cross-validation text corpus.\n",
    "i=0\n",
    "list_of_sent_cv=[]   # List to store the sentence from the review comments.\n",
    "\n",
    "# Loop through all the Amazon Food Review comments, one comment at a time.\n",
    "for sent in tqdm(X_cv.values):\n",
    "    list_of_sent_cv.append(sent.split())     # From the Review, split it into individual sentence and add to the list."
   ]
  },
  {
   "cell_type": "code",
   "execution_count": 45,
   "metadata": {},
   "outputs": [
    {
     "name": "stderr",
     "output_type": "stream",
     "text": [
      "100%|███████████████████████████████████████████████████████████████████████████████████████████████████████████████████████████████████████████████████████████████████| 20000/20000 [00:00<00:00, 222822.16it/s]\n"
     ]
    }
   ],
   "source": [
    "# Build the test text corpus.\n",
    "i=0\n",
    "list_of_sent_test=[]  # List to store the sentence from the review comments.\n",
    "\n",
    "# Loop through all the Amazon Food Review comments, one comment at a time.\n",
    "for sent in tqdm(X_test.values):\n",
    "    list_of_sent_test.append(sent.split())    # From the Review, split it into individual sentence and add to the list."
   ]
  },
  {
   "cell_type": "markdown",
   "metadata": {},
   "source": [
    "#### Use the trained word2vec model to compute the average Word2Vec for each review in the cross-validation and test set."
   ]
  },
  {
   "cell_type": "code",
   "execution_count": 46,
   "metadata": {},
   "outputs": [
    {
     "name": "stderr",
     "output_type": "stream",
     "text": [
      "100%|█████████████████████████████████████████████████████████████████████████████████████████████████████████████████████████████████████████████████████████████████████| 20000/20000 [00:19<00:00, 1025.02it/s]\n"
     ]
    },
    {
     "name": "stdout",
     "output_type": "stream",
     "text": [
      "The total number of words is 20000\n",
      "The dimension of each word vector is 50\n"
     ]
    }
   ],
   "source": [
    "# CROSS-VALIDATION :\n",
    "\n",
    "# average Word2Vec\n",
    "# Avg. Word2Vec = (W2V(w1)+W2V(w2)+W2V(w3)+...... +W2V(w364171)) / 364171\n",
    "# compute average word2vec for each review.\n",
    "sent_vectors_cv = [];                # the avg-w2v for each sentence/review is stored in this list\n",
    "for sent in tqdm(list_of_sent_cv):   # for each review/sentence in the test set\n",
    "    sent_vec = np.zeros(50)            # as word vectors are of zero length\n",
    "    cnt_words =0;                      # num of words with a valid vector in the sentence/review\n",
    "    for word in sent:                  # for each word in a review/sentence\n",
    "        if word in w2v_words:          # if the word exists in the vocabulary\n",
    "            vec = w2v_model.wv[word]   # convert the word to vector using the trained model.\n",
    "            sent_vec += vec\n",
    "            cnt_words += 1\n",
    "    if cnt_words != 0:\n",
    "        sent_vec /= cnt_words\n",
    "    sent_vectors_cv.append(sent_vec)\n",
    "print('The total number of words is {}'.format(len(sent_vectors_cv)))\n",
    "print('The dimension of each word vector is {}'.format(len(sent_vectors_cv[0])))"
   ]
  },
  {
   "cell_type": "code",
   "execution_count": 47,
   "metadata": {},
   "outputs": [
    {
     "name": "stderr",
     "output_type": "stream",
     "text": [
      "100%|█████████████████████████████████████████████████████████████████████████████████████████████████████████████████████████████████████████████████████████████████████| 20000/20000 [00:19<00:00, 1040.35it/s]\n"
     ]
    },
    {
     "name": "stdout",
     "output_type": "stream",
     "text": [
      "The total number of words is 20000\n",
      "The dimension of each word vector is 50\n"
     ]
    }
   ],
   "source": [
    "# TEST :\n",
    "\n",
    "# average Word2Vec\n",
    "# Avg. Word2Vec = (W2V(w1)+W2V(w2)+W2V(w3)+...... +W2V(w364171)) / 364171\n",
    "# compute average word2vec for each review.\n",
    "sent_vectors_test = [];                # the avg-w2v for each sentence/review is stored in this list\n",
    "for sent in tqdm(list_of_sent_test):   # for each review/sentence in the test set\n",
    "    sent_vec = np.zeros(50)            # as word vectors are of zero length\n",
    "    cnt_words =0;                      # num of words with a valid vector in the sentence/review\n",
    "    for word in sent:                  # for each word in a review/sentence\n",
    "        if word in w2v_words:          # if the word exists in the vocabulary\n",
    "            vec = w2v_model.wv[word]   # convert the word to vector using the trained model.\n",
    "            sent_vec += vec\n",
    "            cnt_words += 1\n",
    "    if cnt_words != 0:\n",
    "        sent_vec /= cnt_words\n",
    "    sent_vectors_test.append(sent_vec)\n",
    "print('The total number of words is {}'.format(len(sent_vectors_test)))\n",
    "print('The dimension of each word vector is {}'.format(len(sent_vectors_test[0])))"
   ]
  },
  {
   "cell_type": "markdown",
   "metadata": {},
   "source": [
    "#### Standardize / Normalize the data"
   ]
  },
  {
   "cell_type": "code",
   "execution_count": 48,
   "metadata": {},
   "outputs": [],
   "source": [
    "# Data-preprocessing: Normalizing the data\n",
    "from sklearn.preprocessing import Normalizer\n",
    "\n",
    "normalizer = Normalizer()\n",
    "\n",
    "#Standardize on the train data.\n",
    "X_train_stdzd = normalizer.fit_transform(sent_vectors)\n",
    "\n",
    "#Standardize the cv and test data.\n",
    "X_cv_stdzd  = normalizer.transform(sent_vectors_cv)      #use the same Normalizer on the cv set.\n",
    "X_test_stdzd  = normalizer.transform(sent_vectors_test)  #use the same Normalizer on the test set."
   ]
  },
  {
   "cell_type": "markdown",
   "metadata": {},
   "source": [
    "#### Hyper-Parameter Tuning : Using the cross-validation dataset to calculate the optimal 'lambda' of LogisticRegression in Word2Vec case."
   ]
  },
  {
   "cell_type": "code",
   "execution_count": 38,
   "metadata": {},
   "outputs": [
    {
     "name": "stdout",
     "output_type": "stream",
     "text": [
      "[-6.9078, -5.8091, -5.116, -4.7105, -4.6052, -2.9957, -2.3026, -0.6931, 0.0, 0.4055, 2.3026, 2.7081, 4.6052, 5.0106, 6.9078, 7.3132, 9.2103, 9.6158]\n",
      "[0.895, 0.9565, 0.963, 0.9634, 0.9633, 0.9658, 0.9662, 0.9659, 0.966, 0.966, 0.966, 0.966, 0.966, 0.966, 0.966, 0.966, 0.966, 0.966]\n"
     ]
    },
    {
     "data": {
      "image/png": "[encoded data removed]",
      "text/plain": [
       "<matplotlib.figure.Figure at 0x1e5eed4f358>"
      ]
     },
     "metadata": {},
     "output_type": "display_data"
    },
    {
     "name": "stdout",
     "output_type": "stream",
     "text": [
      "Starttime is : 2018-11-30 10:57:46.354374\n",
      "Endtime   is : 2018-11-30 10:58:20.710647\n"
     ]
    }
   ],
   "source": [
    "# Import the LogisticRegression and precision modules.\n",
    "from sklearn.linear_model import LogisticRegression\n",
    "from sklearn.metrics import precision_score\n",
    "\n",
    "# Set the start time of the current cell run.\n",
    "starttime_lr_w2v = datetime.datetime.now()\n",
    "\n",
    "# Set the range for the hyper-parameters.\n",
    "# We Know from theory:\n",
    "#          when lambda = 0, then model overfits\n",
    "#          when lambda tends to infinity , then model underfits\n",
    "\n",
    "# Experiment with different combination of C ranges.\n",
    "# Here C = Inverse(Lambda) where lambda is the hyper-parameter of the LR model\n",
    "C = [0.001,0.003,0.006,0.009,0.01,0.05,0.10,0.50,1.0,1.5,10.0,15.0,100,150,1000,1500,10000,15000]\n",
    "#C = [1.5,1.0,0.75,0.25,0.15,0.09,0.05,0.02,0.0015]\n",
    "#C = [1500,150,15,1.5,0.15,0.015,0.0015,0.00015]\n",
    "#C = [100000,10000,1000,100,10,1,0.1,0.01,0.001,0.0001,0.00001]\n",
    "\n",
    "\n",
    "\n",
    "# Use the cross-validation dataset to determine the best hyper-parameter C.\n",
    "# Loop through various values of C.\n",
    "plot_X = []\n",
    "plot_Y = []\n",
    "for i in C:\n",
    "    # Iterate through various values of C = inverse(lambda),\n",
    "    lr_optimal = LogisticRegression(penalty='l1',            # use L1 regularizer.\n",
    "                                    C=(i),                   # use Inverse of Lambda.\n",
    "                                    class_weight='balanced', # uses the values of y to automatically adjust\n",
    "                                                             # weights in the input \n",
    "                                                             # data, as we have class imbalance.\n",
    "                                    solver='saga')           # solver = 'saga' because of high dimension\n",
    "                                                             # and L1 regularizer.\n",
    "    \n",
    "    lr_optimal.fit(X_train_stdzd, Y_train)                # fitting the Logistic Regression model on the\n",
    "                                                          # training set.\n",
    "    Y_pred = lr_optimal.predict(X_cv_stdzd)               # predict the response from the Logistic Regression\n",
    "                                                          # model on the cv set.\n",
    "    plot_X.append(round(np.log(i),4))                     # plot log(InverseOfLambda) \"C\" in the x-axis.\n",
    "    plot_Y.append(round(precision_score(Y_cv,Y_pred),4))  # plot precision score in the y-axis.\n",
    "\n",
    "#print X,Y\n",
    "print(plot_X)\n",
    "print(plot_Y)\n",
    "\n",
    "# Plot X-axis = log(C),Y-axis = precision, to determine the best hyper-parameter.\n",
    "plt.plot(plot_X,plot_Y)\n",
    "plt.title(\"Plot of CrossValidationPrecision vs log(Inverse of lambda) .\")  # Set the title of the plot.\n",
    "plt.xlabel(\"log(Inverse of lambda)\")                                       # Set the x label of the plot.\n",
    "plt.ylabel(\"CrossValidation Precision\")                                    # Set the y label of the plot.\n",
    "plt.show()                                                                 # render the plot.\n",
    "\n",
    "# Set the end time of the current cell run.\n",
    "endtime_lr_w2v = datetime.datetime.now()\n",
    "\n",
    "# Print the cell run duration.\n",
    "print(\"Starttime is : {}\".format(starttime_lr_w2v))\n",
    "print(\"Endtime   is : {}\".format(endtime_lr_w2v))"
   ]
  },
  {
   "cell_type": "code",
   "execution_count": null,
   "metadata": {},
   "outputs": [],
   "source": [
    "# Lambda Range : [100000,10000,1000,100,10,1,0.1,0.01,0.001,0.0001,0.00001]\n",
    "# [11.5129, 9.2103, 6.9078, 4.6052, 2.3026, 0.0, -2.3026, -4.6052, -6.9078, -9.2103, -11.5129]\n",
    "# [0.966, 0.966, 0.966, 0.966, 0.966, 0.966, 0.9662, 0.9633, 0.8952, 0.0, 0.0]\n",
    "\n",
    "# Lambda Range : [1500,150,15,1.5,0.15,0.015,0.0015,0.00015]\n",
    "# [7.3132, 5.0106, 2.7081, 0.4055, -1.8971, -4.1997, -6.5023, -8.8049]\n",
    "# [0.966, 0.966, 0.966, 0.966, 0.966, 0.964, 0.9331, 0.0]\n",
    "\n",
    "# Lambda Range : [1.5,1.0,0.75,0.25,0.15,0.09,0.05,0.02,0.0015]\n",
    "# [0.4055, 0.0, -0.2877, -1.3863, -1.8971, -2.4079, -2.9957, -3.912, -6.5023]\n",
    "# [0.966, 0.966, 0.9661, 0.9661, 0.966, 0.9661, 0.9658, 0.9644, 0.9331]\n",
    "\n",
    "# Lambda Range : [0.001,0.003,0.006,0.009,0.01,0.05,0.10,0.50,1.0,1.5,10.0,15.0,100,150,1000,1500,10000,15000]\n",
    "# [-6.9078, -5.8091, -5.116, -4.7105, -4.6052, -2.9957, -2.3026, -0.6931, 0.0, 0.4055, 2.3026, 2.7081, 4.6052, 5.0106, 6.9078, 7.3132, 9.2103, 9.6158]\n",
    "# [0.895, 0.9565, 0.963, 0.9634, 0.9633, 0.9658, 0.9662, 0.9659, 0.966, 0.966, 0.966, 0.966, 0.966, 0.966, 0.966, 0.966, 0.966, 0.966]\n",
    "\n"
   ]
  },
  {
   "cell_type": "code",
   "execution_count": 39,
   "metadata": {},
   "outputs": [
    {
     "data": {
      "text/plain": [
       "1.0"
      ]
     },
     "execution_count": 39,
     "metadata": {},
     "output_type": "execute_result"
    }
   ],
   "source": [
    "np.exp(0)"
   ]
  },
  {
   "cell_type": "code",
   "execution_count": 49,
   "metadata": {},
   "outputs": [
    {
     "name": "stdout",
     "output_type": "stream",
     "text": [
      "Trainingset      X: (60000, 50)\n",
      "CVset            X: (20000, 50)\n",
      "Testset          X: (20000, 50)\n",
      "Trainingset      Y: (60000,)\n",
      "CVset            Y: (20000,)\n",
      "Testset          Y: (20000,)\n"
     ]
    }
   ],
   "source": [
    "# Print the shape of the Input features X and class label Y for training and test set.\n",
    "print(\"Trainingset      X: {}\".format(X_train_stdzd.shape))\n",
    "print(\"CVset            X: {}\".format(X_cv_stdzd.shape))\n",
    "print(\"Testset          X: {}\".format(X_test_stdzd.shape))\n",
    "\n",
    "print(\"Trainingset      Y: {}\".format(Y_train.shape))\n",
    "print(\"CVset            Y: {}\".format(Y_cv.shape))\n",
    "print(\"Testset          Y: {}\".format(Y_test.shape))"
   ]
  },
  {
   "cell_type": "markdown",
   "metadata": {},
   "source": [
    "#### Error plots for varying combination of lambda ranges."
   ]
  },
  {
   "cell_type": "markdown",
   "metadata": {},
   "source": [
    "#### Lambda range : 0 to 15000"
   ]
  },
  {
   "cell_type": "code",
   "execution_count": 10,
   "metadata": {},
   "outputs": [
    {
     "data": {
      "image/png": "[encoded data removed]",
      "text/plain": [
       "<IPython.core.display.Image object>"
      ]
     },
     "execution_count": 10,
     "metadata": {},
     "output_type": "execute_result"
    }
   ],
   "source": [
    "Image(filename='D:\\Plot\\Plot_CVPrecision_vs_Lambda_0_15000_AvgW2V_L1Reg.png')"
   ]
  },
  {
   "cell_type": "markdown",
   "metadata": {},
   "source": [
    "#### Observations :\n",
    "    We observe, the curve reaches a maximum value at lambda ~= 1.0 .\n",
    "    Here lambda ranges from 0 to 15000."
   ]
  },
  {
   "cell_type": "code",
   "execution_count": null,
   "metadata": {},
   "outputs": [],
   "source": []
  },
  {
   "cell_type": "markdown",
   "metadata": {},
   "source": [
    "#### Lambda Range : 0 to 1500"
   ]
  },
  {
   "cell_type": "code",
   "execution_count": 11,
   "metadata": {},
   "outputs": [
    {
     "data": {
      "image/png": "[encoded data removed]",
      "text/plain": [
       "<IPython.core.display.Image object>"
      ]
     },
     "execution_count": 11,
     "metadata": {},
     "output_type": "execute_result"
    }
   ],
   "source": [
    "Image(filename='D:\\Plot\\Plot_CVPrecision_vs_Lambda_0_1500_AvgW2V_L1Reg.png')"
   ]
  },
  {
   "cell_type": "markdown",
   "metadata": {},
   "source": [
    "#### Observations :\n",
    "    We observe, the curve reached maximum when lambda = 1.50 .\n",
    "    Here lambda ranges from 0 to 1500."
   ]
  },
  {
   "cell_type": "code",
   "execution_count": null,
   "metadata": {},
   "outputs": [],
   "source": []
  },
  {
   "cell_type": "markdown",
   "metadata": {},
   "source": [
    "#### Lambda range : 0 to 1.50 "
   ]
  },
  {
   "cell_type": "code",
   "execution_count": 12,
   "metadata": {},
   "outputs": [
    {
     "data": {
      "image/png": "[encoded data removed]",
      "text/plain": [
       "<IPython.core.display.Image object>"
      ]
     },
     "execution_count": 12,
     "metadata": {},
     "output_type": "execute_result"
    }
   ],
   "source": [
    "Image(filename='D:\\Plot\\Plot_CVPrecision_vs_Lambda_0_1dot5_AvgW2V_L1Reg.png')"
   ]
  },
  {
   "cell_type": "markdown",
   "metadata": {},
   "source": [
    "#### Observations :\n",
    "    The cross-validation precision is maximum when lambda ~= 0.15 .\n",
    "    Here lambda ranges from 0 to 1.50."
   ]
  },
  {
   "cell_type": "markdown",
   "metadata": {},
   "source": [
    "#### Hyper-parameter Choice : \n",
    "      Based on the CV plots for varying combination of lambda ranges,lambda = 1.5, when lambda ranges between 0 and 1500 is the best choice."
   ]
  },
  {
   "cell_type": "code",
   "execution_count": null,
   "metadata": {},
   "outputs": [],
   "source": []
  },
  {
   "cell_type": "markdown",
   "metadata": {},
   "source": [
    "#### Fit the Logistic Regression model in Word2Vec case in the test set and compute the error metrics."
   ]
  },
  {
   "cell_type": "code",
   "execution_count": 50,
   "metadata": {},
   "outputs": [
    {
     "name": "stdout",
     "output_type": "stream",
     "text": [
      "Starttime : 2018-11-30 17:48:44.757160\n",
      "Endtime   : 2018-11-30 17:48:46.657421\n"
     ]
    }
   ],
   "source": [
    "# ============================== LR with lambda = optimal lambda ===============================================\n",
    "\n",
    "# Set the start time of the current cell run.\n",
    "starttime_lr_w2v = datetime.datetime.now()\n",
    "\n",
    "# instantiate the Logistic Regression model with lambda = 1.50 based on the above error plots .\n",
    "lr_optimal = LogisticRegression(penalty='l1',            # use L1 regularizer.\n",
    "                                C=(1.50),                # use Inverse of Lambda.\n",
    "                                class_weight='balanced', # uses the values of y to automatically adjust\n",
    "                                                         # weights in the input \n",
    "                                                         # data, since we have class imbalance.\n",
    "                                solver='saga')           # solver = 'saga' because of high dimension and\n",
    "                                                         # L1 regularizer.\n",
    "\n",
    "lr_optimal.fit(X_train_stdzd, Y_train)           # fitting the Logistic Regression model.\n",
    "Y_pred_test = lr_optimal.predict(X_test_stdzd)   # predict the response from the Logistic Regression\n",
    "                                                 # model.\n",
    "\n",
    "# Set the end time of the current cell run.\n",
    "endtime_lr_w2v = datetime.datetime.now()\n",
    "\n",
    "# Print the cell run duration.\n",
    "print(\"Starttime : {}\".format(starttime_lr_w2v))\n",
    "print(\"Endtime   : {}\".format(endtime_lr_w2v))"
   ]
  },
  {
   "cell_type": "markdown",
   "metadata": {},
   "source": [
    "#### Plot the classifier performance metrics."
   ]
  },
  {
   "cell_type": "code",
   "execution_count": 51,
   "metadata": {},
   "outputs": [
    {
     "data": {
      "image/png": "[encoded data removed]",
      "text/plain": [
       "<matplotlib.figure.Figure at 0x216e0cfd978>"
      ]
     },
     "metadata": {},
     "output_type": "display_data"
    }
   ],
   "source": [
    "# evaluate the model and report the metrics.\n",
    "from sklearn.metrics import confusion_matrix\n",
    "conf_mat = confusion_matrix(Y_test, Y_pred_test)\n",
    "fig, ax = plt.subplots(figsize=(5,5))\n",
    "sns.heatmap(conf_mat, annot=True, fmt='d'\n",
    "            ,xticklabels=['negative','positive'], yticklabels=['negative','positive'])\n",
    "plt.title('Confusion Matrix : (Vectorizer = Word2Vec)')\n",
    "plt.ylabel('Actual')\n",
    "plt.xlabel('Predicted')\n",
    "plt.show()"
   ]
  },
  {
   "cell_type": "code",
   "execution_count": 52,
   "metadata": {},
   "outputs": [
    {
     "name": "stdout",
     "output_type": "stream",
     "text": [
      "1    16442\n",
      "0     3558\n",
      "Name: Comment, dtype: int64\n"
     ]
    }
   ],
   "source": [
    "#Class composition in the testset.\n",
    "dfYTest = pd.DataFrame(list(Y_test),columns=['Comment'])\n",
    "#print(list(Y_test))\n",
    "print(dfYTest[\"Comment\"].value_counts())"
   ]
  },
  {
   "cell_type": "code",
   "execution_count": 53,
   "metadata": {
    "scrolled": true
   },
   "outputs": [
    {
     "name": "stdout",
     "output_type": "stream",
     "text": [
      "Performance Metrics :\n",
      "+------------------------+--------------------+--------------------+\n",
      "| Text-VectorizationType | Performance Metric | Value              |\n",
      "+------------------------+--------------------+--------------------+\n",
      "|        Word2Vec        |      Accuracy      | 0.8547             |\n",
      "|           -            |     Precision      | 0.9660515080567414 |\n",
      "|           -            |       Recall       | 0.8532416980902566 |\n",
      "|           -            |      F1 Score      | 0.906149076346725  |\n",
      "|           -            |  ConfusionMatrix   | [[ 3065   493]     |\n",
      "|                        |                    |  [ 2413 14029]]    |\n",
      "|       ----------       |    -----------     | ----------         |\n",
      "+------------------------+--------------------+--------------------+\n"
     ]
    }
   ],
   "source": [
    "# Load the classification metrics\n",
    "from sklearn.metrics import accuracy_score\n",
    "from sklearn.metrics import precision_score\n",
    "from sklearn.metrics import recall_score\n",
    "from sklearn.metrics import f1_score\n",
    "# Load the prettytable\n",
    "from prettytable import PrettyTable\n",
    "\n",
    "# Instantiate the prettytable module.\n",
    "x = PrettyTable()\n",
    "# Set the column names for the table.\n",
    "x.field_names = [\"Text-VectorizationType\",\"Performance Metric\", \"Value\"]\n",
    "\n",
    "# Add the classification metrics to the table.\n",
    "x.add_row(['Word2Vec','Accuracy',accuracy_score(Y_test,Y_pred_test)])\n",
    "x.add_row(['-','Precision',precision_score(Y_test,Y_pred_test)])\n",
    "x.add_row(['-','Recall',recall_score(Y_test,Y_pred_test)])\n",
    "x.add_row(['-','F1 Score',f1_score(Y_test,Y_pred_test)])\n",
    "x.add_row(['-','ConfusionMatrix',confusion_matrix(Y_test, Y_pred_test)])\n",
    "x.add_row(['----------','-----------','----------'])\n",
    "\n",
    "# Add the classification metrics to the final summary table.\n",
    "summaryTable.add_row(['Word2Vec','1.50','Accuracy',accuracy_score(Y_test,Y_pred_test)])\n",
    "summaryTable.add_row(['-','1.50','Precision',precision_score(Y_test,Y_pred_test)])\n",
    "summaryTable.add_row(['-','1.50','Recall',recall_score(Y_test,Y_pred_test)])\n",
    "summaryTable.add_row(['-','1.50','F1 Score',f1_score(Y_test,Y_pred_test)])\n",
    "summaryTable.add_row(['-','1.50','ConfusionMatrix',confusion_matrix(Y_test, Y_pred_test)])\n",
    "summaryTable.add_row(['----------','-----------','----------','----------'])\n",
    "\n",
    "\n",
    "# Apply data alignment.\n",
    "x.align[\"Value\"] = \"l\"\n",
    "\n",
    "# Print the table.\n",
    "print(\"Performance Metrics :\")\n",
    "print(x)"
   ]
  },
  {
   "cell_type": "code",
   "execution_count": null,
   "metadata": {},
   "outputs": [],
   "source": []
  },
  {
   "cell_type": "markdown",
   "metadata": {},
   "source": [
    "#### CONCLUSION :\n",
    "\n",
    "#### Performance Metrics "
   ]
  },
  {
   "cell_type": "code",
   "execution_count": 13,
   "metadata": {},
   "outputs": [
    {
     "data": {
      "image/png": "[encoded data removed]",
      "text/plain": [
       "<IPython.core.display.Image object>"
      ]
     },
     "execution_count": 13,
     "metadata": {},
     "output_type": "execute_result"
    }
   ],
   "source": [
    "Image(filename='D:\\Plot\\ConfusionMatrix_L1Regularizer_AvgW2V.PNG')"
   ]
  },
  {
   "cell_type": "markdown",
   "metadata": {},
   "source": [
    "#### We see good precision score for the LR model with L1 Regularizer. The FalsePositive values is acceptable while FalseNegative is a concern. The text review comment has been enriched by adding contents of summary column from the Amazon Food Reviews dataset."
   ]
  },
  {
   "cell_type": "code",
   "execution_count": null,
   "metadata": {},
   "outputs": [],
   "source": []
  },
  {
   "cell_type": "markdown",
   "metadata": {},
   "source": [
    "### Vectorization Method : TermFrequency-InverseDocumentFrequency_ Weighted Word2Vector (TF-IDF W2V)"
   ]
  },
  {
   "cell_type": "markdown",
   "metadata": {},
   "source": [
    "#### Convert review text into numeric vectors using TF-IDF_WW2F"
   ]
  },
  {
   "cell_type": "code",
   "execution_count": 54,
   "metadata": {},
   "outputs": [
    {
     "name": "stdout",
     "output_type": "stream",
     "text": [
      "the type of count vectorizer  <class 'scipy.sparse.csr.csr_matrix'>\n",
      "the shape of out text TFIDF vectorizer  (60000, 901762)\n",
      "the number of unique words including both unigrams and bigrams  901762\n"
     ]
    }
   ],
   "source": [
    "#TF-IDF\n",
    "# Apply TF-IDF vectorization only on the trainingset.\n",
    "tf_idf_vect = TfidfVectorizer(ngram_range=(1,2))\n",
    "\n",
    "#Train you tf-idf vectorizer on the train data.\n",
    "final_tf_idf = tf_idf_vect.fit_transform(X_train.values.astype('U'))\n",
    "\n",
    "#Print the details.\n",
    "print(\"the type of count vectorizer \",type(final_tf_idf))\n",
    "print(\"the shape of out text TFIDF vectorizer \",final_tf_idf.get_shape())\n",
    "print(\"the number of unique words including both unigrams and bigrams \", final_tf_idf.get_shape()[1])"
   ]
  },
  {
   "cell_type": "markdown",
   "metadata": {},
   "source": [
    "#### Use the TF-IDF vectorizer trained in the preceding step to convert cross-validation and test set to vectors."
   ]
  },
  {
   "cell_type": "code",
   "execution_count": 55,
   "metadata": {},
   "outputs": [
    {
     "name": "stdout",
     "output_type": "stream",
     "text": [
      "the type of count vectorizer  <class 'scipy.sparse.csr.csr_matrix'>\n",
      "the shape of out text TF-IDF vectorizer  (20000, 901762)\n",
      "the number of unique words  901762\n"
     ]
    }
   ],
   "source": [
    "#use the same countvectorizer on the cross-validation set.\n",
    "final_tf_idf_cvset = tf_idf_vect.transform(X_cv.values)\n",
    "\n",
    "#Print the details.\n",
    "print(\"the type of count vectorizer \",type(final_tf_idf_cvset))\n",
    "print(\"the shape of out text TF-IDF vectorizer \",final_tf_idf_cvset.get_shape())\n",
    "print(\"the number of unique words \", final_tf_idf_cvset.get_shape()[1])"
   ]
  },
  {
   "cell_type": "code",
   "execution_count": 56,
   "metadata": {},
   "outputs": [
    {
     "name": "stdout",
     "output_type": "stream",
     "text": [
      "the type of count vectorizer  <class 'scipy.sparse.csr.csr_matrix'>\n",
      "the shape of out text TF-IDF vectorizer  (20000, 901762)\n",
      "the number of unique words  901762\n"
     ]
    }
   ],
   "source": [
    "#use the same countvectorizer on the test set.\n",
    "final_tf_idf_testset = tf_idf_vect.transform(X_test.values)\n",
    "\n",
    "#Print the details.\n",
    "print(\"the type of count vectorizer \",type(final_tf_idf_testset))\n",
    "print(\"the shape of out text TF-IDF vectorizer \",final_tf_idf_testset.get_shape())\n",
    "print(\"the number of unique words \", final_tf_idf_testset.get_shape()[1])"
   ]
  },
  {
   "cell_type": "code",
   "execution_count": 57,
   "metadata": {},
   "outputs": [],
   "source": [
    "# we are converting a dictionary with word as a key, and the idf as a value\n",
    "dictionary = dict(zip(tf_idf_vect.get_feature_names(), list(tf_idf_vect.idf_)))"
   ]
  },
  {
   "cell_type": "markdown",
   "metadata": {},
   "source": [
    "#### Build the list of sentences for the training set."
   ]
  },
  {
   "cell_type": "code",
   "execution_count": 58,
   "metadata": {},
   "outputs": [],
   "source": [
    "# Build the list of sentences from the training set.\n",
    "list_of_sent=[]                           # List to store the sentences from the Review comments.\n",
    "for sent in X_train.values.astype('U'):   # Loop through the Review comments, one at a time.\n",
    "    list_of_sent.append(sent.split())     # Split the Review comments into sentences and store \n",
    "                                          # them in the List."
   ]
  },
  {
   "cell_type": "markdown",
   "metadata": {},
   "source": [
    "#### Build the list of sentences for the cross-validation set."
   ]
  },
  {
   "cell_type": "code",
   "execution_count": 59,
   "metadata": {},
   "outputs": [],
   "source": [
    "# Build the list of sentences from the cross-validation set.\n",
    "list_of_sent_cv=[]                          # List to store the sentences from the Review comments.\n",
    "for sent in X_cv.values:                    # Loop through the Review comments, one at a time.\n",
    "    list_of_sent_cv.append(sent.split())    # Split the Review comments into sentences and store them\n",
    "                                            # in the List."
   ]
  },
  {
   "cell_type": "markdown",
   "metadata": {},
   "source": [
    "#### Build the list of sentences for the test set."
   ]
  },
  {
   "cell_type": "code",
   "execution_count": 60,
   "metadata": {},
   "outputs": [],
   "source": [
    "# Build the list of sentences from the test set.\n",
    "list_of_sent_test=[]                        # List to store the sentences from the Review comments.\n",
    "for sent in X_test.values:                  # Loop through the Review comments, one at a time.\n",
    "    list_of_sent_test.append(sent.split())  # Split the Review comments into sentences and store \n",
    "                                            # them in the List."
   ]
  },
  {
   "cell_type": "markdown",
   "metadata": {},
   "source": [
    "#### Train the Word2Vec model on the training set alone."
   ]
  },
  {
   "cell_type": "code",
   "execution_count": 61,
   "metadata": {},
   "outputs": [
    {
     "name": "stdout",
     "output_type": "stream",
     "text": [
      "number of words that occured minimum 5 times  10247\n",
      "sample words  ['big', 'lover', 'fig', 'jam', 'uniqu', 'flavor', 'kind', 'mix', 'light', 'dark', 'mission', 'must', 'tri', 'awsom', 'great', 'product', 'good', 'price', 'definit', 'order', 'use', 'bottl', 'empti', 'excel', 'expect', 'box', 'full', 'fortun', 'cooki', 'like', 'one', 'nonetheless', 'got', 'small', 'tast', 'weird', 'okay', 'best', 'ever', 'review', 'amazon', 'check', 'label', 'contain', 'sure', 'enough', 'propylen', 'glycol', 'top', 'ingredi']\n"
     ]
    }
   ],
   "source": [
    "# min_count = 5 considers only words that occured atleast 5 times\n",
    "# Word2Vec Syntax : Word2Vec(list,word_repeat_count,dimension_of_each_word_vector,Number_of_Processor_cores)\n",
    "\n",
    "# Instantiate the Word2Vec vectorizer.\n",
    "w2v_model=Word2Vec(list_of_sent,min_count=5,size=50, workers=4)\n",
    "# Get the vocabulary. \n",
    "w2v_words = list(w2v_model.wv.vocab)\n",
    "# Print the details.\n",
    "print(\"number of words that occured minimum 5 times \",len(w2v_words))\n",
    "print(\"sample words \", w2v_words[0:50])"
   ]
  },
  {
   "cell_type": "markdown",
   "metadata": {},
   "source": [
    "#### Train the TF-IDF Weighted Word2Vec on the training set."
   ]
  },
  {
   "cell_type": "code",
   "execution_count": 62,
   "metadata": {},
   "outputs": [
    {
     "name": "stderr",
     "output_type": "stream",
     "text": [
      "100%|██████████████████████████████████████████████████████████████████████████████████████████████████████████████████████████████████████████████████████████████████████| 60000/60000 [01:07<00:00, 885.76it/s]\n"
     ]
    }
   ],
   "source": [
    "# TF-IDF weighted Word2Vec\n",
    "tfidf_feat = tf_idf_vect.get_feature_names() # tfidf words/col-names\n",
    "# final_tf_idf is the sparse matrix with row= sentence, col=word and cell_val = tfidf\n",
    "\n",
    "tfidf_sent_vectors = [];              # the tfidf-w2v for each sentence/review is stored in this list\n",
    "row=0;\n",
    "for sent in tqdm(list_of_sent):       # for each review/sentence \n",
    "    sent_vec = np.zeros(50)           # as word vectors are of zero length\n",
    "    weight_sum =0;                    # num of words with a valid vector in the sentence/review\n",
    "    for word in sent:                 # for each word in a review/sentence\n",
    "        if word in w2v_words:\n",
    "            vec = w2v_model.wv[word]  # Vector representation of the word.\n",
    "            \n",
    "            # dictionary[word] = idf value of word in whole courpus\n",
    "            # sent.count(word) = tf values of word in this review\n",
    "            tfidf_avgw2v = dictionary[word]*(sent.count(word)/len(sent))   # Compute the weights for\n",
    "                                                                           # Weighted Average.\n",
    "            \n",
    "            # Avg. Word2Vec = ((W2V(v1)*w1)+(W2V(v2)*w2)+(W2V(v3)*w3)+...... +(W2V(v364171)*w364171) / \n",
    "            #                  Sum(w1,w2,..w364171)            \n",
    "            sent_vec += (vec * tfidf_avgw2v)  # Compute the numerator part of the above formula.\n",
    "            weight_sum += tfidf_avgw2v        # Compute the denominator part of the above formula.\n",
    "            \n",
    "    if weight_sum != 0:\n",
    "        sent_vec /= weight_sum                # Numerator/Denominator to get the Weighted Average.\n",
    "    tfidf_sent_vectors.append(sent_vec)       # Add this to the List.\n",
    "    row += 1"
   ]
  },
  {
   "cell_type": "markdown",
   "metadata": {},
   "source": [
    "#### Use the TF-IDF Weigthed Word2Vec model trained on training set to Cross-Validation set."
   ]
  },
  {
   "cell_type": "code",
   "execution_count": 63,
   "metadata": {},
   "outputs": [
    {
     "name": "stderr",
     "output_type": "stream",
     "text": [
      "100%|██████████████████████████████████████████████████████████████████████████████████████████████████████████████████████████████████████████████████████████████████████| 20000/20000 [00:25<00:00, 795.88it/s]\n"
     ]
    }
   ],
   "source": [
    "# TF-IDF weighted Word2Vec\n",
    "tfidf_feat = tf_idf_vect.get_feature_names() # tfidf words/col-names\n",
    "# final_tf_idf is the sparse matrix with row= sentence, col=word and cell_val = tfidf\n",
    "\n",
    "tfidf_sent_vectors_cv = [];              # the tfidf-w2v for each sentence/review is stored in this list\n",
    "row=0;\n",
    "for sent in tqdm(list_of_sent_cv):    # for each review/sentence \n",
    "    sent_vec = np.zeros(50)           # as word vectors are of zero length\n",
    "    weight_sum =0;                    # num of words with a valid vector in the sentence/review\n",
    "    for word in sent:                 # for each word in a review/sentence\n",
    "        if word in w2v_words:\n",
    "            vec = w2v_model.wv[word]  # Vector representation of the word.\n",
    "            \n",
    "            # dictionary[word] = idf value of word in whole courpus\n",
    "            # sent.count(word) = tf values of word in this review\n",
    "            tfidf_avgw2v = dictionary[word]*(sent.count(word)/len(sent))   # Compute the weights for\n",
    "                                                                           # Weighted Average.\n",
    "            \n",
    "            # Avg. Word2Vec = ((W2V(v1)*w1)+(W2V(v2)*w2)+(W2V(v3)*w3)+...... +(W2V(v364171)*w364171) /\n",
    "            #                  Sum(w1,w2,..w364171)            \n",
    "            sent_vec += (vec * tfidf_avgw2v)  # Compute the numerator part of the above formula.\n",
    "            weight_sum += tfidf_avgw2v        # Compute the denominator part of the above formula.\n",
    "            \n",
    "    if weight_sum != 0:\n",
    "        sent_vec /= weight_sum                # Numerator/Denominator to get the Weighted Average.\n",
    "    tfidf_sent_vectors_cv.append(sent_vec)    # Add this to the List.\n",
    "    row += 1"
   ]
  },
  {
   "cell_type": "markdown",
   "metadata": {},
   "source": [
    "#### Use the TF-IDF Weigthed Word2Vec model trained on training set to Test set."
   ]
  },
  {
   "cell_type": "code",
   "execution_count": 64,
   "metadata": {},
   "outputs": [
    {
     "name": "stderr",
     "output_type": "stream",
     "text": [
      "100%|██████████████████████████████████████████████████████████████████████████████████████████████████████████████████████████████████████████████████████████████████████| 20000/20000 [00:24<00:00, 803.56it/s]\n"
     ]
    }
   ],
   "source": [
    "# TF-IDF weighted Word2Vec\n",
    "tfidf_feat = tf_idf_vect.get_feature_names() # tfidf words/col-names\n",
    "# final_tf_idf is the sparse matrix with row= sentence, col=word and cell_val = tfidf\n",
    "\n",
    "tfidf_sent_vectors_test = [];              # the tfidf-w2v for each sentence/review is stored in this list\n",
    "row=0;\n",
    "for sent in tqdm(list_of_sent_test):  # for each review/sentence \n",
    "    sent_vec = np.zeros(50)           # as word vectors are of zero length\n",
    "    weight_sum =0;                    # num of words with a valid vector in the sentence/review\n",
    "    for word in sent:                 # for each word in a review/sentence\n",
    "        if word in w2v_words:\n",
    "            vec = w2v_model.wv[word]  # Vector representation of the word.\n",
    "            \n",
    "            # dictionary[word] = idf value of word in whole courpus\n",
    "            # sent.count(word) = tf values of word in this review\n",
    "            tfidf_avgw2v = dictionary[word]*(sent.count(word)/len(sent))   # Compute the weights for\n",
    "                                                                           # Weighted Average.\n",
    "            \n",
    "            # Avg. Word2Vec = ((W2V(v1)*w1)+(W2V(v2)*w2)+(W2V(v3)*w3)+...... +(W2V(v364171)*w364171) / \n",
    "            #                   Sum(w1,w2,..w364171)            \n",
    "            sent_vec += (vec * tfidf_avgw2v)  # Compute the numerator part of the above formula.\n",
    "            weight_sum += tfidf_avgw2v        # Compute the denominator part of the above formula.\n",
    "            \n",
    "    if weight_sum != 0:\n",
    "        sent_vec /= weight_sum                # Numerator/Denominator to get the Weighted Average.\n",
    "    tfidf_sent_vectors_test.append(sent_vec)  # Add this to the List.\n",
    "    row += 1"
   ]
  },
  {
   "cell_type": "markdown",
   "metadata": {},
   "source": [
    "#### Standardize / Normalize the data"
   ]
  },
  {
   "cell_type": "code",
   "execution_count": 65,
   "metadata": {},
   "outputs": [],
   "source": [
    "# Data-preprocessing: Normalizing the data\n",
    "from sklearn.preprocessing import Normalizer\n",
    "\n",
    "normalizer = Normalizer()\n",
    "\n",
    "#Standardize on the train data.\n",
    "X_train_stdzd = normalizer.fit_transform(tfidf_sent_vectors)\n",
    "\n",
    "#Standardize the cv and test data.\n",
    "X_cv_stdzd    = normalizer.transform(tfidf_sent_vectors_cv)    #use the same Normalizer on the cv set.\n",
    "X_test_stdzd  = normalizer.transform(tfidf_sent_vectors_test)  #use the same Normalizer on the test set."
   ]
  },
  {
   "cell_type": "markdown",
   "metadata": {},
   "source": [
    "#### Hyper-Parameter Tuning : Using the cross-validation dataset to calculate the optimal 'lambda' of LogisticRegression in Avg-Word2Vec case."
   ]
  },
  {
   "cell_type": "code",
   "execution_count": 70,
   "metadata": {},
   "outputs": [
    {
     "name": "stdout",
     "output_type": "stream",
     "text": [
      "[5.0106, 2.7081, 0.4055, -1.8971, -4.1997, -6.5023, -8.8049]\n",
      "[0.9521, 0.9521, 0.952, 0.9519, 0.9505, 0.9204, 0.0]\n"
     ]
    },
    {
     "data": {
      "image/png": "[encoded data removed]",
      "text/plain": [
       "<matplotlib.figure.Figure at 0x1e5eedeef98>"
      ]
     },
     "metadata": {},
     "output_type": "display_data"
    },
    {
     "name": "stdout",
     "output_type": "stream",
     "text": [
      "Starttime is : 2018-11-30 11:47:20.418578\n",
      "Endtime   is : 2018-11-30 11:47:33.450845\n"
     ]
    }
   ],
   "source": [
    "# Import the LogisticRegression and precision modules.\n",
    "from sklearn.linear_model import LogisticRegression\n",
    "from sklearn.metrics import precision_score\n",
    "\n",
    "# Set the start time of the current cell run.\n",
    "starttime_lr_avgw2v = datetime.datetime.now()\n",
    "\n",
    "# Set the range for the hyper-parameters.\n",
    "# We Know from theory:\n",
    "#          when lambda = 0, then model overfits\n",
    "#          when lambda tends to infinity , then model underfits\n",
    "\n",
    "# Experiment with different combination of C ranges.\n",
    "# Here C = Inverse(Lambda) where lambda is the hyper-parameter of the LR model\n",
    "C = [150,15,1.5,0.15,0.015,0.0015,0.00015]\n",
    "#C = [1500,150,100,50,25,12,6,3,2,1,0.1,0.01,0.001]\n",
    "#C = [10000,1000,100,10,1,0.1,0.01,0.001]\n",
    "#C = [1000000,100000,10000,1000,100,10,1,0.1,0.01,0.001,0.0001,0.00001]\n",
    "\n",
    "\n",
    "# Use the cross-validation dataset to determine the best hyper-parameter C.\n",
    "# Loop through various values of C.\n",
    "plot_X = []\n",
    "plot_Y = []\n",
    "for i in C:\n",
    "    # Iterate through various values of C = inverse(lambda),\n",
    "    lr_optimal = LogisticRegression(penalty='l1',            # use L1 regularizer.\n",
    "                                    C=(i),                   # use Inverse of Lambda.\n",
    "                                    class_weight='balanced', # uses the values of y to automatically adjust\n",
    "                                                             # weights in the input \n",
    "                                                             # data, since we have class imbalance.\n",
    "                                    solver='saga')           # solver = 'saga' because of high dimension and\n",
    "                                                             # L1 regularizer.\n",
    "    \n",
    "    lr_optimal.fit(X_train_stdzd, Y_train)       # fitting the Logistic Regression model on the training set.\n",
    "    Y_pred = lr_optimal.predict(X_cv_stdzd)      # predict the response from the Logistic Regression model on\n",
    "                                                 # the cv set.\n",
    "    plot_X.append(round(np.log(i),4))                         # plot log(InverseOfLambda) \"C\" in the x-axis.\n",
    "    plot_Y.append(round(precision_score(Y_cv,Y_pred),4))      # plot precision score in the y-axis.\n",
    "\n",
    "#print X,Y\n",
    "print(plot_X)\n",
    "print(plot_Y)\n",
    "\n",
    "# Plot X-axis = log(C),Y-axis = precision, to determine the best hyper-parameter.\n",
    "plt.plot(plot_X,plot_Y)\n",
    "plt.title(\"Plot of CrossValidationPrecision vs log(Inverse of lambda) .\")  # Set the title of the plot.\n",
    "plt.xlabel(\"log(Inverse of lambda)\")                                       # Set the x label of the plot.\n",
    "plt.ylabel(\"CrossValidation Precision\")                                    # Set the y label of the plot.\n",
    "plt.show()                                                                 # render the plot.\n",
    "\n",
    "# Set the end time of the current cell run.\n",
    "endtime_lr_avgw2v = datetime.datetime.now()\n",
    "\n",
    "# Print the cell run duration.\n",
    "print(\"Starttime is : {}\".format(starttime_lr_avgw2v))\n",
    "print(\"Endtime   is : {}\".format(endtime_lr_avgw2v))"
   ]
  },
  {
   "cell_type": "code",
   "execution_count": null,
   "metadata": {},
   "outputs": [],
   "source": [
    "# Lambda Range : [1000000,100000,10000,1000,100,10,1,0.1,0.01,0.001,0.0001,0.00001]\n",
    "# [13.8155, 11.5129, 9.2103, 6.9078, 4.6052, 2.3026, 0.0, -2.3026, -4.6052, -6.9078, -9.2103, -11.5129]\n",
    "# [0.9521, 0.952, 0.9521, 0.9521, 0.9521, 0.952, 0.9519, 0.952, 0.95, 0.8847, 0.8238, 0.8238]\n",
    "\n",
    "# Lambda Range : [10000,1000,100,10,1,0.1,0.01,0.001]\n",
    "# [9.2103, 6.9078, 4.6052, 2.3026, 0.0, -2.3026, -4.6052, -6.9078]\n",
    "# [0.9521, 0.9521, 0.9521, 0.952, 0.9519, 0.952, 0.95, 0.8844]\n",
    "\n",
    "# Lambda Range : [1500,150,100,50,25,12,6,3,2,1,0.1,0.01,0.001]\n",
    "# [7.3132, 5.0106, 4.6052, 3.912, 3.2189, 2.4849, 1.7918, 1.0986, 0.6931, 0.0, -2.3026, -4.6052, -6.9078]\n",
    "# [0.9521, 0.9521, 0.9521, 0.9521, 0.9521, 0.952, 0.952, 0.952, 0.952, 0.9519, 0.952, 0.95, 0.8847]\n",
    "\n",
    "# Lambda Range : [150,15,1.5,0.15,0.015,0.0015,0.00015]\n",
    "# [5.0106, 2.7081, 0.4055, -1.8971, -4.1997, -6.5023, -8.8049]\n",
    "# [0.9521, 0.9521, 0.952, 0.9519, 0.9505, 0.9204, 0.0]\n"
   ]
  },
  {
   "cell_type": "code",
   "execution_count": null,
   "metadata": {},
   "outputs": [],
   "source": []
  },
  {
   "cell_type": "code",
   "execution_count": 66,
   "metadata": {},
   "outputs": [
    {
     "name": "stdout",
     "output_type": "stream",
     "text": [
      "Trainingset      X: (60000, 50)\n",
      "CVset            X: (20000, 50)\n",
      "Testset          X: (20000, 50)\n",
      "Trainingset      Y: (60000,)\n",
      "CVset            Y: (20000,)\n",
      "Testset          Y: (20000,)\n"
     ]
    }
   ],
   "source": [
    "# Print the shape of the Input features X and class label Y for training and test set.\n",
    "print(\"Trainingset      X: {}\".format(X_train_stdzd.shape))\n",
    "print(\"CVset            X: {}\".format(X_cv_stdzd.shape))\n",
    "print(\"Testset          X: {}\".format(X_test_stdzd.shape))\n",
    "\n",
    "print(\"Trainingset      Y: {}\".format(Y_train.shape))\n",
    "print(\"CVset            Y: {}\".format(Y_cv.shape))\n",
    "print(\"Testset          Y: {}\".format(Y_test.shape))"
   ]
  },
  {
   "cell_type": "markdown",
   "metadata": {},
   "source": [
    "#### Error plots for varying combination of lambda ranges."
   ]
  },
  {
   "cell_type": "markdown",
   "metadata": {},
   "source": [
    "#### Lambda range : 0 to 1000000"
   ]
  },
  {
   "cell_type": "code",
   "execution_count": 14,
   "metadata": {},
   "outputs": [
    {
     "data": {
      "image/png": "[encoded data removed]",
      "text/plain": [
       "<IPython.core.display.Image object>"
      ]
     },
     "execution_count": 14,
     "metadata": {},
     "output_type": "execute_result"
    }
   ],
   "source": [
    "Image(filename='D:\\Plot\\Plot_CVPrecision_vs_Lambda_0_1M_TFIDF_AvgW2V_L1Reg.png')"
   ]
  },
  {
   "cell_type": "markdown",
   "metadata": {},
   "source": [
    "#### Observations :\n",
    "    We observe, the curve reaches a maximum value at lambda ~= 0.10 .\n",
    "    Here lambda ranges from 0 to 1000000."
   ]
  },
  {
   "cell_type": "code",
   "execution_count": null,
   "metadata": {},
   "outputs": [],
   "source": []
  },
  {
   "cell_type": "markdown",
   "metadata": {},
   "source": [
    "#### Lambda Range : 0 to 10000"
   ]
  },
  {
   "cell_type": "code",
   "execution_count": 15,
   "metadata": {},
   "outputs": [
    {
     "data": {
      "image/png": "[encoded data removed]",
      "text/plain": [
       "<IPython.core.display.Image object>"
      ]
     },
     "execution_count": 15,
     "metadata": {},
     "output_type": "execute_result"
    }
   ],
   "source": [
    "Image(filename='D:\\Plot\\Plot_CVPrecision_vs_Lambda_0_10K_TFIDF_AvgW2V_L1Reg.png')"
   ]
  },
  {
   "cell_type": "markdown",
   "metadata": {},
   "source": [
    "#### Observations :\n",
    "    We observe, the curve reached maximum when lambda ~= 0.10 .\n",
    "    Here lambda ranges from 0 to 10000."
   ]
  },
  {
   "cell_type": "code",
   "execution_count": null,
   "metadata": {},
   "outputs": [],
   "source": []
  },
  {
   "cell_type": "markdown",
   "metadata": {},
   "source": [
    "#### Lambda range : 0 to 150"
   ]
  },
  {
   "cell_type": "code",
   "execution_count": 16,
   "metadata": {},
   "outputs": [
    {
     "data": {
      "image/png": "[encoded data removed]",
      "text/plain": [
       "<IPython.core.display.Image object>"
      ]
     },
     "execution_count": 16,
     "metadata": {},
     "output_type": "execute_result"
    }
   ],
   "source": [
    "Image(filename='D:\\Plot\\Plot_CVPrecision_vs_Lambda_0_150_TFIDF_AvgW2V_L1Reg.png')"
   ]
  },
  {
   "cell_type": "markdown",
   "metadata": {},
   "source": [
    "#### Observations :\n",
    "    The cross-validation precision is maximum when lambda ~= 0.15 .\n",
    "    Here lambda ranges from 0 to 150."
   ]
  },
  {
   "cell_type": "code",
   "execution_count": null,
   "metadata": {},
   "outputs": [],
   "source": []
  },
  {
   "cell_type": "markdown",
   "metadata": {},
   "source": [
    "#### Hyper-parameter Choice : \n",
    "      Based on the CV plots for varying combination of lambda ranges;lambda =0.15,when lambda ranges between 0 and 150 is the best choice."
   ]
  },
  {
   "cell_type": "code",
   "execution_count": null,
   "metadata": {},
   "outputs": [],
   "source": []
  },
  {
   "cell_type": "markdown",
   "metadata": {},
   "source": [
    "#### Fit the Logistic Regression model in Avg-Word2Vec case in the test set and compute the error metrics."
   ]
  },
  {
   "cell_type": "code",
   "execution_count": 67,
   "metadata": {},
   "outputs": [
    {
     "name": "stdout",
     "output_type": "stream",
     "text": [
      "Starttime : 2018-11-30 17:53:24.791556\n",
      "Endtime   : 2018-11-30 17:53:26.881278\n"
     ]
    }
   ],
   "source": [
    "# ============================== LR with lambda = optimal lambda ===============================================\n",
    "\n",
    "# Set the start time of the current cell run.\n",
    "starttime_lr_avgw2v = datetime.datetime.now()\n",
    "\n",
    "# instantiate the Logistic Regression model with lambda = 0.15 based on the above error plots .\n",
    "lr_optimal = LogisticRegression(penalty='l1',            # use L1 regularizer.\n",
    "                                C=(0.15),                # use Inverse of Lambda.\n",
    "                                class_weight='balanced', # uses the values of y to automatically adjust\n",
    "                                                         # weights in the input data.\n",
    "                                solver='saga')           # solver = 'saga' because of high dimension and\n",
    "                                                         # L1 regularizer.\n",
    "\n",
    "lr_optimal.fit(X_train_stdzd, Y_train)           # fitting the Logistic Regression model.\n",
    "Y_pred_test = lr_optimal.predict(X_test_stdzd)   # predict the response from the Logistic Regression model.\n",
    "\n",
    "# Set the end time of the current cell run.\n",
    "endtime_lr_avgw2v = datetime.datetime.now()\n",
    "\n",
    "# Print the cell run duration.\n",
    "print(\"Starttime : {}\".format(starttime_lr_avgw2v))\n",
    "print(\"Endtime   : {}\".format(endtime_lr_avgw2v))"
   ]
  },
  {
   "cell_type": "code",
   "execution_count": null,
   "metadata": {},
   "outputs": [],
   "source": []
  },
  {
   "cell_type": "markdown",
   "metadata": {},
   "source": [
    "#### Plot the classifier performance metrics."
   ]
  },
  {
   "cell_type": "code",
   "execution_count": 68,
   "metadata": {},
   "outputs": [
    {
     "data": {
      "image/png": "[encoded data removed]",
      "text/plain": [
       "<matplotlib.figure.Figure at 0x216adb9a1d0>"
      ]
     },
     "metadata": {},
     "output_type": "display_data"
    }
   ],
   "source": [
    "# evaluate the model and report the metrics.\n",
    "from sklearn.metrics import confusion_matrix\n",
    "conf_mat = confusion_matrix(Y_test, Y_pred_test)\n",
    "fig, ax = plt.subplots(figsize=(5,5))\n",
    "sns.heatmap(conf_mat, annot=True, fmt='d'\n",
    "            ,xticklabels=['negative','positive'], yticklabels=['negative','positive'])\n",
    "plt.title('Confusion Matrix : (Vectorizer = Avg-Word2Vec)')\n",
    "plt.ylabel('Actual')\n",
    "plt.xlabel('Predicted')\n",
    "plt.show()"
   ]
  },
  {
   "cell_type": "code",
   "execution_count": 69,
   "metadata": {},
   "outputs": [
    {
     "name": "stdout",
     "output_type": "stream",
     "text": [
      "1    16442\n",
      "0     3558\n",
      "Name: Comment, dtype: int64\n"
     ]
    }
   ],
   "source": [
    "#Class composition in the testset.\n",
    "dfYTest = pd.DataFrame(list(Y_test),columns=['Comment'])\n",
    "#print(list(Y_test))\n",
    "print(dfYTest[\"Comment\"].value_counts())"
   ]
  },
  {
   "cell_type": "code",
   "execution_count": 70,
   "metadata": {
    "scrolled": true
   },
   "outputs": [
    {
     "name": "stdout",
     "output_type": "stream",
     "text": [
      "Performance Metrics :\n",
      "+------------------------+--------------------+--------------------+\n",
      "| Text-VectorizationType | Performance Metric | Value              |\n",
      "+------------------------+--------------------+--------------------+\n",
      "|      Avg-Word2Vec      |      Accuracy      | 0.8219             |\n",
      "|           -            |     Precision      | 0.9535211267605633 |\n",
      "|           -            |       Recall       | 0.8235007906580708 |\n",
      "|           -            |      F1 Score      | 0.8837543241302787 |\n",
      "|           -            |  ConfusionMatrix   | [[ 2898   660]     |\n",
      "|                        |                    |  [ 2902 13540]]    |\n",
      "|       ----------       |    -----------     | ----------         |\n",
      "+------------------------+--------------------+--------------------+\n"
     ]
    }
   ],
   "source": [
    "# Load the classification metrics\n",
    "from sklearn.metrics import accuracy_score\n",
    "from sklearn.metrics import precision_score\n",
    "from sklearn.metrics import recall_score\n",
    "from sklearn.metrics import f1_score\n",
    "# Load the prettytable\n",
    "from prettytable import PrettyTable\n",
    "\n",
    "# Instantiate the prettytable module.\n",
    "x = PrettyTable()\n",
    "# Set the column names for the table.\n",
    "x.field_names = [\"Text-VectorizationType\",\"Performance Metric\", \"Value\"]\n",
    "\n",
    "# Add the classification metrics to the table.\n",
    "x.add_row(['Avg-Word2Vec','Accuracy',accuracy_score(Y_test,Y_pred_test)])\n",
    "x.add_row(['-','Precision',precision_score(Y_test,Y_pred_test)])\n",
    "x.add_row(['-','Recall',recall_score(Y_test,Y_pred_test)])\n",
    "x.add_row(['-','F1 Score',f1_score(Y_test,Y_pred_test)])\n",
    "x.add_row(['-','ConfusionMatrix',confusion_matrix(Y_test, Y_pred_test)])\n",
    "x.add_row(['----------','-----------','----------'])\n",
    "\n",
    "# Add the classification metrics to the final summary table.\n",
    "summaryTable.add_row(['Avg-Word2Vec','0.15','Accuracy',accuracy_score(Y_test,Y_pred_test)])\n",
    "summaryTable.add_row(['-','0.15','Precision',precision_score(Y_test,Y_pred_test)])\n",
    "summaryTable.add_row(['-','0.15','Recall',recall_score(Y_test,Y_pred_test)])\n",
    "summaryTable.add_row(['-','0.15','F1 Score',f1_score(Y_test,Y_pred_test)])\n",
    "summaryTable.add_row(['-','0.15','ConfusionMatrix',confusion_matrix(Y_test, Y_pred_test)])\n",
    "summaryTable.add_row(['----------','-----------','----------','----------'])\n",
    "\n",
    "\n",
    "# Apply data alignment.\n",
    "x.align[\"Value\"] = \"l\"\n",
    "\n",
    "# Print the table.\n",
    "print(\"Performance Metrics :\")\n",
    "print(x)"
   ]
  },
  {
   "cell_type": "code",
   "execution_count": null,
   "metadata": {},
   "outputs": [],
   "source": []
  },
  {
   "cell_type": "markdown",
   "metadata": {},
   "source": [
    "#### CONCLUSION :\n",
    "\n",
    "#### Performance Metrics "
   ]
  },
  {
   "cell_type": "code",
   "execution_count": 17,
   "metadata": {},
   "outputs": [
    {
     "data": {
      "image/png": "[encoded data removed]",
      "text/plain": [
       "<IPython.core.display.Image object>"
      ]
     },
     "execution_count": 17,
     "metadata": {},
     "output_type": "execute_result"
    }
   ],
   "source": [
    "Image(filename='D:\\Plot\\ConfusionMatrix_L1Regularizer_TFIDF_AVGW2V.PNG')"
   ]
  },
  {
   "cell_type": "markdown",
   "metadata": {},
   "source": [
    "#### We see good precision score for the LR model with L1 Regularizer. The FalsePositive values is acceptable while FalseNegative is a concern. The text review comment has been enriched by adding contents of summary column from the Amazon Food Reviews dataset."
   ]
  },
  {
   "cell_type": "code",
   "execution_count": null,
   "metadata": {},
   "outputs": [],
   "source": []
  },
  {
   "cell_type": "markdown",
   "metadata": {},
   "source": [
    "### FINAL SUMMARY :"
   ]
  },
  {
   "cell_type": "code",
   "execution_count": 71,
   "metadata": {},
   "outputs": [
    {
     "name": "stdout",
     "output_type": "stream",
     "text": [
      "Summary :\n",
      "+------------------------+------------------------+--------------------+--------------------+\n",
      "| Text-VectorizationType | Hyper-Paramter(lambda) | Performance Metric | Value              |\n",
      "+------------------------+------------------------+--------------------+--------------------+\n",
      "|          BoW           |          1.50          |      Accuracy      | 0.91375            |\n",
      "|           -            |          1.50          |     Precision      | 0.9758163595215001 |\n",
      "|           -            |          1.50          |       Recall       | 0.9178323804889916 |\n",
      "|           -            |          1.50          |      F1 Score      | 0.9459366283260727 |\n",
      "|           -            |          1.50          |  ConfusionMatrix   | [[ 3184   374]     |\n",
      "|                        |                        |                    |  [ 1351 15091]]    |\n",
      "|       ----------       |      -----------       |     ----------     | ----------         |\n",
      "|         TFIDF          |          1.50          |      Accuracy      | 0.9158             |\n",
      "|           -            |          1.50          |     Precision      | 0.9750836981715169 |\n",
      "|           -            |          1.50          |       Recall       | 0.921116652475368  |\n",
      "|           -            |          1.50          |      F1 Score      | 0.9473322074185275 |\n",
      "|           -            |          1.50          |  ConfusionMatrix   | [[ 3171   387]     |\n",
      "|                        |                        |                    |  [ 1297 15145]]    |\n",
      "|       ----------       |      -----------       |     ----------     | ----------         |\n",
      "|        Word2Vec        |          1.50          |      Accuracy      | 0.8547             |\n",
      "|           -            |          1.50          |     Precision      | 0.9660515080567414 |\n",
      "|           -            |          1.50          |       Recall       | 0.8532416980902566 |\n",
      "|           -            |          1.50          |      F1 Score      | 0.906149076346725  |\n",
      "|           -            |          1.50          |  ConfusionMatrix   | [[ 3065   493]     |\n",
      "|                        |                        |                    |  [ 2413 14029]]    |\n",
      "|       ----------       |      -----------       |     ----------     | ----------         |\n",
      "|      Avg-Word2Vec      |          0.15          |      Accuracy      | 0.8219             |\n",
      "|           -            |          0.15          |     Precision      | 0.9535211267605633 |\n",
      "|           -            |          0.15          |       Recall       | 0.8235007906580708 |\n",
      "|           -            |          0.15          |      F1 Score      | 0.8837543241302787 |\n",
      "|           -            |          0.15          |  ConfusionMatrix   | [[ 2898   660]     |\n",
      "|                        |                        |                    |  [ 2902 13540]]    |\n",
      "|       ----------       |      -----------       |     ----------     | ----------         |\n",
      "+------------------------+------------------------+--------------------+--------------------+\n"
     ]
    }
   ],
   "source": [
    "# Use a new prettytable to add BoW and tfidf rows.\n",
    "\n",
    "# Apply data alignment.\n",
    "summaryTable.align[\"Value\"] = \"l\"\n",
    "summaryTable.align[\"Hyper-Paramter(alpha)\"] = \"l\"\n",
    "\n",
    "# Print the table.\n",
    "print(\"Summary :\")\n",
    "print(summaryTable)"
   ]
  },
  {
   "cell_type": "markdown",
   "metadata": {},
   "source": [
    "#### Concluding Summary : \n",
    "#### Based on the observations from the above table, the vectorizer \"Bag of Words\" gives us the optimal metrics for the Logistic Regression Model."
   ]
  },
  {
   "cell_type": "code",
   "execution_count": null,
   "metadata": {},
   "outputs": [],
   "source": []
  }
 ],
 "metadata": {
  "kernelspec": {
   "display_name": "Python 3",
   "language": "python",
   "name": "python3"
  },
  "language_info": {
   "codemirror_mode": {
    "name": "ipython",
    "version": 3
   },
   "file_extension": ".py",
   "mimetype": "text/x-python",
   "name": "python",
   "nbconvert_exporter": "python",
   "pygments_lexer": "ipython3",
   "version": "3.6.4"
  }
 },
 "nbformat": 4,
 "nbformat_minor": 2
}
