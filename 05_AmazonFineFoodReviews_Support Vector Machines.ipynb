{
 "cells": [
  {
   "cell_type": "markdown",
   "metadata": {},
   "source": [
    "# Amazon Fine Food Reviews Analysis\n",
    "\n",
    "\n",
    "Data Source: https://www.kaggle.com/snap/amazon-fine-food-reviews <br>\n",
    "\n",
    "EDA: https://nycdatascience.com/blog/student-works/amazon-fine-foods-visualization/\n",
    "\n",
    "\n",
    "The Amazon Fine Food Reviews dataset consists of reviews of fine foods from Amazon.<br>\n",
    "\n",
    "Number of reviews: 568,454<br>\n",
    "Number of users: 256,059<br>\n",
    "Number of products: 74,258<br>\n",
    "Timespan: Oct 1999 - Oct 2012<br>\n",
    "Number of Attributes/Columns in data: 10 \n",
    "\n",
    "Attribute Information:\n",
    "\n",
    "1. Id\n",
    "2. ProductId - unique identifier for the product\n",
    "3. UserId - unqiue identifier for the user\n",
    "4. ProfileName\n",
    "5. HelpfulnessNumerator - number of users who found the review helpful\n",
    "6. HelpfulnessDenominator - number of users who indicated whether they found the review helpful or not\n",
    "7. Score - rating between 1 and 5\n",
    "8. Time - timestamp for the review\n",
    "9. Summary - brief summary of the review\n",
    "10. Text - text of the review\n",
    "\n",
    "\n",
    "#### Objective:\n",
    "Given a review, determine whether the review is positive (rating of 4 or 5) or negative (rating of 1 or 2).\n",
    "\n",
    "<br>\n",
    "[Q] How to determine if a review is positive or negative?<br>\n",
    "<br> \n",
    "[Ans] We could use Score/Rating. A rating of 4 or 5 can be cosnidered as a positive review. A rating of 1 or 2 can be considered as negative one. A review of rating 3 is considered nuetral and such reviews are ignored from our analysis. This is an approximate and proxy way of determining the polarity (positivity/negativity) of a review.\n",
    "\n",
    "\n"
   ]
  },
  {
   "cell_type": "markdown",
   "metadata": {},
   "source": [
    "# [1]. Reading Data"
   ]
  },
  {
   "cell_type": "markdown",
   "metadata": {},
   "source": [
    "## [1.1] Loading the data\n",
    "\n",
    "The dataset is available in two forms\n",
    "1. .csv file\n",
    "2. SQLite Database\n",
    "\n",
    "In order to load the data, We have used the SQLITE dataset as it is easier to query the data and visualise the data efficiently.\n",
    "<br> \n",
    "\n",
    "Here as we only want to get the global sentiment of the recommendations (positive or negative), we will purposefully ignore all Scores equal to 3. If the score is above 3, then the recommendation wil be set to \"positive\". Otherwise, it will be set to \"negative\"."
   ]
  },
  {
   "cell_type": "code",
   "execution_count": 1,
   "metadata": {},
   "outputs": [
    {
     "name": "stdout",
     "output_type": "stream",
     "text": [
      "Collecting https://pypi.python.org/packages/source/P/PrettyTable/prettytable-0.7.2.tar.bz2\n",
      "  Using cached prettytable-0.7.2.tar.bz2\n",
      "  Requirement already satisfied (use --upgrade to upgrade): prettytable==0.7.2 from https://pypi.python.org/packages/source/P/PrettyTable/prettytable-0.7.2.tar.bz2 in c:\\programdata\\anaconda3\\lib\\site-packages\n",
      "Building wheels for collected packages: prettytable\n",
      "  Running setup.py bdist_wheel for prettytable: started\n",
      "  Running setup.py bdist_wheel for prettytable: finished with status 'done'\n",
      "  Stored in directory: C:\\Users\\Vijay Joseph\\AppData\\Local\\pip\\Cache\\wheels\\29\\73\\c9\\3e063a66859af18585f8e1439f92dcc27b8c13ae400bb8c89e\n",
      "Successfully built prettytable\n"
     ]
    },
    {
     "name": "stderr",
     "output_type": "stream",
     "text": [
      "You are using pip version 9.0.1, however version 18.1 is available.\n",
      "You should consider upgrading via the 'python -m pip install --upgrade pip' command.\n"
     ]
    }
   ],
   "source": [
    "%matplotlib inline\n",
    "import warnings\n",
    "warnings.filterwarnings(\"ignore\")\n",
    "\n",
    "\n",
    "import sqlite3\n",
    "import pandas as pd\n",
    "import numpy as np\n",
    "import nltk\n",
    "import string\n",
    "import matplotlib.pyplot as plt\n",
    "import seaborn as sns\n",
    "from sklearn.feature_extraction.text import TfidfTransformer\n",
    "from sklearn.feature_extraction.text import TfidfVectorizer\n",
    "\n",
    "from sklearn.feature_extraction.text import CountVectorizer\n",
    "from sklearn.metrics import confusion_matrix\n",
    "from sklearn import metrics\n",
    "from sklearn.metrics import roc_curve, auc\n",
    "from nltk.stem.porter import PorterStemmer\n",
    "\n",
    "import re\n",
    "# Tutorial about Python regular expressions: https://pymotw.com/2/re/\n",
    "import string\n",
    "from nltk.corpus import stopwords\n",
    "from nltk.stem import PorterStemmer\n",
    "from nltk.stem.wordnet import WordNetLemmatizer\n",
    "\n",
    "from gensim.models import Word2Vec\n",
    "from gensim.models import KeyedVectors\n",
    "import pickle\n",
    "\n",
    "from tqdm import tqdm\n",
    "import os\n",
    "\n",
    "# Install prettytable\n",
    "import sys\n",
    "!{sys.executable} -m pip install https://pypi.python.org/packages/source/P/PrettyTable/prettytable-0.7.2.tar.bz2"
   ]
  },
  {
   "cell_type": "code",
   "execution_count": 2,
   "metadata": {},
   "outputs": [
    {
     "name": "stdout",
     "output_type": "stream",
     "text": [
      "Number of data points in our data (525814, 10)\n"
     ]
    },
    {
     "data": {
      "text/html": [
       "<div>\n",
       "<style scoped>\n",
       "    .dataframe tbody tr th:only-of-type {\n",
       "        vertical-align: middle;\n",
       "    }\n",
       "\n",
       "    .dataframe tbody tr th {\n",
       "        vertical-align: top;\n",
       "    }\n",
       "\n",
       "    .dataframe thead th {\n",
       "        text-align: right;\n",
       "    }\n",
       "</style>\n",
       "<table border=\"1\" class=\"dataframe\">\n",
       "  <thead>\n",
       "    <tr style=\"text-align: right;\">\n",
       "      <th></th>\n",
       "      <th>Id</th>\n",
       "      <th>ProductId</th>\n",
       "      <th>UserId</th>\n",
       "      <th>ProfileName</th>\n",
       "      <th>HelpfulnessNumerator</th>\n",
       "      <th>HelpfulnessDenominator</th>\n",
       "      <th>Score</th>\n",
       "      <th>Time</th>\n",
       "      <th>Summary</th>\n",
       "      <th>Text</th>\n",
       "    </tr>\n",
       "  </thead>\n",
       "  <tbody>\n",
       "    <tr>\n",
       "      <th>0</th>\n",
       "      <td>1</td>\n",
       "      <td>B001E4KFG0</td>\n",
       "      <td>A3SGXH7AUHU8GW</td>\n",
       "      <td>delmartian</td>\n",
       "      <td>1</td>\n",
       "      <td>1</td>\n",
       "      <td>1</td>\n",
       "      <td>1303862400</td>\n",
       "      <td>Good Quality Dog Food</td>\n",
       "      <td>I have bought several of the Vitality canned d...</td>\n",
       "    </tr>\n",
       "    <tr>\n",
       "      <th>1</th>\n",
       "      <td>2</td>\n",
       "      <td>B00813GRG4</td>\n",
       "      <td>A1D87F6ZCVE5NK</td>\n",
       "      <td>dll pa</td>\n",
       "      <td>0</td>\n",
       "      <td>0</td>\n",
       "      <td>0</td>\n",
       "      <td>1346976000</td>\n",
       "      <td>Not as Advertised</td>\n",
       "      <td>Product arrived labeled as Jumbo Salted Peanut...</td>\n",
       "    </tr>\n",
       "    <tr>\n",
       "      <th>2</th>\n",
       "      <td>3</td>\n",
       "      <td>B000LQOCH0</td>\n",
       "      <td>ABXLMWJIXXAIN</td>\n",
       "      <td>Natalia Corres \"Natalia Corres\"</td>\n",
       "      <td>1</td>\n",
       "      <td>1</td>\n",
       "      <td>1</td>\n",
       "      <td>1219017600</td>\n",
       "      <td>\"Delight\" says it all</td>\n",
       "      <td>This is a confection that has been around a fe...</td>\n",
       "    </tr>\n",
       "  </tbody>\n",
       "</table>\n",
       "</div>"
      ],
      "text/plain": [
       "   Id   ProductId          UserId                      ProfileName  \\\n",
       "0   1  B001E4KFG0  A3SGXH7AUHU8GW                       delmartian   \n",
       "1   2  B00813GRG4  A1D87F6ZCVE5NK                           dll pa   \n",
       "2   3  B000LQOCH0   ABXLMWJIXXAIN  Natalia Corres \"Natalia Corres\"   \n",
       "\n",
       "   HelpfulnessNumerator  HelpfulnessDenominator  Score        Time  \\\n",
       "0                     1                       1      1  1303862400   \n",
       "1                     0                       0      0  1346976000   \n",
       "2                     1                       1      1  1219017600   \n",
       "\n",
       "                 Summary                                               Text  \n",
       "0  Good Quality Dog Food  I have bought several of the Vitality canned d...  \n",
       "1      Not as Advertised  Product arrived labeled as Jumbo Salted Peanut...  \n",
       "2  \"Delight\" says it all  This is a confection that has been around a fe...  "
      ]
     },
     "execution_count": 2,
     "metadata": {},
     "output_type": "execute_result"
    }
   ],
   "source": [
    "# using SQLite Table to read data.\n",
    "con = sqlite3.connect('database.sqlite') \n",
    "\n",
    "# filtering only positive and negative reviews i.e. \n",
    "# not taking into consideration those reviews with Score=3\n",
    "# SELECT * FROM Reviews WHERE Score != 3 LIMIT 500000, will give top 500000 data points\n",
    "# you can change the number to any other number based on your computing power\n",
    "\n",
    "# filtered_data = pd.read_sql_query(\"\"\" SELECT * FROM Reviews WHERE Score != 3 LIMIT 500000\"\"\", con) \n",
    "# for tsne assignment you can take 5k data points\n",
    "\n",
    "filtered_data = pd.read_sql_query(\"\"\" SELECT * FROM Reviews WHERE Score != 3 \"\"\", con) \n",
    "\n",
    "# Give reviews with Score>3 a positive rating(1), and reviews with a score<3 a negative rating(0).\n",
    "def partition(x):\n",
    "    if x < 3:\n",
    "        return 0\n",
    "    return 1\n",
    "\n",
    "#changing reviews with score less than 3 to be positive and vice-versa\n",
    "actualScore = filtered_data['Score']\n",
    "positiveNegative = actualScore.map(partition) \n",
    "filtered_data['Score'] = positiveNegative\n",
    "print(\"Number of data points in our data\", filtered_data.shape)\n",
    "filtered_data.head(3)"
   ]
  },
  {
   "cell_type": "code",
   "execution_count": 3,
   "metadata": {},
   "outputs": [],
   "source": [
    "#con = sqlite3.connect('database.sqlite')\n",
    "\n",
    "display = pd.read_sql_query(\"\"\"\n",
    "SELECT UserId, ProductId, ProfileName, Time, Score, Text, COUNT(*)\n",
    "FROM Reviews\n",
    "GROUP BY UserId\n",
    "HAVING COUNT(*)>1\n",
    "\"\"\", con)"
   ]
  },
  {
   "cell_type": "code",
   "execution_count": 4,
   "metadata": {
    "scrolled": true
   },
   "outputs": [
    {
     "name": "stdout",
     "output_type": "stream",
     "text": [
      "(80668, 7)\n"
     ]
    },
    {
     "data": {
      "text/html": [
       "<div>\n",
       "<style scoped>\n",
       "    .dataframe tbody tr th:only-of-type {\n",
       "        vertical-align: middle;\n",
       "    }\n",
       "\n",
       "    .dataframe tbody tr th {\n",
       "        vertical-align: top;\n",
       "    }\n",
       "\n",
       "    .dataframe thead th {\n",
       "        text-align: right;\n",
       "    }\n",
       "</style>\n",
       "<table border=\"1\" class=\"dataframe\">\n",
       "  <thead>\n",
       "    <tr style=\"text-align: right;\">\n",
       "      <th></th>\n",
       "      <th>UserId</th>\n",
       "      <th>ProductId</th>\n",
       "      <th>ProfileName</th>\n",
       "      <th>Time</th>\n",
       "      <th>Score</th>\n",
       "      <th>Text</th>\n",
       "      <th>COUNT(*)</th>\n",
       "    </tr>\n",
       "  </thead>\n",
       "  <tbody>\n",
       "    <tr>\n",
       "      <th>0</th>\n",
       "      <td>#oc-R115TNMSPFT9I7</td>\n",
       "      <td>B007Y59HVM</td>\n",
       "      <td>Breyton</td>\n",
       "      <td>1331510400</td>\n",
       "      <td>2</td>\n",
       "      <td>Overall its just OK when considering the price...</td>\n",
       "      <td>2</td>\n",
       "    </tr>\n",
       "    <tr>\n",
       "      <th>1</th>\n",
       "      <td>#oc-R11D9D7SHXIJB9</td>\n",
       "      <td>B005HG9ET0</td>\n",
       "      <td>Louis E. Emory \"hoppy\"</td>\n",
       "      <td>1342396800</td>\n",
       "      <td>5</td>\n",
       "      <td>My wife has recurring extreme muscle spasms, u...</td>\n",
       "      <td>3</td>\n",
       "    </tr>\n",
       "    <tr>\n",
       "      <th>2</th>\n",
       "      <td>#oc-R11DNU2NBKQ23Z</td>\n",
       "      <td>B007Y59HVM</td>\n",
       "      <td>Kim Cieszykowski</td>\n",
       "      <td>1348531200</td>\n",
       "      <td>1</td>\n",
       "      <td>This coffee is horrible and unfortunately not ...</td>\n",
       "      <td>2</td>\n",
       "    </tr>\n",
       "    <tr>\n",
       "      <th>3</th>\n",
       "      <td>#oc-R11O5J5ZVQE25C</td>\n",
       "      <td>B005HG9ET0</td>\n",
       "      <td>Penguin Chick</td>\n",
       "      <td>1346889600</td>\n",
       "      <td>5</td>\n",
       "      <td>This will be the bottle that you grab from the...</td>\n",
       "      <td>3</td>\n",
       "    </tr>\n",
       "    <tr>\n",
       "      <th>4</th>\n",
       "      <td>#oc-R12KPBODL2B5ZD</td>\n",
       "      <td>B007OSBE1U</td>\n",
       "      <td>Christopher P. Presta</td>\n",
       "      <td>1348617600</td>\n",
       "      <td>1</td>\n",
       "      <td>I didnt like this coffee. Instead of telling y...</td>\n",
       "      <td>2</td>\n",
       "    </tr>\n",
       "  </tbody>\n",
       "</table>\n",
       "</div>"
      ],
      "text/plain": [
       "               UserId   ProductId             ProfileName        Time  Score  \\\n",
       "0  #oc-R115TNMSPFT9I7  B007Y59HVM                 Breyton  1331510400      2   \n",
       "1  #oc-R11D9D7SHXIJB9  B005HG9ET0  Louis E. Emory \"hoppy\"  1342396800      5   \n",
       "2  #oc-R11DNU2NBKQ23Z  B007Y59HVM        Kim Cieszykowski  1348531200      1   \n",
       "3  #oc-R11O5J5ZVQE25C  B005HG9ET0           Penguin Chick  1346889600      5   \n",
       "4  #oc-R12KPBODL2B5ZD  B007OSBE1U   Christopher P. Presta  1348617600      1   \n",
       "\n",
       "                                                Text  COUNT(*)  \n",
       "0  Overall its just OK when considering the price...         2  \n",
       "1  My wife has recurring extreme muscle spasms, u...         3  \n",
       "2  This coffee is horrible and unfortunately not ...         2  \n",
       "3  This will be the bottle that you grab from the...         3  \n",
       "4  I didnt like this coffee. Instead of telling y...         2  "
      ]
     },
     "execution_count": 4,
     "metadata": {},
     "output_type": "execute_result"
    }
   ],
   "source": [
    "print(display.shape)\n",
    "display.head()"
   ]
  },
  {
   "cell_type": "code",
   "execution_count": 5,
   "metadata": {},
   "outputs": [
    {
     "data": {
      "text/html": [
       "<div>\n",
       "<style scoped>\n",
       "    .dataframe tbody tr th:only-of-type {\n",
       "        vertical-align: middle;\n",
       "    }\n",
       "\n",
       "    .dataframe tbody tr th {\n",
       "        vertical-align: top;\n",
       "    }\n",
       "\n",
       "    .dataframe thead th {\n",
       "        text-align: right;\n",
       "    }\n",
       "</style>\n",
       "<table border=\"1\" class=\"dataframe\">\n",
       "  <thead>\n",
       "    <tr style=\"text-align: right;\">\n",
       "      <th></th>\n",
       "      <th>UserId</th>\n",
       "      <th>ProductId</th>\n",
       "      <th>ProfileName</th>\n",
       "      <th>Time</th>\n",
       "      <th>Score</th>\n",
       "      <th>Text</th>\n",
       "      <th>COUNT(*)</th>\n",
       "    </tr>\n",
       "  </thead>\n",
       "  <tbody>\n",
       "    <tr>\n",
       "      <th>80638</th>\n",
       "      <td>AZY10LLTJ71NX</td>\n",
       "      <td>B006P7E5ZI</td>\n",
       "      <td>undertheshrine \"undertheshrine\"</td>\n",
       "      <td>1334707200</td>\n",
       "      <td>5</td>\n",
       "      <td>I was recommended to try green tea extract to ...</td>\n",
       "      <td>5</td>\n",
       "    </tr>\n",
       "  </tbody>\n",
       "</table>\n",
       "</div>"
      ],
      "text/plain": [
       "              UserId   ProductId                      ProfileName        Time  \\\n",
       "80638  AZY10LLTJ71NX  B006P7E5ZI  undertheshrine \"undertheshrine\"  1334707200   \n",
       "\n",
       "       Score                                               Text  COUNT(*)  \n",
       "80638      5  I was recommended to try green tea extract to ...         5  "
      ]
     },
     "execution_count": 5,
     "metadata": {},
     "output_type": "execute_result"
    }
   ],
   "source": [
    "display[display['UserId']=='AZY10LLTJ71NX']"
   ]
  },
  {
   "cell_type": "code",
   "execution_count": 6,
   "metadata": {},
   "outputs": [
    {
     "data": {
      "text/plain": [
       "393063"
      ]
     },
     "execution_count": 6,
     "metadata": {},
     "output_type": "execute_result"
    }
   ],
   "source": [
    "display['COUNT(*)'].sum()"
   ]
  },
  {
   "cell_type": "markdown",
   "metadata": {},
   "source": [
    "#  [2] Exploratory Data Analysis"
   ]
  },
  {
   "cell_type": "markdown",
   "metadata": {},
   "source": [
    "## [2.1] Data Cleaning: Deduplication\n",
    "\n",
    "It is observed (as shown in the table below) that the reviews data had many duplicate entries. Hence it was necessary to remove duplicates in order to get unbiased results for the analysis of the data.  Following is an example:"
   ]
  },
  {
   "cell_type": "code",
   "execution_count": 7,
   "metadata": {
    "scrolled": false
   },
   "outputs": [
    {
     "data": {
      "text/html": [
       "<div>\n",
       "<style scoped>\n",
       "    .dataframe tbody tr th:only-of-type {\n",
       "        vertical-align: middle;\n",
       "    }\n",
       "\n",
       "    .dataframe tbody tr th {\n",
       "        vertical-align: top;\n",
       "    }\n",
       "\n",
       "    .dataframe thead th {\n",
       "        text-align: right;\n",
       "    }\n",
       "</style>\n",
       "<table border=\"1\" class=\"dataframe\">\n",
       "  <thead>\n",
       "    <tr style=\"text-align: right;\">\n",
       "      <th></th>\n",
       "      <th>Id</th>\n",
       "      <th>ProductId</th>\n",
       "      <th>UserId</th>\n",
       "      <th>ProfileName</th>\n",
       "      <th>HelpfulnessNumerator</th>\n",
       "      <th>HelpfulnessDenominator</th>\n",
       "      <th>Score</th>\n",
       "      <th>Time</th>\n",
       "      <th>Summary</th>\n",
       "      <th>Text</th>\n",
       "    </tr>\n",
       "  </thead>\n",
       "  <tbody>\n",
       "    <tr>\n",
       "      <th>0</th>\n",
       "      <td>78445</td>\n",
       "      <td>B000HDL1RQ</td>\n",
       "      <td>AR5J8UI46CURR</td>\n",
       "      <td>Geetha Krishnan</td>\n",
       "      <td>2</td>\n",
       "      <td>2</td>\n",
       "      <td>5</td>\n",
       "      <td>1199577600</td>\n",
       "      <td>LOACKER QUADRATINI VANILLA WAFERS</td>\n",
       "      <td>DELICIOUS WAFERS. I FIND THAT EUROPEAN WAFERS ...</td>\n",
       "    </tr>\n",
       "    <tr>\n",
       "      <th>1</th>\n",
       "      <td>138317</td>\n",
       "      <td>B000HDOPYC</td>\n",
       "      <td>AR5J8UI46CURR</td>\n",
       "      <td>Geetha Krishnan</td>\n",
       "      <td>2</td>\n",
       "      <td>2</td>\n",
       "      <td>5</td>\n",
       "      <td>1199577600</td>\n",
       "      <td>LOACKER QUADRATINI VANILLA WAFERS</td>\n",
       "      <td>DELICIOUS WAFERS. I FIND THAT EUROPEAN WAFERS ...</td>\n",
       "    </tr>\n",
       "    <tr>\n",
       "      <th>2</th>\n",
       "      <td>138277</td>\n",
       "      <td>B000HDOPYM</td>\n",
       "      <td>AR5J8UI46CURR</td>\n",
       "      <td>Geetha Krishnan</td>\n",
       "      <td>2</td>\n",
       "      <td>2</td>\n",
       "      <td>5</td>\n",
       "      <td>1199577600</td>\n",
       "      <td>LOACKER QUADRATINI VANILLA WAFERS</td>\n",
       "      <td>DELICIOUS WAFERS. I FIND THAT EUROPEAN WAFERS ...</td>\n",
       "    </tr>\n",
       "    <tr>\n",
       "      <th>3</th>\n",
       "      <td>73791</td>\n",
       "      <td>B000HDOPZG</td>\n",
       "      <td>AR5J8UI46CURR</td>\n",
       "      <td>Geetha Krishnan</td>\n",
       "      <td>2</td>\n",
       "      <td>2</td>\n",
       "      <td>5</td>\n",
       "      <td>1199577600</td>\n",
       "      <td>LOACKER QUADRATINI VANILLA WAFERS</td>\n",
       "      <td>DELICIOUS WAFERS. I FIND THAT EUROPEAN WAFERS ...</td>\n",
       "    </tr>\n",
       "    <tr>\n",
       "      <th>4</th>\n",
       "      <td>155049</td>\n",
       "      <td>B000PAQ75C</td>\n",
       "      <td>AR5J8UI46CURR</td>\n",
       "      <td>Geetha Krishnan</td>\n",
       "      <td>2</td>\n",
       "      <td>2</td>\n",
       "      <td>5</td>\n",
       "      <td>1199577600</td>\n",
       "      <td>LOACKER QUADRATINI VANILLA WAFERS</td>\n",
       "      <td>DELICIOUS WAFERS. I FIND THAT EUROPEAN WAFERS ...</td>\n",
       "    </tr>\n",
       "  </tbody>\n",
       "</table>\n",
       "</div>"
      ],
      "text/plain": [
       "       Id   ProductId         UserId      ProfileName  HelpfulnessNumerator  \\\n",
       "0   78445  B000HDL1RQ  AR5J8UI46CURR  Geetha Krishnan                     2   \n",
       "1  138317  B000HDOPYC  AR5J8UI46CURR  Geetha Krishnan                     2   \n",
       "2  138277  B000HDOPYM  AR5J8UI46CURR  Geetha Krishnan                     2   \n",
       "3   73791  B000HDOPZG  AR5J8UI46CURR  Geetha Krishnan                     2   \n",
       "4  155049  B000PAQ75C  AR5J8UI46CURR  Geetha Krishnan                     2   \n",
       "\n",
       "   HelpfulnessDenominator  Score        Time  \\\n",
       "0                       2      5  1199577600   \n",
       "1                       2      5  1199577600   \n",
       "2                       2      5  1199577600   \n",
       "3                       2      5  1199577600   \n",
       "4                       2      5  1199577600   \n",
       "\n",
       "                             Summary  \\\n",
       "0  LOACKER QUADRATINI VANILLA WAFERS   \n",
       "1  LOACKER QUADRATINI VANILLA WAFERS   \n",
       "2  LOACKER QUADRATINI VANILLA WAFERS   \n",
       "3  LOACKER QUADRATINI VANILLA WAFERS   \n",
       "4  LOACKER QUADRATINI VANILLA WAFERS   \n",
       "\n",
       "                                                Text  \n",
       "0  DELICIOUS WAFERS. I FIND THAT EUROPEAN WAFERS ...  \n",
       "1  DELICIOUS WAFERS. I FIND THAT EUROPEAN WAFERS ...  \n",
       "2  DELICIOUS WAFERS. I FIND THAT EUROPEAN WAFERS ...  \n",
       "3  DELICIOUS WAFERS. I FIND THAT EUROPEAN WAFERS ...  \n",
       "4  DELICIOUS WAFERS. I FIND THAT EUROPEAN WAFERS ...  "
      ]
     },
     "execution_count": 7,
     "metadata": {},
     "output_type": "execute_result"
    }
   ],
   "source": [
    "display= pd.read_sql_query(\"\"\"\n",
    "SELECT *\n",
    "FROM Reviews\n",
    "WHERE Score != 3 AND UserId=\"AR5J8UI46CURR\"\n",
    "ORDER BY ProductID\n",
    "\"\"\", con)\n",
    "display.head()"
   ]
  },
  {
   "cell_type": "markdown",
   "metadata": {},
   "source": [
    "As it can be seen above that same user has multiple reviews with same values for HelpfulnessNumerator, HelpfulnessDenominator, Score, Time, Summary and Text and on doing analysis it was found that <br>\n",
    "<br> \n",
    "ProductId=B000HDOPZG was Loacker Quadratini Vanilla Wafer Cookies, 8.82-Ounce Packages (Pack of 8)<br>\n",
    "<br> \n",
    "ProductId=B000HDL1RQ was Loacker Quadratini Lemon Wafer Cookies, 8.82-Ounce Packages (Pack of 8) and so on<br>\n",
    "\n",
    "It was inferred after analysis that reviews with same parameters other than ProductId belonged to the same product just having different flavour or quantity. Hence in order to reduce redundancy it was decided to eliminate the rows having same parameters.<br>\n",
    "\n",
    "The method used for the same was that we first sort the data according to ProductId and then just keep the first similar product review and delelte the others. for eg. in the above just the review for ProductId=B000HDL1RQ remains. This method ensures that there is only one representative for each product and deduplication without sorting would lead to possibility of different representatives still existing for the same product."
   ]
  },
  {
   "cell_type": "code",
   "execution_count": 8,
   "metadata": {},
   "outputs": [],
   "source": [
    "#Sorting data according to ProductId in ascending order\n",
    "sorted_data=filtered_data.sort_values('ProductId', axis=0, ascending=True, inplace=False, kind='quicksort', na_position='last')"
   ]
  },
  {
   "cell_type": "code",
   "execution_count": 9,
   "metadata": {},
   "outputs": [
    {
     "data": {
      "text/plain": [
       "(364173, 10)"
      ]
     },
     "execution_count": 9,
     "metadata": {},
     "output_type": "execute_result"
    }
   ],
   "source": [
    "#Deduplication of entries\n",
    "final=sorted_data.drop_duplicates(subset={\"UserId\",\"ProfileName\",\"Time\",\"Text\"}, keep='first', inplace=False)\n",
    "final.shape"
   ]
  },
  {
   "cell_type": "code",
   "execution_count": 10,
   "metadata": {},
   "outputs": [
    {
     "data": {
      "text/plain": [
       "69.25890143662969"
      ]
     },
     "execution_count": 10,
     "metadata": {},
     "output_type": "execute_result"
    }
   ],
   "source": [
    "#Checking to see how much % of data still remains\n",
    "(final['Id'].size*1.0)/(filtered_data['Id'].size*1.0)*100"
   ]
  },
  {
   "cell_type": "markdown",
   "metadata": {},
   "source": [
    "<b>Observation:-</b> It was also seen that in two rows given below the value of HelpfulnessNumerator is greater than HelpfulnessDenominator which is not practically possible hence these two rows too are removed from calcualtions"
   ]
  },
  {
   "cell_type": "code",
   "execution_count": 11,
   "metadata": {},
   "outputs": [
    {
     "data": {
      "text/html": [
       "<div>\n",
       "<style scoped>\n",
       "    .dataframe tbody tr th:only-of-type {\n",
       "        vertical-align: middle;\n",
       "    }\n",
       "\n",
       "    .dataframe tbody tr th {\n",
       "        vertical-align: top;\n",
       "    }\n",
       "\n",
       "    .dataframe thead th {\n",
       "        text-align: right;\n",
       "    }\n",
       "</style>\n",
       "<table border=\"1\" class=\"dataframe\">\n",
       "  <thead>\n",
       "    <tr style=\"text-align: right;\">\n",
       "      <th></th>\n",
       "      <th>Id</th>\n",
       "      <th>ProductId</th>\n",
       "      <th>UserId</th>\n",
       "      <th>ProfileName</th>\n",
       "      <th>HelpfulnessNumerator</th>\n",
       "      <th>HelpfulnessDenominator</th>\n",
       "      <th>Score</th>\n",
       "      <th>Time</th>\n",
       "      <th>Summary</th>\n",
       "      <th>Text</th>\n",
       "    </tr>\n",
       "  </thead>\n",
       "  <tbody>\n",
       "    <tr>\n",
       "      <th>0</th>\n",
       "      <td>64422</td>\n",
       "      <td>B000MIDROQ</td>\n",
       "      <td>A161DK06JJMCYF</td>\n",
       "      <td>J. E. Stephens \"Jeanne\"</td>\n",
       "      <td>3</td>\n",
       "      <td>1</td>\n",
       "      <td>5</td>\n",
       "      <td>1224892800</td>\n",
       "      <td>Bought This for My Son at College</td>\n",
       "      <td>My son loves spaghetti so I didn't hesitate or...</td>\n",
       "    </tr>\n",
       "    <tr>\n",
       "      <th>1</th>\n",
       "      <td>44737</td>\n",
       "      <td>B001EQ55RW</td>\n",
       "      <td>A2V0I904FH7ABY</td>\n",
       "      <td>Ram</td>\n",
       "      <td>3</td>\n",
       "      <td>2</td>\n",
       "      <td>4</td>\n",
       "      <td>1212883200</td>\n",
       "      <td>Pure cocoa taste with crunchy almonds inside</td>\n",
       "      <td>It was almost a 'love at first bite' - the per...</td>\n",
       "    </tr>\n",
       "  </tbody>\n",
       "</table>\n",
       "</div>"
      ],
      "text/plain": [
       "      Id   ProductId          UserId              ProfileName  \\\n",
       "0  64422  B000MIDROQ  A161DK06JJMCYF  J. E. Stephens \"Jeanne\"   \n",
       "1  44737  B001EQ55RW  A2V0I904FH7ABY                      Ram   \n",
       "\n",
       "   HelpfulnessNumerator  HelpfulnessDenominator  Score        Time  \\\n",
       "0                     3                       1      5  1224892800   \n",
       "1                     3                       2      4  1212883200   \n",
       "\n",
       "                                        Summary  \\\n",
       "0             Bought This for My Son at College   \n",
       "1  Pure cocoa taste with crunchy almonds inside   \n",
       "\n",
       "                                                Text  \n",
       "0  My son loves spaghetti so I didn't hesitate or...  \n",
       "1  It was almost a 'love at first bite' - the per...  "
      ]
     },
     "execution_count": 11,
     "metadata": {},
     "output_type": "execute_result"
    }
   ],
   "source": [
    "display= pd.read_sql_query(\"\"\"\n",
    "SELECT *\n",
    "FROM Reviews\n",
    "WHERE Score != 3 AND Id=44737 OR Id=64422\n",
    "ORDER BY ProductID\n",
    "\"\"\", con)\n",
    "\n",
    "display.head()"
   ]
  },
  {
   "cell_type": "code",
   "execution_count": 12,
   "metadata": {},
   "outputs": [],
   "source": [
    "final=final[final.HelpfulnessNumerator<=final.HelpfulnessDenominator]"
   ]
  },
  {
   "cell_type": "code",
   "execution_count": 13,
   "metadata": {},
   "outputs": [
    {
     "name": "stdout",
     "output_type": "stream",
     "text": [
      "(364171, 10)\n"
     ]
    },
    {
     "data": {
      "text/plain": [
       "1    307061\n",
       "0     57110\n",
       "Name: Score, dtype: int64"
      ]
     },
     "execution_count": 13,
     "metadata": {},
     "output_type": "execute_result"
    }
   ],
   "source": [
    "#Before starting the next phase of preprocessing lets see the number of entries left\n",
    "print(final.shape)\n",
    "\n",
    "#How many positive and negative reviews are present in our dataset?\n",
    "final['Score'].value_counts()"
   ]
  },
  {
   "cell_type": "markdown",
   "metadata": {},
   "source": [
    "#  [3] Preprocessing"
   ]
  },
  {
   "cell_type": "markdown",
   "metadata": {},
   "source": [
    "## [3.1].  Preprocessing Review Text\n",
    "\n",
    "Now that we have finished deduplication our data requires some preprocessing before we go on further with analysis and making the prediction model.\n",
    "\n",
    "Hence in the Preprocessing phase we do the following in the order below:-\n",
    "\n",
    "1. Begin by removing the html tags\n",
    "2. Remove any punctuations or limited set of special characters like , or . or # etc.\n",
    "3. Check if the word is made up of english letters and is not alpha-numeric\n",
    "4. Check to see if the length of the word is greater than 2 (as it was researched that there is no adjective in 2-letters)\n",
    "5. Convert the word to lowercase\n",
    "6. Remove Stopwords\n",
    "7. Finally Snowball Stemming the word (it was obsereved to be better than Porter Stemming)<br>\n",
    "\n",
    "After which we collect the words used to describe positive and negative reviews"
   ]
  },
  {
   "cell_type": "code",
   "execution_count": null,
   "metadata": {},
   "outputs": [],
   "source": [
    "\"\"\"\n",
    "\n",
    "# printing some random reviews\n",
    "sent_0 = final['Text'].values[0]\n",
    "print(sent_0)\n",
    "print(\"=\"*50)\n",
    "\n",
    "sent_1000 = final['Text'].values[1000]\n",
    "print(sent_1000)\n",
    "print(\"=\"*50)\n",
    "\n",
    "sent_1500 = final['Text'].values[1500]\n",
    "print(sent_1500)\n",
    "print(\"=\"*50)\n",
    "\n",
    "sent_4900 = final['Text'].values[4900]\n",
    "print(sent_4900)\n",
    "print(\"=\"*50)\n",
    "\n",
    "\"\"\""
   ]
  },
  {
   "cell_type": "code",
   "execution_count": null,
   "metadata": {},
   "outputs": [],
   "source": [
    "\"\"\"\n",
    "# remove urls from text python: https://stackoverflow.com/a/40823105/4084039\n",
    "sent_0 = re.sub(r\"http\\S+\", \"\", sent_0)\n",
    "sent_1000 = re.sub(r\"http\\S+\", \"\", sent_1000)\n",
    "sent_150 = re.sub(r\"http\\S+\", \"\", sent_1500)\n",
    "sent_4900 = re.sub(r\"http\\S+\", \"\", sent_4900)\n",
    "\n",
    "print(sent_0)\n",
    "\"\"\""
   ]
  },
  {
   "cell_type": "code",
   "execution_count": null,
   "metadata": {},
   "outputs": [],
   "source": [
    "\"\"\"\n",
    "# https://stackoverflow.com/questions/16206380/python-beautifulsoup-how-to-remove-all-tags-from-an-element\n",
    "from bs4 import BeautifulSoup\n",
    "\n",
    "soup = BeautifulSoup(sent_0, 'lxml')\n",
    "text = soup.get_text()\n",
    "print(text)\n",
    "print(\"=\"*50)\n",
    "\n",
    "soup = BeautifulSoup(sent_1000, 'lxml')\n",
    "text = soup.get_text()\n",
    "print(text)\n",
    "print(\"=\"*50)\n",
    "\n",
    "soup = BeautifulSoup(sent_1500, 'lxml')\n",
    "text = soup.get_text()\n",
    "print(text)\n",
    "print(\"=\"*50)\n",
    "\n",
    "soup = BeautifulSoup(sent_4900, 'lxml')\n",
    "text = soup.get_text()\n",
    "print(text)\n",
    "\"\"\""
   ]
  },
  {
   "cell_type": "code",
   "execution_count": 14,
   "metadata": {},
   "outputs": [],
   "source": [
    "# https://stackoverflow.com/a/47091490/4084039\n",
    "import re\n",
    "\n",
    "def decontracted(phrase):\n",
    "    # specific\n",
    "    phrase = re.sub(r\"won't\", \"will not\", phrase)\n",
    "    phrase = re.sub(r\"can\\'t\", \"can not\", phrase)\n",
    "\n",
    "    # general\n",
    "    phrase = re.sub(r\"n\\'t\", \" not\", phrase)\n",
    "    phrase = re.sub(r\"\\'re\", \" are\", phrase)\n",
    "    phrase = re.sub(r\"\\'s\", \" is\", phrase)\n",
    "    phrase = re.sub(r\"\\'d\", \" would\", phrase)\n",
    "    phrase = re.sub(r\"\\'ll\", \" will\", phrase)\n",
    "    phrase = re.sub(r\"\\'t\", \" not\", phrase)\n",
    "    phrase = re.sub(r\"\\'ve\", \" have\", phrase)\n",
    "    phrase = re.sub(r\"\\'m\", \" am\", phrase)\n",
    "    return phrase"
   ]
  },
  {
   "cell_type": "code",
   "execution_count": null,
   "metadata": {},
   "outputs": [],
   "source": [
    "\"\"\"\n",
    "sent_1500 = decontracted(sent_1500)\n",
    "print(sent_1500)\n",
    "print(\"=\"*50)\n",
    "\"\"\""
   ]
  },
  {
   "cell_type": "code",
   "execution_count": null,
   "metadata": {},
   "outputs": [],
   "source": [
    "\"\"\"\n",
    "#remove words with numbers python: https://stackoverflow.com/a/18082370/4084039\n",
    "sent_0 = re.sub(\"\\S*\\d\\S*\", \"\", sent_0).strip()\n",
    "print(sent_0)\n",
    "\"\"\""
   ]
  },
  {
   "cell_type": "code",
   "execution_count": null,
   "metadata": {},
   "outputs": [],
   "source": [
    "\"\"\"\n",
    "#remove spacial character: https://stackoverflow.com/a/5843547/4084039\n",
    "sent_1500 = re.sub('[^A-Za-z0-9]+', ' ', sent_1500)\n",
    "print(sent_1500)\n",
    "\"\"\""
   ]
  },
  {
   "cell_type": "code",
   "execution_count": 15,
   "metadata": {},
   "outputs": [],
   "source": [
    "# https://gist.github.com/sebleier/554280\n",
    "# we are removing the words from the stop words list: 'no', 'nor', 'not'\n",
    "# <br /><br /> ==> after the above steps, we are getting \"br br\"\n",
    "# we are including them into stop words list\n",
    "# instead of <br /> if we have <br/> these tags would have revmoved in the 1st step\n",
    "\n",
    "# While using TFIDF-AvgWord2Vec vectorizer, getting error with reviews having single alphabet\n",
    "# like 'k','h', .... So we are including all single alphabets in the stopwords.\n",
    "\n",
    "stopwords= set(['br', 'the', 'i', 'me', 'my', 'myself', 'we', 'our', 'ours', 'ourselves', 'you', \"you're\", \"you've\",\\\n",
    "            \"you'll\", \"you'd\", 'your', 'yours', 'yourself', 'yourselves', 'he', 'him', 'his', 'himself', \\\n",
    "            'she', \"she's\", 'her', 'hers', 'herself', 'it', \"it's\", 'its', 'itself', 'they', 'them', 'their',\\\n",
    "            'theirs', 'themselves', 'what', 'which', 'who', 'whom', 'this', 'that', \"that'll\", 'these', 'those', \\\n",
    "            'am', 'is', 'are', 'was', 'were', 'be', 'been', 'being', 'have', 'has', 'had', 'having', 'do', 'does', \\\n",
    "            'did', 'doing', 'a', 'an', 'the', 'and', 'but', 'if', 'or', 'because', 'as', 'until', 'while', 'of', \\\n",
    "            'at', 'by', 'for', 'with', 'about', 'against', 'between', 'into', 'through', 'during', 'before', 'after',\\\n",
    "            'above', 'below', 'to', 'from', 'up', 'down', 'in', 'out', 'on', 'off', 'over', 'under', 'again', 'further',\\\n",
    "            'then', 'once', 'here', 'there', 'when', 'where', 'why', 'how', 'all', 'any', 'both', 'each', 'few', 'more',\\\n",
    "            'most', 'other', 'some', 'such', 'only', 'own', 'same', 'so', 'than', 'too', 'very', \\\n",
    "            's', 't', 'can', 'will', 'just', 'don', \"don't\", 'should', \"should've\", 'now', 'd', 'll', 'm', 'o', 're', \\\n",
    "            've', 'y', 'ain', 'aren', \"aren't\", 'couldn', \"couldn't\", 'didn', \"didn't\", 'doesn', \"doesn't\", 'hadn',\\\n",
    "            \"hadn't\", 'hasn', \"hasn't\", 'haven', \"haven't\", 'isn', \"isn't\", 'ma', 'mightn', \"mightn't\", 'mustn',\\\n",
    "            \"mustn't\", 'needn', \"needn't\", 'shan', \"shan't\", 'shouldn', \"shouldn't\", 'wasn', \"wasn't\", 'weren', \"weren't\", \\\n",
    "            'won', \"won't\", 'wouldn', \"wouldn't\", \\\n",
    "            'a','b','c','d','e','f','g','h','i','j','k','l','m','n','o','p','q','r','s','t','u','v','w','x','y','z'])"
   ]
  },
  {
   "cell_type": "code",
   "execution_count": 16,
   "metadata": {},
   "outputs": [
    {
     "name": "stderr",
     "output_type": "stream",
     "text": [
      "100%|███████████████████████████████████████████████████████████████████████████████████████████████████████████████████████████████████████████████████████████████████| 364171/364171 [03:52<00:00, 1567.63it/s]\n"
     ]
    }
   ],
   "source": [
    "# Combining all the above statements \n",
    "from bs4 import BeautifulSoup\n",
    "from tqdm import tqdm\n",
    "preprocessed_reviews = []\n",
    "# tqdm is for printing the status bar\n",
    "for sentance in tqdm(final['Text'].values):\n",
    "    sentance = re.sub(r\"http\\S+\", \"\", sentance)             #remove html tags\n",
    "    sentance = BeautifulSoup(sentance, 'lxml').get_text()   #remove all tags from an element\n",
    "    sentance = decontracted(sentance)                       #expand shortform words Ex: don't ==> do not \n",
    "    sentance = re.sub(\"\\S*\\d\\S*\", \"\", sentance).strip()     #remove words with numbers\n",
    "    #sentance = re.sub('[^A-Za-z]+', ' ', sentance)         \n",
    "    sentance = re.sub('[^A-Za-z0-9]+',' ',sentance)         #remove special characters.\n",
    "    # https://gist.github.com/sebleier/554280\n",
    "    sentance = ' '.join(e.lower() for e in sentance.split() if e.lower() not in stopwords )\n",
    "    preprocessed_reviews.append(sentance.strip())"
   ]
  },
  {
   "cell_type": "code",
   "execution_count": 17,
   "metadata": {},
   "outputs": [],
   "source": [
    "#preprocessed_reviews[1500]"
   ]
  },
  {
   "cell_type": "code",
   "execution_count": 18,
   "metadata": {},
   "outputs": [
    {
     "data": {
      "text/html": [
       "<div>\n",
       "<style scoped>\n",
       "    .dataframe tbody tr th:only-of-type {\n",
       "        vertical-align: middle;\n",
       "    }\n",
       "\n",
       "    .dataframe tbody tr th {\n",
       "        vertical-align: top;\n",
       "    }\n",
       "\n",
       "    .dataframe thead th {\n",
       "        text-align: right;\n",
       "    }\n",
       "</style>\n",
       "<table border=\"1\" class=\"dataframe\">\n",
       "  <thead>\n",
       "    <tr style=\"text-align: right;\">\n",
       "      <th></th>\n",
       "      <th>Text</th>\n",
       "      <th>CleanedReviewText</th>\n",
       "    </tr>\n",
       "  </thead>\n",
       "  <tbody>\n",
       "    <tr>\n",
       "      <th>138706</th>\n",
       "      <td>this witty little book makes my son laugh at l...</td>\n",
       "      <td>witty little book makes son laugh loud recite ...</td>\n",
       "    </tr>\n",
       "    <tr>\n",
       "      <th>138688</th>\n",
       "      <td>I grew up reading these Sendak books, and watc...</td>\n",
       "      <td>grew reading sendak books watching really rosi...</td>\n",
       "    </tr>\n",
       "    <tr>\n",
       "      <th>138689</th>\n",
       "      <td>This is a fun way for children to learn their ...</td>\n",
       "      <td>fun way children learn months year learn poems...</td>\n",
       "    </tr>\n",
       "    <tr>\n",
       "      <th>138690</th>\n",
       "      <td>This is a great little book to read aloud- it ...</td>\n",
       "      <td>great little book read aloud nice rhythm well ...</td>\n",
       "    </tr>\n",
       "    <tr>\n",
       "      <th>138691</th>\n",
       "      <td>This is a book of poetry about the months of t...</td>\n",
       "      <td>book poetry months year goes month cute little...</td>\n",
       "    </tr>\n",
       "  </tbody>\n",
       "</table>\n",
       "</div>"
      ],
      "text/plain": [
       "                                                     Text  \\\n",
       "138706  this witty little book makes my son laugh at l...   \n",
       "138688  I grew up reading these Sendak books, and watc...   \n",
       "138689  This is a fun way for children to learn their ...   \n",
       "138690  This is a great little book to read aloud- it ...   \n",
       "138691  This is a book of poetry about the months of t...   \n",
       "\n",
       "                                        CleanedReviewText  \n",
       "138706  witty little book makes son laugh loud recite ...  \n",
       "138688  grew reading sendak books watching really rosi...  \n",
       "138689  fun way children learn months year learn poems...  \n",
       "138690  great little book read aloud nice rhythm well ...  \n",
       "138691  book poetry months year goes month cute little...  "
      ]
     },
     "execution_count": 18,
     "metadata": {},
     "output_type": "execute_result"
    }
   ],
   "source": [
    "# Add the preprocessed reviews to the dataframe as a new column.\n",
    "\n",
    "# adding a column \"CleanedText\" to the final cleaned dataset that displays the data after \n",
    "# pre-processing of the review. \n",
    "final['CleanedReviewText']=''\n",
    "final['CleanedReviewText']=preprocessed_reviews \n",
    "final[['Text','CleanedReviewText']].head()"
   ]
  },
  {
   "cell_type": "code",
   "execution_count": null,
   "metadata": {},
   "outputs": [],
   "source": []
  },
  {
   "cell_type": "markdown",
   "metadata": {},
   "source": [
    "<h2><font color='red'>[3.2] Preprocessing Review Summary</font></h2>"
   ]
  },
  {
   "cell_type": "code",
   "execution_count": 19,
   "metadata": {},
   "outputs": [
    {
     "name": "stderr",
     "output_type": "stream",
     "text": [
      "100%|███████████████████████████████████████████████████████████████████████████████████████████████████████████████████████████████████████████████████████████████████| 364171/364171 [02:59<00:00, 2030.33it/s]\n"
     ]
    }
   ],
   "source": [
    "## Similartly you can do preprocessing for review summary also.\n",
    "# Combining all the above statements \n",
    "from bs4 import BeautifulSoup\n",
    "from tqdm import tqdm\n",
    "preprocessed_summary = []\n",
    "# tqdm is for printing the status bar\n",
    "for sentance in tqdm(final['Summary'].values):\n",
    "    sentance = re.sub(r\"http\\S+\", \"\", sentance)             #remove html tags\n",
    "    sentance = BeautifulSoup(sentance, 'lxml').get_text()   #remove all tags from an element\n",
    "    sentance = decontracted(sentance)                       #expand shortform words Ex: don't ==> do not \n",
    "    sentance = re.sub(\"\\S*\\d\\S*\", \"\", sentance).strip()     #remove words with numbers\n",
    "    #sentance = re.sub('[^A-Za-z]+', ' ', sentance)         \n",
    "    sentance = re.sub('[^A-Za-z0-9]+',' ',sentance)         #remove special characters.\n",
    "    # https://gist.github.com/sebleier/554280\n",
    "    sentance = ' '.join(e.lower() for e in sentance.split() if e.lower() not in stopwords)\n",
    "    preprocessed_summary.append(sentance.strip())"
   ]
  },
  {
   "cell_type": "code",
   "execution_count": 20,
   "metadata": {},
   "outputs": [
    {
     "data": {
      "text/html": [
       "<div>\n",
       "<style scoped>\n",
       "    .dataframe tbody tr th:only-of-type {\n",
       "        vertical-align: middle;\n",
       "    }\n",
       "\n",
       "    .dataframe tbody tr th {\n",
       "        vertical-align: top;\n",
       "    }\n",
       "\n",
       "    .dataframe thead th {\n",
       "        text-align: right;\n",
       "    }\n",
       "</style>\n",
       "<table border=\"1\" class=\"dataframe\">\n",
       "  <thead>\n",
       "    <tr style=\"text-align: right;\">\n",
       "      <th></th>\n",
       "      <th>Summary</th>\n",
       "      <th>CleanedSummaryText</th>\n",
       "    </tr>\n",
       "  </thead>\n",
       "  <tbody>\n",
       "    <tr>\n",
       "      <th>138706</th>\n",
       "      <td>EVERY book is educational</td>\n",
       "      <td>every book educational</td>\n",
       "    </tr>\n",
       "    <tr>\n",
       "      <th>138688</th>\n",
       "      <td>Love the book, miss the hard cover version</td>\n",
       "      <td>love book miss hard cover version</td>\n",
       "    </tr>\n",
       "    <tr>\n",
       "      <th>138689</th>\n",
       "      <td>chicken soup with rice months</td>\n",
       "      <td>chicken soup rice months</td>\n",
       "    </tr>\n",
       "    <tr>\n",
       "      <th>138690</th>\n",
       "      <td>a good swingy rhythm for reading aloud</td>\n",
       "      <td>good swingy rhythm reading aloud</td>\n",
       "    </tr>\n",
       "    <tr>\n",
       "      <th>138691</th>\n",
       "      <td>A great way to learn the months</td>\n",
       "      <td>great way learn months</td>\n",
       "    </tr>\n",
       "  </tbody>\n",
       "</table>\n",
       "</div>"
      ],
      "text/plain": [
       "                                           Summary  \\\n",
       "138706                   EVERY book is educational   \n",
       "138688  Love the book, miss the hard cover version   \n",
       "138689               chicken soup with rice months   \n",
       "138690      a good swingy rhythm for reading aloud   \n",
       "138691             A great way to learn the months   \n",
       "\n",
       "                       CleanedSummaryText  \n",
       "138706             every book educational  \n",
       "138688  love book miss hard cover version  \n",
       "138689           chicken soup rice months  \n",
       "138690   good swingy rhythm reading aloud  \n",
       "138691             great way learn months  "
      ]
     },
     "execution_count": 20,
     "metadata": {},
     "output_type": "execute_result"
    }
   ],
   "source": [
    "# Add the preprocessed summary to the dataframe as a new column.\n",
    "\n",
    "# adding a column \"CleanedText\" to the final cleaned dataset that displays the data after \n",
    "# pre-processing of the review. \n",
    "final['CleanedSummaryText']=preprocessed_summary \n",
    "final[['Summary','CleanedSummaryText']].head()"
   ]
  },
  {
   "cell_type": "code",
   "execution_count": 21,
   "metadata": {},
   "outputs": [],
   "source": [
    "## Enrich each review comment with the summary comments.\n",
    "final['CleanedReviewSummaryText'] = ''\n",
    "final['CleanedReviewSummaryText'] = final['CleanedReviewText'] + final['CleanedSummaryText']"
   ]
  },
  {
   "cell_type": "markdown",
   "metadata": {},
   "source": [
    "#### Use PrettyTable for summarizing results."
   ]
  },
  {
   "cell_type": "code",
   "execution_count": 22,
   "metadata": {},
   "outputs": [],
   "source": [
    "# Load the prettytable\n",
    "from prettytable import PrettyTable\n",
    "\n",
    "# Instantiate the prettytable module.\n",
    "# Table to summarize our final conclusion.\n",
    "summaryTable = PrettyTable()\n",
    "# Set the column names for the table.\n",
    "summaryTable.field_names = [\"Kernel-Type\",\"Text-VectorizationType\",\"Hyper-Paramter(alpha)\",\"Performance Metric\", \"Value\"]\n",
    "\n",
    "# Instantiate the prettytable module.\n",
    "# Table to summarize our final conclusion.\n",
    "summaryTableRBFKernel = PrettyTable()\n",
    "# Set the column names for the table.\n",
    "summaryTableRBFKernel.field_names = [\"Kernel-Type\",\"Text-VectorizationType\",\"Hyper-Paramter(alpha)\",\"Performance Metric\", \"Value\"]\n"
   ]
  },
  {
   "cell_type": "code",
   "execution_count": 107,
   "metadata": {},
   "outputs": [],
   "source": []
  },
  {
   "cell_type": "markdown",
   "metadata": {},
   "source": [
    "# [4] Featurization"
   ]
  },
  {
   "cell_type": "markdown",
   "metadata": {},
   "source": [
    "## [4.1] BAG OF WORDS"
   ]
  },
  {
   "cell_type": "code",
   "execution_count": null,
   "metadata": {},
   "outputs": [],
   "source": [
    "\"\"\"\n",
    "#BoW\n",
    "count_vect = CountVectorizer() #in scikit-learn\n",
    "count_vect.fit(preprocessed_reviews)\n",
    "print(\"some feature names \", count_vect.get_feature_names()[:10])\n",
    "print('='*50)\n",
    "\n",
    "final_counts = count_vect.transform(preprocessed_reviews)\n",
    "print(\"the type of count vectorizer \",type(final_counts))\n",
    "print(\"the shape of out text BOW vectorizer \",final_counts.get_shape())\n",
    "print(\"the number of unique words \", final_counts.get_shape()[1])\n",
    "\"\"\""
   ]
  },
  {
   "cell_type": "markdown",
   "metadata": {},
   "source": [
    "## [4.2] Bi-Grams and n-Grams."
   ]
  },
  {
   "cell_type": "code",
   "execution_count": null,
   "metadata": {},
   "outputs": [],
   "source": [
    "\"\"\"\n",
    "#bi-gram, tri-gram and n-gram\n",
    "\n",
    "#removing stop words like \"not\" should be avoided before building n-grams\n",
    "# count_vect = CountVectorizer(ngram_range=(1,2))\n",
    "# please do read the CountVectorizer documentation http://scikit-learn.org/stable/modules/generated/sklearn.feature_extraction.text.CountVectorizer.html\n",
    "\n",
    "# you can choose these numebrs min_df=10, max_features=5000, of your choice\n",
    "count_vect = CountVectorizer(ngram_range=(1,2), min_df=10, max_features=5000)\n",
    "final_bigram_counts = count_vect.fit_transform(preprocessed_reviews)\n",
    "print(\"the type of count vectorizer \",type(final_bigram_counts))\n",
    "print(\"the shape of out text BOW vectorizer \",final_bigram_counts.get_shape())\n",
    "print(\"the number of unique words including both unigrams and bigrams \", final_bigram_counts.get_shape()[1])\n",
    "\"\"\""
   ]
  },
  {
   "cell_type": "markdown",
   "metadata": {},
   "source": [
    "## [4.3] TF-IDF"
   ]
  },
  {
   "cell_type": "code",
   "execution_count": null,
   "metadata": {},
   "outputs": [],
   "source": [
    "\"\"\"\n",
    "tf_idf_vect = TfidfVectorizer(ngram_range=(1,2), min_df=10)\n",
    "tf_idf_vect.fit(preprocessed_reviews)\n",
    "print(\"some sample features(unique words in the corpus)\",tf_idf_vect.get_feature_names()[0:10])\n",
    "print('='*50)\n",
    "\n",
    "final_tf_idf = tf_idf_vect.transform(preprocessed_reviews)\n",
    "print(\"the type of count vectorizer \",type(final_tf_idf))\n",
    "print(\"the shape of out text TFIDF vectorizer \",final_tf_idf.get_shape())\n",
    "print(\"the number of unique words including both unigrams and bigrams \", final_tf_idf.get_shape()[1])\n",
    "\"\"\""
   ]
  },
  {
   "cell_type": "markdown",
   "metadata": {},
   "source": [
    "## [4.4] Word2Vec"
   ]
  },
  {
   "cell_type": "code",
   "execution_count": 30,
   "metadata": {},
   "outputs": [],
   "source": [
    "\"\"\"\n",
    "# Train your own Word2Vec model using your own text corpus\n",
    "i=0\n",
    "list_of_sentance=[]\n",
    "for sentance in preprocessed_reviews:\n",
    "    list_of_sentance.append(sentance.split())\n",
    "\"\"\""
   ]
  },
  {
   "cell_type": "code",
   "execution_count": null,
   "metadata": {
    "scrolled": true
   },
   "outputs": [],
   "source": [
    "\"\"\"\n",
    "# Using Google News Word2Vectors\n",
    "\n",
    "# in this project we are using a pretrained model by google\n",
    "# its 3.3G file, once you load this into your memory \n",
    "# it occupies ~9Gb, so please do this step only if you have >12G of ram\n",
    "# we will provide a pickle file wich contains a dict , \n",
    "# and it contains all our courpus words as keys and  model[word] as values\n",
    "# To use this code-snippet, download \"GoogleNews-vectors-negative300.bin\" \n",
    "# from https://drive.google.com/file/d/0B7XkCwpI5KDYNlNUTTlSS21pQmM/edit\n",
    "# it's 1.9GB in size.\n",
    "\n",
    "\n",
    "# http://kavita-ganesan.com/gensim-word2vec-tutorial-starter-code/#.W17SRFAzZPY\n",
    "# you can comment this whole cell\n",
    "# or change these varible according to your need\n",
    "\n",
    "is_your_ram_gt_16g=False\n",
    "want_to_use_google_w2v = False\n",
    "want_to_train_w2v = True\n",
    "\n",
    "if want_to_train_w2v:\n",
    "    # min_count = 5 considers only words that occured atleast 5 times\n",
    "    w2v_model=Word2Vec(list_of_sentance,min_count=5,size=50, workers=4)\n",
    "    print(w2v_model.wv.most_similar('great'))\n",
    "    print('='*50)\n",
    "    print(w2v_model.wv.most_similar('worst'))\n",
    "    \n",
    "elif want_to_use_google_w2v and is_your_ram_gt_16g:\n",
    "    if os.path.isfile('GoogleNews-vectors-negative300.bin'):\n",
    "        w2v_model=KeyedVectors.load_word2vec_format('GoogleNews-vectors-negative300.bin', binary=True)\n",
    "        print(w2v_model.wv.most_similar('great'))\n",
    "        print(w2v_model.wv.most_similar('worst'))\n",
    "    else:\n",
    "        print(\"you don't have gogole's word2vec file, keep want_to_train_w2v = True, to train your own w2v \")\n",
    "\"\"\""
   ]
  },
  {
   "cell_type": "code",
   "execution_count": null,
   "metadata": {},
   "outputs": [],
   "source": [
    "\"\"\"\n",
    "w2v_words = list(w2v_model.wv.vocab)\n",
    "print(\"number of words that occured minimum 5 times \",len(w2v_words))\n",
    "print(\"sample words \", w2v_words[0:50])\n",
    "\"\"\""
   ]
  },
  {
   "cell_type": "markdown",
   "metadata": {},
   "source": [
    "## [4.4.1] Converting text into vectors using Avg W2V, TFIDF-W2V"
   ]
  },
  {
   "cell_type": "markdown",
   "metadata": {},
   "source": [
    "#### [4.4.1.1] Avg W2v"
   ]
  },
  {
   "cell_type": "code",
   "execution_count": null,
   "metadata": {},
   "outputs": [],
   "source": [
    "\"\"\"\n",
    "# average Word2Vec\n",
    "# compute average word2vec for each review.\n",
    "sent_vectors = []; # the avg-w2v for each sentence/review is stored in this list\n",
    "for sent in tqdm(list_of_sentance): # for each review/sentence\n",
    "    sent_vec = np.zeros(50) # as word vectors are of zero length 50, you might need to change this to 300 if you use google's w2v\n",
    "    cnt_words =0; # num of words with a valid vector in the sentence/review\n",
    "    for word in sent: # for each word in a review/sentence\n",
    "        if word in w2v_words:\n",
    "            vec = w2v_model.wv[word]\n",
    "            sent_vec += vec\n",
    "            cnt_words += 1\n",
    "    if cnt_words != 0:\n",
    "        sent_vec /= cnt_words\n",
    "    sent_vectors.append(sent_vec)\n",
    "print(len(sent_vectors))\n",
    "print(len(sent_vectors[0]))\n",
    "\"\"\""
   ]
  },
  {
   "cell_type": "markdown",
   "metadata": {},
   "source": [
    "#### [4.4.1.2] TFIDF weighted W2v"
   ]
  },
  {
   "cell_type": "code",
   "execution_count": 39,
   "metadata": {},
   "outputs": [],
   "source": [
    "\"\"\"\n",
    "# S = [\"abc def pqr\", \"def def def abc\", \"pqr pqr def\"]\n",
    "model = TfidfVectorizer()\n",
    "tf_idf_matrix = model.fit_transform(preprocessed_reviews)\n",
    "# we are converting a dictionary with word as a key, and the idf as a value\n",
    "dictionary = dict(zip(model.get_feature_names(), list(model.idf_)))\n",
    "\"\"\""
   ]
  },
  {
   "cell_type": "code",
   "execution_count": null,
   "metadata": {
    "scrolled": true
   },
   "outputs": [],
   "source": [
    "\"\"\"\n",
    "# TF-IDF weighted Word2Vec\n",
    "tfidf_feat = model.get_feature_names() # tfidf words/col-names\n",
    "# final_tf_idf is the sparse matrix with row= sentence, col=word and cell_val = tfidf\n",
    "\n",
    "tfidf_sent_vectors = []; # the tfidf-w2v for each sentence/review is stored in this list\n",
    "row=0;\n",
    "for sent in tqdm(list_of_sentance): # for each review/sentence \n",
    "    sent_vec = np.zeros(50) # as word vectors are of zero length\n",
    "    weight_sum =0; # num of words with a valid vector in the sentence/review\n",
    "    for word in sent: # for each word in a review/sentence\n",
    "        if word in w2v_words and word in tfidf_feat:\n",
    "            vec = w2v_model.wv[word]\n",
    "#             tf_idf = tf_idf_matrix[row, tfidf_feat.index(word)]\n",
    "            # to reduce the computation we are \n",
    "            # dictionary[word] = idf value of word in whole courpus\n",
    "            # sent.count(word) = tf valeus of word in this review\n",
    "            tf_idf = dictionary[word]*(sent.count(word)/len(sent))\n",
    "            sent_vec += (vec * tf_idf)\n",
    "            weight_sum += tf_idf\n",
    "    if weight_sum != 0:\n",
    "        sent_vec /= weight_sum\n",
    "    tfidf_sent_vectors.append(sent_vec)\n",
    "    row += 1\n",
    "\"\"\""
   ]
  },
  {
   "cell_type": "markdown",
   "metadata": {},
   "source": [
    "# [5] Assignment 7: SVM"
   ]
  },
  {
   "cell_type": "markdown",
   "metadata": {},
   "source": [
    "<ol>\n",
    "    <li><strong>Apply SVM on these feature sets</strong>\n",
    "        <ul>\n",
    "            <li><font color='red'>SET 1:</font>Review text, preprocessed one converted into vectors using (BOW)</li>\n",
    "            <li><font color='red'>SET 2:</font>Review text, preprocessed one converted into vectors using (TFIDF)</li>\n",
    "            <li><font color='red'>SET 3:</font>Review text, preprocessed one converted into vectors using (AVG W2v)</li>\n",
    "            <li><font color='red'>SET 4:</font>Review text, preprocessed one converted into vectors using (TFIDF W2v)</li>\n",
    "        </ul>\n",
    "    </li>\n",
    "    <br>\n",
    "    <li><strong>Procedure</strong>\n",
    "        <ul>\n",
    "    <li>You need to work with 2 versions of SVM\n",
    "        <ul><li>Linear kernel</li>\n",
    "            <li>RBF kernel</li></ul>\n",
    "    <li>When you are working with linear kernel, use SGDClassifier’ with hinge loss because it is computationally less expensive.</li>\n",
    "    <li>When you are working with ‘SGDClassifier’ with hinge loss and trying to find the AUC\n",
    "        score, you would have to use <a href='https://scikit-learn.org/stable/modules/generated/sklearn.calibration.CalibratedClassifierCV.html'>CalibratedClassifierCV</a></li>\n",
    "    <li>Similarly, like kdtree of knn, when you are working with RBF kernel it's better to reduce\n",
    "the number of dimensions. You can put min_df = 10, max_features = 500 and consider a sample size of 40k points.</li>                \n",
    "        </ul>\n",
    "    </li>\n",
    "    <br>\n",
    "    <li><strong>Hyper paramter tuning (find best alpha in range [10^-4 to 10^4], and the best penalty among 'l1', 'l2')</strong>\n",
    "        <ul>\n",
    "    <li>Find the best hyper parameter which will give the maximum <a href='https://www.appliedaicourse.com/course/applied-ai-course-online/lessons/receiver-operating-characteristic-curve-roc-curve-and-auc-1/'>AUC</a> value</li>\n",
    "    <li>Find the best hyper paramter using k-fold cross validation or simple cross validation data</li>\n",
    "    <li>Use gridsearch cv or randomsearch cv or you can also write your own for loops to do this task of hyperparameter tuning</li>          \n",
    "        </ul>\n",
    "    </li>\n",
    "    <br>\n",
    "    <li><strong>Feature importance</strong>\n",
    "        <ul>\n",
    "    <li>When you are working on the linear kernel with BOW or TFIDF please print the top 10 best\n",
    "features for each of the positive and negative classes.</li>\n",
    "        </ul>\n",
    "    </li>\n",
    "    <br>\n",
    "    <li><strong>Feature engineering</strong>\n",
    "        <ul>\n",
    "    <li>To increase the performance of your model, you can also experiment with with feature engineering like :</li>\n",
    "            <ul>\n",
    "            <li>Taking length of reviews as another feature.</li>\n",
    "            <li>Considering some features from review summary as well.</li>\n",
    "        </ul>\n",
    "        </ul>\n",
    "    </li>\n",
    "    <br>\n",
    "    <li><strong>Representation of results</strong>\n",
    "        <ul>\n",
    "    <li>You need to plot the performance of model both on train data and cross validation data for each hyper parameter, like shown in the figure.\n",
    "    <img src='train_cv_auc.JPG' width=300px></li>\n",
    "    <li>Once after you found the best hyper parameter, you need to train your model with it, and find the AUC on test data and plot the ROC curve on both train and test.\n",
    "    <img src='train_test_auc.JPG' width=300px></li>\n",
    "    <li>Along with plotting ROC curve, you need to print the <a href='https://www.appliedaicourse.com/course/applied-ai-course-online/lessons/confusion-matrix-tpr-fpr-fnr-tnr-1/'>confusion matrix</a> with predicted and original labels of test data points. Please visualize your confusion matrices using <a href='https://seaborn.pydata.org/generated/seaborn.heatmap.html'>seaborn heatmaps.\n",
    "    <img src='confusion_matrix.png' width=300px></li>\n",
    "        </ul>\n",
    "    </li>\n",
    "    <br>\n",
    "    <li><strong>Conclusion</strong>\n",
    "        <ul>\n",
    "    <li>You need to summarize the results at the end of the notebook, summarize it in the table format. To print out a table please refer to this prettytable library<a href='http://zetcode.com/python/prettytable/'>  link</a> \n",
    "        <img src='summary.JPG' width=400px>\n",
    "    </li>\n",
    "        </ul>\n",
    "</ol>"
   ]
  },
  {
   "cell_type": "markdown",
   "metadata": {},
   "source": [
    "<h4><font color='red'>Note: Data Leakage</font></h4>\n",
    "\n",
    "1. There will be an issue of data-leakage if you vectorize the entire data and then split it into train/cv/test.\n",
    "2. To avoid the issue of data-leakag, make sure to split your data first and then vectorize it. \n",
    "3. While vectorizing your data, apply the method fit_transform() on you train data, and apply the method transform() on cv/test data.\n",
    "4. For more details please go through this <a href='https://soundcloud.com/applied-ai-course/leakage-bow-and-tfidf'>link.</a>"
   ]
  },
  {
   "cell_type": "markdown",
   "metadata": {},
   "source": [
    "# Applying SVM"
   ]
  },
  {
   "cell_type": "markdown",
   "metadata": {},
   "source": [
    "## [5.1] Linear SVM"
   ]
  },
  {
   "cell_type": "code",
   "execution_count": null,
   "metadata": {},
   "outputs": [],
   "source": []
  },
  {
   "cell_type": "markdown",
   "metadata": {},
   "source": [
    "#### Apply Time Based Sorting and Sample 100K points"
   ]
  },
  {
   "cell_type": "code",
   "execution_count": 25,
   "metadata": {},
   "outputs": [
    {
     "name": "stdout",
     "output_type": "stream",
     "text": [
      "(100000, 14)\n"
     ]
    }
   ],
   "source": [
    "# Add a new column for TimeStamp that is of Datetime datatype,since the dataset's time column is of\n",
    "# integer datatype.\n",
    "import datetime\n",
    "\n",
    "# Assign the Time column to a new variable.\n",
    "final_timesplit = final['Time']\n",
    "\n",
    "# Convert the datatype of the time column from integer to datetime.\n",
    "final_timesplit = final_timesplit.apply(datetime.datetime.fromtimestamp)\n",
    "\n",
    "# Create a new column to store the new time column whose datatype is datetime\n",
    "final['TimeSplit']  = final_timesplit\n",
    "\n",
    "# Sort the final dataset in descending order of time.\n",
    "final_dataset = final.sort_values(['TimeSplit'],ascending=False)\n",
    "\n",
    "#Sample 100K points after time based sorting.\n",
    "final = final_dataset[:100000]\n",
    "# Store label info separately.\n",
    "label = final['Score'][:100000]\n",
    "\n",
    "print(final.shape)\n",
    "\n",
    "# Assign the cleaned text and the class label for the split.\n",
    "X = final['CleanedReviewSummaryText']\n",
    "Y = final['Score']\n",
    "\n",
    "# Split the dataset in the following ratios:\n",
    "# Total row considered is 364171.\n",
    "\n",
    "# Input split\n",
    "X_train = X[0:60000]            #Train = First 60% of the sorted dataframe;\n",
    "X_cv    = X[60000:80000]        #CV    = Next  20% of the sorted dataframe;\n",
    "X_test  = X[80000:100000]       #Test  = Remaining 20% of the sorted dataframe.\n",
    "\n",
    "#Class lable split.\n",
    "Y_train = Y[0:60000]            #Train = First 60% of the sorted dataframe;\n",
    "Y_cv    = Y[60000:80000]        #CV    = Next  20% of the sorted dataframe;\n",
    "Y_test  = Y[80000:100000]       #Test  = Remaining 20% of the sorted dataframe.\n"
   ]
  },
  {
   "cell_type": "markdown",
   "metadata": {},
   "source": [
    "### [5.1.1] Applying Linear SVM on BOW,<font color='red'> SET 1</font>"
   ]
  },
  {
   "cell_type": "markdown",
   "metadata": {},
   "source": [
    "#### [5.1.1.1] Convert reviews present in trainingset into numeric vectors using Bag Of Words (BoW)"
   ]
  },
  {
   "cell_type": "code",
   "execution_count": 26,
   "metadata": {},
   "outputs": [
    {
     "name": "stdout",
     "output_type": "stream",
     "text": [
      "the type of count vectorizer  <class 'scipy.sparse.csr.csr_matrix'>\n",
      "the shape of out text BOW vectorizer  (60000, 5000)\n",
      "the number of unique words  5000\n"
     ]
    }
   ],
   "source": [
    "# Apply BoW vectorization : bi-gram,tri-gram and n-gram\n",
    "\n",
    "#Instantiate the BoW vectorizer.\n",
    "count_vect = CountVectorizer(dtype='float64',ngram_range=(1,2), min_df=10, max_features=5000) #in scikit-learn bi-gram\n",
    "\n",
    "#Train you countvectorizer on the train data\n",
    "final_bigram_counts = count_vect.fit_transform(X_train.values.astype('U'))\n",
    "\n",
    "#Print the type,shape and unique words of the BoW vectorizer on the training set. \n",
    "print(\"the type of count vectorizer \",type(final_bigram_counts))\n",
    "print(\"the shape of out text BOW vectorizer \",final_bigram_counts.get_shape())\n",
    "print(\"the number of unique words \", final_bigram_counts.get_shape()[1])"
   ]
  },
  {
   "cell_type": "markdown",
   "metadata": {},
   "source": [
    "#### [5.1.1.2] Use the BoW vectorizer trained in the preceding step to convert CVset and Testset to vectors."
   ]
  },
  {
   "cell_type": "code",
   "execution_count": 27,
   "metadata": {},
   "outputs": [
    {
     "name": "stdout",
     "output_type": "stream",
     "text": [
      "the type of count vectorizer  <class 'scipy.sparse.csr.csr_matrix'>\n",
      "the shape of out text BOW vectorizer  (20000, 5000)\n",
      "the number of unique words  5000\n",
      "the type of count vectorizer  <class 'scipy.sparse.csr.csr_matrix'>\n",
      "the shape of out text BOW vectorizer  (20000, 5000)\n",
      "the number of unique words  5000\n"
     ]
    }
   ],
   "source": [
    "#Use the same vectorizer trained on the training set, on the cv set.\n",
    "final_bigram_counts_cvset = count_vect.transform(X_cv.values)\n",
    "\n",
    "#Print the type,shape and unique words of the BoW vectorizer on the testset. \n",
    "print(\"the type of count vectorizer \",type(final_bigram_counts_cvset))\n",
    "print(\"the shape of out text BOW vectorizer \",final_bigram_counts_cvset.get_shape())\n",
    "print(\"the number of unique words \", final_bigram_counts_cvset.get_shape()[1])\n",
    "\n",
    "#Use the same vectorizer trained on the training set, on the test set.\n",
    "final_bigram_counts_testset = count_vect.transform(X_test.values)\n",
    "\n",
    "#Print the type,shape and unique words of the BoW vectorizer on the testset. \n",
    "print(\"the type of count vectorizer \",type(final_bigram_counts_testset))\n",
    "print(\"the shape of out text BOW vectorizer \",final_bigram_counts_testset.get_shape())\n",
    "print(\"the number of unique words \", final_bigram_counts_testset.get_shape()[1])"
   ]
  },
  {
   "cell_type": "markdown",
   "metadata": {},
   "source": [
    "#### [5.1.1.3] Standardize the data"
   ]
  },
  {
   "cell_type": "code",
   "execution_count": 28,
   "metadata": {},
   "outputs": [],
   "source": [
    "# Data-preprocessing: Normalizing the data\n",
    "\n",
    "# Import the Normailizer module.\n",
    "from sklearn.preprocessing import Normalizer\n",
    "\n",
    "# Instantiate the Normailizer module.\n",
    "normalizer = Normalizer()\n",
    "\n",
    "#Standardize the normailizer on the train data.\n",
    "X_train_stdzd = normalizer.fit_transform(final_bigram_counts)\n",
    "\n",
    "#Standardize the normailizer on the cv data.\n",
    "X_cv_stdzd = normalizer.transform(final_bigram_counts_cvset)\n",
    "\n",
    "# use the same normalizer on the test set.\n",
    "X_test_stdzd  = normalizer.transform(final_bigram_counts_testset) "
   ]
  },
  {
   "cell_type": "markdown",
   "metadata": {},
   "source": [
    "#### [5.1.1.4] (L1 regularizer) Hyper-Parameter Tuning : Using the cross-validation dataset to calculate the optimal 'alpha' of Linear SVM in BoW case."
   ]
  },
  {
   "cell_type": "code",
   "execution_count": 29,
   "metadata": {},
   "outputs": [
    {
     "name": "stdout",
     "output_type": "stream",
     "text": [
      "Alpha :\n",
      "[10000, 1000, 100, 10, 1, 0.1, 0.01, 0.001, 0.0001]\n",
      "\n",
      "AuC :\n",
      "[0.5, 0.5, 0.5, 0.5, 0.5, 0.5, 0.7114196858001651, 0.8725304409826746, 0.9493418353775418]\n",
      "\n",
      "Plot of CrossValidationAuC vs Log of alpha:\n"
     ]
    },
    {
     "data": {
      "image/png": "[encoded data removed]",
      "text/plain": [
       "<matplotlib.figure.Figure at 0x15721bbae10>"
      ]
     },
     "metadata": {},
     "output_type": "display_data"
    },
    {
     "name": "stdout",
     "output_type": "stream",
     "text": [
      "Starttime is : 2019-01-17 11:28:44.568440\n",
      "Endtime   is : 2019-01-17 11:28:57.571586\n"
     ]
    }
   ],
   "source": [
    "# Import the SGDClassifier with Hinge loss = linearSVM .\n",
    "from sklearn.linear_model import SGDClassifier\n",
    "# Need to get the probability score of each class label.\n",
    "from sklearn.calibration import CalibratedClassifierCV\n",
    "# Import the metrics module.\n",
    "from sklearn.metrics import roc_auc_score\n",
    "\n",
    "# Set the start time of the current cell run.\n",
    "starttime_lrsvm_bow = datetime.datetime.now()\n",
    "\n",
    "# Set the range for the hyper-parameters.\n",
    "# Experiment with alpha ranges between 1/10000 to 10000.\n",
    "# Here alpha is the hyper-parameter of the SGDClassifier (LinearSVM model)\n",
    "\n",
    "hp_alpha = [10000,1000,100,10,1,0.1,0.01,0.001,0.0001]\n",
    "\n",
    "# Use the cross-validation dataset to determine the best hyper-parameter alpha.\n",
    "# Loop through various values of alpha.\n",
    "plot_X = []\n",
    "plot_Y = []\n",
    "for i in hp_alpha:\n",
    "    # Iterate through various values of alpha,\n",
    "    lrsvm_optimal = SGDClassifier(loss='hinge',            # gives LinearSVM model.\n",
    "                                  penalty='l1',            # use L1 regularizer.\n",
    "                                  alpha=(i),               # Hyper-parameter of the current iteration.\n",
    "                                  class_weight='balanced') # uses the values of y to automatically \n",
    "                                                           # adjust weights in the input data.\n",
    "\n",
    "    ### Use CalibratedClassifierCV\n",
    "    ### Reference : https://machinelearningmastery.com/calibrated-classification-model-in-scikit-learn/ \n",
    "    # Instantiate the CalibratedClassifierCV model.\n",
    "    calibratedCCV = CalibratedClassifierCV(lrsvm_optimal,    # LinearSVM model.\n",
    "                                           method='sigmoid', # sigmoid function.\n",
    "                                           cv=5)             # crossvalidation #'s.\n",
    "    \n",
    "    calibratedCCV.fit(X_train_stdzd, Y_train)                # fit the model on the training set.\n",
    "    Y_pred = calibratedCCV.predict_proba(X_cv_stdzd)[:, 1]   # predict class probabilities.\n",
    "\n",
    "    # Compute AuC metric.\n",
    "    plot_X.append(np.log(i))                                # plot log(alpha) in the x-axis.\n",
    "    plot_Y.append(roc_auc_score(Y_cv,Y_pred))               # plot auc score in the y-axis.\n",
    "\n",
    "# print X,Y\n",
    "print(\"Alpha :\\n{}\".format(hp_alpha))\n",
    "print(\"\\nAuC :\\n{}\".format(plot_Y))\n",
    "\n",
    "print(\"\\nPlot of CrossValidationAuC vs Log of alpha:\")\n",
    "# Plot X-axis = log(alpha),Y-axis = AuC to determine the best hyper-parameter.\n",
    "plt.plot(plot_X,plot_Y)\n",
    "plt.title(\"L1 Regularizer : Plot of CrossValidationAuC vs log(alpha) .\")  # Set the title of the plot.\n",
    "plt.xlabel(\"log(alpha)\")                                                  # Set the x label of the plot.\n",
    "plt.ylabel(\"CrossValidation AuC\")                                         # Set the y label of the plot.\n",
    "plt.show()                                                                # render the plot.\n",
    "\n",
    "# Set the end time of the current cell run.\n",
    "endtime_lrsvm_bow = datetime.datetime.now()\n",
    "\n",
    "# Print the cell run duration.\n",
    "print(\"Starttime is : {}\".format(starttime_lrsvm_bow))\n",
    "print(\"Endtime   is : {}\".format(endtime_lrsvm_bow))\n"
   ]
  },
  {
   "cell_type": "markdown",
   "metadata": {},
   "source": [
    "#### (L1 regularizer): The hyper-parameter that gives the optimal AuC score is 0.0001. The optimal AuC is 0.949 ."
   ]
  },
  {
   "cell_type": "code",
   "execution_count": null,
   "metadata": {},
   "outputs": [],
   "source": []
  },
  {
   "cell_type": "markdown",
   "metadata": {},
   "source": [
    "#### [5.1.1.5] (L2 regularizer) Hyper-Parameter Tuning : Using the cross-validation dataset to calculate the optimal 'alpha' of Linear SVM in BoW case."
   ]
  },
  {
   "cell_type": "code",
   "execution_count": 30,
   "metadata": {},
   "outputs": [
    {
     "name": "stdout",
     "output_type": "stream",
     "text": [
      "Alpha :\n",
      "[10000, 1000, 100, 10, 1, 0.1, 0.01, 0.001, 0.0001]\n",
      "\n",
      "AuC :\n",
      "[0.7814624781417585, 0.7814624781417585, 0.7814624781417585, 0.7814624781417585, 0.7814624781417585, 0.7814645281526882, 0.8205863854708593, 0.9192801133383858, 0.9537592988452701]\n",
      "\n",
      "Plot of CrossValidationAuC vs Log of alpha:\n"
     ]
    },
    {
     "data": {
      "image/png": "[encoded data removed]",
      "text/plain": [
       "<matplotlib.figure.Figure at 0x1573656f1d0>"
      ]
     },
     "metadata": {},
     "output_type": "display_data"
    },
    {
     "name": "stdout",
     "output_type": "stream",
     "text": [
      "Starttime is : 2019-01-17 11:31:09.219006\n",
      "Endtime   is : 2019-01-17 11:31:20.168375\n"
     ]
    }
   ],
   "source": [
    "# Import the SGDClassifier with Hinge loss = linearSVM .\n",
    "from sklearn.linear_model import SGDClassifier\n",
    "# Need to get the probability score of each class label.\n",
    "from sklearn.calibration import CalibratedClassifierCV\n",
    "# Import the metrics module.\n",
    "from sklearn.metrics import roc_auc_score\n",
    "\n",
    "# Set the start time of the current cell run.\n",
    "starttime_lrsvm_bow = datetime.datetime.now()\n",
    "\n",
    "# Set the range for the hyper-parameters.\n",
    "# Experiment with alpha ranges between 1/10000 to 10000.\n",
    "# Here alpha is the hyper-parameter of the SGDClassifier (LinearSVM model)\n",
    "\n",
    "hp_alpha = [10000,1000,100,10,1,0.1,0.01,0.001,0.0001]\n",
    "\n",
    "# Use the cross-validation dataset to determine the best hyper-parameter alpha.\n",
    "# Loop through various values of alpha.\n",
    "plot_X = []\n",
    "plot_Y = []\n",
    "for i in hp_alpha:\n",
    "    # Iterate through various values of alpha,\n",
    "    lrsvm_optimal = SGDClassifier(loss='hinge',            # gives LinearSVM model.\n",
    "                                  penalty='l2',            # use L2 regularizer.\n",
    "                                  alpha=(i),               # Hyper-parameter of the current iteration.\n",
    "                                  class_weight='balanced') # uses the values of y to automatically \n",
    "                                                           # adjust weights in the input data.\n",
    "\n",
    "    ### Use CalibratedClassifierCV\n",
    "    ### Reference : https://machinelearningmastery.com/calibrated-classification-model-in-scikit-learn/ \n",
    "    # Instantiate the CalibratedClassifierCV model.\n",
    "    calibratedCCV = CalibratedClassifierCV(lrsvm_optimal,    # LinearSVM model.\n",
    "                                           method='sigmoid', # sigmoid function.\n",
    "                                           cv=5)             # crossvalidation #'s.\n",
    "    \n",
    "    calibratedCCV.fit(X_train_stdzd, Y_train)                # fit the model on the training set.\n",
    "    Y_pred = calibratedCCV.predict_proba(X_cv_stdzd)[:, 1]   # predict class probabilities.\n",
    "\n",
    "    # Compute AuC metric.\n",
    "    plot_X.append(np.log(i))                                # plot log(alpha) in the x-axis.\n",
    "    plot_Y.append(roc_auc_score(Y_cv,Y_pred))               # plot auc score in the y-axis.\n",
    "\n",
    "# print X,Y\n",
    "print(\"Alpha :\\n{}\".format(hp_alpha))\n",
    "print(\"\\nAuC :\\n{}\".format(plot_Y))\n",
    "\n",
    "print(\"\\nPlot of CrossValidationAuC vs Log of alpha:\")\n",
    "# Plot X-axis = log(alpha),Y-axis = AuC to determine the best hyper-parameter.\n",
    "plt.plot(plot_X,plot_Y)\n",
    "plt.title(\"L2 Regularizer : Plot of CrossValidationAuC vs log(alpha) .\")  # Set the title of the plot.\n",
    "plt.xlabel(\"log(alpha)\")                                                  # Set the x label of the plot.\n",
    "plt.ylabel(\"CrossValidation AuC\")                                         # Set the y label of the plot.\n",
    "plt.show()                                                                # render the plot.\n",
    "\n",
    "# Set the end time of the current cell run.\n",
    "endtime_lrsvm_bow = datetime.datetime.now()\n",
    "\n",
    "# Print the cell run duration.\n",
    "print(\"Starttime is : {}\".format(starttime_lrsvm_bow))\n",
    "print(\"Endtime   is : {}\".format(endtime_lrsvm_bow))\n"
   ]
  },
  {
   "cell_type": "markdown",
   "metadata": {},
   "source": [
    "#### (L2 regularizer): \n",
    "    The hyper-parameter that gives the optimal AuC score is 0.0001.\n",
    "    The optimal AuC is 0.954 ."
   ]
  },
  {
   "cell_type": "markdown",
   "metadata": {},
   "source": [
    "#### Observation :\n",
    "    It is observed that the regularizer that gives the best AuC is L2.\n",
    "    Hence L2 regularizer is choosen."
   ]
  },
  {
   "cell_type": "code",
   "execution_count": null,
   "metadata": {},
   "outputs": [],
   "source": []
  },
  {
   "cell_type": "markdown",
   "metadata": {},
   "source": [
    "#### [5.1.1.6] : Train and Fit the LinearSVM model in the training set. Compute the performance metrics by predicting the model on the test set. Use L2 regularizer."
   ]
  },
  {
   "cell_type": "code",
   "execution_count": 31,
   "metadata": {},
   "outputs": [
    {
     "name": "stdout",
     "output_type": "stream",
     "text": [
      "Starttime is : 2019-01-17 11:32:00.580950\n",
      "Endtime   is : 2019-01-17 11:32:01.736319\n"
     ]
    }
   ],
   "source": [
    "# Import the SGDClassifier with Hinge loss = linearSVM .\n",
    "from sklearn.linear_model import SGDClassifier\n",
    "\n",
    "# Set the start time of the current cell run.\n",
    "starttime_lrsvm_bow = datetime.datetime.now()\n",
    "\n",
    "# The best value of the hyper-parameter alpha.\n",
    "optimal_alpha = 0.0001\n",
    "\n",
    "# instantiate the LinearSVM model with alpha = 0.0001 .\n",
    "lrsvm_optimal = SGDClassifier(loss='hinge',            # gives LinearSVM model.\n",
    "                              penalty='l2',            # use L2 regularizer.\n",
    "                              alpha=optimal_alpha,     # Best hyper-parameter found.\n",
    "                              class_weight='balanced') # uses the values of y to automatically \n",
    "                                                       # adjust weights in the input data.\n",
    "\n",
    "lrsvm_optimal.fit(X_train_stdzd, Y_train)           # fit the LinearSVM model.\n",
    "Y_pred_test = lrsvm_optimal.predict(X_test_stdzd)   # predict,response from the LinearSVM model.\n",
    "\n",
    "### Use CalibratedClassifierCV\n",
    "# Instantiate the CalibratedClassifierCV model.\n",
    "calibratedCCV = CalibratedClassifierCV(lrsvm_optimal,    # LinearSVM model.\n",
    "                                       method='sigmoid', # sigmoid function.\n",
    "                                       cv=5)             # crossvalidation #'s.\n",
    "    \n",
    "calibratedCCV.fit(X_train_stdzd, Y_train)                # fit the model on the training set.\n",
    "Y_pred = calibratedCCV.predict_proba(X_test_stdzd)[:, 1] # predict class probabilities on the testset.\n",
    "\n",
    "# Set the end time of the current cell run.\n",
    "endtime_lrsvm_bow = datetime.datetime.now()\n",
    "\n",
    "# Print the cell run duration.\n",
    "print(\"Starttime is : {}\".format(starttime_lrsvm_bow))\n",
    "print(\"Endtime   is : {}\".format(endtime_lrsvm_bow))"
   ]
  },
  {
   "cell_type": "markdown",
   "metadata": {},
   "source": [
    "#### [5.1.1.6] : Plot the ROC Curve."
   ]
  },
  {
   "cell_type": "code",
   "execution_count": 32,
   "metadata": {},
   "outputs": [
    {
     "data": {
      "image/png": "[encoded data removed]",
      "text/plain": [
       "<matplotlib.figure.Figure at 0x157374e7390>"
      ]
     },
     "metadata": {},
     "output_type": "display_data"
    }
   ],
   "source": [
    "# Import the modules\n",
    "from sklearn.metrics import roc_curve\n",
    "import matplotlib.pyplot as plt\n",
    "\n",
    "# Calculate the RoC curve\n",
    "fpr, tpr, thresholds = roc_curve(Y_test,Y_pred,pos_label=1)   # compute the roc curve.\n",
    "plt.plot([0, 1], [0, 1], linestyle='--')                      # plot the 50% probability line.\n",
    "plt.plot(fpr, tpr, marker='.')                                # plot the roc curve for the model.\n",
    "plt.title(\"ROC Curve.\")                                       # set the title of the plot.\n",
    "plt.xlabel(\"False Positive Rate\")                             # set the x label of the plot.\n",
    "plt.ylabel(\"True Positive Rate\")                              # set the y label of the plot.\n",
    "plt.show()                                                    # show the plot."
   ]
  },
  {
   "cell_type": "markdown",
   "metadata": {},
   "source": [
    "#### [5.1.1.7] Plot the classifier performance metrics."
   ]
  },
  {
   "cell_type": "code",
   "execution_count": 33,
   "metadata": {},
   "outputs": [
    {
     "data": {
      "image/png": "[encoded data removed]",
      "text/plain": [
       "<matplotlib.figure.Figure at 0x15735904b00>"
      ]
     },
     "metadata": {},
     "output_type": "display_data"
    },
    {
     "name": "stdout",
     "output_type": "stream",
     "text": [
      "\n",
      "The class composition in the testset is :\n",
      "1    16442\n",
      "0     3558\n",
      "Name: Comment, dtype: int64\n"
     ]
    }
   ],
   "source": [
    "# evaluate the model and report the metrics.\n",
    "from sklearn.metrics import confusion_matrix\n",
    "conf_mat = confusion_matrix(Y_test, Y_pred_test)\n",
    "fig, ax = plt.subplots(figsize=(5,5))\n",
    "sns.heatmap(conf_mat, annot=True, fmt='d'\n",
    "            ,xticklabels=['negative','positive'], yticklabels=['negative','positive'])\n",
    "plt.title('Confusion Matrix : (Vectorizer = BoW)')\n",
    "plt.ylabel('Actual')\n",
    "plt.xlabel('Predicted')\n",
    "plt.show()\n",
    "\n",
    "#Class composition in the testset.\n",
    "dfYTest = pd.DataFrame(list(Y_test),columns=['Comment'])\n",
    "print(\"\\nThe class composition in the testset is :\")\n",
    "print(dfYTest[\"Comment\"].value_counts())"
   ]
  },
  {
   "cell_type": "code",
   "execution_count": null,
   "metadata": {},
   "outputs": [],
   "source": []
  },
  {
   "cell_type": "markdown",
   "metadata": {},
   "source": [
    "#### [5.1.1.8] Feature Importance : Logic for Class based feature importance.\n",
    "    Look at the original weights, a negative coefficient means that higher value of the corresponding feature pushes the    \n",
    "    classification more towards the negative class and vice-versa."
   ]
  },
  {
   "cell_type": "code",
   "execution_count": 34,
   "metadata": {},
   "outputs": [
    {
     "name": "stdout",
     "output_type": "stream",
     "text": [
      "      ColumnIndex    Weight       Word\n",
      "1050         1050  3.819287  delicious\n",
      "3225         3225  3.604388    perfect\n",
      "1351         1351  3.490468  excellent\n",
      "2503         2503  3.454229      loves\n",
      "319           319  3.275398       best\n",
      "4882         4882  3.149322  wonderful\n",
      "1846         1846  2.914940      great\n",
      "225           225  2.900267    awesome\n",
      "1431         1431  2.823133   favorite\n",
      "2482         2482  2.788960       love\n"
     ]
    }
   ],
   "source": [
    "# get the weights W for the dataset X_test_stdzd.\n",
    "wtBoW = lrsvm_optimal.coef_\n",
    "\n",
    "# nested tuple to store the indices where weights qualify a threshold.\n",
    "tupIndicesNonZero = np.nonzero(wtBoW)\n",
    "\n",
    "# get the indices of the words that qualify the weight criteria.\n",
    "indices_nonzero = tupIndicesNonZero[1][:]\n",
    "\n",
    "# print the weights of words that qualify the weight criteria.\n",
    "weightVector = wtBoW[tupIndicesNonZero]\n",
    "\n",
    "# print the features that meet the criteria.\n",
    "wordVector = np.take(count_vect.get_feature_names(), indices_nonzero)\n",
    "\n",
    "# Prepare the data from the columnIndex,weightvector and wordvector.\n",
    "lstData = list(zip(indices_nonzero,weightVector,wordVector))\n",
    "\n",
    "# create a dataframe to store the columnindex,weights,words of the text corpus.\n",
    "dfTopWords = pd.DataFrame(data=lstData,columns=['ColumnIndex','Weight','Word'])\n",
    "\n",
    "# Print the top 10 rows from the resultant dataframe.\n",
    "print(dfTopWords.sort_values(['Weight'],ascending=False).head(10))\n"
   ]
  },
  {
   "cell_type": "markdown",
   "metadata": {},
   "source": [
    "#### Feature Importance : Top 10 from Positive Class. "
   ]
  },
  {
   "cell_type": "code",
   "execution_count": 35,
   "metadata": {},
   "outputs": [
    {
     "data": {
      "text/html": [
       "<div>\n",
       "<style scoped>\n",
       "    .dataframe tbody tr th:only-of-type {\n",
       "        vertical-align: middle;\n",
       "    }\n",
       "\n",
       "    .dataframe tbody tr th {\n",
       "        vertical-align: top;\n",
       "    }\n",
       "\n",
       "    .dataframe thead th {\n",
       "        text-align: right;\n",
       "    }\n",
       "</style>\n",
       "<table border=\"1\" class=\"dataframe\">\n",
       "  <thead>\n",
       "    <tr style=\"text-align: right;\">\n",
       "      <th></th>\n",
       "      <th>ColumnIndex</th>\n",
       "      <th>Word</th>\n",
       "      <th>Weight</th>\n",
       "    </tr>\n",
       "  </thead>\n",
       "  <tbody>\n",
       "    <tr>\n",
       "      <th>1050</th>\n",
       "      <td>1050</td>\n",
       "      <td>delicious</td>\n",
       "      <td>3.819287</td>\n",
       "    </tr>\n",
       "    <tr>\n",
       "      <th>3225</th>\n",
       "      <td>3225</td>\n",
       "      <td>perfect</td>\n",
       "      <td>3.604388</td>\n",
       "    </tr>\n",
       "    <tr>\n",
       "      <th>1351</th>\n",
       "      <td>1351</td>\n",
       "      <td>excellent</td>\n",
       "      <td>3.490468</td>\n",
       "    </tr>\n",
       "    <tr>\n",
       "      <th>2503</th>\n",
       "      <td>2503</td>\n",
       "      <td>loves</td>\n",
       "      <td>3.454229</td>\n",
       "    </tr>\n",
       "    <tr>\n",
       "      <th>319</th>\n",
       "      <td>319</td>\n",
       "      <td>best</td>\n",
       "      <td>3.275398</td>\n",
       "    </tr>\n",
       "    <tr>\n",
       "      <th>4882</th>\n",
       "      <td>4882</td>\n",
       "      <td>wonderful</td>\n",
       "      <td>3.149322</td>\n",
       "    </tr>\n",
       "    <tr>\n",
       "      <th>1846</th>\n",
       "      <td>1846</td>\n",
       "      <td>great</td>\n",
       "      <td>2.914940</td>\n",
       "    </tr>\n",
       "    <tr>\n",
       "      <th>225</th>\n",
       "      <td>225</td>\n",
       "      <td>awesome</td>\n",
       "      <td>2.900267</td>\n",
       "    </tr>\n",
       "    <tr>\n",
       "      <th>1431</th>\n",
       "      <td>1431</td>\n",
       "      <td>favorite</td>\n",
       "      <td>2.823133</td>\n",
       "    </tr>\n",
       "    <tr>\n",
       "      <th>2482</th>\n",
       "      <td>2482</td>\n",
       "      <td>love</td>\n",
       "      <td>2.788960</td>\n",
       "    </tr>\n",
       "  </tbody>\n",
       "</table>\n",
       "</div>"
      ],
      "text/plain": [
       "      ColumnIndex       Word    Weight\n",
       "1050         1050  delicious  3.819287\n",
       "3225         3225    perfect  3.604388\n",
       "1351         1351  excellent  3.490468\n",
       "2503         2503      loves  3.454229\n",
       "319           319       best  3.275398\n",
       "4882         4882  wonderful  3.149322\n",
       "1846         1846      great  2.914940\n",
       "225           225    awesome  2.900267\n",
       "1431         1431   favorite  2.823133\n",
       "2482         2482       love  2.788960"
      ]
     },
     "execution_count": 35,
     "metadata": {},
     "output_type": "execute_result"
    }
   ],
   "source": [
    "# For Positive Class : Get the features with their weights.\n",
    "dfTopWords[['ColumnIndex','Word','Weight'\n",
    "          ]][(dfTopWords['Weight'] > 0.00)].sort_values(['Weight'],ascending=False).head(10)\n"
   ]
  },
  {
   "cell_type": "markdown",
   "metadata": {},
   "source": [
    "#### Feature Importance : Top 10 from Negative Class."
   ]
  },
  {
   "cell_type": "code",
   "execution_count": 36,
   "metadata": {},
   "outputs": [
    {
     "data": {
      "text/html": [
       "<div>\n",
       "<style scoped>\n",
       "    .dataframe tbody tr th:only-of-type {\n",
       "        vertical-align: middle;\n",
       "    }\n",
       "\n",
       "    .dataframe tbody tr th {\n",
       "        vertical-align: top;\n",
       "    }\n",
       "\n",
       "    .dataframe thead th {\n",
       "        text-align: right;\n",
       "    }\n",
       "</style>\n",
       "<table border=\"1\" class=\"dataframe\">\n",
       "  <thead>\n",
       "    <tr style=\"text-align: right;\">\n",
       "      <th></th>\n",
       "      <th>ColumnIndex</th>\n",
       "      <th>Word</th>\n",
       "      <th>Weight</th>\n",
       "    </tr>\n",
       "  </thead>\n",
       "  <tbody>\n",
       "    <tr>\n",
       "      <th>3991</th>\n",
       "      <td>3991</td>\n",
       "      <td>slim</td>\n",
       "      <td>-0.000153</td>\n",
       "    </tr>\n",
       "    <tr>\n",
       "      <th>1569</th>\n",
       "      <td>1569</td>\n",
       "      <td>fluffy</td>\n",
       "      <td>-0.000301</td>\n",
       "    </tr>\n",
       "    <tr>\n",
       "      <th>1149</th>\n",
       "      <td>1149</td>\n",
       "      <td>dog would</td>\n",
       "      <td>-0.000378</td>\n",
       "    </tr>\n",
       "    <tr>\n",
       "      <th>352</th>\n",
       "      <td>352</td>\n",
       "      <td>biscuit</td>\n",
       "      <td>-0.000437</td>\n",
       "    </tr>\n",
       "    <tr>\n",
       "      <th>4335</th>\n",
       "      <td>4335</td>\n",
       "      <td>talking</td>\n",
       "      <td>-0.000497</td>\n",
       "    </tr>\n",
       "    <tr>\n",
       "      <th>4249</th>\n",
       "      <td>4249</td>\n",
       "      <td>sugar free</td>\n",
       "      <td>-0.000517</td>\n",
       "    </tr>\n",
       "    <tr>\n",
       "      <th>3733</th>\n",
       "      <td>3733</td>\n",
       "      <td>roots</td>\n",
       "      <td>-0.000821</td>\n",
       "    </tr>\n",
       "    <tr>\n",
       "      <th>2962</th>\n",
       "      <td>2962</td>\n",
       "      <td>not stand</td>\n",
       "      <td>-0.000860</td>\n",
       "    </tr>\n",
       "    <tr>\n",
       "      <th>1147</th>\n",
       "      <td>1147</td>\n",
       "      <td>dog not</td>\n",
       "      <td>-0.001595</td>\n",
       "    </tr>\n",
       "    <tr>\n",
       "      <th>3089</th>\n",
       "      <td>3089</td>\n",
       "      <td>opened bag</td>\n",
       "      <td>-0.001794</td>\n",
       "    </tr>\n",
       "  </tbody>\n",
       "</table>\n",
       "</div>"
      ],
      "text/plain": [
       "      ColumnIndex        Word    Weight\n",
       "3991         3991        slim -0.000153\n",
       "1569         1569      fluffy -0.000301\n",
       "1149         1149   dog would -0.000378\n",
       "352           352     biscuit -0.000437\n",
       "4335         4335     talking -0.000497\n",
       "4249         4249  sugar free -0.000517\n",
       "3733         3733       roots -0.000821\n",
       "2962         2962   not stand -0.000860\n",
       "1147         1147     dog not -0.001595\n",
       "3089         3089  opened bag -0.001794"
      ]
     },
     "execution_count": 36,
     "metadata": {},
     "output_type": "execute_result"
    }
   ],
   "source": [
    "# For Negative Class : Get the features with their weights.\n",
    "dfTopWords[['ColumnIndex','Word','Weight'\n",
    "          ]][(dfTopWords['Weight'] < 0.00)].sort_values(['Weight'],ascending=False).head(10)\n"
   ]
  },
  {
   "cell_type": "markdown",
   "metadata": {},
   "source": [
    "#### [5.1.1.9] : Load metrics into the summary table for BoW."
   ]
  },
  {
   "cell_type": "code",
   "execution_count": 37,
   "metadata": {},
   "outputs": [],
   "source": [
    "# Import the metrics module.\n",
    "from sklearn.metrics import accuracy_score\n",
    "from sklearn.metrics import precision_score\n",
    "from sklearn.metrics import recall_score\n",
    "from sklearn.metrics import f1_score\n",
    "from sklearn.metrics import roc_auc_score\n",
    "\n",
    "# Add the classification metrics to the table.\n",
    "# Add the classification metrics to the final summary table.\n",
    "summaryTable.add_row(['LinearKernel','BoW',optimal_alpha,'Accuracy',accuracy_score(Y_test,Y_pred_test)])\n",
    "summaryTable.add_row(['','-',optimal_alpha,'Precision',precision_score(Y_test,Y_pred_test)])\n",
    "summaryTable.add_row(['','-',optimal_alpha,'Recall',recall_score(Y_test,Y_pred_test)])\n",
    "summaryTable.add_row(['','-',optimal_alpha,'F1 Score',f1_score(Y_test,Y_pred_test)])\n",
    "summaryTable.add_row(['','-',optimal_alpha,'AUC Score',roc_auc_score(Y_test,Y_pred)])\n",
    "summaryTable.add_row(['','-',optimal_alpha,'ConfusionMatrix',confusion_matrix(Y_test, Y_pred_test)])\n",
    "summaryTable.add_row(['----------','----------','-----------','----------','----------'])\n"
   ]
  },
  {
   "cell_type": "code",
   "execution_count": null,
   "metadata": {},
   "outputs": [],
   "source": []
  },
  {
   "cell_type": "markdown",
   "metadata": {},
   "source": [
    "### [5.1.2] Applying Linear SVM on TFIDF,<font color='red'> SET 2</font>"
   ]
  },
  {
   "cell_type": "markdown",
   "metadata": {},
   "source": [
    "#### [5.1.2.1] Convert review text into numeric vectors using TF_IDF"
   ]
  },
  {
   "cell_type": "code",
   "execution_count": 39,
   "metadata": {},
   "outputs": [
    {
     "name": "stdout",
     "output_type": "stream",
     "text": [
      "the type of TIDF vectorizer  <class 'scipy.sparse.csr.csr_matrix'>\n",
      "the shape of out text TFIDF vectorizer  (60000, 5000)\n",
      "the number of unique words including both unigrams and bigrams  5000\n"
     ]
    }
   ],
   "source": [
    "#TF-IDF\n",
    "# Apply TF-IDF vectorization only on the trainingset.\n",
    "tf_idf_vect = TfidfVectorizer(dtype='float64',ngram_range=(1,2),min_df=10, max_features=5000)\n",
    "\n",
    "#Train you tf-idf vectorizer on the train data (.fit_transform()) and \n",
    "#use the same vectorizer on the test set as well (.transform())\n",
    "final_tf_idf = tf_idf_vect.fit_transform(X_train.values.astype('U'))\n",
    "\n",
    "print(\"the type of TIDF vectorizer \",type(final_tf_idf))\n",
    "print(\"the shape of out text TFIDF vectorizer \",final_tf_idf.get_shape())\n",
    "print(\"the number of unique words including both unigrams and bigrams \", final_tf_idf.get_shape()[1])"
   ]
  },
  {
   "cell_type": "markdown",
   "metadata": {},
   "source": [
    "#### [5.1.2.2] Use the TF-IDF vectorizer trained in the preceding step to convert cvset and testset to vectors."
   ]
  },
  {
   "cell_type": "code",
   "execution_count": 40,
   "metadata": {},
   "outputs": [
    {
     "name": "stdout",
     "output_type": "stream",
     "text": [
      "the type of TFIDF vectorizer  <class 'scipy.sparse.csr.csr_matrix'>\n",
      "the shape of out text TFIDF vectorizer  (20000, 5000)\n",
      "the number of unique words  5000\n",
      "the type of TFIDF vectorizer  <class 'scipy.sparse.csr.csr_matrix'>\n",
      "the shape of out text TFIDF vectorizer  (20000, 5000)\n",
      "the number of unique words  5000\n"
     ]
    }
   ],
   "source": [
    "#use the same countvectorizer on the cvset and testset.\n",
    "final_tf_idf_cvset = tf_idf_vect.transform(X_cv.values)\n",
    "print(\"the type of TFIDF vectorizer \",type(final_tf_idf_cvset))\n",
    "print(\"the shape of out text TFIDF vectorizer \",final_tf_idf_cvset.get_shape())\n",
    "print(\"the number of unique words \", final_tf_idf_cvset.get_shape()[1])\n",
    "\n",
    "#use the same countvectorizer on the testset.\n",
    "final_tf_idf_testset = tf_idf_vect.transform(X_test.values)\n",
    "print(\"the type of TFIDF vectorizer \",type(final_tf_idf_testset))\n",
    "print(\"the shape of out text TFIDF vectorizer \",final_tf_idf_testset.get_shape())\n",
    "print(\"the number of unique words \", final_tf_idf_testset.get_shape()[1])"
   ]
  },
  {
   "cell_type": "markdown",
   "metadata": {},
   "source": [
    "#### [5.1.2.3] Standardize / Normalize the data"
   ]
  },
  {
   "cell_type": "code",
   "execution_count": 41,
   "metadata": {},
   "outputs": [],
   "source": [
    "# Data-preprocessing: Normalizing the data\n",
    "from sklearn.preprocessing import Normalizer\n",
    "\n",
    "# Initialize the Normalizer.\n",
    "normalizer = Normalizer()\n",
    "\n",
    "#Standardize on the train data. \n",
    "X_train_stdzd = normalizer.fit_transform(final_tf_idf)\n",
    "\n",
    "#Standardize on the cv and test data.\n",
    "X_cv_stdzd    = normalizer.transform(final_tf_idf_cvset)     #use the same Normalizer on the cvset.\n",
    "X_test_stdzd  = normalizer.transform(final_tf_idf_testset)   #use the same Normalizer on the testset."
   ]
  },
  {
   "cell_type": "markdown",
   "metadata": {},
   "source": [
    "#### [5.1.2.4] (L1 regularizer) Hyper-Parameter Tuning : Using the cross-validation dataset to calculate the optimal 'alpha' of Linear SVM in TF-IDF case."
   ]
  },
  {
   "cell_type": "code",
   "execution_count": 42,
   "metadata": {},
   "outputs": [
    {
     "name": "stdout",
     "output_type": "stream",
     "text": [
      "Alpha :\n",
      "[10000, 1000, 100, 10, 1, 0.1, 0.01, 0.001, 0.0001]\n",
      "\n",
      "AuC :\n",
      "[0.5, 0.5, 0.5, 0.5, 0.5, 0.5, 0.6844985632782645, 0.8760476567935785, 0.9538665195849862]\n",
      "\n",
      "Plot of CrossValidationAuC vs Log of alpha:\n"
     ]
    },
    {
     "data": {
      "image/png": "[encoded data removed]",
      "text/plain": [
       "<matplotlib.figure.Figure at 0x157374e7d30>"
      ]
     },
     "metadata": {},
     "output_type": "display_data"
    },
    {
     "name": "stdout",
     "output_type": "stream",
     "text": [
      "Starttime is : 2019-01-17 11:35:02.580611\n",
      "Endtime   is : 2019-01-17 11:35:15.222940\n"
     ]
    }
   ],
   "source": [
    "# Import the SGDClassifier with Hinge loss = linearSVM .\n",
    "from sklearn.linear_model import SGDClassifier\n",
    "# Need to get the probability score of each class label.\n",
    "from sklearn.calibration import CalibratedClassifierCV\n",
    "# Import the metrics module.\n",
    "from sklearn.metrics import roc_auc_score\n",
    "\n",
    "# Set the start time of the current cell run.\n",
    "starttime_lrsvm_tfidf = datetime.datetime.now()\n",
    "\n",
    "# Set the range for the hyper-parameters.\n",
    "# Experiment with alpha ranges between 1/10000 to 10000.\n",
    "# Here alpha is the hyper-parameter of the SGDClassifier (LinearSVM model)\n",
    "\n",
    "hp_alpha = [10000,1000,100,10,1,0.1,0.01,0.001,0.0001]\n",
    "\n",
    "# Use the cross-validation dataset to determine the best hyper-parameter alpha.\n",
    "# Loop through various values of alpha.\n",
    "plot_X = []\n",
    "plot_Y = []\n",
    "for i in hp_alpha:\n",
    "    # Iterate through various values of alpha,\n",
    "    lrsvm_optimal = SGDClassifier(loss='hinge',            # gives LinearSVM model.\n",
    "                                  penalty='l1',            # use L1 regularizer.\n",
    "                                  alpha=(i),               # Hyper-parameter of the current iteration.\n",
    "                                  class_weight='balanced') # uses the values of y to automatically \n",
    "                                                           # adjust weights in the input data.\n",
    "\n",
    "    ### Use CalibratedClassifierCV\n",
    "    ### Reference : https://machinelearningmastery.com/calibrated-classification-model-in-scikit-learn/ \n",
    "    # Instantiate the CalibratedClassifierCV model.\n",
    "    calibratedCCV = CalibratedClassifierCV(lrsvm_optimal,    # LinearSVM model.\n",
    "                                           method='sigmoid', # sigmoid function.\n",
    "                                           cv=5)             # crossvalidation #'s.\n",
    "    \n",
    "    calibratedCCV.fit(X_train_stdzd, Y_train)                # fit the model on the training set.\n",
    "    Y_pred = calibratedCCV.predict_proba(X_cv_stdzd)[:, 1]   # predict class probabilities.\n",
    "\n",
    "    # Compute AuC metric.\n",
    "    plot_X.append(np.log(i))                                # plot log(alpha) in the x-axis.\n",
    "    plot_Y.append(roc_auc_score(Y_cv,Y_pred))               # plot auc score in the y-axis.\n",
    "\n",
    "# print X,Y\n",
    "print(\"Alpha :\\n{}\".format(hp_alpha))\n",
    "print(\"\\nAuC :\\n{}\".format(plot_Y))\n",
    "\n",
    "print(\"\\nPlot of CrossValidationAuC vs Log of alpha:\")\n",
    "# Plot X-axis = log(alpha),Y-axis = AuC to determine the best hyper-parameter.\n",
    "plt.plot(plot_X,plot_Y)\n",
    "plt.title(\"L1 Regularizer : Plot of CrossValidationAuC vs log(alpha) .\")  # Set the title of the plot.\n",
    "plt.xlabel(\"log(alpha)\")                                                  # Set the x label of the plot.\n",
    "plt.ylabel(\"CrossValidation AuC\")                                         # Set the y label of the plot.\n",
    "plt.show()                                                                # render the plot.\n",
    "\n",
    "# Set the end time of the current cell run.\n",
    "endtime_lrsvm_tfidf = datetime.datetime.now()\n",
    "\n",
    "# Print the cell run duration.\n",
    "print(\"Starttime is : {}\".format(starttime_lrsvm_tfidf))\n",
    "print(\"Endtime   is : {}\".format(endtime_lrsvm_tfidf))\n"
   ]
  },
  {
   "cell_type": "markdown",
   "metadata": {},
   "source": [
    "#### (L1 regularizer): The hyper-parameter that gives the optimal AuC score is 0.0001. The optimal AuC is 0.953 ."
   ]
  },
  {
   "cell_type": "code",
   "execution_count": null,
   "metadata": {},
   "outputs": [],
   "source": []
  },
  {
   "cell_type": "markdown",
   "metadata": {},
   "source": [
    "#### [5.1.2.5] (L2 regularizer) Hyper-Parameter Tuning : Using the cross-validation dataset to calculate the optimal 'alpha' of Linear SVM in TF-IDF case."
   ]
  },
  {
   "cell_type": "code",
   "execution_count": 43,
   "metadata": {},
   "outputs": [
    {
     "name": "stdout",
     "output_type": "stream",
     "text": [
      "Alpha :\n",
      "[10000, 1000, 100, 10, 1, 0.1, 0.01, 0.001, 0.0001]\n",
      "\n",
      "AuC :\n",
      "[0.8983555828714249, 0.8983555828714249, 0.8983555828714249, 0.8983555828714249, 0.8983555828714249, 0.8983555828714249, 0.8987396067675926, 0.9393914268646284, 0.9582442231768689]\n",
      "\n",
      "Plot of CrossValidationAuC vs Log of alpha:\n"
     ]
    },
    {
     "data": {
      "image/png": "[encoded data removed]",
      "text/plain": [
       "<matplotlib.figure.Figure at 0x1575aa387b8>"
      ]
     },
     "metadata": {},
     "output_type": "display_data"
    },
    {
     "name": "stdout",
     "output_type": "stream",
     "text": [
      "Starttime is : 2019-01-17 11:35:46.162753\n",
      "Endtime   is : 2019-01-17 11:35:57.240160\n"
     ]
    }
   ],
   "source": [
    "# Import the SGDClassifier with Hinge loss = linearSVM .\n",
    "from sklearn.linear_model import SGDClassifier\n",
    "# Need to get the probability score of each class label.\n",
    "from sklearn.calibration import CalibratedClassifierCV\n",
    "# Import the metrics module.\n",
    "from sklearn.metrics import roc_auc_score\n",
    "\n",
    "# Set the start time of the current cell run.\n",
    "starttime_lrsvm_tfidf = datetime.datetime.now()\n",
    "\n",
    "# Set the range for the hyper-parameters.\n",
    "# Experiment with alpha ranges between 1/10000 to 10000.\n",
    "# Here alpha is the hyper-parameter of the SGDClassifier (LinearSVM model)\n",
    "\n",
    "hp_alpha = [10000,1000,100,10,1,0.1,0.01,0.001,0.0001]\n",
    "\n",
    "# Use the cross-validation dataset to determine the best hyper-parameter alpha.\n",
    "# Loop through various values of alpha.\n",
    "plot_X = []\n",
    "plot_Y = []\n",
    "for i in hp_alpha:\n",
    "    # Iterate through various values of alpha,\n",
    "    lrsvm_optimal = SGDClassifier(loss='hinge',            # gives LinearSVM model.\n",
    "                                  penalty='l2',            # use L2 regularizer.\n",
    "                                  alpha=(i),               # Hyper-parameter of the current iteration.\n",
    "                                  class_weight='balanced') # uses the values of y to automatically \n",
    "                                                           # adjust weights in the input data.\n",
    "\n",
    "    ### Use CalibratedClassifierCV\n",
    "    ### Reference : https://machinelearningmastery.com/calibrated-classification-model-in-scikit-learn/ \n",
    "    # Instantiate the CalibratedClassifierCV model.\n",
    "    calibratedCCV = CalibratedClassifierCV(lrsvm_optimal,    # LinearSVM model.\n",
    "                                           method='sigmoid', # sigmoid function.\n",
    "                                           cv=5)             # crossvalidation #'s.\n",
    "    \n",
    "    calibratedCCV.fit(X_train_stdzd, Y_train)                # fit the model on the training set.\n",
    "    Y_pred = calibratedCCV.predict_proba(X_cv_stdzd)[:, 1]   # predict class probabilities.\n",
    "\n",
    "    # Compute AuC metric.\n",
    "    plot_X.append(np.log(i))                                # plot log(alpha) in the x-axis.\n",
    "    plot_Y.append(roc_auc_score(Y_cv,Y_pred))               # plot auc score in the y-axis.\n",
    "\n",
    "# print X,Y\n",
    "print(\"Alpha :\\n{}\".format(hp_alpha))\n",
    "print(\"\\nAuC :\\n{}\".format(plot_Y))\n",
    "\n",
    "print(\"\\nPlot of CrossValidationAuC vs Log of alpha:\")\n",
    "# Plot X-axis = log(alpha),Y-axis = AuC to determine the best hyper-parameter.\n",
    "plt.plot(plot_X,plot_Y)\n",
    "plt.title(\"L2 Regularizer : Plot of CrossValidationAuC vs log(alpha) .\")  # Set the title of the plot.\n",
    "plt.xlabel(\"log(alpha)\")                                                  # Set the x label of the plot.\n",
    "plt.ylabel(\"CrossValidation AuC\")                                         # Set the y label of the plot.\n",
    "plt.show()                                                                # render the plot.\n",
    "\n",
    "# Set the end time of the current cell run.\n",
    "endtime_lrsvm_tfidf = datetime.datetime.now()\n",
    "\n",
    "# Print the cell run duration.\n",
    "print(\"Starttime is : {}\".format(starttime_lrsvm_tfidf))\n",
    "print(\"Endtime   is : {}\".format(endtime_lrsvm_tfidf))\n"
   ]
  },
  {
   "cell_type": "markdown",
   "metadata": {},
   "source": [
    "#### (L2 regularizer): \n",
    "    The hyper-parameter that gives the optimal AuC score is 0.0001.\n",
    "    The optimal AuC is 0.958 ."
   ]
  },
  {
   "cell_type": "markdown",
   "metadata": {},
   "source": [
    "#### Observation :\n",
    "    It is observed that the regularizer that gives the best AuC is L2.\n",
    "    Hence L2 regularizer is choosen."
   ]
  },
  {
   "cell_type": "code",
   "execution_count": null,
   "metadata": {},
   "outputs": [],
   "source": []
  },
  {
   "cell_type": "markdown",
   "metadata": {},
   "source": [
    "#### [5.1.2.6] : Train and Fit the LinearSVM model in the training set. Compute the performance metrics by predicting the model on the test set. Use L2 regularizer."
   ]
  },
  {
   "cell_type": "code",
   "execution_count": 44,
   "metadata": {},
   "outputs": [
    {
     "name": "stdout",
     "output_type": "stream",
     "text": [
      "Starttime is : 2019-01-17 11:36:19.582323\n",
      "Endtime   is : 2019-01-17 11:36:20.660344\n"
     ]
    }
   ],
   "source": [
    "# Import the SGDClassifier with Hinge loss = linearSVM .\n",
    "from sklearn.linear_model import SGDClassifier\n",
    "\n",
    "# Set the start time of the current cell run.\n",
    "starttime_lrsvm_tfidf = datetime.datetime.now()\n",
    "\n",
    "# The best value of the hyper-parameter alpha.\n",
    "optimal_alpha = 0.0001\n",
    "\n",
    "# instantiate the LinearSVM model with alpha = 0.0001 .\n",
    "lrsvm_optimal = SGDClassifier(loss='hinge',            # gives LinearSVM model.\n",
    "                              penalty='l2',            # use L2 regularizer.\n",
    "                              alpha=optimal_alpha,     # Best hyper-parameter found.\n",
    "                              class_weight='balanced') # uses the values of y to automatically \n",
    "                                                       # adjust weights in the input data.\n",
    "\n",
    "lrsvm_optimal.fit(X_train_stdzd, Y_train)           # fit the LinearSVM model.\n",
    "Y_pred_test = lrsvm_optimal.predict(X_test_stdzd)   # predict,response from the LinearSVM model.\n",
    "\n",
    "### Use CalibratedClassifierCV\n",
    "# Instantiate the CalibratedClassifierCV model.\n",
    "calibratedCCV = CalibratedClassifierCV(lrsvm_optimal,    # LinearSVM model.\n",
    "                                       method='sigmoid', # sigmoid function.\n",
    "                                       cv=5)             # crossvalidation #'s.\n",
    "    \n",
    "calibratedCCV.fit(X_train_stdzd, Y_train)                # fit the model on the training set.\n",
    "Y_pred = calibratedCCV.predict_proba(X_test_stdzd)[:, 1] # predict class probabilities on the testset.\n",
    "\n",
    "# Set the end time of the current cell run.\n",
    "endtime_lrsvm_tfidf = datetime.datetime.now()\n",
    "\n",
    "# Print the cell run duration.\n",
    "print(\"Starttime is : {}\".format(starttime_lrsvm_tfidf))\n",
    "print(\"Endtime   is : {}\".format(endtime_lrsvm_tfidf))"
   ]
  },
  {
   "cell_type": "markdown",
   "metadata": {},
   "source": [
    "#### [5.1.2.7] : Plot the ROC Curve."
   ]
  },
  {
   "cell_type": "code",
   "execution_count": 45,
   "metadata": {},
   "outputs": [
    {
     "data": {
      "image/png": "[encoded data removed]",
      "text/plain": [
       "<matplotlib.figure.Figure at 0x15744d1ffd0>"
      ]
     },
     "metadata": {},
     "output_type": "display_data"
    }
   ],
   "source": [
    "# Import the modules\n",
    "from sklearn.metrics import roc_curve\n",
    "import matplotlib.pyplot as plt\n",
    "\n",
    "# Calculate the RoC curve\n",
    "fpr, tpr, thresholds = roc_curve(Y_test,Y_pred,pos_label=1)   # compute the roc curve.\n",
    "plt.plot([0, 1], [0, 1], linestyle='--')                      # plot the 50% probability line.\n",
    "plt.plot(fpr, tpr, marker='.')                                # plot the roc curve for the model.\n",
    "plt.title(\"ROC Curve.\")                                       # set the title of the plot.\n",
    "plt.xlabel(\"False Positive Rate\")                             # set the x label of the plot.\n",
    "plt.ylabel(\"True Positive Rate\")                              # set the y label of the plot.\n",
    "plt.show()                                                    # show the plot."
   ]
  },
  {
   "cell_type": "markdown",
   "metadata": {},
   "source": [
    "#### [5.1.2.8] Plot the classifier performance metrics."
   ]
  },
  {
   "cell_type": "code",
   "execution_count": 46,
   "metadata": {},
   "outputs": [
    {
     "data": {
      "image/png": "[encoded data removed]",
      "text/plain": [
       "<matplotlib.figure.Figure at 0x15735d4a780>"
      ]
     },
     "metadata": {},
     "output_type": "display_data"
    },
    {
     "name": "stdout",
     "output_type": "stream",
     "text": [
      "\n",
      "The class composition in the testset is :\n",
      "1    16442\n",
      "0     3558\n",
      "Name: Comment, dtype: int64\n"
     ]
    }
   ],
   "source": [
    "# evaluate the model and report the metrics.\n",
    "from sklearn.metrics import confusion_matrix\n",
    "conf_mat = confusion_matrix(Y_test, Y_pred_test)\n",
    "fig, ax = plt.subplots(figsize=(5,5))\n",
    "sns.heatmap(conf_mat, annot=True, fmt='d'\n",
    "            ,xticklabels=['negative','positive'], yticklabels=['negative','positive'])\n",
    "plt.title('Confusion Matrix : (Vectorizer = TF-IDF)')\n",
    "plt.ylabel('Actual')\n",
    "plt.xlabel('Predicted')\n",
    "plt.show()\n",
    "\n",
    "#Class composition in the testset.\n",
    "dfYTest = pd.DataFrame(list(Y_test),columns=['Comment'])\n",
    "print(\"\\nThe class composition in the testset is :\")\n",
    "print(dfYTest[\"Comment\"].value_counts())"
   ]
  },
  {
   "cell_type": "code",
   "execution_count": null,
   "metadata": {},
   "outputs": [],
   "source": []
  },
  {
   "cell_type": "markdown",
   "metadata": {},
   "source": [
    "#### [5.1.2.9] Feature Importance : Logic for Class based feature importance.\n",
    "    Look at the original weights, a negative coefficient means that higher value of the corresponding feature pushes the    \n",
    "    classification more towards the negative class and vice-versa."
   ]
  },
  {
   "cell_type": "code",
   "execution_count": 47,
   "metadata": {},
   "outputs": [
    {
     "name": "stdout",
     "output_type": "stream",
     "text": [
      "      ColumnIndex    Weight       Word\n",
      "1050         1050  3.819287  delicious\n",
      "3225         3225  3.604388    perfect\n",
      "1351         1351  3.490468  excellent\n",
      "2503         2503  3.454229      loves\n",
      "319           319  3.275398       best\n",
      "4882         4882  3.149322  wonderful\n",
      "1846         1846  2.914940      great\n",
      "225           225  2.900267    awesome\n",
      "1431         1431  2.823133   favorite\n",
      "2482         2482  2.788960       love\n"
     ]
    }
   ],
   "source": [
    "# get the weights W for the dataset X_test_stdzd.\n",
    "wtTFIDF = lrsvm_optimal.coef_\n",
    "\n",
    "# nested tuple to store the indices where weights qualify a threshold.\n",
    "tupIndicesNonZero = np.nonzero(wtTFIDF)\n",
    "\n",
    "# get the indices of the words that qualify the weight criteria.\n",
    "indices_nonzero = tupIndicesNonZero[1][:]\n",
    "\n",
    "# print the weights of words that qualify the weight criteria.\n",
    "weightVector = wtBoW[tupIndicesNonZero]\n",
    "\n",
    "# print the features that meet the criteria.\n",
    "wordVector = np.take(count_vect.get_feature_names(), indices_nonzero)\n",
    "\n",
    "# Prepare the data from the columnIndex,weightvector and wordvector.\n",
    "lstData = list(zip(indices_nonzero,weightVector,wordVector))\n",
    "\n",
    "# create a dataframe to store the columnindex,weights,words of the text corpus.\n",
    "dfTopWords = pd.DataFrame(data=lstData,columns=['ColumnIndex','Weight','Word'])\n",
    "\n",
    "# Print the top 10 rows from the resultant dataframe.\n",
    "print(dfTopWords.sort_values(['Weight'],ascending=False).head(10))\n"
   ]
  },
  {
   "cell_type": "markdown",
   "metadata": {},
   "source": [
    "#### Feature Importance : Top 10 from Positive Class. "
   ]
  },
  {
   "cell_type": "code",
   "execution_count": 48,
   "metadata": {},
   "outputs": [
    {
     "data": {
      "text/html": [
       "<div>\n",
       "<style scoped>\n",
       "    .dataframe tbody tr th:only-of-type {\n",
       "        vertical-align: middle;\n",
       "    }\n",
       "\n",
       "    .dataframe tbody tr th {\n",
       "        vertical-align: top;\n",
       "    }\n",
       "\n",
       "    .dataframe thead th {\n",
       "        text-align: right;\n",
       "    }\n",
       "</style>\n",
       "<table border=\"1\" class=\"dataframe\">\n",
       "  <thead>\n",
       "    <tr style=\"text-align: right;\">\n",
       "      <th></th>\n",
       "      <th>ColumnIndex</th>\n",
       "      <th>Word</th>\n",
       "      <th>Weight</th>\n",
       "    </tr>\n",
       "  </thead>\n",
       "  <tbody>\n",
       "    <tr>\n",
       "      <th>1050</th>\n",
       "      <td>1050</td>\n",
       "      <td>delicious</td>\n",
       "      <td>3.819287</td>\n",
       "    </tr>\n",
       "    <tr>\n",
       "      <th>3225</th>\n",
       "      <td>3225</td>\n",
       "      <td>perfect</td>\n",
       "      <td>3.604388</td>\n",
       "    </tr>\n",
       "    <tr>\n",
       "      <th>1351</th>\n",
       "      <td>1351</td>\n",
       "      <td>excellent</td>\n",
       "      <td>3.490468</td>\n",
       "    </tr>\n",
       "    <tr>\n",
       "      <th>2503</th>\n",
       "      <td>2503</td>\n",
       "      <td>loves</td>\n",
       "      <td>3.454229</td>\n",
       "    </tr>\n",
       "    <tr>\n",
       "      <th>319</th>\n",
       "      <td>319</td>\n",
       "      <td>best</td>\n",
       "      <td>3.275398</td>\n",
       "    </tr>\n",
       "    <tr>\n",
       "      <th>4882</th>\n",
       "      <td>4882</td>\n",
       "      <td>wonderful</td>\n",
       "      <td>3.149322</td>\n",
       "    </tr>\n",
       "    <tr>\n",
       "      <th>1846</th>\n",
       "      <td>1846</td>\n",
       "      <td>great</td>\n",
       "      <td>2.914940</td>\n",
       "    </tr>\n",
       "    <tr>\n",
       "      <th>225</th>\n",
       "      <td>225</td>\n",
       "      <td>awesome</td>\n",
       "      <td>2.900267</td>\n",
       "    </tr>\n",
       "    <tr>\n",
       "      <th>1431</th>\n",
       "      <td>1431</td>\n",
       "      <td>favorite</td>\n",
       "      <td>2.823133</td>\n",
       "    </tr>\n",
       "    <tr>\n",
       "      <th>2482</th>\n",
       "      <td>2482</td>\n",
       "      <td>love</td>\n",
       "      <td>2.788960</td>\n",
       "    </tr>\n",
       "  </tbody>\n",
       "</table>\n",
       "</div>"
      ],
      "text/plain": [
       "      ColumnIndex       Word    Weight\n",
       "1050         1050  delicious  3.819287\n",
       "3225         3225    perfect  3.604388\n",
       "1351         1351  excellent  3.490468\n",
       "2503         2503      loves  3.454229\n",
       "319           319       best  3.275398\n",
       "4882         4882  wonderful  3.149322\n",
       "1846         1846      great  2.914940\n",
       "225           225    awesome  2.900267\n",
       "1431         1431   favorite  2.823133\n",
       "2482         2482       love  2.788960"
      ]
     },
     "execution_count": 48,
     "metadata": {},
     "output_type": "execute_result"
    }
   ],
   "source": [
    "# For Positive Class : Get the features with their weights.\n",
    "dfTopWords[['ColumnIndex','Word','Weight'\n",
    "          ]][(dfTopWords['Weight'] > 0.00)].sort_values(['Weight'],ascending=False).head(10)\n"
   ]
  },
  {
   "cell_type": "markdown",
   "metadata": {},
   "source": [
    "#### Feature Importance : Top 10 from Negative Class."
   ]
  },
  {
   "cell_type": "code",
   "execution_count": 49,
   "metadata": {},
   "outputs": [
    {
     "data": {
      "text/html": [
       "<div>\n",
       "<style scoped>\n",
       "    .dataframe tbody tr th:only-of-type {\n",
       "        vertical-align: middle;\n",
       "    }\n",
       "\n",
       "    .dataframe tbody tr th {\n",
       "        vertical-align: top;\n",
       "    }\n",
       "\n",
       "    .dataframe thead th {\n",
       "        text-align: right;\n",
       "    }\n",
       "</style>\n",
       "<table border=\"1\" class=\"dataframe\">\n",
       "  <thead>\n",
       "    <tr style=\"text-align: right;\">\n",
       "      <th></th>\n",
       "      <th>ColumnIndex</th>\n",
       "      <th>Word</th>\n",
       "      <th>Weight</th>\n",
       "    </tr>\n",
       "  </thead>\n",
       "  <tbody>\n",
       "    <tr>\n",
       "      <th>3991</th>\n",
       "      <td>3991</td>\n",
       "      <td>slim</td>\n",
       "      <td>-0.000153</td>\n",
       "    </tr>\n",
       "    <tr>\n",
       "      <th>1569</th>\n",
       "      <td>1569</td>\n",
       "      <td>fluffy</td>\n",
       "      <td>-0.000301</td>\n",
       "    </tr>\n",
       "    <tr>\n",
       "      <th>1149</th>\n",
       "      <td>1149</td>\n",
       "      <td>dog would</td>\n",
       "      <td>-0.000378</td>\n",
       "    </tr>\n",
       "    <tr>\n",
       "      <th>352</th>\n",
       "      <td>352</td>\n",
       "      <td>biscuit</td>\n",
       "      <td>-0.000437</td>\n",
       "    </tr>\n",
       "    <tr>\n",
       "      <th>4335</th>\n",
       "      <td>4335</td>\n",
       "      <td>talking</td>\n",
       "      <td>-0.000497</td>\n",
       "    </tr>\n",
       "    <tr>\n",
       "      <th>4249</th>\n",
       "      <td>4249</td>\n",
       "      <td>sugar free</td>\n",
       "      <td>-0.000517</td>\n",
       "    </tr>\n",
       "    <tr>\n",
       "      <th>3733</th>\n",
       "      <td>3733</td>\n",
       "      <td>roots</td>\n",
       "      <td>-0.000821</td>\n",
       "    </tr>\n",
       "    <tr>\n",
       "      <th>2962</th>\n",
       "      <td>2962</td>\n",
       "      <td>not stand</td>\n",
       "      <td>-0.000860</td>\n",
       "    </tr>\n",
       "    <tr>\n",
       "      <th>1147</th>\n",
       "      <td>1147</td>\n",
       "      <td>dog not</td>\n",
       "      <td>-0.001595</td>\n",
       "    </tr>\n",
       "    <tr>\n",
       "      <th>3089</th>\n",
       "      <td>3089</td>\n",
       "      <td>opened bag</td>\n",
       "      <td>-0.001794</td>\n",
       "    </tr>\n",
       "  </tbody>\n",
       "</table>\n",
       "</div>"
      ],
      "text/plain": [
       "      ColumnIndex        Word    Weight\n",
       "3991         3991        slim -0.000153\n",
       "1569         1569      fluffy -0.000301\n",
       "1149         1149   dog would -0.000378\n",
       "352           352     biscuit -0.000437\n",
       "4335         4335     talking -0.000497\n",
       "4249         4249  sugar free -0.000517\n",
       "3733         3733       roots -0.000821\n",
       "2962         2962   not stand -0.000860\n",
       "1147         1147     dog not -0.001595\n",
       "3089         3089  opened bag -0.001794"
      ]
     },
     "execution_count": 49,
     "metadata": {},
     "output_type": "execute_result"
    }
   ],
   "source": [
    "# For Negative Class : Get the features with their weights.\n",
    "dfTopWords[['ColumnIndex','Word','Weight'\n",
    "          ]][(dfTopWords['Weight'] < 0.00)].sort_values(['Weight'],ascending=False).head(10)\n"
   ]
  },
  {
   "cell_type": "markdown",
   "metadata": {},
   "source": [
    "#### [5.1.2.10] : Load metrics into the summary table for TF-IDF."
   ]
  },
  {
   "cell_type": "code",
   "execution_count": 50,
   "metadata": {},
   "outputs": [],
   "source": [
    "# Import the metrics module.\n",
    "from sklearn.metrics import accuracy_score\n",
    "from sklearn.metrics import precision_score\n",
    "from sklearn.metrics import recall_score\n",
    "from sklearn.metrics import f1_score\n",
    "from sklearn.metrics import roc_auc_score\n",
    "\n",
    "# Add the classification metrics to the table.\n",
    "# Add the classification metrics to the final summary table.\n",
    "summaryTable.add_row(['LinearKernel','TF-IDF',optimal_alpha,'Accuracy',accuracy_score(Y_test,Y_pred_test)])\n",
    "summaryTable.add_row(['-','-',optimal_alpha,'Precision',precision_score(Y_test,Y_pred_test)])\n",
    "summaryTable.add_row(['-','-',optimal_alpha,'Recall',recall_score(Y_test,Y_pred_test)])\n",
    "summaryTable.add_row(['-','-',optimal_alpha,'F1 Score',f1_score(Y_test,Y_pred_test)])\n",
    "summaryTable.add_row(['-','-',optimal_alpha,'AUC Score',roc_auc_score(Y_test,Y_pred)])\n",
    "summaryTable.add_row(['-','-',optimal_alpha,'ConfusionMatrix',confusion_matrix(Y_test, Y_pred_test)])\n",
    "summaryTable.add_row(['----------','----------','-----------','----------','----------'])\n"
   ]
  },
  {
   "cell_type": "code",
   "execution_count": null,
   "metadata": {},
   "outputs": [],
   "source": []
  },
  {
   "cell_type": "markdown",
   "metadata": {},
   "source": [
    "### [5.1.3]  Applying Linear SVM on AVG W2V,<font color='red'> SET 3</font>"
   ]
  },
  {
   "cell_type": "markdown",
   "metadata": {},
   "source": [
    "#### [5.1.3.1] Convert review text into numeric vectors using Avg W2V"
   ]
  },
  {
   "cell_type": "code",
   "execution_count": 52,
   "metadata": {},
   "outputs": [
    {
     "name": "stderr",
     "output_type": "stream",
     "text": [
      "100%|████████████████████████████████████████████████████████████████████████████████████████████████████████████████████████████████████████████████████████████████████| 60000/60000 [00:01<00:00, 34083.35it/s]\n"
     ]
    }
   ],
   "source": [
    "# Train your own Word2Vec model using your own text training corpus.\n",
    "# Train Word2Vec on training set alone.\n",
    "i=0\n",
    "list_of_sent=[]  # List to store the sentence from the review comments.\n",
    "\n",
    "# Loop through all the Amazon Food Review comments, one comment at a time.\n",
    "for sent in tqdm(X_train.values.astype('U')):\n",
    "    list_of_sent.append(sent.split())         # From the Review, split it into individual sentence and add to the list."
   ]
  },
  {
   "cell_type": "markdown",
   "metadata": {},
   "source": [
    "#### [5.1.3.2] Train the Word2Vec model on the training set alone."
   ]
  },
  {
   "cell_type": "code",
   "execution_count": 53,
   "metadata": {},
   "outputs": [
    {
     "name": "stdout",
     "output_type": "stream",
     "text": [
      "number of words that occured minimum 5 times  15844\n",
      "sample words  ['big', 'lover', 'fig', 'jam', 'unique', 'flavor', 'kind', 'mix', 'light', 'figs', 'dark', 'mission', 'must', 'great', 'product', 'good', 'price', 'definitely', 'ordering', 'used', 'bottles', 'ordered', 'expected', 'box', 'full', 'fortune', 'cookies', 'like', 'one', 'nonetheless', 'got', 'small', 'tasted', 'weird', 'okay', 'not', 'best', 'reviewing', 'review', 'amazon', 'checked', 'label', 'container', 'sure', 'enough', 'contains', 'propylene', 'glycol', 'top', 'ingredients']\n"
     ]
    }
   ],
   "source": [
    "# Instantiate the Word2Vec vectorizer.\n",
    "\n",
    "# Word2Vec(list,word_repeat_count,dimension_of_each_word_vector,Number_of_Processor_cores)\n",
    "# min_count = 5 considers only words that occured atleast 5 times\n",
    "w2v_model=Word2Vec(list_of_sent,min_count=5,size=50, workers=4)\n",
    "\n",
    "# Store the word vocabulary.\n",
    "w2v_words = list(w2v_model.wv.vocab)\n",
    "\n",
    "# Print the Word vector.\n",
    "print(\"number of words that occured minimum 5 times \",len(w2v_words))\n",
    "print(\"sample words \", w2v_words[0:50])"
   ]
  },
  {
   "cell_type": "markdown",
   "metadata": {},
   "source": [
    "#### [5.1.3.3] Compute the average Word2Vec for each review in the training set."
   ]
  },
  {
   "cell_type": "code",
   "execution_count": 54,
   "metadata": {},
   "outputs": [
    {
     "name": "stderr",
     "output_type": "stream",
     "text": [
      "100%|██████████████████████████████████████████████████████████████████████████████████████████████████████████████████████████████████████████████████████████████████████| 60000/60000 [03:53<00:00, 256.42it/s]\n"
     ]
    },
    {
     "name": "stdout",
     "output_type": "stream",
     "text": [
      "The total number of words is 60000\n",
      "The dimension of each word vector is 50\n"
     ]
    }
   ],
   "source": [
    "# average Word2Vec\n",
    "# Avg. Word2Vec = (W2V(w1)+W2V(w2)+W2V(w3)+...... +W2V(w364171)) / 364171\n",
    "# compute average word2vec for each review.\n",
    "sent_vectors = [];                     # the avg-w2v for each sentence/review is stored in this list\n",
    "for sent in tqdm(list_of_sent):        # for each review/sentence in the training set\n",
    "    sent_vec = np.zeros(50)            # as word vectors are of zero length\n",
    "    cnt_words =0;                      # num of words with a valid vector in the sentence/review\n",
    "    for word in sent:                  # for each word in a review/sentence\n",
    "        if word in w2v_words:          # if the word exists in the vocabulary\n",
    "            vec = w2v_model.wv[word]   # convert the word to vector\n",
    "            sent_vec += vec            # sum the vectors\n",
    "            cnt_words += 1             # compute the word count\n",
    "    if cnt_words != 0:\n",
    "        sent_vec /= cnt_words          # compute the average word count\n",
    "    sent_vectors.append(sent_vec)      # update the average word count to the list.\n",
    "print('The total number of words is {}'.format(len(sent_vectors)))\n",
    "print('The dimension of each word vector is {}'.format(len(sent_vectors[0])))"
   ]
  },
  {
   "cell_type": "markdown",
   "metadata": {},
   "source": [
    "#### [5.1.3.4] Build the text corpus of the cross-validation and test set."
   ]
  },
  {
   "cell_type": "code",
   "execution_count": 55,
   "metadata": {},
   "outputs": [
    {
     "name": "stderr",
     "output_type": "stream",
     "text": [
      "100%|████████████████████████████████████████████████████████████████████████████████████████████████████████████████████████████████████████████████████████████████████| 20000/20000 [00:00<00:00, 44555.11it/s]\n",
      "100%|███████████████████████████████████████████████████████████████████████████████████████████████████████████████████████████████████████████████████████████████████| 20000/20000 [00:00<00:00, 180172.73it/s]\n"
     ]
    }
   ],
   "source": [
    "# Build the cross-validation text corpus.\n",
    "i=0\n",
    "list_of_sent_cv=[]   # List to store the sentence from the review comments.\n",
    "\n",
    "# Loop through all the Amazon Food Review comments, one comment at a time.\n",
    "for sent in tqdm(X_cv.values):\n",
    "    list_of_sent_cv.append(sent.split())     # From the Review, split it into individual sentence and add to the list.\n",
    "    \n",
    "# Build the test text corpus.\n",
    "i=0\n",
    "list_of_sent_test=[]  # List to store the sentence from the review comments.\n",
    "\n",
    "# Loop through all the Amazon Food Review comments, one comment at a time.\n",
    "for sent in tqdm(X_test.values):\n",
    "    list_of_sent_test.append(sent.split())    # From the Review, split it into individual sentence and add to the list."
   ]
  },
  {
   "cell_type": "markdown",
   "metadata": {},
   "source": [
    "#### [5.1.3.5] Use the trained word2vec model to compute the average Word2Vec for each review in the cross-validation and test set."
   ]
  },
  {
   "cell_type": "code",
   "execution_count": 56,
   "metadata": {},
   "outputs": [
    {
     "name": "stderr",
     "output_type": "stream",
     "text": [
      "100%|██████████████████████████████████████████████████████████████████████████████████████████████████████████████████████████████████████████████████████████████████████| 20000/20000 [01:23<00:00, 239.61it/s]\n"
     ]
    },
    {
     "name": "stdout",
     "output_type": "stream",
     "text": [
      "The total number of words is 20000\n",
      "The dimension of each word vector is 50\n"
     ]
    }
   ],
   "source": [
    "# CROSS-VALIDATION :\n",
    "\n",
    "# average Word2Vec\n",
    "# Avg. Word2Vec = (W2V(w1)+W2V(w2)+W2V(w3)+...... +W2V(w364171)) / 364171\n",
    "# compute average word2vec for each review.\n",
    "sent_vectors_cv = [];                # the avg-w2v for each sentence/review is stored in this list\n",
    "for sent in tqdm(list_of_sent_cv):   # for each review/sentence in the test set\n",
    "    sent_vec = np.zeros(50)            # as word vectors are of zero length\n",
    "    cnt_words =0;                      # num of words with a valid vector in the sentence/review\n",
    "    for word in sent:                  # for each word in a review/sentence\n",
    "        if word in w2v_words:          # if the word exists in the vocabulary\n",
    "            vec = w2v_model.wv[word]   # convert the word to vector using the trained model.\n",
    "            sent_vec += vec            # sum the vectors\n",
    "            cnt_words += 1             # compute the word count\n",
    "    if cnt_words != 0:\n",
    "        sent_vec /= cnt_words          # compute the average word count\n",
    "    sent_vectors_cv.append(sent_vec)   # update the average word count to the list. \n",
    "\n",
    "print('The total number of words is {}'.format(len(sent_vectors_cv)))\n",
    "print('The dimension of each word vector is {}'.format(len(sent_vectors_cv[0])))"
   ]
  },
  {
   "cell_type": "code",
   "execution_count": 57,
   "metadata": {},
   "outputs": [
    {
     "name": "stderr",
     "output_type": "stream",
     "text": [
      "100%|██████████████████████████████████████████████████████████████████████████████████████████████████████████████████████████████████████████████████████████████████████| 20000/20000 [01:20<00:00, 247.83it/s]\n"
     ]
    },
    {
     "name": "stdout",
     "output_type": "stream",
     "text": [
      "The total number of words is 20000\n",
      "The dimension of each word vector is 50\n"
     ]
    }
   ],
   "source": [
    "# TEST :\n",
    "\n",
    "# average Word2Vec\n",
    "# Avg. Word2Vec = (W2V(w1)+W2V(w2)+W2V(w3)+...... +W2V(w364171)) / 364171\n",
    "# compute average word2vec for each review.\n",
    "sent_vectors_test = [];                # the avg-w2v for each sentence/review is stored in this list\n",
    "for sent in tqdm(list_of_sent_test):   # for each review/sentence in the test set\n",
    "    sent_vec = np.zeros(50)            # as word vectors are of zero length\n",
    "    cnt_words =0;                      # num of words with a valid vector in the sentence/review\n",
    "    for word in sent:                  # for each word in a review/sentence\n",
    "        if word in w2v_words:          # if the word exists in the vocabulary\n",
    "            vec = w2v_model.wv[word]   # convert the word to vector using the trained model.\n",
    "            sent_vec += vec            # sum the vectors\n",
    "            cnt_words += 1             # compute the word count\n",
    "    if cnt_words != 0:\n",
    "        sent_vec /= cnt_words          # compute the average word count\n",
    "    sent_vectors_test.append(sent_vec) # update the average word count to the list.\n",
    "\n",
    "print('The total number of words is {}'.format(len(sent_vectors_test)))\n",
    "print('The dimension of each word vector is {}'.format(len(sent_vectors_test[0])))"
   ]
  },
  {
   "cell_type": "markdown",
   "metadata": {},
   "source": [
    "#### [5.1.3.6] Standardize / Normalize the data"
   ]
  },
  {
   "cell_type": "code",
   "execution_count": 58,
   "metadata": {},
   "outputs": [],
   "source": [
    "# Data-preprocessing: Normalizing the data\n",
    "from sklearn.preprocessing import Normalizer\n",
    "\n",
    "normalizer = Normalizer()\n",
    "\n",
    "#Standardize on the train data.\n",
    "X_train_stdzd = normalizer.fit_transform(sent_vectors)\n",
    "\n",
    "#Standardize the cv and test data.\n",
    "X_cv_stdzd  = normalizer.transform(sent_vectors_cv)      #use the same Normalizer on the cv set.\n",
    "X_test_stdzd  = normalizer.transform(sent_vectors_test)  #use the same Normalizer on the test set."
   ]
  },
  {
   "cell_type": "markdown",
   "metadata": {},
   "source": [
    "#### [5.1.3.7] (L1 regularizer) Hyper-Parameter Tuning : Using the cross-validation dataset to calculate the optimal 'alpha' of Linear SVM in AvgW2V case."
   ]
  },
  {
   "cell_type": "code",
   "execution_count": 59,
   "metadata": {},
   "outputs": [
    {
     "name": "stdout",
     "output_type": "stream",
     "text": [
      "Alpha :\n",
      "[10000, 1000, 100, 10, 1, 0.1, 0.01, 0.001, 0.0001]\n",
      "\n",
      "AuC :\n",
      "[0.5, 0.5, 0.5, 0.5, 0.5, 0.5, 0.8692475982700733, 0.9015042101625727, 0.9043054036685996]\n",
      "\n",
      "Plot of CrossValidationAuC vs Log of alpha:\n"
     ]
    },
    {
     "data": {
      "image/png": "[encoded data removed]",
      "text/plain": [
       "<matplotlib.figure.Figure at 0x1573739c048>"
      ]
     },
     "metadata": {},
     "output_type": "display_data"
    },
    {
     "name": "stdout",
     "output_type": "stream",
     "text": [
      "Starttime is : 2019-01-17 11:48:36.653074\n",
      "Endtime   is : 2019-01-17 11:48:53.548461\n"
     ]
    }
   ],
   "source": [
    "# Import the SGDClassifier with Hinge loss = linearSVM .\n",
    "from sklearn.linear_model import SGDClassifier\n",
    "# Need to get the probability score of each class label.\n",
    "from sklearn.calibration import CalibratedClassifierCV\n",
    "# Import the metrics module.\n",
    "from sklearn.metrics import roc_auc_score\n",
    "\n",
    "# Set the start time of the current cell run.\n",
    "starttime_lrsvm_avgw2v = datetime.datetime.now()\n",
    "\n",
    "# Set the range for the hyper-parameters.\n",
    "# Experiment with alpha ranges between 1/10000 to 10000.\n",
    "# Here alpha is the hyper-parameter of the SGDClassifier (LinearSVM model)\n",
    "\n",
    "hp_alpha = [10000,1000,100,10,1,0.1,0.01,0.001,0.0001]\n",
    "\n",
    "# Use the cross-validation dataset to determine the best hyper-parameter alpha.\n",
    "# Loop through various values of alpha.\n",
    "plot_X = []\n",
    "plot_Y = []\n",
    "for i in hp_alpha:\n",
    "    # Iterate through various values of alpha,\n",
    "    lrsvm_optimal = SGDClassifier(loss='hinge',            # gives LinearSVM model.\n",
    "                                  penalty='l1',            # use L1 regularizer.\n",
    "                                  alpha=(i),               # Hyper-parameter of the current iteration.\n",
    "                                  class_weight='balanced') # uses the values of y to automatically \n",
    "                                                           # adjust weights in the input data.\n",
    "\n",
    "    ### Use CalibratedClassifierCV\n",
    "    ### Reference : https://machinelearningmastery.com/calibrated-classification-model-in-scikit-learn/ \n",
    "    # Instantiate the CalibratedClassifierCV model.\n",
    "    calibratedCCV = CalibratedClassifierCV(lrsvm_optimal,    # LinearSVM model.\n",
    "                                           method='sigmoid', # sigmoid function.\n",
    "                                           cv=5)             # crossvalidation #'s.\n",
    "    \n",
    "    calibratedCCV.fit(X_train_stdzd, Y_train)                # fit the model on the training set.\n",
    "    Y_pred = calibratedCCV.predict_proba(X_cv_stdzd)[:, 1]   # predict class probabilities.\n",
    "\n",
    "    # Compute AuC metric.\n",
    "    plot_X.append(np.log(i))                                # plot log(alpha) in the x-axis.\n",
    "    plot_Y.append(roc_auc_score(Y_cv,Y_pred))               # plot auc score in the y-axis.\n",
    "\n",
    "# print X,Y\n",
    "print(\"Alpha :\\n{}\".format(hp_alpha))\n",
    "print(\"\\nAuC :\\n{}\".format(plot_Y))\n",
    "\n",
    "print(\"\\nPlot of CrossValidationAuC vs Log of alpha:\")\n",
    "# Plot X-axis = log(alpha),Y-axis = AuC to determine the best hyper-parameter.\n",
    "plt.plot(plot_X,plot_Y)\n",
    "plt.title(\"L1 Regularizer : Plot of CrossValidationAuC vs log(alpha) .\")  # Set the title of the plot.\n",
    "plt.xlabel(\"log(alpha)\")                                                  # Set the x label of the plot.\n",
    "plt.ylabel(\"CrossValidation AuC\")                                         # Set the y label of the plot.\n",
    "plt.show()                                                                # render the plot.\n",
    "\n",
    "# Set the end time of the current cell run.\n",
    "endtime_lrsvm_avgw2v = datetime.datetime.now()\n",
    "\n",
    "# Print the cell run duration.\n",
    "print(\"Starttime is : {}\".format(starttime_lrsvm_avgw2v))\n",
    "print(\"Endtime   is : {}\".format(endtime_lrsvm_avgw2v))\n"
   ]
  },
  {
   "cell_type": "markdown",
   "metadata": {},
   "source": [
    "#### (L1 regularizer): The hyper-parameter that gives the optimal AuC score is 0.0001. The optimal AuC is 0.904 ."
   ]
  },
  {
   "cell_type": "code",
   "execution_count": null,
   "metadata": {},
   "outputs": [],
   "source": []
  },
  {
   "cell_type": "markdown",
   "metadata": {},
   "source": [
    "#### [5.1.3.8] (L2 regularizer) Hyper-Parameter Tuning : Using the cross-validation dataset to calculate the optimal 'alpha' of Linear SVM in AvgW2V case."
   ]
  },
  {
   "cell_type": "code",
   "execution_count": 60,
   "metadata": {},
   "outputs": [
    {
     "name": "stdout",
     "output_type": "stream",
     "text": [
      "Alpha :\n",
      "[10000, 1000, 100, 10, 1, 0.1, 0.01, 0.001, 0.0001]\n",
      "\n",
      "AuC :\n",
      "[0.8696537416119021, 0.8696537416119021, 0.8696537416119021, 0.8696537416119021, 0.8696555332180929, 0.869721047432929, 0.8941714761100255, 0.9027029842009103, 0.9039871696189897]\n",
      "\n",
      "Plot of CrossValidationAuC vs Log of alpha:\n"
     ]
    },
    {
     "data": {
      "image/png": "[encoded data removed]",
      "text/plain": [
       "<matplotlib.figure.Figure at 0x15737559198>"
      ]
     },
     "metadata": {},
     "output_type": "display_data"
    },
    {
     "name": "stdout",
     "output_type": "stream",
     "text": [
      "Starttime is : 2019-01-17 11:49:36.311705\n",
      "Endtime   is : 2019-01-17 11:49:46.794085\n"
     ]
    }
   ],
   "source": [
    "# Import the SGDClassifier with Hinge loss = linearSVM .\n",
    "from sklearn.linear_model import SGDClassifier\n",
    "# Need to get the probability score of each class label.\n",
    "from sklearn.calibration import CalibratedClassifierCV\n",
    "# Import the metrics module.\n",
    "from sklearn.metrics import roc_auc_score\n",
    "\n",
    "# Set the start time of the current cell run.\n",
    "starttime_lrsvm_avgw2v = datetime.datetime.now()\n",
    "\n",
    "# Set the range for the hyper-parameters.\n",
    "# Experiment with alpha ranges between 1/10000 to 10000.\n",
    "# Here alpha is the hyper-parameter of the SGDClassifier (LinearSVM model)\n",
    "\n",
    "hp_alpha = [10000,1000,100,10,1,0.1,0.01,0.001,0.0001]\n",
    "\n",
    "# Use the cross-validation dataset to determine the best hyper-parameter alpha.\n",
    "# Loop through various values of alpha.\n",
    "plot_X = []\n",
    "plot_Y = []\n",
    "for i in hp_alpha:\n",
    "    # Iterate through various values of alpha,\n",
    "    lrsvm_optimal = SGDClassifier(loss='hinge',            # gives LinearSVM model.\n",
    "                                  penalty='l2',            # use L2 regularizer.\n",
    "                                  alpha=(i),               # Hyper-parameter of the current iteration.\n",
    "                                  class_weight='balanced') # uses the values of y to automatically \n",
    "                                                           # adjust weights in the input data.\n",
    "\n",
    "    ### Use CalibratedClassifierCV\n",
    "    ### Reference : https://machinelearningmastery.com/calibrated-classification-model-in-scikit-learn/ \n",
    "    # Instantiate the CalibratedClassifierCV model.\n",
    "    calibratedCCV = CalibratedClassifierCV(lrsvm_optimal,    # LinearSVM model.\n",
    "                                           method='sigmoid', # sigmoid function.\n",
    "                                           cv=5)             # crossvalidation #'s.\n",
    "    \n",
    "    calibratedCCV.fit(X_train_stdzd, Y_train)                # fit the model on the training set.\n",
    "    Y_pred = calibratedCCV.predict_proba(X_cv_stdzd)[:, 1]   # predict class probabilities.\n",
    "\n",
    "    # Compute AuC metric.\n",
    "    plot_X.append(np.log(i))                                # plot log(alpha) in the x-axis.\n",
    "    plot_Y.append(roc_auc_score(Y_cv,Y_pred))               # plot auc score in the y-axis.\n",
    "\n",
    "# print X,Y\n",
    "print(\"Alpha :\\n{}\".format(hp_alpha))\n",
    "print(\"\\nAuC :\\n{}\".format(plot_Y))\n",
    "\n",
    "print(\"\\nPlot of CrossValidationAuC vs Log of alpha:\")\n",
    "# Plot X-axis = log(alpha),Y-axis = AuC to determine the best hyper-parameter.\n",
    "plt.plot(plot_X,plot_Y)\n",
    "plt.title(\"L2 Regularizer : Plot of CrossValidationAuC vs log(alpha) .\")  # Set the title of the plot.\n",
    "plt.xlabel(\"log(alpha)\")                                                  # Set the x label of the plot.\n",
    "plt.ylabel(\"CrossValidation AuC\")                                         # Set the y label of the plot.\n",
    "plt.show()                                                                # render the plot.\n",
    "\n",
    "# Set the end time of the current cell run.\n",
    "endtime_lrsvm_avgw2v = datetime.datetime.now()\n",
    "\n",
    "# Print the cell run duration.\n",
    "print(\"Starttime is : {}\".format(starttime_lrsvm_avgw2v))\n",
    "print(\"Endtime   is : {}\".format(endtime_lrsvm_avgw2v))\n"
   ]
  },
  {
   "cell_type": "markdown",
   "metadata": {},
   "source": [
    "#### (L2 regularizer): \n",
    "    The hyper-parameter that gives the optimal AuC score is 0.0001.\n",
    "    The optimal AuC is 0.904 ."
   ]
  },
  {
   "cell_type": "markdown",
   "metadata": {},
   "source": [
    "#### Observation :\n",
    "    It is observed that both the regularizer gives the best AuC.\n",
    "    L2 regularizer is choosen."
   ]
  },
  {
   "cell_type": "code",
   "execution_count": null,
   "metadata": {},
   "outputs": [],
   "source": []
  },
  {
   "cell_type": "markdown",
   "metadata": {},
   "source": [
    "#### [5.1.3.9] : Train and Fit the LinearSVM model in the training set. Compute the performance metrics by predicting the model on the test set. Use L2 regularizer."
   ]
  },
  {
   "cell_type": "code",
   "execution_count": 61,
   "metadata": {},
   "outputs": [
    {
     "name": "stdout",
     "output_type": "stream",
     "text": [
      "Starttime is : 2019-01-17 11:50:43.002930\n",
      "Endtime   is : 2019-01-17 11:50:44.043270\n"
     ]
    }
   ],
   "source": [
    "# Import the SGDClassifier with Hinge loss = linearSVM .\n",
    "from sklearn.linear_model import SGDClassifier\n",
    "\n",
    "# Set the start time of the current cell run.\n",
    "starttime_lrsvm_avgw2v = datetime.datetime.now()\n",
    "\n",
    "# The best value of the hyper-parameter alpha.\n",
    "optimal_alpha = 0.0001\n",
    "\n",
    "# instantiate the LinearSVM model with alpha = 0.0001 .\n",
    "lrsvm_optimal = SGDClassifier(loss='hinge',            # gives LinearSVM model.\n",
    "                              penalty='l2',            # use L2 regularizer.\n",
    "                              alpha=optimal_alpha,     # Best hyper-parameter found.\n",
    "                              class_weight='balanced') # uses the values of y to automatically \n",
    "                                                       # adjust weights in the input data.\n",
    "\n",
    "lrsvm_optimal.fit(X_train_stdzd, Y_train)           # fit the LinearSVM model.\n",
    "Y_pred_test = lrsvm_optimal.predict(X_test_stdzd)   # predict,response from the LinearSVM model.\n",
    "\n",
    "### Use CalibratedClassifierCV\n",
    "# Instantiate the CalibratedClassifierCV model.\n",
    "calibratedCCV = CalibratedClassifierCV(lrsvm_optimal,    # LinearSVM model.\n",
    "                                       method='sigmoid', # sigmoid function.\n",
    "                                       cv=5)             # crossvalidation #'s.\n",
    "    \n",
    "calibratedCCV.fit(X_train_stdzd, Y_train)                # fit the model on the training set.\n",
    "Y_pred = calibratedCCV.predict_proba(X_test_stdzd)[:, 1] # predict class probabilities on the testset.\n",
    "\n",
    "# Set the end time of the current cell run.\n",
    "endtime_lrsvm_avgw2v = datetime.datetime.now()\n",
    "\n",
    "# Print the cell run duration.\n",
    "print(\"Starttime is : {}\".format(starttime_lrsvm_avgw2v))\n",
    "print(\"Endtime   is : {}\".format(endtime_lrsvm_avgw2v))"
   ]
  },
  {
   "cell_type": "markdown",
   "metadata": {},
   "source": [
    "#### [5.1.3.10] : Plot the ROC Curve."
   ]
  },
  {
   "cell_type": "code",
   "execution_count": 62,
   "metadata": {},
   "outputs": [
    {
     "data": {
      "image/png": "[encoded data removed]",
      "text/plain": [
       "<matplotlib.figure.Figure at 0x15782f97c50>"
      ]
     },
     "metadata": {},
     "output_type": "display_data"
    }
   ],
   "source": [
    "# Import the modules\n",
    "from sklearn.metrics import roc_curve\n",
    "import matplotlib.pyplot as plt\n",
    "\n",
    "# Calculate the RoC curve\n",
    "fpr, tpr, thresholds = roc_curve(Y_test,Y_pred,pos_label=1)   # compute the roc curve.\n",
    "plt.plot([0, 1], [0, 1], linestyle='--')                      # plot the 50% probability line.\n",
    "plt.plot(fpr, tpr, marker='.')                                # plot the roc curve for the model.\n",
    "plt.title(\"ROC Curve.\")                                       # set the title of the plot.\n",
    "plt.xlabel(\"False Positive Rate\")                             # set the x label of the plot.\n",
    "plt.ylabel(\"True Positive Rate\")                              # set the y label of the plot.\n",
    "plt.show()                                                    # show the plot."
   ]
  },
  {
   "cell_type": "markdown",
   "metadata": {},
   "source": [
    "#### [5.1.3.11] Plot the classifier performance metrics."
   ]
  },
  {
   "cell_type": "code",
   "execution_count": 63,
   "metadata": {},
   "outputs": [
    {
     "data": {
      "image/png": "[encoded data removed]",
      "text/plain": [
       "<matplotlib.figure.Figure at 0x157375e8a20>"
      ]
     },
     "metadata": {},
     "output_type": "display_data"
    },
    {
     "name": "stdout",
     "output_type": "stream",
     "text": [
      "\n",
      "The class composition in the testset is :\n",
      "1    16442\n",
      "0     3558\n",
      "Name: Comment, dtype: int64\n"
     ]
    }
   ],
   "source": [
    "# evaluate the model and report the metrics.\n",
    "from sklearn.metrics import confusion_matrix\n",
    "conf_mat = confusion_matrix(Y_test, Y_pred_test)\n",
    "fig, ax = plt.subplots(figsize=(5,5))\n",
    "sns.heatmap(conf_mat, annot=True, fmt='d'\n",
    "            ,xticklabels=['negative','positive'], yticklabels=['negative','positive'])\n",
    "plt.title('Confusion Matrix : (Vectorizer = AvgW2V)')\n",
    "plt.ylabel('Actual')\n",
    "plt.xlabel('Predicted')\n",
    "plt.show()\n",
    "\n",
    "#Class composition in the testset.\n",
    "dfYTest = pd.DataFrame(list(Y_test),columns=['Comment'])\n",
    "print(\"\\nThe class composition in the testset is :\")\n",
    "print(dfYTest[\"Comment\"].value_counts())"
   ]
  },
  {
   "cell_type": "code",
   "execution_count": null,
   "metadata": {},
   "outputs": [],
   "source": []
  },
  {
   "cell_type": "markdown",
   "metadata": {},
   "source": [
    "#### [5.1.3.12] : Load metrics into the summary table for AvgWord2Vec."
   ]
  },
  {
   "cell_type": "code",
   "execution_count": 74,
   "metadata": {},
   "outputs": [],
   "source": [
    "# Import the metrics module.\n",
    "from sklearn.metrics import accuracy_score\n",
    "from sklearn.metrics import precision_score\n",
    "from sklearn.metrics import recall_score\n",
    "from sklearn.metrics import f1_score\n",
    "from sklearn.metrics import roc_auc_score\n",
    "\n",
    "# Add the classification metrics to the table.\n",
    "# Add the classification metrics to the final summary table.\n",
    "summaryTable.add_row(['LinearKernel','AvgWord2Vec',optimal_alpha,'Accuracy',accuracy_score(Y_test,Y_pred_test)])\n",
    "summaryTable.add_row(['-','-',optimal_alpha,'Precision',precision_score(Y_test,Y_pred_test)])\n",
    "summaryTable.add_row(['-','-',optimal_alpha,'Recall',recall_score(Y_test,Y_pred_test)])\n",
    "summaryTable.add_row(['-','-',optimal_alpha,'F1 Score',f1_score(Y_test,Y_pred_test)])\n",
    "summaryTable.add_row(['-','-',optimal_alpha,'AUC Score',roc_auc_score(Y_test,Y_pred)])\n",
    "summaryTable.add_row(['-','-',optimal_alpha,'ConfusionMatrix',confusion_matrix(Y_test, Y_pred_test)])\n",
    "summaryTable.add_row(['----------','----------','-----------','----------','----------'])\n"
   ]
  },
  {
   "cell_type": "code",
   "execution_count": null,
   "metadata": {},
   "outputs": [],
   "source": []
  },
  {
   "cell_type": "markdown",
   "metadata": {},
   "source": [
    "### [5.1.4]  Applying Linear SVM on TFIDF W2V,<font color='red'> SET 4</font>"
   ]
  },
  {
   "cell_type": "markdown",
   "metadata": {},
   "source": [
    "#### [5.1.4.1] Convert review text into numeric vectors using TF-IDF_WW2F"
   ]
  },
  {
   "cell_type": "code",
   "execution_count": 76,
   "metadata": {},
   "outputs": [
    {
     "name": "stdout",
     "output_type": "stream",
     "text": [
      "the type of count vectorizer  <class 'scipy.sparse.csr.csr_matrix'>\n",
      "the shape of out text TFIDF vectorizer  (60000, 1192587)\n",
      "the number of unique words including both unigrams and bigrams  1192587\n"
     ]
    }
   ],
   "source": [
    "#TF-IDF\n",
    "# Apply TF-IDF vectorization only on the trainingset.\n",
    "tf_idf_vect = TfidfVectorizer(dtype='float64',ngram_range=(1,2))\n",
    "\n",
    "#Train you tf-idf vectorizer on the train data.\n",
    "final_tf_idf = tf_idf_vect.fit_transform(X_train.values.astype('U'))\n",
    "\n",
    "#Print the details.\n",
    "print(\"the type of count vectorizer \",type(final_tf_idf))\n",
    "print(\"the shape of out text TFIDF vectorizer \",final_tf_idf.get_shape())\n",
    "print(\"the number of unique words including both unigrams and bigrams \", final_tf_idf.get_shape()[1])"
   ]
  },
  {
   "cell_type": "markdown",
   "metadata": {},
   "source": [
    "#### [5.1.4.2] Use the TF-IDF vectorizer trained in the preceding step to convert cross-validation and test set to vectors."
   ]
  },
  {
   "cell_type": "code",
   "execution_count": 77,
   "metadata": {},
   "outputs": [
    {
     "name": "stdout",
     "output_type": "stream",
     "text": [
      "the type of count vectorizer  <class 'scipy.sparse.csr.csr_matrix'>\n",
      "the shape of out text TF-IDF vectorizer  (20000, 1192587)\n",
      "the number of unique words  1192587\n",
      "the type of count vectorizer  <class 'scipy.sparse.csr.csr_matrix'>\n",
      "the shape of out text TF-IDF vectorizer  (20000, 1192587)\n",
      "the number of unique words  1192587\n"
     ]
    }
   ],
   "source": [
    "#use the same countvectorizer on the cross-validation set.\n",
    "final_tf_idf_cvset = tf_idf_vect.transform(X_cv.values)\n",
    "\n",
    "#Print the details.\n",
    "print(\"the type of count vectorizer \",type(final_tf_idf_cvset))\n",
    "print(\"the shape of out text TF-IDF vectorizer \",final_tf_idf_cvset.get_shape())\n",
    "print(\"the number of unique words \", final_tf_idf_cvset.get_shape()[1])\n",
    "\n",
    "#use the same countvectorizer on the test set.\n",
    "final_tf_idf_testset = tf_idf_vect.transform(X_test.values)\n",
    "\n",
    "#Print the details.\n",
    "print(\"the type of count vectorizer \",type(final_tf_idf_testset))\n",
    "print(\"the shape of out text TF-IDF vectorizer \",final_tf_idf_testset.get_shape())\n",
    "print(\"the number of unique words \", final_tf_idf_testset.get_shape()[1])\n",
    "\n",
    "# we are converting a dictionary with word as a key, and the idf as a value\n",
    "dictionary = dict(zip(tf_idf_vect.get_feature_names(), list(tf_idf_vect.idf_)))\n"
   ]
  },
  {
   "cell_type": "markdown",
   "metadata": {},
   "source": [
    "#### [5.1.4.3] Build the list of sentences for the training,crossvalidation and test set respectively."
   ]
  },
  {
   "cell_type": "code",
   "execution_count": 78,
   "metadata": {},
   "outputs": [],
   "source": [
    "# Build the list of sentences from the training set.\n",
    "list_of_sent=[]                           # List to store the sentences from the Review comments.\n",
    "for sent in X_train.values.astype('U'):   # Loop through the Review comments, one at a time.\n",
    "    list_of_sent.append(sent.split())     # Split the Review comments into sentences and store \n",
    "                                          # them in the List.\n",
    "\n",
    "# Build the list of sentences from the cross-validation set.\n",
    "list_of_sent_cv=[]                          # List to store the sentences from the Review comments.\n",
    "for sent in X_cv.values:                    # Loop through the Review comments, one at a time.\n",
    "    list_of_sent_cv.append(sent.split())    # Split the Review comments into sentences and store them\n",
    "                                            # in the List.\n",
    "\n",
    "# Build the list of sentences from the test set.\n",
    "list_of_sent_test=[]                        # List to store the sentences from the Review comments.\n",
    "for sent in X_test.values:                  # Loop through the Review comments, one at a time.\n",
    "    list_of_sent_test.append(sent.split())  # Split the Review comments into sentences and store \n",
    "                                            # them in the List."
   ]
  },
  {
   "cell_type": "markdown",
   "metadata": {},
   "source": [
    "#### [5.1.4.4] Train the Word2Vec model on the training set alone."
   ]
  },
  {
   "cell_type": "code",
   "execution_count": 79,
   "metadata": {},
   "outputs": [
    {
     "name": "stdout",
     "output_type": "stream",
     "text": [
      "number of words that occured minimum 5 times  15844\n",
      "sample words  ['big', 'lover', 'fig', 'jam', 'unique', 'flavor', 'kind', 'mix', 'light', 'figs', 'dark', 'mission', 'must', 'great', 'product', 'good', 'price', 'definitely', 'ordering', 'used', 'bottles', 'ordered', 'expected', 'box', 'full', 'fortune', 'cookies', 'like', 'one', 'nonetheless', 'got', 'small', 'tasted', 'weird', 'okay', 'not', 'best', 'reviewing', 'review', 'amazon', 'checked', 'label', 'container', 'sure', 'enough', 'contains', 'propylene', 'glycol', 'top', 'ingredients']\n"
     ]
    }
   ],
   "source": [
    "# min_count = 5 considers only words that occured atleast 5 times\n",
    "# Word2Vec Syntax : Word2Vec(list,word_repeat_count,dimension_of_each_word_vector,Number_of_Processor_cores)\n",
    "\n",
    "# Instantiate the Word2Vec vectorizer.\n",
    "w2v_model=Word2Vec(list_of_sent,min_count=5,size=50, workers=4)\n",
    "# Get the vocabulary. \n",
    "w2v_words = list(w2v_model.wv.vocab)\n",
    "# Print the details.\n",
    "print(\"number of words that occured minimum 5 times \",len(w2v_words))\n",
    "print(\"sample words \", w2v_words[0:50])"
   ]
  },
  {
   "cell_type": "markdown",
   "metadata": {},
   "source": [
    "#### [5.1.4.5] Train the TF-IDF Weighted Word2Vec on the training set."
   ]
  },
  {
   "cell_type": "code",
   "execution_count": 80,
   "metadata": {},
   "outputs": [
    {
     "name": "stderr",
     "output_type": "stream",
     "text": [
      "100%|██████████████████████████████████████████████████████████████████████████████████████████████████████████████████████████████████████████████████████████████████████| 60000/60000 [03:48<00:00, 262.73it/s]\n"
     ]
    }
   ],
   "source": [
    "# TF-IDF weighted Word2Vec\n",
    "tfidf_feat = tf_idf_vect.get_feature_names() # tfidf words/col-names\n",
    "# final_tf_idf is the sparse matrix with row= sentence, col=word and cell_val = tfidf\n",
    "\n",
    "tfidf_sent_vectors = [];              # the tfidf-w2v for each sentence/review is stored in this list\n",
    "row=0;\n",
    "for sent in tqdm(list_of_sent):       # for each review/sentence\n",
    "    sent_vec = np.zeros(50)           # as word vectors are of zero length\n",
    "    weight_sum =0;                    # num of words with a valid vector in the sentence/review\n",
    "    for word in sent:                 # for each word in a review/sentence\n",
    "        #print(word)\n",
    "        if word in w2v_words:\n",
    "            vec = w2v_model.wv[word]  # Vector representation of the word.\n",
    "            \n",
    "            # dictionary[word] = idf value of word in whole corpus\n",
    "            # sent.count(word) = tf values of word in this review\n",
    "            tfidf_avgw2v = dictionary[word]*(sent.count(word)/len(sent))   # Compute the weights for\n",
    "                                                                           # Weighted Average.\n",
    "            \n",
    "            # Avg. Word2Vec = ((W2V(v1)*w1)+(W2V(v2)*w2)+(W2V(v3)*w3)+...... +(W2V(v364171)*w364171) / \n",
    "            #                  Sum(w1,w2,..w364171)            \n",
    "            sent_vec += (vec * tfidf_avgw2v)  # Compute the numerator part of the above formula.\n",
    "            weight_sum += tfidf_avgw2v        # Compute the denominator part of the above formula.\n",
    "            \n",
    "    if weight_sum != 0:\n",
    "        sent_vec /= weight_sum                # Numerator/Denominator to get the Weighted Average.\n",
    "    tfidf_sent_vectors.append(sent_vec)       # Add this to the List.\n",
    "    row += 1\n"
   ]
  },
  {
   "cell_type": "markdown",
   "metadata": {},
   "source": [
    "#### [5.1.4.6] Use the TF-IDF Weigthed Word2Vec model trained on training set to Cross-Validation set."
   ]
  },
  {
   "cell_type": "code",
   "execution_count": 81,
   "metadata": {},
   "outputs": [
    {
     "name": "stderr",
     "output_type": "stream",
     "text": [
      "100%|██████████████████████████████████████████████████████████████████████████████████████████████████████████████████████████████████████████████████████████████████████| 20000/20000 [01:22<00:00, 241.57it/s]\n"
     ]
    }
   ],
   "source": [
    "# TF-IDF weighted Word2Vec\n",
    "tfidf_feat = tf_idf_vect.get_feature_names() # tfidf words/col-names\n",
    "# final_tf_idf is the sparse matrix with row= sentence, col=word and cell_val = tfidf\n",
    "\n",
    "tfidf_sent_vectors_cv = [];              # the tfidf-w2v for each sentence/review is stored in this list\n",
    "row=0;\n",
    "for sent in tqdm(list_of_sent_cv):    # for each review/sentence \n",
    "    sent_vec = np.zeros(50)           # as word vectors are of zero length\n",
    "    weight_sum =0;                    # num of words with a valid vector in the sentence/review\n",
    "    for word in sent:                 # for each word in a review/sentence\n",
    "        if word in w2v_words:\n",
    "            vec = w2v_model.wv[word]  # Vector representation of the word.\n",
    "            \n",
    "            # dictionary[word] = idf value of word in whole courpus\n",
    "            # sent.count(word) = tf values of word in this review\n",
    "            tfidf_avgw2v = dictionary[word]*(sent.count(word)/len(sent))   # Compute the weights for\n",
    "                                                                           # Weighted Average.\n",
    "            \n",
    "            # Avg. Word2Vec = ((W2V(v1)*w1)+(W2V(v2)*w2)+(W2V(v3)*w3)+...... +(W2V(v364171)*w364171) /\n",
    "            #                  Sum(w1,w2,..w364171)            \n",
    "            sent_vec += (vec * tfidf_avgw2v)  # Compute the numerator part of the above formula.\n",
    "            weight_sum += tfidf_avgw2v        # Compute the denominator part of the above formula.\n",
    "            \n",
    "    if weight_sum != 0:\n",
    "        sent_vec /= weight_sum                # Numerator/Denominator to get the Weighted Average.\n",
    "    tfidf_sent_vectors_cv.append(sent_vec)    # Add this to the List.\n",
    "    row += 1"
   ]
  },
  {
   "cell_type": "markdown",
   "metadata": {},
   "source": [
    "#### [5.1.4.7] Use the TF-IDF Weigthed Word2Vec model trained on training set to Test set."
   ]
  },
  {
   "cell_type": "code",
   "execution_count": 82,
   "metadata": {},
   "outputs": [
    {
     "name": "stderr",
     "output_type": "stream",
     "text": [
      "100%|██████████████████████████████████████████████████████████████████████████████████████████████████████████████████████████████████████████████████████████████████████| 20000/20000 [01:24<00:00, 237.89it/s]\n"
     ]
    }
   ],
   "source": [
    "# TF-IDF weighted Word2Vec\n",
    "tfidf_feat = tf_idf_vect.get_feature_names() # tfidf words/col-names\n",
    "# final_tf_idf is the sparse matrix with row= sentence, col=word and cell_val = tfidf\n",
    "\n",
    "tfidf_sent_vectors_test = [];              # the tfidf-w2v for each sentence/review is stored in this list\n",
    "row=0;\n",
    "for sent in tqdm(list_of_sent_test):  # for each review/sentence \n",
    "    sent_vec = np.zeros(50)           # as word vectors are of zero length\n",
    "    weight_sum =0;                    # num of words with a valid vector in the sentence/review\n",
    "    for word in sent:                 # for each word in a review/sentence\n",
    "        if word in w2v_words:\n",
    "            vec = w2v_model.wv[word]  # Vector representation of the word.\n",
    "            \n",
    "            # dictionary[word] = idf value of word in whole courpus\n",
    "            # sent.count(word) = tf values of word in this review\n",
    "            tfidf_avgw2v = dictionary[word]*(sent.count(word)/len(sent))   # Compute the weights for\n",
    "                                                                           # Weighted Average.\n",
    "            \n",
    "            # Avg. Word2Vec = ((W2V(v1)*w1)+(W2V(v2)*w2)+(W2V(v3)*w3)+...... +(W2V(v364171)*w364171) / \n",
    "            #                   Sum(w1,w2,..w364171)            \n",
    "            sent_vec += (vec * tfidf_avgw2v)  # Compute the numerator part of the above formula.\n",
    "            weight_sum += tfidf_avgw2v        # Compute the denominator part of the above formula.\n",
    "            \n",
    "    if weight_sum != 0:\n",
    "        sent_vec /= weight_sum                # Numerator/Denominator to get the Weighted Average.\n",
    "    tfidf_sent_vectors_test.append(sent_vec)  # Add this to the List.\n",
    "    row += 1"
   ]
  },
  {
   "cell_type": "markdown",
   "metadata": {},
   "source": [
    "#### [5.1.4.8] Standardize / Normalize the data"
   ]
  },
  {
   "cell_type": "code",
   "execution_count": 83,
   "metadata": {},
   "outputs": [],
   "source": [
    "# Data-preprocessing: Normalizing the data\n",
    "from sklearn.preprocessing import Normalizer\n",
    "\n",
    "# Initialize the normalizer.\n",
    "normalizer = Normalizer()\n",
    "\n",
    "#Standardize on the train data.\n",
    "X_train_stdzd = normalizer.fit_transform(tfidf_sent_vectors)\n",
    "\n",
    "#Standardize the cv and test data.\n",
    "X_cv_stdzd    = normalizer.transform(tfidf_sent_vectors_cv)    #use the same Normalizer on the cv set.\n",
    "X_test_stdzd  = normalizer.transform(tfidf_sent_vectors_test)  #use the same Normalizer on the test set."
   ]
  },
  {
   "cell_type": "markdown",
   "metadata": {},
   "source": [
    "#### [5.1.4.9] (L1 regularizer) Hyper-Parameter Tuning : Using the cross-validation dataset to calculate the optimal 'alpha' of Linear SVM in  TF-IDF_AvgW2V case."
   ]
  },
  {
   "cell_type": "code",
   "execution_count": 85,
   "metadata": {},
   "outputs": [
    {
     "name": "stdout",
     "output_type": "stream",
     "text": [
      "Alpha :\n",
      "[10000, 1000, 100, 10, 1, 0.1, 0.01, 0.001, 0.0001]\n",
      "\n",
      "AuC :\n",
      "[0.5, 0.5, 0.5, 0.5, 0.5, 0.5, 0.8328553907991822, 0.8756639429830977, 0.8769742445068018]\n",
      "\n",
      "Plot of CrossValidationAuC vs Log of alpha:\n"
     ]
    },
    {
     "data": {
      "image/png": "[encoded data removed]",
      "text/plain": [
       "<matplotlib.figure.Figure at 0x15733c85a90>"
      ]
     },
     "metadata": {},
     "output_type": "display_data"
    },
    {
     "name": "stdout",
     "output_type": "stream",
     "text": [
      "Starttime is : 2019-01-17 12:12:14.160873\n",
      "Endtime   is : 2019-01-17 12:12:31.154597\n"
     ]
    }
   ],
   "source": [
    "# Import the SGDClassifier with Hinge loss = linearSVM .\n",
    "from sklearn.linear_model import SGDClassifier\n",
    "# Need to get the probability score of each class label.\n",
    "from sklearn.calibration import CalibratedClassifierCV\n",
    "# Import the metrics module.\n",
    "from sklearn.metrics import roc_auc_score\n",
    "\n",
    "# Set the start time of the current cell run.\n",
    "starttime_lrsvm_tfidf_avgw2v = datetime.datetime.now()\n",
    "\n",
    "# Set the range for the hyper-parameters.\n",
    "# Experiment with alpha ranges between 1/10000 to 10000.\n",
    "# Here alpha is the hyper-parameter of the SGDClassifier (LinearSVM model)\n",
    "\n",
    "hp_alpha = [10000,1000,100,10,1,0.1,0.01,0.001,0.0001]\n",
    "\n",
    "# Use the cross-validation dataset to determine the best hyper-parameter alpha.\n",
    "# Loop through various values of alpha.\n",
    "plot_X = []\n",
    "plot_Y = []\n",
    "for i in hp_alpha:\n",
    "    # Iterate through various values of alpha,\n",
    "    lrsvm_optimal = SGDClassifier(loss='hinge',            # gives LinearSVM model.\n",
    "                                  penalty='l1',            # use L1 regularizer.\n",
    "                                  alpha=(i),               # Hyper-parameter of the current iteration.\n",
    "                                  class_weight='balanced') # uses the values of y to automatically \n",
    "                                                           # adjust weights in the input data.\n",
    "\n",
    "    ### Use CalibratedClassifierCV\n",
    "    ### Reference : https://machinelearningmastery.com/calibrated-classification-model-in-scikit-learn/ \n",
    "    # Instantiate the CalibratedClassifierCV model.\n",
    "    calibratedCCV = CalibratedClassifierCV(lrsvm_optimal,    # LinearSVM model.\n",
    "                                           method='sigmoid', # sigmoid function.\n",
    "                                           cv=5)             # crossvalidation #'s.\n",
    "    \n",
    "    calibratedCCV.fit(X_train_stdzd, Y_train)                # fit the model on the training set.\n",
    "    Y_pred = calibratedCCV.predict_proba(X_cv_stdzd)[:, 1]   # predict class probabilities.\n",
    "\n",
    "    # Compute AuC metric.\n",
    "    plot_X.append(np.log(i))                                # plot log(alpha) in the x-axis.\n",
    "    plot_Y.append(roc_auc_score(Y_cv,Y_pred))               # plot auc score in the y-axis.\n",
    "\n",
    "# print X,Y\n",
    "print(\"Alpha :\\n{}\".format(hp_alpha))\n",
    "print(\"\\nAuC :\\n{}\".format(plot_Y))\n",
    "\n",
    "print(\"\\nPlot of CrossValidationAuC vs Log of alpha:\")\n",
    "# Plot X-axis = log(alpha),Y-axis = AuC to determine the best hyper-parameter.\n",
    "plt.plot(plot_X,plot_Y)\n",
    "plt.title(\"L1 Regularizer : Plot of CrossValidationAuC vs log(alpha) .\")  # Set the title of the plot.\n",
    "plt.xlabel(\"log(alpha)\")                                                  # Set the x label of the plot.\n",
    "plt.ylabel(\"CrossValidation AuC\")                                         # Set the y label of the plot.\n",
    "plt.show()                                                                # render the plot.\n",
    "\n",
    "# Set the end time of the current cell run.\n",
    "endtime_lrsvm_tfidf_avgw2v = datetime.datetime.now()\n",
    "\n",
    "# Print the cell run duration.\n",
    "print(\"Starttime is : {}\".format(starttime_lrsvm_tfidf_avgw2v))\n",
    "print(\"Endtime   is : {}\".format(endtime_lrsvm_tfidf_avgw2v))\n"
   ]
  },
  {
   "cell_type": "markdown",
   "metadata": {},
   "source": [
    "#### (L1 regularizer): The hyper-parameter that gives the optimal AuC score is 0.0001. The optimal AuC is 0.877 ."
   ]
  },
  {
   "cell_type": "code",
   "execution_count": null,
   "metadata": {},
   "outputs": [],
   "source": []
  },
  {
   "cell_type": "markdown",
   "metadata": {},
   "source": [
    "#### [5.1.4.10] (L2 regularizer) Hyper-Parameter Tuning : Using the cross-validation dataset to calculate the optimal 'alpha' of Linear SVM in TFIDF_AvgW2V case."
   ]
  },
  {
   "cell_type": "code",
   "execution_count": 86,
   "metadata": {},
   "outputs": [
    {
     "name": "stdout",
     "output_type": "stream",
     "text": [
      "Alpha :\n",
      "[10000, 1000, 100, 10, 1, 0.1, 0.01, 0.001, 0.0001]\n",
      "\n",
      "AuC :\n",
      "[0.8337101247679719, 0.8337101247679719, 0.8337101247679719, 0.8303327231478672, 0.8337115201535628, 0.8338038567803103, 0.8626675627683631, 0.8751416897785301, 0.8776863218326629]\n",
      "\n",
      "Plot of CrossValidationAuC vs Log of alpha:\n"
     ]
    },
    {
     "data": {
      "image/png": "[encoded data removed]",
      "text/plain": [
       "<matplotlib.figure.Figure at 0x1573722dcc0>"
      ]
     },
     "metadata": {},
     "output_type": "display_data"
    },
    {
     "name": "stdout",
     "output_type": "stream",
     "text": [
      "Starttime is : 2019-01-17 12:13:29.273409\n",
      "Endtime   is : 2019-01-17 12:13:40.378540\n"
     ]
    }
   ],
   "source": [
    "# Import the SGDClassifier with Hinge loss = linearSVM .\n",
    "from sklearn.linear_model import SGDClassifier\n",
    "# Need to get the probability score of each class label.\n",
    "from sklearn.calibration import CalibratedClassifierCV\n",
    "# Import the metrics module.\n",
    "from sklearn.metrics import roc_auc_score\n",
    "\n",
    "# Set the start time of the current cell run.\n",
    "starttime_lrsvm_tfidf_avgw2v = datetime.datetime.now()\n",
    "\n",
    "# Set the range for the hyper-parameters.\n",
    "# Experiment with alpha ranges between 1/10000 to 10000.\n",
    "# Here alpha is the hyper-parameter of the SGDClassifier (LinearSVM model)\n",
    "\n",
    "hp_alpha = [10000,1000,100,10,1,0.1,0.01,0.001,0.0001]\n",
    "\n",
    "# Use the cross-validation dataset to determine the best hyper-parameter alpha.\n",
    "# Loop through various values of alpha.\n",
    "plot_X = []\n",
    "plot_Y = []\n",
    "for i in hp_alpha:\n",
    "    # Iterate through various values of alpha,\n",
    "    lrsvm_optimal = SGDClassifier(loss='hinge',            # gives LinearSVM model.\n",
    "                                  penalty='l2',            # use L2 regularizer.\n",
    "                                  alpha=(i),               # Hyper-parameter of the current iteration.\n",
    "                                  class_weight='balanced') # uses the values of y to automatically \n",
    "                                                           # adjust weights in the input data.\n",
    "\n",
    "    ### Use CalibratedClassifierCV\n",
    "    ### Reference : https://machinelearningmastery.com/calibrated-classification-model-in-scikit-learn/ \n",
    "    # Instantiate the CalibratedClassifierCV model.\n",
    "    calibratedCCV = CalibratedClassifierCV(lrsvm_optimal,    # LinearSVM model.\n",
    "                                           method='sigmoid', # sigmoid function.\n",
    "                                           cv=5)             # crossvalidation #'s.\n",
    "    \n",
    "    calibratedCCV.fit(X_train_stdzd, Y_train)                # fit the model on the training set.\n",
    "    Y_pred = calibratedCCV.predict_proba(X_cv_stdzd)[:, 1]   # predict class probabilities.\n",
    "\n",
    "    # Compute AuC metric.\n",
    "    plot_X.append(np.log(i))                                # plot log(alpha) in the x-axis.\n",
    "    plot_Y.append(roc_auc_score(Y_cv,Y_pred))               # plot auc score in the y-axis.\n",
    "\n",
    "# print X,Y\n",
    "print(\"Alpha :\\n{}\".format(hp_alpha))\n",
    "print(\"\\nAuC :\\n{}\".format(plot_Y))\n",
    "\n",
    "print(\"\\nPlot of CrossValidationAuC vs Log of alpha:\")\n",
    "# Plot X-axis = log(alpha),Y-axis = AuC to determine the best hyper-parameter.\n",
    "plt.plot(plot_X,plot_Y)\n",
    "plt.title(\"L2 Regularizer : Plot of CrossValidationAuC vs log(alpha) .\")  # Set the title of the plot.\n",
    "plt.xlabel(\"log(alpha)\")                                                  # Set the x label of the plot.\n",
    "plt.ylabel(\"CrossValidation AuC\")                                         # Set the y label of the plot.\n",
    "plt.show()                                                                # render the plot.\n",
    "\n",
    "# Set the end time of the current cell run.\n",
    "endtime_lrsvm_tfidf_avgw2v = datetime.datetime.now()\n",
    "\n",
    "# Print the cell run duration.\n",
    "print(\"Starttime is : {}\".format(starttime_lrsvm_tfidf_avgw2v))\n",
    "print(\"Endtime   is : {}\".format(endtime_lrsvm_tfidf_avgw2v))\n"
   ]
  },
  {
   "cell_type": "markdown",
   "metadata": {},
   "source": [
    "#### (L2 regularizer): \n",
    "    The hyper-parameter that gives the optimal AuC score is 0.0001.\n",
    "    The optimal AuC is 0.877 ."
   ]
  },
  {
   "cell_type": "markdown",
   "metadata": {},
   "source": [
    "#### Observation :\n",
    "    It is observed that both the regularizer gives the best AuC.\n",
    "    L2 regularizer is choosen."
   ]
  },
  {
   "cell_type": "code",
   "execution_count": null,
   "metadata": {},
   "outputs": [],
   "source": []
  },
  {
   "cell_type": "markdown",
   "metadata": {},
   "source": [
    "#### [5.1.4.11] : Train and Fit the LinearSVM model in the training set. Compute the performance metrics by predicting the model on the test set. Use L2 regularizer."
   ]
  },
  {
   "cell_type": "code",
   "execution_count": 87,
   "metadata": {},
   "outputs": [
    {
     "name": "stdout",
     "output_type": "stream",
     "text": [
      "Starttime is : 2019-01-17 12:14:11.890246\n",
      "Endtime   is : 2019-01-17 12:14:13.002353\n"
     ]
    }
   ],
   "source": [
    "# Import the SGDClassifier with Hinge loss = linearSVM .\n",
    "from sklearn.linear_model import SGDClassifier\n",
    "\n",
    "# Set the start time of the current cell run.\n",
    "starttime_lrsvm_avgw2v = datetime.datetime.now()\n",
    "\n",
    "# The best value of the hyper-parameter alpha.\n",
    "optimal_alpha = 0.0001\n",
    "\n",
    "# instantiate the LinearSVM model with alpha = 0.0001 .\n",
    "lrsvm_optimal = SGDClassifier(loss='hinge',            # gives LinearSVM model.\n",
    "                              penalty='l2',            # use L2 regularizer.\n",
    "                              alpha=optimal_alpha,     # Best hyper-parameter found.\n",
    "                              class_weight='balanced') # uses the values of y to automatically \n",
    "                                                       # adjust weights in the input data.\n",
    "\n",
    "lrsvm_optimal.fit(X_train_stdzd, Y_train)           # fit the LinearSVM model.\n",
    "Y_pred_test = lrsvm_optimal.predict(X_test_stdzd)   # predict,response from the LinearSVM model.\n",
    "\n",
    "### Use CalibratedClassifierCV\n",
    "# Instantiate the CalibratedClassifierCV model.\n",
    "calibratedCCV = CalibratedClassifierCV(lrsvm_optimal,    # LinearSVM model.\n",
    "                                       method='sigmoid', # sigmoid function.\n",
    "                                       cv=5)             # crossvalidation #'s.\n",
    "    \n",
    "calibratedCCV.fit(X_train_stdzd, Y_train)                # fit the model on the training set.\n",
    "Y_pred = calibratedCCV.predict_proba(X_test_stdzd)[:, 1] # predict class probabilities on the testset.\n",
    "\n",
    "# Set the end time of the current cell run.\n",
    "endtime_lrsvm_avgw2v = datetime.datetime.now()\n",
    "\n",
    "# Print the cell run duration.\n",
    "print(\"Starttime is : {}\".format(starttime_lrsvm_avgw2v))\n",
    "print(\"Endtime   is : {}\".format(endtime_lrsvm_avgw2v))"
   ]
  },
  {
   "cell_type": "markdown",
   "metadata": {},
   "source": [
    "#### [5.1.3.10] : Plot the ROC Curve."
   ]
  },
  {
   "cell_type": "code",
   "execution_count": 88,
   "metadata": {},
   "outputs": [
    {
     "data": {
      "image/png": "[encoded data removed]",
      "text/plain": [
       "<matplotlib.figure.Figure at 0x15732e52630>"
      ]
     },
     "metadata": {},
     "output_type": "display_data"
    }
   ],
   "source": [
    "# Import the modules\n",
    "from sklearn.metrics import roc_curve\n",
    "import matplotlib.pyplot as plt\n",
    "\n",
    "# Calculate the RoC curve\n",
    "fpr, tpr, thresholds = roc_curve(Y_test,Y_pred,pos_label=1)   # compute the roc curve.\n",
    "plt.plot([0, 1], [0, 1], linestyle='--')                      # plot the 50% probability line.\n",
    "plt.plot(fpr, tpr, marker='.')                                # plot the roc curve for the model.\n",
    "plt.title(\"ROC Curve.\")                                       # set the title of the plot.\n",
    "plt.xlabel(\"False Positive Rate\")                             # set the x label of the plot.\n",
    "plt.ylabel(\"True Positive Rate\")                              # set the y label of the plot.\n",
    "plt.show()                                                    # show the plot."
   ]
  },
  {
   "cell_type": "markdown",
   "metadata": {},
   "source": [
    "#### [5.1.3.11] Plot the classifier performance metrics."
   ]
  },
  {
   "cell_type": "code",
   "execution_count": 89,
   "metadata": {},
   "outputs": [
    {
     "data": {
      "image/png": "[encoded data removed]",
      "text/plain": [
       "<matplotlib.figure.Figure at 0x15732d3dc50>"
      ]
     },
     "metadata": {},
     "output_type": "display_data"
    },
    {
     "name": "stdout",
     "output_type": "stream",
     "text": [
      "\n",
      "The class composition in the testset is :\n",
      "1    16442\n",
      "0     3558\n",
      "Name: Comment, dtype: int64\n"
     ]
    }
   ],
   "source": [
    "# evaluate the model and report the metrics.\n",
    "from sklearn.metrics import confusion_matrix\n",
    "conf_mat = confusion_matrix(Y_test, Y_pred_test)\n",
    "fig, ax = plt.subplots(figsize=(5,5))\n",
    "sns.heatmap(conf_mat, annot=True, fmt='d'\n",
    "            ,xticklabels=['negative','positive'], yticklabels=['negative','positive'])\n",
    "plt.title('Confusion Matrix : (Vectorizer = TFIDF-AvgW2V)')\n",
    "plt.ylabel('Actual')\n",
    "plt.xlabel('Predicted')\n",
    "plt.show()\n",
    "\n",
    "#Class composition in the testset.\n",
    "dfYTest = pd.DataFrame(list(Y_test),columns=['Comment'])\n",
    "print(\"\\nThe class composition in the testset is :\")\n",
    "print(dfYTest[\"Comment\"].value_counts())"
   ]
  },
  {
   "cell_type": "code",
   "execution_count": null,
   "metadata": {},
   "outputs": [],
   "source": []
  },
  {
   "cell_type": "markdown",
   "metadata": {},
   "source": [
    "#### [5.1.3.12] : Load metrics into the summary table for AvgWord2Vec."
   ]
  },
  {
   "cell_type": "code",
   "execution_count": 90,
   "metadata": {},
   "outputs": [],
   "source": [
    "# Import the metrics module.\n",
    "from sklearn.metrics import accuracy_score\n",
    "from sklearn.metrics import precision_score\n",
    "from sklearn.metrics import recall_score\n",
    "from sklearn.metrics import f1_score\n",
    "from sklearn.metrics import roc_auc_score\n",
    "\n",
    "# Add the classification metrics to the table.\n",
    "# Add the classification metrics to the final summary table.\n",
    "summaryTable.add_row(['LinearKernel','TFIDF-AvgWord2Vec',optimal_alpha,'Accuracy',accuracy_score(Y_test,Y_pred_test)])\n",
    "summaryTable.add_row(['-','-',optimal_alpha,'Precision',precision_score(Y_test,Y_pred_test)])\n",
    "summaryTable.add_row(['-','-',optimal_alpha,'Recall',recall_score(Y_test,Y_pred_test)])\n",
    "summaryTable.add_row(['-','-',optimal_alpha,'F1 Score',f1_score(Y_test,Y_pred_test)])\n",
    "summaryTable.add_row(['-','-',optimal_alpha,'AUC Score',roc_auc_score(Y_test,Y_pred)])\n",
    "summaryTable.add_row(['-','-',optimal_alpha,'ConfusionMatrix',confusion_matrix(Y_test, Y_pred_test)])\n",
    "summaryTable.add_row(['----------','----------','-----------','----------','----------'])\n"
   ]
  },
  {
   "cell_type": "code",
   "execution_count": null,
   "metadata": {},
   "outputs": [],
   "source": []
  },
  {
   "cell_type": "markdown",
   "metadata": {},
   "source": [
    "## [5.2] RBF SVM"
   ]
  },
  {
   "cell_type": "code",
   "execution_count": null,
   "metadata": {},
   "outputs": [],
   "source": []
  },
  {
   "cell_type": "markdown",
   "metadata": {},
   "source": [
    "#### Apply Time Based Sorting and Sample 20K points"
   ]
  },
  {
   "cell_type": "code",
   "execution_count": 23,
   "metadata": {},
   "outputs": [
    {
     "name": "stdout",
     "output_type": "stream",
     "text": [
      "(20000, 14)\n"
     ]
    }
   ],
   "source": [
    "# Add a new column for TimeStamp that is of Datetime datatype,since the dataset's time column is of\n",
    "# integer datatype.\n",
    "import datetime\n",
    "\n",
    "# Assign the Time column to a new variable.\n",
    "final_timesplit = final['Time']\n",
    "\n",
    "# Convert the datatype of the time column from integer to datetime.\n",
    "final_timesplit = final_timesplit.apply(datetime.datetime.fromtimestamp)\n",
    "\n",
    "# Create a new column to store the new time column whose datatype is datetime\n",
    "final['TimeSplit']  = final_timesplit\n",
    "\n",
    "# Sort the final dataset in descending order of time.\n",
    "final_dataset = final.sort_values(['TimeSplit'],ascending=False)\n",
    "\n",
    "#Sample 20K points after time based sorting.\n",
    "final = final_dataset[:20000]\n",
    "# Store label info separately.\n",
    "label = final['Score'][:20000]\n",
    "\n",
    "print(final.shape)\n",
    "\n",
    "# Assign the cleaned text and the class label for the split.\n",
    "X = final['CleanedReviewSummaryText']\n",
    "Y = final['Score']\n",
    "\n",
    "# Split the dataset in the following ratios:\n",
    "\n",
    "# Input split\n",
    "X_train = X[0:12000]            #Train = First 60% of the sorted dataframe;\n",
    "X_cv    = X[12000:16000]        #CV    = Next  20% of the sorted dataframe;\n",
    "X_test  = X[16000:20000]       #Test   = Remaining 20% of the sorted dataframe.\n",
    "\n",
    "#Class lable split.\n",
    "Y_train = Y[0:12000]            #Train = First 60% of the sorted dataframe;\n",
    "Y_cv    = Y[12000:16000]        #CV    = Next  20% of the sorted dataframe;\n",
    "Y_test  = Y[16000:20000]       #Test   = Remaining 20% of the sorted dataframe.\n"
   ]
  },
  {
   "cell_type": "markdown",
   "metadata": {},
   "source": [
    "### [5.2.1] Applying RBF SVM on BOW,<font color='red'> SET 1</font>"
   ]
  },
  {
   "cell_type": "markdown",
   "metadata": {},
   "source": [
    "#### [5.2.1.1] Convert reviews present in trainingset into numeric vectors using Bag Of Words (BoW)"
   ]
  },
  {
   "cell_type": "code",
   "execution_count": 24,
   "metadata": {},
   "outputs": [
    {
     "name": "stdout",
     "output_type": "stream",
     "text": [
      "the type of count vectorizer  <class 'scipy.sparse.csr.csr_matrix'>\n",
      "the shape of out text BOW vectorizer  (12000, 500)\n",
      "the number of unique words  500\n"
     ]
    }
   ],
   "source": [
    "# Apply BoW vectorization : bi-gram,tri-gram and n-gram\n",
    "\n",
    "#Instantiate the BoW vectorizer.\n",
    "count_vect = CountVectorizer(dtype='float64',ngram_range=(1,2), min_df=10, max_features=500) #in scikit-learn bi-gram\n",
    "\n",
    "#Train you countvectorizer on the train data\n",
    "final_bigram_counts = count_vect.fit_transform(X_train.values.astype('U'))\n",
    "\n",
    "#Print the type,shape and unique words of the BoW vectorizer on the training set. \n",
    "print(\"the type of count vectorizer \",type(final_bigram_counts))\n",
    "print(\"the shape of out text BOW vectorizer \",final_bigram_counts.get_shape())\n",
    "print(\"the number of unique words \", final_bigram_counts.get_shape()[1])"
   ]
  },
  {
   "cell_type": "markdown",
   "metadata": {},
   "source": [
    "#### [5.2.1.2] Use the BoW vectorizer trained in the preceding step to convert CVset and Testset to vectors."
   ]
  },
  {
   "cell_type": "code",
   "execution_count": 25,
   "metadata": {},
   "outputs": [
    {
     "name": "stdout",
     "output_type": "stream",
     "text": [
      "the type of count vectorizer  <class 'scipy.sparse.csr.csr_matrix'>\n",
      "the shape of out text BOW vectorizer  (4000, 500)\n",
      "the number of unique words  500\n",
      "the type of count vectorizer  <class 'scipy.sparse.csr.csr_matrix'>\n",
      "the shape of out text BOW vectorizer  (4000, 500)\n",
      "the number of unique words  500\n"
     ]
    }
   ],
   "source": [
    "#Use the same vectorizer trained on the training set, on the cv set.\n",
    "final_bigram_counts_cvset = count_vect.transform(X_cv.values)\n",
    "\n",
    "#Print the type,shape and unique words of the BoW vectorizer on the testset. \n",
    "print(\"the type of count vectorizer \",type(final_bigram_counts_cvset))\n",
    "print(\"the shape of out text BOW vectorizer \",final_bigram_counts_cvset.get_shape())\n",
    "print(\"the number of unique words \", final_bigram_counts_cvset.get_shape()[1])\n",
    "\n",
    "#Use the same vectorizer trained on the training set, on the test set.\n",
    "final_bigram_counts_testset = count_vect.transform(X_test.values)\n",
    "\n",
    "#Print the type,shape and unique words of the BoW vectorizer on the testset. \n",
    "print(\"the type of count vectorizer \",type(final_bigram_counts_testset))\n",
    "print(\"the shape of out text BOW vectorizer \",final_bigram_counts_testset.get_shape())\n",
    "print(\"the number of unique words \", final_bigram_counts_testset.get_shape()[1])"
   ]
  },
  {
   "cell_type": "markdown",
   "metadata": {},
   "source": [
    "#### [5.2.1.3] Standardize the data"
   ]
  },
  {
   "cell_type": "code",
   "execution_count": 26,
   "metadata": {},
   "outputs": [],
   "source": [
    "# Data-preprocessing: Normalizing the data\n",
    "\n",
    "# Import the Normailizer module.\n",
    "from sklearn.preprocessing import Normalizer\n",
    "\n",
    "# Instantiate the Normailizer module.\n",
    "normalizer = Normalizer()\n",
    "\n",
    "#Standardize the normailizer on the train data.\n",
    "X_train_stdzd = normalizer.fit_transform(final_bigram_counts)\n",
    "\n",
    "#Standardize the normailizer on the cv data.\n",
    "X_cv_stdzd = normalizer.transform(final_bigram_counts_cvset)\n",
    "\n",
    "# use the same normalizer on the test set.\n",
    "X_test_stdzd  = normalizer.transform(final_bigram_counts_testset) "
   ]
  },
  {
   "cell_type": "markdown",
   "metadata": {},
   "source": [
    "#### [5.2.1.4] Hyper-Parameter Tuning : Using the cross-validation dataset to calculate the optimal 'C' of RBFKernel SVM in BoW case."
   ]
  },
  {
   "cell_type": "code",
   "execution_count": 27,
   "metadata": {},
   "outputs": [
    {
     "name": "stdout",
     "output_type": "stream",
     "text": [
      "C :\n",
      "[10000, 1000, 100, 10, 1, 0.1, 0.01, 0.001, 0.0001]\n",
      "\n",
      "AuC :\n",
      "[0.900140236488614, 0.903968280879881, 0.9092063599710001, 0.8845580007459903, 0.7894846046655073, 0.7824715692115917, 0.7824715692115917, 0.7824715692115917, 0.7824715692115917]\n",
      "\n",
      "Plot of CrossValidationAuC vs Log of C:\n"
     ]
    },
    {
     "data": {
      "image/png": "[encoded data removed]",
      "text/plain": [
       "<matplotlib.figure.Figure at 0x24e809cf128>"
      ]
     },
     "metadata": {},
     "output_type": "display_data"
    },
    {
     "name": "stdout",
     "output_type": "stream",
     "text": [
      "Starttime is : 2019-01-17 13:50:26.983926\n",
      "Endtime   is : 2019-01-17 14:07:32.366543\n"
     ]
    }
   ],
   "source": [
    "# Import the SVCClassifier.\n",
    "from sklearn.svm import SVC\n",
    "# Need to get the probability score of each class label.\n",
    "from sklearn.calibration import CalibratedClassifierCV\n",
    "# Import the metrics module.\n",
    "from sklearn.metrics import roc_auc_score\n",
    "\n",
    "# Set the start time of the current cell run.\n",
    "starttime_rbfsvm_bow = datetime.datetime.now()\n",
    "\n",
    "# Set the range for the hyper-parameters.\n",
    "# Experiment with C ranges between 1/10000 to 10000.\n",
    "# Here C is the hyper-parameter of the SVCClassifier.\n",
    "\n",
    "hp_C = [10000,1000,100,10,1,0.1,0.01,0.001,0.0001]\n",
    "\n",
    "# Use the cross-validation dataset to determine the best hyper-parameter C.\n",
    "# Loop through various values of C.\n",
    "plot_X = []\n",
    "plot_Y = []\n",
    "for i in hp_C:\n",
    "    # Iterate through various values of C,\n",
    "    rbfsvm_optimal = SVC(C=(i),                   # Hyper-parameter of the current iteration.\n",
    "                         kernel='rbf',            # Use RBF kernel.\n",
    "                         gamma ='auto',           # gamma = 1/sigma                         \n",
    "                         class_weight='balanced') # uses the values of y to automatically \n",
    "                                                  # adjust weights in the input data.\n",
    "\n",
    "    ### Use CalibratedClassifierCV\n",
    "    ### Reference : https://machinelearningmastery.com/calibrated-classification-model-in-scikit-learn/ \n",
    "    # Instantiate the CalibratedClassifierCV model.\n",
    "    calibratedCCV = CalibratedClassifierCV(rbfsvm_optimal,   # RBFSVM model.\n",
    "                                           method='sigmoid', # sigmoid function.\n",
    "                                           cv=5)             # crossvalidation #'s.\n",
    "    \n",
    "    calibratedCCV.fit(X_train_stdzd, Y_train)                # fit the model on the training set.\n",
    "    Y_pred = calibratedCCV.predict_proba(X_cv_stdzd)[:, 1]   # predict class probabilities.\n",
    "\n",
    "    # Compute AuC metric.\n",
    "    plot_X.append(np.log(i))                            # plot log(alpha) in the x-axis.\n",
    "    plot_Y.append(roc_auc_score(Y_cv,Y_pred))           # plot auc score in the y-axis.\n",
    "\n",
    "# print X,Y\n",
    "print(\"C :\\n{}\".format(hp_C))\n",
    "print(\"\\nAuC :\\n{}\".format(plot_Y))\n",
    "\n",
    "print(\"\\nPlot of CrossValidationAuC vs Log of C:\")\n",
    "# Plot X-axis = log(C),Y-axis = AuC to determine the best hyper-parameter.\n",
    "plt.plot(plot_X,plot_Y)\n",
    "plt.title(\"Plot of CrossValidationAuC vs log(C) .\")  # Set the title of the plot.\n",
    "plt.xlabel(\"log(C)\")                                 # Set the x label of the plot.\n",
    "plt.ylabel(\"CrossValidation AuC\")                    # Set the y label of the plot.\n",
    "plt.show()                                           # render the plot.\n",
    "\n",
    "# Set the end time of the current cell run.\n",
    "endtime_rbfsvm_bow = datetime.datetime.now()\n",
    "\n",
    "# Print the cell run duration.\n",
    "print(\"Starttime is : {}\".format(starttime_rbfsvm_bow))\n",
    "print(\"Endtime   is : {}\".format(endtime_rbfsvm_bow))\n"
   ]
  },
  {
   "cell_type": "markdown",
   "metadata": {},
   "source": [
    "#### The hyper-parameter that gives the optimal AuC score is 100. The optimal AuC is 0.909 ."
   ]
  },
  {
   "cell_type": "code",
   "execution_count": null,
   "metadata": {},
   "outputs": [],
   "source": []
  },
  {
   "cell_type": "markdown",
   "metadata": {},
   "source": [
    "#### [5.2.1.5] : Train and Fit the RBFSVM model in the training set. Compute the performance metrics by predicting the model on the test set. "
   ]
  },
  {
   "cell_type": "code",
   "execution_count": 28,
   "metadata": {},
   "outputs": [
    {
     "name": "stdout",
     "output_type": "stream",
     "text": [
      "Starttime is : 2019-01-17 14:19:27.086752\n",
      "Endtime   is : 2019-01-17 14:20:45.969746\n"
     ]
    }
   ],
   "source": [
    "# Import the SVCClassifier.\n",
    "from sklearn.svm import SVC\n",
    "\n",
    "# Set the start time of the current cell run.\n",
    "starttime_rbfsvm_bow = datetime.datetime.now()\n",
    "\n",
    "# The best value of the hyper-parameter C.\n",
    "optimal_C = 100\n",
    "\n",
    "# Instantiate the SVC method with RBF kernel.\n",
    "rbfsvm_optimal = SVC(C=(optimal_C),           # Hyper-parameter of the current iteration.\n",
    "                     kernel='rbf',            # Use RBF kernel.\n",
    "                     gamma ='auto',           # gamma = 1/sigma                         \n",
    "                     class_weight='balanced') # uses the values of y to automatically \n",
    "                                              # adjust weights in the input data.\n",
    "\n",
    "rbfsvm_optimal.fit(X_train_stdzd, Y_train)          # fit the RBFSVM model.\n",
    "Y_pred_test = rbfsvm_optimal.predict(X_test_stdzd)  # predict,response from the RBFSVM model.\n",
    "\n",
    "### Use CalibratedClassifierCV\n",
    "# Instantiate the CalibratedClassifierCV model.\n",
    "calibratedCCV = CalibratedClassifierCV(rbfsvm_optimal,   # RBFSVM model.\n",
    "                                       method='sigmoid', # sigmoid function.\n",
    "                                       cv=5)             # crossvalidation #'s.\n",
    "    \n",
    "calibratedCCV.fit(X_train_stdzd, Y_train)                # fit the model on the training set.\n",
    "Y_pred = calibratedCCV.predict_proba(X_test_stdzd)[:, 1] # predict class probabilities on the testset.\n",
    "\n",
    "# Set the end time of the current cell run.\n",
    "endtime_rbfsvm_bow = datetime.datetime.now()\n",
    "\n",
    "# Print the cell run duration.\n",
    "print(\"Starttime is : {}\".format(starttime_rbfsvm_bow))\n",
    "print(\"Endtime   is : {}\".format(endtime_rbfsvm_bow))"
   ]
  },
  {
   "cell_type": "markdown",
   "metadata": {},
   "source": [
    "#### [5.2.1.6] : Plot the ROC Curve."
   ]
  },
  {
   "cell_type": "code",
   "execution_count": 30,
   "metadata": {},
   "outputs": [
    {
     "data": {
      "image/png": "[encoded data removed]",
      "text/plain": [
       "<matplotlib.figure.Figure at 0x24e8b5eacf8>"
      ]
     },
     "metadata": {},
     "output_type": "display_data"
    }
   ],
   "source": [
    "# Import the modules\n",
    "from sklearn.metrics import roc_curve\n",
    "import matplotlib.pyplot as plt\n",
    "\n",
    "# Calculate the RoC curve\n",
    "fpr, tpr, thresholds = roc_curve(Y_test,Y_pred,pos_label=1)   # compute the roc curve.\n",
    "plt.plot([0, 1], [0, 1], linestyle='--')                      # plot the 50% probability line.\n",
    "plt.plot(fpr, tpr, marker='.')                                # plot the roc curve for the model.\n",
    "plt.title(\"ROC Curve.\")                                       # set the title of the plot.\n",
    "plt.xlabel(\"False Positive Rate\")                             # set the x label of the plot.\n",
    "plt.ylabel(\"True Positive Rate\")                              # set the y label of the plot.\n",
    "plt.show()                                                    # show the plot."
   ]
  },
  {
   "cell_type": "markdown",
   "metadata": {},
   "source": [
    "#### [5.2.1.7] Plot the classifier performance metrics."
   ]
  },
  {
   "cell_type": "code",
   "execution_count": 31,
   "metadata": {},
   "outputs": [
    {
     "data": {
      "image/png": "[encoded data removed]",
      "text/plain": [
       "<matplotlib.figure.Figure at 0x24e809cf390>"
      ]
     },
     "metadata": {},
     "output_type": "display_data"
    },
    {
     "name": "stdout",
     "output_type": "stream",
     "text": [
      "\n",
      "The class composition in the testset is :\n",
      "1    3297\n",
      "0     703\n",
      "Name: Comment, dtype: int64\n"
     ]
    }
   ],
   "source": [
    "# evaluate the model and report the metrics.\n",
    "from sklearn.metrics import confusion_matrix\n",
    "conf_mat = confusion_matrix(Y_test, Y_pred_test)\n",
    "fig, ax = plt.subplots(figsize=(5,5))\n",
    "sns.heatmap(conf_mat, annot=True, fmt='d'\n",
    "            ,xticklabels=['negative','positive'], yticklabels=['negative','positive'])\n",
    "plt.title('Confusion Matrix : (Vectorizer = BoW)')\n",
    "plt.ylabel('Actual')\n",
    "plt.xlabel('Predicted')\n",
    "plt.show()\n",
    "\n",
    "#Class composition in the testset.\n",
    "dfYTest = pd.DataFrame(list(Y_test),columns=['Comment'])\n",
    "print(\"\\nThe class composition in the testset is :\")\n",
    "print(dfYTest[\"Comment\"].value_counts())"
   ]
  },
  {
   "cell_type": "code",
   "execution_count": null,
   "metadata": {},
   "outputs": [],
   "source": []
  },
  {
   "cell_type": "markdown",
   "metadata": {},
   "source": [
    "#### [5.2.1.9] : Load metrics into the summary table for BoW."
   ]
  },
  {
   "cell_type": "code",
   "execution_count": 32,
   "metadata": {},
   "outputs": [],
   "source": [
    "# Import the metrics module.\n",
    "from sklearn.metrics import accuracy_score\n",
    "from sklearn.metrics import precision_score\n",
    "from sklearn.metrics import recall_score\n",
    "from sklearn.metrics import f1_score\n",
    "from sklearn.metrics import roc_auc_score\n",
    "\n",
    "# Add the classification metrics to the table.\n",
    "# Add the classification metrics to the final summary table.\n",
    "summaryTableRBFKernel.add_row(['RBFKernel','BoW',optimal_C,'Accuracy',accuracy_score(Y_test,Y_pred_test)])\n",
    "summaryTableRBFKernel.add_row(['-','-',optimal_C,'Precision',precision_score(Y_test,Y_pred_test)])\n",
    "summaryTableRBFKernel.add_row(['-','-',optimal_C,'Recall',recall_score(Y_test,Y_pred_test)])\n",
    "summaryTableRBFKernel.add_row(['-','-',optimal_C,'F1 Score',f1_score(Y_test,Y_pred_test)])\n",
    "summaryTableRBFKernel.add_row(['-','-',optimal_C,'AUC Score',roc_auc_score(Y_test,Y_pred)])\n",
    "summaryTableRBFKernel.add_row(['-','-',optimal_C,'ConfusionMatrix',confusion_matrix(Y_test, Y_pred_test)])\n",
    "summaryTableRBFKernel.add_row(['----------','----------','-----------','----------','----------'])\n"
   ]
  },
  {
   "cell_type": "markdown",
   "metadata": {},
   "source": [
    "### [5.2.2] Applying RBF SVM on TFIDF,<font color='red'> SET 2</font>"
   ]
  },
  {
   "cell_type": "code",
   "execution_count": null,
   "metadata": {},
   "outputs": [],
   "source": []
  },
  {
   "cell_type": "markdown",
   "metadata": {},
   "source": [
    "#### [5.2.2.1] Convert review text into numeric vectors using TF_IDF"
   ]
  },
  {
   "cell_type": "code",
   "execution_count": 34,
   "metadata": {},
   "outputs": [
    {
     "name": "stdout",
     "output_type": "stream",
     "text": [
      "the type of TIDF vectorizer  <class 'scipy.sparse.csr.csr_matrix'>\n",
      "the shape of out text TFIDF vectorizer  (12000, 500)\n",
      "the number of unique words including both unigrams and bigrams  500\n"
     ]
    }
   ],
   "source": [
    "#TF-IDF\n",
    "# Apply TF-IDF vectorization only on the trainingset.\n",
    "tf_idf_vect = TfidfVectorizer(dtype='float64',ngram_range=(1,2),min_df=10, max_features=500)\n",
    "\n",
    "#Train you tf-idf vectorizer on the train data (.fit_transform()) and \n",
    "#use the same vectorizer on the test set as well (.transform())\n",
    "final_tf_idf = tf_idf_vect.fit_transform(X_train.values.astype('U'))\n",
    "\n",
    "print(\"the type of TIDF vectorizer \",type(final_tf_idf))\n",
    "print(\"the shape of out text TFIDF vectorizer \",final_tf_idf.get_shape())\n",
    "print(\"the number of unique words including both unigrams and bigrams \", final_tf_idf.get_shape()[1])"
   ]
  },
  {
   "cell_type": "markdown",
   "metadata": {},
   "source": [
    "#### [5.2.2.2] Use the TF-IDF vectorizer trained in the preceding step to convert cvset and testset to vectors."
   ]
  },
  {
   "cell_type": "code",
   "execution_count": 35,
   "metadata": {},
   "outputs": [
    {
     "name": "stdout",
     "output_type": "stream",
     "text": [
      "the type of TFIDF vectorizer  <class 'scipy.sparse.csr.csr_matrix'>\n",
      "the shape of out text TFIDF vectorizer  (4000, 500)\n",
      "the number of unique words  500\n",
      "the type of TFIDF vectorizer  <class 'scipy.sparse.csr.csr_matrix'>\n",
      "the shape of out text TFIDF vectorizer  (4000, 500)\n",
      "the number of unique words  500\n"
     ]
    }
   ],
   "source": [
    "#use the same countvectorizer on the cvset and testset.\n",
    "final_tf_idf_cvset = tf_idf_vect.transform(X_cv.values)\n",
    "print(\"the type of TFIDF vectorizer \",type(final_tf_idf_cvset))\n",
    "print(\"the shape of out text TFIDF vectorizer \",final_tf_idf_cvset.get_shape())\n",
    "print(\"the number of unique words \", final_tf_idf_cvset.get_shape()[1])\n",
    "\n",
    "#use the same countvectorizer on the testset.\n",
    "final_tf_idf_testset = tf_idf_vect.transform(X_test.values)\n",
    "print(\"the type of TFIDF vectorizer \",type(final_tf_idf_testset))\n",
    "print(\"the shape of out text TFIDF vectorizer \",final_tf_idf_testset.get_shape())\n",
    "print(\"the number of unique words \", final_tf_idf_testset.get_shape()[1])"
   ]
  },
  {
   "cell_type": "markdown",
   "metadata": {},
   "source": [
    "#### [5.2.2.3] Standardize / Normalize the data"
   ]
  },
  {
   "cell_type": "code",
   "execution_count": 36,
   "metadata": {},
   "outputs": [],
   "source": [
    "# Data-preprocessing: Normalizing the data\n",
    "from sklearn.preprocessing import Normalizer\n",
    "\n",
    "# Initialize the Normalizer.\n",
    "normalizer = Normalizer()\n",
    "\n",
    "#Standardize on the train data. \n",
    "X_train_stdzd = normalizer.fit_transform(final_tf_idf)\n",
    "\n",
    "#Standardize on the cv and test data.\n",
    "X_cv_stdzd    = normalizer.transform(final_tf_idf_cvset)     #use the same Normalizer on the cvset.\n",
    "X_test_stdzd  = normalizer.transform(final_tf_idf_testset)   #use the same Normalizer on the testset."
   ]
  },
  {
   "cell_type": "code",
   "execution_count": null,
   "metadata": {},
   "outputs": [],
   "source": []
  },
  {
   "cell_type": "markdown",
   "metadata": {},
   "source": [
    "#### [5.2.2.4] Hyper-Parameter Tuning : Using the cross-validation dataset to calculate the optimal 'C' of RBFKernel SVM in TFIDF case."
   ]
  },
  {
   "cell_type": "code",
   "execution_count": 37,
   "metadata": {},
   "outputs": [
    {
     "name": "stdout",
     "output_type": "stream",
     "text": [
      "C :\n",
      "[10000, 1000, 100, 10, 1, 0.1, 0.01, 0.001, 0.0001]\n",
      "\n",
      "AuC :\n",
      "[0.8992025008436795, 0.9021888840986194, 0.9088047039371172, 0.8997595715238386, 0.8698444723248902, 0.8698444723248902, 0.8698444723248902, 0.8698444723248902, 0.8698444723248902]\n",
      "\n",
      "Plot of CrossValidationAuC vs Log of C:\n"
     ]
    },
    {
     "data": {
      "image/png": "[encoded data removed]",
      "text/plain": [
       "<matplotlib.figure.Figure at 0x24e97409240>"
      ]
     },
     "metadata": {},
     "output_type": "display_data"
    },
    {
     "name": "stdout",
     "output_type": "stream",
     "text": [
      "Starttime is : 2019-01-17 14:23:52.737710\n",
      "Endtime   is : 2019-01-17 14:38:29.937618\n"
     ]
    }
   ],
   "source": [
    "# Import the SVCClassifier.\n",
    "from sklearn.svm import SVC\n",
    "# Need to get the probability score of each class label.\n",
    "from sklearn.calibration import CalibratedClassifierCV\n",
    "# Import the metrics module.\n",
    "from sklearn.metrics import roc_auc_score\n",
    "\n",
    "# Set the start time of the current cell run.\n",
    "starttime_rbfsvm_tfidf = datetime.datetime.now()\n",
    "\n",
    "# Set the range for the hyper-parameters.\n",
    "# Experiment with C ranges between 1/10000 to 10000.\n",
    "# Here C is the hyper-parameter of the SVCClassifier.\n",
    "\n",
    "hp_C = [10000,1000,100,10,1,0.1,0.01,0.001,0.0001]\n",
    "\n",
    "# Use the cross-validation dataset to determine the best hyper-parameter C.\n",
    "# Loop through various values of C.\n",
    "plot_X = []\n",
    "plot_Y = []\n",
    "for i in hp_C:\n",
    "    # Iterate through various values of C,\n",
    "    rbfsvm_optimal = SVC(C=(i),                   # Hyper-parameter of the current iteration.\n",
    "                         kernel='rbf',            # Use RBF kernel.\n",
    "                         gamma ='auto',           # gamma = (1/sigma) used in RBF formulation.                         \n",
    "                         class_weight='balanced') # uses the values of y to automatically \n",
    "                                                  # adjust weights in the input data.\n",
    "\n",
    "    ### Use CalibratedClassifierCV\n",
    "    ### Reference : https://machinelearningmastery.com/calibrated-classification-model-in-scikit-learn/ \n",
    "    # Instantiate the CalibratedClassifierCV model.\n",
    "    calibratedCCV = CalibratedClassifierCV(rbfsvm_optimal,   # RBFSVM model.\n",
    "                                           method='sigmoid', # sigmoid function.\n",
    "                                           cv=5)             # crossvalidation #'s.\n",
    "    \n",
    "    calibratedCCV.fit(X_train_stdzd, Y_train)                # fit the model on the training set.\n",
    "    Y_pred = calibratedCCV.predict_proba(X_cv_stdzd)[:, 1]   # predict class probabilities.\n",
    "\n",
    "    # Compute AuC metric.\n",
    "    plot_X.append(np.log(i))                            # plot log(C) in the x-axis.\n",
    "    plot_Y.append(roc_auc_score(Y_cv,Y_pred))           # plot auc score in the y-axis.\n",
    "\n",
    "# print X,Y\n",
    "print(\"C :\\n{}\".format(hp_C))\n",
    "print(\"\\nAuC :\\n{}\".format(plot_Y))\n",
    "\n",
    "print(\"\\nPlot of CrossValidationAuC vs Log of C:\")\n",
    "# Plot X-axis = log(C),Y-axis = AuC to determine the best hyper-parameter.\n",
    "plt.plot(plot_X,plot_Y)\n",
    "plt.title(\"Plot of CrossValidationAuC vs log(C) .\")  # Set the title of the plot.\n",
    "plt.xlabel(\"log(C)\")                                 # Set the x label of the plot.\n",
    "plt.ylabel(\"CrossValidation AuC\")                    # Set the y label of the plot.\n",
    "plt.show()                                           # render the plot.\n",
    "\n",
    "# Set the end time of the current cell run.\n",
    "endtime_rbfsvm_tfidf = datetime.datetime.now()\n",
    "\n",
    "# Print the cell run duration.\n",
    "print(\"Starttime is : {}\".format(starttime_rbfsvm_tfidf))\n",
    "print(\"Endtime   is : {}\".format(endtime_rbfsvm_tfidf))\n"
   ]
  },
  {
   "cell_type": "markdown",
   "metadata": {},
   "source": [
    "#### The hyper-parameter that gives the optimal AuC score is 100. The optimal AuC is 0.909 ."
   ]
  },
  {
   "cell_type": "code",
   "execution_count": null,
   "metadata": {},
   "outputs": [],
   "source": []
  },
  {
   "cell_type": "markdown",
   "metadata": {},
   "source": [
    "#### [5.2.2.5] : Train and Fit the RBFSVM model in the training set. Compute the performance metrics by predicting the model on the test set. "
   ]
  },
  {
   "cell_type": "code",
   "execution_count": 38,
   "metadata": {},
   "outputs": [
    {
     "name": "stdout",
     "output_type": "stream",
     "text": [
      "Starttime is : 2019-01-17 14:39:01.242515\n",
      "Endtime   is : 2019-01-17 14:40:21.156728\n"
     ]
    }
   ],
   "source": [
    "# Import the SVCClassifier.\n",
    "from sklearn.svm import SVC\n",
    "\n",
    "# Set the start time of the current cell run.\n",
    "starttime_rbfsvm_tfidf = datetime.datetime.now()\n",
    "\n",
    "# The best value of the hyper-parameter C.\n",
    "optimal_C = 100\n",
    "\n",
    "# Instantiate the SVC method with RBF kernel.\n",
    "rbfsvm_optimal = SVC(C=(optimal_C),           # Hyper-parameter of the current iteration.\n",
    "                     kernel='rbf',            # Use RBF kernel.\n",
    "                     gamma ='auto',           # gamma = 1/sigma                         \n",
    "                     class_weight='balanced') # uses the values of y to automatically \n",
    "                                              # adjust weights in the input data.\n",
    "\n",
    "rbfsvm_optimal.fit(X_train_stdzd, Y_train)          # fit the RBFSVM model.\n",
    "Y_pred_test = rbfsvm_optimal.predict(X_test_stdzd)  # predict,response from the RBFSVM model.\n",
    "\n",
    "### Use CalibratedClassifierCV\n",
    "# Instantiate the CalibratedClassifierCV model.\n",
    "calibratedCCV = CalibratedClassifierCV(rbfsvm_optimal,   # RBFSVM model.\n",
    "                                       method='sigmoid', # sigmoid function.\n",
    "                                       cv=5)             # crossvalidation #'s.\n",
    "    \n",
    "calibratedCCV.fit(X_train_stdzd, Y_train)                # fit the model on the training set.\n",
    "Y_pred = calibratedCCV.predict_proba(X_test_stdzd)[:, 1] # predict class probabilities on the testset.\n",
    "\n",
    "# Set the end time of the current cell run.\n",
    "endtime_rbfsvm_tfidf = datetime.datetime.now()\n",
    "\n",
    "# Print the cell run duration.\n",
    "print(\"Starttime is : {}\".format(starttime_rbfsvm_tfidf))\n",
    "print(\"Endtime   is : {}\".format(endtime_rbfsvm_tfidf))"
   ]
  },
  {
   "cell_type": "markdown",
   "metadata": {},
   "source": [
    "#### [5.2.2.6] : Plot the ROC Curve."
   ]
  },
  {
   "cell_type": "code",
   "execution_count": 39,
   "metadata": {},
   "outputs": [
    {
     "data": {
      "image/png": "[encoded data removed]",
      "text/plain": [
       "<matplotlib.figure.Figure at 0x24e98682940>"
      ]
     },
     "metadata": {},
     "output_type": "display_data"
    }
   ],
   "source": [
    "# Import the modules\n",
    "from sklearn.metrics import roc_curve\n",
    "import matplotlib.pyplot as plt\n",
    "\n",
    "# Calculate the RoC curve\n",
    "fpr, tpr, thresholds = roc_curve(Y_test,Y_pred,pos_label=1)   # compute the roc curve.\n",
    "plt.plot([0, 1], [0, 1], linestyle='--')                      # plot the 50% probability line.\n",
    "plt.plot(fpr, tpr, marker='.')                                # plot the roc curve for the model.\n",
    "plt.title(\"ROC Curve.\")                                       # set the title of the plot.\n",
    "plt.xlabel(\"False Positive Rate\")                             # set the x label of the plot.\n",
    "plt.ylabel(\"True Positive Rate\")                              # set the y label of the plot.\n",
    "plt.show()                                                    # show the plot."
   ]
  },
  {
   "cell_type": "markdown",
   "metadata": {},
   "source": [
    "#### [5.2.2.7] Plot the classifier performance metrics."
   ]
  },
  {
   "cell_type": "code",
   "execution_count": 40,
   "metadata": {},
   "outputs": [
    {
     "data": {
      "image/png": "[encoded data removed]",
      "text/plain": [
       "<matplotlib.figure.Figure at 0x24e8b2a8e80>"
      ]
     },
     "metadata": {},
     "output_type": "display_data"
    },
    {
     "name": "stdout",
     "output_type": "stream",
     "text": [
      "\n",
      "The class composition in the testset is :\n",
      "1    3297\n",
      "0     703\n",
      "Name: Comment, dtype: int64\n"
     ]
    }
   ],
   "source": [
    "# evaluate the model and report the metrics.\n",
    "from sklearn.metrics import confusion_matrix\n",
    "conf_mat = confusion_matrix(Y_test, Y_pred_test)\n",
    "fig, ax = plt.subplots(figsize=(5,5))\n",
    "sns.heatmap(conf_mat, annot=True, fmt='d'\n",
    "            ,xticklabels=['negative','positive'], yticklabels=['negative','positive'])\n",
    "plt.title('Confusion Matrix : (Vectorizer = TFIDF)')\n",
    "plt.ylabel('Actual')\n",
    "plt.xlabel('Predicted')\n",
    "plt.show()\n",
    "\n",
    "#Class composition in the testset.\n",
    "dfYTest = pd.DataFrame(list(Y_test),columns=['Comment'])\n",
    "print(\"\\nThe class composition in the testset is :\")\n",
    "print(dfYTest[\"Comment\"].value_counts())"
   ]
  },
  {
   "cell_type": "code",
   "execution_count": null,
   "metadata": {},
   "outputs": [],
   "source": []
  },
  {
   "cell_type": "markdown",
   "metadata": {},
   "source": [
    "#### [5.2.2.9] : Load metrics into the summary table for TFIDF."
   ]
  },
  {
   "cell_type": "code",
   "execution_count": 41,
   "metadata": {},
   "outputs": [],
   "source": [
    "# Import the metrics module.\n",
    "from sklearn.metrics import accuracy_score\n",
    "from sklearn.metrics import precision_score\n",
    "from sklearn.metrics import recall_score\n",
    "from sklearn.metrics import f1_score\n",
    "from sklearn.metrics import roc_auc_score\n",
    "\n",
    "# Add the classification metrics to the table.\n",
    "# Add the classification metrics to the final summary table.\n",
    "summaryTableRBFKernel.add_row(['RBFKernel','TFIDF',optimal_C,'Accuracy',accuracy_score(Y_test,Y_pred_test)])\n",
    "summaryTableRBFKernel.add_row(['-','-',optimal_C,'Precision',precision_score(Y_test,Y_pred_test)])\n",
    "summaryTableRBFKernel.add_row(['-','-',optimal_C,'Recall',recall_score(Y_test,Y_pred_test)])\n",
    "summaryTableRBFKernel.add_row(['-','-',optimal_C,'F1 Score',f1_score(Y_test,Y_pred_test)])\n",
    "summaryTableRBFKernel.add_row(['-','-',optimal_C,'AUC Score',roc_auc_score(Y_test,Y_pred)])\n",
    "summaryTableRBFKernel.add_row(['-','-',optimal_C,'ConfusionMatrix',confusion_matrix(Y_test, Y_pred_test)])\n",
    "summaryTableRBFKernel.add_row(['----------','----------','-----------','----------','----------'])\n"
   ]
  },
  {
   "cell_type": "code",
   "execution_count": null,
   "metadata": {},
   "outputs": [],
   "source": []
  },
  {
   "cell_type": "markdown",
   "metadata": {},
   "source": [
    "### [5.2.3]  Applying RBF SVM on AVG W2V,<font color='red'> SET 3</font>"
   ]
  },
  {
   "cell_type": "code",
   "execution_count": null,
   "metadata": {},
   "outputs": [],
   "source": []
  },
  {
   "cell_type": "markdown",
   "metadata": {},
   "source": [
    "#### [5.2.3.1] Convert review text into numeric vectors using Avg W2V"
   ]
  },
  {
   "cell_type": "code",
   "execution_count": 43,
   "metadata": {},
   "outputs": [
    {
     "name": "stderr",
     "output_type": "stream",
     "text": [
      "100%|████████████████████████████████████████████████████████████████████████████████████████████████████████████████████████████████████████████████████████████████████| 12000/12000 [00:00<00:00, 37009.60it/s]\n"
     ]
    }
   ],
   "source": [
    "# Train your own Word2Vec model using your own text training corpus.\n",
    "# Train Word2Vec on training set alone.\n",
    "i=0\n",
    "list_of_sent=[]  # List to store the sentence from the review comments.\n",
    "\n",
    "# Loop through all the Amazon Food Review comments, one comment at a time.\n",
    "for sent in tqdm(X_train.values.astype('U')):\n",
    "    list_of_sent.append(sent.split())         # From the Review, split it into individual sentence and add to the list."
   ]
  },
  {
   "cell_type": "markdown",
   "metadata": {},
   "source": [
    "#### [5.2.3.2] Train the Word2Vec model on the training set alone."
   ]
  },
  {
   "cell_type": "code",
   "execution_count": 44,
   "metadata": {},
   "outputs": [
    {
     "name": "stdout",
     "output_type": "stream",
     "text": [
      "number of words that occured minimum 5 times  6487\n",
      "sample words  ['big', 'lover', 'fig', 'jam', 'unique', 'flavor', 'kind', 'mix', 'light', 'figs', 'dark', 'mission', 'must', 'great', 'product', 'good', 'price', 'definitely', 'ordering', 'used', 'bottles', 'ordered', 'expected', 'box', 'full', 'fortune', 'cookies', 'like', 'one', 'nonetheless', 'got', 'small', 'tasted', 'weird', 'okay', 'not', 'best', 'reviewing', 'review', 'amazon', 'checked', 'label', 'container', 'sure', 'enough', 'contains', 'top', 'ingredients', 'done', 'research']\n"
     ]
    }
   ],
   "source": [
    "# Instantiate the Word2Vec vectorizer.\n",
    "\n",
    "# Word2Vec(list,word_repeat_count,dimension_of_each_word_vector,Number_of_Processor_cores)\n",
    "# min_count = 5 considers only words that occured atleast 5 times\n",
    "w2v_model=Word2Vec(list_of_sent,min_count=5,size=50, workers=4)\n",
    "\n",
    "# Store the word vocabulary.\n",
    "w2v_words = list(w2v_model.wv.vocab)\n",
    "\n",
    "# Print the Word vector.\n",
    "print(\"number of words that occured minimum 5 times \",len(w2v_words))\n",
    "print(\"sample words \", w2v_words[0:50])"
   ]
  },
  {
   "cell_type": "markdown",
   "metadata": {},
   "source": [
    "#### [5.2.3.3] Compute the average Word2Vec for each review in the training set."
   ]
  },
  {
   "cell_type": "code",
   "execution_count": 45,
   "metadata": {},
   "outputs": [
    {
     "name": "stderr",
     "output_type": "stream",
     "text": [
      "100%|█████████████████████████████████████████████████████████████████████████████████████████████████████████████████████████████████████████████████████████████████████| 12000/12000 [00:11<00:00, 1010.06it/s]\n"
     ]
    },
    {
     "name": "stdout",
     "output_type": "stream",
     "text": [
      "The total number of words is 12000\n",
      "The dimension of each word vector is 50\n"
     ]
    }
   ],
   "source": [
    "# average Word2Vec\n",
    "# Avg. Word2Vec = (W2V(w1)+W2V(w2)+W2V(w3)+...... +W2V(w364171)) / 364171\n",
    "# compute average word2vec for each review.\n",
    "sent_vectors = [];                     # the avg-w2v for each sentence/review is stored in this list\n",
    "for sent in tqdm(list_of_sent):        # for each review/sentence in the training set\n",
    "    sent_vec = np.zeros(50)            # as word vectors are of zero length\n",
    "    cnt_words =0;                      # num of words with a valid vector in the sentence/review\n",
    "    for word in sent:                  # for each word in a review/sentence\n",
    "        if word in w2v_words:          # if the word exists in the vocabulary\n",
    "            vec = w2v_model.wv[word]   # convert the word to vector\n",
    "            sent_vec += vec            # sum the vectors\n",
    "            cnt_words += 1             # compute the word count\n",
    "    if cnt_words != 0:\n",
    "        sent_vec /= cnt_words          # compute the average word count\n",
    "    sent_vectors.append(sent_vec)      # update the average word count to the list.\n",
    "print('The total number of words is {}'.format(len(sent_vectors)))\n",
    "print('The dimension of each word vector is {}'.format(len(sent_vectors[0])))"
   ]
  },
  {
   "cell_type": "markdown",
   "metadata": {},
   "source": [
    "#### [5.2.3.4] Build the text corpus of the cross-validation and test set."
   ]
  },
  {
   "cell_type": "code",
   "execution_count": 46,
   "metadata": {},
   "outputs": [
    {
     "name": "stderr",
     "output_type": "stream",
     "text": [
      "100%|█████████████████████████████████████████████████████████████████████████████████████████████████████████████████████████████████████████████████████████████████████| 4000/4000 [00:00<00:00, 222536.06it/s]\n",
      "100%|█████████████████████████████████████████████████████████████████████████████████████████████████████████████████████████████████████████████████████████████████████| 4000/4000 [00:00<00:00, 235903.43it/s]\n"
     ]
    }
   ],
   "source": [
    "# Build the cross-validation text corpus.\n",
    "i=0\n",
    "list_of_sent_cv=[]   # List to store the sentence from the review comments.\n",
    "\n",
    "# Loop through all the Amazon Food Review comments, one comment at a time.\n",
    "for sent in tqdm(X_cv.values):\n",
    "    list_of_sent_cv.append(sent.split())     # From the Review, split it into individual sentence and add to the list.\n",
    "    \n",
    "# Build the test text corpus.\n",
    "i=0\n",
    "list_of_sent_test=[]  # List to store the sentence from the review comments.\n",
    "\n",
    "# Loop through all the Amazon Food Review comments, one comment at a time.\n",
    "for sent in tqdm(X_test.values):\n",
    "    list_of_sent_test.append(sent.split())    # From the Review, split it into individual sentence and add to the list."
   ]
  },
  {
   "cell_type": "markdown",
   "metadata": {},
   "source": [
    "#### [5.2.3.5] Use the trained word2vec model to compute the average Word2Vec for each review in the cross-validation and test set."
   ]
  },
  {
   "cell_type": "code",
   "execution_count": 47,
   "metadata": {},
   "outputs": [
    {
     "name": "stderr",
     "output_type": "stream",
     "text": [
      "100%|████████████████████████████████████████████████████████████████████████████████████████████████████████████████████████████████████████████████████████████████████████| 4000/4000 [00:04<00:00, 900.97it/s]\n"
     ]
    },
    {
     "name": "stdout",
     "output_type": "stream",
     "text": [
      "The total number of words is 4000\n",
      "The dimension of each word vector is 50\n"
     ]
    }
   ],
   "source": [
    "# CROSS-VALIDATION :\n",
    "\n",
    "# average Word2Vec\n",
    "# Avg. Word2Vec = (W2V(w1)+W2V(w2)+W2V(w3)+...... +W2V(w364171)) / 364171\n",
    "# compute average word2vec for each review.\n",
    "sent_vectors_cv = [];                # the avg-w2v for each sentence/review is stored in this list\n",
    "for sent in tqdm(list_of_sent_cv):   # for each review/sentence in the test set\n",
    "    sent_vec = np.zeros(50)            # as word vectors are of zero length\n",
    "    cnt_words =0;                      # num of words with a valid vector in the sentence/review\n",
    "    for word in sent:                  # for each word in a review/sentence\n",
    "        if word in w2v_words:          # if the word exists in the vocabulary\n",
    "            vec = w2v_model.wv[word]   # convert the word to vector using the trained model.\n",
    "            sent_vec += vec            # sum the vectors\n",
    "            cnt_words += 1             # compute the word count\n",
    "    if cnt_words != 0:\n",
    "        sent_vec /= cnt_words          # compute the average word count\n",
    "    sent_vectors_cv.append(sent_vec)   # update the average word count to the list. \n",
    "\n",
    "print('The total number of words is {}'.format(len(sent_vectors_cv)))\n",
    "print('The dimension of each word vector is {}'.format(len(sent_vectors_cv[0])))"
   ]
  },
  {
   "cell_type": "code",
   "execution_count": 48,
   "metadata": {},
   "outputs": [
    {
     "name": "stderr",
     "output_type": "stream",
     "text": [
      "100%|████████████████████████████████████████████████████████████████████████████████████████████████████████████████████████████████████████████████████████████████████████| 4000/4000 [00:04<00:00, 928.86it/s]\n"
     ]
    },
    {
     "name": "stdout",
     "output_type": "stream",
     "text": [
      "The total number of words is 4000\n",
      "The dimension of each word vector is 50\n"
     ]
    }
   ],
   "source": [
    "# TEST :\n",
    "\n",
    "# average Word2Vec\n",
    "# Avg. Word2Vec = (W2V(w1)+W2V(w2)+W2V(w3)+...... +W2V(w364171)) / 364171\n",
    "# compute average word2vec for each review.\n",
    "sent_vectors_test = [];                # the avg-w2v for each sentence/review is stored in this list\n",
    "for sent in tqdm(list_of_sent_test):   # for each review/sentence in the test set\n",
    "    sent_vec = np.zeros(50)            # as word vectors are of zero length\n",
    "    cnt_words =0;                      # num of words with a valid vector in the sentence/review\n",
    "    for word in sent:                  # for each word in a review/sentence\n",
    "        if word in w2v_words:          # if the word exists in the vocabulary\n",
    "            vec = w2v_model.wv[word]   # convert the word to vector using the trained model.\n",
    "            sent_vec += vec            # sum the vectors\n",
    "            cnt_words += 1             # compute the word count\n",
    "    if cnt_words != 0:\n",
    "        sent_vec /= cnt_words          # compute the average word count\n",
    "    sent_vectors_test.append(sent_vec) # update the average word count to the list.\n",
    "\n",
    "print('The total number of words is {}'.format(len(sent_vectors_test)))\n",
    "print('The dimension of each word vector is {}'.format(len(sent_vectors_test[0])))"
   ]
  },
  {
   "cell_type": "markdown",
   "metadata": {},
   "source": [
    "#### [5.2.3.6] Standardize / Normalize the data"
   ]
  },
  {
   "cell_type": "code",
   "execution_count": 49,
   "metadata": {},
   "outputs": [],
   "source": [
    "# Data-preprocessing: Normalizing the data\n",
    "from sklearn.preprocessing import Normalizer\n",
    "\n",
    "normalizer = Normalizer()\n",
    "\n",
    "#Standardize on the train data.\n",
    "X_train_stdzd = normalizer.fit_transform(sent_vectors)\n",
    "\n",
    "#Standardize the cv and test data.\n",
    "X_cv_stdzd  = normalizer.transform(sent_vectors_cv)      #use the same Normalizer on the cv set.\n",
    "X_test_stdzd  = normalizer.transform(sent_vectors_test)  #use the same Normalizer on the test set."
   ]
  },
  {
   "cell_type": "code",
   "execution_count": null,
   "metadata": {},
   "outputs": [],
   "source": []
  },
  {
   "cell_type": "markdown",
   "metadata": {},
   "source": [
    "#### [5.2.3.7] Hyper-Parameter Tuning : Using the cross-validation dataset to calculate the optimal 'C' of RBFKernel SVM in AvgWord2Vec case."
   ]
  },
  {
   "cell_type": "code",
   "execution_count": 50,
   "metadata": {},
   "outputs": [
    {
     "name": "stdout",
     "output_type": "stream",
     "text": [
      "C :\n",
      "[10000, 1000, 100, 10, 1, 0.1, 0.01, 0.001, 0.0001]\n",
      "\n",
      "AuC :\n",
      "[0.8842306208027954, 0.8806782860307665, 0.8717013745920872, 0.8533160237748079, 0.811595062900546, 0.7166036127244633, 0.715829768888329, 0.715829768888329, 0.715829768888329]\n",
      "\n",
      "Plot of CrossValidationAuC vs Log of C:\n"
     ]
    },
    {
     "data": {
      "image/png": "[encoded data removed]",
      "text/plain": [
       "<matplotlib.figure.Figure at 0x24e974087f0>"
      ]
     },
     "metadata": {},
     "output_type": "display_data"
    },
    {
     "name": "stdout",
     "output_type": "stream",
     "text": [
      "Starttime is : 2019-01-17 14:42:24.299276\n",
      "Endtime   is : 2019-01-17 14:48:45.753390\n"
     ]
    }
   ],
   "source": [
    "# Import the SVCClassifier.\n",
    "from sklearn.svm import SVC\n",
    "# Need to get the probability score of each class label.\n",
    "from sklearn.calibration import CalibratedClassifierCV\n",
    "# Import the metrics module.\n",
    "from sklearn.metrics import roc_auc_score\n",
    "\n",
    "# Set the start time of the current cell run.\n",
    "starttime_rbfsvm_avgw2v = datetime.datetime.now()\n",
    "\n",
    "# Set the range for the hyper-parameters.\n",
    "# Experiment with C ranges between 1/10000 to 10000.\n",
    "# Here C is the hyper-parameter of the SVCClassifier.\n",
    "\n",
    "hp_C = [10000,1000,100,10,1,0.1,0.01,0.001,0.0001]\n",
    "\n",
    "# Use the cross-validation dataset to determine the best hyper-parameter C.\n",
    "# Loop through various values of C.\n",
    "plot_X = []\n",
    "plot_Y = []\n",
    "for i in hp_C:\n",
    "    # Iterate through various values of C,\n",
    "    rbfsvm_optimal = SVC(C=(i),                   # Hyper-parameter of the current iteration.\n",
    "                         kernel='rbf',            # Use RBF kernel.\n",
    "                         gamma ='auto',           # gamma = (1/sigma) used in RBF formulation.                         \n",
    "                         class_weight='balanced') # uses the values of y to automatically \n",
    "                                                  # adjust weights in the input data.\n",
    "\n",
    "    ### Use CalibratedClassifierCV\n",
    "    ### Reference : https://machinelearningmastery.com/calibrated-classification-model-in-scikit-learn/ \n",
    "    # Instantiate the CalibratedClassifierCV model.\n",
    "    calibratedCCV = CalibratedClassifierCV(rbfsvm_optimal,   # RBFSVM model.\n",
    "                                           method='sigmoid', # sigmoid function.\n",
    "                                           cv=5)             # crossvalidation #'s.\n",
    "    \n",
    "    calibratedCCV.fit(X_train_stdzd, Y_train)                # fit the model on the training set.\n",
    "    Y_pred = calibratedCCV.predict_proba(X_cv_stdzd)[:, 1]   # predict class probabilities.\n",
    "\n",
    "    # Compute AuC metric.\n",
    "    plot_X.append(np.log(i))                            # plot log(C) in the x-axis.\n",
    "    plot_Y.append(roc_auc_score(Y_cv,Y_pred))           # plot auc score in the y-axis.\n",
    "\n",
    "# print X,Y\n",
    "print(\"C :\\n{}\".format(hp_C))\n",
    "print(\"\\nAuC :\\n{}\".format(plot_Y))\n",
    "\n",
    "print(\"\\nPlot of CrossValidationAuC vs Log of C:\")\n",
    "# Plot X-axis = log(C),Y-axis = AuC to determine the best hyper-parameter.\n",
    "plt.plot(plot_X,plot_Y)\n",
    "plt.title(\"Plot of CrossValidationAuC vs log(C) .\")  # Set the title of the plot.\n",
    "plt.xlabel(\"log(C)\")                                 # Set the x label of the plot.\n",
    "plt.ylabel(\"CrossValidation AuC\")                    # Set the y label of the plot.\n",
    "plt.show()                                           # render the plot.\n",
    "\n",
    "# Set the end time of the current cell run.\n",
    "endtime_rbfsvm_avgw2v = datetime.datetime.now()\n",
    "\n",
    "# Print the cell run duration.\n",
    "print(\"Starttime is : {}\".format(starttime_rbfsvm_avgw2v))\n",
    "print(\"Endtime   is : {}\".format(endtime_rbfsvm_avgw2v))\n"
   ]
  },
  {
   "cell_type": "markdown",
   "metadata": {},
   "source": [
    "#### The hyper-parameter that gives the optimal AuC score is 10000. The optimal AuC is 0.884 ."
   ]
  },
  {
   "cell_type": "code",
   "execution_count": null,
   "metadata": {},
   "outputs": [],
   "source": []
  },
  {
   "cell_type": "markdown",
   "metadata": {},
   "source": [
    "#### [5.2.3.8] : Train and Fit the RBFSVM model in the training set. Compute the performance metrics by predicting the model on the test set. "
   ]
  },
  {
   "cell_type": "code",
   "execution_count": 51,
   "metadata": {},
   "outputs": [
    {
     "name": "stdout",
     "output_type": "stream",
     "text": [
      "Starttime is : 2019-01-17 14:49:22.658513\n",
      "Endtime   is : 2019-01-17 14:50:20.501216\n"
     ]
    }
   ],
   "source": [
    "# Import the SVCClassifier.\n",
    "from sklearn.svm import SVC\n",
    "\n",
    "# Set the start time of the current cell run.\n",
    "starttime_rbfsvm_avgw2v = datetime.datetime.now()\n",
    "\n",
    "# The best value of the hyper-parameter C.\n",
    "optimal_C = 10000\n",
    "\n",
    "# Instantiate the SVC method with RBF kernel.\n",
    "rbfsvm_optimal = SVC(C=(optimal_C),           # Hyper-parameter of the current iteration.\n",
    "                     kernel='rbf',            # Use RBF kernel.\n",
    "                     gamma ='auto',           # gamma = 1/sigma                         \n",
    "                     class_weight='balanced') # uses the values of y to automatically \n",
    "                                              # adjust weights in the input data.\n",
    "\n",
    "rbfsvm_optimal.fit(X_train_stdzd, Y_train)          # fit the RBFSVM model.\n",
    "Y_pred_test = rbfsvm_optimal.predict(X_test_stdzd)  # predict,response from the RBFSVM model.\n",
    "\n",
    "### Use CalibratedClassifierCV\n",
    "# Instantiate the CalibratedClassifierCV model.\n",
    "calibratedCCV = CalibratedClassifierCV(rbfsvm_optimal,   # RBFSVM model.\n",
    "                                       method='sigmoid', # sigmoid function.\n",
    "                                       cv=5)             # crossvalidation #'s.\n",
    "    \n",
    "calibratedCCV.fit(X_train_stdzd, Y_train)                # fit the model on the training set.\n",
    "Y_pred = calibratedCCV.predict_proba(X_test_stdzd)[:, 1] # predict class probabilities on the testset.\n",
    "\n",
    "# Set the end time of the current cell run.\n",
    "endtime_rbfsvm_avgw2v = datetime.datetime.now()\n",
    "\n",
    "# Print the cell run duration.\n",
    "print(\"Starttime is : {}\".format(starttime_rbfsvm_avgw2v))\n",
    "print(\"Endtime   is : {}\".format(endtime_rbfsvm_avgw2v))"
   ]
  },
  {
   "cell_type": "markdown",
   "metadata": {},
   "source": [
    "#### [5.2.3.9] : Plot the ROC Curve."
   ]
  },
  {
   "cell_type": "code",
   "execution_count": 52,
   "metadata": {},
   "outputs": [
    {
     "data": {
      "image/png": "[encoded data removed]",
      "text/plain": [
       "<matplotlib.figure.Figure at 0x24e8de602e8>"
      ]
     },
     "metadata": {},
     "output_type": "display_data"
    }
   ],
   "source": [
    "# Import the modules\n",
    "from sklearn.metrics import roc_curve\n",
    "import matplotlib.pyplot as plt\n",
    "\n",
    "# Calculate the RoC curve\n",
    "fpr, tpr, thresholds = roc_curve(Y_test,Y_pred,pos_label=1)   # compute the roc curve.\n",
    "plt.plot([0, 1], [0, 1], linestyle='--')                      # plot the 50% probability line.\n",
    "plt.plot(fpr, tpr, marker='.')                                # plot the roc curve for the model.\n",
    "plt.title(\"ROC Curve.\")                                       # set the title of the plot.\n",
    "plt.xlabel(\"False Positive Rate\")                             # set the x label of the plot.\n",
    "plt.ylabel(\"True Positive Rate\")                              # set the y label of the plot.\n",
    "plt.show()                                                    # show the plot."
   ]
  },
  {
   "cell_type": "markdown",
   "metadata": {},
   "source": [
    "#### [5.2.3.10] Plot the classifier performance metrics."
   ]
  },
  {
   "cell_type": "code",
   "execution_count": 53,
   "metadata": {},
   "outputs": [
    {
     "data": {
      "image/png": "[encoded data removed]",
      "text/plain": [
       "<matplotlib.figure.Figure at 0x24e98e3deb8>"
      ]
     },
     "metadata": {},
     "output_type": "display_data"
    },
    {
     "name": "stdout",
     "output_type": "stream",
     "text": [
      "\n",
      "The class composition in the testset is :\n",
      "1    3297\n",
      "0     703\n",
      "Name: Comment, dtype: int64\n"
     ]
    }
   ],
   "source": [
    "# evaluate the model and report the metrics.\n",
    "from sklearn.metrics import confusion_matrix\n",
    "conf_mat = confusion_matrix(Y_test, Y_pred_test)\n",
    "fig, ax = plt.subplots(figsize=(5,5))\n",
    "sns.heatmap(conf_mat, annot=True, fmt='d'\n",
    "            ,xticklabels=['negative','positive'], yticklabels=['negative','positive'])\n",
    "plt.title('Confusion Matrix : (Vectorizer = AvgWord2Vec)')\n",
    "plt.ylabel('Actual')\n",
    "plt.xlabel('Predicted')\n",
    "plt.show()\n",
    "\n",
    "#Class composition in the testset.\n",
    "dfYTest = pd.DataFrame(list(Y_test),columns=['Comment'])\n",
    "print(\"\\nThe class composition in the testset is :\")\n",
    "print(dfYTest[\"Comment\"].value_counts())"
   ]
  },
  {
   "cell_type": "markdown",
   "metadata": {},
   "source": [
    "#### [5.2.3.11] : Load metrics into the summary table for AvgWord2Vec."
   ]
  },
  {
   "cell_type": "code",
   "execution_count": 54,
   "metadata": {},
   "outputs": [],
   "source": [
    "# Import the metrics module.\n",
    "from sklearn.metrics import accuracy_score\n",
    "from sklearn.metrics import precision_score\n",
    "from sklearn.metrics import recall_score\n",
    "from sklearn.metrics import f1_score\n",
    "from sklearn.metrics import roc_auc_score\n",
    "\n",
    "# Add the classification metrics to the table.\n",
    "# Add the classification metrics to the final summary table.\n",
    "summaryTableRBFKernel.add_row(['RBFKernel','AvgWord2Vec',optimal_C,'Accuracy',accuracy_score(Y_test,Y_pred_test)])\n",
    "summaryTableRBFKernel.add_row(['-','-',optimal_C,'Precision',precision_score(Y_test,Y_pred_test)])\n",
    "summaryTableRBFKernel.add_row(['-','-',optimal_C,'Recall',recall_score(Y_test,Y_pred_test)])\n",
    "summaryTableRBFKernel.add_row(['-','-',optimal_C,'F1 Score',f1_score(Y_test,Y_pred_test)])\n",
    "summaryTableRBFKernel.add_row(['-','-',optimal_C,'AUC Score',roc_auc_score(Y_test,Y_pred)])\n",
    "summaryTableRBFKernel.add_row(['-','-',optimal_C,'ConfusionMatrix',confusion_matrix(Y_test, Y_pred_test)])\n",
    "summaryTableRBFKernel.add_row(['----------','----------','-----------','----------','----------'])\n"
   ]
  },
  {
   "cell_type": "code",
   "execution_count": null,
   "metadata": {},
   "outputs": [],
   "source": []
  },
  {
   "cell_type": "markdown",
   "metadata": {},
   "source": [
    "### [5.2.4]  Applying RBF SVM on TFIDF W2V,<font color='red'> SET 4</font>"
   ]
  },
  {
   "cell_type": "code",
   "execution_count": null,
   "metadata": {},
   "outputs": [],
   "source": []
  },
  {
   "cell_type": "markdown",
   "metadata": {},
   "source": [
    "#### [5.2.4.1] Convert review text into numeric vectors using TF-IDF_AvgW2V"
   ]
  },
  {
   "cell_type": "code",
   "execution_count": 56,
   "metadata": {},
   "outputs": [
    {
     "name": "stdout",
     "output_type": "stream",
     "text": [
      "the type of count vectorizer  <class 'scipy.sparse.csr.csr_matrix'>\n",
      "the shape of out text TFIDF vectorizer  (12000, 310434)\n",
      "the number of unique words including both unigrams and bigrams  310434\n"
     ]
    }
   ],
   "source": [
    "#TF-IDF\n",
    "# Apply TF-IDF vectorization only on the trainingset.\n",
    "tf_idf_vect = TfidfVectorizer(dtype='float64',ngram_range=(1,2))\n",
    "\n",
    "#Train you tf-idf vectorizer on the train data.\n",
    "final_tf_idf = tf_idf_vect.fit_transform(X_train.values.astype('U'))\n",
    "\n",
    "#Print the details.\n",
    "print(\"the type of count vectorizer \",type(final_tf_idf))\n",
    "print(\"the shape of out text TFIDF vectorizer \",final_tf_idf.get_shape())\n",
    "print(\"the number of unique words including both unigrams and bigrams \", final_tf_idf.get_shape()[1])"
   ]
  },
  {
   "cell_type": "markdown",
   "metadata": {},
   "source": [
    "#### [5.2.4.2] Use the TF-IDF vectorizer trained in the preceding step to convert cross-validation and test set to vectors."
   ]
  },
  {
   "cell_type": "code",
   "execution_count": 57,
   "metadata": {},
   "outputs": [
    {
     "name": "stdout",
     "output_type": "stream",
     "text": [
      "the type of count vectorizer  <class 'scipy.sparse.csr.csr_matrix'>\n",
      "the shape of out text TF-IDF vectorizer  (4000, 310434)\n",
      "the number of unique words  310434\n",
      "the type of count vectorizer  <class 'scipy.sparse.csr.csr_matrix'>\n",
      "the shape of out text TF-IDF vectorizer  (4000, 310434)\n",
      "the number of unique words  310434\n"
     ]
    }
   ],
   "source": [
    "#use the same countvectorizer on the cross-validation set.\n",
    "final_tf_idf_cvset = tf_idf_vect.transform(X_cv.values)\n",
    "\n",
    "#Print the details.\n",
    "print(\"the type of count vectorizer \",type(final_tf_idf_cvset))\n",
    "print(\"the shape of out text TF-IDF vectorizer \",final_tf_idf_cvset.get_shape())\n",
    "print(\"the number of unique words \", final_tf_idf_cvset.get_shape()[1])\n",
    "\n",
    "#use the same countvectorizer on the test set.\n",
    "final_tf_idf_testset = tf_idf_vect.transform(X_test.values)\n",
    "\n",
    "#Print the details.\n",
    "print(\"the type of count vectorizer \",type(final_tf_idf_testset))\n",
    "print(\"the shape of out text TF-IDF vectorizer \",final_tf_idf_testset.get_shape())\n",
    "print(\"the number of unique words \", final_tf_idf_testset.get_shape()[1])\n",
    "\n",
    "# we are converting a dictionary with word as a key, and the idf as a value\n",
    "dictionary = dict(zip(tf_idf_vect.get_feature_names(), list(tf_idf_vect.idf_)))\n"
   ]
  },
  {
   "cell_type": "markdown",
   "metadata": {},
   "source": [
    "#### [5.2.4.3] Build the list of sentences for the training,crossvalidation and test set respectively."
   ]
  },
  {
   "cell_type": "code",
   "execution_count": 58,
   "metadata": {},
   "outputs": [],
   "source": [
    "# Build the list of sentences from the training set.\n",
    "list_of_sent=[]                           # List to store the sentences from the Review comments.\n",
    "for sent in X_train.values.astype('U'):   # Loop through the Review comments, one at a time.\n",
    "    list_of_sent.append(sent.split())     # Split the Review comments into sentences and store \n",
    "                                          # them in the List.\n",
    "\n",
    "# Build the list of sentences from the cross-validation set.\n",
    "list_of_sent_cv=[]                          # List to store the sentences from the Review comments.\n",
    "for sent in X_cv.values:                    # Loop through the Review comments, one at a time.\n",
    "    list_of_sent_cv.append(sent.split())    # Split the Review comments into sentences and store them\n",
    "                                            # in the List.\n",
    "\n",
    "# Build the list of sentences from the test set.\n",
    "list_of_sent_test=[]                        # List to store the sentences from the Review comments.\n",
    "for sent in X_test.values:                  # Loop through the Review comments, one at a time.\n",
    "    list_of_sent_test.append(sent.split())  # Split the Review comments into sentences and store \n",
    "                                            # them in the List."
   ]
  },
  {
   "cell_type": "markdown",
   "metadata": {},
   "source": [
    "#### [5.2.4.4] Train the Word2Vec model on the training set alone."
   ]
  },
  {
   "cell_type": "code",
   "execution_count": 59,
   "metadata": {},
   "outputs": [
    {
     "name": "stdout",
     "output_type": "stream",
     "text": [
      "number of words that occured minimum 5 times  6487\n",
      "sample words  ['big', 'lover', 'fig', 'jam', 'unique', 'flavor', 'kind', 'mix', 'light', 'figs', 'dark', 'mission', 'must', 'great', 'product', 'good', 'price', 'definitely', 'ordering', 'used', 'bottles', 'ordered', 'expected', 'box', 'full', 'fortune', 'cookies', 'like', 'one', 'nonetheless', 'got', 'small', 'tasted', 'weird', 'okay', 'not', 'best', 'reviewing', 'review', 'amazon', 'checked', 'label', 'container', 'sure', 'enough', 'contains', 'top', 'ingredients', 'done', 'research']\n"
     ]
    }
   ],
   "source": [
    "# min_count = 5 considers only words that occured atleast 5 times\n",
    "# Word2Vec Syntax : Word2Vec(list,word_repeat_count,dimension_of_each_word_vector,Number_of_Processor_cores)\n",
    "\n",
    "# Instantiate the Word2Vec vectorizer.\n",
    "w2v_model=Word2Vec(list_of_sent,min_count=5,size=50, workers=4)\n",
    "# Get the vocabulary. \n",
    "w2v_words = list(w2v_model.wv.vocab)\n",
    "# Print the details.\n",
    "print(\"number of words that occured minimum 5 times \",len(w2v_words))\n",
    "print(\"sample words \", w2v_words[0:50])"
   ]
  },
  {
   "cell_type": "markdown",
   "metadata": {},
   "source": [
    "#### [5.2.4.5] Train the TF-IDF Weighted Word2Vec on the training set."
   ]
  },
  {
   "cell_type": "code",
   "execution_count": 60,
   "metadata": {},
   "outputs": [
    {
     "name": "stderr",
     "output_type": "stream",
     "text": [
      "100%|██████████████████████████████████████████████████████████████████████████████████████████████████████████████████████████████████████████████████████████████████████| 12000/12000 [00:13<00:00, 861.74it/s]\n"
     ]
    }
   ],
   "source": [
    "# TF-IDF weighted Word2Vec\n",
    "tfidf_feat = tf_idf_vect.get_feature_names() # tfidf words/col-names\n",
    "# final_tf_idf is the sparse matrix with row= sentence, col=word and cell_val = tfidf\n",
    "\n",
    "tfidf_sent_vectors = [];              # the tfidf-w2v for each sentence/review is stored in this list\n",
    "row=0;\n",
    "for sent in tqdm(list_of_sent):       # for each review/sentence\n",
    "    sent_vec = np.zeros(50)           # as word vectors are of zero length\n",
    "    weight_sum =0;                    # num of words with a valid vector in the sentence/review\n",
    "    for word in sent:                 # for each word in a review/sentence\n",
    "        #print(word)\n",
    "        if word in w2v_words:\n",
    "            vec = w2v_model.wv[word]  # Vector representation of the word.\n",
    "            \n",
    "            # dictionary[word] = idf value of word in whole corpus\n",
    "            # sent.count(word) = tf values of word in this review\n",
    "            tfidf_avgw2v = dictionary[word]*(sent.count(word)/len(sent))   # Compute the weights for\n",
    "                                                                           # Weighted Average.\n",
    "            \n",
    "            # Avg. Word2Vec = ((W2V(v1)*w1)+(W2V(v2)*w2)+(W2V(v3)*w3)+...... +(W2V(v364171)*w364171) / \n",
    "            #                  Sum(w1,w2,..w364171)            \n",
    "            sent_vec += (vec * tfidf_avgw2v)  # Compute the numerator part of the above formula.\n",
    "            weight_sum += tfidf_avgw2v        # Compute the denominator part of the above formula.\n",
    "            \n",
    "    if weight_sum != 0:\n",
    "        sent_vec /= weight_sum                # Numerator/Denominator to get the Weighted Average.\n",
    "    tfidf_sent_vectors.append(sent_vec)       # Add this to the List.\n",
    "    row += 1\n"
   ]
  },
  {
   "cell_type": "markdown",
   "metadata": {},
   "source": [
    "#### [5.2.4.6] Use the TF-IDF Weigthed Word2Vec model trained on training set to Cross-Validation set."
   ]
  },
  {
   "cell_type": "code",
   "execution_count": 61,
   "metadata": {},
   "outputs": [
    {
     "name": "stderr",
     "output_type": "stream",
     "text": [
      "100%|████████████████████████████████████████████████████████████████████████████████████████████████████████████████████████████████████████████████████████████████████████| 4000/4000 [00:05<00:00, 770.19it/s]\n"
     ]
    }
   ],
   "source": [
    "# TF-IDF weighted Word2Vec\n",
    "tfidf_feat = tf_idf_vect.get_feature_names() # tfidf words/col-names\n",
    "# final_tf_idf is the sparse matrix with row= sentence, col=word and cell_val = tfidf\n",
    "\n",
    "tfidf_sent_vectors_cv = [];              # the tfidf-w2v for each sentence/review is stored in this list\n",
    "row=0;\n",
    "for sent in tqdm(list_of_sent_cv):    # for each review/sentence \n",
    "    sent_vec = np.zeros(50)           # as word vectors are of zero length\n",
    "    weight_sum =0;                    # num of words with a valid vector in the sentence/review\n",
    "    for word in sent:                 # for each word in a review/sentence\n",
    "        if word in w2v_words:\n",
    "            vec = w2v_model.wv[word]  # Vector representation of the word.\n",
    "            \n",
    "            # dictionary[word] = idf value of word in whole courpus\n",
    "            # sent.count(word) = tf values of word in this review\n",
    "            tfidf_avgw2v = dictionary[word]*(sent.count(word)/len(sent))   # Compute the weights for\n",
    "                                                                           # Weighted Average.\n",
    "            \n",
    "            # Avg. Word2Vec = ((W2V(v1)*w1)+(W2V(v2)*w2)+(W2V(v3)*w3)+...... +(W2V(v364171)*w364171) /\n",
    "            #                  Sum(w1,w2,..w364171)            \n",
    "            sent_vec += (vec * tfidf_avgw2v)  # Compute the numerator part of the above formula.\n",
    "            weight_sum += tfidf_avgw2v        # Compute the denominator part of the above formula.\n",
    "            \n",
    "    if weight_sum != 0:\n",
    "        sent_vec /= weight_sum                # Numerator/Denominator to get the Weighted Average.\n",
    "    tfidf_sent_vectors_cv.append(sent_vec)    # Add this to the List.\n",
    "    row += 1"
   ]
  },
  {
   "cell_type": "markdown",
   "metadata": {},
   "source": [
    "#### [5.2.4.7] Use the TF-IDF Weigthed Word2Vec model trained on training set to Test set."
   ]
  },
  {
   "cell_type": "code",
   "execution_count": 62,
   "metadata": {},
   "outputs": [
    {
     "name": "stderr",
     "output_type": "stream",
     "text": [
      "100%|████████████████████████████████████████████████████████████████████████████████████████████████████████████████████████████████████████████████████████████████████████| 4000/4000 [00:05<00:00, 779.31it/s]\n"
     ]
    }
   ],
   "source": [
    "# TF-IDF weighted Word2Vec\n",
    "tfidf_feat = tf_idf_vect.get_feature_names() # tfidf words/col-names\n",
    "# final_tf_idf is the sparse matrix with row= sentence, col=word and cell_val = tfidf\n",
    "\n",
    "tfidf_sent_vectors_test = [];              # the tfidf-w2v for each sentence/review is stored in this list\n",
    "row=0;\n",
    "for sent in tqdm(list_of_sent_test):  # for each review/sentence \n",
    "    sent_vec = np.zeros(50)           # as word vectors are of zero length\n",
    "    weight_sum =0;                    # num of words with a valid vector in the sentence/review\n",
    "    for word in sent:                 # for each word in a review/sentence\n",
    "        if word in w2v_words:\n",
    "            vec = w2v_model.wv[word]  # Vector representation of the word.\n",
    "            \n",
    "            # dictionary[word] = idf value of word in whole courpus\n",
    "            # sent.count(word) = tf values of word in this review\n",
    "            tfidf_avgw2v = dictionary[word]*(sent.count(word)/len(sent))   # Compute the weights for\n",
    "                                                                           # Weighted Average.\n",
    "            \n",
    "            # Avg. Word2Vec = ((W2V(v1)*w1)+(W2V(v2)*w2)+(W2V(v3)*w3)+...... +(W2V(v364171)*w364171) / \n",
    "            #                   Sum(w1,w2,..w364171)            \n",
    "            sent_vec += (vec * tfidf_avgw2v)  # Compute the numerator part of the above formula.\n",
    "            weight_sum += tfidf_avgw2v        # Compute the denominator part of the above formula.\n",
    "            \n",
    "    if weight_sum != 0:\n",
    "        sent_vec /= weight_sum                # Numerator/Denominator to get the Weighted Average.\n",
    "    tfidf_sent_vectors_test.append(sent_vec)  # Add this to the List.\n",
    "    row += 1"
   ]
  },
  {
   "cell_type": "markdown",
   "metadata": {},
   "source": [
    "#### [5.2.4.8] Standardize / Normalize the data"
   ]
  },
  {
   "cell_type": "code",
   "execution_count": 63,
   "metadata": {},
   "outputs": [],
   "source": [
    "# Data-preprocessing: Normalizing the data\n",
    "from sklearn.preprocessing import Normalizer\n",
    "\n",
    "# Initialize the normalizer.\n",
    "normalizer = Normalizer()\n",
    "\n",
    "#Standardize on the train data.\n",
    "X_train_stdzd = normalizer.fit_transform(tfidf_sent_vectors)\n",
    "\n",
    "#Standardize the cv and test data.\n",
    "X_cv_stdzd    = normalizer.transform(tfidf_sent_vectors_cv)    #use the same Normalizer on the cv set.\n",
    "X_test_stdzd  = normalizer.transform(tfidf_sent_vectors_test)  #use the same Normalizer on the test set."
   ]
  },
  {
   "cell_type": "code",
   "execution_count": null,
   "metadata": {},
   "outputs": [],
   "source": []
  },
  {
   "cell_type": "markdown",
   "metadata": {},
   "source": [
    "#### [5.2.4.9] Hyper-Parameter Tuning : Using the cross-validation dataset to calculate the optimal 'C' of RBFKernel SVM in TFIDF-AvgWord2Vec case."
   ]
  },
  {
   "cell_type": "code",
   "execution_count": 64,
   "metadata": {},
   "outputs": [
    {
     "name": "stdout",
     "output_type": "stream",
     "text": [
      "C :\n",
      "[10000, 1000, 100, 10, 1, 0.1, 0.01, 0.001, 0.0001]\n",
      "\n",
      "AuC :\n",
      "[0.8676004463024232, 0.865057701219581, 0.8533414552623804, 0.8316798829667162, 0.7881153410806525, 0.6956989299398848, 0.6950409406582476, 0.6950409406582476, 0.6950409406582476]\n",
      "\n",
      "Plot of CrossValidationAuC vs Log of C:\n"
     ]
    },
    {
     "data": {
      "image/png": "[encoded data removed]",
      "text/plain": [
       "<matplotlib.figure.Figure at 0x24e973ffc88>"
      ]
     },
     "metadata": {},
     "output_type": "display_data"
    },
    {
     "name": "stdout",
     "output_type": "stream",
     "text": [
      "Starttime is : 2019-01-17 14:52:40.613270\n",
      "Endtime   is : 2019-01-17 14:59:15.682838\n"
     ]
    }
   ],
   "source": [
    "# Import the SVCClassifier.\n",
    "from sklearn.svm import SVC\n",
    "# Need to get the probability score of each class label.\n",
    "from sklearn.calibration import CalibratedClassifierCV\n",
    "# Import the metrics module.\n",
    "from sklearn.metrics import roc_auc_score\n",
    "\n",
    "# Set the start time of the current cell run.\n",
    "starttime_rbfsvm_tfidf_avgw2v = datetime.datetime.now()\n",
    "\n",
    "# Set the range for the hyper-parameters.\n",
    "# Experiment with C ranges between 1/10000 to 10000.\n",
    "# Here C is the hyper-parameter of the SVCClassifier.\n",
    "\n",
    "hp_C = [10000,1000,100,10,1,0.1,0.01,0.001,0.0001]\n",
    "\n",
    "# Use the cross-validation dataset to determine the best hyper-parameter C.\n",
    "# Loop through various values of C.\n",
    "plot_X = []\n",
    "plot_Y = []\n",
    "for i in hp_C:\n",
    "    # Iterate through various values of C,\n",
    "    rbfsvm_optimal = SVC(C=(i),                   # Hyper-parameter of the current iteration.\n",
    "                         kernel='rbf',            # Use RBF kernel.\n",
    "                         gamma ='auto',           # gamma = (1/sigma) used in RBF formulation.                         \n",
    "                         class_weight='balanced') # uses the values of y to automatically \n",
    "                                                  # adjust weights in the input data.\n",
    "\n",
    "    ### Use CalibratedClassifierCV\n",
    "    ### Reference : https://machinelearningmastery.com/calibrated-classification-model-in-scikit-learn/ \n",
    "    # Instantiate the CalibratedClassifierCV model.\n",
    "    calibratedCCV = CalibratedClassifierCV(rbfsvm_optimal,   # RBFSVM model.\n",
    "                                           method='sigmoid', # sigmoid function.\n",
    "                                           cv=5)             # crossvalidation #'s.\n",
    "    \n",
    "    calibratedCCV.fit(X_train_stdzd, Y_train)                # fit the model on the training set.\n",
    "    Y_pred = calibratedCCV.predict_proba(X_cv_stdzd)[:, 1]   # predict class probabilities.\n",
    "\n",
    "    # Compute AuC metric.\n",
    "    plot_X.append(np.log(i))                            # plot log(C) in the x-axis.\n",
    "    plot_Y.append(roc_auc_score(Y_cv,Y_pred))           # plot auc score in the y-axis.\n",
    "\n",
    "# print X,Y\n",
    "print(\"C :\\n{}\".format(hp_C))\n",
    "print(\"\\nAuC :\\n{}\".format(plot_Y))\n",
    "\n",
    "print(\"\\nPlot of CrossValidationAuC vs Log of C:\")\n",
    "# Plot X-axis = log(C),Y-axis = AuC to determine the best hyper-parameter.\n",
    "plt.plot(plot_X,plot_Y)\n",
    "plt.title(\"Plot of CrossValidationAuC vs log(C) .\")  # Set the title of the plot.\n",
    "plt.xlabel(\"log(C)\")                                 # Set the x label of the plot.\n",
    "plt.ylabel(\"CrossValidation AuC\")                    # Set the y label of the plot.\n",
    "plt.show()                                           # render the plot.\n",
    "\n",
    "# Set the end time of the current cell run.\n",
    "endtime_rbfsvm_tfidf_avgw2v = datetime.datetime.now()\n",
    "\n",
    "# Print the cell run duration.\n",
    "print(\"Starttime is : {}\".format(starttime_rbfsvm_tfidf_avgw2v))\n",
    "print(\"Endtime   is : {}\".format(endtime_rbfsvm_tfidf_avgw2v))\n"
   ]
  },
  {
   "cell_type": "markdown",
   "metadata": {},
   "source": [
    "#### The hyper-parameter that gives the optimal AuC score is 10000. The optimal AuC is 0.867 ."
   ]
  },
  {
   "cell_type": "code",
   "execution_count": null,
   "metadata": {},
   "outputs": [],
   "source": []
  },
  {
   "cell_type": "markdown",
   "metadata": {},
   "source": [
    "#### [5.2.4.10] : Train and Fit the RBFSVM model in the training set. Compute the performance metrics by predicting the model on the test set. "
   ]
  },
  {
   "cell_type": "code",
   "execution_count": 65,
   "metadata": {},
   "outputs": [
    {
     "name": "stdout",
     "output_type": "stream",
     "text": [
      "Starttime is : 2019-01-17 15:00:36.303590\n",
      "Endtime   is : 2019-01-17 15:01:38.501597\n"
     ]
    }
   ],
   "source": [
    "# Import the SVCClassifier.\n",
    "from sklearn.svm import SVC\n",
    "\n",
    "# Set the start time of the current cell run.\n",
    "starttime_rbfsvm_tfidf_avgw2v = datetime.datetime.now()\n",
    "\n",
    "# The best value of the hyper-parameter C.\n",
    "optimal_C = 10000\n",
    "\n",
    "# Instantiate the SVC method with RBF kernel.\n",
    "rbfsvm_optimal = SVC(C=(optimal_C),           # Hyper-parameter of the current iteration.\n",
    "                     kernel='rbf',            # Use RBF kernel.\n",
    "                     gamma ='auto',           # gamma = 1/sigma                         \n",
    "                     class_weight='balanced') # uses the values of y to automatically \n",
    "                                              # adjust weights in the input data.\n",
    "\n",
    "rbfsvm_optimal.fit(X_train_stdzd, Y_train)          # fit the RBFSVM model.\n",
    "Y_pred_test = rbfsvm_optimal.predict(X_test_stdzd)  # predict,response from the RBFSVM model.\n",
    "\n",
    "### Use CalibratedClassifierCV\n",
    "# Instantiate the CalibratedClassifierCV model.\n",
    "calibratedCCV = CalibratedClassifierCV(rbfsvm_optimal,   # RBFSVM model.\n",
    "                                       method='sigmoid', # sigmoid function.\n",
    "                                       cv=5)             # crossvalidation #'s.\n",
    "    \n",
    "calibratedCCV.fit(X_train_stdzd, Y_train)                # fit the model on the training set.\n",
    "Y_pred = calibratedCCV.predict_proba(X_test_stdzd)[:, 1] # predict class probabilities on the testset.\n",
    "\n",
    "# Set the end time of the current cell run.\n",
    "endtime_rbfsvm_tfidf_avgw2v = datetime.datetime.now()\n",
    "\n",
    "# Print the cell run duration.\n",
    "print(\"Starttime is : {}\".format(starttime_rbfsvm_tfidf_avgw2v))\n",
    "print(\"Endtime   is : {}\".format(endtime_rbfsvm_tfidf_avgw2v))"
   ]
  },
  {
   "cell_type": "markdown",
   "metadata": {},
   "source": [
    "#### [5.2.4.11] : Plot the ROC Curve."
   ]
  },
  {
   "cell_type": "code",
   "execution_count": 66,
   "metadata": {},
   "outputs": [
    {
     "data": {
      "image/png": "[encoded data removed]",
      "text/plain": [
       "<matplotlib.figure.Figure at 0x24e80e6da58>"
      ]
     },
     "metadata": {},
     "output_type": "display_data"
    }
   ],
   "source": [
    "# Import the modules\n",
    "from sklearn.metrics import roc_curve\n",
    "import matplotlib.pyplot as plt\n",
    "\n",
    "# Calculate the RoC curve\n",
    "fpr, tpr, thresholds = roc_curve(Y_test,Y_pred,pos_label=1)   # compute the roc curve.\n",
    "plt.plot([0, 1], [0, 1], linestyle='--')                      # plot the 50% probability line.\n",
    "plt.plot(fpr, tpr, marker='.')                                # plot the roc curve for the model.\n",
    "plt.title(\"ROC Curve.\")                                       # set the title of the plot.\n",
    "plt.xlabel(\"False Positive Rate\")                             # set the x label of the plot.\n",
    "plt.ylabel(\"True Positive Rate\")                              # set the y label of the plot.\n",
    "plt.show()                                                    # show the plot."
   ]
  },
  {
   "cell_type": "markdown",
   "metadata": {},
   "source": [
    "#### [5.2.4.12] Plot the classifier performance metrics."
   ]
  },
  {
   "cell_type": "code",
   "execution_count": 67,
   "metadata": {},
   "outputs": [
    {
     "data": {
      "image/png": "[encoded data removed]",
      "text/plain": [
       "<matplotlib.figure.Figure at 0x24e98e17630>"
      ]
     },
     "metadata": {},
     "output_type": "display_data"
    },
    {
     "name": "stdout",
     "output_type": "stream",
     "text": [
      "\n",
      "The class composition in the testset is :\n",
      "1    3297\n",
      "0     703\n",
      "Name: Comment, dtype: int64\n"
     ]
    }
   ],
   "source": [
    "# evaluate the model and report the metrics.\n",
    "from sklearn.metrics import confusion_matrix\n",
    "conf_mat = confusion_matrix(Y_test, Y_pred_test)\n",
    "fig, ax = plt.subplots(figsize=(5,5))\n",
    "sns.heatmap(conf_mat, annot=True, fmt='d'\n",
    "            ,xticklabels=['negative','positive'], yticklabels=['negative','positive'])\n",
    "plt.title('Confusion Matrix : (Vectorizer = TFIDF-AvgWord2Vec)')\n",
    "plt.ylabel('Actual')\n",
    "plt.xlabel('Predicted')\n",
    "plt.show()\n",
    "\n",
    "#Class composition in the testset.\n",
    "dfYTest = pd.DataFrame(list(Y_test),columns=['Comment'])\n",
    "print(\"\\nThe class composition in the testset is :\")\n",
    "print(dfYTest[\"Comment\"].value_counts())"
   ]
  },
  {
   "cell_type": "code",
   "execution_count": null,
   "metadata": {},
   "outputs": [],
   "source": []
  },
  {
   "cell_type": "markdown",
   "metadata": {},
   "source": [
    "#### [5.2.4.13] : Load metrics into the summary table for TFIDF-AvgWord2Vec."
   ]
  },
  {
   "cell_type": "code",
   "execution_count": 68,
   "metadata": {},
   "outputs": [],
   "source": [
    "# Import the metrics module.\n",
    "from sklearn.metrics import accuracy_score\n",
    "from sklearn.metrics import precision_score\n",
    "from sklearn.metrics import recall_score\n",
    "from sklearn.metrics import f1_score\n",
    "from sklearn.metrics import roc_auc_score\n",
    "\n",
    "# Add the classification metrics to the table.\n",
    "# Add the classification metrics to the final summary table.\n",
    "summaryTableRBFKernel.add_row(['RBFKernel','TFIDF-AvgWord2Vec',optimal_C,'Accuracy',accuracy_score(Y_test,Y_pred_test)])\n",
    "summaryTableRBFKernel.add_row(['-','-',optimal_C,'Precision',precision_score(Y_test,Y_pred_test)])\n",
    "summaryTableRBFKernel.add_row(['-','-',optimal_C,'Recall',recall_score(Y_test,Y_pred_test)])\n",
    "summaryTableRBFKernel.add_row(['-','-',optimal_C,'F1 Score',f1_score(Y_test,Y_pred_test)])\n",
    "summaryTableRBFKernel.add_row(['-','-',optimal_C,'AUC Score',roc_auc_score(Y_test,Y_pred)])\n",
    "summaryTableRBFKernel.add_row(['-','-',optimal_C,'ConfusionMatrix',confusion_matrix(Y_test, Y_pred_test)])\n",
    "summaryTableRBFKernel.add_row(['----------','----------','-----------','----------','----------'])\n"
   ]
  },
  {
   "cell_type": "code",
   "execution_count": null,
   "metadata": {},
   "outputs": [],
   "source": []
  },
  {
   "cell_type": "markdown",
   "metadata": {},
   "source": [
    "# [6] Conclusions"
   ]
  },
  {
   "cell_type": "code",
   "execution_count": null,
   "metadata": {},
   "outputs": [],
   "source": [
    "from IPython.display import Image "
   ]
  },
  {
   "cell_type": "markdown",
   "metadata": {},
   "source": [
    "#### LinearKernel SVM :"
   ]
  },
  {
   "cell_type": "code",
   "execution_count": 71,
   "metadata": {},
   "outputs": [
    {
     "data": {
      "image/png": "[encoded data removed]",
      "text/plain": [
       "<IPython.core.display.Image object>"
      ]
     },
     "execution_count": 71,
     "metadata": {},
     "output_type": "execute_result"
    }
   ],
   "source": [
    "Image(filename='D:\\Plot\\SummaryTable_LinearSVM.PNG')"
   ]
  },
  {
   "cell_type": "markdown",
   "metadata": {},
   "source": [
    "#### Based on the above table, the Vectorizer that gives the best AUC is TF-IDF. Since its False Positives and False Negatives are minimum among all the vectorizer considered. The optimal AUC score among all vectorizer considered is TF-IDF . "
   ]
  },
  {
   "cell_type": "code",
   "execution_count": null,
   "metadata": {},
   "outputs": [],
   "source": []
  },
  {
   "cell_type": "markdown",
   "metadata": {},
   "source": [
    "#### RBFKernel SVM :"
   ]
  },
  {
   "cell_type": "code",
   "execution_count": 72,
   "metadata": {},
   "outputs": [
    {
     "data": {
      "image/png": "[encoded data removed]",
      "text/plain": [
       "<IPython.core.display.Image object>"
      ]
     },
     "execution_count": 72,
     "metadata": {},
     "output_type": "execute_result"
    }
   ],
   "source": [
    "Image(filename='D:\\Plot\\SummaryTable_RBFKernelSVM.PNG')"
   ]
  },
  {
   "cell_type": "markdown",
   "metadata": {},
   "source": [
    "#### Based on the above table, the Vectorizer that gives the best AUC is TF-IDF. Since its False Positives and False Negatives are minimum among all the vectorizer considered. The optimal AUC score among all vectorizer considered is TF-IDF . "
   ]
  },
  {
   "cell_type": "code",
   "execution_count": null,
   "metadata": {},
   "outputs": [],
   "source": []
  }
 ],
 "metadata": {
  "kernelspec": {
   "display_name": "Python 3",
   "language": "python",
   "name": "python3"
  },
  "language_info": {
   "codemirror_mode": {
    "name": "ipython",
    "version": 3
   },
   "file_extension": ".py",
   "mimetype": "text/x-python",
   "name": "python",
   "nbconvert_exporter": "python",
   "pygments_lexer": "ipython3",
   "version": "3.6.4"
  }
 },
 "nbformat": 4,
 "nbformat_minor": 2
}
