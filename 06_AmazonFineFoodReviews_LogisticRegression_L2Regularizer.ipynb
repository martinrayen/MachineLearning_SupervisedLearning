{
 "cells": [
  {
   "cell_type": "code",
   "execution_count": null,
   "metadata": {},
   "outputs": [],
   "source": []
  },
  {
   "cell_type": "markdown",
   "metadata": {},
   "source": [
    "### Objective : \n",
    "#### To apply Logistic Regression algorithm with L2 Regularizer on Amazon food reviews dataset for each of the vectorization below : \n",
    "                  1. Bag Of Words (BoW)\n",
    "                  2. TermFrequency-InverseDocumentFrequency (TF-IDF)\n",
    "                  3. Word2Vec (W2V)\n",
    "                  4. AverageWord2Vec (AvgW2V)\n",
    "                  \n",
    "#### To determine the sentiment polarity, i,e.  Given a food review text, predict whether the score is Positive or Negative.\n",
    "#### NOTE :\n",
    "    1. Sort the dataset based on timestamp in ascending order.\n",
    "    2. Split the dataset into Training (60%),Cross-validation (20%) and Test (20%) .\n",
    "    3. Apply Elbow-Method on the cross-validation set to find optimal 'lambda' in Logistic Regression.\n",
    "    4. Calculate C = Inverse(lambda), to be passed to the LR method in sklearn.\n",
    "    5. Fit the model on the dataset X.\n",
    "    6. Perfrom pertubation test on X.\n",
    "        (a) Get the weights W after fitting the model on the dataset X.\n",
    "        (b) Add noise to the dataset X(X1 = X + e) and get the new dataset X1. If X is sparse matrix then \n",
    "            X1 = (X.data + e) .\n",
    "        (c) Fit the model again on dataset X1 and get the weights W1.\n",
    "        (d) Find the % change between W and W1 \n",
    "            (( (|W-W1|)/(W))*100)\n",
    "        (e) Print the features whose % change is more than a threshold x.\n",
    "            Use elbow method to determine the threshold value.\n",
    "    4. Determine feature importance for positive and negative classes.\n",
    "    5. Compute and report the following performane metrics for the vectorization mentioned above.\n",
    "       (a) Accuracy\n",
    "       (b) Precision\n",
    "       (c) Recall\n",
    "       (d) F1-Score\n",
    "       (e) Confusion Matrix\n",
    "    6. Perform feature engineering / hyper-parameter tuning to make the model better by reducing FalsePositives.\n",
    "    7. Do sparsity and multicollinearity for any of the vectorizers. BoW or tf-idf is recommended.\n",
    "\n",
    "    Author : Joseph MT Vijay\n",
    "    Date   : 30-Nov-2018\n"
   ]
  },
  {
   "cell_type": "code",
   "execution_count": null,
   "metadata": {},
   "outputs": [],
   "source": []
  },
  {
   "cell_type": "markdown",
   "metadata": {},
   "source": [
    "#### Load the required libraries."
   ]
  },
  {
   "cell_type": "code",
   "execution_count": 1,
   "metadata": {},
   "outputs": [
    {
     "name": "stdout",
     "output_type": "stream",
     "text": [
      "Collecting https://pypi.python.org/packages/source/P/PrettyTable/prettytable-0.7.2.tar.bz2\n",
      "  Using cached prettytable-0.7.2.tar.bz2\n",
      "  Requirement already satisfied (use --upgrade to upgrade): prettytable==0.7.2 from https://pypi.python.org/packages/source/P/PrettyTable/prettytable-0.7.2.tar.bz2 in c:\\programdata\\anaconda3\\lib\\site-packages\n",
      "Building wheels for collected packages: prettytable\n",
      "  Running setup.py bdist_wheel for prettytable: started\n",
      "  Running setup.py bdist_wheel for prettytable: finished with status 'done'\n",
      "  Stored in directory: C:\\Users\\Vijay Joseph\\AppData\\Local\\pip\\Cache\\wheels\\29\\73\\c9\\3e063a66859af18585f8e1439f92dcc27b8c13ae400bb8c89e\n",
      "Successfully built prettytable\n"
     ]
    },
    {
     "name": "stderr",
     "output_type": "stream",
     "text": [
      "You are using pip version 9.0.1, however version 18.1 is available.\n",
      "You should consider upgrading via the 'python -m pip install --upgrade pip' command.\n"
     ]
    }
   ],
   "source": [
    "# Load the required libraries.\n",
    "%matplotlib inline\n",
    "import warnings\n",
    "warnings.filterwarnings(\"ignore\")\n",
    "\n",
    "import pandas as pd\n",
    "import numpy as np\n",
    "import matplotlib.pyplot as plt\n",
    "import seaborn as sns\n",
    "from sklearn.feature_extraction.text import TfidfTransformer\n",
    "from sklearn.feature_extraction.text import TfidfVectorizer\n",
    "from sklearn.feature_extraction.text import CountVectorizer\n",
    "from sklearn.metrics import confusion_matrix\n",
    "from sklearn import metrics\n",
    "import pickle\n",
    "# Install prettytable\n",
    "import sys\n",
    "!{sys.executable} -m pip install https://pypi.python.org/packages/source/P/PrettyTable/prettytable-0.7.2.tar.bz2"
   ]
  },
  {
   "cell_type": "markdown",
   "metadata": {},
   "source": [
    "#### Load the Pre-processed Amazon Reviews Dataset."
   ]
  },
  {
   "cell_type": "code",
   "execution_count": 2,
   "metadata": {},
   "outputs": [],
   "source": [
    "# Load the pre-processed Amazon food review dataset.\n",
    "# Please note : the contents of the file \"finalCleanedText\" contains Text inclusive of summary comments \n",
    "# present in the Amazon food review dataset.\n",
    "\n",
    "final = ''\n",
    "final = pd.read_csv(\"finalCleanedText.csv\")"
   ]
  },
  {
   "cell_type": "markdown",
   "metadata": {},
   "source": [
    "#### Apply Time Based Sorting (TBS)."
   ]
  },
  {
   "cell_type": "code",
   "execution_count": 3,
   "metadata": {},
   "outputs": [],
   "source": [
    "# Add a new column for TimeStamp that is of Datetime datatype,since the dataset's time column is of integer datatype.\n",
    "import datetime\n",
    "\n",
    "# Assign the Time column to a new variable.\n",
    "final_timesplit = final['Time']\n",
    "\n",
    "# Convert the datatype of the time column from integer to datetime.\n",
    "final_timesplit = final_timesplit.apply(datetime.datetime.fromtimestamp)\n",
    "\n",
    "# Create a new column to store the new time column whose datatype is datetime\n",
    "final['TimeSplit']  = final_timesplit\n",
    "\n",
    "# Sort the final dataset in descending order of time.\n",
    "final_dataset = final.sort_values(['TimeSplit'],ascending=False)"
   ]
  },
  {
   "cell_type": "markdown",
   "metadata": {},
   "source": [
    "#### Sample 100K points based on time based sorting"
   ]
  },
  {
   "cell_type": "code",
   "execution_count": 4,
   "metadata": {},
   "outputs": [],
   "source": [
    "#Sample 100K points after time based sorting.\n",
    "final = final_dataset[:100000]\n",
    "# Store label info separately.\n",
    "label = final['Score'][:100000]"
   ]
  },
  {
   "cell_type": "code",
   "execution_count": 5,
   "metadata": {},
   "outputs": [
    {
     "name": "stdout",
     "output_type": "stream",
     "text": [
      "(100000, 14)\n",
      "(100000,)\n"
     ]
    }
   ],
   "source": [
    "# Print the shape of the input variables and output variables.\n",
    "print(final.shape)\n",
    "print(label.shape)"
   ]
  },
  {
   "cell_type": "code",
   "execution_count": 6,
   "metadata": {},
   "outputs": [
    {
     "name": "stdout",
     "output_type": "stream",
     "text": [
      "262240    positive\n",
      "33119     positive\n",
      "353804    negative\n",
      "328939    negative\n",
      "296377    positive\n",
      "Name: Score, dtype: object\n",
      "262240    1\n",
      "33119     1\n",
      "353804    0\n",
      "328939    0\n",
      "296377    1\n",
      "Name: Score, dtype: int64\n"
     ]
    }
   ],
   "source": [
    "# The class label \"Score\" has distinct values as Positive and Negative, convert them to 1 for Postive and 0 for Negative.\n",
    "print(label[:5])\n",
    "Y = final['Score'].map({\"positive\":1,\"negative\":0})\n",
    "print(Y[:5])"
   ]
  },
  {
   "cell_type": "markdown",
   "metadata": {},
   "source": [
    "#### Split the data into Train, Cross-validation and Test dataset.\n",
    "    ==> Train = First 60% of the sorted complete dataset.\n",
    "    ==> CV    = Next  20% of the sorted complete dataset.\n",
    "    ==> Test  = Last  20% of the sorted complete dataset."
   ]
  },
  {
   "cell_type": "code",
   "execution_count": 7,
   "metadata": {},
   "outputs": [],
   "source": [
    "# Assign the cleaned text and the class label for the split.\n",
    "X = final['CleanedText']\n",
    "Y = final['Score'].map({\"positive\":1,\"negative\":0})\n",
    "\n",
    "# Split the dataset in the following ratios:\n",
    "# Total row considered is 364171.\n",
    "\n",
    "# Input split\n",
    "X_train = X[0:60000]            #Train = First 60% of the sorted dataframe;\n",
    "X_cv    = X[60000:80000]        #CV    = Next  20% of the sorted dataframe;\n",
    "X_test  = X[80000:100000]       #Test  = Remaining 20% of the sorted dataframe.\n",
    "\n",
    "#Class lable split.\n",
    "Y_train = Y[0:60000]            #Train = First 60% of the sorted dataframe;\n",
    "Y_cv    = Y[60000:80000]        #CV    = Next  20% of the sorted dataframe;\n",
    "Y_test  = Y[80000:100000]       #Test  = Remainning 20% of the sorted dataframe."
   ]
  },
  {
   "cell_type": "code",
   "execution_count": 8,
   "metadata": {},
   "outputs": [],
   "source": [
    "# Load the prettytable\n",
    "from prettytable import PrettyTable\n",
    "\n",
    "# Instantiate the prettytable module.\n",
    "summaryTable = PrettyTable()\n",
    "# Set the column names for the table.\n",
    "summaryTable.field_names = [\"Text-VectorizationType\",\"Hyper-Paramter(lambda)\",\"Performance Metric\", \"Value\"]\n"
   ]
  },
  {
   "cell_type": "code",
   "execution_count": null,
   "metadata": {},
   "outputs": [],
   "source": []
  },
  {
   "cell_type": "markdown",
   "metadata": {},
   "source": [
    "### Vectorization Method : Bag Of Words (BoW)"
   ]
  },
  {
   "cell_type": "markdown",
   "metadata": {},
   "source": [
    "#### Convert reviews present in trainingset into numeric vectors using Bag Of Words (BoW)"
   ]
  },
  {
   "cell_type": "code",
   "execution_count": 9,
   "metadata": {},
   "outputs": [
    {
     "name": "stdout",
     "output_type": "stream",
     "text": [
      "the type of count vectorizer  <class 'scipy.sparse.csr.csr_matrix'>\n",
      "the shape of out text BOW vectorizer  (60000, 901762)\n",
      "the number of unique words  901762\n"
     ]
    }
   ],
   "source": [
    "# Apply BoW vectorization.\n",
    "\n",
    "#Instantiate the BoW vectorizer.\n",
    "count_vect = CountVectorizer(dtype='float64',ngram_range=(1,2)) #in scikit-learn bi-gram\n",
    "\n",
    "#Train you countvectorizer on the train data\n",
    "final_counts = count_vect.fit_transform(X_train.values.astype('U'))\n",
    "\n",
    "#Print the type,shape and unique words of the BoW vectorizer on the training set. \n",
    "print(\"the type of count vectorizer \",type(final_counts))\n",
    "print(\"the shape of out text BOW vectorizer \",final_counts.get_shape())\n",
    "print(\"the number of unique words \", final_counts.get_shape()[1])"
   ]
  },
  {
   "cell_type": "markdown",
   "metadata": {},
   "source": [
    "#### Use the BoW vectorizer trained in the preceding step to convert CVset and Testset to vectors."
   ]
  },
  {
   "cell_type": "code",
   "execution_count": 10,
   "metadata": {},
   "outputs": [
    {
     "name": "stdout",
     "output_type": "stream",
     "text": [
      "the type of count vectorizer  <class 'scipy.sparse.csr.csr_matrix'>\n",
      "the shape of out text BOW vectorizer  (20000, 901762)\n",
      "the number of unique words  901762\n",
      "the type of count vectorizer  <class 'scipy.sparse.csr.csr_matrix'>\n",
      "the shape of out text BOW vectorizer  (20000, 901762)\n",
      "the number of unique words  901762\n"
     ]
    }
   ],
   "source": [
    "#Use the same vectorizer trained on the training set, on the cv set.\n",
    "final_counts_cvset = count_vect.transform(X_cv.values)\n",
    "\n",
    "#Print the type,shape and unique words of the BoW vectorizer on the testset. \n",
    "print(\"the type of count vectorizer \",type(final_counts_cvset))\n",
    "print(\"the shape of out text BOW vectorizer \",final_counts_cvset.get_shape())\n",
    "print(\"the number of unique words \", final_counts_cvset.get_shape()[1])\n",
    "\n",
    "#Use the same vectorizer trained on the training set, on the test set.\n",
    "final_counts_testset = count_vect.transform(X_test.values)\n",
    "\n",
    "#Print the type,shape and unique words of the BoW vectorizer on the testset. \n",
    "print(\"the type of count vectorizer \",type(final_counts_testset))\n",
    "print(\"the shape of out text BOW vectorizer \",final_counts_testset.get_shape())\n",
    "print(\"the number of unique words \", final_counts_testset.get_shape()[1])"
   ]
  },
  {
   "cell_type": "markdown",
   "metadata": {},
   "source": [
    "#### Standardize Data"
   ]
  },
  {
   "cell_type": "code",
   "execution_count": 11,
   "metadata": {},
   "outputs": [],
   "source": [
    "# Data-preprocessing: Normalizing the data\n",
    "\n",
    "# Import the Normailizer module.\n",
    "from sklearn.preprocessing import Normalizer\n",
    "\n",
    "# Instantiate the Normailizer module.\n",
    "normalizer = Normalizer()\n",
    "\n",
    "#Standardize the normailizer on the train data.\n",
    "X_train_stdzd = normalizer.fit_transform(final_counts)\n",
    "\n",
    "#Standardize the normailizer on the cv data.\n",
    "X_cv_stdzd = normalizer.fit_transform(final_counts_cvset)\n",
    "\n",
    "# use the same normalizer on the test set.\n",
    "X_test_stdzd  = normalizer.transform(final_counts_testset) "
   ]
  },
  {
   "cell_type": "markdown",
   "metadata": {},
   "source": [
    "#### Hyper-Parameter Tuning : Using the cross-validation dataset to calculate the optimal 'lambda' of LogisticRegression in BoW case."
   ]
  },
  {
   "cell_type": "code",
   "execution_count": 12,
   "metadata": {},
   "outputs": [
    {
     "name": "stdout",
     "output_type": "stream",
     "text": [
      "[5.0106352940962555, 2.70805020110221, 0.4054651081081644, -1.8971199848858813, -4.199705077879927, -6.502290170873972, -8.804875263868018]\n",
      "[0.9608128601759175, 0.9662616418923087, 0.9711538461538461, 0.9707838001208946, 0.9653773721570331, 0.9600854766084103, 0.9601655861907366]\n"
     ]
    },
    {
     "data": {
      "image/png": "[encoded data removed]",
      "text/plain": [
       "<matplotlib.figure.Figure at 0x14b05e490b8>"
      ]
     },
     "metadata": {},
     "output_type": "display_data"
    },
    {
     "name": "stdout",
     "output_type": "stream",
     "text": [
      "Starttime is : 2018-11-23 11:21:58.562983\n",
      "Endtime   is : 2018-11-23 11:23:28.822495\n"
     ]
    }
   ],
   "source": [
    "# Import the LogisticRegression and precision modules.\n",
    "from sklearn.linear_model import LogisticRegression\n",
    "from sklearn.metrics import precision_score\n",
    "\n",
    "# Set the start time of the current cell run.\n",
    "starttime_lr_bow = datetime.datetime.now()\n",
    "\n",
    "# Set the range for the hyper-parameters.\n",
    "# We Know from theory:\n",
    "#          when lambda = 0, then model overfits\n",
    "#          when lambda tends to infinity , then model underfits\n",
    "\n",
    "# Experiment with different combination of C ranges.\n",
    "# Here C = Inverse(Lambda) where lambda is the hyper-parameter of the LR model\n",
    "#C = [100.0,10.0,1.0,0.1,0.01,0.001,0.0001,0.00001,0.000001]\n",
    "#C = [10000,1000,100,10,1,0.1,0.01,0.001]\n",
    "#C = [100000000,10000000,1000000,100000,10000,1000,100,10,1,0.1,0.01,0.001]\n",
    "#C = [10000000000,1000000000,100000000,10000000,1000000,1000,1.0,0.1,0.01,0.001,0.0001,0.00001]\n",
    "C = [150,15,1.5,0.15,0.015,0.0015,0.00015]\n",
    "\n",
    "# Use the cross-validation dataset to determine the best hyper-parameter C.\n",
    "# Loop through various values of C.\n",
    "plot_X = []\n",
    "plot_Y = []\n",
    "for i in C:\n",
    "    # Iterate through various values of C = inverse(lambda),\n",
    "    lr_optimal = LogisticRegression(penalty='l2',            # use L2 regularizer.\n",
    "                                    C=(i),                   # use Inverse of Lambda.\n",
    "                                    class_weight='balanced', # uses the values of y to automatically adjust weights in the input data.\n",
    "                                    solver='sag')            # solver = 'sag' because of high dimension and L2 regularizer.\n",
    "    \n",
    "    lr_optimal.fit(X_train_stdzd, Y_train)       # fitting the Logistic Regression model on the training set.\n",
    "    Y_pred = lr_optimal.predict(X_cv_stdzd)      # predict the response from the Logistic Regression model on the cv set.\n",
    "    plot_X.append(np.log(i))                     # plot log(InverseOfLambda) \"C\" in the x-axis.\n",
    "    plot_Y.append(precision_score(Y_cv,Y_pred))  # plot precision score in the y-axis.\n",
    "\n",
    "#print X,Y\n",
    "print(plot_X)\n",
    "print(plot_Y)\n",
    "\n",
    "# Plot X-axis = log(C),Y-axis = precision to determine the best hyper-parameter.\n",
    "plt.plot(plot_X,plot_Y)\n",
    "plt.title(\"Plot of CrossValidationPrecision vs log(Inverse of lambda) .\")  # Set the title of the plot.\n",
    "plt.xlabel(\"log(Inverse of lambda)\")                                       # Set the x label of the plot.\n",
    "plt.ylabel(\"CrossValidation Precision\")                                    # Set the y label of the plot.\n",
    "plt.show()                                                                 # render the plot.\n",
    "\n",
    "# Set the end time of the current cell run.\n",
    "endtime_lr_bow = datetime.datetime.now()\n",
    "\n",
    "# Print the cell run duration.\n",
    "print(\"Starttime is : {}\".format(starttime_lr_bow))\n",
    "print(\"Endtime   is : {}\".format(endtime_lr_bow))"
   ]
  },
  {
   "cell_type": "code",
   "execution_count": 12,
   "metadata": {},
   "outputs": [
    {
     "name": "stdout",
     "output_type": "stream",
     "text": [
      "1.499302500056767\n"
     ]
    }
   ],
   "source": [
    "print(np.exp(0.405))"
   ]
  },
  {
   "cell_type": "code",
   "execution_count": 13,
   "metadata": {},
   "outputs": [
    {
     "name": "stdout",
     "output_type": "stream",
     "text": [
      "Trainingset      X: (60000, 901762)\n",
      "CVset            X: (20000, 901762)\n",
      "Testset          X: (20000, 901762)\n",
      "Trainingset      Y: (60000,)\n",
      "CVset            Y: (20000,)\n",
      "Testset          Y: (20000,)\n"
     ]
    }
   ],
   "source": [
    "# Print the shape of the Input features X and class label Y for training and test set.\n",
    "print(\"Trainingset      X: {}\".format(X_train_stdzd.shape))\n",
    "#print(\"TrainingsetNoise X: {}\".format(X_train_stdzd_withNoise.shape))\n",
    "print(\"CVset            X: {}\".format(X_cv_stdzd.shape))\n",
    "print(\"Testset          X: {}\".format(X_test_stdzd.shape))\n",
    "\n",
    "print(\"Trainingset      Y: {}\".format(Y_train.shape))\n",
    "print(\"CVset            Y: {}\".format(Y_cv.shape))\n",
    "print(\"Testset          Y: {}\".format(Y_test.shape))"
   ]
  },
  {
   "cell_type": "markdown",
   "metadata": {},
   "source": [
    "#### Error plots for varying combination of lambda ranges."
   ]
  },
  {
   "cell_type": "markdown",
   "metadata": {},
   "source": [
    "#### Lambda range : 100 to 10000"
   ]
  },
  {
   "attachments": {
    "Plot_CVPrecision_vs_Lambda_100_10000_Log%28InverseOfLambda%29.png": {
     "image/png": "[encoded data removed]"
    }
   },
   "cell_type": "markdown",
   "metadata": {},
   "source": [
    "![Plot_CVPrecision_vs_Lambda_100_10000_Log%28InverseOfLambda%29.png](attachment:Plot_CVPrecision_vs_Lambda_100_10000_Log%28InverseOfLambda%29.png)"
   ]
  },
  {
   "cell_type": "markdown",
   "metadata": {},
   "source": [
    "#### Observations :\n",
    "    We observe, the curve moving towards a uniform distribution @ lambda > 2.\n",
    "    Here lambda ranges from 100 to 10000."
   ]
  },
  {
   "cell_type": "code",
   "execution_count": null,
   "metadata": {},
   "outputs": [],
   "source": []
  },
  {
   "cell_type": "markdown",
   "metadata": {},
   "source": [
    "#### Lambda Range : 0 to 100"
   ]
  },
  {
   "attachments": {
    "Plot_CVPrecision_vs_Lambda_0_100_Log%28InverseOfLambda%29.png": {
     "image/png": "[encoded data removed]"
    }
   },
   "cell_type": "markdown",
   "metadata": {},
   "source": [
    "![Plot_CVPrecision_vs_Lambda_0_100_Log%28InverseOfLambda%29.png](attachment:Plot_CVPrecision_vs_Lambda_0_100_Log%28InverseOfLambda%29.png)"
   ]
  },
  {
   "cell_type": "markdown",
   "metadata": {},
   "source": [
    "#### Observations :\n",
    "    We observe, the curve moving linearly, after an initial period of uniformity.\n",
    "    Need to check the lambda range from 100 to 0.00001 .\n",
    "    Here lambda ranges from 0 to 100."
   ]
  },
  {
   "cell_type": "code",
   "execution_count": null,
   "metadata": {},
   "outputs": [],
   "source": []
  },
  {
   "cell_type": "markdown",
   "metadata": {},
   "source": [
    "#### Lambda range : 0.00015 to 150 "
   ]
  },
  {
   "attachments": {
    "Plot_CVPrecision_vs_Lambda_0.0001_150_%28InverseOfLambda%29.png": {
     "image/png": "[encoded data removed]"
    }
   },
   "cell_type": "markdown",
   "metadata": {},
   "source": [
    "![Plot_CVPrecision_vs_Lambda_0.0001_150_%28InverseOfLambda%29.png](attachment:Plot_CVPrecision_vs_Lambda_0.0001_150_%28InverseOfLambda%29.png)"
   ]
  },
  {
   "cell_type": "markdown",
   "metadata": {},
   "source": [
    "#### Observations :\n",
    "    The cross-validation precision is maximum when log(lambda) ~= 0.405 .\n",
    "    Therefore lambda = exponential(log(lambda)) = np.exp(0.405) = 1.50\n",
    "    Here lambda ranges from 0.00015 to 150."
   ]
  },
  {
   "cell_type": "markdown",
   "metadata": {},
   "source": [
    "#### Hyper-parameter Choice : \n",
    "      Based on the CV plots for varying combination of lambda ranges, lambda = 1.5 when lambda range is between 0.00015 and 150 is the best choice."
   ]
  },
  {
   "cell_type": "code",
   "execution_count": null,
   "metadata": {},
   "outputs": [],
   "source": []
  },
  {
   "cell_type": "markdown",
   "metadata": {},
   "source": [
    "#### Train and Fit the Logistic Regression model in the training set. Compute the performance metrics by predicting the model on the test set."
   ]
  },
  {
   "cell_type": "code",
   "execution_count": 14,
   "metadata": {},
   "outputs": [
    {
     "name": "stdout",
     "output_type": "stream",
     "text": [
      "Starttime : 2018-11-23 11:25:16.335964\n",
      "Endtime   : 2018-11-23 11:25:20.817262\n"
     ]
    }
   ],
   "source": [
    "# ============================== LR with lambda = optimal lambda ===============================================\n",
    "\n",
    "# Set the start time of the current cell run.\n",
    "starttime_lr_bow = datetime.datetime.now()\n",
    "\n",
    "# instantiate the Logistic Regression model with lambda = 1.50 based on the above error plots .\n",
    "lr_optimal = LogisticRegression(penalty='l2',            # use L2 regularizer.\n",
    "                                C=(1.50),                # use Inverse of Lambda.\n",
    "                                class_weight='balanced', # uses the values of y to automatically adjust weights in the input data.\n",
    "                                solver='sag')            # solver = 'sag' because of high dimension and L2 regularizer.\n",
    "\n",
    "lr_optimal.fit(X_train_stdzd, Y_train)           # fitting the Logistic Regression model.\n",
    "Y_pred_test = lr_optimal.predict(X_test_stdzd)   # predict the response from the Logistic Regression model.\n",
    "\n",
    "# Set the end time of the current cell run.\n",
    "endtime_lr_bow = datetime.datetime.now()\n",
    "\n",
    "# Print the cell run duration.\n",
    "print(\"Starttime : {}\".format(starttime_lr_bow))\n",
    "print(\"Endtime   : {}\".format(endtime_lr_bow))"
   ]
  },
  {
   "cell_type": "code",
   "execution_count": null,
   "metadata": {},
   "outputs": [],
   "source": []
  },
  {
   "cell_type": "markdown",
   "metadata": {},
   "source": [
    "#### Plot the classifier performance metrics."
   ]
  },
  {
   "cell_type": "code",
   "execution_count": 15,
   "metadata": {},
   "outputs": [
    {
     "data": {
      "image/png": "[encoded data removed]",
      "text/plain": [
       "<matplotlib.figure.Figure at 0x14b05e49b38>"
      ]
     },
     "metadata": {},
     "output_type": "display_data"
    }
   ],
   "source": [
    "# evaluate the model and report the metrics.\n",
    "from sklearn.metrics import confusion_matrix\n",
    "conf_mat = confusion_matrix(Y_test, Y_pred_test)\n",
    "fig, ax = plt.subplots(figsize=(5,5))\n",
    "sns.heatmap(conf_mat, annot=True, fmt='d'\n",
    "            ,xticklabels=['negative','positive'], yticklabels=['negative','positive'])\n",
    "plt.title('Confusion Matrix : (Vectorizer = BoW)')\n",
    "plt.ylabel('Actual')\n",
    "plt.xlabel('Predicted')\n",
    "plt.show()"
   ]
  },
  {
   "cell_type": "code",
   "execution_count": 16,
   "metadata": {},
   "outputs": [
    {
     "name": "stdout",
     "output_type": "stream",
     "text": [
      "1    16442\n",
      "0     3558\n",
      "Name: Comment, dtype: int64\n"
     ]
    }
   ],
   "source": [
    "#Class composition in the testset.\n",
    "dfYTest = pd.DataFrame(list(Y_test),columns=['Comment'])\n",
    "#print(list(Y_test))\n",
    "print(dfYTest[\"Comment\"].value_counts())"
   ]
  },
  {
   "cell_type": "code",
   "execution_count": 17,
   "metadata": {
    "scrolled": true
   },
   "outputs": [
    {
     "name": "stdout",
     "output_type": "stream",
     "text": [
      "Performance Metrics :\n",
      "+------------------------+--------------------+--------------------+\n",
      "| Text-VectorizationType | Performance Metric | Value              |\n",
      "+------------------------+--------------------+--------------------+\n",
      "|          BoW           |      Accuracy      | 0.91585            |\n",
      "|           -            |     Precision      | 0.9731965373517153 |\n",
      "|           -            |       Recall       | 0.923062887726554  |\n",
      "|           -            |      F1 Score      | 0.9474669912913194 |\n",
      "|           -            |  ConfusionMatrix   | [[ 3140   418]     |\n",
      "|                        |                    |  [ 1265 15177]]    |\n",
      "|       ----------       |    -----------     | ----------         |\n",
      "+------------------------+--------------------+--------------------+\n"
     ]
    }
   ],
   "source": [
    "# Load the classification metrics\n",
    "from sklearn.metrics import accuracy_score\n",
    "from sklearn.metrics import precision_score\n",
    "from sklearn.metrics import recall_score\n",
    "from sklearn.metrics import f1_score\n",
    "# Load the prettytable\n",
    "from prettytable import PrettyTable\n",
    "\n",
    "# Instantiate the prettytable module.\n",
    "x = PrettyTable()\n",
    "# Set the column names for the table.\n",
    "x.field_names = [\"Text-VectorizationType\",\"Performance Metric\", \"Value\"]\n",
    "\n",
    "# Add the classification metrics to the table.\n",
    "x.add_row(['BoW','Accuracy',accuracy_score(Y_test,Y_pred_test)])\n",
    "x.add_row(['-','Precision',precision_score(Y_test,Y_pred_test)])\n",
    "x.add_row(['-','Recall',recall_score(Y_test,Y_pred_test)])\n",
    "x.add_row(['-','F1 Score',f1_score(Y_test,Y_pred_test)])\n",
    "x.add_row(['-','ConfusionMatrix',confusion_matrix(Y_test, Y_pred_test)])\n",
    "x.add_row(['----------','-----------','----------'])\n",
    "\n",
    "# Add the classification metrics to the final summary table.\n",
    "summaryTable.add_row(['BoW','1.50','Accuracy',accuracy_score(Y_test,Y_pred_test)])\n",
    "summaryTable.add_row(['-','1.50','Precision',precision_score(Y_test,Y_pred_test)])\n",
    "summaryTable.add_row(['-','1.50','Recall',recall_score(Y_test,Y_pred_test)])\n",
    "summaryTable.add_row(['-','1.50','F1 Score',f1_score(Y_test,Y_pred_test)])\n",
    "summaryTable.add_row(['-','1.50','ConfusionMatrix',confusion_matrix(Y_test, Y_pred_test)])\n",
    "summaryTable.add_row(['----------','-----------','----------','----------'])\n",
    "\n",
    "\n",
    "# Apply data alignment.\n",
    "x.align[\"Value\"] = \"l\"\n",
    "\n",
    "# Print the table.\n",
    "print(\"Performance Metrics :\")\n",
    "print(x)"
   ]
  },
  {
   "cell_type": "code",
   "execution_count": null,
   "metadata": {},
   "outputs": [],
   "source": []
  },
  {
   "cell_type": "markdown",
   "metadata": {},
   "source": [
    "#### CHECK MULTICOLLINEARITY : \n",
    "###### Perform Pertubation Test."
   ]
  },
  {
   "cell_type": "code",
   "execution_count": 18,
   "metadata": {},
   "outputs": [
    {
     "name": "stdout",
     "output_type": "stream",
     "text": [
      "        ColumnIndex     Weight            Word\n",
      "267021       267021  10.426068           excel\n",
      "206555       206555   9.944563          delici\n",
      "576670       576670   9.487069         perfect\n",
      "47909         47909   9.227765          awesom\n",
      "69464         69464   9.062861            best\n",
      "348640       348640   8.519742           great\n",
      "899804       899804   7.813930           yummi\n",
      "462987       462987   7.592270            love\n",
      "23590         23590   7.098816            amaz\n",
      "376055       376055   6.633892  high recommend\n"
     ]
    }
   ],
   "source": [
    "# get the weights W for the dataset X_test_stdzd.\n",
    "wtBoWBeforeNoise = lr_optimal.coef_\n",
    "\n",
    "# nested tuple to store the indices where weights qualify a threshold.\n",
    "tupIndicesNonZeroBNoise = np.nonzero(wtBoWBeforeNoise)\n",
    "\n",
    "# get the indices of the words that qualify the weight criteria.\n",
    "indices_nonzeroBNoise = tupIndicesNonZeroBNoise[1][:]\n",
    "\n",
    "# print the weights of words that qualify the weight criteria.\n",
    "weightVector = wtBoWBeforeNoise[tupIndicesNonZeroBNoise]\n",
    "\n",
    "# print the features that meet the criteria.\n",
    "wordVector = np.take(count_vect.get_feature_names(), indices_nonzeroBNoise)\n",
    "\n",
    "# Prepare the data from the columnIndex,weightvector and wordvector.\n",
    "lstData = list(zip(indices_nonzeroBNoise,weightVector,wordVector))\n",
    "\n",
    "# create a dataframe to store the columnindex,weights,words of the text corpus.\n",
    "dfTopWords = pd.DataFrame(data=lstData,columns=['ColumnIndex','Weight','Word'])\n",
    "\n",
    "# Print the top 10 rows from the resultant dataframe.\n",
    "print(dfTopWords.sort_values(['Weight'],ascending=False).head(10))\n"
   ]
  },
  {
   "cell_type": "markdown",
   "metadata": {},
   "source": [
    "###### CHECK MULTICOLLINEARITY :  Add Noide to the training set."
   ]
  },
  {
   "cell_type": "code",
   "execution_count": 20,
   "metadata": {},
   "outputs": [
    {
     "name": "stdout",
     "output_type": "stream",
     "text": [
      "-9.465951987787341e-10\n",
      "(60000, 901762)\n",
      "(60000, 901762)\n",
      "(60000, 901762)\n"
     ]
    }
   ],
   "source": [
    "# Add Noise to the train set and fit the model again.\n",
    "\n",
    "# Create the noise that is normally distributed.\n",
    "epsilion = np.random.normal(loc=0.0,scale = 0.00000001)\n",
    "print(epsilion)\n",
    "\n",
    "#print the shape of the matrix before adding noise.\n",
    "print(X_train_stdzd.shape)\n",
    "# Store for temporary analysis purpose.\n",
    "X_train_stdzd_copy = X_train_stdzd\n",
    "# Add the noise to the training set.\n",
    "X_train_stdzd.data = X_train_stdzd.data + epsilion\n",
    "\n",
    "# Verify the shapes of the matrix has not changed.\n",
    "print(X_train_stdzd.shape)\n",
    "print(X_train_stdzd_copy.shape)"
   ]
  },
  {
   "cell_type": "code",
   "execution_count": null,
   "metadata": {},
   "outputs": [],
   "source": []
  },
  {
   "cell_type": "markdown",
   "metadata": {},
   "source": [
    "###### CHECK MULTICOLLINEARITY : \n",
    "    Train and fit the Logistic Regression model on the training set, that is enriched with noise data.\n",
    "    Use the parameters of the model from the prior run and compute the performance  metrics on the test set."
   ]
  },
  {
   "cell_type": "code",
   "execution_count": 22,
   "metadata": {},
   "outputs": [
    {
     "name": "stdout",
     "output_type": "stream",
     "text": [
      "Starttime : 2018-11-23 11:44:28.182658\n",
      "Endtime   : 2018-11-23 11:44:32.535440\n"
     ]
    }
   ],
   "source": [
    "# ============================== LR with lambda = optimal lambda ===============================================\n",
    "\n",
    "# Set the start time of the current cell run.\n",
    "starttime_lr_bow = datetime.datetime.now()\n",
    "\n",
    "# instantiate the Logistic Regression model with lambda = 0.01 based on the above error plots .\n",
    "lr_optimal = LogisticRegression(penalty='l2',            # use L2 regularizer.\n",
    "                                C=(1.50),                # use Inverse of Lambda.\n",
    "                                class_weight='balanced', # uses the values of y to automatically adjust weights in the input data.\n",
    "                                solver='sag')            # solver = 'sag' because of high dimension and L2 regularizer.\n",
    "\n",
    "lr_optimal.fit(X_train_stdzd, Y_train)                   # fitting the Logistic Regression model.\n",
    "Y_pred_test = lr_optimal.predict(X_test_stdzd)           # predict the response from the Logistic Regression model.\n",
    "\n",
    "# Set the end time of the current cell run.\n",
    "endtime_lr_bow = datetime.datetime.now()\n",
    "\n",
    "# Print the cell run duration.\n",
    "print(\"Starttime : {}\".format(starttime_lr_bow))\n",
    "print(\"Endtime   : {}\".format(endtime_lr_bow))"
   ]
  },
  {
   "cell_type": "markdown",
   "metadata": {},
   "source": [
    "###### CHECK MULTICOLLINEARITY : Plot the classifier performance metrics."
   ]
  },
  {
   "cell_type": "code",
   "execution_count": 23,
   "metadata": {},
   "outputs": [
    {
     "data": {
      "image/png": "[encoded data removed]",
      "text/plain": [
       "<matplotlib.figure.Figure at 0x14b01cd8518>"
      ]
     },
     "metadata": {},
     "output_type": "display_data"
    }
   ],
   "source": [
    "# evaluate the model and report the metrics.\n",
    "from sklearn.metrics import confusion_matrix\n",
    "conf_mat = confusion_matrix(Y_test, Y_pred_test)\n",
    "fig, ax = plt.subplots(figsize=(5,5))\n",
    "sns.heatmap(conf_mat, annot=True, fmt='d'\n",
    "            ,xticklabels=['negative','positive'], yticklabels=['negative','positive'])\n",
    "plt.title('Confusion Matrix : (Vectorizer = BoW);With Trainingset Noise.')\n",
    "plt.ylabel('Actual')\n",
    "plt.xlabel('Predicted')\n",
    "plt.show()"
   ]
  },
  {
   "cell_type": "markdown",
   "metadata": {},
   "source": [
    "###### CHECK MULTICOLLINEARITY : Compute the weights of the model after noise addition to the training set."
   ]
  },
  {
   "cell_type": "code",
   "execution_count": 24,
   "metadata": {},
   "outputs": [
    {
     "name": "stdout",
     "output_type": "stream",
     "text": [
      "        ColumnIndex     Weight            Word\n",
      "267021       267021  10.426093           excel\n",
      "206555       206555   9.944645          delici\n",
      "576670       576670   9.487100         perfect\n",
      "47909         47909   9.227831          awesom\n",
      "69464         69464   9.062472            best\n",
      "348640       348640   8.519585           great\n",
      "899804       899804   7.813770           yummi\n",
      "462987       462987   7.592419            love\n",
      "23590         23590   7.098793            amaz\n",
      "376055       376055   6.633706  high recommend\n"
     ]
    }
   ],
   "source": [
    "# get the weights W for the dataset X_test_stdzd.\n",
    "wtBoWAfterNoise = lr_optimal.coef_\n",
    "\n",
    "# nested tuple to store the indices where weights qualify a threshold.\n",
    "tupIndicesNonZeroANoise = np.nonzero(wtBoWAfterNoise)\n",
    "\n",
    "# get the indices of the words that qualify the weight criteria.\n",
    "indices_nonzeroANoise = tupIndicesNonZeroANoise[1][:]\n",
    "\n",
    "# print the weights of words that qualify the weight criteria.\n",
    "weightVector = wtBoWAfterNoise[tupIndicesNonZeroANoise]\n",
    "\n",
    "# print the features that meet the criteria.\n",
    "wordVector = np.take(count_vect.get_feature_names(), indices_nonzeroANoise)\n",
    "\n",
    "# Prepare the data from the columnIndex,weightvector and wordvector.\n",
    "lstData = list(zip(indices_nonzeroANoise,weightVector,wordVector))\n",
    "\n",
    "# create a dataframe to store the columnindex,weights,words of the text corpus.\n",
    "dfTopWordsNoise = pd.DataFrame(data=lstData,columns=['ColumnIndex','Weight','Word'])\n",
    "\n",
    "# Print the top 10 rows from the resultant dataframe.\n",
    "print(dfTopWordsNoise.sort_values(['Weight'],ascending=False).head(10))\n"
   ]
  },
  {
   "cell_type": "code",
   "execution_count": null,
   "metadata": {},
   "outputs": [],
   "source": []
  },
  {
   "cell_type": "markdown",
   "metadata": {},
   "source": [
    "###### CHECK MULTICOLLINEARITY : Find the Percentage change in weights of the fit model that had Noise in trainingdata with trainingdata that did not have noise."
   ]
  },
  {
   "cell_type": "code",
   "execution_count": 25,
   "metadata": {},
   "outputs": [],
   "source": [
    "# Formula : np.abs( ( (W-W') / (W)) * 100 )\n",
    "\n",
    "# Get the dataframe ready with the required columns to compute the weight percentage change.\n",
    "dfWeights = dfTopWords.join(dfTopWordsNoise,on='ColumnIndex',lsuffix='_withoutNoise', rsuffix='_withNoise')\n",
    "\n",
    "# Compute the percentage change in weights.\n",
    "dfWeights['WtPctChange'] = np.abs( (    (dfWeights['Weight_withoutNoise'] - dfWeights['Weight_withNoise'] )\n",
    "                                        /\n",
    "                                       (dfWeights['Weight_withoutNoise'])\n",
    "                                       * 100\n",
    "                                   )\n",
    "                                 )\n"
   ]
  },
  {
   "cell_type": "code",
   "execution_count": 36,
   "metadata": {},
   "outputs": [
    {
     "data": {
      "text/plain": [
       "count    9.017620e+05\n",
       "mean     1.846598e-02\n",
       "std      8.927371e-01\n",
       "min      1.271138e-07\n",
       "25%      3.283708e-03\n",
       "50%      7.547223e-03\n",
       "75%      1.477511e-02\n",
       "max      5.329916e+02\n",
       "Name: WtPctChange, dtype: float64"
      ]
     },
     "execution_count": 36,
     "metadata": {},
     "output_type": "execute_result"
    }
   ],
   "source": [
    "# Print the summary statistics of the Percentage Weight Change to consider the threshold range.\n",
    "dfWeights['WtPctChange'].describe()"
   ]
  },
  {
   "cell_type": "markdown",
   "metadata": {},
   "source": [
    "###### CHECK MULTICOLLINEARITY : Determine the threshold to be used, to extract features, whose Percentage Weight changes is significant between Weights of trainingset with noise and those without noise."
   ]
  },
  {
   "cell_type": "code",
   "execution_count": 26,
   "metadata": {},
   "outputs": [
    {
     "name": "stdout",
     "output_type": "stream",
     "text": [
      "[8e-05, 0.0008, 0.008, 0.08, 0.8, 8.0, 80.0, 800.0]\n",
      "[5880, 52286, 411369, 421047, 10306, 780, 87, 7]\n"
     ]
    },
    {
     "data": {
      "image/png": "[encoded data removed]",
      "text/plain": [
       "<matplotlib.figure.Figure at 0x14b0d1ec6d8>"
      ]
     },
     "metadata": {},
     "output_type": "display_data"
    }
   ],
   "source": [
    "# Use Elbow method to determine the threshold.\n",
    "# For plotting Elbow method : \n",
    "#   Use some range of threshold values.\n",
    "#   For those range of values get the features that are lower than the threshold.\n",
    "#   X-axis : Range of Threshold Values.\n",
    "#   Y-axis : Number of features.\n",
    "\n",
    "# Ranges for Thresholds.\n",
    "#lstThresholdRange = [0.0000001,0.000001,0.00001,0.0001,0.001,0.01,0.1,1,10,100,1000]\n",
    "lstThresholdRange = [0.00008,0.0008,0.008,0.08,0.8,8.0,80.0,800.0]\n",
    "# list to store the feature count.\n",
    "lstFeatureCount   = []\n",
    "# Initialise the variable for the lower bound.\n",
    "j = 0.0\n",
    "# Loop through the Threshold Range.\n",
    "for i in lstThresholdRange:\n",
    "    # Get the feature count qualifying the Thershold criteria.\n",
    "    lstFeatureCount.append(dfWeights[(dfWeights['WtPctChange'] > j) & (dfWeights['WtPctChange'] <= i)].shape[0])\n",
    "    # Initialise the lower bound for the next iteration.\n",
    "    j = i\n",
    "\n",
    "# Print the details.\n",
    "print(lstThresholdRange)\n",
    "print(lstFeatureCount)\n",
    "\n",
    "# Plot X-axis = Threshold Values, Y-axis = Number of features\n",
    "plt.plot(np.log(lstThresholdRange),lstFeatureCount)\n",
    "plt.title(\"Plot to determine the threshold for feature extraction.\")       # Set the title of the plot.\n",
    "plt.xlabel(\"Range of Threshold Values\")                                    # Set the x label of the plot.\n",
    "plt.ylabel(\"Number of features\")                                           # Set the y label of the plot.\n",
    "plt.show()                                                                 # render the plot.\n"
   ]
  },
  {
   "cell_type": "code",
   "execution_count": 27,
   "metadata": {},
   "outputs": [
    {
     "data": {
      "text/plain": [
       "1.0080320855042735"
      ]
     },
     "execution_count": 27,
     "metadata": {},
     "output_type": "execute_result"
    }
   ],
   "source": [
    "# Take inverse of log to get the actual threshold value.\n",
    "np.exp(0.008)"
   ]
  },
  {
   "cell_type": "markdown",
   "metadata": {},
   "source": [
    "###### CHECK MULTICOLLINEARITY : Finalized Threshold value :\n",
    "    The finalized threshold value from the plot using Elbow-method is found to be 1.008 ."
   ]
  },
  {
   "cell_type": "code",
   "execution_count": null,
   "metadata": {},
   "outputs": [],
   "source": []
  },
  {
   "cell_type": "markdown",
   "metadata": {},
   "source": [
    "###### CHECK MULTICOLLINEARITY : Print features that are Multicollinear."
   ]
  },
  {
   "cell_type": "code",
   "execution_count": 28,
   "metadata": {},
   "outputs": [
    {
     "data": {
      "text/html": [
       "<div>\n",
       "<style scoped>\n",
       "    .dataframe tbody tr th:only-of-type {\n",
       "        vertical-align: middle;\n",
       "    }\n",
       "\n",
       "    .dataframe tbody tr th {\n",
       "        vertical-align: top;\n",
       "    }\n",
       "\n",
       "    .dataframe thead th {\n",
       "        text-align: right;\n",
       "    }\n",
       "</style>\n",
       "<table border=\"1\" class=\"dataframe\">\n",
       "  <thead>\n",
       "    <tr style=\"text-align: right;\">\n",
       "      <th></th>\n",
       "      <th>ColumnIndex_withoutNoise</th>\n",
       "      <th>Weight_withoutNoise</th>\n",
       "      <th>Word_withoutNoise</th>\n",
       "      <th>ColumnIndex_withNoise</th>\n",
       "      <th>Weight_withNoise</th>\n",
       "      <th>Word_withNoise</th>\n",
       "      <th>WtPctChange</th>\n",
       "    </tr>\n",
       "  </thead>\n",
       "  <tbody>\n",
       "    <tr>\n",
       "      <th>872137</th>\n",
       "      <td>872137</td>\n",
       "      <td>-0.000001</td>\n",
       "      <td>well four</td>\n",
       "      <td>872137</td>\n",
       "      <td>-6.493625e-06</td>\n",
       "      <td>well four</td>\n",
       "      <td>532.991576</td>\n",
       "    </tr>\n",
       "    <tr>\n",
       "      <th>400819</th>\n",
       "      <td>400819</td>\n",
       "      <td>0.000004</td>\n",
       "      <td>ingredi receiv</td>\n",
       "      <td>400819</td>\n",
       "      <td>2.167838e-05</td>\n",
       "      <td>ingredi receiv</td>\n",
       "      <td>492.656753</td>\n",
       "    </tr>\n",
       "    <tr>\n",
       "      <th>506025</th>\n",
       "      <td>506025</td>\n",
       "      <td>-0.000017</td>\n",
       "      <td>money time</td>\n",
       "      <td>506025</td>\n",
       "      <td>1.881317e-05</td>\n",
       "      <td>money time</td>\n",
       "      <td>209.687115</td>\n",
       "    </tr>\n",
       "    <tr>\n",
       "      <th>680701</th>\n",
       "      <td>680701</td>\n",
       "      <td>-0.000004</td>\n",
       "      <td>say picki</td>\n",
       "      <td>680701</td>\n",
       "      <td>3.864693e-06</td>\n",
       "      <td>say picki</td>\n",
       "      <td>202.412885</td>\n",
       "    </tr>\n",
       "    <tr>\n",
       "      <th>894096</th>\n",
       "      <td>894096</td>\n",
       "      <td>0.000012</td>\n",
       "      <td>yeah theyr</td>\n",
       "      <td>894096</td>\n",
       "      <td>-3.430908e-06</td>\n",
       "      <td>yeah theyr</td>\n",
       "      <td>129.783914</td>\n",
       "    </tr>\n",
       "    <tr>\n",
       "      <th>74708</th>\n",
       "      <td>74708</td>\n",
       "      <td>0.000028</td>\n",
       "      <td>big way</td>\n",
       "      <td>74708</td>\n",
       "      <td>-3.969662e-06</td>\n",
       "      <td>big way</td>\n",
       "      <td>114.195961</td>\n",
       "    </tr>\n",
       "    <tr>\n",
       "      <th>392292</th>\n",
       "      <td>392292</td>\n",
       "      <td>-0.000003</td>\n",
       "      <td>ill post</td>\n",
       "      <td>392292</td>\n",
       "      <td>3.466857e-07</td>\n",
       "      <td>ill post</td>\n",
       "      <td>111.262832</td>\n",
       "    </tr>\n",
       "    <tr>\n",
       "      <th>19509</th>\n",
       "      <td>19509</td>\n",
       "      <td>0.000042</td>\n",
       "      <td>also add</td>\n",
       "      <td>19509</td>\n",
       "      <td>8.679844e-06</td>\n",
       "      <td>also add</td>\n",
       "      <td>79.415414</td>\n",
       "    </tr>\n",
       "    <tr>\n",
       "      <th>45533</th>\n",
       "      <td>45533</td>\n",
       "      <td>0.000004</td>\n",
       "      <td>ave</td>\n",
       "      <td>45533</td>\n",
       "      <td>1.041206e-06</td>\n",
       "      <td>ave</td>\n",
       "      <td>74.873522</td>\n",
       "    </tr>\n",
       "    <tr>\n",
       "      <th>403849</th>\n",
       "      <td>403849</td>\n",
       "      <td>-0.000007</td>\n",
       "      <td>instead tasti</td>\n",
       "      <td>403849</td>\n",
       "      <td>-1.132404e-05</td>\n",
       "      <td>instead tasti</td>\n",
       "      <td>74.210691</td>\n",
       "    </tr>\n",
       "  </tbody>\n",
       "</table>\n",
       "</div>"
      ],
      "text/plain": [
       "        ColumnIndex_withoutNoise  Weight_withoutNoise Word_withoutNoise  \\\n",
       "872137                    872137            -0.000001         well four   \n",
       "400819                    400819             0.000004    ingredi receiv   \n",
       "506025                    506025            -0.000017        money time   \n",
       "680701                    680701            -0.000004         say picki   \n",
       "894096                    894096             0.000012        yeah theyr   \n",
       "74708                      74708             0.000028           big way   \n",
       "392292                    392292            -0.000003          ill post   \n",
       "19509                      19509             0.000042          also add   \n",
       "45533                      45533             0.000004               ave   \n",
       "403849                    403849            -0.000007     instead tasti   \n",
       "\n",
       "        ColumnIndex_withNoise  Weight_withNoise  Word_withNoise  WtPctChange  \n",
       "872137                 872137     -6.493625e-06       well four   532.991576  \n",
       "400819                 400819      2.167838e-05  ingredi receiv   492.656753  \n",
       "506025                 506025      1.881317e-05      money time   209.687115  \n",
       "680701                 680701      3.864693e-06       say picki   202.412885  \n",
       "894096                 894096     -3.430908e-06      yeah theyr   129.783914  \n",
       "74708                   74708     -3.969662e-06         big way   114.195961  \n",
       "392292                 392292      3.466857e-07        ill post   111.262832  \n",
       "19509                   19509      8.679844e-06        also add    79.415414  \n",
       "45533                   45533      1.041206e-06             ave    74.873522  \n",
       "403849                 403849     -1.132404e-05   instead tasti    74.210691  "
      ]
     },
     "execution_count": 28,
     "metadata": {},
     "output_type": "execute_result"
    }
   ],
   "source": [
    "# Print the top 10 features that are Mutlicollinear.\n",
    "dfWeights[dfWeights['WtPctChange'] > 1.008].sort_values(['WtPctChange'],ascending=False).head(10)"
   ]
  },
  {
   "cell_type": "code",
   "execution_count": 29,
   "metadata": {},
   "outputs": [
    {
     "data": {
      "text/html": [
       "<div>\n",
       "<style scoped>\n",
       "    .dataframe tbody tr th:only-of-type {\n",
       "        vertical-align: middle;\n",
       "    }\n",
       "\n",
       "    .dataframe tbody tr th {\n",
       "        vertical-align: top;\n",
       "    }\n",
       "\n",
       "    .dataframe thead th {\n",
       "        text-align: right;\n",
       "    }\n",
       "</style>\n",
       "<table border=\"1\" class=\"dataframe\">\n",
       "  <thead>\n",
       "    <tr style=\"text-align: right;\">\n",
       "      <th></th>\n",
       "      <th>ColumnIndex_withoutNoise</th>\n",
       "      <th>Weight_withoutNoise</th>\n",
       "      <th>ColumnIndex_withNoise</th>\n",
       "      <th>Weight_withNoise</th>\n",
       "      <th>WtPctChange</th>\n",
       "    </tr>\n",
       "  </thead>\n",
       "  <tbody>\n",
       "    <tr>\n",
       "      <th>count</th>\n",
       "      <td>901762.000000</td>\n",
       "      <td>901762.000000</td>\n",
       "      <td>901762.000000</td>\n",
       "      <td>901762.000000</td>\n",
       "      <td>9.017620e+05</td>\n",
       "    </tr>\n",
       "    <tr>\n",
       "      <th>mean</th>\n",
       "      <td>450880.500000</td>\n",
       "      <td>0.000159</td>\n",
       "      <td>450880.500000</td>\n",
       "      <td>0.000159</td>\n",
       "      <td>1.846598e-02</td>\n",
       "    </tr>\n",
       "    <tr>\n",
       "      <th>std</th>\n",
       "      <td>260316.411061</td>\n",
       "      <td>0.111217</td>\n",
       "      <td>260316.411061</td>\n",
       "      <td>0.111217</td>\n",
       "      <td>8.927371e-01</td>\n",
       "    </tr>\n",
       "    <tr>\n",
       "      <th>min</th>\n",
       "      <td>0.000000</td>\n",
       "      <td>-12.644038</td>\n",
       "      <td>0.000000</td>\n",
       "      <td>-12.644131</td>\n",
       "      <td>1.271138e-07</td>\n",
       "    </tr>\n",
       "    <tr>\n",
       "      <th>25%</th>\n",
       "      <td>225440.250000</td>\n",
       "      <td>0.000124</td>\n",
       "      <td>225440.250000</td>\n",
       "      <td>0.000124</td>\n",
       "      <td>3.283708e-03</td>\n",
       "    </tr>\n",
       "    <tr>\n",
       "      <th>50%</th>\n",
       "      <td>450880.500000</td>\n",
       "      <td>0.005340</td>\n",
       "      <td>450880.500000</td>\n",
       "      <td>0.005341</td>\n",
       "      <td>7.547223e-03</td>\n",
       "    </tr>\n",
       "    <tr>\n",
       "      <th>75%</th>\n",
       "      <td>676320.750000</td>\n",
       "      <td>0.019977</td>\n",
       "      <td>676320.750000</td>\n",
       "      <td>0.019976</td>\n",
       "      <td>1.477511e-02</td>\n",
       "    </tr>\n",
       "    <tr>\n",
       "      <th>max</th>\n",
       "      <td>901761.000000</td>\n",
       "      <td>10.426068</td>\n",
       "      <td>901761.000000</td>\n",
       "      <td>10.426093</td>\n",
       "      <td>5.329916e+02</td>\n",
       "    </tr>\n",
       "  </tbody>\n",
       "</table>\n",
       "</div>"
      ],
      "text/plain": [
       "       ColumnIndex_withoutNoise  Weight_withoutNoise  ColumnIndex_withNoise  \\\n",
       "count             901762.000000        901762.000000          901762.000000   \n",
       "mean              450880.500000             0.000159          450880.500000   \n",
       "std               260316.411061             0.111217          260316.411061   \n",
       "min                    0.000000           -12.644038               0.000000   \n",
       "25%               225440.250000             0.000124          225440.250000   \n",
       "50%               450880.500000             0.005340          450880.500000   \n",
       "75%               676320.750000             0.019977          676320.750000   \n",
       "max               901761.000000            10.426068          901761.000000   \n",
       "\n",
       "       Weight_withNoise   WtPctChange  \n",
       "count     901762.000000  9.017620e+05  \n",
       "mean           0.000159  1.846598e-02  \n",
       "std            0.111217  8.927371e-01  \n",
       "min          -12.644131  1.271138e-07  \n",
       "25%            0.000124  3.283708e-03  \n",
       "50%            0.005341  7.547223e-03  \n",
       "75%            0.019976  1.477511e-02  \n",
       "max           10.426093  5.329916e+02  "
      ]
     },
     "execution_count": 29,
     "metadata": {},
     "output_type": "execute_result"
    }
   ],
   "source": [
    "dfWeights.describe()"
   ]
  },
  {
   "cell_type": "code",
   "execution_count": null,
   "metadata": {},
   "outputs": [],
   "source": []
  },
  {
   "cell_type": "markdown",
   "metadata": {},
   "source": [
    "#### Feature Importance : Logic for Class based feature importance.\n",
    "####            Look at the original weights, a negative coefficient means that higher value of the corresponding feature pushes the classification more towards the negative class and vice-versa."
   ]
  },
  {
   "cell_type": "markdown",
   "metadata": {},
   "source": [
    "#### Positive Class :"
   ]
  },
  {
   "cell_type": "code",
   "execution_count": 30,
   "metadata": {},
   "outputs": [
    {
     "data": {
      "text/html": [
       "<div>\n",
       "<style scoped>\n",
       "    .dataframe tbody tr th:only-of-type {\n",
       "        vertical-align: middle;\n",
       "    }\n",
       "\n",
       "    .dataframe tbody tr th {\n",
       "        vertical-align: top;\n",
       "    }\n",
       "\n",
       "    .dataframe thead th {\n",
       "        text-align: right;\n",
       "    }\n",
       "</style>\n",
       "<table border=\"1\" class=\"dataframe\">\n",
       "  <thead>\n",
       "    <tr style=\"text-align: right;\">\n",
       "      <th></th>\n",
       "      <th>ColumnIndex_withoutNoise</th>\n",
       "      <th>Word_withoutNoise</th>\n",
       "      <th>Weight_withoutNoise</th>\n",
       "    </tr>\n",
       "  </thead>\n",
       "  <tbody>\n",
       "    <tr>\n",
       "      <th>267021</th>\n",
       "      <td>267021</td>\n",
       "      <td>excel</td>\n",
       "      <td>10.426068</td>\n",
       "    </tr>\n",
       "    <tr>\n",
       "      <th>206555</th>\n",
       "      <td>206555</td>\n",
       "      <td>delici</td>\n",
       "      <td>9.944563</td>\n",
       "    </tr>\n",
       "    <tr>\n",
       "      <th>576670</th>\n",
       "      <td>576670</td>\n",
       "      <td>perfect</td>\n",
       "      <td>9.487069</td>\n",
       "    </tr>\n",
       "    <tr>\n",
       "      <th>47909</th>\n",
       "      <td>47909</td>\n",
       "      <td>awesom</td>\n",
       "      <td>9.227765</td>\n",
       "    </tr>\n",
       "    <tr>\n",
       "      <th>69464</th>\n",
       "      <td>69464</td>\n",
       "      <td>best</td>\n",
       "      <td>9.062861</td>\n",
       "    </tr>\n",
       "    <tr>\n",
       "      <th>348640</th>\n",
       "      <td>348640</td>\n",
       "      <td>great</td>\n",
       "      <td>8.519742</td>\n",
       "    </tr>\n",
       "    <tr>\n",
       "      <th>899804</th>\n",
       "      <td>899804</td>\n",
       "      <td>yummi</td>\n",
       "      <td>7.813930</td>\n",
       "    </tr>\n",
       "    <tr>\n",
       "      <th>462987</th>\n",
       "      <td>462987</td>\n",
       "      <td>love</td>\n",
       "      <td>7.592270</td>\n",
       "    </tr>\n",
       "    <tr>\n",
       "      <th>23590</th>\n",
       "      <td>23590</td>\n",
       "      <td>amaz</td>\n",
       "      <td>7.098816</td>\n",
       "    </tr>\n",
       "    <tr>\n",
       "      <th>376055</th>\n",
       "      <td>376055</td>\n",
       "      <td>high recommend</td>\n",
       "      <td>6.633892</td>\n",
       "    </tr>\n",
       "  </tbody>\n",
       "</table>\n",
       "</div>"
      ],
      "text/plain": [
       "        ColumnIndex_withoutNoise Word_withoutNoise  Weight_withoutNoise\n",
       "267021                    267021             excel            10.426068\n",
       "206555                    206555            delici             9.944563\n",
       "576670                    576670           perfect             9.487069\n",
       "47909                      47909            awesom             9.227765\n",
       "69464                      69464              best             9.062861\n",
       "348640                    348640             great             8.519742\n",
       "899804                    899804             yummi             7.813930\n",
       "462987                    462987              love             7.592270\n",
       "23590                      23590              amaz             7.098816\n",
       "376055                    376055    high recommend             6.633892"
      ]
     },
     "execution_count": 30,
     "metadata": {},
     "output_type": "execute_result"
    }
   ],
   "source": [
    "# Get the features with their weights, excluding features that were found to be Multicollinear.\n",
    "# Currently returns the top 10 features.\n",
    "\n",
    "# For Positive Class : Get the features with their weights, excluding features that were found to be Multicollinear.\n",
    "dfWeights[['ColumnIndex_withoutNoise','Word_withoutNoise','Weight_withoutNoise'\n",
    "          ]][(dfWeights['WtPctChange'] <= 1.008) & \n",
    "             (dfWeights['Weight_withoutNoise'] > 0.00)].sort_values(['Weight_withoutNoise'],ascending=False).head(10)\n"
   ]
  },
  {
   "cell_type": "markdown",
   "metadata": {},
   "source": [
    "#### Negative Class :"
   ]
  },
  {
   "cell_type": "code",
   "execution_count": 31,
   "metadata": {},
   "outputs": [
    {
     "data": {
      "text/html": [
       "<div>\n",
       "<style scoped>\n",
       "    .dataframe tbody tr th:only-of-type {\n",
       "        vertical-align: middle;\n",
       "    }\n",
       "\n",
       "    .dataframe tbody tr th {\n",
       "        vertical-align: top;\n",
       "    }\n",
       "\n",
       "    .dataframe thead th {\n",
       "        text-align: right;\n",
       "    }\n",
       "</style>\n",
       "<table border=\"1\" class=\"dataframe\">\n",
       "  <thead>\n",
       "    <tr style=\"text-align: right;\">\n",
       "      <th></th>\n",
       "      <th>ColumnIndex_withoutNoise</th>\n",
       "      <th>Word_withoutNoise</th>\n",
       "      <th>Weight_withoutNoise</th>\n",
       "    </tr>\n",
       "  </thead>\n",
       "  <tbody>\n",
       "    <tr>\n",
       "      <th>100812</th>\n",
       "      <td>100812</td>\n",
       "      <td>brother absolut</td>\n",
       "      <td>-0.000012</td>\n",
       "    </tr>\n",
       "    <tr>\n",
       "      <th>469373</th>\n",
       "      <td>469373</td>\n",
       "      <td>machin total</td>\n",
       "      <td>-0.000012</td>\n",
       "    </tr>\n",
       "    <tr>\n",
       "      <th>250136</th>\n",
       "      <td>250136</td>\n",
       "      <td>els pictur</td>\n",
       "      <td>-0.000014</td>\n",
       "    </tr>\n",
       "    <tr>\n",
       "      <th>571815</th>\n",
       "      <td>571815</td>\n",
       "      <td>pay suppos</td>\n",
       "      <td>-0.000014</td>\n",
       "    </tr>\n",
       "    <tr>\n",
       "      <th>831437</th>\n",
       "      <td>831437</td>\n",
       "      <td>tumeic could</td>\n",
       "      <td>-0.000014</td>\n",
       "    </tr>\n",
       "    <tr>\n",
       "      <th>831436</th>\n",
       "      <td>831436</td>\n",
       "      <td>tumeic</td>\n",
       "      <td>-0.000014</td>\n",
       "    </tr>\n",
       "    <tr>\n",
       "      <th>161436</th>\n",
       "      <td>161436</td>\n",
       "      <td>compani cheap</td>\n",
       "      <td>-0.000014</td>\n",
       "    </tr>\n",
       "    <tr>\n",
       "      <th>863927</th>\n",
       "      <td>863927</td>\n",
       "      <td>wast poor</td>\n",
       "      <td>-0.000014</td>\n",
       "    </tr>\n",
       "    <tr>\n",
       "      <th>566259</th>\n",
       "      <td>566259</td>\n",
       "      <td>paper noth</td>\n",
       "      <td>-0.000014</td>\n",
       "    </tr>\n",
       "    <tr>\n",
       "      <th>180536</th>\n",
       "      <td>180536</td>\n",
       "      <td>could taint</td>\n",
       "      <td>-0.000014</td>\n",
       "    </tr>\n",
       "  </tbody>\n",
       "</table>\n",
       "</div>"
      ],
      "text/plain": [
       "        ColumnIndex_withoutNoise Word_withoutNoise  Weight_withoutNoise\n",
       "100812                    100812   brother absolut            -0.000012\n",
       "469373                    469373      machin total            -0.000012\n",
       "250136                    250136        els pictur            -0.000014\n",
       "571815                    571815        pay suppos            -0.000014\n",
       "831437                    831437      tumeic could            -0.000014\n",
       "831436                    831436            tumeic            -0.000014\n",
       "161436                    161436     compani cheap            -0.000014\n",
       "863927                    863927         wast poor            -0.000014\n",
       "566259                    566259        paper noth            -0.000014\n",
       "180536                    180536       could taint            -0.000014"
      ]
     },
     "execution_count": 31,
     "metadata": {},
     "output_type": "execute_result"
    }
   ],
   "source": [
    "# Get the features with their weights, excluding features that were found to be Multicollinear.\n",
    "# Currently returns the top 10 features.\n",
    "\n",
    "# For Negative Class : Get the features with their weights, excluding features that were found to be Multicollinear.\n",
    "dfWeights[['ColumnIndex_withoutNoise','Word_withoutNoise','Weight_withoutNoise'\n",
    "          ]][(dfWeights['WtPctChange'] <= 1.008) & \n",
    "             (dfWeights['Weight_withoutNoise'] < 0.00)].sort_values(['Weight_withoutNoise'],ascending=False).head(10)\n"
   ]
  },
  {
   "cell_type": "code",
   "execution_count": null,
   "metadata": {},
   "outputs": [],
   "source": []
  },
  {
   "cell_type": "markdown",
   "metadata": {},
   "source": [
    "#### CONCLUSION :\n",
    "\n",
    "#### Performance Metrics "
   ]
  },
  {
   "attachments": {
    "ConfusionMatrix_L2Regularizer_BoW.PNG": {
     "image/png": "[encoded data removed]"
    }
   },
   "cell_type": "markdown",
   "metadata": {},
   "source": [
    "![ConfusionMatrix_L2Regularizer_BoW.PNG](attachment:ConfusionMatrix_L2Regularizer_BoW.PNG)"
   ]
  },
  {
   "cell_type": "markdown",
   "metadata": {},
   "source": [
    "#### We see good precision score for the LR model with L2 Regularizer. The FalsePositive values is acceptable while FalseNegative is a concern. The text review comment has been enriched by adding contents of summary column from the Amazon Food Reviews dataset."
   ]
  },
  {
   "cell_type": "code",
   "execution_count": null,
   "metadata": {},
   "outputs": [],
   "source": []
  },
  {
   "cell_type": "markdown",
   "metadata": {},
   "source": [
    "### Vectorization Method : TermFrequency-InverseDocumentFrequency (TF_IDF)\n",
    "\n",
    "#### Convert review text into numeric vectors using TF_IDF"
   ]
  },
  {
   "cell_type": "code",
   "execution_count": 32,
   "metadata": {},
   "outputs": [],
   "source": [
    "#TF-IDF\n",
    "# Apply TF-IDF vectorization only on the trainingset.\n",
    "tf_idf_vect = TfidfVectorizer(dtype='float64',ngram_range=(1,2))"
   ]
  },
  {
   "cell_type": "code",
   "execution_count": 33,
   "metadata": {},
   "outputs": [
    {
     "name": "stdout",
     "output_type": "stream",
     "text": [
      "the type of TIDF vectorizer  <class 'scipy.sparse.csr.csr_matrix'>\n",
      "the shape of out text TFIDF vectorizer  (60000, 901762)\n",
      "the number of unique words including both unigrams and bigrams  901762\n"
     ]
    }
   ],
   "source": [
    "#Train you tf-idf vectorizer on the train data (.fit_transform()) and \n",
    "#use the same vectorizer on the test set as well (.transform())\n",
    "final_tf_idf = tf_idf_vect.fit_transform(X_train.values.astype('U'))\n",
    "\n",
    "print(\"the type of TIDF vectorizer \",type(final_tf_idf))\n",
    "print(\"the shape of out text TFIDF vectorizer \",final_tf_idf.get_shape())\n",
    "print(\"the number of unique words including both unigrams and bigrams \", final_tf_idf.get_shape()[1])"
   ]
  },
  {
   "cell_type": "markdown",
   "metadata": {},
   "source": [
    "#### Use the TF-IDF vectorizer trained in the preceding step to convert cvset and testset to vectors."
   ]
  },
  {
   "cell_type": "code",
   "execution_count": 34,
   "metadata": {},
   "outputs": [
    {
     "name": "stdout",
     "output_type": "stream",
     "text": [
      "the type of TFIDF vectorizer  <class 'scipy.sparse.csr.csr_matrix'>\n",
      "the shape of out text TFIDF vectorizer  (20000, 901762)\n",
      "the number of unique words  901762\n",
      "the type of TFIDF vectorizer  <class 'scipy.sparse.csr.csr_matrix'>\n",
      "the shape of out text TFIDF vectorizer  (20000, 901762)\n",
      "the number of unique words  901762\n"
     ]
    }
   ],
   "source": [
    "#use the same countvectorizer on the cvset and testset.\n",
    "final_tf_idf_cvset = tf_idf_vect.transform(X_cv.values)\n",
    "print(\"the type of TFIDF vectorizer \",type(final_tf_idf_cvset))\n",
    "print(\"the shape of out text TFIDF vectorizer \",final_tf_idf_cvset.get_shape())\n",
    "print(\"the number of unique words \", final_tf_idf_cvset.get_shape()[1])\n",
    "\n",
    "#use the same countvectorizer on the testset.\n",
    "final_tf_idf_testset = tf_idf_vect.transform(X_test.values)\n",
    "print(\"the type of TFIDF vectorizer \",type(final_tf_idf_testset))\n",
    "print(\"the shape of out text TFIDF vectorizer \",final_tf_idf_testset.get_shape())\n",
    "print(\"the number of unique words \", final_tf_idf_testset.get_shape()[1])"
   ]
  },
  {
   "cell_type": "markdown",
   "metadata": {},
   "source": [
    "#### Standardize / Normalize the data"
   ]
  },
  {
   "cell_type": "code",
   "execution_count": 35,
   "metadata": {},
   "outputs": [],
   "source": [
    "# Data-preprocessing: Normalizing the data\n",
    "from sklearn.preprocessing import Normalizer\n",
    "\n",
    "normalizer = Normalizer()\n",
    "\n",
    "#Standardize on the train data. \n",
    "X_train_stdzd = normalizer.fit_transform(final_tf_idf)\n",
    "\n",
    "#Standardize on the cv and test data.\n",
    "X_cv_stdzd    = normalizer.transform(final_tf_idf_cvset)     #use the same Normalizer on the cvset.\n",
    "X_test_stdzd  = normalizer.transform(final_tf_idf_testset)   #use the same Normalizer on the testset."
   ]
  },
  {
   "cell_type": "code",
   "execution_count": null,
   "metadata": {},
   "outputs": [],
   "source": []
  },
  {
   "cell_type": "markdown",
   "metadata": {},
   "source": [
    "#### Hyper-Parameter Tuning : Using the cross-validation dataset to calculate the optimal 'lambda' of LogisticRegression in TF-IDF case."
   ]
  },
  {
   "cell_type": "code",
   "execution_count": 40,
   "metadata": {},
   "outputs": [
    {
     "name": "stdout",
     "output_type": "stream",
     "text": [
      "[5.0106352940962555, 2.70805020110221, 0.4054651081081644, -1.8971199848858813, -4.199705077879927, -6.502290170873972]\n",
      "[0.9588150289017341, 0.9626765708718948, 0.9696073496098666, 0.9711866631661854, 0.9671310699310158, 0.9641645174426496]\n"
     ]
    },
    {
     "data": {
      "image/png": "[encoded data removed]",
      "text/plain": [
       "<matplotlib.figure.Figure at 0x24c4af695c0>"
      ]
     },
     "metadata": {},
     "output_type": "display_data"
    },
    {
     "name": "stdout",
     "output_type": "stream",
     "text": [
      "Starttime is : 2018-11-22 14:43:17.258537\n",
      "Endtime   is : 2018-11-22 14:43:58.189274\n"
     ]
    }
   ],
   "source": [
    "# Import the LogisticRegression and precision modules.\n",
    "from sklearn.linear_model import LogisticRegression\n",
    "from sklearn.metrics import precision_score\n",
    "\n",
    "# Set the start time of the current cell run.\n",
    "starttime_lr_tfidf = datetime.datetime.now()\n",
    "\n",
    "# Set the range for the hyper-parameters.\n",
    "# We Know from theory:\n",
    "#          when lambda = 0, then model overfits\n",
    "#          when lambda tends to infinity , then model underfits\n",
    "\n",
    "# Experiment with different combination of C ranges.\n",
    "# Here C = Inverse(Lambda) where lambda is the hyper-parameter of the LR model\n",
    "#C = [100.0,10.0,1.0,0.1,0.01,0.001,0.0001,0.00001,0.000001]\n",
    "#C = [10000,1000,100,10,1,0.1,0.01,0.001]\n",
    "C = [150,15,1.5,0.15,0.015,0.0015]\n",
    "\n",
    "# Use the cross-validation dataset to determine the best hyper-parameter C.\n",
    "# Loop through various values of C.\n",
    "plot_X = []\n",
    "plot_Y = []\n",
    "for i in C:\n",
    "    # Iterate through various values of C = inverse(lambda),\n",
    "    lr_optimal = LogisticRegression(penalty='l2',            # use L2 regularizer.\n",
    "                                    C=(i),                   # use Inverse of Lambda.\n",
    "                                    class_weight='balanced', # uses the values of y to automatically adjust weights in the input data.\n",
    "                                    solver='sag')            # solver = 'sag' because of high dimension and L2 regularizer.\n",
    "    \n",
    "    lr_optimal.fit(X_train_stdzd, Y_train)       # fitting the Logistic Regression model on the training set.\n",
    "    Y_pred = lr_optimal.predict(X_cv_stdzd)      # predict the response from the Logistic Regression model on the cv set.\n",
    "    plot_X.append(np.log(i))                     # plot log(InverseOfLambda) \"C\" in the x-axis.\n",
    "    plot_Y.append(precision_score(Y_cv,Y_pred))  # plot precision score in the y-axis.\n",
    "\n",
    "#print X,Y\n",
    "print(plot_X)\n",
    "print(plot_Y)\n",
    "\n",
    "# Plot X-axis = log(C),Y-axis = precision, to determine the best hyper-parameter.\n",
    "plt.plot(plot_X,plot_Y)\n",
    "plt.title(\"Plot of CrossValidationPrecision vs log(Inverse of lambda) .\")  # Set the title of the plot.\n",
    "plt.xlabel(\"log(Inverse of lambda)\")                                       # Set the x label of the plot.\n",
    "plt.ylabel(\"CrossValidation Precision\")                                    # Set the y label of the plot.\n",
    "plt.show()                                                                 # render the plot.\n",
    "\n",
    "# Set the end time of the current cell run.\n",
    "endtime_lr_tfidf = datetime.datetime.now()\n",
    "\n",
    "# Print the cell run duration.\n",
    "print(\"Starttime is : {}\".format(starttime_lr_tfidf))\n",
    "print(\"Endtime   is : {}\".format(endtime_lr_tfidf))"
   ]
  },
  {
   "cell_type": "code",
   "execution_count": 42,
   "metadata": {},
   "outputs": [
    {
     "data": {
      "text/plain": [
       "0.15107180883637086"
      ]
     },
     "execution_count": 42,
     "metadata": {},
     "output_type": "execute_result"
    }
   ],
   "source": [
    "np.exp(-1.89)"
   ]
  },
  {
   "cell_type": "code",
   "execution_count": 41,
   "metadata": {},
   "outputs": [
    {
     "name": "stdout",
     "output_type": "stream",
     "text": [
      "Trainingset      X: (60000, 901762)\n",
      "CVset            X: (20000, 901762)\n",
      "Testset          X: (20000, 901762)\n",
      "Trainingset      Y: (60000,)\n",
      "CVset            Y: (20000,)\n",
      "Testset          Y: (20000,)\n"
     ]
    }
   ],
   "source": [
    "# Print the shape of the Input features X and class label Y for training and test set.\n",
    "print(\"Trainingset      X: {}\".format(X_train_stdzd.shape))\n",
    "print(\"CVset            X: {}\".format(X_cv_stdzd.shape))\n",
    "print(\"Testset          X: {}\".format(X_test_stdzd.shape))\n",
    "\n",
    "print(\"Trainingset      Y: {}\".format(Y_train.shape))\n",
    "print(\"CVset            Y: {}\".format(Y_cv.shape))\n",
    "print(\"Testset          Y: {}\".format(Y_test.shape))"
   ]
  },
  {
   "cell_type": "markdown",
   "metadata": {},
   "source": [
    "#### Plots for varying combination of lambda ranges."
   ]
  },
  {
   "cell_type": "markdown",
   "metadata": {},
   "source": [
    "#### Lambda range : 100 to 10000"
   ]
  },
  {
   "attachments": {
    "Plot_CVPrecision_vs_Lambda_0_10000_Log%28InverseOfLambda%29_TFIDF.png": {
     "image/png": "[encoded data removed]"
    }
   },
   "cell_type": "markdown",
   "metadata": {},
   "source": [
    "![Plot_CVPrecision_vs_Lambda_0_10000_Log%28InverseOfLambda%29_TFIDF.png](attachment:Plot_CVPrecision_vs_Lambda_0_10000_Log%28InverseOfLambda%29_TFIDF.png)"
   ]
  },
  {
   "cell_type": "markdown",
   "metadata": {},
   "source": [
    "#### Observations :\n",
    "    We observe, the curve reaches a mximum value at lambda ~= 0.13\n",
    "    Here lambda ranges from 100 to 10000."
   ]
  },
  {
   "cell_type": "code",
   "execution_count": 407,
   "metadata": {},
   "outputs": [
    {
     "data": {
      "text/plain": [
       "0.1353352832366127"
      ]
     },
     "execution_count": 407,
     "metadata": {},
     "output_type": "execute_result"
    }
   ],
   "source": [
    "np.exp(-2)"
   ]
  },
  {
   "cell_type": "markdown",
   "metadata": {},
   "source": [
    "#### Lambda Range : 0 to 100"
   ]
  },
  {
   "attachments": {
    "Plot_CVPrecision_vs_Lambda_0_100_Log%28InverseOfLambda%29_TFIDF.png": {
     "image/png": "[encoded data removed]"
    }
   },
   "cell_type": "markdown",
   "metadata": {},
   "source": [
    "![Plot_CVPrecision_vs_Lambda_0_100_Log%28InverseOfLambda%29_TFIDF.png](attachment:Plot_CVPrecision_vs_Lambda_0_100_Log%28InverseOfLambda%29_TFIDF.png)"
   ]
  },
  {
   "cell_type": "markdown",
   "metadata": {},
   "source": [
    "#### Observations :\n",
    "    We observe, the curve moving linearly, after an initial period of spike.\n",
    "    Need to check the lambda range from 150 to 0.0 .\n",
    "    Here lambda ranges from 0 to 100."
   ]
  },
  {
   "cell_type": "code",
   "execution_count": null,
   "metadata": {},
   "outputs": [],
   "source": []
  },
  {
   "cell_type": "markdown",
   "metadata": {},
   "source": [
    "#### Lambda range : 0.00015 to 150 "
   ]
  },
  {
   "attachments": {
    "Plot_CVPrecision_vs_Lambda_0_150_Log%28InverseOfLambda%29_TFIDF.png": {
     "image/png": "[encoded data removed]"
    }
   },
   "cell_type": "markdown",
   "metadata": {},
   "source": [
    "![Plot_CVPrecision_vs_Lambda_0_150_Log%28InverseOfLambda%29_TFIDF.png](attachment:Plot_CVPrecision_vs_Lambda_0_150_Log%28InverseOfLambda%29_TFIDF.png)"
   ]
  },
  {
   "cell_type": "markdown",
   "metadata": {},
   "source": [
    "#### Observations :\n",
    "    The cross-validation precision is maximum when log(lambda) ~= -1.897 .\n",
    "    Therefore lambda = exponential(log(lambda)) = np.exp(-1.897) = 0.150\n",
    "    Here lambda ranges from 0.00015 to 150."
   ]
  },
  {
   "cell_type": "markdown",
   "metadata": {},
   "source": [
    "#### Hyper-parameter Choice : \n",
    "      Based on the CV plots for varying combination of lambda ranges, lambda = 0.15 when lambda range is between 0.00015 and 150 is the best choice."
   ]
  },
  {
   "cell_type": "code",
   "execution_count": null,
   "metadata": {},
   "outputs": [],
   "source": []
  },
  {
   "cell_type": "markdown",
   "metadata": {},
   "source": [
    "#### Fit the Logistic Regression model in TF-IDF case in the test set and compute the error metrics."
   ]
  },
  {
   "cell_type": "code",
   "execution_count": 43,
   "metadata": {},
   "outputs": [
    {
     "name": "stdout",
     "output_type": "stream",
     "text": [
      "Starttime : 2018-11-22 14:45:50.933511\n",
      "Endtime   : 2018-11-22 14:45:53.012954\n"
     ]
    }
   ],
   "source": [
    "# ============================== LR with lambda = optimal lambda ===============================================\n",
    "\n",
    "# Set the start time of the current cell run.\n",
    "starttime_lr_tfidf = datetime.datetime.now()\n",
    "\n",
    "# instantiate the Logistic Regression model with lambda = 0.15 based on the above error plots .\n",
    "lr_optimal = LogisticRegression(penalty='l2',            # use L2 regularizer.\n",
    "                                C=(0.15),                # use Inverse of Lambda.\n",
    "                                class_weight='balanced', # uses the values of y to automatically adjust weights in the input data.\n",
    "                                solver='sag')            # solver = 'sag' because of high dimension and L2 regularizer.\n",
    "\n",
    "lr_optimal.fit(X_train_stdzd, Y_train)           # fitting the Logistic Regression model.\n",
    "Y_pred_test = lr_optimal.predict(X_test_stdzd)   # predict the response from the Logistic Regression model.\n",
    "\n",
    "# Set the end time of the current cell run.\n",
    "endtime_lr_tfidf = datetime.datetime.now()\n",
    "\n",
    "# Print the cell run duration.\n",
    "print(\"Starttime : {}\".format(starttime_lr_tfidf))\n",
    "print(\"Endtime   : {}\".format(endtime_lr_tfidf))"
   ]
  },
  {
   "cell_type": "code",
   "execution_count": null,
   "metadata": {},
   "outputs": [],
   "source": []
  },
  {
   "cell_type": "markdown",
   "metadata": {},
   "source": [
    "#### Plot the classifier performance metrics."
   ]
  },
  {
   "cell_type": "code",
   "execution_count": 44,
   "metadata": {},
   "outputs": [
    {
     "data": {
      "image/png": "[encoded data removed]",
      "text/plain": [
       "<matplotlib.figure.Figure at 0x24c38fc6f98>"
      ]
     },
     "metadata": {},
     "output_type": "display_data"
    }
   ],
   "source": [
    "# evaluate the model and report the metrics.\n",
    "from sklearn.metrics import confusion_matrix\n",
    "conf_mat = confusion_matrix(Y_test, Y_pred_test)\n",
    "fig, ax = plt.subplots(figsize=(5,5))\n",
    "sns.heatmap(conf_mat, annot=True, fmt='d'\n",
    "            ,xticklabels=['negative','positive'], yticklabels=['negative','positive'])\n",
    "plt.title('Confusion Matrix : (Vectorizer = TF-IDF)')\n",
    "plt.ylabel('Actual')\n",
    "plt.xlabel('Predicted')\n",
    "plt.show()"
   ]
  },
  {
   "cell_type": "code",
   "execution_count": 45,
   "metadata": {},
   "outputs": [
    {
     "name": "stdout",
     "output_type": "stream",
     "text": [
      "1    16442\n",
      "0     3558\n",
      "Name: Comment, dtype: int64\n"
     ]
    }
   ],
   "source": [
    "#Class composition in the testset.\n",
    "dfYTest = pd.DataFrame(list(Y_test),columns=['Comment'])\n",
    "#print(list(Y_test))\n",
    "print(dfYTest[\"Comment\"].value_counts())"
   ]
  },
  {
   "cell_type": "code",
   "execution_count": 46,
   "metadata": {
    "scrolled": true
   },
   "outputs": [
    {
     "name": "stdout",
     "output_type": "stream",
     "text": [
      "Performance Metrics :\n",
      "+------------------------+--------------------+--------------------+\n",
      "| Text-VectorizationType | Performance Metric | Value              |\n",
      "+------------------------+--------------------+--------------------+\n",
      "|         TFIDF          |      Accuracy      | 0.8981             |\n",
      "|           -            |     Precision      | 0.9716437459070072 |\n",
      "|           -            |       Recall       | 0.9023841381827028 |\n",
      "|           -            |      F1 Score      | 0.9357341069626639 |\n",
      "|           -            |  ConfusionMatrix   | [[ 3125   433]     |\n",
      "|                        |                    |  [ 1605 14837]]    |\n",
      "|       ----------       |    -----------     | ----------         |\n",
      "+------------------------+--------------------+--------------------+\n"
     ]
    }
   ],
   "source": [
    "# Load the classification metrics\n",
    "from sklearn.metrics import accuracy_score\n",
    "from sklearn.metrics import precision_score\n",
    "from sklearn.metrics import recall_score\n",
    "from sklearn.metrics import f1_score\n",
    "# Load the prettytable\n",
    "from prettytable import PrettyTable\n",
    "\n",
    "# Instantiate the prettytable module.\n",
    "x = PrettyTable()\n",
    "# Set the column names for the table.\n",
    "x.field_names = [\"Text-VectorizationType\",\"Performance Metric\", \"Value\"]\n",
    "\n",
    "# Add the classification metrics to the table.\n",
    "x.add_row(['TFIDF','Accuracy',accuracy_score(Y_test,Y_pred_test)])\n",
    "x.add_row(['-','Precision',precision_score(Y_test,Y_pred_test)])\n",
    "x.add_row(['-','Recall',recall_score(Y_test,Y_pred_test)])\n",
    "x.add_row(['-','F1 Score',f1_score(Y_test,Y_pred_test)])\n",
    "x.add_row(['-','ConfusionMatrix',confusion_matrix(Y_test, Y_pred_test)])\n",
    "x.add_row(['----------','-----------','----------'])\n",
    "\n",
    "# Add the classification metrics to the final summary table.\n",
    "summaryTable.add_row(['TFIDF','0.15','Accuracy',accuracy_score(Y_test,Y_pred_test)])\n",
    "summaryTable.add_row(['-','0.15','Precision',precision_score(Y_test,Y_pred_test)])\n",
    "summaryTable.add_row(['-','0.15','Recall',recall_score(Y_test,Y_pred_test)])\n",
    "summaryTable.add_row(['-','0.15','F1 Score',f1_score(Y_test,Y_pred_test)])\n",
    "summaryTable.add_row(['-','0.15','ConfusionMatrix',confusion_matrix(Y_test, Y_pred_test)])\n",
    "summaryTable.add_row(['----------','-----------','----------','----------'])\n",
    "\n",
    "\n",
    "# Apply data alignment.\n",
    "x.align[\"Value\"] = \"l\"\n",
    "\n",
    "# Print the table.\n",
    "print(\"Performance Metrics :\")\n",
    "print(x)"
   ]
  },
  {
   "cell_type": "code",
   "execution_count": null,
   "metadata": {},
   "outputs": [],
   "source": []
  },
  {
   "cell_type": "markdown",
   "metadata": {},
   "source": [
    "#### Use the weight vector to determine class based Feature Importance. \n",
    "###### PN : Since we have already determined Multicollinearity check in BoW vectorizer, we will skip this here."
   ]
  },
  {
   "cell_type": "code",
   "execution_count": 47,
   "metadata": {},
   "outputs": [],
   "source": [
    "# get the weights W for the dataset X_test_stdzd.\n",
    "wtTFIDF = lr_optimal.coef_\n",
    "\n",
    "# nested tuple to store the indices where weights qualify a threshold.\n",
    "tupIndicesNonZero = np.nonzero(wtTFIDF)\n",
    "\n",
    "# get the indices of the words that qualify the weight criteria.\n",
    "indices_nonzero = tupIndicesNonZero[1][:]\n",
    "\n",
    "# print the weights of words that qualify the weight criteria.\n",
    "weightVector = wtTFIDF[tupIndicesNonZero]\n",
    "\n",
    "# print the features that meet the criteria.\n",
    "wordVector = np.take(tf_idf_vect.get_feature_names(), indices_nonzero)\n",
    "\n",
    "# Prepare the data from the columnIndex,weightvector and wordvector.\n",
    "lstData = list(zip(indices_nonzero,weightVector,wordVector))\n",
    "\n",
    "# create a dataframe to store the columnindex,weights,words of the text corpus.\n",
    "dfTopWords = pd.DataFrame(data=lstData,columns=['ColumnIndex','Weight','Word'])\n",
    "\n",
    "# Print the top 10 rows from the resultant dataframe.\n",
    "# print(dfTopWords.sort_values(['Weight'],ascending=False).head(10))\n"
   ]
  },
  {
   "cell_type": "code",
   "execution_count": null,
   "metadata": {},
   "outputs": [],
   "source": []
  },
  {
   "cell_type": "markdown",
   "metadata": {},
   "source": [
    "#### Feature Importance : Logic for Class based feature importance.\n",
    "####            Look at the original weights, a negative coefficient means that higher value of the corresponding feature pushes the classification more towards the negative class and vice-versa."
   ]
  },
  {
   "cell_type": "markdown",
   "metadata": {},
   "source": [
    "#### Positive Class :"
   ]
  },
  {
   "cell_type": "code",
   "execution_count": 48,
   "metadata": {},
   "outputs": [
    {
     "data": {
      "text/html": [
       "<div>\n",
       "<style scoped>\n",
       "    .dataframe tbody tr th:only-of-type {\n",
       "        vertical-align: middle;\n",
       "    }\n",
       "\n",
       "    .dataframe tbody tr th {\n",
       "        vertical-align: top;\n",
       "    }\n",
       "\n",
       "    .dataframe thead th {\n",
       "        text-align: right;\n",
       "    }\n",
       "</style>\n",
       "<table border=\"1\" class=\"dataframe\">\n",
       "  <thead>\n",
       "    <tr style=\"text-align: right;\">\n",
       "      <th></th>\n",
       "      <th>ColumnIndex</th>\n",
       "      <th>Word</th>\n",
       "      <th>Weight</th>\n",
       "    </tr>\n",
       "  </thead>\n",
       "  <tbody>\n",
       "    <tr>\n",
       "      <th>348640</th>\n",
       "      <td>348640</td>\n",
       "      <td>great</td>\n",
       "      <td>9.930249</td>\n",
       "    </tr>\n",
       "    <tr>\n",
       "      <th>462987</th>\n",
       "      <td>462987</td>\n",
       "      <td>love</td>\n",
       "      <td>8.636387</td>\n",
       "    </tr>\n",
       "    <tr>\n",
       "      <th>69464</th>\n",
       "      <td>69464</td>\n",
       "      <td>best</td>\n",
       "      <td>6.496257</td>\n",
       "    </tr>\n",
       "    <tr>\n",
       "      <th>206555</th>\n",
       "      <td>206555</td>\n",
       "      <td>delici</td>\n",
       "      <td>5.754842</td>\n",
       "    </tr>\n",
       "    <tr>\n",
       "      <th>339536</th>\n",
       "      <td>339536</td>\n",
       "      <td>good</td>\n",
       "      <td>5.610344</td>\n",
       "    </tr>\n",
       "    <tr>\n",
       "      <th>576670</th>\n",
       "      <td>576670</td>\n",
       "      <td>perfect</td>\n",
       "      <td>4.585414</td>\n",
       "    </tr>\n",
       "    <tr>\n",
       "      <th>267021</th>\n",
       "      <td>267021</td>\n",
       "      <td>excel</td>\n",
       "      <td>4.340579</td>\n",
       "    </tr>\n",
       "    <tr>\n",
       "      <th>524830</th>\n",
       "      <td>524830</td>\n",
       "      <td>nice</td>\n",
       "      <td>3.793737</td>\n",
       "    </tr>\n",
       "    <tr>\n",
       "      <th>283495</th>\n",
       "      <td>283495</td>\n",
       "      <td>favorit</td>\n",
       "      <td>3.659137</td>\n",
       "    </tr>\n",
       "    <tr>\n",
       "      <th>899804</th>\n",
       "      <td>899804</td>\n",
       "      <td>yummi</td>\n",
       "      <td>3.294353</td>\n",
       "    </tr>\n",
       "  </tbody>\n",
       "</table>\n",
       "</div>"
      ],
      "text/plain": [
       "        ColumnIndex     Word    Weight\n",
       "348640       348640    great  9.930249\n",
       "462987       462987     love  8.636387\n",
       "69464         69464     best  6.496257\n",
       "206555       206555   delici  5.754842\n",
       "339536       339536     good  5.610344\n",
       "576670       576670  perfect  4.585414\n",
       "267021       267021    excel  4.340579\n",
       "524830       524830     nice  3.793737\n",
       "283495       283495  favorit  3.659137\n",
       "899804       899804    yummi  3.294353"
      ]
     },
     "execution_count": 48,
     "metadata": {},
     "output_type": "execute_result"
    }
   ],
   "source": [
    "# Get the features with their weights.\n",
    "# Currently returns the top 10 features.\n",
    "\n",
    "# For Positive Class : Get the features with their weights, excluding features that were found to be Multicollinear.\n",
    "dfTopWords[['ColumnIndex','Word','Weight'\n",
    "          ]][(dfTopWords['Weight'] > 0.00)].sort_values(['Weight'],ascending=False).head(10)\n"
   ]
  },
  {
   "cell_type": "markdown",
   "metadata": {},
   "source": [
    "#### Negative Class :"
   ]
  },
  {
   "cell_type": "code",
   "execution_count": 49,
   "metadata": {},
   "outputs": [
    {
     "data": {
      "text/html": [
       "<div>\n",
       "<style scoped>\n",
       "    .dataframe tbody tr th:only-of-type {\n",
       "        vertical-align: middle;\n",
       "    }\n",
       "\n",
       "    .dataframe tbody tr th {\n",
       "        vertical-align: top;\n",
       "    }\n",
       "\n",
       "    .dataframe thead th {\n",
       "        text-align: right;\n",
       "    }\n",
       "</style>\n",
       "<table border=\"1\" class=\"dataframe\">\n",
       "  <thead>\n",
       "    <tr style=\"text-align: right;\">\n",
       "      <th></th>\n",
       "      <th>ColumnIndex</th>\n",
       "      <th>Word</th>\n",
       "      <th>Weight</th>\n",
       "    </tr>\n",
       "  </thead>\n",
       "  <tbody>\n",
       "    <tr>\n",
       "      <th>625969</th>\n",
       "      <td>625969</td>\n",
       "      <td>qualiti content</td>\n",
       "      <td>-9.547121e-07</td>\n",
       "    </tr>\n",
       "    <tr>\n",
       "      <th>255706</th>\n",
       "      <td>255706</td>\n",
       "      <td>enough oil</td>\n",
       "      <td>-1.197979e-06</td>\n",
       "    </tr>\n",
       "    <tr>\n",
       "      <th>232140</th>\n",
       "      <td>232140</td>\n",
       "      <td>dough batter</td>\n",
       "      <td>-1.252690e-06</td>\n",
       "    </tr>\n",
       "    <tr>\n",
       "      <th>447298</th>\n",
       "      <td>447298</td>\n",
       "      <td>like newman</td>\n",
       "      <td>-1.310915e-06</td>\n",
       "    </tr>\n",
       "    <tr>\n",
       "      <th>344954</th>\n",
       "      <td>344954</td>\n",
       "      <td>grab bunch</td>\n",
       "      <td>-1.505159e-06</td>\n",
       "    </tr>\n",
       "    <tr>\n",
       "      <th>171179</th>\n",
       "      <td>171179</td>\n",
       "      <td>contain essenti</td>\n",
       "      <td>-1.870915e-06</td>\n",
       "    </tr>\n",
       "    <tr>\n",
       "      <th>673894</th>\n",
       "      <td>673894</td>\n",
       "      <td>salti beef</td>\n",
       "      <td>-2.019644e-06</td>\n",
       "    </tr>\n",
       "    <tr>\n",
       "      <th>385176</th>\n",
       "      <td>385176</td>\n",
       "      <td>hour usual</td>\n",
       "      <td>-2.180390e-06</td>\n",
       "    </tr>\n",
       "    <tr>\n",
       "      <th>391347</th>\n",
       "      <td>391347</td>\n",
       "      <td>idea sinc</td>\n",
       "      <td>-2.536979e-06</td>\n",
       "    </tr>\n",
       "    <tr>\n",
       "      <th>714201</th>\n",
       "      <td>714201</td>\n",
       "      <td>size high</td>\n",
       "      <td>-2.707417e-06</td>\n",
       "    </tr>\n",
       "  </tbody>\n",
       "</table>\n",
       "</div>"
      ],
      "text/plain": [
       "        ColumnIndex             Word        Weight\n",
       "625969       625969  qualiti content -9.547121e-07\n",
       "255706       255706       enough oil -1.197979e-06\n",
       "232140       232140     dough batter -1.252690e-06\n",
       "447298       447298      like newman -1.310915e-06\n",
       "344954       344954       grab bunch -1.505159e-06\n",
       "171179       171179  contain essenti -1.870915e-06\n",
       "673894       673894       salti beef -2.019644e-06\n",
       "385176       385176       hour usual -2.180390e-06\n",
       "391347       391347        idea sinc -2.536979e-06\n",
       "714201       714201        size high -2.707417e-06"
      ]
     },
     "execution_count": 49,
     "metadata": {},
     "output_type": "execute_result"
    }
   ],
   "source": [
    "# Get the features with their weights.\n",
    "# Currently returns the top 10 features.\n",
    "\n",
    "# For Negative Class : Get the features with their weights, excluding features that were found to be Multicollinear.\n",
    "dfTopWords[['ColumnIndex','Word','Weight'\n",
    "          ]][(dfTopWords['Weight'] < 0.00)].sort_values(['Weight'],ascending=False).head(10)\n"
   ]
  },
  {
   "cell_type": "code",
   "execution_count": null,
   "metadata": {},
   "outputs": [],
   "source": []
  },
  {
   "cell_type": "markdown",
   "metadata": {},
   "source": [
    "#### CONCLUSION :\n",
    "\n",
    "#### Performance Metrics "
   ]
  },
  {
   "attachments": {
    "ConfusionMatrix_L2Regularizer_TFIDF.PNG": {
     "image/png": "[encoded data removed]"
    }
   },
   "cell_type": "markdown",
   "metadata": {},
   "source": [
    "![ConfusionMatrix_L2Regularizer_TFIDF.PNG](attachment:ConfusionMatrix_L2Regularizer_TFIDF.PNG)"
   ]
  },
  {
   "cell_type": "markdown",
   "metadata": {},
   "source": [
    "#### We see good precision score for the LR model with L2 Regularizer. The FalsePositive values is acceptable while FalseNegative is a concern. The text review comment has been enriched by adding contents of summary column from the Amazon Food Reviews dataset."
   ]
  },
  {
   "cell_type": "code",
   "execution_count": null,
   "metadata": {},
   "outputs": [],
   "source": []
  },
  {
   "cell_type": "markdown",
   "metadata": {},
   "source": [
    "### Vectorization Method : Average Word2Vec : Avg W2V\n",
    "#### Convert review text into numeric vectors using Avg W2V"
   ]
  },
  {
   "cell_type": "code",
   "execution_count": 50,
   "metadata": {},
   "outputs": [
    {
     "name": "stdout",
     "output_type": "stream",
     "text": [
      "Requirement already satisfied: tqdm in c:\\programdata\\anaconda3\\lib\\site-packages\n"
     ]
    },
    {
     "name": "stderr",
     "output_type": "stream",
     "text": [
      "You are using pip version 9.0.1, however version 18.1 is available.\n",
      "You should consider upgrading via the 'python -m pip install --upgrade pip' command.\n"
     ]
    }
   ],
   "source": [
    "# Load the necessary modules of Word2Vec\n",
    "from gensim.models import Word2Vec\n",
    "from gensim.models import KeyedVectors\n",
    "import pickle\n",
    "\n",
    "# Install a pip package in the current Jupyter kernel\n",
    "import sys\n",
    "!{sys.executable} -m pip install tqdm\n",
    "\n",
    "from tqdm import tqdm # for displaying progress bar."
   ]
  },
  {
   "cell_type": "code",
   "execution_count": 51,
   "metadata": {},
   "outputs": [
    {
     "name": "stderr",
     "output_type": "stream",
     "text": [
      "100%|████████████████████████████████████████████████████████████████████████████████████████████████████████████████████████████████████████████████████████████████████| 60000/60000 [00:00<00:00, 63767.89it/s]\n"
     ]
    }
   ],
   "source": [
    "# Train your own Word2Vec model using your own text training corpus.\n",
    "# Train Word2Vec on training set alone.\n",
    "i=0\n",
    "list_of_sent=[]  # List to store the sentence from the review comments.\n",
    "\n",
    "# Loop through all the Amazon Food Review comments, one comment at a time.\n",
    "for sent in tqdm(X_train.values.astype('U')):\n",
    "    list_of_sent.append(sent.split())         # From the Review, split it into individual sentence and add to the list."
   ]
  },
  {
   "cell_type": "markdown",
   "metadata": {},
   "source": [
    "#### Train the Word2Vec model on the training set alone."
   ]
  },
  {
   "cell_type": "code",
   "execution_count": 52,
   "metadata": {},
   "outputs": [
    {
     "name": "stdout",
     "output_type": "stream",
     "text": [
      "number of words that occured minimum 5 times  10247\n",
      "sample words  ['big', 'lover', 'fig', 'jam', 'uniqu', 'flavor', 'kind', 'mix', 'light', 'dark', 'mission', 'must', 'tri', 'awsom', 'great', 'product', 'good', 'price', 'definit', 'order', 'use', 'bottl', 'empti', 'excel', 'expect', 'box', 'full', 'fortun', 'cooki', 'like', 'one', 'nonetheless', 'got', 'small', 'tast', 'weird', 'okay', 'best', 'ever', 'review', 'amazon', 'check', 'label', 'contain', 'sure', 'enough', 'propylen', 'glycol', 'top', 'ingredi']\n"
     ]
    }
   ],
   "source": [
    "# min_count = 5 considers only words that occured atleast 5 times\n",
    "\n",
    "# Instantiate the Word2Vec vectorizer.\n",
    "\n",
    "# Word2Vec(list,word_repeat_count,dimension_of_each_word_vector,Number_of_Processor_cores)\n",
    "w2v_model=Word2Vec(list_of_sent,min_count=5,size=50, workers=4)\n",
    "\n",
    "# Store the word vocabulary.\n",
    "w2v_words = list(w2v_model.wv.vocab)\n",
    "\n",
    "# Print the Word vector.\n",
    "print(\"number of words that occured minimum 5 times \",len(w2v_words))\n",
    "print(\"sample words \", w2v_words[0:50])"
   ]
  },
  {
   "cell_type": "markdown",
   "metadata": {},
   "source": [
    "#### Compute the average Word2Vec for each review in the training set."
   ]
  },
  {
   "cell_type": "code",
   "execution_count": 53,
   "metadata": {},
   "outputs": [
    {
     "name": "stderr",
     "output_type": "stream",
     "text": [
      "100%|█████████████████████████████████████████████████████████████████████████████████████████████████████████████████████████████████████████████████████████████████████| 60000/60000 [00:51<00:00, 1155.55it/s]\n"
     ]
    },
    {
     "name": "stdout",
     "output_type": "stream",
     "text": [
      "The total number of words is 60000\n",
      "The dimension of each word vector is 50\n"
     ]
    }
   ],
   "source": [
    "# average Word2Vec\n",
    "# Avg. Word2Vec = (W2V(w1)+W2V(w2)+W2V(w3)+...... +W2V(w364171)) / 364171\n",
    "# compute average word2vec for each review.\n",
    "sent_vectors = [];                     # the avg-w2v for each sentence/review is stored in this list\n",
    "for sent in tqdm(list_of_sent):        # for each review/sentence in the training set\n",
    "    sent_vec = np.zeros(50)            # as word vectors are of zero length\n",
    "    cnt_words =0;                      # num of words with a valid vector in the sentence/review\n",
    "    for word in sent:                  # for each word in a review/sentence\n",
    "        if word in w2v_words:          # if the word exists in the vocabulary\n",
    "            vec = w2v_model.wv[word]   # convert the word to vector\n",
    "            sent_vec += vec\n",
    "            cnt_words += 1\n",
    "    if cnt_words != 0:\n",
    "        sent_vec /= cnt_words\n",
    "    sent_vectors.append(sent_vec)\n",
    "print('The total number of words is {}'.format(len(sent_vectors)))\n",
    "print('The dimension of each word vector is {}'.format(len(sent_vectors[0])))"
   ]
  },
  {
   "cell_type": "markdown",
   "metadata": {},
   "source": [
    "#### Build the text corpus of the cross-validation and test set."
   ]
  },
  {
   "cell_type": "code",
   "execution_count": 54,
   "metadata": {},
   "outputs": [
    {
     "name": "stderr",
     "output_type": "stream",
     "text": [
      "100%|███████████████████████████████████████████████████████████████████████████████████████████████████████████████████████████████████████████████████████████████████| 20000/20000 [00:00<00:00, 208892.16it/s]\n"
     ]
    }
   ],
   "source": [
    "# Build the cross-validation text corpus.\n",
    "i=0\n",
    "list_of_sent_cv=[]   # List to store the sentence from the review comments.\n",
    "\n",
    "# Loop through all the Amazon Food Review comments, one comment at a time.\n",
    "for sent in tqdm(X_cv.values):\n",
    "    list_of_sent_cv.append(sent.split())     # From the Review, split it into individual sentence and add to the list."
   ]
  },
  {
   "cell_type": "code",
   "execution_count": 55,
   "metadata": {},
   "outputs": [
    {
     "name": "stderr",
     "output_type": "stream",
     "text": [
      "100%|████████████████████████████████████████████████████████████████████████████████████████████████████████████████████████████████████████████████████████████████████| 20000/20000 [00:00<00:00, 92897.61it/s]\n"
     ]
    }
   ],
   "source": [
    "# Build the test text corpus.\n",
    "i=0\n",
    "list_of_sent_test=[]  # List to store the sentence from the review comments.\n",
    "\n",
    "# Loop through all the Amazon Food Review comments, one comment at a time.\n",
    "for sent in tqdm(X_test.values):\n",
    "    list_of_sent_test.append(sent.split())    # From the Review, split it into individual sentence and add to the list."
   ]
  },
  {
   "cell_type": "markdown",
   "metadata": {},
   "source": [
    "#### Use the trained word2vec model to compute the average Word2Vec for each review in the cross-validation and test set."
   ]
  },
  {
   "cell_type": "code",
   "execution_count": 56,
   "metadata": {},
   "outputs": [
    {
     "name": "stderr",
     "output_type": "stream",
     "text": [
      "100%|█████████████████████████████████████████████████████████████████████████████████████████████████████████████████████████████████████████████████████████████████████| 20000/20000 [00:19<00:00, 1041.93it/s]\n"
     ]
    },
    {
     "name": "stdout",
     "output_type": "stream",
     "text": [
      "The total number of words is 20000\n",
      "The dimension of each word vector is 50\n"
     ]
    }
   ],
   "source": [
    "# CROSS-VALIDATION :\n",
    "\n",
    "# average Word2Vec\n",
    "# Avg. Word2Vec = (W2V(w1)+W2V(w2)+W2V(w3)+...... +W2V(w364171)) / 364171\n",
    "# compute average word2vec for each review.\n",
    "sent_vectors_cv = [];                # the avg-w2v for each sentence/review is stored in this list\n",
    "for sent in tqdm(list_of_sent_cv):   # for each review/sentence in the test set\n",
    "    sent_vec = np.zeros(50)            # as word vectors are of zero length\n",
    "    cnt_words =0;                      # num of words with a valid vector in the sentence/review\n",
    "    for word in sent:                  # for each word in a review/sentence\n",
    "        if word in w2v_words:          # if the word exists in the vocabulary\n",
    "            vec = w2v_model.wv[word]   # convert the word to vector using the trained model.\n",
    "            sent_vec += vec\n",
    "            cnt_words += 1\n",
    "    if cnt_words != 0:\n",
    "        sent_vec /= cnt_words\n",
    "    sent_vectors_cv.append(sent_vec)\n",
    "print('The total number of words is {}'.format(len(sent_vectors_cv)))\n",
    "print('The dimension of each word vector is {}'.format(len(sent_vectors_cv[0])))"
   ]
  },
  {
   "cell_type": "code",
   "execution_count": 57,
   "metadata": {},
   "outputs": [
    {
     "name": "stderr",
     "output_type": "stream",
     "text": [
      "100%|█████████████████████████████████████████████████████████████████████████████████████████████████████████████████████████████████████████████████████████████████████| 20000/20000 [00:18<00:00, 1063.77it/s]\n"
     ]
    },
    {
     "name": "stdout",
     "output_type": "stream",
     "text": [
      "The total number of words is 20000\n",
      "The dimension of each word vector is 50\n"
     ]
    }
   ],
   "source": [
    "# TEST :\n",
    "\n",
    "# average Word2Vec\n",
    "# Avg. Word2Vec = (W2V(w1)+W2V(w2)+W2V(w3)+...... +W2V(w364171)) / 364171\n",
    "# compute average word2vec for each review.\n",
    "sent_vectors_test = [];                # the avg-w2v for each sentence/review is stored in this list\n",
    "for sent in tqdm(list_of_sent_test):   # for each review/sentence in the test set\n",
    "    sent_vec = np.zeros(50)            # as word vectors are of zero length\n",
    "    cnt_words =0;                      # num of words with a valid vector in the sentence/review\n",
    "    for word in sent:                  # for each word in a review/sentence\n",
    "        if word in w2v_words:          # if the word exists in the vocabulary\n",
    "            vec = w2v_model.wv[word]   # convert the word to vector using the trained model.\n",
    "            sent_vec += vec\n",
    "            cnt_words += 1\n",
    "    if cnt_words != 0:\n",
    "        sent_vec /= cnt_words\n",
    "    sent_vectors_test.append(sent_vec)\n",
    "print('The total number of words is {}'.format(len(sent_vectors_test)))\n",
    "print('The dimension of each word vector is {}'.format(len(sent_vectors_test[0])))"
   ]
  },
  {
   "cell_type": "markdown",
   "metadata": {},
   "source": [
    "#### Standardize / Normalize the data"
   ]
  },
  {
   "cell_type": "code",
   "execution_count": 58,
   "metadata": {},
   "outputs": [],
   "source": [
    "# Data-preprocessing: Normalizing the data\n",
    "from sklearn.preprocessing import Normalizer\n",
    "\n",
    "normalizer = Normalizer()\n",
    "\n",
    "#Standardize on the train data.\n",
    "X_train_stdzd = normalizer.fit_transform(sent_vectors)\n",
    "\n",
    "#Standardize the cv and test data.\n",
    "X_cv_stdzd  = normalizer.transform(sent_vectors_cv)      #use the same Normalizer on the cv set.\n",
    "X_test_stdzd  = normalizer.transform(sent_vectors_test)  #use the same Normalizer on the test set."
   ]
  },
  {
   "cell_type": "code",
   "execution_count": null,
   "metadata": {},
   "outputs": [],
   "source": []
  },
  {
   "cell_type": "markdown",
   "metadata": {},
   "source": [
    "#### Hyper-Parameter Tuning : Using the cross-validation dataset to calculate the optimal 'lambda' of LogisticRegression in Word2Vec case."
   ]
  },
  {
   "cell_type": "code",
   "execution_count": 70,
   "metadata": {},
   "outputs": [
    {
     "name": "stdout",
     "output_type": "stream",
     "text": [
      "[-8.8049, -6.5023, -4.1997, -1.8971, 0.4055, 2.7081, 5.0106, 7.3132]\n",
      "[0.9515, 0.9597, 0.9641, 0.9654, 0.9656, 0.9664, 0.9658, 0.958]\n"
     ]
    },
    {
     "data": {
      "image/png": "[encoded data removed]",
      "text/plain": [
       "<matplotlib.figure.Figure at 0x24c250a6710>"
      ]
     },
     "metadata": {},
     "output_type": "display_data"
    },
    {
     "name": "stdout",
     "output_type": "stream",
     "text": [
      "Starttime is : 2018-11-22 15:15:26.264767\n",
      "Endtime   is : 2018-11-22 15:15:42.916166\n"
     ]
    }
   ],
   "source": [
    "# Import the LogisticRegression and precision modules.\n",
    "from sklearn.linear_model import LogisticRegression\n",
    "from sklearn.metrics import precision_score\n",
    "\n",
    "# Set the start time of the current cell run.\n",
    "starttime_lr_w2v = datetime.datetime.now()\n",
    "\n",
    "# Set the range for the hyper-parameters.\n",
    "# We Know from theory:\n",
    "#          when lambda = 0, then model overfits\n",
    "#          when lambda tends to infinity , then model underfits\n",
    "\n",
    "# Experiment with different combination of C ranges.\n",
    "# Here C = Inverse(Lambda) where lambda is the hyper-parameter of the LR model\n",
    "#C = [1.5,1.0,0.75,0.25,0.15,0.09,0.05,0.02,0.0015]\n",
    "#C = [1500,150,15,1.5,0.15,0.015,0.0015,0.00015]\n",
    "#C = [100000,10000,1000,100,10,1,0.1,0.01,0.001,0.0001,0.00001]\n",
    "C = [0.00015,0.0015,0.015,0.15,1.5,15,150,1500]\n",
    "\n",
    "\n",
    "# Use the cross-validation dataset to determine the best hyper-parameter C.\n",
    "# Loop through various values of C.\n",
    "plot_X = []\n",
    "plot_Y = []\n",
    "for i in C:\n",
    "    # Iterate through various values of C = inverse(lambda),\n",
    "    lr_optimal = LogisticRegression(penalty='l2',            # use L2 regularizer.\n",
    "                                    C=(i),                   # use Inverse of Lambda.\n",
    "                                    class_weight='balanced', # uses the values of y to automatically adjust weights in the input data.\n",
    "                                    solver='sag')            # solver = 'sag' because of high dimension and L2 regularizer.\n",
    "    \n",
    "    lr_optimal.fit(X_train_stdzd, Y_train)                # fitting the Logistic Regression model on the training set.\n",
    "    Y_pred = lr_optimal.predict(X_cv_stdzd)               # predict the response from the Logistic Regression model on the cv set.\n",
    "    plot_X.append(round(np.log(i),4))                     # plot log(InverseOfLambda) \"C\" in the x-axis.\n",
    "    plot_Y.append(round(precision_score(Y_cv,Y_pred),4))  # plot precision score in the y-axis.\n",
    "\n",
    "#print X,Y\n",
    "print(plot_X)\n",
    "print(plot_Y)\n",
    "\n",
    "# Plot X-axis = log(C),Y-axis = precision, to determine the best hyper-parameter.\n",
    "plt.plot(plot_X,plot_Y)\n",
    "plt.title(\"Plot of CrossValidationPrecision vs log(Inverse of lambda) .\")  # Set the title of the plot.\n",
    "plt.xlabel(\"log(Inverse of lambda)\")                                       # Set the x label of the plot.\n",
    "plt.ylabel(\"CrossValidation Precision\")                                    # Set the y label of the plot.\n",
    "plt.show()                                                                 # render the plot.\n",
    "\n",
    "# Set the end time of the current cell run.\n",
    "endtime_lr_w2v = datetime.datetime.now()\n",
    "\n",
    "# Print the cell run duration.\n",
    "print(\"Starttime is : {}\".format(starttime_lr_w2v))\n",
    "print(\"Endtime   is : {}\".format(endtime_lr_w2v))"
   ]
  },
  {
   "cell_type": "code",
   "execution_count": 71,
   "metadata": {},
   "outputs": [
    {
     "data": {
      "text/plain": [
       "14.879731724872837"
      ]
     },
     "execution_count": 71,
     "metadata": {},
     "output_type": "execute_result"
    }
   ],
   "source": [
    "np.exp(2.70)"
   ]
  },
  {
   "cell_type": "code",
   "execution_count": 431,
   "metadata": {},
   "outputs": [
    {
     "name": "stdout",
     "output_type": "stream",
     "text": [
      "Trainingset      X: (60000, 50)\n",
      "CVset            X: (20000, 50)\n",
      "Testset          X: (20000, 50)\n",
      "Trainingset      Y: (60000,)\n",
      "CVset            Y: (20000,)\n",
      "Testset          Y: (20000,)\n"
     ]
    }
   ],
   "source": [
    "# Print the shape of the Input features X and class label Y for training and test set.\n",
    "print(\"Trainingset      X: {}\".format(X_train_stdzd.shape))\n",
    "print(\"CVset            X: {}\".format(X_cv_stdzd.shape))\n",
    "print(\"Testset          X: {}\".format(X_test_stdzd.shape))\n",
    "\n",
    "print(\"Trainingset      Y: {}\".format(Y_train.shape))\n",
    "print(\"CVset            Y: {}\".format(Y_cv.shape))\n",
    "print(\"Testset          Y: {}\".format(Y_test.shape))"
   ]
  },
  {
   "cell_type": "markdown",
   "metadata": {},
   "source": [
    "#### Error plots for varying combination of lambda ranges."
   ]
  },
  {
   "cell_type": "markdown",
   "metadata": {},
   "source": [
    "#### Lambda range : 0 to 1500"
   ]
  },
  {
   "attachments": {
    "Plot_CVPrecision_vs_Lambda_0_1500_Log%28InverseOfLambda%29_c15_w2v.png": {
     "image/png": "[encoded data removed]"
    }
   },
   "cell_type": "markdown",
   "metadata": {},
   "source": [
    "![Plot_CVPrecision_vs_Lambda_0_1500_Log%28InverseOfLambda%29_c15_w2v.png](attachment:Plot_CVPrecision_vs_Lambda_0_1500_Log%28InverseOfLambda%29_c15_w2v.png)"
   ]
  },
  {
   "cell_type": "markdown",
   "metadata": {},
   "source": [
    "#### Observations :\n",
    "    We observe, the curve reaches a maximum value at lambda ~= 15.\n",
    "    Here lambda ranges from 0 to 1500."
   ]
  },
  {
   "cell_type": "code",
   "execution_count": null,
   "metadata": {},
   "outputs": [],
   "source": []
  },
  {
   "cell_type": "markdown",
   "metadata": {},
   "source": [
    "#### Lambda Range : 0 to 150"
   ]
  },
  {
   "attachments": {
    "Plot_CVPrecision_vs_Lambda_0_150_Log%28InverseOfLambda%29_c0_015_w2v.png": {
     "image/png": "[encoded data removed]"
    }
   },
   "cell_type": "markdown",
   "metadata": {},
   "source": [
    "![Plot_CVPrecision_vs_Lambda_0_150_Log%28InverseOfLambda%29_c0_015_w2v.png](attachment:Plot_CVPrecision_vs_Lambda_0_150_Log%28InverseOfLambda%29_c0_015_w2v.png)"
   ]
  },
  {
   "cell_type": "markdown",
   "metadata": {},
   "source": [
    "#### Observations :\n",
    "    We observe, the curve reached maximum when lambda ~= 0.015 .\n",
    "    Here lambda ranges from 0 to 150."
   ]
  },
  {
   "cell_type": "code",
   "execution_count": null,
   "metadata": {},
   "outputs": [],
   "source": []
  },
  {
   "cell_type": "markdown",
   "metadata": {},
   "source": [
    "#### Lambda range : 0 to 1.50 "
   ]
  },
  {
   "attachments": {
    "Plot_CVPrecision_vs_Lambda_0_1dot5_Log%28InverseOfLambda%29_c0_02_w2v.png": {
     "image/png": "[encoded data removed]"
    }
   },
   "cell_type": "markdown",
   "metadata": {},
   "source": [
    "![Plot_CVPrecision_vs_Lambda_0_1dot5_Log%28InverseOfLambda%29_c0_02_w2v.png](attachment:Plot_CVPrecision_vs_Lambda_0_1dot5_Log%28InverseOfLambda%29_c0_02_w2v.png)"
   ]
  },
  {
   "cell_type": "markdown",
   "metadata": {},
   "source": [
    "#### Observations :\n",
    "    The cross-validation precision is maximum when log(lambda) ~= -2.40 .\n",
    "    Therefore lambda = exponential(log(lambda)) = np.exp(-1.897) = 0.02\n",
    "    Here lambda ranges from 0 to 1.50."
   ]
  },
  {
   "cell_type": "markdown",
   "metadata": {},
   "source": [
    "#### Hyper-parameter Choice : \n",
    "      Based on the CV plots for varying combination of lambda ranges,lambda =15, when lambda ranges between 0 and 1500 is the best choice."
   ]
  },
  {
   "cell_type": "code",
   "execution_count": null,
   "metadata": {},
   "outputs": [],
   "source": []
  },
  {
   "cell_type": "markdown",
   "metadata": {},
   "source": [
    "#### Fit the Logistic Regression model in Word2Vec case in the test set and compute the error metrics."
   ]
  },
  {
   "cell_type": "code",
   "execution_count": 72,
   "metadata": {},
   "outputs": [
    {
     "name": "stdout",
     "output_type": "stream",
     "text": [
      "Starttime : 2018-11-22 15:24:06.901231\n",
      "Endtime   : 2018-11-22 15:24:11.222074\n"
     ]
    }
   ],
   "source": [
    "# ============================== LR with lambda = optimal lambda ===============================================\n",
    "\n",
    "# Set the start time of the current cell run.\n",
    "starttime_lr_w2v = datetime.datetime.now()\n",
    "\n",
    "# instantiate the Logistic Regression model with lambda = 15 based on the above error plots .\n",
    "lr_optimal = LogisticRegression(penalty='l2',            # use L2 regularizer.\n",
    "                                C=(15),                  # use Inverse of Lambda.\n",
    "                                class_weight='balanced', # uses the values of y to automatically adjust weights in the input data.\n",
    "                                solver='sag')            # solver = 'sag' because of high dimension and L2 regularizer.\n",
    "\n",
    "lr_optimal.fit(X_train_stdzd, Y_train)           # fitting the Logistic Regression model.\n",
    "Y_pred_test = lr_optimal.predict(X_test_stdzd)   # predict the response from the Logistic Regression model.\n",
    "\n",
    "# Set the end time of the current cell run.\n",
    "endtime_lr_w2v = datetime.datetime.now()\n",
    "\n",
    "# Print the cell run duration.\n",
    "print(\"Starttime : {}\".format(starttime_lr_w2v))\n",
    "print(\"Endtime   : {}\".format(endtime_lr_w2v))"
   ]
  },
  {
   "cell_type": "code",
   "execution_count": null,
   "metadata": {},
   "outputs": [],
   "source": []
  },
  {
   "cell_type": "markdown",
   "metadata": {},
   "source": [
    "#### Plot the classifier performance metrics."
   ]
  },
  {
   "cell_type": "code",
   "execution_count": 73,
   "metadata": {},
   "outputs": [
    {
     "data": {
      "image/png": "[encoded data removed]",
      "text/plain": [
       "<matplotlib.figure.Figure at 0x24c91712978>"
      ]
     },
     "metadata": {},
     "output_type": "display_data"
    }
   ],
   "source": [
    "# evaluate the model and report the metrics.\n",
    "from sklearn.metrics import confusion_matrix\n",
    "conf_mat = confusion_matrix(Y_test, Y_pred_test)\n",
    "fig, ax = plt.subplots(figsize=(5,5))\n",
    "sns.heatmap(conf_mat, annot=True, fmt='d'\n",
    "            ,xticklabels=['negative','positive'], yticklabels=['negative','positive'])\n",
    "plt.title('Confusion Matrix : (Vectorizer = Word2Vec)')\n",
    "plt.ylabel('Actual')\n",
    "plt.xlabel('Predicted')\n",
    "plt.show()"
   ]
  },
  {
   "cell_type": "code",
   "execution_count": 74,
   "metadata": {},
   "outputs": [
    {
     "name": "stdout",
     "output_type": "stream",
     "text": [
      "1    16442\n",
      "0     3558\n",
      "Name: Comment, dtype: int64\n"
     ]
    }
   ],
   "source": [
    "#Class composition in the testset.\n",
    "dfYTest = pd.DataFrame(list(Y_test),columns=['Comment'])\n",
    "#print(list(Y_test))\n",
    "print(dfYTest[\"Comment\"].value_counts())"
   ]
  },
  {
   "cell_type": "code",
   "execution_count": 75,
   "metadata": {
    "scrolled": true
   },
   "outputs": [
    {
     "name": "stdout",
     "output_type": "stream",
     "text": [
      "Performance Metrics :\n",
      "+------------------------+--------------------+--------------------+\n",
      "| Text-VectorizationType | Performance Metric | Value              |\n",
      "+------------------------+--------------------+--------------------+\n",
      "|        Word2Vec        |      Accuracy      | 0.85755            |\n",
      "|           -            |     Precision      | 0.96631217838765   |\n",
      "|           -            |       Recall       | 0.8565867899282326 |\n",
      "|           -            |      F1 Score      | 0.9081471451139698 |\n",
      "|           -            |  ConfusionMatrix   | [[ 3067   491]     |\n",
      "|                        |                    |  [ 2358 14084]]    |\n",
      "|       ----------       |    -----------     | ----------         |\n",
      "+------------------------+--------------------+--------------------+\n"
     ]
    }
   ],
   "source": [
    "# Load the classification metrics\n",
    "from sklearn.metrics import accuracy_score\n",
    "from sklearn.metrics import precision_score\n",
    "from sklearn.metrics import recall_score\n",
    "from sklearn.metrics import f1_score\n",
    "# Load the prettytable\n",
    "from prettytable import PrettyTable\n",
    "\n",
    "# Instantiate the prettytable module.\n",
    "x = PrettyTable()\n",
    "# Set the column names for the table.\n",
    "x.field_names = [\"Text-VectorizationType\",\"Performance Metric\", \"Value\"]\n",
    "\n",
    "# Add the classification metrics to the table.\n",
    "x.add_row(['Word2Vec','Accuracy',accuracy_score(Y_test,Y_pred_test)])\n",
    "x.add_row(['-','Precision',precision_score(Y_test,Y_pred_test)])\n",
    "x.add_row(['-','Recall',recall_score(Y_test,Y_pred_test)])\n",
    "x.add_row(['-','F1 Score',f1_score(Y_test,Y_pred_test)])\n",
    "x.add_row(['-','ConfusionMatrix',confusion_matrix(Y_test, Y_pred_test)])\n",
    "x.add_row(['----------','-----------','----------'])\n",
    "\n",
    "# Add the classification metrics to the final summary table.\n",
    "summaryTable.add_row(['Word2Vec','15','Accuracy',accuracy_score(Y_test,Y_pred_test)])\n",
    "summaryTable.add_row(['-','15','Precision',precision_score(Y_test,Y_pred_test)])\n",
    "summaryTable.add_row(['-','15','Recall',recall_score(Y_test,Y_pred_test)])\n",
    "summaryTable.add_row(['-','15','F1 Score',f1_score(Y_test,Y_pred_test)])\n",
    "summaryTable.add_row(['-','15','ConfusionMatrix',confusion_matrix(Y_test, Y_pred_test)])\n",
    "summaryTable.add_row(['----------','-----------','----------','----------'])\n",
    "\n",
    "\n",
    "# Apply data alignment.\n",
    "x.align[\"Value\"] = \"l\"\n",
    "\n",
    "# Print the table.\n",
    "print(\"Performance Metrics :\")\n",
    "print(x)"
   ]
  },
  {
   "cell_type": "code",
   "execution_count": null,
   "metadata": {},
   "outputs": [],
   "source": []
  },
  {
   "cell_type": "markdown",
   "metadata": {},
   "source": [
    "#### CONCLUSION :\n",
    "\n",
    "#### Performance Metrics "
   ]
  },
  {
   "attachments": {
    "ConfusionMatrix_L2Regularizer_Word2Vec.PNG": {
     "image/png": "[encoded data removed]"
    }
   },
   "cell_type": "markdown",
   "metadata": {},
   "source": [
    "![ConfusionMatrix_L2Regularizer_Word2Vec.PNG](attachment:ConfusionMatrix_L2Regularizer_Word2Vec.PNG)"
   ]
  },
  {
   "cell_type": "markdown",
   "metadata": {},
   "source": [
    "#### We see good precision score for the LR model with L2 Regularizer. The FalsePositive values is acceptable while FalseNegative is a concern. The text review comment has been enriched by adding contents of summary column from the Amazon Food Reviews dataset."
   ]
  },
  {
   "cell_type": "code",
   "execution_count": null,
   "metadata": {},
   "outputs": [],
   "source": []
  },
  {
   "cell_type": "markdown",
   "metadata": {},
   "source": [
    "### Vectorization Method : TermFrequency-InverseDocumentFrequency_ Weighted Word2Vector (TF-IDF W2V)"
   ]
  },
  {
   "cell_type": "markdown",
   "metadata": {},
   "source": [
    "#### Convert review text into numeric vectors using TF-IDF_WW2F"
   ]
  },
  {
   "cell_type": "code",
   "execution_count": 440,
   "metadata": {},
   "outputs": [
    {
     "name": "stdout",
     "output_type": "stream",
     "text": [
      "the type of count vectorizer  <class 'scipy.sparse.csr.csr_matrix'>\n",
      "the shape of out text TFIDF vectorizer  (60000, 901762)\n",
      "the number of unique words including both unigrams and bigrams  901762\n"
     ]
    }
   ],
   "source": [
    "#TF-IDF\n",
    "# Apply TF-IDF vectorization only on the trainingset.\n",
    "tf_idf_vect = TfidfVectorizer(ngram_range=(1,2))\n",
    "\n",
    "#Train you tf-idf vectorizer on the train data.\n",
    "final_tf_idf = tf_idf_vect.fit_transform(X_train.values.astype('U'))\n",
    "\n",
    "#Print the details.\n",
    "print(\"the type of count vectorizer \",type(final_tf_idf))\n",
    "print(\"the shape of out text TFIDF vectorizer \",final_tf_idf.get_shape())\n",
    "print(\"the number of unique words including both unigrams and bigrams \", final_tf_idf.get_shape()[1])"
   ]
  },
  {
   "cell_type": "markdown",
   "metadata": {},
   "source": [
    "#### Use the TF-IDF vectorizer trained in the preceding step to convert cross-validation and test set to vectors."
   ]
  },
  {
   "cell_type": "code",
   "execution_count": 441,
   "metadata": {},
   "outputs": [
    {
     "name": "stdout",
     "output_type": "stream",
     "text": [
      "the type of count vectorizer  <class 'scipy.sparse.csr.csr_matrix'>\n",
      "the shape of out text TF-IDF vectorizer  (20000, 901762)\n",
      "the number of unique words  901762\n"
     ]
    }
   ],
   "source": [
    "#use the same countvectorizer on the cross-validation set.\n",
    "final_tf_idf_cvset = tf_idf_vect.transform(X_cv.values)\n",
    "\n",
    "#Print the details.\n",
    "print(\"the type of count vectorizer \",type(final_tf_idf_cvset))\n",
    "print(\"the shape of out text TF-IDF vectorizer \",final_tf_idf_cvset.get_shape())\n",
    "print(\"the number of unique words \", final_tf_idf_cvset.get_shape()[1])"
   ]
  },
  {
   "cell_type": "code",
   "execution_count": 442,
   "metadata": {},
   "outputs": [
    {
     "name": "stdout",
     "output_type": "stream",
     "text": [
      "the type of count vectorizer  <class 'scipy.sparse.csr.csr_matrix'>\n",
      "the shape of out text TF-IDF vectorizer  (20000, 901762)\n",
      "the number of unique words  901762\n"
     ]
    }
   ],
   "source": [
    "#use the same countvectorizer on the test set.\n",
    "final_tf_idf_testset = tf_idf_vect.transform(X_test.values)\n",
    "\n",
    "#Print the details.\n",
    "print(\"the type of count vectorizer \",type(final_tf_idf_testset))\n",
    "print(\"the shape of out text TF-IDF vectorizer \",final_tf_idf_testset.get_shape())\n",
    "print(\"the number of unique words \", final_tf_idf_testset.get_shape()[1])"
   ]
  },
  {
   "cell_type": "code",
   "execution_count": 443,
   "metadata": {},
   "outputs": [],
   "source": [
    "# we are converting a dictionary with word as a key, and the idf as a value\n",
    "dictionary = dict(zip(tf_idf_vect.get_feature_names(), list(tf_idf_vect.idf_)))"
   ]
  },
  {
   "cell_type": "markdown",
   "metadata": {},
   "source": [
    "#### Build the list of sentences for the training set."
   ]
  },
  {
   "cell_type": "code",
   "execution_count": 444,
   "metadata": {},
   "outputs": [],
   "source": [
    "# Build the list of sentences from the training set.\n",
    "list_of_sent=[]                           # List to store the sentences from the Review comments.\n",
    "for sent in X_train.values.astype('U'):   # Loop through the Review comments, one at a time.\n",
    "    list_of_sent.append(sent.split())     # Split the Review comments into sentences and store them in the List."
   ]
  },
  {
   "cell_type": "markdown",
   "metadata": {},
   "source": [
    "#### Build the list of sentences for the cross-validation set."
   ]
  },
  {
   "cell_type": "code",
   "execution_count": 445,
   "metadata": {},
   "outputs": [],
   "source": [
    "# Build the list of sentences from the cross-validation set.\n",
    "list_of_sent_cv=[]                          # List to store the sentences from the Review comments.\n",
    "for sent in X_cv.values:                    # Loop through the Review comments, one at a time.\n",
    "    list_of_sent_cv.append(sent.split())    # Split the Review comments into sentences and store them in the List."
   ]
  },
  {
   "cell_type": "markdown",
   "metadata": {},
   "source": [
    "#### Build the list of sentences for the test set."
   ]
  },
  {
   "cell_type": "code",
   "execution_count": 446,
   "metadata": {},
   "outputs": [],
   "source": [
    "# Build the list of sentences from the test set.\n",
    "list_of_sent_test=[]                        # List to store the sentences from the Review comments.\n",
    "for sent in X_test.values:                  # Loop through the Review comments, one at a time.\n",
    "    list_of_sent_test.append(sent.split())  # Split the Review comments into sentences and store them in the List."
   ]
  },
  {
   "cell_type": "markdown",
   "metadata": {},
   "source": [
    "#### Train the Word2Vec model on the training set alone."
   ]
  },
  {
   "cell_type": "code",
   "execution_count": 447,
   "metadata": {},
   "outputs": [
    {
     "name": "stdout",
     "output_type": "stream",
     "text": [
      "number of words that occured minimum 5 times  10247\n",
      "sample words  ['big', 'lover', 'fig', 'jam', 'uniqu', 'flavor', 'kind', 'mix', 'light', 'dark', 'mission', 'must', 'tri', 'awsom', 'great', 'product', 'good', 'price', 'definit', 'order', 'use', 'bottl', 'empti', 'excel', 'expect', 'box', 'full', 'fortun', 'cooki', 'like', 'one', 'nonetheless', 'got', 'small', 'tast', 'weird', 'okay', 'best', 'ever', 'review', 'amazon', 'check', 'label', 'contain', 'sure', 'enough', 'propylen', 'glycol', 'top', 'ingredi']\n"
     ]
    }
   ],
   "source": [
    "# min_count = 5 considers only words that occured atleast 5 times\n",
    "# Word2Vec Syntax : Word2Vec(list,word_repeat_count,dimension_of_each_word_vector,Number_of_Processor_cores)\n",
    "\n",
    "# Instantiate the Word2Vec vectorizer.\n",
    "w2v_model=Word2Vec(list_of_sent,min_count=5,size=50, workers=4)\n",
    "# Get the vocabulary. \n",
    "w2v_words = list(w2v_model.wv.vocab)\n",
    "# Print the details.\n",
    "print(\"number of words that occured minimum 5 times \",len(w2v_words))\n",
    "print(\"sample words \", w2v_words[0:50])"
   ]
  },
  {
   "cell_type": "markdown",
   "metadata": {},
   "source": [
    "#### Train the TF-IDF Weighted Word2Vec on the training set."
   ]
  },
  {
   "cell_type": "code",
   "execution_count": 448,
   "metadata": {},
   "outputs": [
    {
     "name": "stderr",
     "output_type": "stream",
     "text": [
      "100%|██████████████████████████████████████████████████████████████████████████████████████████████████████████████████████████████████████████████████████████████████████| 60000/60000 [01:06<00:00, 903.35it/s]\n"
     ]
    }
   ],
   "source": [
    "# TF-IDF weighted Word2Vec\n",
    "tfidf_feat = tf_idf_vect.get_feature_names() # tfidf words/col-names\n",
    "# final_tf_idf is the sparse matrix with row= sentence, col=word and cell_val = tfidf\n",
    "\n",
    "tfidf_sent_vectors = [];              # the tfidf-w2v for each sentence/review is stored in this list\n",
    "row=0;\n",
    "for sent in tqdm(list_of_sent):       # for each review/sentence \n",
    "    sent_vec = np.zeros(50)           # as word vectors are of zero length\n",
    "    weight_sum =0;                    # num of words with a valid vector in the sentence/review\n",
    "    for word in sent:                 # for each word in a review/sentence\n",
    "        if word in w2v_words:\n",
    "            vec = w2v_model.wv[word]  # Vector representation of the word.\n",
    "            \n",
    "            # dictionary[word] = idf value of word in whole courpus\n",
    "            # sent.count(word) = tf values of word in this review\n",
    "            tfidf_avgw2v = dictionary[word]*(sent.count(word)/len(sent))   # Compute the weights for Weighted Average.\n",
    "            \n",
    "            # Avg. Word2Vec = ((W2V(v1)*w1)+(W2V(v2)*w2)+(W2V(v3)*w3)+...... +(W2V(v364171)*w364171) / Sum(w1,w2,..w364171)            \n",
    "            sent_vec += (vec * tfidf_avgw2v)  # Compute the numerator part of the above formula.\n",
    "            weight_sum += tfidf_avgw2v        # Compute the denominator part of the above formula.\n",
    "            \n",
    "    if weight_sum != 0:\n",
    "        sent_vec /= weight_sum                # Numerator/Denominator to get the Weighted Average.\n",
    "    tfidf_sent_vectors.append(sent_vec)       # Add this to the List.\n",
    "    row += 1"
   ]
  },
  {
   "cell_type": "markdown",
   "metadata": {},
   "source": [
    "#### Use the TF-IDF Weigthed Word2Vec model trained on training set to Cross-Validation set."
   ]
  },
  {
   "cell_type": "code",
   "execution_count": 449,
   "metadata": {},
   "outputs": [
    {
     "name": "stderr",
     "output_type": "stream",
     "text": [
      "100%|██████████████████████████████████████████████████████████████████████████████████████████████████████████████████████████████████████████████████████████████████████| 20000/20000 [00:24<00:00, 802.37it/s]\n"
     ]
    }
   ],
   "source": [
    "# TF-IDF weighted Word2Vec\n",
    "tfidf_feat = tf_idf_vect.get_feature_names() # tfidf words/col-names\n",
    "# final_tf_idf is the sparse matrix with row= sentence, col=word and cell_val = tfidf\n",
    "\n",
    "tfidf_sent_vectors_cv = [];              # the tfidf-w2v for each sentence/review is stored in this list\n",
    "row=0;\n",
    "for sent in tqdm(list_of_sent_cv):    # for each review/sentence \n",
    "    sent_vec = np.zeros(50)           # as word vectors are of zero length\n",
    "    weight_sum =0;                    # num of words with a valid vector in the sentence/review\n",
    "    for word in sent:                 # for each word in a review/sentence\n",
    "        if word in w2v_words:\n",
    "            vec = w2v_model.wv[word]  # Vector representation of the word.\n",
    "            \n",
    "            # dictionary[word] = idf value of word in whole courpus\n",
    "            # sent.count(word) = tf values of word in this review\n",
    "            tfidf_avgw2v = dictionary[word]*(sent.count(word)/len(sent))   # Compute the weights for Weighted Average.\n",
    "            \n",
    "            # Avg. Word2Vec = ((W2V(v1)*w1)+(W2V(v2)*w2)+(W2V(v3)*w3)+...... +(W2V(v364171)*w364171) / Sum(w1,w2,..w364171)            \n",
    "            sent_vec += (vec * tfidf_avgw2v)  # Compute the numerator part of the above formula.\n",
    "            weight_sum += tfidf_avgw2v        # Compute the denominator part of the above formula.\n",
    "            \n",
    "    if weight_sum != 0:\n",
    "        sent_vec /= weight_sum                # Numerator/Denominator to get the Weighted Average.\n",
    "    tfidf_sent_vectors_cv.append(sent_vec)    # Add this to the List.\n",
    "    row += 1"
   ]
  },
  {
   "cell_type": "markdown",
   "metadata": {},
   "source": [
    "#### Use the TF-IDF Weigthed Word2Vec model trained on training set to Test set."
   ]
  },
  {
   "cell_type": "code",
   "execution_count": 450,
   "metadata": {},
   "outputs": [
    {
     "name": "stderr",
     "output_type": "stream",
     "text": [
      "100%|██████████████████████████████████████████████████████████████████████████████████████████████████████████████████████████████████████████████████████████████████████| 20000/20000 [00:24<00:00, 816.97it/s]\n"
     ]
    }
   ],
   "source": [
    "# TF-IDF weighted Word2Vec\n",
    "tfidf_feat = tf_idf_vect.get_feature_names() # tfidf words/col-names\n",
    "# final_tf_idf is the sparse matrix with row= sentence, col=word and cell_val = tfidf\n",
    "\n",
    "tfidf_sent_vectors_test = [];              # the tfidf-w2v for each sentence/review is stored in this list\n",
    "row=0;\n",
    "for sent in tqdm(list_of_sent_test):  # for each review/sentence \n",
    "    sent_vec = np.zeros(50)           # as word vectors are of zero length\n",
    "    weight_sum =0;                    # num of words with a valid vector in the sentence/review\n",
    "    for word in sent:                 # for each word in a review/sentence\n",
    "        if word in w2v_words:\n",
    "            vec = w2v_model.wv[word]  # Vector representation of the word.\n",
    "            \n",
    "            # dictionary[word] = idf value of word in whole courpus\n",
    "            # sent.count(word) = tf values of word in this review\n",
    "            tfidf_avgw2v = dictionary[word]*(sent.count(word)/len(sent))   # Compute the weights for Weighted Average.\n",
    "            \n",
    "            # Avg. Word2Vec = ((W2V(v1)*w1)+(W2V(v2)*w2)+(W2V(v3)*w3)+...... +(W2V(v364171)*w364171) / Sum(w1,w2,..w364171)            \n",
    "            sent_vec += (vec * tfidf_avgw2v)  # Compute the numerator part of the above formula.\n",
    "            weight_sum += tfidf_avgw2v        # Compute the denominator part of the above formula.\n",
    "            \n",
    "    if weight_sum != 0:\n",
    "        sent_vec /= weight_sum                # Numerator/Denominator to get the Weighted Average.\n",
    "    tfidf_sent_vectors_test.append(sent_vec)  # Add this to the List.\n",
    "    row += 1"
   ]
  },
  {
   "cell_type": "code",
   "execution_count": null,
   "metadata": {},
   "outputs": [],
   "source": []
  },
  {
   "cell_type": "markdown",
   "metadata": {},
   "source": [
    "#### Standardize / Normalize the data"
   ]
  },
  {
   "cell_type": "code",
   "execution_count": 451,
   "metadata": {},
   "outputs": [],
   "source": [
    "# Data-preprocessing: Normalizing the data\n",
    "from sklearn.preprocessing import Normalizer\n",
    "\n",
    "normalizer = Normalizer()\n",
    "\n",
    "#Standardize on the train data.\n",
    "X_train_stdzd = normalizer.fit_transform(tfidf_sent_vectors)\n",
    "\n",
    "#Standardize the cv and test data.\n",
    "X_cv_stdzd    = normalizer.transform(tfidf_sent_vectors_cv)    #use the same Normalizer on the cv set.\n",
    "X_test_stdzd  = normalizer.transform(tfidf_sent_vectors_test)  #use the same Normalizer on the test set."
   ]
  },
  {
   "cell_type": "code",
   "execution_count": null,
   "metadata": {},
   "outputs": [],
   "source": []
  },
  {
   "cell_type": "markdown",
   "metadata": {},
   "source": [
    "#### Hyper-Parameter Tuning : Using the cross-validation dataset to calculate the optimal 'lambda' of LogisticRegression in Avg-Word2Vec case."
   ]
  },
  {
   "cell_type": "code",
   "execution_count": 77,
   "metadata": {},
   "outputs": [
    {
     "name": "stdout",
     "output_type": "stream",
     "text": [
      "[7.3132, 5.0106, 4.6052, 3.912, 3.2189, 2.4849, 1.7918, 1.0986, 0.6931, 0.0, -2.3026, -4.6052, -6.9078]\n",
      "[0.966, 0.9632, 0.9657, 0.9726, 0.967, 0.9656, 0.9657, 0.9655, 0.9656, 0.9658, 0.9658, 0.9636, 0.9582]\n"
     ]
    },
    {
     "data": {
      "image/png": "[encoded data removed]",
      "text/plain": [
       "<matplotlib.figure.Figure at 0x24c28e61f60>"
      ]
     },
     "metadata": {},
     "output_type": "display_data"
    },
    {
     "name": "stdout",
     "output_type": "stream",
     "text": [
      "Starttime is : 2018-11-22 15:30:50.842627\n",
      "Endtime   is : 2018-11-22 15:31:26.963794\n"
     ]
    }
   ],
   "source": [
    "# Import the LogisticRegression and precision modules.\n",
    "from sklearn.linear_model import LogisticRegression\n",
    "from sklearn.metrics import precision_score\n",
    "\n",
    "# Set the start time of the current cell run.\n",
    "starttime_lr_avgw2v = datetime.datetime.now()\n",
    "\n",
    "# Set the range for the hyper-parameters.\n",
    "# We Know from theory:\n",
    "#          when lambda = 0, then model overfits\n",
    "#          when lambda tends to infinity , then model underfits\n",
    "\n",
    "# Experiment with different combination of C ranges.\n",
    "# Here C = Inverse(Lambda) where lambda is the hyper-parameter of the LR model\n",
    "#C = [150,15,1.5,0.15,0.015,0.0015,0.00015]\n",
    "#C = [10000,1000,100,10,1,0.1,0.01,0.001]\n",
    "#C = [1000000,100000,10000,1000,100,10,1,0.1,0.01]\n",
    "C = [1500,150,100,50,25,12,6,3,2,1,0.1,0.01,0.001]\n",
    "\n",
    "# Use the cross-validation dataset to determine the best hyper-parameter C.\n",
    "# Loop through various values of C.\n",
    "plot_X = []\n",
    "plot_Y = []\n",
    "for i in C:\n",
    "    # Iterate through various values of C = inverse(lambda),\n",
    "    lr_optimal = LogisticRegression(penalty='l2',            # use L2 regularizer.\n",
    "                                    C=(i),                   # use Inverse of Lambda.\n",
    "                                    class_weight='balanced', # uses the values of y to automatically adjust weights in the input data.\n",
    "                                    solver='sag')            # solver = 'sag' because of high dimension and L2 regularizer.\n",
    "    \n",
    "    lr_optimal.fit(X_train_stdzd, Y_train)       # fitting the Logistic Regression model on the training set.\n",
    "    Y_pred = lr_optimal.predict(X_cv_stdzd)      # predict the response from the Logistic Regression model on the cv set.\n",
    "    plot_X.append(round(np.log(i),4))                         # plot log(InverseOfLambda) \"C\" in the x-axis.\n",
    "    plot_Y.append(round(precision_score(Y_cv,Y_pred),4))      # plot precision score in the y-axis.\n",
    "\n",
    "#print X,Y\n",
    "print(plot_X)\n",
    "print(plot_Y)\n",
    "\n",
    "# Plot X-axis = log(C),Y-axis = precision, to determine the best hyper-parameter.\n",
    "plt.plot(plot_X,plot_Y)\n",
    "plt.title(\"Plot of CrossValidationPrecision vs log(Inverse of lambda) .\")  # Set the title of the plot.\n",
    "plt.xlabel(\"log(Inverse of lambda)\")                                       # Set the x label of the plot.\n",
    "plt.ylabel(\"CrossValidation Precision\")                                    # Set the y label of the plot.\n",
    "plt.show()                                                                 # render the plot.\n",
    "\n",
    "# Set the end time of the current cell run.\n",
    "endtime_lr_avgw2v = datetime.datetime.now()\n",
    "\n",
    "# Print the cell run duration.\n",
    "print(\"Starttime is : {}\".format(starttime_lr_avgw2v))\n",
    "print(\"Endtime   is : {}\".format(endtime_lr_avgw2v))"
   ]
  },
  {
   "cell_type": "code",
   "execution_count": 78,
   "metadata": {},
   "outputs": [
    {
     "name": "stdout",
     "output_type": "stream",
     "text": [
      "1.0\n",
      "149.90473614904667\n",
      "9.974182454814718\n",
      "49.99884974182383\n"
     ]
    }
   ],
   "source": [
    "print(np.exp(0.0))\n",
    "print(np.exp(5.01))\n",
    "print(np.exp(2.30))\n",
    "print(np.exp(3.912))"
   ]
  },
  {
   "cell_type": "code",
   "execution_count": 466,
   "metadata": {},
   "outputs": [
    {
     "name": "stdout",
     "output_type": "stream",
     "text": [
      "Trainingset      X: (60000, 50)\n",
      "CVset            X: (20000, 50)\n",
      "Testset          X: (20000, 50)\n",
      "Trainingset      Y: (60000,)\n",
      "CVset            Y: (20000,)\n",
      "Testset          Y: (20000,)\n"
     ]
    }
   ],
   "source": [
    "# Print the shape of the Input features X and class label Y for training and test set.\n",
    "print(\"Trainingset      X: {}\".format(X_train_stdzd.shape))\n",
    "print(\"CVset            X: {}\".format(X_cv_stdzd.shape))\n",
    "print(\"Testset          X: {}\".format(X_test_stdzd.shape))\n",
    "\n",
    "print(\"Trainingset      Y: {}\".format(Y_train.shape))\n",
    "print(\"CVset            Y: {}\".format(Y_cv.shape))\n",
    "print(\"Testset          Y: {}\".format(Y_test.shape))"
   ]
  },
  {
   "cell_type": "markdown",
   "metadata": {},
   "source": [
    "#### Error plots for varying combination of lambda ranges."
   ]
  },
  {
   "cell_type": "markdown",
   "metadata": {},
   "source": [
    "#### Lambda range : 0 to 1000000"
   ]
  },
  {
   "attachments": {
    "Plot_CVPrecision_vs_Lambda_0_1000000_Log%28InverseOfLambda%29_c992_Avg_W2V.png": {
     "image/png": "[encoded data removed]"
    }
   },
   "cell_type": "markdown",
   "metadata": {},
   "source": [
    "![Plot_CVPrecision_vs_Lambda_0_1000000_Log%28InverseOfLambda%29_c992_Avg_W2V.png](attachment:Plot_CVPrecision_vs_Lambda_0_1000000_Log%28InverseOfLambda%29_c992_Avg_W2V.png)"
   ]
  },
  {
   "cell_type": "markdown",
   "metadata": {},
   "source": [
    "#### Observations :\n",
    "    We observe, the curve reaches a maximum value at lambda ~= 9.97.\n",
    "    Here lambda ranges from 0 to 1000000."
   ]
  },
  {
   "cell_type": "code",
   "execution_count": null,
   "metadata": {},
   "outputs": [],
   "source": []
  },
  {
   "cell_type": "markdown",
   "metadata": {},
   "source": [
    "#### Lambda Range : 0 to 10000"
   ]
  },
  {
   "attachments": {
    "Plot_CVPrecision_vs_Lambda_0_10000_Log%28InverseOfLambda%29_c992_Avg_W2V.png": {
     "image/png": "[encoded data removed]"
    }
   },
   "cell_type": "markdown",
   "metadata": {},
   "source": [
    "![Plot_CVPrecision_vs_Lambda_0_10000_Log%28InverseOfLambda%29_c992_Avg_W2V.png](attachment:Plot_CVPrecision_vs_Lambda_0_10000_Log%28InverseOfLambda%29_c992_Avg_W2V.png)"
   ]
  },
  {
   "cell_type": "markdown",
   "metadata": {},
   "source": [
    "#### Observations :\n",
    "    We observe, the curve reached maximum when lambda ~= 150 .\n",
    "    Here lambda ranges from 0 to 10000."
   ]
  },
  {
   "cell_type": "code",
   "execution_count": null,
   "metadata": {},
   "outputs": [],
   "source": []
  },
  {
   "cell_type": "markdown",
   "metadata": {},
   "source": [
    "#### Lambda range : 0 to 150"
   ]
  },
  {
   "attachments": {
    "Plot_CVPrecision_vs_Lambda_0_150_Log%28InverseOfLambda%29_c150_Avg_W2V.png": {
     "image/png": "[encoded data removed]"
    }
   },
   "cell_type": "markdown",
   "metadata": {},
   "source": [
    "![Plot_CVPrecision_vs_Lambda_0_150_Log%28InverseOfLambda%29_c150_Avg_W2V.png](attachment:Plot_CVPrecision_vs_Lambda_0_150_Log%28InverseOfLambda%29_c150_Avg_W2V.png)"
   ]
  },
  {
   "cell_type": "markdown",
   "metadata": {},
   "source": [
    "#### Observations :\n",
    "    The cross-validation precision is maximum when lambda ~= 99 .\n",
    "    Here lambda ranges from 0 to 150."
   ]
  },
  {
   "cell_type": "code",
   "execution_count": null,
   "metadata": {},
   "outputs": [],
   "source": []
  },
  {
   "cell_type": "markdown",
   "metadata": {},
   "source": [
    "#### Lambda range : 0 to 1500"
   ]
  },
  {
   "attachments": {
    "Plot_CVPrecision_vs_Lambda_0_1500_Log%28InverseOfLambda%29_c150_Avg_W2V.png": {
     "image/png": "[encoded data removed]"
    }
   },
   "cell_type": "markdown",
   "metadata": {},
   "source": [
    "![Plot_CVPrecision_vs_Lambda_0_1500_Log%28InverseOfLambda%29_c150_Avg_W2V.png](attachment:Plot_CVPrecision_vs_Lambda_0_1500_Log%28InverseOfLambda%29_c150_Avg_W2V.png)"
   ]
  },
  {
   "cell_type": "markdown",
   "metadata": {},
   "source": [
    "#### Observations :\n",
    "    The cross-validation precision is maximum when lambda ~= 50 .\n",
    "    Here lambda ranges from 0 to 1500."
   ]
  },
  {
   "cell_type": "code",
   "execution_count": null,
   "metadata": {},
   "outputs": [],
   "source": []
  },
  {
   "cell_type": "markdown",
   "metadata": {},
   "source": [
    "#### Hyper-parameter Choice : \n",
    "      Based on the CV plots for varying combination of lambda ranges;lambda =50, when lambda ranges between 0 and 1500 is the best choice."
   ]
  },
  {
   "cell_type": "code",
   "execution_count": null,
   "metadata": {},
   "outputs": [],
   "source": []
  },
  {
   "cell_type": "markdown",
   "metadata": {},
   "source": [
    "#### Fit the Logistic Regression model in Avg-Word2Vec case in the test set and compute the error metrics."
   ]
  },
  {
   "cell_type": "code",
   "execution_count": 79,
   "metadata": {},
   "outputs": [
    {
     "name": "stdout",
     "output_type": "stream",
     "text": [
      "Starttime : 2018-11-22 15:36:57.447849\n",
      "Endtime   : 2018-11-22 15:37:01.970791\n"
     ]
    }
   ],
   "source": [
    "# ============================== LR with lambda = optimal lambda ===============================================\n",
    "\n",
    "# Set the start time of the current cell run.\n",
    "starttime_lr_avgw2v = datetime.datetime.now()\n",
    "\n",
    "# instantiate the Logistic Regression model with lambda = 50 based on the above error plots .\n",
    "lr_optimal = LogisticRegression(penalty='l2',            # use L2 regularizer.\n",
    "                                C=(50),                  # use Inverse of Lambda.\n",
    "                                class_weight='balanced', # uses the values of y to automatically adjust weights in the input data.\n",
    "                                solver='sag')            # solver = 'sag' because of high dimension and L2 regularizer.\n",
    "\n",
    "lr_optimal.fit(X_train_stdzd, Y_train)           # fitting the Logistic Regression model.\n",
    "Y_pred_test = lr_optimal.predict(X_test_stdzd)   # predict the response from the Logistic Regression model.\n",
    "\n",
    "# Set the end time of the current cell run.\n",
    "endtime_lr_avgw2v = datetime.datetime.now()\n",
    "\n",
    "# Print the cell run duration.\n",
    "print(\"Starttime : {}\".format(starttime_lr_avgw2v))\n",
    "print(\"Endtime   : {}\".format(endtime_lr_avgw2v))"
   ]
  },
  {
   "cell_type": "code",
   "execution_count": null,
   "metadata": {},
   "outputs": [],
   "source": []
  },
  {
   "cell_type": "markdown",
   "metadata": {},
   "source": [
    "#### Plot the classifier performance metrics."
   ]
  },
  {
   "cell_type": "code",
   "execution_count": 80,
   "metadata": {},
   "outputs": [
    {
     "data": {
      "image/png": "[encoded data removed]",
      "text/plain": [
       "<matplotlib.figure.Figure at 0x24c25171780>"
      ]
     },
     "metadata": {},
     "output_type": "display_data"
    }
   ],
   "source": [
    "# evaluate the model and report the metrics.\n",
    "from sklearn.metrics import confusion_matrix\n",
    "conf_mat = confusion_matrix(Y_test, Y_pred_test)\n",
    "fig, ax = plt.subplots(figsize=(5,5))\n",
    "sns.heatmap(conf_mat, annot=True, fmt='d'\n",
    "            ,xticklabels=['negative','positive'], yticklabels=['negative','positive'])\n",
    "plt.title('Confusion Matrix : (Vectorizer = Avg-Word2Vec)')\n",
    "plt.ylabel('Actual')\n",
    "plt.xlabel('Predicted')\n",
    "plt.show()"
   ]
  },
  {
   "cell_type": "code",
   "execution_count": 479,
   "metadata": {},
   "outputs": [
    {
     "name": "stdout",
     "output_type": "stream",
     "text": [
      "1    16442\n",
      "0     3558\n",
      "Name: Comment, dtype: int64\n"
     ]
    }
   ],
   "source": [
    "#Class composition in the testset.\n",
    "dfYTest = pd.DataFrame(list(Y_test),columns=['Comment'])\n",
    "#print(list(Y_test))\n",
    "print(dfYTest[\"Comment\"].value_counts())"
   ]
  },
  {
   "cell_type": "code",
   "execution_count": 81,
   "metadata": {
    "scrolled": true
   },
   "outputs": [
    {
     "name": "stdout",
     "output_type": "stream",
     "text": [
      "Performance Metrics :\n",
      "+------------------------+--------------------+--------------------+\n",
      "| Text-VectorizationType | Performance Metric | Value              |\n",
      "+------------------------+--------------------+--------------------+\n",
      "|      Avg-Word2Vec      |      Accuracy      | 0.8824             |\n",
      "|           -            |     Precision      | 0.94889766789856   |\n",
      "|           -            |       Recall       | 0.9057292300206787 |\n",
      "|           -            |      F1 Score      | 0.9268110530246454 |\n",
      "|           -            |  ConfusionMatrix   | [[ 2756   802]     |\n",
      "|                        |                    |  [ 1550 14892]]    |\n",
      "|       ----------       |    -----------     | ----------         |\n",
      "+------------------------+--------------------+--------------------+\n"
     ]
    }
   ],
   "source": [
    "# Load the classification metrics\n",
    "from sklearn.metrics import accuracy_score\n",
    "from sklearn.metrics import precision_score\n",
    "from sklearn.metrics import recall_score\n",
    "from sklearn.metrics import f1_score\n",
    "# Load the prettytable\n",
    "from prettytable import PrettyTable\n",
    "\n",
    "# Instantiate the prettytable module.\n",
    "x = PrettyTable()\n",
    "# Set the column names for the table.\n",
    "x.field_names = [\"Text-VectorizationType\",\"Performance Metric\", \"Value\"]\n",
    "\n",
    "# Add the classification metrics to the table.\n",
    "x.add_row(['Avg-Word2Vec','Accuracy',accuracy_score(Y_test,Y_pred_test)])\n",
    "x.add_row(['-','Precision',precision_score(Y_test,Y_pred_test)])\n",
    "x.add_row(['-','Recall',recall_score(Y_test,Y_pred_test)])\n",
    "x.add_row(['-','F1 Score',f1_score(Y_test,Y_pred_test)])\n",
    "x.add_row(['-','ConfusionMatrix',confusion_matrix(Y_test, Y_pred_test)])\n",
    "x.add_row(['----------','-----------','----------'])\n",
    "\n",
    "# Add the classification metrics to the final summary table.\n",
    "summaryTable.add_row(['Avg-Word2Vec','50','Accuracy',accuracy_score(Y_test,Y_pred_test)])\n",
    "summaryTable.add_row(['-','50','Precision',precision_score(Y_test,Y_pred_test)])\n",
    "summaryTable.add_row(['-','50','Recall',recall_score(Y_test,Y_pred_test)])\n",
    "summaryTable.add_row(['-','50','F1 Score',f1_score(Y_test,Y_pred_test)])\n",
    "summaryTable.add_row(['-','50','ConfusionMatrix',confusion_matrix(Y_test, Y_pred_test)])\n",
    "summaryTable.add_row(['----------','-----------','----------','----------'])\n",
    "\n",
    "\n",
    "# Apply data alignment.\n",
    "x.align[\"Value\"] = \"l\"\n",
    "\n",
    "# Print the table.\n",
    "print(\"Performance Metrics :\")\n",
    "print(x)"
   ]
  },
  {
   "cell_type": "code",
   "execution_count": null,
   "metadata": {},
   "outputs": [],
   "source": []
  },
  {
   "cell_type": "markdown",
   "metadata": {},
   "source": [
    "#### CONCLUSION :\n",
    "\n",
    "#### Performance Metrics "
   ]
  },
  {
   "attachments": {
    "ConfusionMatrix_L2Regularizer_AvgWord2Vec.PNG": {
     "image/png": "[encoded data removed]"
    }
   },
   "cell_type": "markdown",
   "metadata": {},
   "source": [
    "![ConfusionMatrix_L2Regularizer_AvgWord2Vec.PNG](attachment:ConfusionMatrix_L2Regularizer_AvgWord2Vec.PNG)"
   ]
  },
  {
   "cell_type": "markdown",
   "metadata": {},
   "source": [
    "#### We see good precision score for the LR model with L2 Regularizer. The FalsePositive values is acceptable while FalseNegative is a concern. The text review comment has been enriched by adding contents of summary column from the Amazon Food Reviews dataset."
   ]
  },
  {
   "cell_type": "code",
   "execution_count": null,
   "metadata": {},
   "outputs": [],
   "source": []
  },
  {
   "cell_type": "markdown",
   "metadata": {},
   "source": [
    "### FINAL SUMMARY :"
   ]
  },
  {
   "cell_type": "code",
   "execution_count": 82,
   "metadata": {},
   "outputs": [
    {
     "name": "stdout",
     "output_type": "stream",
     "text": [
      "Summary :\n",
      "+------------------------+------------------------+--------------------+--------------------+\n",
      "| Text-VectorizationType | Hyper-Paramter(lambda) | Performance Metric | Value              |\n",
      "+------------------------+------------------------+--------------------+--------------------+\n",
      "|          BoW           |          1.50          |      Accuracy      | 0.91585            |\n",
      "|           -            |          1.50          |     Precision      | 0.9731965373517153 |\n",
      "|           -            |          1.50          |       Recall       | 0.923062887726554  |\n",
      "|           -            |          1.50          |      F1 Score      | 0.9474669912913194 |\n",
      "|           -            |          1.50          |  ConfusionMatrix   | [[ 3140   418]     |\n",
      "|                        |                        |                    |  [ 1265 15177]]    |\n",
      "|       ----------       |      -----------       |     ----------     | ----------         |\n",
      "|         TFIDF          |          0.15          |      Accuracy      | 0.8981             |\n",
      "|           -            |          0.15          |     Precision      | 0.9716437459070072 |\n",
      "|           -            |          0.15          |       Recall       | 0.9023841381827028 |\n",
      "|           -            |          0.15          |      F1 Score      | 0.9357341069626639 |\n",
      "|           -            |          0.15          |  ConfusionMatrix   | [[ 3125   433]     |\n",
      "|                        |                        |                    |  [ 1605 14837]]    |\n",
      "|       ----------       |      -----------       |     ----------     | ----------         |\n",
      "|        Word2Vec        |           15           |      Accuracy      | 0.85755            |\n",
      "|           -            |           15           |     Precision      | 0.96631217838765   |\n",
      "|           -            |           15           |       Recall       | 0.8565867899282326 |\n",
      "|           -            |           15           |      F1 Score      | 0.9081471451139698 |\n",
      "|           -            |           15           |  ConfusionMatrix   | [[ 3067   491]     |\n",
      "|                        |                        |                    |  [ 2358 14084]]    |\n",
      "|       ----------       |      -----------       |     ----------     | ----------         |\n",
      "|      Avg-Word2Vec      |           50           |      Accuracy      | 0.8824             |\n",
      "|           -            |           50           |     Precision      | 0.94889766789856   |\n",
      "|           -            |           50           |       Recall       | 0.9057292300206787 |\n",
      "|           -            |           50           |      F1 Score      | 0.9268110530246454 |\n",
      "|           -            |           50           |  ConfusionMatrix   | [[ 2756   802]     |\n",
      "|                        |                        |                    |  [ 1550 14892]]    |\n",
      "|       ----------       |      -----------       |     ----------     | ----------         |\n",
      "+------------------------+------------------------+--------------------+--------------------+\n"
     ]
    }
   ],
   "source": [
    "# Use a new prettytable to add BoW and tfidf rows.\n",
    "\n",
    "# Apply data alignment.\n",
    "summaryTable.align[\"Value\"] = \"l\"\n",
    "summaryTable.align[\"Hyper-Paramter(alpha)\"] = \"l\"\n",
    "\n",
    "# Print the table.\n",
    "print(\"Summary :\")\n",
    "print(summaryTable)"
   ]
  },
  {
   "cell_type": "markdown",
   "metadata": {},
   "source": [
    "#### Concluding Summary : \n",
    "#### Based on the observations from the above table, the vectorizer \"Bag of Words\" gives us the optimal metrics for the Logistic Regression Model."
   ]
  },
  {
   "cell_type": "code",
   "execution_count": null,
   "metadata": {},
   "outputs": [],
   "source": []
  },
  {
   "cell_type": "code",
   "execution_count": null,
   "metadata": {},
   "outputs": [],
   "source": []
  }
 ],
 "metadata": {
  "kernelspec": {
   "display_name": "Python 3",
   "language": "python",
   "name": "python3"
  },
  "language_info": {
   "codemirror_mode": {
    "name": "ipython",
    "version": 3
   },
   "file_extension": ".py",
   "mimetype": "text/x-python",
   "name": "python",
   "nbconvert_exporter": "python",
   "pygments_lexer": "ipython3",
   "version": "3.6.4"
  }
 },
 "nbformat": 4,
 "nbformat_minor": 2
}
